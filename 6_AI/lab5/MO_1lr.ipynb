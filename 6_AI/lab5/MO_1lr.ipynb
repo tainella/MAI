{
  "nbformat": 4,
  "nbformat_minor": 0,
  "metadata": {
    "colab": {
      "name": "MO-1lr.ipynb",
      "provenance": [],
      "collapsed_sections": []
    },
    "kernelspec": {
      "name": "python3",
      "display_name": "Python 3"
    },
    "language_info": {
      "name": "python"
    },
    "accelerator": "GPU"
  },
  "cells": [
    {
      "cell_type": "code",
      "metadata": {
        "colab": {
          "base_uri": "https://localhost:8080/"
        },
        "id": "LHnWkpD5RcEx",
        "outputId": "95433656-dd79-492c-cc2b-1e25b97e1c61"
      },
      "source": [
        "from google.colab import drive\n",
        "drive.mount('/content/gdrive/', force_remount=True)"
      ],
      "execution_count": 2,
      "outputs": [
        {
          "output_type": "stream",
          "text": [
            "Mounted at /content/gdrive/\n"
          ],
          "name": "stdout"
        }
      ]
    },
    {
      "cell_type": "code",
      "metadata": {
        "id": "tjf1NCKYS69-"
      },
      "source": [
        "import pandas as pd\n",
        "import numpy as np\n",
        "from matplotlib import pyplot as plt\n",
        "import random\n",
        "import math\n",
        "from sklearn.model_selection import train_test_split\n",
        "from sklearn.metrics import accuracy_score"
      ],
      "execution_count": 21,
      "outputs": []
    },
    {
      "cell_type": "code",
      "metadata": {
        "colab": {
          "base_uri": "https://localhost:8080/",
          "height": 224
        },
        "id": "SU0cG3MPTHyc",
        "outputId": "3860f97e-197f-4d40-f09f-e7ff04bcacec"
      },
      "source": [
        "data = pd.read_csv('/content/gdrive/MyDrive/forest_dataset.csv')\n",
        "data.head()"
      ],
      "execution_count": 13,
      "outputs": [
        {
          "output_type": "execute_result",
          "data": {
            "text/html": [
              "<div>\n",
              "<style scoped>\n",
              "    .dataframe tbody tr th:only-of-type {\n",
              "        vertical-align: middle;\n",
              "    }\n",
              "\n",
              "    .dataframe tbody tr th {\n",
              "        vertical-align: top;\n",
              "    }\n",
              "\n",
              "    .dataframe thead th {\n",
              "        text-align: right;\n",
              "    }\n",
              "</style>\n",
              "<table border=\"1\" class=\"dataframe\">\n",
              "  <thead>\n",
              "    <tr style=\"text-align: right;\">\n",
              "      <th></th>\n",
              "      <th>0</th>\n",
              "      <th>1</th>\n",
              "      <th>2</th>\n",
              "      <th>3</th>\n",
              "      <th>4</th>\n",
              "      <th>5</th>\n",
              "      <th>6</th>\n",
              "      <th>7</th>\n",
              "      <th>8</th>\n",
              "      <th>9</th>\n",
              "      <th>10</th>\n",
              "      <th>11</th>\n",
              "      <th>12</th>\n",
              "      <th>13</th>\n",
              "      <th>14</th>\n",
              "      <th>15</th>\n",
              "      <th>16</th>\n",
              "      <th>17</th>\n",
              "      <th>18</th>\n",
              "      <th>19</th>\n",
              "      <th>20</th>\n",
              "      <th>21</th>\n",
              "      <th>22</th>\n",
              "      <th>23</th>\n",
              "      <th>24</th>\n",
              "      <th>25</th>\n",
              "      <th>26</th>\n",
              "      <th>27</th>\n",
              "      <th>28</th>\n",
              "      <th>29</th>\n",
              "      <th>30</th>\n",
              "      <th>31</th>\n",
              "      <th>32</th>\n",
              "      <th>33</th>\n",
              "      <th>34</th>\n",
              "      <th>35</th>\n",
              "      <th>36</th>\n",
              "      <th>37</th>\n",
              "      <th>38</th>\n",
              "      <th>39</th>\n",
              "      <th>40</th>\n",
              "      <th>41</th>\n",
              "      <th>42</th>\n",
              "      <th>43</th>\n",
              "      <th>44</th>\n",
              "      <th>45</th>\n",
              "      <th>46</th>\n",
              "      <th>47</th>\n",
              "      <th>48</th>\n",
              "      <th>49</th>\n",
              "      <th>50</th>\n",
              "      <th>51</th>\n",
              "      <th>52</th>\n",
              "      <th>53</th>\n",
              "      <th>54</th>\n",
              "    </tr>\n",
              "  </thead>\n",
              "  <tbody>\n",
              "    <tr>\n",
              "      <th>0</th>\n",
              "      <td>2683</td>\n",
              "      <td>333</td>\n",
              "      <td>35</td>\n",
              "      <td>30</td>\n",
              "      <td>26</td>\n",
              "      <td>2743</td>\n",
              "      <td>121</td>\n",
              "      <td>173</td>\n",
              "      <td>179</td>\n",
              "      <td>6572</td>\n",
              "      <td>1</td>\n",
              "      <td>0</td>\n",
              "      <td>0</td>\n",
              "      <td>0</td>\n",
              "      <td>0</td>\n",
              "      <td>0</td>\n",
              "      <td>0</td>\n",
              "      <td>0</td>\n",
              "      <td>0</td>\n",
              "      <td>0</td>\n",
              "      <td>0</td>\n",
              "      <td>0</td>\n",
              "      <td>0</td>\n",
              "      <td>0</td>\n",
              "      <td>0</td>\n",
              "      <td>0</td>\n",
              "      <td>0</td>\n",
              "      <td>0</td>\n",
              "      <td>0</td>\n",
              "      <td>0</td>\n",
              "      <td>0</td>\n",
              "      <td>0</td>\n",
              "      <td>0</td>\n",
              "      <td>0</td>\n",
              "      <td>0</td>\n",
              "      <td>0</td>\n",
              "      <td>0</td>\n",
              "      <td>0</td>\n",
              "      <td>0</td>\n",
              "      <td>0</td>\n",
              "      <td>0</td>\n",
              "      <td>0</td>\n",
              "      <td>1</td>\n",
              "      <td>0</td>\n",
              "      <td>0</td>\n",
              "      <td>0</td>\n",
              "      <td>0</td>\n",
              "      <td>0</td>\n",
              "      <td>0</td>\n",
              "      <td>0</td>\n",
              "      <td>0</td>\n",
              "      <td>0</td>\n",
              "      <td>0</td>\n",
              "      <td>0</td>\n",
              "      <td>2</td>\n",
              "    </tr>\n",
              "    <tr>\n",
              "      <th>1</th>\n",
              "      <td>2915</td>\n",
              "      <td>90</td>\n",
              "      <td>8</td>\n",
              "      <td>216</td>\n",
              "      <td>11</td>\n",
              "      <td>4433</td>\n",
              "      <td>232</td>\n",
              "      <td>228</td>\n",
              "      <td>129</td>\n",
              "      <td>4019</td>\n",
              "      <td>1</td>\n",
              "      <td>0</td>\n",
              "      <td>0</td>\n",
              "      <td>0</td>\n",
              "      <td>0</td>\n",
              "      <td>0</td>\n",
              "      <td>0</td>\n",
              "      <td>0</td>\n",
              "      <td>0</td>\n",
              "      <td>0</td>\n",
              "      <td>0</td>\n",
              "      <td>0</td>\n",
              "      <td>0</td>\n",
              "      <td>0</td>\n",
              "      <td>0</td>\n",
              "      <td>0</td>\n",
              "      <td>0</td>\n",
              "      <td>0</td>\n",
              "      <td>0</td>\n",
              "      <td>0</td>\n",
              "      <td>0</td>\n",
              "      <td>0</td>\n",
              "      <td>0</td>\n",
              "      <td>0</td>\n",
              "      <td>0</td>\n",
              "      <td>0</td>\n",
              "      <td>0</td>\n",
              "      <td>0</td>\n",
              "      <td>0</td>\n",
              "      <td>0</td>\n",
              "      <td>0</td>\n",
              "      <td>0</td>\n",
              "      <td>0</td>\n",
              "      <td>1</td>\n",
              "      <td>0</td>\n",
              "      <td>0</td>\n",
              "      <td>0</td>\n",
              "      <td>0</td>\n",
              "      <td>0</td>\n",
              "      <td>0</td>\n",
              "      <td>0</td>\n",
              "      <td>0</td>\n",
              "      <td>0</td>\n",
              "      <td>0</td>\n",
              "      <td>1</td>\n",
              "    </tr>\n",
              "    <tr>\n",
              "      <th>2</th>\n",
              "      <td>2941</td>\n",
              "      <td>162</td>\n",
              "      <td>7</td>\n",
              "      <td>698</td>\n",
              "      <td>76</td>\n",
              "      <td>2783</td>\n",
              "      <td>227</td>\n",
              "      <td>242</td>\n",
              "      <td>148</td>\n",
              "      <td>1784</td>\n",
              "      <td>0</td>\n",
              "      <td>0</td>\n",
              "      <td>1</td>\n",
              "      <td>0</td>\n",
              "      <td>0</td>\n",
              "      <td>0</td>\n",
              "      <td>0</td>\n",
              "      <td>0</td>\n",
              "      <td>0</td>\n",
              "      <td>0</td>\n",
              "      <td>0</td>\n",
              "      <td>0</td>\n",
              "      <td>0</td>\n",
              "      <td>0</td>\n",
              "      <td>0</td>\n",
              "      <td>0</td>\n",
              "      <td>0</td>\n",
              "      <td>0</td>\n",
              "      <td>0</td>\n",
              "      <td>0</td>\n",
              "      <td>0</td>\n",
              "      <td>0</td>\n",
              "      <td>0</td>\n",
              "      <td>0</td>\n",
              "      <td>0</td>\n",
              "      <td>0</td>\n",
              "      <td>0</td>\n",
              "      <td>0</td>\n",
              "      <td>0</td>\n",
              "      <td>1</td>\n",
              "      <td>0</td>\n",
              "      <td>0</td>\n",
              "      <td>0</td>\n",
              "      <td>0</td>\n",
              "      <td>0</td>\n",
              "      <td>0</td>\n",
              "      <td>0</td>\n",
              "      <td>0</td>\n",
              "      <td>0</td>\n",
              "      <td>0</td>\n",
              "      <td>0</td>\n",
              "      <td>0</td>\n",
              "      <td>0</td>\n",
              "      <td>0</td>\n",
              "      <td>2</td>\n",
              "    </tr>\n",
              "    <tr>\n",
              "      <th>3</th>\n",
              "      <td>3096</td>\n",
              "      <td>60</td>\n",
              "      <td>17</td>\n",
              "      <td>170</td>\n",
              "      <td>3</td>\n",
              "      <td>3303</td>\n",
              "      <td>231</td>\n",
              "      <td>202</td>\n",
              "      <td>99</td>\n",
              "      <td>5370</td>\n",
              "      <td>1</td>\n",
              "      <td>0</td>\n",
              "      <td>0</td>\n",
              "      <td>0</td>\n",
              "      <td>0</td>\n",
              "      <td>0</td>\n",
              "      <td>0</td>\n",
              "      <td>0</td>\n",
              "      <td>0</td>\n",
              "      <td>0</td>\n",
              "      <td>0</td>\n",
              "      <td>0</td>\n",
              "      <td>0</td>\n",
              "      <td>0</td>\n",
              "      <td>0</td>\n",
              "      <td>0</td>\n",
              "      <td>0</td>\n",
              "      <td>0</td>\n",
              "      <td>0</td>\n",
              "      <td>0</td>\n",
              "      <td>0</td>\n",
              "      <td>0</td>\n",
              "      <td>0</td>\n",
              "      <td>0</td>\n",
              "      <td>0</td>\n",
              "      <td>0</td>\n",
              "      <td>0</td>\n",
              "      <td>0</td>\n",
              "      <td>0</td>\n",
              "      <td>0</td>\n",
              "      <td>0</td>\n",
              "      <td>0</td>\n",
              "      <td>0</td>\n",
              "      <td>1</td>\n",
              "      <td>0</td>\n",
              "      <td>0</td>\n",
              "      <td>0</td>\n",
              "      <td>0</td>\n",
              "      <td>0</td>\n",
              "      <td>0</td>\n",
              "      <td>0</td>\n",
              "      <td>0</td>\n",
              "      <td>0</td>\n",
              "      <td>0</td>\n",
              "      <td>1</td>\n",
              "    </tr>\n",
              "    <tr>\n",
              "      <th>4</th>\n",
              "      <td>2999</td>\n",
              "      <td>66</td>\n",
              "      <td>8</td>\n",
              "      <td>488</td>\n",
              "      <td>37</td>\n",
              "      <td>1532</td>\n",
              "      <td>228</td>\n",
              "      <td>225</td>\n",
              "      <td>131</td>\n",
              "      <td>2290</td>\n",
              "      <td>0</td>\n",
              "      <td>0</td>\n",
              "      <td>1</td>\n",
              "      <td>0</td>\n",
              "      <td>0</td>\n",
              "      <td>0</td>\n",
              "      <td>0</td>\n",
              "      <td>0</td>\n",
              "      <td>0</td>\n",
              "      <td>0</td>\n",
              "      <td>0</td>\n",
              "      <td>0</td>\n",
              "      <td>0</td>\n",
              "      <td>0</td>\n",
              "      <td>0</td>\n",
              "      <td>0</td>\n",
              "      <td>0</td>\n",
              "      <td>0</td>\n",
              "      <td>0</td>\n",
              "      <td>0</td>\n",
              "      <td>0</td>\n",
              "      <td>0</td>\n",
              "      <td>0</td>\n",
              "      <td>0</td>\n",
              "      <td>0</td>\n",
              "      <td>0</td>\n",
              "      <td>1</td>\n",
              "      <td>0</td>\n",
              "      <td>0</td>\n",
              "      <td>0</td>\n",
              "      <td>0</td>\n",
              "      <td>0</td>\n",
              "      <td>0</td>\n",
              "      <td>0</td>\n",
              "      <td>0</td>\n",
              "      <td>0</td>\n",
              "      <td>0</td>\n",
              "      <td>0</td>\n",
              "      <td>0</td>\n",
              "      <td>0</td>\n",
              "      <td>0</td>\n",
              "      <td>0</td>\n",
              "      <td>0</td>\n",
              "      <td>0</td>\n",
              "      <td>2</td>\n",
              "    </tr>\n",
              "  </tbody>\n",
              "</table>\n",
              "</div>"
            ],
            "text/plain": [
              "      0    1   2    3   4     5    6    7  ...  47  48  49  50  51  52  53  54\n",
              "0  2683  333  35   30  26  2743  121  173  ...   0   0   0   0   0   0   0   2\n",
              "1  2915   90   8  216  11  4433  232  228  ...   0   0   0   0   0   0   0   1\n",
              "2  2941  162   7  698  76  2783  227  242  ...   0   0   0   0   0   0   0   2\n",
              "3  3096   60  17  170   3  3303  231  202  ...   0   0   0   0   0   0   0   1\n",
              "4  2999   66   8  488  37  1532  228  225  ...   0   0   0   0   0   0   0   2\n",
              "\n",
              "[5 rows x 55 columns]"
            ]
          },
          "metadata": {
            "tags": []
          },
          "execution_count": 13
        }
      ]
    },
    {
      "cell_type": "code",
      "metadata": {
        "id": "CnmZZvBqTYSr"
      },
      "source": [
        "labels = data[data.columns[-1]].values #классы\n",
        "feature_matrix = data[data.columns[:-1]].values #признаки"
      ],
      "execution_count": 5,
      "outputs": []
    },
    {
      "cell_type": "code",
      "metadata": {
        "colab": {
          "base_uri": "https://localhost:8080/"
        },
        "id": "ku6TItnEVXfb",
        "outputId": "04ff4a13-20d1-4179-bde3-c7f89724c390"
      },
      "source": [
        "#поиск пропущенных значений\n",
        "values = []\n",
        "for column in data.columns:\n",
        "  x = data[column].isna().sum() #sum(data[column] == np.nan)\n",
        "  values.append(str(x))\n",
        "table_nan = pd.DataFrame([values], columns = data.columns)\n",
        "\n",
        "print(table_nan)\n",
        "\n",
        "if data.isna().values.any(): #при обнаружении пропущенных значений заполнить их нулями, в данном случае не запускается\n",
        "    data = data.fillna(0)\n",
        "        \n",
        "if data.isna().values.any():\n",
        "    print('Остались NaN')\n",
        "\n",
        "#пропущенных значений не обнаружено"
      ],
      "execution_count": 5,
      "outputs": [
        {
          "output_type": "stream",
          "text": [
            "   0  1  2  3  4  5  6  7  8  9 10 11 12  ... 42 43 44 45 46 47 48 49 50 51 52 53 54\n",
            "0  0  0  0  0  0  0  0  0  0  0  0  0  0  ...  0  0  0  0  0  0  0  0  0  0  0  0  0\n",
            "\n",
            "[1 rows x 55 columns]\n"
          ],
          "name": "stdout"
        }
      ]
    },
    {
      "cell_type": "code",
      "metadata": {
        "id": "p_9ProCXYmpF"
      },
      "source": [
        "num_cols = []\n",
        "for i in range(10):\n",
        "  num_cols.append(str(i))\n",
        "\n",
        "cat_cols = []\n",
        "for i in range(10,55):\n",
        "  cat_cols.append(str(i))"
      ],
      "execution_count": 6,
      "outputs": []
    },
    {
      "cell_type": "code",
      "metadata": {
        "colab": {
          "base_uri": "https://localhost:8080/",
          "height": 1000
        },
        "id": "9zEcvrPWW3Gb",
        "outputId": "811562f4-8199-49c9-c328-276306320693"
      },
      "source": [
        "#анализ данных\n",
        "\n",
        "import seaborn as sns\n",
        "\n",
        "f = plt.figure()\n",
        "f.set_figwidth(10)\n",
        "f.set_figheight(20)\n",
        "sns.boxplot(data=data[num_cols])\n",
        "fig, axes = plt.subplots(23, 2, figsize=(20, 50))\n",
        "i = 0\n",
        "j = 0\n",
        "for column in cat_cols:\n",
        "    x1 = data[column].value_counts()\n",
        "    new = sns.barplot(ax=axes[i, j], x=x1.index, y=x1)\n",
        "    j += 1\n",
        "    if j == 2:\n",
        "        i += 1\n",
        "        j = 0\n",
        "#распределение целевой переменной - последний график"
      ],
      "execution_count": 7,
      "outputs": [
        {
          "output_type": "display_data",
          "data": {
            "image/png": "[encoded data removed]",
            "text/plain": [
              "<Figure size 720x1440 with 1 Axes>"
            ]
          },
          "metadata": {
            "tags": [],
            "needs_background": "light"
          }
        },
        {
          "output_type": "display_data",
          "data": {
            "image/png": "[encoded data removed]",
            "text/plain": [
              "<Figure size 1440x3600 with 46 Axes>"
            ]
          },
          "metadata": {
            "tags": [],
            "needs_background": "light"
          }
        }
      ]
    },
    {
      "cell_type": "code",
      "metadata": {
        "id": "tyxF2gHwY_pW"
      },
      "source": [
        "def classifyKNN (trainData, testData, k, numberOfClasses):\n",
        "    #Euclidean distance between 2-dimensional point\n",
        "    def dist (a, b):\n",
        "      res = 0\n",
        "      for i in range(54):\n",
        "        res += (int(a[i]) - int(b[i]))**2\n",
        "      return math.sqrt(res)\n",
        "    testLabels = []\n",
        "    for j, testPoint in testData.iterrows():\n",
        "        #Claculate distances between test point and all of the train points\n",
        "        testDist = []\n",
        "        for i, row in trainData.iterrows():\n",
        "          testDist.append([dist(testPoint, row), row[54]])\n",
        "        #How many points of each class among nearest K\n",
        "        stat = [0 for i in range(numberOfClasses)]\n",
        "        for d in sorted(testDist)[0:k]:\n",
        "            #print(d)\n",
        "            stat[d[1]-1] += 1/(d[0]+0.0000001)\n",
        "        #Assign a class with the most number of occurences among K nearest neighbours\n",
        "        testLabels.append( sorted(zip(stat, range(numberOfClasses)), reverse=True)[0][1] )\n",
        "    print(testLabels)\n",
        "    return testLabels"
      ],
      "execution_count": 20,
      "outputs": []
    },
    {
      "cell_type": "code",
      "metadata": {
        "colab": {
          "base_uri": "https://localhost:8080/"
        },
        "id": "DU7os3CNX0Y4",
        "outputId": "4f5fea6e-1fac-4305-e5fd-b35f858dce6a"
      },
      "source": [
        "train, test = train_test_split(data, test_size= 0.7)\n",
        "train, test = train_test_split(train, test_size= 0.3)\n",
        "len(train)"
      ],
      "execution_count": 63,
      "outputs": [
        {
          "output_type": "execute_result",
          "data": {
            "text/plain": [
              "2100"
            ]
          },
          "metadata": {
            "tags": []
          },
          "execution_count": 63
        }
      ]
    },
    {
      "cell_type": "code",
      "metadata": {
        "colab": {
          "base_uri": "https://localhost:8080/"
        },
        "id": "5o8-GzFB3-Vb",
        "outputId": "ceda5e40-4915-451b-890c-e47922f9642a"
      },
      "source": [
        "testDataLabels = classifyKNN (train, test, 3, 7)"
      ],
      "execution_count": 64,
      "outputs": [
        {
          "output_type": "stream",
          "text": [
            "[1, 2, 1, 1, 0, 4, 1, 2, 1, 1, 0, 1, 1, 1, 1, 1, 1, 1, 1, 1, 1, 1, 1, 2, 2, 2, 1, 0, 0, 0, 0, 1, 0, 0, 0, 0, 2, 0, 1, 5, 0, 0, 6, 1, 1, 2, 0, 0, 2, 1, 1, 0, 0, 1, 0, 0, 0, 0, 1, 1, 5, 1, 0, 6, 0, 1, 0, 1, 0, 1, 1, 1, 2, 1, 0, 1, 1, 2, 0, 1, 2, 1, 2, 0, 1, 6, 0, 1, 1, 1, 0, 1, 1, 1, 1, 0, 0, 1, 0, 0, 5, 1, 1, 0, 1, 1, 0, 0, 0, 0, 0, 0, 1, 0, 1, 0, 1, 2, 0, 5, 1, 5, 0, 5, 1, 1, 1, 0, 0, 1, 5, 0, 1, 1, 1, 1, 1, 0, 1, 1, 1, 0, 1, 0, 0, 1, 0, 0, 2, 0, 1, 1, 3, 1, 0, 1, 1, 0, 1, 1, 0, 0, 1, 0, 1, 1, 6, 1, 0, 1, 0, 0, 0, 0, 0, 1, 1, 2, 1, 6, 2, 5, 0, 1, 1, 1, 0, 1, 0, 1, 1, 0, 0, 1, 1, 1, 0, 0, 0, 1, 1, 1, 1, 0, 5, 1, 0, 0, 0, 0, 1, 1, 0, 2, 1, 0, 1, 1, 1, 1, 6, 0, 1, 1, 1, 1, 0, 1, 2, 0, 0, 1, 1, 1, 2, 1, 4, 5, 1, 0, 0, 0, 1, 1, 0, 1, 0, 0, 1, 2, 1, 1, 0, 4, 1, 1, 1, 1, 0, 0, 1, 0, 2, 1, 0, 0, 1, 0, 1, 1, 1, 1, 1, 0, 1, 1, 0, 0, 1, 1, 1, 1, 0, 2, 1, 0, 1, 1, 2, 0, 2, 1, 1, 1, 1, 0, 0, 1, 1, 2, 0, 0, 1, 4, 1, 0, 0, 4, 6, 0, 5, 1, 1, 1, 0, 1, 1, 0, 1, 0, 0, 1, 1, 0, 0, 1, 1, 0, 1, 1, 0, 0, 1, 0, 0, 1, 0, 1, 0, 0, 2, 0, 1, 1, 1, 0, 0, 0, 4, 6, 1, 0, 1, 2, 0, 2, 0, 0, 0, 0, 1, 0, 2, 2, 0, 1, 2, 1, 0, 1, 1, 0, 1, 1, 1, 1, 1, 0, 1, 1, 5, 1, 1, 0, 0, 4, 1, 1, 2, 0, 1, 0, 1, 0, 5, 0, 1, 0, 0, 1, 1, 1, 0, 1, 0, 1, 1, 1, 5, 6, 0, 0, 1, 0, 2, 1, 0, 1, 0, 1, 2, 0, 1, 1, 0, 0, 0, 1, 1, 1, 0, 1, 1, 1, 1, 1, 1, 1, 1, 0, 1, 0, 1, 1, 0, 0, 0, 0, 1, 0, 0, 0, 5, 1, 4, 0, 1, 0, 1, 1, 1, 0, 4, 1, 0, 1, 0, 1, 0, 0, 0, 1, 1, 0, 6, 0, 1, 1, 1, 1, 1, 1, 0, 1, 1, 5, 0, 2, 1, 1, 0, 0, 0, 1, 1, 1, 0, 1, 0, 1, 0, 6, 1, 1, 0, 1, 2, 0, 6, 0, 0, 1, 0, 1, 4, 0, 1, 0, 1, 0, 1, 0, 1, 1, 0, 0, 1, 0, 2, 1, 1, 0, 0, 0, 0, 0, 2, 1, 0, 0, 5, 1, 1, 2, 0, 0, 0, 0, 2, 0, 1, 1, 0, 1, 1, 1, 1, 0, 0, 1, 0, 0, 0, 1, 4, 0, 0, 0, 0, 1, 0, 2, 0, 0, 1, 0, 0, 2, 1, 0, 0, 1, 1, 1, 1, 1, 0, 1, 1, 0, 1, 0, 1, 2, 2, 2, 0, 1, 0, 1, 1, 1, 2, 0, 1, 1, 0, 0, 1, 0, 6, 1, 5, 1, 1, 1, 2, 1, 1, 1, 0, 1, 1, 0, 2, 1, 0, 2, 1, 1, 0, 1, 2, 1, 0, 0, 1, 6, 2, 0, 0, 2, 0, 0, 0, 0, 0, 0, 0, 1, 1, 0, 1, 1, 5, 6, 1, 1, 6, 1, 0, 5, 5, 1, 1, 1, 0, 1, 6, 1, 0, 1, 0, 1, 1, 0, 1, 1, 0, 1, 0, 2, 1, 0, 1, 0, 1, 0, 1, 0, 1, 1, 0, 0, 0, 1, 1, 2, 2, 0, 1, 1, 1, 0, 1, 4, 1, 1, 0, 1, 1, 0, 0, 2, 5, 1, 1, 0, 0, 2, 0, 1, 1, 1, 0, 1, 1, 1, 2, 0, 1, 1, 1, 1, 1, 1, 1, 4, 1, 1, 1, 2, 0, 1, 3, 1, 1, 1, 1, 0, 6, 0, 1, 5, 1, 0, 0, 0, 1, 0, 0, 0, 0, 1, 0, 0, 1, 0, 1, 1, 1, 1, 1, 1, 1, 1, 0, 1, 1, 1, 1, 2, 1, 0, 0, 2, 0, 0, 1, 0, 6, 1, 0, 6, 1, 1, 0, 2, 1, 0, 1, 0, 2, 1, 0, 1, 1, 0, 0, 1, 0, 1, 0, 1, 0, 1, 1, 5, 1, 0, 1, 0, 1, 0, 0, 1, 0, 1, 1, 1, 1, 1, 1, 4, 0, 0, 1, 0, 1, 1, 0, 0, 0, 0, 0, 1, 1, 1, 1, 4, 0, 1, 0, 5, 1, 1, 0, 0, 0, 1, 0, 1, 1, 0, 2, 0, 1, 0, 0, 4, 0, 1, 1, 0, 1, 1, 0, 0, 1, 1, 1, 0, 0, 0, 1, 0, 0, 0, 1, 1, 0, 1, 0, 0, 0, 0, 1, 1, 1, 0]\n"
          ],
          "name": "stdout"
        }
      ]
    },
    {
      "cell_type": "code",
      "metadata": {
        "colab": {
          "base_uri": "https://localhost:8080/"
        },
        "id": "bGwgQprKiXj5",
        "outputId": "498762eb-5bc3-420f-d602-9f2139ae4b43"
      },
      "source": [
        "testData = test\n",
        "print('RESULTS:')\n",
        "sum_ = 0\n",
        "j = 0\n",
        "for i, row in testData.iterrows():\n",
        "  sum_ += int((testDataLabels[j]+1)==row[54])\n",
        "  j += 1\n",
        "sum_ /= float(len(testData))\n",
        "print('Accuracy: ', sum_ )"
      ],
      "execution_count": 65,
      "outputs": [
        {
          "output_type": "stream",
          "text": [
            "RESULTS:\n",
            "Accuracy:  0.6844444444444444\n"
          ],
          "name": "stdout"
        }
      ]
    },
    {
      "cell_type": "code",
      "metadata": {
        "id": "qxmxU1TgOrgj"
      },
      "source": [
        "train, test = train_test_split(data, test_size= 0.7)\n",
        "train, test = train_test_split(train, test_size= 0.3)"
      ],
      "execution_count": 30,
      "outputs": []
    },
    {
      "cell_type": "code",
      "metadata": {
        "id": "14mpfkU64leE"
      },
      "source": [
        "from sklearn.neighbors import KNeighborsClassifier\n",
        "\n",
        "optimal_clf = KNeighborsClassifier(n_neighbors = 3, weights='distance')\n",
        "optimal_clf.fit(train.iloc[:, :-1], train.iloc[:,-1])\n",
        "pred_prob = optimal_clf.predict(test.iloc[:, :-1])"
      ],
      "execution_count": 25,
      "outputs": []
    },
    {
      "cell_type": "code",
      "metadata": {
        "colab": {
          "base_uri": "https://localhost:8080/"
        },
        "id": "fYhtoxmhMQRS",
        "outputId": "f5c88dbe-718d-46af-9bca-db514ac74de9"
      },
      "source": [
        "accuracy_score(test.iloc[:,-1],pred_prob)"
      ],
      "execution_count": 26,
      "outputs": [
        {
          "output_type": "execute_result",
          "data": {
            "text/plain": [
              "0.66"
            ]
          },
          "metadata": {
            "tags": []
          },
          "execution_count": 26
        }
      ]
    },
    {
      "cell_type": "code",
      "metadata": {
        "id": "dRUH2loZP5K-"
      },
      "source": [
        "#Байесовский классификатор\n",
        "\n",
        "from __future__ import division\n",
        "from collections import defaultdict\n",
        "from math import log\n",
        "\n",
        "def btrain(feats, labels):\n",
        "    classes, freq = defaultdict(lambda:0), defaultdict(lambda:0)\n",
        "    for i, testPoint in feats.iterrows():\n",
        "      i_feat = testPoint\n",
        "      i_label = labels[i]\n",
        "      classes[i_label] += 1                 # count classes frequencies\n",
        "      for i_i_feat in i_feat:\n",
        "        freq[i_label, i_i_feat] += 1          # count features frequencies\n",
        "    for label, feat in freq:                # normalize features frequencies\n",
        "        freq[label, feat] /= classes[label]\n",
        "    for c in classes:                       # normalize classes frequencies\n",
        "        classes[c] /= len(labels)\n",
        "\n",
        "    return classes, freq                    # return P(C) and P(O|C)\n",
        "\n",
        "def bclassify(classifier, feats):\n",
        "    classes, prob = classifier\n",
        "    return min(classes.keys(),              # calculate argmin(-log(C|O))\n",
        "        key = lambda cl: -log(classes[cl]) + \\\n",
        "            sum(-log(prob.get((cl,feat), 10**(-7))) for feat in feats))"
      ],
      "execution_count": 66,
      "outputs": []
    },
    {
      "cell_type": "code",
      "metadata": {
        "id": "URfTHnXITJlE"
      },
      "source": [
        "#classifier = btrain(pd.DataFrame(data=train.iloc[:, :-1]))\n",
        "classifier = btrain(train.iloc[:, :-1], train.iloc[:,-1])\n",
        "\n",
        "preds = []\n",
        "testX = test.iloc[:, :-1]\n",
        "for i, testPoint in testX.iterrows():\n",
        "  preds.append(bclassify(classifier, testPoint))"
      ],
      "execution_count": 68,
      "outputs": []
    },
    {
      "cell_type": "code",
      "metadata": {
        "colab": {
          "base_uri": "https://localhost:8080/"
        },
        "id": "PFDmQ93eTda5",
        "outputId": "eccf292f-096a-4056-a539-03ad57e36b75"
      },
      "source": [
        "accuracy_score(test.iloc[:,-1], preds)"
      ],
      "execution_count": 69,
      "outputs": [
        {
          "output_type": "execute_result",
          "data": {
            "text/plain": [
              "0.4866666666666667"
            ]
          },
          "metadata": {
            "tags": []
          },
          "execution_count": 69
        }
      ]
    },
    {
      "cell_type": "code",
      "metadata": {
        "colab": {
          "base_uri": "https://localhost:8080/"
        },
        "id": "hN-k4-8PjvF-",
        "outputId": "4b89c377-df65-4e69-cdb4-a8eb23673a6c"
      },
      "source": [
        "from sklearn.naive_bayes import GaussianNB\n",
        "model = GaussianNB()\n",
        "\n",
        "model.fit(train.iloc[:, :-1], train.iloc[:,-1])\n",
        "predicted = model.predict(testX)\n",
        "accuracy_score(test.iloc[:,-1], predicted)"
      ],
      "execution_count": 70,
      "outputs": [
        {
          "output_type": "execute_result",
          "data": {
            "text/plain": [
              "0.3988888888888889"
            ]
          },
          "metadata": {
            "tags": []
          },
          "execution_count": 70
        }
      ]
    },
    {
      "cell_type": "code",
      "metadata": {
        "id": "gXw_e-BQklpt"
      },
      "source": [
        ""
      ],
      "execution_count": null,
      "outputs": []
    }
  ]
}