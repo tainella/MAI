{
  "nbformat": 4,
  "nbformat_minor": 0,
  "metadata": {
    "colab": {
      "name": "Preceptron.ipynb",
      "provenance": [],
      "collapsed_sections": []
    },
    "kernelspec": {
      "name": "python3",
      "display_name": "Python 3"
    },
    "language_info": {
      "name": "python"
    }
  },
  "cells": [
    {
      "cell_type": "code",
      "metadata": {
        "id": "ONERvB2YobzT"
      },
      "source": [
        "import pandas as pd\n",
        "import numpy as np\n",
        "import random\n",
        "import matplotlib.pyplot as plt"
      ],
      "execution_count": 54,
      "outputs": []
    },
    {
      "cell_type": "code",
      "metadata": {
        "id": "tJNlbCqJoghZ"
      },
      "source": [
        "m1 = np.array([[4.3, 2.3, 3.6, 4.8, 2.8, -3.3],[2.2, -4.4, 4.3, 3.5, 0.1, -1.1],[1, 0, 1, 1, 1, 0]])"
      ],
      "execution_count": 55,
      "outputs": []
    },
    {
      "cell_type": "code",
      "metadata": {
        "colab": {
          "base_uri": "https://localhost:8080/"
        },
        "id": "lVYJOaxPpHUb",
        "outputId": "50c2ddb3-770e-4711-af4a-46fb9b784aea"
      },
      "source": [
        "m1"
      ],
      "execution_count": 56,
      "outputs": [
        {
          "output_type": "execute_result",
          "data": {
            "text/plain": [
              "array([[ 4.3,  2.3,  3.6,  4.8,  2.8, -3.3],\n",
              "       [ 2.2, -4.4,  4.3,  3.5,  0.1, -1.1],\n",
              "       [ 1. ,  0. ,  1. ,  1. ,  1. ,  0. ]])"
            ]
          },
          "metadata": {},
          "execution_count": 56
        }
      ]
    },
    {
      "cell_type": "code",
      "metadata": {
        "id": "Psgs73W6pL8v"
      },
      "source": [
        "class Preceptron(object):\n",
        "  def __init__(self, eps = 0.0001, iter = 15):\n",
        "    self.epsilon = eps\n",
        "    self.iterations = iter\n",
        "    self.th = random.random()\n",
        "\n",
        "  def predict_proba(self, X):\n",
        "    return np.dot(X, self.w) + self.th\n",
        "  \n",
        "  def predict(self, X):\n",
        "    r = np.dot(X, self.w) + self.th\n",
        "    return r >= 0\n",
        "  \n",
        "  def fit(self, X, y):\n",
        "      np.random.seed(42)\n",
        "      self.w = np.random.rand(X.shape[1])\n",
        "      loss = []\n",
        "      for i in range(self.iterations):\n",
        "        er = 0\n",
        "        for xi, yi in zip(X, y):\n",
        "          pred = self.predict(xi)\n",
        "          #er += pred - yi\n",
        "          if (pred != yi):\n",
        "            er += 1\n",
        "            self.w -= self.epsilon * np.dot(xi.transpose(), pred - yi)\n",
        "            self.th -= self.epsilon * (pred - yi)\n",
        "        er = er / len(y)\n",
        "        loss.append(er)\n",
        "      return loss"
      ],
      "execution_count": 207,
      "outputs": []
    },
    {
      "cell_type": "code",
      "metadata": {
        "id": "QYqrU_7MrHZg"
      },
      "source": [
        "p = Preceptron(iter = 5)"
      ],
      "execution_count": 221,
      "outputs": []
    },
    {
      "cell_type": "code",
      "metadata": {
        "colab": {
          "base_uri": "https://localhost:8080/"
        },
        "id": "STSCSF-Q0gSF",
        "outputId": "ba1d5a3f-7eb0-473d-c8ec-eeca06659404"
      },
      "source": [
        "X = m1[:-1].transpose()\n",
        "print(X.shape)\n",
        "y = m1[2].transpose()\n",
        "print(y.shape)"
      ],
      "execution_count": 222,
      "outputs": [
        {
          "output_type": "stream",
          "name": "stdout",
          "text": [
            "(6, 2)\n",
            "(6,)\n"
          ]
        }
      ]
    },
    {
      "cell_type": "code",
      "metadata": {
        "id": "GGBLa50n0EZY"
      },
      "source": [
        "l = p.fit(X, y)"
      ],
      "execution_count": 223,
      "outputs": []
    },
    {
      "cell_type": "code",
      "metadata": {
        "colab": {
          "base_uri": "https://localhost:8080/",
          "height": 282
        },
        "id": "VehfPcQBAFv0",
        "outputId": "d4b31489-b050-44e5-dcb3-37dbae9ba5e6"
      },
      "source": [
        "plt.plot(l)"
      ],
      "execution_count": 224,
      "outputs": [
        {
          "output_type": "execute_result",
          "data": {
            "text/plain": [
              "[<matplotlib.lines.Line2D at 0x7f65d831da10>]"
            ]
          },
          "metadata": {},
          "execution_count": 224
        },
        {
          "output_type": "display_data",
          "data": {
            "image/png": "[encoded data removed]",
            "text/plain": [
              "<Figure size 432x288 with 1 Axes>"
            ]
          },
          "metadata": {
            "needs_background": "light"
          }
        }
      ]
    },
    {
      "cell_type": "code",
      "metadata": {
        "colab": {
          "base_uri": "https://localhost:8080/"
        },
        "id": "fMXzFGMrElWL",
        "outputId": "15aae9f2-85c3-408d-c2b9-cb29147e55e1"
      },
      "source": [
        "#проверка на рандомных точках\n",
        "xx = np.array([[7],[2]]).transpose()\n",
        "print(xx)\n",
        "print(p.predict(xx))\n",
        "\n",
        "xx = np.array([[7],[-6]]).transpose()\n",
        "print(xx)\n",
        "print(p.predict(xx))"
      ],
      "execution_count": 215,
      "outputs": [
        {
          "output_type": "stream",
          "name": "stdout",
          "text": [
            "[[7 2]]\n",
            "[ True]\n",
            "[[ 7 -6]]\n",
            "[False]\n"
          ]
        }
      ]
    },
    {
      "cell_type": "code",
      "metadata": {
        "colab": {
          "base_uri": "https://localhost:8080/",
          "height": 483
        },
        "id": "ip7-a6TeOjtP",
        "outputId": "368ecd81-c3ad-45f4-f384-29958485712b"
      },
      "source": [
        "from matplotlib.colors import ListedColormap\n",
        "\n",
        "plt.figure(figsize=(15,8))\n",
        "eps = 0.1\n",
        "xx, yy = np.meshgrid(np.linspace(np.max(X[:,0]) * (-1) - eps, np.max(X[:,0]) + eps, 200),\n",
        "                     np.linspace(np.min(X[:,1]) - eps, np.max(X[:,1]) + eps, 200))\n",
        "Z = p.predict(np.c_[xx.ravel(), yy.ravel()])\n",
        "Z = Z.reshape(xx.shape)\n",
        "cmap_light = ListedColormap(['#FFAAAA', '#AAFFAA'])\n",
        "plt.pcolormesh(xx, yy, Z, cmap=cmap_light)\n",
        "\n",
        "plt.scatter([4.3, 3.6, 4.8, 2.8],[2.2, 4.3, 3.5, 0.1], c = 'green')\n",
        "plt.scatter([2.3, -3.3], [-4.4, -1.1], c = 'red')\n",
        "plt.plot([0, 0],[-5, 5], c = \"black\")\n",
        "plt.plot([-5, 5],[0, 0], c = \"black\")\n",
        "plt.show()"
      ],
      "execution_count": 216,
      "outputs": [
        {
          "output_type": "display_data",
          "data": {
            "image/png": "[encoded data removed]",
            "text/plain": [
              "<Figure size 1080x576 with 1 Axes>"
            ]
          },
          "metadata": {
            "needs_background": "light"
          }
        }
      ]
    },
    {
      "cell_type": "code",
      "metadata": {
        "colab": {
          "base_uri": "https://localhost:8080/"
        },
        "id": "_Q7XEVB7RRqf",
        "outputId": "ee76916d-22ba-4c0e-db6d-306e4015f073"
      },
      "source": [
        "#изменение обучающего множества чтобы сделать линейно неразделимым - поменяю класс у 4 точки на противоположный\n",
        "\n",
        "m2 =  np.array([[4.3, 2.3, 3.6, 4.8, 2.8, -3.3, 3.0],[2.2, -4.4, 4.3, 3.5, 0.1, -1.1, 0.5],[1, 0, 1, 0, 1, 0, 0]])\n",
        "X2 = m2[:-1].transpose()\n",
        "print(X2.shape)\n",
        "y2 = m2[2].transpose()\n",
        "print(y2.shape)"
      ],
      "execution_count": 217,
      "outputs": [
        {
          "output_type": "stream",
          "name": "stdout",
          "text": [
            "(7, 2)\n",
            "(7,)\n"
          ]
        }
      ]
    },
    {
      "cell_type": "code",
      "metadata": {
        "id": "sHDZxa5nVvUg"
      },
      "source": [
        "p2 = Preceptron(iter = 50)"
      ],
      "execution_count": 218,
      "outputs": []
    },
    {
      "cell_type": "code",
      "metadata": {
        "colab": {
          "base_uri": "https://localhost:8080/",
          "height": 282
        },
        "id": "JQRIHsuAVzUI",
        "outputId": "87dfab91-5289-48cd-8e25-ade7869e14b4"
      },
      "source": [
        "l2 = p2.fit(X2, y2)\n",
        "plt.plot(l2)"
      ],
      "execution_count": 219,
      "outputs": [
        {
          "output_type": "execute_result",
          "data": {
            "text/plain": [
              "[<matplotlib.lines.Line2D at 0x7f65d83fdbd0>]"
            ]
          },
          "metadata": {},
          "execution_count": 219
        },
        {
          "output_type": "display_data",
          "data": {
            "image/png": "[encoded data removed]",
            "text/plain": [
              "<Figure size 432x288 with 1 Axes>"
            ]
          },
          "metadata": {
            "needs_background": "light"
          }
        }
      ]
    },
    {
      "cell_type": "code",
      "metadata": {
        "colab": {
          "base_uri": "https://localhost:8080/",
          "height": 483
        },
        "id": "a7DxDgrqV38j",
        "outputId": "5398e1b7-7241-40ab-8b9f-d67814050a15"
      },
      "source": [
        "from matplotlib.colors import ListedColormap\n",
        "\n",
        "plt.figure(figsize=(15,8))\n",
        "eps = 0.1\n",
        "xx, yy = np.meshgrid(np.linspace(np.max(X2[:,0]) * (-1) - eps, np.max(X2[:,0]) + eps, 200),\n",
        "                     np.linspace(np.min(X2[:,1]) - eps, np.max(X2[:,1]) + eps, 200))\n",
        "Z = p2.predict(np.c_[xx.ravel(), yy.ravel()])\n",
        "Z = Z.reshape(xx.shape)\n",
        "cmap_light = ListedColormap(['#FFAAAA', '#AAFFAA'])\n",
        "plt.pcolormesh(xx, yy, Z, cmap=cmap_light)\n",
        "\n",
        "plt.scatter([4.3, 3.6, 2.8],[2.2, 4.3, 0.1], c = 'green')\n",
        "plt.scatter([2.3, -3.3, 4.8, 3.0], [-4.4, -1.1, 3.5, 0.5], c = 'red')\n",
        "plt.plot([0, 0],[-5, 5], c = \"black\")\n",
        "plt.plot([-5, 5],[0, 0], c = \"black\")\n",
        "plt.show()"
      ],
      "execution_count": 220,
      "outputs": [
        {
          "output_type": "display_data",
          "data": {
            "image/png": "[encoded data removed]",
            "text/plain": [
              "<Figure size 1080x576 with 1 Axes>"
            ]
          },
          "metadata": {
            "needs_background": "light"
          }
        }
      ]
    },
    {
      "cell_type": "code",
      "metadata": {
        "id": "xnbz_q7RV-Il"
      },
      "source": [
        "# 4 класса, вторая обучающая выборка\n",
        "m3 =  np.array([[-4.4, 0.2, 1.5, -2.1, -4.9, -3.4, -1.3, -0.2],[-1.1, -0.9, -1.2, -0.7, 4.8, -4.0, -3.1, -1.7], [2, 0, 1, 0, 1, 2, 0, 0,]])"
      ],
      "execution_count": 192,
      "outputs": []
    },
    {
      "cell_type": "code",
      "metadata": {
        "colab": {
          "base_uri": "https://localhost:8080/"
        },
        "id": "_AQuxeq5arOf",
        "outputId": "0e77a132-f76e-42bb-b7e8-06b6d3259e8b"
      },
      "source": [
        "X3 = m3[:-1]\n",
        "y3 = m3[-1]\n",
        "\n",
        "X3 = X3.transpose()\n",
        "y3 = y3.transpose()\n",
        "\n",
        "print(X3)\n",
        "print(y3)"
      ],
      "execution_count": 193,
      "outputs": [
        {
          "output_type": "stream",
          "name": "stdout",
          "text": [
            "[[-4.4 -1.1]\n",
            " [ 0.2 -0.9]\n",
            " [ 1.5 -1.2]\n",
            " [-2.1 -0.7]\n",
            " [-4.9  4.8]\n",
            " [-3.4 -4. ]\n",
            " [-1.3 -3.1]\n",
            " [-0.2 -1.7]]\n",
            "[2. 0. 1. 0. 1. 2. 0. 0.]\n"
          ]
        }
      ]
    },
    {
      "cell_type": "code",
      "metadata": {
        "id": "XucvXSWMaveY"
      },
      "source": [
        "class Multiclass_Preceptron(object):\n",
        "  def __init__(self, class_count = 2, eps = 0.0001, iter = 15):\n",
        "    self.epsilon = eps\n",
        "    self.iterations = iter\n",
        "    self.k = class_count\n",
        "\n",
        "  def predict(self, X):\n",
        "    t = []\n",
        "    for u in range(self.k):\n",
        "      t.append(np.dot(X, self.w[u]))\n",
        "    return np.argmax(t, axis=0)\n",
        "  \n",
        "  def fit(self, X, y):\n",
        "      np.random.seed(42)\n",
        "      self.w = np.zeros((self.k, X.shape[1]))\n",
        "      loss = []\n",
        "      for i in range(self.iterations):\n",
        "        l = 0\n",
        "        for xi, yi in zip(X, y):\n",
        "          pred = self.predict(xi)\n",
        "          #l += pred - yi\n",
        "          if (pred != yi):\n",
        "            l += 1\n",
        "            self.w[yi] += xi\n",
        "            self.w[pred] -= xi\n",
        "        loss.append(l / len(y))\n",
        "      return loss"
      ],
      "execution_count": 158,
      "outputs": []
    },
    {
      "cell_type": "code",
      "metadata": {
        "id": "lTpqKlYKkM2A"
      },
      "source": [
        "p3 = Multiclass_Preceptron(class_count = 4, eps = 0.001,iter = 27)"
      ],
      "execution_count": 169,
      "outputs": []
    },
    {
      "cell_type": "code",
      "metadata": {
        "id": "y9pelHs_lqXH"
      },
      "source": [
        "l3 = p3.fit(X3, np.int64(y3))"
      ],
      "execution_count": 170,
      "outputs": []
    },
    {
      "cell_type": "code",
      "metadata": {
        "colab": {
          "base_uri": "https://localhost:8080/",
          "height": 284
        },
        "id": "1iFuKn0VluxF",
        "outputId": "7f49829e-c9d6-4123-91da-18235c31bea0"
      },
      "source": [
        "plt.plot(l3)"
      ],
      "execution_count": 171,
      "outputs": [
        {
          "output_type": "execute_result",
          "data": {
            "text/plain": [
              "[<matplotlib.lines.Line2D at 0x7f65d8696250>]"
            ]
          },
          "metadata": {},
          "execution_count": 171
        },
        {
          "output_type": "display_data",
          "data": {
            "image/png": "[encoded data removed]",
            "text/plain": [
              "<Figure size 432x288 with 1 Axes>"
            ]
          },
          "metadata": {
            "needs_background": "light"
          }
        }
      ]
    },
    {
      "cell_type": "code",
      "metadata": {
        "colab": {
          "base_uri": "https://localhost:8080/"
        },
        "id": "gXc_ruwdHbMC",
        "outputId": "62713db7-e227-4423-ed7a-aca580e5ca2c"
      },
      "source": [
        "p3.predict(X3)"
      ],
      "execution_count": 172,
      "outputs": [
        {
          "output_type": "execute_result",
          "data": {
            "text/plain": [
              "array([2, 0, 0, 2, 1, 2, 0, 0])"
            ]
          },
          "metadata": {},
          "execution_count": 172
        }
      ]
    },
    {
      "cell_type": "code",
      "metadata": {
        "colab": {
          "base_uri": "https://localhost:8080/",
          "height": 483
        },
        "id": "dz-tEQ1OI55h",
        "outputId": "c4b7769f-0bd4-4435-c9ea-01b3f07861e4"
      },
      "source": [
        "plt.figure(figsize=(15,8))\n",
        "eps = 0.1\n",
        "xx, yy = np.meshgrid(np.linspace(np.min(X3[:,0]) - eps, np.min(X3[:,0]) * -1 + eps, 200),\n",
        "                     np.linspace(np.min(X3[:,1]) - eps, np.max(X3[:,1]) + eps, 200))\n",
        "Z = p3.predict(np.c_[xx.ravel(), yy.ravel()])\n",
        "Z = Z.reshape(xx.shape)\n",
        "cmap_light = ListedColormap(['#FFAAAA', '#AAFFAA', '#2715ea'])\n",
        "plt.pcolormesh(xx, yy, Z, cmap=cmap_light)\n",
        "\n",
        "plt.scatter([-4.4, -3.4], [-1.1, -4], c = 'white')\n",
        "plt.scatter([0.2, -2.1, -1.3, -0.2], [-0.9, -0.7, -3.1, -1.7], c = 'red')\n",
        "plt.scatter([1.5, -4.9], [-1.2, 4.8], c = 'green')\n",
        "plt.plot([0, 0],[-5, 5], c = \"black\")\n",
        "plt.plot([-5, 5],[0, 0], c = \"black\")\n",
        "plt.show()"
      ],
      "execution_count": 173,
      "outputs": [
        {
          "output_type": "display_data",
          "data": {
            "image/png": "[encoded data removed]",
            "text/plain": [
              "<Figure size 1080x576 with 1 Axes>"
            ]
          },
          "metadata": {
            "needs_background": "light"
          }
        }
      ]
    },
    {
      "cell_type": "code",
      "metadata": {
        "id": "HVLb8g8XOfon"
      },
      "source": [
        "# 4 класса, вторая обучающая выборка\n",
        "m4 =  np.array([[-4.4, 0.2, 1.5, -2.1, -4.9, -3.4, -1.3, -0.2],[-1.1, -0.9, -1.2, -0.7, 4.8, -4.0, -3.1, -1.7], [1,0,0,0,0,1, 0, 0],[0, 0, 1, 0, 1, 0, 0, 0,]])"
      ],
      "execution_count": 225,
      "outputs": []
    },
    {
      "cell_type": "code",
      "metadata": {
        "colab": {
          "base_uri": "https://localhost:8080/"
        },
        "id": "acaleT5JOtS2",
        "outputId": "0fdb4816-7a42-4315-8eda-7da70a681fda"
      },
      "source": [
        "X4 = m4[:-2].transpose()\n",
        "y4 = m4[-2:].transpose()\n",
        "print(X4)\n",
        "print(y4)"
      ],
      "execution_count": 226,
      "outputs": [
        {
          "output_type": "stream",
          "name": "stdout",
          "text": [
            "[[-4.4 -1.1]\n",
            " [ 0.2 -0.9]\n",
            " [ 1.5 -1.2]\n",
            " [-2.1 -0.7]\n",
            " [-4.9  4.8]\n",
            " [-3.4 -4. ]\n",
            " [-1.3 -3.1]\n",
            " [-0.2 -1.7]]\n",
            "[[1. 0.]\n",
            " [0. 0.]\n",
            " [0. 1.]\n",
            " [0. 0.]\n",
            " [0. 1.]\n",
            " [1. 0.]\n",
            " [0. 0.]\n",
            " [0. 0.]]\n"
          ]
        }
      ]
    },
    {
      "cell_type": "code",
      "metadata": {
        "id": "wGU2PlCqW3eV"
      },
      "source": [
        "class Multiclass_Preceptron_1(object):\n",
        "  def __init__(self, class_count = 2, eps = 0.01, iter = 15):\n",
        "    self.epsilon = eps\n",
        "    self.iterations = iter\n",
        "    self.k = class_count\n",
        "\n",
        "  def predict(self, X):\n",
        "    t = []\n",
        "    for u in range(self.k):\n",
        "      t.append(np.dot(X, self.w[u]) + self.th[u] >= 0)\n",
        "    return np.array(t).transpose()\n",
        "  \n",
        "  def fit(self, X, y):\n",
        "      np.random.seed(42)\n",
        "      self.w = np.zeros((self.k, X.shape[1]))\n",
        "      self.th = np.zeros(self.k)\n",
        "      loss = []\n",
        "      for i in range(self.iterations):\n",
        "        l1 = 0\n",
        "        for xi, yi in zip(X, y):\n",
        "          pred = self.predict(xi)\n",
        "          if (np.any(pred != yi)):\n",
        "            l1 += 1\n",
        "          if (pred[0] != yi[0]):\n",
        "            self.w[0] -= self.epsilon * np.dot(xi, pred[0] - yi[0])\n",
        "            self.th[0] -= self.epsilon * (pred[0] - yi[0])\n",
        "          if (pred[1] != yi[1]):\n",
        "            self.w[1] -= self.epsilon * np.dot(xi, pred[1] - yi[1])\n",
        "            self.th[1] -= self.epsilon * (pred[1] - yi[1])\n",
        "        loss.append(l1 / len(y))\n",
        "      return loss"
      ],
      "execution_count": 284,
      "outputs": []
    },
    {
      "cell_type": "code",
      "metadata": {
        "id": "2z9B8JsmPNjI"
      },
      "source": [
        "p4 = Multiclass_Preceptron_1(iter = 9)"
      ],
      "execution_count": 323,
      "outputs": []
    },
    {
      "cell_type": "code",
      "metadata": {
        "id": "PUB_0YOFPTda"
      },
      "source": [
        "l4 = p4.fit(X4,y4)"
      ],
      "execution_count": 324,
      "outputs": []
    },
    {
      "cell_type": "code",
      "metadata": {
        "colab": {
          "base_uri": "https://localhost:8080/",
          "height": 282
        },
        "id": "Wm8OZHgIPWv7",
        "outputId": "67781ee6-1595-465e-e5d2-04d4aec7a077"
      },
      "source": [
        "plt.plot(l4)"
      ],
      "execution_count": 325,
      "outputs": [
        {
          "output_type": "execute_result",
          "data": {
            "text/plain": [
              "[<matplotlib.lines.Line2D at 0x7f65d40e3550>]"
            ]
          },
          "metadata": {},
          "execution_count": 325
        },
        {
          "output_type": "display_data",
          "data": {
            "image/png": "[encoded data removed]",
            "text/plain": [
              "<Figure size 432x288 with 1 Axes>"
            ]
          },
          "metadata": {
            "needs_background": "light"
          }
        }
      ]
    },
    {
      "cell_type": "code",
      "metadata": {
        "colab": {
          "base_uri": "https://localhost:8080/",
          "height": 483
        },
        "id": "qNk96oL2QmVq",
        "outputId": "14843924-018d-445b-afbf-9194b65d7803"
      },
      "source": [
        "plt.figure(figsize=(15,8))\n",
        "eps = 0.1\n",
        "xx, yy = np.meshgrid(np.linspace(np.min(X4[:,0]) - eps, np.min(X4[:,0]) * -1 + eps, 200),\n",
        "                     np.linspace(np.min(X4[:,1]) - eps, np.max(X4[:,1]) + eps, 200))\n",
        "Z = p4.predict(np.c_[xx.ravel(), yy.ravel()])\n",
        "ZZ = []\n",
        "for z in Z:\n",
        "  if z[0] == 0:\n",
        "    if z[1] == 0:\n",
        "      ZZ.append(0)\n",
        "    else:\n",
        "      ZZ.append(1)\n",
        "  elif z[0] == 1:\n",
        "    if z[1] == 0:\n",
        "      ZZ.append(2)\n",
        "    else:\n",
        "      ZZ.append(3)\n",
        "ZZ = np.array(ZZ)\n",
        "ZZ = ZZ.reshape(xx.shape).transpose()\n",
        "cmap_light = ListedColormap(['#FFAAAA', '#AAFFAA', '#2715ea'])\n",
        "plt.pcolormesh(xx, yy, ZZ, cmap=cmap_light)\n",
        "\n",
        "plt.scatter([-4.4, -3.4], [-1.1, -4], c = 'white')\n",
        "plt.scatter([0.2, -2.1, -1.3, -0.2], [-0.9, -0.7, -3.1, -1.7], c = 'red')\n",
        "plt.scatter([1.5, -4.9], [-1.2, 4.8], c = 'green')\n",
        "plt.plot([0, 0],[-5, 5], c = \"black\")\n",
        "plt.plot([-5, 5],[0, 0], c = \"black\")\n",
        "plt.show()"
      ],
      "execution_count": 327,
      "outputs": [
        {
          "output_type": "display_data",
          "data": {
            "image/png": "[encoded data removed]",
            "text/plain": [
              "<Figure size 1080x576 with 1 Axes>"
            ]
          },
          "metadata": {
            "needs_background": "light"
          }
        }
      ]
    },
    {
      "cell_type": "code",
      "metadata": {
        "id": "MXOYUuY1SWCg"
      },
      "source": [
        ""
      ],
      "execution_count": null,
      "outputs": []
    }
  ]
}