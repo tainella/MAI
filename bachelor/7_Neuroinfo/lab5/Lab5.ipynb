{
  "nbformat": 4,
  "nbformat_minor": 0,
  "metadata": {
    "colab": {
      "name": "Lab5.ipynb",
      "provenance": [],
      "collapsed_sections": []
    },
    "kernelspec": {
      "name": "python3",
      "display_name": "Python 3"
    },
    "language_info": {
      "name": "python"
    }
  },
  "cells": [
    {
      "cell_type": "code",
      "source": [
        "!pip3 install neurolab\n",
        "!pip3 install neupy"
      ],
      "metadata": {
        "colab": {
          "base_uri": "https://localhost:8080/"
        },
        "id": "ZH6xIIZPVM08",
        "outputId": "2769b60f-1945-483c-b10d-b89bbf7def93"
      },
      "execution_count": 341,
      "outputs": [
        {
          "output_type": "stream",
          "name": "stdout",
          "text": [
            "Requirement already satisfied: neurolab in /usr/local/lib/python3.7/dist-packages (0.3.5)\n",
            "Requirement already satisfied: neupy in /usr/local/lib/python3.7/dist-packages (0.8.2)\n",
            "Requirement already satisfied: tensorflow<1.14.0,>=1.10.1 in /usr/local/lib/python3.7/dist-packages (from neupy) (1.13.2)\n",
            "Requirement already satisfied: matplotlib>=1.5.1 in /usr/local/lib/python3.7/dist-packages (from neupy) (3.2.2)\n",
            "Requirement already satisfied: numpy>=1.13.3 in /usr/local/lib/python3.7/dist-packages (from neupy) (1.19.5)\n",
            "Requirement already satisfied: h5py in /usr/local/lib/python3.7/dist-packages (from neupy) (3.1.0)\n",
            "Requirement already satisfied: scipy>=0.19.0 in /usr/local/lib/python3.7/dist-packages (from neupy) (1.4.1)\n",
            "Requirement already satisfied: progressbar2==3.34.3 in /usr/local/lib/python3.7/dist-packages (from neupy) (3.34.3)\n",
            "Requirement already satisfied: graphviz==0.5.1 in /usr/local/lib/python3.7/dist-packages (from neupy) (0.5.1)\n",
            "Requirement already satisfied: python-utils>=2.1.0 in /usr/local/lib/python3.7/dist-packages (from progressbar2==3.34.3->neupy) (2.5.6)\n",
            "Requirement already satisfied: kiwisolver>=1.0.1 in /usr/local/lib/python3.7/dist-packages (from matplotlib>=1.5.1->neupy) (1.3.2)\n",
            "Requirement already satisfied: cycler>=0.10 in /usr/local/lib/python3.7/dist-packages (from matplotlib>=1.5.1->neupy) (0.11.0)\n",
            "Requirement already satisfied: python-dateutil>=2.1 in /usr/local/lib/python3.7/dist-packages (from matplotlib>=1.5.1->neupy) (2.8.2)\n",
            "Requirement already satisfied: pyparsing!=2.0.4,!=2.1.2,!=2.1.6,>=2.0.1 in /usr/local/lib/python3.7/dist-packages (from matplotlib>=1.5.1->neupy) (3.0.6)\n",
            "Requirement already satisfied: six>=1.5 in /usr/local/lib/python3.7/dist-packages (from python-dateutil>=2.1->matplotlib>=1.5.1->neupy) (1.15.0)\n",
            "Requirement already satisfied: astor>=0.6.0 in /usr/local/lib/python3.7/dist-packages (from tensorflow<1.14.0,>=1.10.1->neupy) (0.8.1)\n",
            "Requirement already satisfied: protobuf>=3.6.1 in /usr/local/lib/python3.7/dist-packages (from tensorflow<1.14.0,>=1.10.1->neupy) (3.17.3)\n",
            "Requirement already satisfied: gast>=0.2.0 in /usr/local/lib/python3.7/dist-packages (from tensorflow<1.14.0,>=1.10.1->neupy) (0.4.0)\n",
            "Requirement already satisfied: grpcio>=1.8.6 in /usr/local/lib/python3.7/dist-packages (from tensorflow<1.14.0,>=1.10.1->neupy) (1.42.0)\n",
            "Requirement already satisfied: keras-preprocessing>=1.0.5 in /usr/local/lib/python3.7/dist-packages (from tensorflow<1.14.0,>=1.10.1->neupy) (1.1.2)\n",
            "Requirement already satisfied: tensorboard<1.14.0,>=1.13.0 in /usr/local/lib/python3.7/dist-packages (from tensorflow<1.14.0,>=1.10.1->neupy) (1.13.1)\n",
            "Requirement already satisfied: wheel>=0.26 in /usr/local/lib/python3.7/dist-packages (from tensorflow<1.14.0,>=1.10.1->neupy) (0.37.0)\n",
            "Requirement already satisfied: keras-applications>=1.0.6 in /usr/local/lib/python3.7/dist-packages (from tensorflow<1.14.0,>=1.10.1->neupy) (1.0.8)\n",
            "Requirement already satisfied: tensorflow-estimator<1.14.0rc0,>=1.13.0 in /usr/local/lib/python3.7/dist-packages (from tensorflow<1.14.0,>=1.10.1->neupy) (1.13.0)\n",
            "Requirement already satisfied: absl-py>=0.1.6 in /usr/local/lib/python3.7/dist-packages (from tensorflow<1.14.0,>=1.10.1->neupy) (0.12.0)\n",
            "Requirement already satisfied: termcolor>=1.1.0 in /usr/local/lib/python3.7/dist-packages (from tensorflow<1.14.0,>=1.10.1->neupy) (1.1.0)\n",
            "Requirement already satisfied: markdown>=2.6.8 in /usr/local/lib/python3.7/dist-packages (from tensorboard<1.14.0,>=1.13.0->tensorflow<1.14.0,>=1.10.1->neupy) (3.3.6)\n",
            "Requirement already satisfied: werkzeug>=0.11.15 in /usr/local/lib/python3.7/dist-packages (from tensorboard<1.14.0,>=1.13.0->tensorflow<1.14.0,>=1.10.1->neupy) (1.0.1)\n",
            "Requirement already satisfied: importlib-metadata>=4.4 in /usr/local/lib/python3.7/dist-packages (from markdown>=2.6.8->tensorboard<1.14.0,>=1.13.0->tensorflow<1.14.0,>=1.10.1->neupy) (4.8.2)\n",
            "Requirement already satisfied: zipp>=0.5 in /usr/local/lib/python3.7/dist-packages (from importlib-metadata>=4.4->markdown>=2.6.8->tensorboard<1.14.0,>=1.13.0->tensorflow<1.14.0,>=1.10.1->neupy) (3.6.0)\n",
            "Requirement already satisfied: typing-extensions>=3.6.4 in /usr/local/lib/python3.7/dist-packages (from importlib-metadata>=4.4->markdown>=2.6.8->tensorboard<1.14.0,>=1.13.0->tensorflow<1.14.0,>=1.10.1->neupy) (3.10.0.2)\n",
            "Requirement already satisfied: mock>=2.0.0 in /usr/local/lib/python3.7/dist-packages (from tensorflow-estimator<1.14.0rc0,>=1.13.0->tensorflow<1.14.0,>=1.10.1->neupy) (4.0.3)\n",
            "Requirement already satisfied: cached-property in /usr/local/lib/python3.7/dist-packages (from h5py->neupy) (1.5.2)\n"
          ]
        }
      ]
    },
    {
      "cell_type": "code",
      "execution_count": 342,
      "metadata": {
        "id": "e0RBqZ4LSYLy"
      },
      "outputs": [],
      "source": [
        "import math\n",
        "import random\n",
        "\n",
        "import numpy as np\n",
        "import pandas as pd\n",
        "from numpy import matlib\n",
        "import sklearn.metrics\n",
        "import matplotlib.pyplot as plt\n",
        "from sklearn.utils import shuffle\n",
        "import neurolab as nl\n",
        "from sklearn.metrics import mean_squared_error\n",
        "from neupy import algorithms"
      ]
    },
    {
      "cell_type": "code",
      "source": [
        "h = 0.025\n",
        "\n",
        "r = [3, 0, 5]"
      ],
      "metadata": {
        "id": "kReK8Bm_efsT"
      },
      "execution_count": 343,
      "outputs": []
    },
    {
      "cell_type": "code",
      "source": [
        "k1 = np.linspace(0, 1, int(1 / h), endpoint=True)\n",
        "k2 = np.linspace(1.12, 3.6, int(3.6 / h), endpoint=True)"
      ],
      "metadata": {
        "id": "20kzR_dufi56"
      },
      "execution_count": 344,
      "outputs": []
    },
    {
      "cell_type": "code",
      "source": [
        "t1 = np.ones(len(k1)) * (-1)\n",
        "t2 = np.ones(len(k2))"
      ],
      "metadata": {
        "id": "GdgNurlbhMQa"
      },
      "execution_count": 345,
      "outputs": []
    },
    {
      "cell_type": "code",
      "source": [
        "def g(k):\n",
        "  return np.sin(np.sin(k) * k * k - k)\n",
        "\n",
        "p1 = np.sin(math.pi * 4 * k1)\n",
        "\n",
        "p2 = g(k2)"
      ],
      "metadata": {
        "id": "wfBIIJ3dTFdG"
      },
      "execution_count": 346,
      "outputs": []
    },
    {
      "cell_type": "code",
      "source": [
        "p2 = p2.reshape(1, p2.shape[0])\n",
        "t2 = t2.reshape(1, t2.shape[0])"
      ],
      "metadata": {
        "id": "eW58230eT0Mh"
      },
      "execution_count": 347,
      "outputs": []
    },
    {
      "cell_type": "code",
      "source": [
        "P = np.concatenate((matlib.repmat(p1, 1, r[0]), p2, matlib.repmat(p1, 1, r[1]), p2, matlib.repmat(p1, 1, r[2]), p2), axis=1).reshape(-1, 1)\n",
        "\n",
        "T = np.concatenate((matlib.repmat(t1, 1, r[0]), t2,matlib.repmat(t1, 1, r[1]), t2, matlib.repmat(t1, 1, r[2]), t2), axis=1).reshape(-1, 1)"
      ],
      "metadata": {
        "id": "_8068PD_UCnr"
      },
      "execution_count": 348,
      "outputs": []
    },
    {
      "cell_type": "code",
      "source": [
        "plt.plot(P.reshape(P.shape[0]), color='orange')\n",
        "plt.plot(T.reshape(T.shape[0]), color='green')"
      ],
      "metadata": {
        "colab": {
          "base_uri": "https://localhost:8080/",
          "height": 282
        },
        "id": "Uh88pWh2UIOy",
        "outputId": "41b41663-42d0-4a07-955f-86b0f2a9e4a6"
      },
      "execution_count": 349,
      "outputs": [
        {
          "output_type": "execute_result",
          "data": {
            "text/plain": [
              "[<matplotlib.lines.Line2D at 0x7f6bc02b4f50>]"
            ]
          },
          "metadata": {},
          "execution_count": 349
        },
        {
          "output_type": "display_data",
          "data": {
            "image/png": "[encoded data removed]",
            "text/plain": [
              "<Figure size 432x288 with 1 Axes>"
            ]
          },
          "metadata": {
            "needs_background": "light"
          }
        }
      ]
    },
    {
      "cell_type": "code",
      "source": [
        "#сеть Элмана\n",
        "net = nl.net.newelm([[-10, 10]], [8, 1], [nl.trans.TanSig(), nl.trans.TanSig()])\n",
        "net.layers[0].np['w'][:] = 1\n",
        "net.layers[0].np['b'][:] = 0\n",
        "net.init()"
      ],
      "metadata": {
        "id": "riWD-GcoUs8D"
      },
      "execution_count": 350,
      "outputs": []
    },
    {
      "cell_type": "code",
      "source": [
        "error = net.train(P, T, epochs=100, show=50, goal=0.0001)"
      ],
      "metadata": {
        "colab": {
          "base_uri": "https://localhost:8080/"
        },
        "id": "cTMtcXHCVJC_",
        "outputId": "24fd6453-c6fa-4aca-93b7-b5b650555780"
      },
      "execution_count": 351,
      "outputs": [
        {
          "output_type": "stream",
          "name": "stdout",
          "text": [
            "Epoch: 50; Error: 0.849936753739409;\n",
            "Epoch: 100; Error: 0.7980484635874092;\n",
            "The maximum number of train epochs is reached\n"
          ]
        }
      ]
    },
    {
      "cell_type": "code",
      "source": [
        "output = net.sim(P)"
      ],
      "metadata": {
        "id": "5tGtsJkO3Fkb"
      },
      "execution_count": 352,
      "outputs": []
    },
    {
      "cell_type": "code",
      "source": [
        "plt.plot(error)"
      ],
      "metadata": {
        "colab": {
          "base_uri": "https://localhost:8080/",
          "height": 282
        },
        "id": "DffjRfEO3TBo",
        "outputId": "c9b5aa01-2f14-4262-9556-a679d7922eca"
      },
      "execution_count": 353,
      "outputs": [
        {
          "output_type": "execute_result",
          "data": {
            "text/plain": [
              "[<matplotlib.lines.Line2D at 0x7f6bc0236a10>]"
            ]
          },
          "metadata": {},
          "execution_count": 353
        },
        {
          "output_type": "display_data",
          "data": {
            "image/png": "[encoded data removed]",
            "text/plain": [
              "<Figure size 432x288 with 1 Axes>"
            ]
          },
          "metadata": {
            "needs_background": "light"
          }
        }
      ]
    },
    {
      "cell_type": "code",
      "source": [
        "plt.plot(T.reshape(T.shape[0]), color='green')\n",
        "plt.plot(output.reshape(output.shape[0]))"
      ],
      "metadata": {
        "colab": {
          "base_uri": "https://localhost:8080/",
          "height": 282
        },
        "id": "bT184nO53Vaw",
        "outputId": "3e6a998a-aeb3-478f-be85-51b8adcecd43"
      },
      "execution_count": 354,
      "outputs": [
        {
          "output_type": "execute_result",
          "data": {
            "text/plain": [
              "[<matplotlib.lines.Line2D at 0x7f6bc0194fd0>]"
            ]
          },
          "metadata": {},
          "execution_count": 354
        },
        {
          "output_type": "display_data",
          "data": {
            "image/png": "[encoded data removed]",
            "text/plain": [
              "<Figure size 432x288 with 1 Axes>"
            ]
          },
          "metadata": {
            "needs_background": "light"
          }
        }
      ]
    },
    {
      "cell_type": "code",
      "source": [
        "output[output >= 0] = 1.0\n",
        "output[output < 0] = -1.0"
      ],
      "metadata": {
        "id": "7eyhaoS14wry"
      },
      "execution_count": 355,
      "outputs": []
    },
    {
      "cell_type": "code",
      "source": [
        "print(mean_squared_error(T, output))"
      ],
      "metadata": {
        "colab": {
          "base_uri": "https://localhost:8080/"
        },
        "id": "24Qhd8Lh5Esq",
        "outputId": "5ab3d188-fc0e-4f4c-bdac-90a032eee107"
      },
      "execution_count": 356,
      "outputs": [
        {
          "output_type": "stream",
          "name": "stdout",
          "text": [
            "1.4734042553191489\n"
          ]
        }
      ]
    },
    {
      "cell_type": "code",
      "source": [
        "#проверка: изменим R\n",
        "r = [15, 0, 5]\n",
        "\n",
        "P = np.concatenate((matlib.repmat(p1, 1, r[0]), p2, matlib.repmat(p1, 1, r[1]), p2, matlib.repmat(p1, 1, r[2]), p2), axis=1).reshape(-1, 1)\n",
        "\n",
        "T = np.concatenate((matlib.repmat(t1, 1, r[0]), t2,matlib.repmat(t1, 1, r[1]), t2, matlib.repmat(t1, 1, r[2]), t2), axis=1).reshape(-1, 1)"
      ],
      "metadata": {
        "id": "v0TZ_6kU37hZ"
      },
      "execution_count": 357,
      "outputs": []
    },
    {
      "cell_type": "code",
      "source": [
        "plt.plot(P.reshape(P.shape[0]), color='orange')\n",
        "plt.plot(T.reshape(T.shape[0]), color='green')"
      ],
      "metadata": {
        "colab": {
          "base_uri": "https://localhost:8080/",
          "height": 282
        },
        "id": "36lKh2QE4L88",
        "outputId": "ffb79b44-053b-4ad0-bea7-d81e645a3b2a"
      },
      "execution_count": 358,
      "outputs": [
        {
          "output_type": "execute_result",
          "data": {
            "text/plain": [
              "[<matplotlib.lines.Line2D at 0x7f6bc010cfd0>]"
            ]
          },
          "metadata": {},
          "execution_count": 358
        },
        {
          "output_type": "display_data",
          "data": {
            "image/png": "[encoded data removed]",
            "text/plain": [
              "<Figure size 432x288 with 1 Axes>"
            ]
          },
          "metadata": {
            "needs_background": "light"
          }
        }
      ]
    },
    {
      "cell_type": "code",
      "source": [
        "output2 = net.sim(P)"
      ],
      "metadata": {
        "id": "OUlJLWAJ4SIh"
      },
      "execution_count": 359,
      "outputs": []
    },
    {
      "cell_type": "code",
      "source": [
        "plt.plot(T.reshape(T.shape[0]), color='green')\n",
        "plt.plot(output2.reshape(output2.shape[0]))"
      ],
      "metadata": {
        "colab": {
          "base_uri": "https://localhost:8080/",
          "height": 282
        },
        "id": "tgoryEnd4bGX",
        "outputId": "5ad0e0c0-5923-4560-8053-e010db2150f5"
      },
      "execution_count": 360,
      "outputs": [
        {
          "output_type": "execute_result",
          "data": {
            "text/plain": [
              "[<matplotlib.lines.Line2D at 0x7f6bc0084c50>]"
            ]
          },
          "metadata": {},
          "execution_count": 360
        },
        {
          "output_type": "display_data",
          "data": {
            "image/png": "[encoded data removed]",
            "text/plain": [
              "<Figure size 432x288 with 1 Axes>"
            ]
          },
          "metadata": {
            "needs_background": "light"
          }
        }
      ]
    },
    {
      "cell_type": "code",
      "source": [
        "output2[output2 >= 0] = 1.0\n",
        "output2[output2 < 0] = -1.0\n",
        "print(mean_squared_error(T, output2))"
      ],
      "metadata": {
        "colab": {
          "base_uri": "https://localhost:8080/"
        },
        "id": "fk434D9o4fdk",
        "outputId": "eda7e277-80c8-4d8d-8892-ed93a63efea4"
      },
      "execution_count": 361,
      "outputs": [
        {
          "output_type": "stream",
          "name": "stdout",
          "text": [
            "1.5616883116883118\n"
          ]
        }
      ]
    },
    {
      "cell_type": "code",
      "source": [
        "p3 = [\n",
        "                0, 0, 1, 1, 1, 1, 1, 1, 0, 0,\n",
        "                0, 0, 1, 1, 1, 1, 1, 1, 1, 0,\n",
        "                0, 0, 0, 0, 0, 0, 0, 1, 1, 0,\n",
        "                0, 0, 0, 0, 0, 0, 0, 1, 1, 0,\n",
        "                0, 0, 0, 0, 0, 0, 0, 1, 1, 0,\n",
        "                0, 0, 0, 0, 1, 1, 1, 1, 0, 0,\n",
        "                0, 0, 0, 0, 1, 1, 1, 1, 0, 0,\n",
        "                0, 0, 0, 0, 0, 0, 0, 1, 1, 0,\n",
        "                0, 0, 0, 0, 0, 0, 0, 1, 1, 0,\n",
        "                0, 0, 0, 0, 0, 0, 0, 1, 1, 0,\n",
        "                0, 0, 1, 1, 1, 1, 1, 1, 1, 0,\n",
        "                0, 0, 1, 1, 1, 1, 1, 1, 0, 0]\n",
        "\n",
        "p0 = [\n",
        "               0, 0, 0, 0, 0, 0, 0, 0, 0, 0,\n",
        "               0, 0, 0, 1, 1, 1, 1, 0, 0, 0,\n",
        "               0, 0, 1, 1, 1, 1, 1, 1, 0, 0,\n",
        "               0, 1, 1, 1, 0, 0, 1, 1, 1, 0,\n",
        "               0, 1, 1, 1, 0, 0, 1, 1, 1, 0,\n",
        "               0, 1, 1, 1, 0, 0, 1, 1, 1, 0,\n",
        "               0, 1, 1, 1, 0, 0, 1, 1, 1, 0,\n",
        "               0, 1, 1, 1, 0, 0, 1, 1, 1, 0,\n",
        "               0, 1, 1, 1, 0, 0, 1, 1, 1, 0,\n",
        "               0, 0, 1, 1, 1, 1, 1, 1, 0, 0,\n",
        "               0, 0, 0, 1, 1, 1, 1, 0, 0, 0,\n",
        "               0, 0, 0, 0, 0, 0, 0, 0, 0, 0]\n",
        "\n",
        "p4 = [\n",
        "                0, 1, 1, 0, 0, 0, 0, 1, 1, 0,\n",
        "                0, 1, 1, 0, 0, 0, 0, 1, 1, 0,\n",
        "                0, 1, 1, 0, 0, 0, 0, 1, 1, 0,\n",
        "                0, 1, 1, 0, 0, 0, 0, 1, 1, 0,\n",
        "                0, 1, 1, 0, 0, 0, 0, 1, 1, 0,\n",
        "                0, 1, 1, 1, 1, 1, 1, 1, 1, 0,\n",
        "                0, 1, 1, 1, 1, 1, 1, 1, 1, 0,\n",
        "                0, 0, 0, 0, 0, 0, 0, 1, 1, 0,\n",
        "                0, 0, 0, 0, 0, 0, 0, 1, 1, 0,\n",
        "                0, 0, 0, 0, 0, 0, 0, 1, 1, 0,\n",
        "                0, 0, 0, 0, 0, 0, 0, 1, 1, 0,\n",
        "                0, 0, 0, 0, 0, 0, 0, 1, 1, 0]"
      ],
      "metadata": {
        "id": "IRbsl_EQDJ_L"
      },
      "execution_count": null,
      "outputs": []
    },
    {
      "cell_type": "code",
      "source": [
        "#сеть Хопфилда\n",
        "hop3 = np.matrix(p3)\n",
        "hop0 = np.matrix(p0)\n",
        "hop4 = np.matrix(p4)\n",
        "\n",
        "data = np.concatenate([hop3, hop0, hop4], axis=0)"
      ],
      "metadata": {
        "id": "8A06F1lV5O0P"
      },
      "execution_count": null,
      "outputs": []
    },
    {
      "cell_type": "code",
      "source": [
        "hopf = algorithms.DiscreteHopfieldNetwork(mode='async', n_times=600)\n",
        "hopf.train(data)"
      ],
      "metadata": {
        "id": "OGSR8h4z0bXt"
      },
      "execution_count": null,
      "outputs": []
    },
    {
      "cell_type": "code",
      "source": [
        "plt.imshow(hopf.predict(hop3).reshape(12,10), interpolation='nearest')"
      ],
      "metadata": {
        "colab": {
          "base_uri": "https://localhost:8080/",
          "height": 282
        },
        "id": "Tqk6hQDl1ZZB",
        "outputId": "6cd03241-c3f1-40b5-90d2-d97d2bd4f765"
      },
      "execution_count": null,
      "outputs": [
        {
          "output_type": "execute_result",
          "data": {
            "text/plain": [
              "<matplotlib.image.AxesImage at 0x7f6bc11b6a10>"
            ]
          },
          "metadata": {},
          "execution_count": 171
        },
        {
          "output_type": "display_data",
          "data": {
            "image/png": "[encoded data removed]",
            "text/plain": [
              "<Figure size 432x288 with 1 Axes>"
            ]
          },
          "metadata": {
            "needs_background": "light"
          }
        }
      ]
    },
    {
      "cell_type": "code",
      "source": [
        "def noise(img, noise_percent):\n",
        "    limit = img.shape[1]\n",
        "    tmp = img.T\n",
        "    \n",
        "    for i in range(noise_percent):\n",
        "        pos = np.random.randint(1, limit, 1)[0]\n",
        "        tmp[pos] *= 0\n",
        "    res = tmp.T\n",
        "    return res"
      ],
      "metadata": {
        "id": "GEZKJZyN2F2z"
      },
      "execution_count": null,
      "outputs": []
    },
    {
      "cell_type": "code",
      "source": [
        "noise(hop0, 20)"
      ],
      "metadata": {
        "id": "gSjEYt3W22ra"
      },
      "execution_count": null,
      "outputs": []
    },
    {
      "cell_type": "code",
      "source": [
        "plt.imshow(hop0.reshape(12,10), interpolation='nearest')"
      ],
      "metadata": {
        "colab": {
          "base_uri": "https://localhost:8080/",
          "height": 282
        },
        "id": "MQamkvXV2T6y",
        "outputId": "c3c8d170-cce0-4f04-cf13-f7e980947bc2"
      },
      "execution_count": null,
      "outputs": [
        {
          "output_type": "execute_result",
          "data": {
            "text/plain": [
              "<matplotlib.image.AxesImage at 0x7f6bc120ad90>"
            ]
          },
          "metadata": {},
          "execution_count": 170
        },
        {
          "output_type": "display_data",
          "data": {
            "image/png": "[encoded data removed]",
            "text/plain": [
              "<Figure size 432x288 with 1 Axes>"
            ]
          },
          "metadata": {
            "needs_background": "light"
          }
        }
      ]
    },
    {
      "cell_type": "code",
      "source": [
        "plt.imshow(hopf.predict(hop0).reshape(12,10), interpolation='nearest')\n",
        "plt.show()"
      ],
      "metadata": {
        "colab": {
          "base_uri": "https://localhost:8080/",
          "height": 265
        },
        "id": "WL9enLKE1JTm",
        "outputId": "ca9b519f-46d7-4ac2-ba88-2a2a167ede3b"
      },
      "execution_count": null,
      "outputs": [
        {
          "output_type": "display_data",
          "data": {
            "image/png": "[encoded data removed]",
            "text/plain": [
              "<Figure size 432x288 with 1 Axes>"
            ]
          },
          "metadata": {
            "needs_background": "light"
          }
        }
      ]
    },
    {
      "cell_type": "code",
      "source": [
        "noise(hop4, 30)"
      ],
      "metadata": {
        "colab": {
          "base_uri": "https://localhost:8080/"
        },
        "id": "BMb7mNoT13fg",
        "outputId": "3b8528d7-f43f-4258-d76b-3ee3b2e6ce0c"
      },
      "execution_count": null,
      "outputs": [
        {
          "output_type": "execute_result",
          "data": {
            "text/plain": [
              "matrix([[0, 1, 0, 0, 0, 0, 0, 1, 1, 0, 0, 1, 1, 0, 0, 0, 0, 1, 1, 0, 0,\n",
              "         1, 1, 0, 0, 0, 0, 0, 0, 0, 0, 1, 1, 0, 0, 0, 0, 1, 1, 0, 0, 1,\n",
              "         1, 0, 0, 0, 0, 1, 0, 0, 0, 1, 1, 1, 1, 1, 1, 1, 1, 0, 0, 1, 0,\n",
              "         0, 0, 1, 1, 1, 0, 0, 0, 0, 0, 0, 0, 0, 0, 1, 0, 0, 0, 0, 0, 0,\n",
              "         0, 0, 0, 1, 0, 0, 0, 0, 0, 0, 0, 0, 0, 1, 1, 0, 0, 0, 0, 0, 0,\n",
              "         0, 0, 1, 1, 0, 0, 0, 0, 0, 0, 0, 0, 1, 1, 0]])"
            ]
          },
          "metadata": {},
          "execution_count": 174
        }
      ]
    },
    {
      "cell_type": "code",
      "source": [
        "plt.imshow(hop4.reshape(12,10), interpolation='nearest')"
      ],
      "metadata": {
        "colab": {
          "base_uri": "https://localhost:8080/",
          "height": 282
        },
        "id": "aYONRqDS2jWf",
        "outputId": "8510dafb-4220-4e33-9cca-d3ad8534c451"
      },
      "execution_count": null,
      "outputs": [
        {
          "output_type": "execute_result",
          "data": {
            "text/plain": [
              "<matplotlib.image.AxesImage at 0x7f6bc1095090>"
            ]
          },
          "metadata": {},
          "execution_count": 175
        },
        {
          "output_type": "display_data",
          "data": {
            "image/png": "[encoded data removed]",
            "text/plain": [
              "<Figure size 432x288 with 1 Axes>"
            ]
          },
          "metadata": {
            "needs_background": "light"
          }
        }
      ]
    },
    {
      "cell_type": "code",
      "source": [
        "plt.imshow(hopf.predict(hop4).reshape(12,10), interpolation='nearest')"
      ],
      "metadata": {
        "colab": {
          "base_uri": "https://localhost:8080/",
          "height": 265
        },
        "id": "JaWPb2Kq1Tkd",
        "outputId": "02a4c931-f987-4633-9fb2-939d1745e7a8"
      },
      "execution_count": null,
      "outputs": [
        {
          "output_type": "display_data",
          "data": {
            "image/png": "[encoded data removed]",
            "text/plain": [
              "<Figure size 432x288 with 1 Axes>"
            ]
          },
          "metadata": {
            "needs_background": "light"
          }
        }
      ]
    },
    {
      "cell_type": "code",
      "source": [
        "#сеть Хемминга\n",
        "#сеть Хопфилда\n",
        "h0 = []\n",
        "for w in p0:\n",
        "  if w == 0:\n",
        "    h0.append(-1)\n",
        "  else:\n",
        "    h0.append(1)\n",
        "\n",
        "h3 = []\n",
        "for w in p3:\n",
        "  if w == 0:\n",
        "    h3.append(-1)\n",
        "  else:\n",
        "    h3.append(1)\n",
        "\n",
        "h4 = []\n",
        "for w in p4:\n",
        "  if w == 0:\n",
        "    h4.append(-1)\n",
        "  else:\n",
        "    h4.append(1)\n",
        "\n",
        "h0 = np.array(h0)\n",
        "h3 = np.array(h3)\n",
        "h4 = np.array(h4)"
      ],
      "metadata": {
        "id": "U6AvC0_433YP"
      },
      "execution_count": null,
      "outputs": []
    },
    {
      "cell_type": "code",
      "source": [
        "Q = 3\n",
        "eps = 1 / (Q-1)\n",
        "\n",
        "IW = np.array([h3.T, h0.T, h4.T])\n",
        "patterns = np.array([h3, h0, h4])\n",
        "b = (12*10) * np.ones((Q, 1))\n",
        "a = np.zeros((Q, Q))\n",
        "for i in range(Q):\n",
        "    a[i] = IW[i] @ patterns[i] + b[i]\n",
        "    \n",
        "LW = np.eye(Q)\n",
        "LW[LW == 0.0] = -eps\n",
        "\n",
        "network = nl.net.newhop(a, max_init=700)\n",
        "network.layers[0].np['w'][:] = LW\n",
        "network.layers[0].np['b'][:] = 0"
      ],
      "metadata": {
        "id": "pe2CyCH83A1F"
      },
      "execution_count": null,
      "outputs": []
    },
    {
      "cell_type": "code",
      "source": [
        "def draw_predict(h):\n",
        "  A = IW @ h + b\n",
        "  res = network.sim(A)\n",
        "  answer_class = np.argmax(res[0])\n",
        "  number = patterns[answer_class]\n",
        "  number[number == -1] = 0\n",
        "  plt.imshow(number.reshape(12,10), interpolation='nearest')"
      ],
      "metadata": {
        "id": "eMqvC14T8Snd"
      },
      "execution_count": null,
      "outputs": []
    },
    {
      "cell_type": "code",
      "source": [
        "draw_predict(h3)"
      ],
      "metadata": {
        "colab": {
          "base_uri": "https://localhost:8080/",
          "height": 265
        },
        "id": "MjBOc-d57inE",
        "outputId": "09835f13-d915-4c8d-a797-51fe9bfadb8e"
      },
      "execution_count": null,
      "outputs": [
        {
          "output_type": "display_data",
          "data": {
            "image/png": "[encoded data removed]",
            "text/plain": [
              "<Figure size 432x288 with 1 Axes>"
            ]
          },
          "metadata": {
            "needs_background": "light"
          }
        }
      ]
    },
    {
      "cell_type": "code",
      "source": [
        "p0 = noise(np.matrix(p0), 20)\n",
        "plt.imshow(p0.reshape(12,10), interpolation='nearest')"
      ],
      "metadata": {
        "colab": {
          "base_uri": "https://localhost:8080/",
          "height": 282
        },
        "id": "WR9csd1J8mCy",
        "outputId": "986f9219-e668-4930-d9b2-b31eca6402fd"
      },
      "execution_count": null,
      "outputs": [
        {
          "output_type": "execute_result",
          "data": {
            "text/plain": [
              "<matplotlib.image.AxesImage at 0x7f6bc06ade50>"
            ]
          },
          "metadata": {},
          "execution_count": 306
        },
        {
          "output_type": "display_data",
          "data": {
            "image/png": "[encoded data removed]",
            "text/plain": [
              "<Figure size 432x288 with 1 Axes>"
            ]
          },
          "metadata": {
            "needs_background": "light"
          }
        }
      ]
    },
    {
      "cell_type": "code",
      "source": [
        "h0 = p0\n",
        "h0[h0 == 0] = -1"
      ],
      "metadata": {
        "id": "qMKA7YcE_XT3"
      },
      "execution_count": null,
      "outputs": []
    },
    {
      "cell_type": "code",
      "source": [
        "draw_predict(np.squeeze(np.asarray(h0)))"
      ],
      "metadata": {
        "colab": {
          "base_uri": "https://localhost:8080/",
          "height": 265
        },
        "id": "8rS7MBI3-JNW",
        "outputId": "bc267c30-7f95-4e43-cefb-dfc5740cc96c"
      },
      "execution_count": null,
      "outputs": [
        {
          "output_type": "display_data",
          "data": {
            "image/png": "[encoded data removed]",
            "text/plain": [
              "<Figure size 432x288 with 1 Axes>"
            ]
          },
          "metadata": {
            "needs_background": "light"
          }
        }
      ]
    },
    {
      "cell_type": "code",
      "source": [
        "p4 = noise(np.matrix(p4), 30)\n",
        "plt.imshow(p4.reshape(12,10), interpolation='nearest')"
      ],
      "metadata": {
        "colab": {
          "base_uri": "https://localhost:8080/",
          "height": 282
        },
        "id": "WtMoZtrs-xCj",
        "outputId": "03b9d740-61e4-4a2c-ad93-5470adb0e3a9"
      },
      "execution_count": null,
      "outputs": [
        {
          "output_type": "execute_result",
          "data": {
            "text/plain": [
              "<matplotlib.image.AxesImage at 0x7f6bc05f9610>"
            ]
          },
          "metadata": {},
          "execution_count": 309
        },
        {
          "output_type": "display_data",
          "data": {
            "image/png": "[encoded data removed]",
            "text/plain": [
              "<Figure size 432x288 with 1 Axes>"
            ]
          },
          "metadata": {
            "needs_background": "light"
          }
        }
      ]
    },
    {
      "cell_type": "code",
      "source": [
        "h4 = p4\n",
        "h4[h4 == 0] = -1\n",
        "draw_predict(np.squeeze(np.asarray(h4)))"
      ],
      "metadata": {
        "colab": {
          "base_uri": "https://localhost:8080/",
          "height": 265
        },
        "id": "r-XtFgxLA_e7",
        "outputId": "b7e2d2ef-e143-4db5-b36a-595f0c17612c"
      },
      "execution_count": null,
      "outputs": [
        {
          "output_type": "display_data",
          "data": {
            "image/png": "[encoded data removed]",
            "text/plain": [
              "<Figure size 432x288 with 1 Axes>"
            ]
          },
          "metadata": {
            "needs_background": "light"
          }
        }
      ]
    }
  ]
}