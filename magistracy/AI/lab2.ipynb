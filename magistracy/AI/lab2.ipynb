{
 "cells": [
  {
   "cell_type": "markdown",
   "id": "f605a7c0",
   "metadata": {},
   "source": [
    "# Лабораторная работа №2. Метаэвристические методы оптимизации"
   ]
  },
  {
   "cell_type": "code",
   "execution_count": 11,
   "id": "a394c32f",
   "metadata": {},
   "outputs": [
    {
     "name": "stdout",
     "output_type": "stream",
     "text": [
      "created virtual environment CPython3.8.14.final.0-64 in 578ms\r\n",
      "  creator CPython3Posix(dest=/Users/tainella/Documents/GIT/MAI/magistracy/AI/venv, clear=False, no_vcs_ignore=False, global=False)\r\n",
      "  seeder FromAppData(download=False, pip=bundle, setuptools=bundle, wheel=bundle, via=copy, app_data_dir=/Users/tainella/Library/Application Support/virtualenv)\r\n",
      "    added seed packages: pip==22.2.2, setuptools==65.3.0, wheel==0.37.1\r\n",
      "  activators BashActivator,CShellActivator,FishActivator,NushellActivator,PowerShellActivator,PythonActivator\r\n"
     ]
    }
   ],
   "source": [
    "!virtualenv venv -p 3.8"
   ]
  },
  {
   "cell_type": "code",
   "execution_count": 17,
   "id": "14e622f4",
   "metadata": {},
   "outputs": [
    {
     "name": "stdout",
     "output_type": "stream",
     "text": [
      "total 7600\r\n",
      "drwxr-xr-x  8 tainella  staff      256  1 окт 15:35 \u001b[34m.\u001b[m\u001b[m\r\n",
      "drwxr-xr-x  6 tainella  staff      192 29 сен 18:53 \u001b[34m..\u001b[m\u001b[m\r\n",
      "drwxr-xr-x  4 tainella  staff      128  1 окт 15:01 \u001b[34m.ipynb_checkpoints\u001b[m\u001b[m\r\n",
      "-rw-r--r--@ 1 tainella  staff  3671062 19 сен 13:55 100_Numpy_exercises.ipynb\r\n",
      "-rw-------@ 1 tainella  staff   208524  1 окт 15:09 AI_1.ipynb\r\n",
      "-rw-r--r--  1 tainella  staff     3538  1 окт 15:35 AI_2.ipynb\r\n",
      "-rw-r--r--  1 tainella  staff       91 11 сен 13:28 README.md\r\n",
      "drwxr-xr-x  6 tainella  staff      192  1 окт 15:34 \u001b[34mvenv\u001b[m\u001b[m\r\n"
     ]
    }
   ],
   "source": [
    "!ls -la"
   ]
  },
  {
   "cell_type": "code",
   "execution_count": 23,
   "id": "6c4d519a",
   "metadata": {},
   "outputs": [
    {
     "name": "stdout",
     "output_type": "stream",
     "text": [
      "Password:\n",
      "sudo: a password is required\n"
     ]
    }
   ],
   "source": [
    "!sudo python3 -m ipykernel install --name=venv"
   ]
  },
  {
   "cell_type": "code",
   "execution_count": 2,
   "id": "8fbbe7bb",
   "metadata": {},
   "outputs": [
    {
     "name": "stdout",
     "output_type": "stream",
     "text": [
      "3.10.6 (main, Aug 30 2022, 04:58:14) [Clang 13.1.6 (clang-1316.0.21.2.5)]\n"
     ]
    }
   ],
   "source": [
    "import sys\n",
    "\n",
    "print(sys.version)"
   ]
  },
  {
   "cell_type": "code",
   "execution_count": 3,
   "id": "8451126d",
   "metadata": {},
   "outputs": [
    {
     "name": "stdout",
     "output_type": "stream",
     "text": [
      "outside virtualenv or venv\n"
     ]
    }
   ],
   "source": [
    "def is_venv():\n",
    "    return (hasattr(sys, 'real_prefix') or\n",
    "            (hasattr(sys, 'base_prefix') and sys.base_prefix != sys.prefix))\n",
    "\n",
    "if is_venv():\n",
    "    print('inside virtualenv or venv')\n",
    "else:\n",
    "    print('outside virtualenv or venv')"
   ]
  },
  {
   "cell_type": "code",
   "execution_count": 19,
   "id": "616cd321",
   "metadata": {},
   "outputs": [
    {
     "name": "stdout",
     "output_type": "stream",
     "text": [
      "\u001b[31mERROR: Could not find a version that satisfies the requirement pygmo (from versions: none)\u001b[0m\u001b[31m\r\n",
      "\u001b[0m\u001b[31mERROR: No matching distribution found for pygmo\u001b[0m\u001b[31m\r\n",
      "\u001b[0m"
     ]
    }
   ],
   "source": [
    "!pip3 install pygmo"
   ]
  },
  {
   "cell_type": "code",
   "execution_count": 1,
   "id": "434694b1",
   "metadata": {},
   "outputs": [
    {
     "name": "stdout",
     "output_type": "stream",
     "text": [
      "Python 3.10.6\r\n"
     ]
    }
   ],
   "source": [
    "!python3 --version"
   ]
  },
  {
   "cell_type": "code",
   "execution_count": null,
   "id": "fbdcc4e8",
   "metadata": {},
   "outputs": [],
   "source": [
    "import pygmo as pg"
   ]
  },
  {
   "cell_type": "markdown",
   "id": "db851eed",
   "metadata": {},
   "source": [
    "## Функция Швефеля\n",
    "### x,y от -10 до 10\n",
    "### глобальный экстремум 0\n",
    "### точка глобального экстремума (0, 0)"
   ]
  },
  {
   "cell_type": "code",
   "execution_count": null,
   "id": "7a7afc4c",
   "metadata": {},
   "outputs": [
    {
     "name": "stdout",
     "output_type": "stream",
     "text": [
      "ERROR! Session/line number was not unique in database. History logging moved to new session 24\n"
     ]
    }
   ],
   "source": [
    "class Shvefel:\n",
    "    def fitness(self, x: np.ndarray) -> np.float64:\n",
    "        return x[0] * x[0] + (x[0] + x[1]) ** 2\n",
    "\n",
    "    def get_bounds(self):\n",
    "        return ([-10,10],[-10,10])"
   ]
  },
  {
   "cell_type": "code",
   "execution_count": null,
   "id": "6ba48437",
   "metadata": {},
   "outputs": [],
   "source": [
    "prob = pg.problem(Shvefel())\n",
    "print(prob) "
   ]
  }
 ],
 "metadata": {
  "kernelspec": {
   "display_name": "venv",
   "language": "python",
   "name": "venv"
  },
  "language_info": {
   "codemirror_mode": {
    "name": "ipython",
    "version": 3
   },
   "file_extension": ".py",
   "mimetype": "text/x-python",
   "name": "python",
   "nbconvert_exporter": "python",
   "pygments_lexer": "ipython3",
   "version": "3.10.6"
  }
 },
 "nbformat": 4,
 "nbformat_minor": 5
}
