{
 "cells": [
  {
   "cell_type": "code",
   "execution_count": 2,
   "id": "262d3518",
   "metadata": {},
   "outputs": [],
   "source": [
    "import numpy as np\n",
    "from matplotlib import pyplot as plt"
   ]
  },
  {
   "cell_type": "code",
   "execution_count": 3,
   "id": "725b8e53",
   "metadata": {},
   "outputs": [],
   "source": [
    "n_stores = 1000\n",
    "t_max = 200"
   ]
  },
  {
   "cell_type": "code",
   "execution_count": 4,
   "id": "edd5e015",
   "metadata": {},
   "outputs": [
    {
     "data": {
      "text/plain": [
       "array([-1,  1])"
      ]
     },
     "execution_count": 4,
     "metadata": {},
     "output_type": "execute_result"
    }
   ],
   "source": [
    "t = np.arange(t_max)\n",
    "steps = 2 * np.random.randint(0, 2, (n_stores, t_max)) - 1\n",
    "np.unique(steps)"
   ]
  },
  {
   "cell_type": "code",
   "execution_count": 5,
   "id": "2b71741c",
   "metadata": {},
   "outputs": [],
   "source": [
    "positions = np.cumsum(steps, axis = 1) #сумма предыдущих ячеек по оси\n",
    "#axis 1 - столбцы (столбец - время), 0 - строки (строка - частица)"
   ]
  },
  {
   "cell_type": "code",
   "execution_count": 6,
   "id": "0ec5d142",
   "metadata": {},
   "outputs": [
    {
     "data": {
      "text/plain": [
       "array([[ -1,  -2,  -3, ..., -12, -13, -12],\n",
       "       [  1,   2,   3, ...,  -4,  -3,  -4],\n",
       "       [ -1,   0,  -1, ..., -14, -15, -16],\n",
       "       ...,\n",
       "       [  1,   2,   1, ...,  -8,  -7,  -8],\n",
       "       [  1,   2,   1, ...,  -2,  -1,   0],\n",
       "       [ -1,  -2,  -1, ...,   8,   7,   8]])"
      ]
     },
     "execution_count": 6,
     "metadata": {},
     "output_type": "execute_result"
    }
   ],
   "source": [
    "positions"
   ]
  },
  {
   "cell_type": "code",
   "execution_count": 7,
   "id": "f43b64fb",
   "metadata": {},
   "outputs": [
    {
     "data": {
      "text/plain": [
       "array([[  1,   4,   9, ..., 144, 169, 144],\n",
       "       [  1,   4,   9, ...,  16,   9,  16],\n",
       "       [  1,   0,   1, ..., 196, 225, 256],\n",
       "       ...,\n",
       "       [  1,   4,   1, ...,  64,  49,  64],\n",
       "       [  1,   4,   1, ...,   4,   1,   0],\n",
       "       [  1,   4,   1, ...,  64,  49,  64]])"
      ]
     },
     "execution_count": 7,
     "metadata": {},
     "output_type": "execute_result"
    }
   ],
   "source": [
    "sq_distance = positions ** 2\n",
    "sq_distance"
   ]
  },
  {
   "cell_type": "code",
   "execution_count": 8,
   "id": "c43497c5",
   "metadata": {},
   "outputs": [
    {
     "data": {
      "text/plain": [
       "array([  1.   ,   2.016,   2.976,   3.916,   5.088,   6.256,   7.344,\n",
       "         8.204,   9.128,  10.144,  11.28 ,  12.34 ,  13.488,  14.048,\n",
       "        14.92 ,  16.008,  17.104,  18.292,  19.344,  20.316,  21.016,\n",
       "        22.432,  23.568,  24.828,  25.584,  26.324,  27.072,  28.36 ,\n",
       "        28.936,  30.54 ,  30.808,  31.576,  32.808,  34.124,  35.112,\n",
       "        36.168,  36.552,  37.148,  37.728,  38.952,  40.008,  40.96 ,\n",
       "        42.528,  43.32 ,  44.68 ,  45.66 ,  46.68 ,  47.828,  48.784,\n",
       "        49.92 ,  50.744,  52.016,  52.752,  53.84 ,  54.224,  55.308,\n",
       "        57.056,  57.632,  58.6  ,  58.708,  59.528,  60.244,  61.272,\n",
       "        62.48 ,  63.704,  64.744,  65.88 ,  68.004,  68.968,  69.64 ,\n",
       "        71.08 ,  72.356,  73.48 ,  74.544,  74.784,  75.568,  76.584,\n",
       "        77.388,  78.752,  79.648,  80.768,  81.408,  82.88 ,  84.312,\n",
       "        85.496,  86.492,  87.24 ,  88.084,  89.216,  89.448,  89.568,\n",
       "        89.4  ,  89.784,  90.96 ,  90.728,  91.588,  92.144,  92.468,\n",
       "        93.376,  94.92 ,  95.112,  95.764,  98.352,  97.8  ,  98.616,\n",
       "        99.52 , 100.464, 101.64 , 101.968, 102.448, 102.744, 104.784,\n",
       "       106.4  , 107.808, 108.64 , 109.2  , 111.176, 112.516, 114.384,\n",
       "       115.908, 115.816, 117.816, 118.736, 119.816, 120.328, 120.952,\n",
       "       122.296, 123.092, 124.096, 126.836, 127.192, 128.964, 130.208,\n",
       "       131.664, 132.536, 132.636, 133.512, 134.944, 137.064, 137.972,\n",
       "       138.568, 138.584, 139.584, 139.904, 141.16 , 142.46 , 143.464,\n",
       "       145.944, 146.424, 148.78 , 149.664, 150.192, 151.128, 151.348,\n",
       "       153.128, 154.852, 155.984, 156.704, 157.112, 157.728, 158.272,\n",
       "       159.108, 160.312, 160.536, 160.992, 161.56 , 162.984, 164.416,\n",
       "       164.664, 164.932, 165.152, 166.716, 167.856, 169.168, 170.856,\n",
       "       171.604, 172.72 , 172.888, 174.816, 175.88 , 177.488, 179.184,\n",
       "       179.952, 181.656, 182.984, 184.38 , 184.864, 187.092, 186.72 ,\n",
       "       186.392, 186.272, 186.824, 188.   , 188.9  , 190.144, 189.74 ,\n",
       "       191.176, 193.688, 195.512, 196.012])"
      ]
     },
     "execution_count": 8,
     "metadata": {},
     "output_type": "execute_result"
    }
   ],
   "source": [
    "#для каждого столбца кввадрата расстояний подсчет среднего арифметического\n",
    "#то есть усреднение по частицам\n",
    "mean_sq_distance = np.mean(sq_distance, axis = 0)\n",
    "mean_sq_distance "
   ]
  },
  {
   "cell_type": "code",
   "execution_count": 9,
   "id": "64f415bb",
   "metadata": {},
   "outputs": [
    {
     "data": {
      "text/plain": [
       "array([ 1.        ,  1.41985915,  1.72510869,  1.97888858,  2.25565955,\n",
       "        2.50119971,  2.70998155,  2.86426256,  3.02125802,  3.18496468,\n",
       "        3.35857112,  3.51283361,  3.67260126,  3.74806617,  3.86264158,\n",
       "        4.00099988,  4.13569825,  4.27691478,  4.39818144,  4.50732737,\n",
       "        4.58432111,  4.73624324,  4.85468846,  4.98277031,  5.05806287,\n",
       "        5.13069196,  5.20307601,  5.32541078,  5.37921927,  5.52630075,\n",
       "        5.55049547,  5.61925262,  5.72782681,  5.84157513,  5.92553795,\n",
       "        6.0139837 ,  6.04582501,  6.09491591,  6.14231227,  6.24115374,\n",
       "        6.32518774,  6.4       ,  6.52134955,  6.58179307,  6.68430999,\n",
       "        6.75721836,  6.83227634,  6.91577906,  6.98455439,  7.06540869,\n",
       "        7.12348229,  7.21221187,  7.26305721,  7.33757453,  7.36369472,\n",
       "        7.43693485,  7.55354222,  7.59157428,  7.65506368,  7.66211459,\n",
       "        7.71543907,  7.76170084,  7.82764332,  7.90442914,  7.98147856,\n",
       "        8.04636564,  8.11664956,  8.24645378,  8.30469747,  8.34505842,\n",
       "        8.43089556,  8.50623301,  8.5720476 ,  8.63388673,  8.64777428,\n",
       "        8.69298568,  8.75122849,  8.79704496,  8.87423236,  8.92457282,\n",
       "        8.98710187,  9.0226382 ,  9.10384534,  9.18215661,  9.24640471,\n",
       "        9.30010753,  9.34023554,  9.38530767,  9.44542217,  9.45769528,\n",
       "        9.46403719,  9.45515732,  9.47544194,  9.53729521,  9.52512467,\n",
       "        9.57016196,  9.59916663,  9.61602829,  9.66312579,  9.74268957,\n",
       "        9.75253813,  9.78590824,  9.91725769,  9.88938825,  9.9305589 ,\n",
       "        9.97597113, 10.02317315, 10.08166653, 10.09792058, 10.12165994,\n",
       "       10.1362715 , 10.23640562, 10.31503757, 10.38306313, 10.42305138,\n",
       "       10.44988038, 10.54400303, 10.60735594, 10.69504558, 10.76605777,\n",
       "       10.76178424, 10.8543079 , 10.89660498, 10.94604952, 10.96941202,\n",
       "       10.99781797, 11.05875219, 11.09468341, 11.13983842, 11.262149  ,\n",
       "       11.27794307, 11.35623177, 11.41087201, 11.47449345, 11.51242807,\n",
       "       11.51677038, 11.55473929, 11.61653993, 11.70743354, 11.7461483 ,\n",
       "       11.77149098, 11.77217057, 11.81456728, 11.82810213, 11.88107739,\n",
       "       11.93566085, 11.97764585, 12.08072845, 12.1005785 , 12.19754074,\n",
       "       12.23372388, 12.25528457, 12.29341287, 12.3023575 , 12.37448989,\n",
       "       12.44395436, 12.48935547, 12.51814683, 12.53443258, 12.55898085,\n",
       "       12.58062002, 12.61380196, 12.66143752, 12.67028019, 12.68826229,\n",
       "       12.71062548, 12.76651871, 12.82248026, 12.83214713, 12.84258541,\n",
       "       12.85114781, 12.91185502, 12.95592529, 13.00645993, 13.07118969,\n",
       "       13.09977099, 13.14229812, 13.14868815, 13.22180018, 13.26197572,\n",
       "       13.32246223, 13.3859628 , 13.41461889, 13.47798204, 13.52715787,\n",
       "       13.57865973, 13.59647013, 13.67815777, 13.66455268, 13.65254555,\n",
       "       13.64815006, 13.66835762, 13.7113092 , 13.74408964, 13.78927119,\n",
       "       13.77461433, 13.82664095, 13.91718362, 13.98256057, 14.00042856])"
      ]
     },
     "execution_count": 9,
     "metadata": {},
     "output_type": "execute_result"
    }
   ],
   "source": [
    "sqrt_mean = np.sqrt(mean_sq_distance)\n",
    "sqrt_mean"
   ]
  },
  {
   "cell_type": "code",
   "execution_count": 10,
   "id": "13aee57a",
   "metadata": {},
   "outputs": [
    {
     "data": {
      "text/plain": [
       "[<matplotlib.lines.Line2D at 0x1175da2c0>]"
      ]
     },
     "execution_count": 10,
     "metadata": {},
     "output_type": "execute_result"
    },
    {
     "data": {
      "image/png": "[encoded data removed]",
      "text/plain": [
       "<Figure size 640x480 with 1 Axes>"
      ]
     },
     "metadata": {},
     "output_type": "display_data"
    }
   ],
   "source": [
    "plt.plot(t, sqrt_mean)"
   ]
  },
  {
   "cell_type": "code",
   "execution_count": null,
   "id": "150649b0",
   "metadata": {},
   "outputs": [],
   "source": []
  }
 ],
 "metadata": {
  "kernelspec": {
   "display_name": "Python 3 (ipykernel)",
   "language": "python",
   "name": "python3"
  },
  "language_info": {
   "codemirror_mode": {
    "name": "ipython",
    "version": 3
   },
   "file_extension": ".py",
   "mimetype": "text/x-python",
   "name": "python",
   "nbconvert_exporter": "python",
   "pygments_lexer": "ipython3",
   "version": "3.10.6"
  }
 },
 "nbformat": 4,
 "nbformat_minor": 5
}
