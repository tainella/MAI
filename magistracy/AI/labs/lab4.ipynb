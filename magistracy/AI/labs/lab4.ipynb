{
 "cells": [
  {
   "cell_type": "code",
   "execution_count": 1,
   "id": "cb5eda14",
   "metadata": {},
   "outputs": [],
   "source": [
    "import numpy as np\n",
    "import math\n",
    "\n",
    "import optuna"
   ]
  },
  {
   "cell_type": "markdown",
   "id": "5f90edeb",
   "metadata": {},
   "source": [
    "## Оптимизируем две функции"
   ]
  },
  {
   "cell_type": "markdown",
   "id": "fe41ae09",
   "metadata": {},
   "source": [
    "### Функция Швефеля\n",
    "\n",
    "$f(x, y) = x^2 + (x + y)^2 $, $x, y \\in [-10, 10]$\n",
    "\n",
    "Точка глобального экстремума:\n",
    "\n",
    "$ min = (0, 0) $\n",
    "\n",
    "Глобальный экстремум:\n",
    "\n",
    "$ f(min) = 0$"
   ]
  },
  {
   "cell_type": "code",
   "execution_count": 4,
   "id": "f568707b",
   "metadata": {},
   "outputs": [],
   "source": [
    "def func_Shvefel(x: np.ndarray) -> np.float64:\n",
    "    return x[0] * x[0] + (x[0] + x[1]) ** 2"
   ]
  },
  {
   "cell_type": "code",
   "execution_count": 7,
   "id": "cab20934",
   "metadata": {},
   "outputs": [],
   "source": [
    "def objective_Shvefel(trial):\n",
    "    x = trial.suggest_float(\"x\", -10, 10)\n",
    "    y = trial.suggest_float(\"y\", -10, 10)\n",
    "    return func_Shvefel(np.array([x, y]))"
   ]
  },
  {
   "cell_type": "code",
   "execution_count": 12,
   "id": "f25de41d",
   "metadata": {},
   "outputs": [],
   "source": [
    "def check_answer_Shvefel(x: np.ndarray, f_val: np.float32):\n",
    "    '''\n",
    "    x - the found minimum point\n",
    "    f_val - value at found minimum point\n",
    "    '''\n",
    "    \n",
    "    x_answer = np.array([0, 0])\n",
    "    f_answer = 0\n",
    "    print(\"Distance to the answer point\", math.sqrt((x[0] - x_answer[0]) ** 2 + (x[1] - x_answer[1]) ** 2))\n",
    "    print(\"Function value differece\", f_val - f_answer)"
   ]
  },
  {
   "cell_type": "code",
   "execution_count": 18,
   "id": "6f1a7cc9",
   "metadata": {},
   "outputs": [
    {
     "name": "stderr",
     "output_type": "stream",
     "text": [
      "\u001b[32m[I 2022-11-15 12:29:46,444]\u001b[0m A new study created in memory with name: no-name-575360f3-c7fe-4d5f-acd2-249a0dffa08c\u001b[0m\n",
      "\u001b[32m[I 2022-11-15 12:29:46,449]\u001b[0m Trial 0 finished with value: 19.015616428424153 and parameters: {'x': -1.9169244391129947, 'y': 5.833685489158745}. Best is trial 0 with value: 19.015616428424153.\u001b[0m\n",
      "\u001b[32m[I 2022-11-15 12:29:46,452]\u001b[0m Trial 1 finished with value: 49.87925885332808 and parameters: {'x': 6.516025092032798, 'y': -9.240116840364166}. Best is trial 0 with value: 19.015616428424153.\u001b[0m\n",
      "\u001b[32m[I 2022-11-15 12:29:46,453]\u001b[0m Trial 2 finished with value: 22.937606521863067 and parameters: {'x': -2.194217314004012, 'y': 6.451330995923733}. Best is trial 0 with value: 19.015616428424153.\u001b[0m\n",
      "\u001b[32m[I 2022-11-15 12:29:46,455]\u001b[0m Trial 3 finished with value: 158.11428798212097 and parameters: {'x': -9.550975609336621, 'y': 1.3721521675463588}. Best is trial 0 with value: 19.015616428424153.\u001b[0m\n",
      "\u001b[32m[I 2022-11-15 12:29:46,456]\u001b[0m Trial 4 finished with value: 100.16951518282356 and parameters: {'x': -4.281687233766293, 'y': -4.764674997264824}. Best is trial 0 with value: 19.015616428424153.\u001b[0m\n",
      "\u001b[32m[I 2022-11-15 12:29:46,457]\u001b[0m Trial 5 finished with value: 3.4012360994004807 and parameters: {'x': 0.33591082676586836, 'y': -2.1493054379473264}. Best is trial 5 with value: 3.4012360994004807.\u001b[0m\n",
      "\u001b[32m[I 2022-11-15 12:29:46,459]\u001b[0m Trial 6 finished with value: 67.07131588315126 and parameters: {'x': -7.228809476523068, 'y': 3.3797018610774376}. Best is trial 5 with value: 3.4012360994004807.\u001b[0m\n",
      "\u001b[32m[I 2022-11-15 12:29:46,460]\u001b[0m Trial 7 finished with value: 234.5979620749785 and parameters: {'x': 4.7160177037527085, 'y': 9.856461120828563}. Best is trial 5 with value: 3.4012360994004807.\u001b[0m\n",
      "\u001b[32m[I 2022-11-15 12:29:46,461]\u001b[0m Trial 8 finished with value: 49.32701201804354 and parameters: {'x': 1.9192670780084864, 'y': -8.675258929788379}. Best is trial 5 with value: 3.4012360994004807.\u001b[0m\n",
      "\u001b[32m[I 2022-11-15 12:29:46,463]\u001b[0m Trial 9 finished with value: 32.832738407294826 and parameters: {'x': -5.188827593745335, 'y': 7.619631289991048}. Best is trial 5 with value: 3.4012360994004807.\u001b[0m\n",
      "\u001b[32m[I 2022-11-15 12:29:46,469]\u001b[0m Trial 10 finished with value: 146.96600582154628 and parameters: {'x': 9.820717776918444, 'y': -2.7130101177878077}. Best is trial 5 with value: 3.4012360994004807.\u001b[0m\n",
      "\u001b[32m[I 2022-11-15 12:29:46,475]\u001b[0m Trial 11 finished with value: 4.2694587357669445 and parameters: {'x': -0.025518660083170774, 'y': -2.0405906143150894}. Best is trial 5 with value: 3.4012360994004807.\u001b[0m\n",
      "\u001b[32m[I 2022-11-15 12:29:46,479]\u001b[0m Trial 12 finished with value: 2.640218843367209 and parameters: {'x': 1.352149021150979, 'y': -2.2532105440048062}. Best is trial 12 with value: 2.640218843367209.\u001b[0m\n",
      "\u001b[32m[I 2022-11-15 12:29:46,484]\u001b[0m Trial 13 finished with value: 15.829566375000987 and parameters: {'x': 2.6065955227487487, 'y': -5.612460815104207}. Best is trial 12 with value: 2.640218843367209.\u001b[0m\n",
      "\u001b[32m[I 2022-11-15 12:29:46,487]\u001b[0m Trial 14 finished with value: 5.637509898162856 and parameters: {'x': 1.443477447198525, 'y': 0.4416970162377072}. Best is trial 12 with value: 2.640218843367209.\u001b[0m\n",
      "\u001b[32m[I 2022-11-15 12:29:46,492]\u001b[0m Trial 15 finished with value: 37.904171353460356 and parameters: {'x': 5.298052164005205, 'y': -2.162001363884117}. Best is trial 12 with value: 2.640218843367209.\u001b[0m\n",
      "\u001b[32m[I 2022-11-15 12:29:46,496]\u001b[0m Trial 16 finished with value: 46.99722233134814 and parameters: {'x': -0.785663208990111, 'y': -6.02461987274647}. Best is trial 12 with value: 2.640218843367209.\u001b[0m\n",
      "\u001b[32m[I 2022-11-15 12:29:46,499]\u001b[0m Trial 17 finished with value: 185.9167841760434 and parameters: {'x': 8.230157909551107, 'y': 2.6409636958719855}. Best is trial 12 with value: 2.640218843367209.\u001b[0m\n",
      "\u001b[32m[I 2022-11-15 12:29:46,502]\u001b[0m Trial 18 finished with value: 24.35896741047859 and parameters: {'x': 3.9926433277626217, 'y': -1.0913045561347354}. Best is trial 12 with value: 2.640218843367209.\u001b[0m\n",
      "\u001b[32m[I 2022-11-15 12:29:46,506]\u001b[0m Trial 19 finished with value: 9.199399731761902 and parameters: {'x': 1.2897919598785106, 'y': -4.034939757720123}. Best is trial 12 with value: 2.640218843367209.\u001b[0m\n",
      "\u001b[32m[I 2022-11-15 12:29:46,509]\u001b[0m Trial 20 finished with value: 102.57465129838882 and parameters: {'x': -3.1687327378095493, 'y': -6.450715486216755}. Best is trial 12 with value: 2.640218843367209.\u001b[0m\n",
      "\u001b[32m[I 2022-11-15 12:29:46,512]\u001b[0m Trial 21 finished with value: 1.0077438334353497 and parameters: {'x': -0.06045756570680316, 'y': -0.9415847069464802}. Best is trial 21 with value: 1.0077438334353497.\u001b[0m\n",
      "\u001b[32m[I 2022-11-15 12:29:46,515]\u001b[0m Trial 22 finished with value: 0.5210137350794551 and parameters: {'x': -0.49582520635151384, 'y': -0.02874232964927026}. Best is trial 22 with value: 0.5210137350794551.\u001b[0m\n",
      "\u001b[32m[I 2022-11-15 12:29:46,518]\u001b[0m Trial 23 finished with value: 18.664959283190818 and parameters: {'x': 2.6986546954783406, 'y': 0.6751002034085842}. Best is trial 22 with value: 0.5210137350794551.\u001b[0m\n",
      "\u001b[32m[I 2022-11-15 12:29:46,521]\u001b[0m Trial 24 finished with value: 9.732303319290699 and parameters: {'x': -1.1434470121030076, 'y': 4.046003170009931}. Best is trial 22 with value: 0.5210137350794551.\u001b[0m\n",
      "\u001b[32m[I 2022-11-15 12:29:46,524]\u001b[0m Trial 25 finished with value: 70.61666991277608 and parameters: {'x': -5.690659564682871, 'y': -0.49262949791637245}. Best is trial 22 with value: 0.5210137350794551.\u001b[0m\n",
      "\u001b[32m[I 2022-11-15 12:29:46,527]\u001b[0m Trial 26 finished with value: 8.284029814675154 and parameters: {'x': -2.7548997267456796, 'y': 1.9214986766793056}. Best is trial 22 with value: 0.5210137350794551.\u001b[0m\n",
      "\u001b[32m[I 2022-11-15 12:29:46,530]\u001b[0m Trial 27 finished with value: 11.555324394159086 and parameters: {'x': 3.398495868926138, 'y': -3.472995688060548}. Best is trial 22 with value: 0.5210137350794551.\u001b[0m\n",
      "\u001b[32m[I 2022-11-15 12:29:46,532]\u001b[0m Trial 28 finished with value: 0.39803327321877435 and parameters: {'x': 0.6162329666601126, 'y': -0.4809916859058589}. Best is trial 28 with value: 0.39803327321877435.\u001b[0m\n",
      "\u001b[32m[I 2022-11-15 12:29:46,535]\u001b[0m Trial 29 finished with value: 9.670579203075118 and parameters: {'x': -1.3486690009913076, 'y': 4.150752356075561}. Best is trial 28 with value: 0.39803327321877435.\u001b[0m\n",
      "\u001b[32m[I 2022-11-15 12:29:46,538]\u001b[0m Trial 30 finished with value: 16.327621084514295 and parameters: {'x': -3.9630495607871774, 'y': 4.751630097738766}. Best is trial 28 with value: 0.39803327321877435.\u001b[0m\n",
      "\u001b[32m[I 2022-11-15 12:29:46,540]\u001b[0m Trial 31 finished with value: 0.427048258016956 and parameters: {'x': 0.3889226835211749, 'y': -0.9140773314675147}. Best is trial 28 with value: 0.39803327321877435.\u001b[0m\n",
      "\u001b[32m[I 2022-11-15 12:29:46,543]\u001b[0m Trial 32 finished with value: 0.20265011592785653 and parameters: {'x': 0.37960619423465586, 'y': -0.13763666469315083}. Best is trial 32 with value: 0.20265011592785653.\u001b[0m\n",
      "\u001b[32m[I 2022-11-15 12:29:46,546]\u001b[0m Trial 33 finished with value: 0.616824206092158 and parameters: {'x': 0.518524985726676, 'y': 0.07135300612359502}. Best is trial 32 with value: 0.20265011592785653.\u001b[0m\n",
      "\u001b[32m[I 2022-11-15 12:29:46,549]\u001b[0m Trial 34 finished with value: 2.5486267192184116 and parameters: {'x': -1.5963161757990179, 'y': 1.5762815532467864}. Best is trial 32 with value: 0.20265011592785653.\u001b[0m\n",
      "\u001b[32m[I 2022-11-15 12:29:46,552]\u001b[0m Trial 35 finished with value: 114.7720365630565 and parameters: {'x': 6.311865832057085, 'y': 2.3444836457058615}. Best is trial 32 with value: 0.20265011592785653.\u001b[0m\n",
      "\u001b[32m[I 2022-11-15 12:29:46,554]\u001b[0m Trial 36 finished with value: 14.817721717672422 and parameters: {'x': -2.2063498592319775, 'y': -0.947971306461119}. Best is trial 32 with value: 0.20265011592785653.\u001b[0m\n",
      "\u001b[32m[I 2022-11-15 12:29:46,557]\u001b[0m Trial 37 finished with value: 0.19967896259333473 and parameters: {'x': -0.4405005433189331, 'y': 0.5155887176812085}. Best is trial 37 with value: 0.19967896259333473.\u001b[0m\n",
      "\u001b[32m[I 2022-11-15 12:29:46,560]\u001b[0m Trial 38 finished with value: 82.88330371867715 and parameters: {'x': 2.5601020596366966, 'y': 6.1765552624128}. Best is trial 37 with value: 0.19967896259333473.\u001b[0m\n",
      "\u001b[32m[I 2022-11-15 12:29:46,563]\u001b[0m Trial 39 finished with value: 3.60616814846469 and parameters: {'x': 0.6599024120216557, 'y': 1.1207426831819594}. Best is trial 37 with value: 0.19967896259333473.\u001b[0m\n"
     ]
    },
    {
     "name": "stderr",
     "output_type": "stream",
     "text": [
      "\u001b[32m[I 2022-11-15 12:29:46,566]\u001b[0m Trial 40 finished with value: 79.74835165492462 and parameters: {'x': -7.732312250241558, 'y': 3.264684365145381}. Best is trial 37 with value: 0.19967896259333473.\u001b[0m\n",
      "\u001b[32m[I 2022-11-15 12:29:46,569]\u001b[0m Trial 41 finished with value: 1.1343550767868573 and parameters: {'x': -0.6710338230768892, 'y': -0.15605062549754228}. Best is trial 37 with value: 0.19967896259333473.\u001b[0m\n",
      "\u001b[32m[I 2022-11-15 12:29:46,572]\u001b[0m Trial 42 finished with value: 50.00797036000158 and parameters: {'x': -3.027813257041943, 'y': -3.362829687176005}. Best is trial 37 with value: 0.19967896259333473.\u001b[0m\n",
      "\u001b[32m[I 2022-11-15 12:29:46,574]\u001b[0m Trial 43 finished with value: 0.6497313417435964 and parameters: {'x': -0.12330630097684958, 'y': 0.9198782675203647}. Best is trial 37 with value: 0.19967896259333473.\u001b[0m\n",
      "\u001b[32m[I 2022-11-15 12:29:46,577]\u001b[0m Trial 44 finished with value: 15.398385729670672 and parameters: {'x': -1.9054765881406504, 'y': -1.5249089152275261}. Best is trial 37 with value: 0.19967896259333473.\u001b[0m\n",
      "\u001b[32m[I 2022-11-15 12:29:46,581]\u001b[0m Trial 45 finished with value: 10.771945547424036 and parameters: {'x': 2.0065316248696794, 'y': -4.603794874103742}. Best is trial 37 with value: 0.19967896259333473.\u001b[0m\n",
      "\u001b[32m[I 2022-11-15 12:29:46,584]\u001b[0m Trial 46 finished with value: 0.18378012810369057 and parameters: {'x': 0.3612982042001226, 'y': -0.1305521625321081}. Best is trial 46 with value: 0.18378012810369057.\u001b[0m\n",
      "\u001b[32m[I 2022-11-15 12:29:46,587]\u001b[0m Trial 47 finished with value: 14.324094843491276 and parameters: {'x': 3.6750040196228264, 'y': -2.7703271163875645}. Best is trial 46 with value: 0.18378012810369057.\u001b[0m\n",
      "\u001b[32m[I 2022-11-15 12:29:46,589]\u001b[0m Trial 48 finished with value: 73.81851493757225 and parameters: {'x': 0.92849588286677, 'y': 7.612956589229044}. Best is trial 46 with value: 0.18378012810369057.\u001b[0m\n",
      "\u001b[32m[I 2022-11-15 12:29:46,593]\u001b[0m Trial 49 finished with value: 71.67212027648462 and parameters: {'x': 4.540530486602371, 'y': 2.6047968800561407}. Best is trial 46 with value: 0.18378012810369057.\u001b[0m\n",
      "\u001b[32m[I 2022-11-15 12:29:46,597]\u001b[0m Trial 50 finished with value: 49.297649793699804 and parameters: {'x': -4.1355724785014765, 'y': -1.5384640096400095}. Best is trial 46 with value: 0.18378012810369057.\u001b[0m\n",
      "\u001b[32m[I 2022-11-15 12:29:46,600]\u001b[0m Trial 51 finished with value: 0.42829428687103155 and parameters: {'x': -0.4672016507519363, 'y': 0.008925637408779497}. Best is trial 46 with value: 0.18378012810369057.\u001b[0m\n",
      "\u001b[32m[I 2022-11-15 12:29:46,603]\u001b[0m Trial 52 finished with value: 4.790482784632575 and parameters: {'x': 0.6360542706526604, 'y': 1.4582040107961887}. Best is trial 46 with value: 0.18378012810369057.\u001b[0m\n",
      "\u001b[32m[I 2022-11-15 12:29:46,607]\u001b[0m Trial 53 finished with value: 8.800934860286235 and parameters: {'x': 1.8408817879928976, 'y': 0.4855079263332098}. Best is trial 46 with value: 0.18378012810369057.\u001b[0m\n",
      "\u001b[32m[I 2022-11-15 12:29:46,610]\u001b[0m Trial 54 finished with value: 15.651879049274509 and parameters: {'x': -2.4819176193741197, 'y': -0.5989854917143825}. Best is trial 46 with value: 0.18378012810369057.\u001b[0m\n",
      "\u001b[32m[I 2022-11-15 12:29:46,613]\u001b[0m Trial 55 finished with value: 2.908768320823468 and parameters: {'x': -0.010430211043106097, 'y': -1.6950490563539105}. Best is trial 46 with value: 0.18378012810369057.\u001b[0m\n",
      "\u001b[32m[I 2022-11-15 12:29:46,616]\u001b[0m Trial 56 finished with value: 9.078362861544717 and parameters: {'x': 3.0015271633911658, 'y': -2.738472893382675}. Best is trial 46 with value: 0.18378012810369057.\u001b[0m\n",
      "\u001b[32m[I 2022-11-15 12:29:46,619]\u001b[0m Trial 57 finished with value: 7.6876881255787675 and parameters: {'x': 1.8036635760144646, 'y': 0.3021583134475766}. Best is trial 46 with value: 0.18378012810369057.\u001b[0m\n",
      "\u001b[32m[I 2022-11-15 12:29:46,622]\u001b[0m Trial 58 finished with value: 5.054052579479015 and parameters: {'x': -0.9244917947093415, 'y': -1.1247440387159173}. Best is trial 46 with value: 0.18378012810369057.\u001b[0m\n",
      "\u001b[32m[I 2022-11-15 12:29:46,624]\u001b[0m Trial 59 finished with value: 20.26634508683078 and parameters: {'x': 1.133185306470922, 'y': 3.2236755070081102}. Best is trial 46 with value: 0.18378012810369057.\u001b[0m\n",
      "\u001b[32m[I 2022-11-15 12:29:46,627]\u001b[0m Trial 60 finished with value: 218.8124357439865 and parameters: {'x': -5.00163132396877, 'y': -8.919436158199431}. Best is trial 46 with value: 0.18378012810369057.\u001b[0m\n",
      "\u001b[32m[I 2022-11-15 12:29:46,631]\u001b[0m Trial 61 finished with value: 0.804597550637458 and parameters: {'x': -0.469248068201101, 'y': -0.2952150120892377}. Best is trial 46 with value: 0.18378012810369057.\u001b[0m\n",
      "\u001b[32m[I 2022-11-15 12:29:46,634]\u001b[0m Trial 62 finished with value: 2.928245978676221 and parameters: {'x': -1.6883656055126688, 'y': 1.9670546092391534}. Best is trial 46 with value: 0.18378012810369057.\u001b[0m\n",
      "\u001b[32m[I 2022-11-15 12:29:46,637]\u001b[0m Trial 63 finished with value: 0.48333819256612087 and parameters: {'x': -0.5353876599315506, 'y': 0.9788944199241568}. Best is trial 46 with value: 0.18378012810369057.\u001b[0m\n",
      "\u001b[32m[I 2022-11-15 12:29:46,639]\u001b[0m Trial 64 finished with value: 14.050288681921014 and parameters: {'x': 2.25457059588994, 'y': 0.7399577659843464}. Best is trial 46 with value: 0.18378012810369057.\u001b[0m\n",
      "\u001b[32m[I 2022-11-15 12:29:46,643]\u001b[0m Trial 65 finished with value: 2.722536621033877 and parameters: {'x': 0.5323521995764537, 'y': -2.0941261129966993}. Best is trial 46 with value: 0.18378012810369057.\u001b[0m\n",
      "\u001b[32m[I 2022-11-15 12:29:46,646]\u001b[0m Trial 66 finished with value: 8.3189624805374 and parameters: {'x': 1.2496027374327876, 'y': 1.3499078855764515}. Best is trial 46 with value: 0.18378012810369057.\u001b[0m\n",
      "\u001b[32m[I 2022-11-15 12:29:46,649]\u001b[0m Trial 67 finished with value: 28.42669533220501 and parameters: {'x': -3.5060600184250985, 'y': -0.5106847431207489}. Best is trial 46 with value: 0.18378012810369057.\u001b[0m\n",
      "\u001b[32m[I 2022-11-15 12:29:46,652]\u001b[0m Trial 68 finished with value: 18.31034785028336 and parameters: {'x': -1.1279851575245994, 'y': 5.2556960648784035}. Best is trial 46 with value: 0.18378012810369057.\u001b[0m\n",
      "\u001b[32m[I 2022-11-15 12:29:46,655]\u001b[0m Trial 69 finished with value: 3.5835309132949718 and parameters: {'x': -0.05967397111700462, 'y': 1.951754817821526}. Best is trial 46 with value: 0.18378012810369057.\u001b[0m\n",
      "\u001b[32m[I 2022-11-15 12:29:46,657]\u001b[0m Trial 70 finished with value: 36.98119971155221 and parameters: {'x': -2.307989367211475, 'y': -3.3182335925005715}. Best is trial 46 with value: 0.18378012810369057.\u001b[0m\n",
      "\u001b[32m[I 2022-11-15 12:29:46,661]\u001b[0m Trial 71 finished with value: 0.16018601698561488 and parameters: {'x': -0.364704046999312, 'y': 0.19984964127129246}. Best is trial 71 with value: 0.16018601698561488.\u001b[0m\n",
      "\u001b[32m[I 2022-11-15 12:29:46,664]\u001b[0m Trial 72 finished with value: 0.36938936930528593 and parameters: {'x': 0.22430214891351746, 'y': 0.3405676726366023}. Best is trial 71 with value: 0.16018601698561488.\u001b[0m\n",
      "\u001b[32m[I 2022-11-15 12:29:46,667]\u001b[0m Trial 73 finished with value: 0.28231731431081214 and parameters: {'x': 0.29694935892685365, 'y': 0.14366202601881795}. Best is trial 71 with value: 0.16018601698561488.\u001b[0m\n",
      "\u001b[32m[I 2022-11-15 12:29:46,670]\u001b[0m Trial 74 finished with value: 0.5765955078457309 and parameters: {'x': 0.2087486822053849, 'y': -0.938830523866473}. Best is trial 71 with value: 0.16018601698561488.\u001b[0m\n",
      "\u001b[32m[I 2022-11-15 12:29:46,673]\u001b[0m Trial 75 finished with value: 5.591391398844047 and parameters: {'x': 1.507030162508811, 'y': 0.3151255630351707}. Best is trial 71 with value: 0.16018601698561488.\u001b[0m\n",
      "\u001b[32m[I 2022-11-15 12:29:46,676]\u001b[0m Trial 76 finished with value: 10.028302827227067 and parameters: {'x': -1.295149011492772, 'y': -1.5946419610961389}. Best is trial 71 with value: 0.16018601698561488.\u001b[0m\n",
      "\u001b[32m[I 2022-11-15 12:29:46,679]\u001b[0m Trial 77 finished with value: 16.957075802320972 and parameters: {'x': 3.1961785578611797, 'y': -0.599735138760852}. Best is trial 71 with value: 0.16018601698561488.\u001b[0m\n",
      "\u001b[32m[I 2022-11-15 12:29:46,682]\u001b[0m Trial 78 finished with value: 3.4926609985747983 and parameters: {'x': 0.822364974719531, 'y': -2.500571412238272}. Best is trial 71 with value: 0.16018601698561488.\u001b[0m\n",
      "\u001b[32m[I 2022-11-15 12:29:46,686]\u001b[0m Trial 79 finished with value: 10.157356423128299 and parameters: {'x': 0.2768219391281083, 'y': 2.8981939721935426}. Best is trial 71 with value: 0.16018601698561488.\u001b[0m\n"
     ]
    },
    {
     "name": "stderr",
     "output_type": "stream",
     "text": [
      "\u001b[32m[I 2022-11-15 12:29:46,689]\u001b[0m Trial 80 finished with value: 163.24975906357318 and parameters: {'x': 2.5999597544887556, 'y': 9.909635296455617}. Best is trial 71 with value: 0.16018601698561488.\u001b[0m\n",
      "\u001b[32m[I 2022-11-15 12:29:46,691]\u001b[0m Trial 81 finished with value: 0.2048573248977184 and parameters: {'x': -0.41320362337996347, 'y': 0.22848738012185765}. Best is trial 71 with value: 0.16018601698561488.\u001b[0m\n",
      "\u001b[32m[I 2022-11-15 12:29:46,696]\u001b[0m Trial 82 finished with value: 12.797614421585642 and parameters: {'x': -1.9024577784559582, 'y': -1.127108002770464}. Best is trial 71 with value: 0.16018601698561488.\u001b[0m\n",
      "\u001b[32m[I 2022-11-15 12:29:46,700]\u001b[0m Trial 83 finished with value: 0.8105932747297951 and parameters: {'x': -0.8785570011905501, 'y': 0.6817553995993465}. Best is trial 71 with value: 0.16018601698561488.\u001b[0m\n",
      "\u001b[32m[I 2022-11-15 12:29:46,703]\u001b[0m Trial 84 finished with value: 12.519873771731971 and parameters: {'x': 1.558328987806061, 'y': 1.618380715250752}. Best is trial 71 with value: 0.16018601698561488.\u001b[0m\n",
      "\u001b[32m[I 2022-11-15 12:29:46,706]\u001b[0m Trial 85 finished with value: 0.0273079885665899 and parameters: {'x': -0.12575275039284328, 'y': 0.018541583366151748}. Best is trial 85 with value: 0.0273079885665899.\u001b[0m\n",
      "\u001b[32m[I 2022-11-15 12:29:46,709]\u001b[0m Trial 86 finished with value: 4.350738547464834 and parameters: {'x': -1.5027201037414555, 'y': 0.05614800485522853}. Best is trial 85 with value: 0.0273079885665899.\u001b[0m\n",
      "\u001b[32m[I 2022-11-15 12:29:46,712]\u001b[0m Trial 87 finished with value: 3.807532038545315 and parameters: {'x': -0.28177108332904593, 'y': 2.2126095268931083}. Best is trial 85 with value: 0.0273079885665899.\u001b[0m\n",
      "\u001b[32m[I 2022-11-15 12:29:46,715]\u001b[0m Trial 88 finished with value: 5.439738730679151 and parameters: {'x': 0.9552753465419603, 'y': 1.1724435594623759}. Best is trial 85 with value: 0.0273079885665899.\u001b[0m\n",
      "\u001b[32m[I 2022-11-15 12:29:46,718]\u001b[0m Trial 89 finished with value: 39.78547667871474 and parameters: {'x': 2.1555706941815336, 'y': 3.7722443890595487}. Best is trial 85 with value: 0.0273079885665899.\u001b[0m\n",
      "\u001b[32m[I 2022-11-15 12:29:46,721]\u001b[0m Trial 90 finished with value: 2.3608359599353523 and parameters: {'x': -0.9673971532020134, 'y': -0.22632756712172708}. Best is trial 85 with value: 0.0273079885665899.\u001b[0m\n",
      "\u001b[32m[I 2022-11-15 12:29:46,724]\u001b[0m Trial 91 finished with value: 49.198295281578574 and parameters: {'x': 0.25972233951174334, 'y': -7.269061793977985}. Best is trial 85 with value: 0.0273079885665899.\u001b[0m\n",
      "\u001b[32m[I 2022-11-15 12:29:46,727]\u001b[0m Trial 92 finished with value: 0.45215779687015467 and parameters: {'x': 0.6669805657938227, 'y': -0.7523897088846347}. Best is trial 85 with value: 0.0273079885665899.\u001b[0m\n",
      "\u001b[32m[I 2022-11-15 12:29:46,730]\u001b[0m Trial 93 finished with value: 0.2438320574795066 and parameters: {'x': 0.12241991557369719, 'y': 0.35595799126401984}. Best is trial 85 with value: 0.0273079885665899.\u001b[0m\n",
      "\u001b[32m[I 2022-11-15 12:29:46,733]\u001b[0m Trial 94 finished with value: 0.062279552686508054 and parameters: {'x': -0.23387579294951083, 'y': 0.3209485565369013}. Best is trial 85 with value: 0.0273079885665899.\u001b[0m\n",
      "\u001b[32m[I 2022-11-15 12:29:46,736]\u001b[0m Trial 95 finished with value: 0.1801279507270745 and parameters: {'x': -0.4115767128274517, 'y': 0.5151747832014884}. Best is trial 85 with value: 0.0273079885665899.\u001b[0m\n",
      "\u001b[32m[I 2022-11-15 12:29:46,739]\u001b[0m Trial 96 finished with value: 10.643992075071623 and parameters: {'x': -2.658222173058569, 'y': 0.7667024259421392}. Best is trial 85 with value: 0.0273079885665899.\u001b[0m\n",
      "\u001b[32m[I 2022-11-15 12:29:46,742]\u001b[0m Trial 97 finished with value: 1.6510412779784256 and parameters: {'x': -0.4985600772863931, 'y': 1.682823193031628}. Best is trial 85 with value: 0.0273079885665899.\u001b[0m\n",
      "\u001b[32m[I 2022-11-15 12:29:46,745]\u001b[0m Trial 98 finished with value: 9.264595186205817 and parameters: {'x': -1.3964520273500842, 'y': -1.3080843324564644}. Best is trial 85 with value: 0.0273079885665899.\u001b[0m\n",
      "\u001b[32m[I 2022-11-15 12:29:46,748]\u001b[0m Trial 99 finished with value: 208.77748949384443 and parameters: {'x': 9.635028837129646, 'y': 1.1326872067454232}. Best is trial 85 with value: 0.0273079885665899.\u001b[0m\n",
      "\u001b[32m[I 2022-11-15 12:29:46,751]\u001b[0m Trial 100 finished with value: 18.198230539269858 and parameters: {'x': -1.9800527608933274, 'y': -1.798521256292067}. Best is trial 85 with value: 0.0273079885665899.\u001b[0m\n",
      "\u001b[32m[I 2022-11-15 12:29:46,754]\u001b[0m Trial 101 finished with value: 0.13848044894804912 and parameters: {'x': -0.10947396967586748, 'y': 0.4651365891784747}. Best is trial 85 with value: 0.0273079885665899.\u001b[0m\n",
      "\u001b[32m[I 2022-11-15 12:29:46,757]\u001b[0m Trial 102 finished with value: 0.11483988814008868 and parameters: {'x': -0.23209379812964698, 'y': -0.014832014635732721}. Best is trial 85 with value: 0.0273079885665899.\u001b[0m\n",
      "\u001b[32m[I 2022-11-15 12:29:46,760]\u001b[0m Trial 103 finished with value: 0.22278736923390435 and parameters: {'x': -0.20128626231055602, 'y': -0.225646062348693}. Best is trial 85 with value: 0.0273079885665899.\u001b[0m\n",
      "\u001b[32m[I 2022-11-15 12:29:46,763]\u001b[0m Trial 104 finished with value: 1.8728303674334132 and parameters: {'x': -0.8367309955077302, 'y': -0.2461871032375331}. Best is trial 85 with value: 0.0273079885665899.\u001b[0m\n",
      "\u001b[32m[I 2022-11-15 12:29:46,766]\u001b[0m Trial 105 finished with value: 0.27676050312414757 and parameters: {'x': -0.4086030966928467, 'y': 0.7399699817268883}. Best is trial 85 with value: 0.0273079885665899.\u001b[0m\n",
      "\u001b[32m[I 2022-11-15 12:29:46,769]\u001b[0m Trial 106 finished with value: 13.894795877129928 and parameters: {'x': 1.088406420110316, 'y': 2.476725743189184}. Best is trial 85 with value: 0.0273079885665899.\u001b[0m\n",
      "\u001b[32m[I 2022-11-15 12:29:46,772]\u001b[0m Trial 107 finished with value: 0.1690376936193237 and parameters: {'x': -0.1805126661105924, 'y': -0.1888826113266936}. Best is trial 85 with value: 0.0273079885665899.\u001b[0m\n",
      "\u001b[32m[I 2022-11-15 12:29:46,774]\u001b[0m Trial 108 finished with value: 1.5244884003382932 and parameters: {'x': -1.2241197057645448, 'y': 1.3854248398961575}. Best is trial 85 with value: 0.0273079885665899.\u001b[0m\n",
      "\u001b[32m[I 2022-11-15 12:29:46,777]\u001b[0m Trial 109 finished with value: 8.041595304219841 and parameters: {'x': -1.7089485194231853, 'y': -0.5540340837315857}. Best is trial 85 with value: 0.0273079885665899.\u001b[0m\n",
      "\u001b[32m[I 2022-11-15 12:29:46,781]\u001b[0m Trial 110 finished with value: 8.07802132026021 and parameters: {'x': 1.4307841689203773, 'y': 1.0250004271358468}. Best is trial 85 with value: 0.0273079885665899.\u001b[0m\n",
      "\u001b[32m[I 2022-11-15 12:29:46,784]\u001b[0m Trial 111 finished with value: 179.53486374096485 and parameters: {'x': -9.418808703070694, 'y': -0.11119163039858676}. Best is trial 85 with value: 0.0273079885665899.\u001b[0m\n",
      "\u001b[32m[I 2022-11-15 12:29:46,787]\u001b[0m Trial 112 finished with value: 2.0589516564188752 and parameters: {'x': -0.1806850109843351, 'y': -1.2427982461087947}. Best is trial 85 with value: 0.0273079885665899.\u001b[0m\n",
      "\u001b[32m[I 2022-11-15 12:29:46,790]\u001b[0m Trial 113 finished with value: 0.6414530484831749 and parameters: {'x': -0.770658165856982, 'y': 0.5526236734455121}. Best is trial 85 with value: 0.0273079885665899.\u001b[0m\n",
      "\u001b[32m[I 2022-11-15 12:29:46,793]\u001b[0m Trial 114 finished with value: 0.17435106368174821 and parameters: {'x': -0.3247822234601263, 'y': 0.0623559080760841}. Best is trial 85 with value: 0.0273079885665899.\u001b[0m\n",
      "\u001b[32m[I 2022-11-15 12:29:46,797]\u001b[0m Trial 115 finished with value: 0.9176989303997048 and parameters: {'x': 0.9423962226863141, 'y': -0.7703837525968695}. Best is trial 85 with value: 0.0273079885665899.\u001b[0m\n",
      "\u001b[32m[I 2022-11-15 12:29:46,800]\u001b[0m Trial 116 finished with value: 9.045394621829887 and parameters: {'x': -2.1898788147417916, 'y': 0.128368349433654}. Best is trial 85 with value: 0.0273079885665899.\u001b[0m\n",
      "\u001b[32m[I 2022-11-15 12:29:46,802]\u001b[0m Trial 117 finished with value: 1.6881630506521113 and parameters: {'x': -0.6123510167621697, 'y': 1.7582957287454521}. Best is trial 85 with value: 0.0273079885665899.\u001b[0m\n",
      "\u001b[32m[I 2022-11-15 12:29:46,805]\u001b[0m Trial 118 finished with value: 2.0500181502046484 and parameters: {'x': 0.5171374343249494, 'y': -1.8522730170372284}. Best is trial 85 with value: 0.0273079885665899.\u001b[0m\n",
      "\u001b[32m[I 2022-11-15 12:29:46,808]\u001b[0m Trial 119 finished with value: 96.43346316903595 and parameters: {'x': -0.029392024267207995, 'y': -9.79061812226245}. Best is trial 85 with value: 0.0273079885665899.\u001b[0m\n"
     ]
    },
    {
     "name": "stderr",
     "output_type": "stream",
     "text": [
      "\u001b[32m[I 2022-11-15 12:29:46,811]\u001b[0m Trial 120 finished with value: 8.543209482822554 and parameters: {'x': 1.7403189727931936, 'y': 0.6079781454945664}. Best is trial 85 with value: 0.0273079885665899.\u001b[0m\n",
      "\u001b[32m[I 2022-11-15 12:29:46,815]\u001b[0m Trial 121 finished with value: 2.5525909669010822 and parameters: {'x': -1.0968828202992276, 'y': -0.06477076207096179}. Best is trial 85 with value: 0.0273079885665899.\u001b[0m\n",
      "\u001b[32m[I 2022-11-15 12:29:46,818]\u001b[0m Trial 122 finished with value: 0.23924091313732512 and parameters: {'x': -0.1886873472365839, 'y': -0.26257532364385344}. Best is trial 85 with value: 0.0273079885665899.\u001b[0m\n",
      "\u001b[32m[I 2022-11-15 12:29:46,821]\u001b[0m Trial 123 finished with value: 0.3703170202743692 and parameters: {'x': 0.5046338451467647, 'y': -0.8447245721693643}. Best is trial 85 with value: 0.0273079885665899.\u001b[0m\n",
      "\u001b[32m[I 2022-11-15 12:29:46,824]\u001b[0m Trial 124 finished with value: 0.29652626158012496 and parameters: {'x': -0.5141560038638253, 'y': 0.33479640620898277}. Best is trial 85 with value: 0.0273079885665899.\u001b[0m\n",
      "\u001b[32m[I 2022-11-15 12:29:46,828]\u001b[0m Trial 125 finished with value: 2.6523646545726614 and parameters: {'x': -1.5606866538084685, 'y': 1.0952601577891863}. Best is trial 85 with value: 0.0273079885665899.\u001b[0m\n",
      "\u001b[32m[I 2022-11-15 12:29:46,831]\u001b[0m Trial 126 finished with value: 1.2466168980680508 and parameters: {'x': 1.0934568673329972, 'y': -1.319219967396668}. Best is trial 85 with value: 0.0273079885665899.\u001b[0m\n",
      "\u001b[32m[I 2022-11-15 12:29:46,834]\u001b[0m Trial 127 finished with value: 0.3915730775862615 and parameters: {'x': -0.12107211771097592, 'y': -0.4928616082719196}. Best is trial 85 with value: 0.0273079885665899.\u001b[0m\n",
      "\u001b[32m[I 2022-11-15 12:29:46,837]\u001b[0m Trial 128 finished with value: 11.20864927482934 and parameters: {'x': -1.0117443667279327, 'y': -2.179653855246823}. Best is trial 85 with value: 0.0273079885665899.\u001b[0m\n",
      "\u001b[32m[I 2022-11-15 12:29:46,840]\u001b[0m Trial 129 finished with value: 8.306235302978447 and parameters: {'x': 0.7656608057841887, 'y': 2.012827782183081}. Best is trial 85 with value: 0.0273079885665899.\u001b[0m\n",
      "\u001b[32m[I 2022-11-15 12:29:46,843]\u001b[0m Trial 130 finished with value: 84.60993217389672 and parameters: {'x': 0.014304391396194327, 'y': 9.184050220070114}. Best is trial 85 with value: 0.0273079885665899.\u001b[0m\n",
      "\u001b[32m[I 2022-11-15 12:29:46,846]\u001b[0m Trial 131 finished with value: 0.42976268869964335 and parameters: {'x': -0.39477914380240064, 'y': -0.12858699602543233}. Best is trial 85 with value: 0.0273079885665899.\u001b[0m\n",
      "\u001b[32m[I 2022-11-15 12:29:46,849]\u001b[0m Trial 132 finished with value: 0.5395790177742146 and parameters: {'x': -0.2634349454335826, 'y': -0.42226254420643355}. Best is trial 85 with value: 0.0273079885665899.\u001b[0m\n",
      "\u001b[32m[I 2022-11-15 12:29:46,852]\u001b[0m Trial 133 finished with value: 0.5354505115358642 and parameters: {'x': 0.3119034079606819, 'y': 0.35003826291249757}. Best is trial 85 with value: 0.0273079885665899.\u001b[0m\n",
      "\u001b[32m[I 2022-11-15 12:29:46,855]\u001b[0m Trial 134 finished with value: 0.6399699139269904 and parameters: {'x': -0.7884775521775746, 'y': 0.9236554484441257}. Best is trial 85 with value: 0.0273079885665899.\u001b[0m\n",
      "\u001b[32m[I 2022-11-15 12:29:46,859]\u001b[0m Trial 135 finished with value: 2.6329008133208918 and parameters: {'x': -1.1875289447801183, 'y': 0.08178222033083885}. Best is trial 85 with value: 0.0273079885665899.\u001b[0m\n",
      "\u001b[32m[I 2022-11-15 12:29:46,862]\u001b[0m Trial 136 finished with value: 2.0264535997188178 and parameters: {'x': 1.3380546219861649, 'y': -0.8521910317673885}. Best is trial 85 with value: 0.0273079885665899.\u001b[0m\n",
      "\u001b[32m[I 2022-11-15 12:29:46,865]\u001b[0m Trial 137 finished with value: 1.9915156616105005 and parameters: {'x': 0.03385225934875166, 'y': 1.3769523643137473}. Best is trial 85 with value: 0.0273079885665899.\u001b[0m\n",
      "\u001b[32m[I 2022-11-15 12:29:46,869]\u001b[0m Trial 138 finished with value: 0.49926246964644244 and parameters: {'x': 0.6429245199339138, 'y': -0.3498195364993277}. Best is trial 85 with value: 0.0273079885665899.\u001b[0m\n",
      "\u001b[32m[I 2022-11-15 12:29:46,872]\u001b[0m Trial 139 finished with value: 3.3395145692722927 and parameters: {'x': -1.5623901802971123, 'y': 0.6145233680373678}. Best is trial 85 with value: 0.0273079885665899.\u001b[0m\n",
      "\u001b[32m[I 2022-11-15 12:29:46,875]\u001b[0m Trial 140 finished with value: 4.0590196291266745 and parameters: {'x': -0.7471422000562427, 'y': -1.1238997989437243}. Best is trial 85 with value: 0.0273079885665899.\u001b[0m\n",
      "\u001b[32m[I 2022-11-15 12:29:46,879]\u001b[0m Trial 141 finished with value: 0.13364565977849677 and parameters: {'x': 0.08516454444351573, 'y': 0.27035290962621794}. Best is trial 85 with value: 0.0273079885665899.\u001b[0m\n",
      "\u001b[32m[I 2022-11-15 12:29:46,882]\u001b[0m Trial 142 finished with value: 0.07109780310345747 and parameters: {'x': -0.24869999340529497, 'y': 0.15254326517651368}. Best is trial 85 with value: 0.0273079885665899.\u001b[0m\n",
      "\u001b[32m[I 2022-11-15 12:29:46,885]\u001b[0m Trial 143 finished with value: 0.2417334347095375 and parameters: {'x': 0.17128032878072907, 'y': 0.2895846011958345}. Best is trial 85 with value: 0.0273079885665899.\u001b[0m\n",
      "\u001b[32m[I 2022-11-15 12:29:46,888]\u001b[0m Trial 144 finished with value: 0.42004173313784 and parameters: {'x': -0.46630270876832064, 'y': 0.9164177128874532}. Best is trial 85 with value: 0.0273079885665899.\u001b[0m\n",
      "\u001b[32m[I 2022-11-15 12:29:46,891]\u001b[0m Trial 145 finished with value: 5.625805943659805 and parameters: {'x': 0.8163576989329075, 'y': 1.4106057159108958}. Best is trial 85 with value: 0.0273079885665899.\u001b[0m\n",
      "\u001b[32m[I 2022-11-15 12:29:46,895]\u001b[0m Trial 146 finished with value: 0.7167934888316121 and parameters: {'x': 0.3055964517251744, 'y': 0.4839631074751403}. Best is trial 85 with value: 0.0273079885665899.\u001b[0m\n",
      "\u001b[32m[I 2022-11-15 12:29:46,898]\u001b[0m Trial 147 finished with value: 3.020077396284746 and parameters: {'x': -1.214805077748092, 'y': -0.027904067370828078}. Best is trial 85 with value: 0.0273079885665899.\u001b[0m\n",
      "\u001b[32m[I 2022-11-15 12:29:46,901]\u001b[0m Trial 148 finished with value: 2.7775080932286924 and parameters: {'x': -0.7249755305352095, 'y': -0.7756638576436707}. Best is trial 85 with value: 0.0273079885665899.\u001b[0m\n",
      "\u001b[32m[I 2022-11-15 12:29:46,904]\u001b[0m Trial 149 finished with value: 2.998477345311213 and parameters: {'x': -0.23870789326926725, 'y': -1.4763710807147767}. Best is trial 85 with value: 0.0273079885665899.\u001b[0m\n",
      "\u001b[32m[I 2022-11-15 12:29:46,907]\u001b[0m Trial 150 finished with value: 4.477151989824872 and parameters: {'x': -1.8797918303528225, 'y': 0.908434705314015}. Best is trial 85 with value: 0.0273079885665899.\u001b[0m\n",
      "\u001b[32m[I 2022-11-15 12:29:46,911]\u001b[0m Trial 151 finished with value: 0.2253501534995499 and parameters: {'x': -0.14561990893281618, 'y': -0.3062041670325403}. Best is trial 85 with value: 0.0273079885665899.\u001b[0m\n",
      "\u001b[32m[I 2022-11-15 12:29:46,914]\u001b[0m Trial 152 finished with value: 0.21901544023605796 and parameters: {'x': 0.4663045260346658, 'y': -0.4266115891863597}. Best is trial 85 with value: 0.0273079885665899.\u001b[0m\n",
      "\u001b[32m[I 2022-11-15 12:29:46,917]\u001b[0m Trial 153 finished with value: 0.5567952286648734 and parameters: {'x': 0.47925719805097416, 'y': 0.09267616063795797}. Best is trial 85 with value: 0.0273079885665899.\u001b[0m\n",
      "\u001b[32m[I 2022-11-15 12:29:46,920]\u001b[0m Trial 154 finished with value: 5.816543717670496 and parameters: {'x': 1.389567982139595, 'y': 0.5816358481841466}. Best is trial 85 with value: 0.0273079885665899.\u001b[0m\n",
      "\u001b[32m[I 2022-11-15 12:29:46,924]\u001b[0m Trial 155 finished with value: 0.9949729780155399 and parameters: {'x': 0.9354016134975041, 'y': -0.5889960715646333}. Best is trial 85 with value: 0.0273079885665899.\u001b[0m\n",
      "\u001b[32m[I 2022-11-15 12:29:46,927]\u001b[0m Trial 156 finished with value: 0.33516837539777294 and parameters: {'x': 0.29641506246148175, 'y': 0.20088412931719873}. Best is trial 85 with value: 0.0273079885665899.\u001b[0m\n",
      "\u001b[32m[I 2022-11-15 12:29:46,930]\u001b[0m Trial 157 finished with value: 3.958022318940124 and parameters: {'x': -0.7725071361838349, 'y': -1.0608654510130975}. Best is trial 85 with value: 0.0273079885665899.\u001b[0m\n",
      "\u001b[32m[I 2022-11-15 12:29:46,934]\u001b[0m Trial 158 finished with value: 0.6616145966802808 and parameters: {'x': -0.42552261867397095, 'y': 1.118736220442666}. Best is trial 85 with value: 0.0273079885665899.\u001b[0m\n",
      "\u001b[32m[I 2022-11-15 12:29:46,937]\u001b[0m Trial 159 finished with value: 5.581648066565353 and parameters: {'x': 0.6421904924381414, 'y': 1.6314056541955149}. Best is trial 85 with value: 0.0273079885665899.\u001b[0m\n"
     ]
    },
    {
     "name": "stderr",
     "output_type": "stream",
     "text": [
      "\u001b[32m[I 2022-11-15 12:29:46,940]\u001b[0m Trial 160 finished with value: 6.575870542237721 and parameters: {'x': 2.004541318123954, 'y': -0.4052650298699193}. Best is trial 85 with value: 0.0273079885665899.\u001b[0m\n",
      "\u001b[32m[I 2022-11-15 12:29:46,943]\u001b[0m Trial 161 finished with value: 0.08810212044083253 and parameters: {'x': -0.08815735925145014, 'y': -0.19526882240903667}. Best is trial 85 with value: 0.0273079885665899.\u001b[0m\n",
      "\u001b[32m[I 2022-11-15 12:29:46,946]\u001b[0m Trial 162 finished with value: 0.055012456716663584 and parameters: {'x': 0.17462296520047077, 'y': -0.0180366415918658}. Best is trial 85 with value: 0.0273079885665899.\u001b[0m\n",
      "\u001b[32m[I 2022-11-15 12:29:46,949]\u001b[0m Trial 163 finished with value: 0.43175818510024544 and parameters: {'x': 0.07495058143027294, 'y': 0.5778438697130479}. Best is trial 85 with value: 0.0273079885665899.\u001b[0m\n",
      "\u001b[32m[I 2022-11-15 12:29:46,953]\u001b[0m Trial 164 finished with value: 2.0620825245110814 and parameters: {'x': -1.065723527199065, 'y': 0.10327046959809028}. Best is trial 85 with value: 0.0273079885665899.\u001b[0m\n",
      "\u001b[32m[I 2022-11-15 12:29:46,957]\u001b[0m Trial 165 finished with value: 0.9966424784685662 and parameters: {'x': 0.9659442932345363, 'y': -0.7137655851004071}. Best is trial 85 with value: 0.0273079885665899.\u001b[0m\n",
      "\u001b[32m[I 2022-11-15 12:29:46,960]\u001b[0m Trial 166 finished with value: 1.5352872283677852 and parameters: {'x': 0.38602996664970707, 'y': 0.791368900861304}. Best is trial 85 with value: 0.0273079885665899.\u001b[0m\n",
      "\u001b[32m[I 2022-11-15 12:29:46,963]\u001b[0m Trial 167 finished with value: 0.5306836857008099 and parameters: {'x': -0.6562270565591171, 'y': 0.3399206608909811}. Best is trial 85 with value: 0.0273079885665899.\u001b[0m\n",
      "\u001b[32m[I 2022-11-15 12:29:46,966]\u001b[0m Trial 168 finished with value: 0.01041242437462624 and parameters: {'x': 0.04671104251986835, 'y': -0.13743316155008772}. Best is trial 168 with value: 0.01041242437462624.\u001b[0m\n",
      "\u001b[32m[I 2022-11-15 12:29:46,970]\u001b[0m Trial 169 finished with value: 1.7036152013774162 and parameters: {'x': -0.05639897098219471, 'y': 1.3604060098625705}. Best is trial 168 with value: 0.01041242437462624.\u001b[0m\n",
      "\u001b[32m[I 2022-11-15 12:29:46,973]\u001b[0m Trial 170 finished with value: 2.211044253658587 and parameters: {'x': -1.0471174926110527, 'y': -0.008623579018979532}. Best is trial 168 with value: 0.01041242437462624.\u001b[0m\n",
      "\u001b[32m[I 2022-11-15 12:29:46,977]\u001b[0m Trial 171 finished with value: 0.8710457333680393 and parameters: {'x': -0.48814806662538696, 'y': -0.30731230222898664}. Best is trial 168 with value: 0.01041242437462624.\u001b[0m\n",
      "\u001b[32m[I 2022-11-15 12:29:46,980]\u001b[0m Trial 172 finished with value: 0.534808747662816 and parameters: {'x': 0.18436645102916266, 'y': -0.8920512391924575}. Best is trial 168 with value: 0.01041242437462624.\u001b[0m\n",
      "\u001b[32m[I 2022-11-15 12:29:46,983]\u001b[0m Trial 173 finished with value: 2.0891519445279063 and parameters: {'x': 0.6937411545394415, 'y': 0.5742790168404104}. Best is trial 168 with value: 0.01041242437462624.\u001b[0m\n",
      "\u001b[32m[I 2022-11-15 12:29:46,986]\u001b[0m Trial 174 finished with value: 2.7314025412870864 and parameters: {'x': 1.2268464503725398, 'y': -0.11948457253161221}. Best is trial 168 with value: 0.01041242437462624.\u001b[0m\n",
      "\u001b[32m[I 2022-11-15 12:29:46,990]\u001b[0m Trial 175 finished with value: 0.7414430822328502 and parameters: {'x': -0.2595174695233958, 'y': -0.5615146645889199}. Best is trial 168 with value: 0.01041242437462624.\u001b[0m\n",
      "\u001b[32m[I 2022-11-15 12:29:46,993]\u001b[0m Trial 176 finished with value: 3.3293278409520433 and parameters: {'x': -1.39582252670959, 'y': 0.22065985078676312}. Best is trial 168 with value: 0.01041242437462624.\u001b[0m\n",
      "\u001b[32m[I 2022-11-15 12:29:46,996]\u001b[0m Trial 177 finished with value: 1.1323014464576349 and parameters: {'x': 0.25823393619537893, 'y': -1.2905210477368705}. Best is trial 168 with value: 0.01041242437462624.\u001b[0m\n",
      "\u001b[32m[I 2022-11-15 12:29:47,000]\u001b[0m Trial 178 finished with value: 0.46159373162098233 and parameters: {'x': -0.5918515758347899, 'y': 0.9254762808595501}. Best is trial 168 with value: 0.01041242437462624.\u001b[0m\n",
      "\u001b[32m[I 2022-11-15 12:29:47,003]\u001b[0m Trial 179 finished with value: 1.4877135020100125 and parameters: {'x': 0.5554721116694668, 'y': 0.5304211773637953}. Best is trial 168 with value: 0.01041242437462624.\u001b[0m\n",
      "\u001b[32m[I 2022-11-15 12:29:47,007]\u001b[0m Trial 180 finished with value: 0.2571965086425818 and parameters: {'x': -0.01972405294604379, 'y': -0.4870376961806671}. Best is trial 168 with value: 0.01041242437462624.\u001b[0m\n",
      "\u001b[32m[I 2022-11-15 12:29:47,010]\u001b[0m Trial 181 finished with value: 0.36344245681214543 and parameters: {'x': -0.3447946151320615, 'y': -0.14973458540930087}. Best is trial 168 with value: 0.01041242437462624.\u001b[0m\n",
      "\u001b[32m[I 2022-11-15 12:29:47,013]\u001b[0m Trial 182 finished with value: 1.1512979829399606 and parameters: {'x': -0.809586481945247, 'y': 0.10540773248494203}. Best is trial 168 with value: 0.01041242437462624.\u001b[0m\n",
      "\u001b[32m[I 2022-11-15 12:29:47,017]\u001b[0m Trial 183 finished with value: 0.8678330273388921 and parameters: {'x': -0.0953065001185083, 'y': -0.8313809867798813}. Best is trial 168 with value: 0.01041242437462624.\u001b[0m\n",
      "\u001b[32m[I 2022-11-15 12:29:47,020]\u001b[0m Trial 184 finished with value: 0.22496276797883571 and parameters: {'x': 0.44579309332385425, 'y': -0.2838323390542316}. Best is trial 168 with value: 0.01041242437462624.\u001b[0m\n",
      "\u001b[32m[I 2022-11-15 12:29:47,023]\u001b[0m Trial 185 finished with value: 0.10292033908197026 and parameters: {'x': -0.31489997959704524, 'y': 0.3762052969174111}. Best is trial 168 with value: 0.01041242437462624.\u001b[0m\n",
      "\u001b[32m[I 2022-11-15 12:29:47,027]\u001b[0m Trial 186 finished with value: 3.9387771127158606 and parameters: {'x': 1.0017294478674614, 'y': 0.7115467195938768}. Best is trial 168 with value: 0.01041242437462624.\u001b[0m\n",
      "\u001b[32m[I 2022-11-15 12:29:47,030]\u001b[0m Trial 187 finished with value: 1.091363329200667 and parameters: {'x': -1.0378888281431191, 'y': 1.1568430614279002}. Best is trial 168 with value: 0.01041242437462624.\u001b[0m\n",
      "\u001b[32m[I 2022-11-15 12:29:47,034]\u001b[0m Trial 188 finished with value: 89.21353371357185 and parameters: {'x': 6.511967371392364, 'y': 0.3296563150941318}. Best is trial 168 with value: 0.01041242437462624.\u001b[0m\n",
      "\u001b[32m[I 2022-11-15 12:29:47,037]\u001b[0m Trial 189 finished with value: 0.22393621866932928 and parameters: {'x': -0.4607326675355319, 'y': 0.3527436508027071}. Best is trial 168 with value: 0.01041242437462624.\u001b[0m\n",
      "\u001b[32m[I 2022-11-15 12:29:47,040]\u001b[0m Trial 190 finished with value: 0.6895073650746091 and parameters: {'x': -0.04611761320150631, 'y': 0.8752017650384627}. Best is trial 168 with value: 0.01041242437462624.\u001b[0m\n",
      "\u001b[32m[I 2022-11-15 12:29:47,044]\u001b[0m Trial 191 finished with value: 0.06232150842029869 and parameters: {'x': 0.18418636883282402, 'y': -0.015672600978450784}. Best is trial 168 with value: 0.01041242437462624.\u001b[0m\n",
      "\u001b[32m[I 2022-11-15 12:29:47,048]\u001b[0m Trial 192 finished with value: 0.19345699726132 and parameters: {'x': 0.31300048828992594, 'y': -0.003989660661527228}. Best is trial 168 with value: 0.01041242437462624.\u001b[0m\n",
      "\u001b[32m[I 2022-11-15 12:29:47,051]\u001b[0m Trial 193 finished with value: 0.025437949542481384 and parameters: {'x': 0.019963331195210265, 'y': 0.13827514374079172}. Best is trial 168 with value: 0.01041242437462624.\u001b[0m\n",
      "\u001b[32m[I 2022-11-15 12:29:47,054]\u001b[0m Trial 194 finished with value: 0.044492829328059605 and parameters: {'x': 0.14781314315402305, 'y': 0.002666436985568954}. Best is trial 168 with value: 0.01041242437462624.\u001b[0m\n",
      "\u001b[32m[I 2022-11-15 12:29:47,058]\u001b[0m Trial 195 finished with value: 0.07838133983698546 and parameters: {'x': 0.20136316627581297, 'y': -0.006852973472544266}. Best is trial 168 with value: 0.01041242437462624.\u001b[0m\n",
      "\u001b[32m[I 2022-11-15 12:29:47,061]\u001b[0m Trial 196 finished with value: 0.2440754570277487 and parameters: {'x': 0.23623679173757145, 'y': 0.19766139362080037}. Best is trial 168 with value: 0.01041242437462624.\u001b[0m\n",
      "\u001b[32m[I 2022-11-15 12:29:47,065]\u001b[0m Trial 197 finished with value: 1.6629468132631606 and parameters: {'x': 0.9622852529947267, 'y': -0.1038250587329102}. Best is trial 168 with value: 0.01041242437462624.\u001b[0m\n",
      "\u001b[32m[I 2022-11-15 12:29:47,068]\u001b[0m Trial 198 finished with value: 0.5175003768702326 and parameters: {'x': 0.7091288416630832, 'y': -0.8301109179876636}. Best is trial 168 with value: 0.01041242437462624.\u001b[0m\n"
     ]
    },
    {
     "name": "stderr",
     "output_type": "stream",
     "text": [
      "\u001b[32m[I 2022-11-15 12:29:47,071]\u001b[0m Trial 199 finished with value: 0.4489348146342222 and parameters: {'x': 0.05497644208850544, 'y': 0.6127902877277617}. Best is trial 168 with value: 0.01041242437462624.\u001b[0m\n",
      "\u001b[32m[I 2022-11-15 12:29:47,075]\u001b[0m Trial 200 finished with value: 4.750743208171587 and parameters: {'x': 1.5757282713642615, 'y': -0.06979878330880046}. Best is trial 168 with value: 0.01041242437462624.\u001b[0m\n",
      "\u001b[32m[I 2022-11-15 12:29:47,079]\u001b[0m Trial 201 finished with value: 0.14222244356713043 and parameters: {'x': -0.36342621375775513, 'y': 0.4641427998835414}. Best is trial 168 with value: 0.01041242437462624.\u001b[0m\n",
      "\u001b[32m[I 2022-11-15 12:29:47,083]\u001b[0m Trial 202 finished with value: 2.148529721319316 and parameters: {'x': -0.7340755856029113, 'y': -0.534649268705957}. Best is trial 168 with value: 0.01041242437462624.\u001b[0m\n",
      "\u001b[32m[I 2022-11-15 12:29:47,086]\u001b[0m Trial 203 finished with value: 0.7450830003739225 and parameters: {'x': -0.29890677428553086, 'y': 1.1086831265335706}. Best is trial 168 with value: 0.01041242437462624.\u001b[0m\n",
      "\u001b[32m[I 2022-11-15 12:29:47,090]\u001b[0m Trial 204 finished with value: 0.35216930843771765 and parameters: {'x': 0.18841486964617843, 'y': 0.3743187665743085}. Best is trial 168 with value: 0.01041242437462624.\u001b[0m\n",
      "\u001b[32m[I 2022-11-15 12:29:47,094]\u001b[0m Trial 205 finished with value: 0.08266754095380696 and parameters: {'x': -0.18864107173536165, 'y': -0.02834299912778049}. Best is trial 168 with value: 0.01041242437462624.\u001b[0m\n",
      "\u001b[32m[I 2022-11-15 12:29:47,097]\u001b[0m Trial 206 finished with value: 0.3131066591905145 and parameters: {'x': -0.29608490822607314, 'y': 0.7708905382593241}. Best is trial 168 with value: 0.01041242437462624.\u001b[0m\n",
      "\u001b[32m[I 2022-11-15 12:29:47,101]\u001b[0m Trial 207 finished with value: 1.5689667956071431 and parameters: {'x': -0.6542940198191661, 'y': -0.4138193314858439}. Best is trial 168 with value: 0.01041242437462624.\u001b[0m\n",
      "\u001b[32m[I 2022-11-15 12:29:47,104]\u001b[0m Trial 208 finished with value: 7.072298808408993 and parameters: {'x': -1.25876021903318, 'y': -1.0838497611787492}. Best is trial 168 with value: 0.01041242437462624.\u001b[0m\n",
      "\u001b[32m[I 2022-11-15 12:29:47,108]\u001b[0m Trial 209 finished with value: 0.9686915396887129 and parameters: {'x': -0.8516646999573967, 'y': 0.3583506229889907}. Best is trial 168 with value: 0.01041242437462624.\u001b[0m\n",
      "\u001b[32m[I 2022-11-15 12:29:47,112]\u001b[0m Trial 210 finished with value: 1.3746856568734789 and parameters: {'x': -0.07071916734507093, 'y': 1.2410543570422357}. Best is trial 168 with value: 0.01041242437462624.\u001b[0m\n",
      "\u001b[32m[I 2022-11-15 12:29:47,115]\u001b[0m Trial 211 finished with value: 0.46727170981148813 and parameters: {'x': 0.4965164360076728, 'y': -0.026683339487507785}. Best is trial 168 with value: 0.01041242437462624.\u001b[0m\n",
      "\u001b[32m[I 2022-11-15 12:29:47,119]\u001b[0m Trial 212 finished with value: 0.006143599081281903 and parameters: {'x': 0.07403118966911112, 'y': -0.048282752095968995}. Best is trial 212 with value: 0.006143599081281903.\u001b[0m\n",
      "\u001b[32m[I 2022-11-15 12:29:47,123]\u001b[0m Trial 213 finished with value: 0.7758031968791518 and parameters: {'x': -0.2536051620661407, 'y': -0.5898920926137772}. Best is trial 212 with value: 0.006143599081281903.\u001b[0m\n",
      "\u001b[32m[I 2022-11-15 12:29:47,126]\u001b[0m Trial 214 finished with value: 0.38995850332906373 and parameters: {'x': 0.07451290241504459, 'y': 0.5454922029693786}. Best is trial 212 with value: 0.006143599081281903.\u001b[0m\n",
      "\u001b[32m[I 2022-11-15 12:29:47,130]\u001b[0m Trial 215 finished with value: 65.33868244615985 and parameters: {'x': 5.812542991876761, 'y': -0.19533492970350663}. Best is trial 212 with value: 0.006143599081281903.\u001b[0m\n",
      "\u001b[32m[I 2022-11-15 12:29:47,133]\u001b[0m Trial 216 finished with value: 0.9757355281052738 and parameters: {'x': 0.6768740214018256, 'y': 0.04255428444705789}. Best is trial 212 with value: 0.006143599081281903.\u001b[0m\n",
      "\u001b[32m[I 2022-11-15 12:29:47,137]\u001b[0m Trial 217 finished with value: 0.3223942100872262 and parameters: {'x': -0.38094534696611804, 'y': 0.8019855501677721}. Best is trial 212 with value: 0.006143599081281903.\u001b[0m\n",
      "\u001b[32m[I 2022-11-15 12:29:47,141]\u001b[0m Trial 218 finished with value: 0.5285942379048028 and parameters: {'x': -0.6281452982014522, 'y': 0.2620473300942644}. Best is trial 212 with value: 0.006143599081281903.\u001b[0m\n",
      "\u001b[32m[I 2022-11-15 12:29:47,144]\u001b[0m Trial 219 finished with value: 0.25537908640772544 and parameters: {'x': 0.05638913837066106, 'y': -0.5585836738661599}. Best is trial 212 with value: 0.006143599081281903.\u001b[0m\n",
      "\u001b[32m[I 2022-11-15 12:29:47,148]\u001b[0m Trial 220 finished with value: 2.276679781999694 and parameters: {'x': -0.9657302121088733, 'y': -0.19359930939044764}. Best is trial 212 with value: 0.006143599081281903.\u001b[0m\n",
      "\u001b[32m[I 2022-11-15 12:29:47,152]\u001b[0m Trial 221 finished with value: 0.3680841669329583 and parameters: {'x': 0.3541845938809044, 'y': 0.13839782601487016}. Best is trial 212 with value: 0.006143599081281903.\u001b[0m\n",
      "\u001b[32m[I 2022-11-15 12:29:47,155]\u001b[0m Trial 222 finished with value: 1.0571919274360164 and parameters: {'x': 0.40677962503312326, 'y': 0.5375308451481239}. Best is trial 212 with value: 0.006143599081281903.\u001b[0m\n",
      "\u001b[32m[I 2022-11-15 12:29:47,159]\u001b[0m Trial 223 finished with value: 0.00990987400716691 and parameters: {'x': -0.0283859333985835, 'y': -0.06702954119677808}. Best is trial 212 with value: 0.006143599081281903.\u001b[0m\n",
      "\u001b[32m[I 2022-11-15 12:29:47,163]\u001b[0m Trial 224 finished with value: 1.1554511455199221 and parameters: {'x': -0.24875768465300369, 'y': -0.7969816518195224}. Best is trial 212 with value: 0.006143599081281903.\u001b[0m\n",
      "\u001b[32m[I 2022-11-15 12:29:47,166]\u001b[0m Trial 225 finished with value: 0.0888998048486696 and parameters: {'x': -0.02082584082845995, 'y': -0.2766066543741612}. Best is trial 212 with value: 0.006143599081281903.\u001b[0m\n",
      "\u001b[32m[I 2022-11-15 12:29:47,170]\u001b[0m Trial 226 finished with value: 1.4795874952433405 and parameters: {'x': -0.6519087136294843, 'y': -0.37502970922618606}. Best is trial 212 with value: 0.006143599081281903.\u001b[0m\n",
      "\u001b[32m[I 2022-11-15 12:29:47,173]\u001b[0m Trial 227 finished with value: 117.76408103552944 and parameters: {'x': 7.550132299703202, 'y': 0.24471107861479185}. Best is trial 212 with value: 0.006143599081281903.\u001b[0m\n",
      "\u001b[32m[I 2022-11-15 12:29:47,177]\u001b[0m Trial 228 finished with value: 0.36667372740947346 and parameters: {'x': -0.016287278536329997, 'y': 0.6216040980344779}. Best is trial 212 with value: 0.006143599081281903.\u001b[0m\n",
      "\u001b[32m[I 2022-11-15 12:29:47,181]\u001b[0m Trial 229 finished with value: 85.21366055192607 and parameters: {'x': -6.406229777304649, 'y': -0.24011362281404386}. Best is trial 212 with value: 0.006143599081281903.\u001b[0m\n",
      "\u001b[32m[I 2022-11-15 12:29:47,184]\u001b[0m Trial 230 finished with value: 2.3578210292801627 and parameters: {'x': -0.39752914182864274, 'y': -1.0856403059004918}. Best is trial 212 with value: 0.006143599081281903.\u001b[0m\n",
      "\u001b[32m[I 2022-11-15 12:29:47,188]\u001b[0m Trial 231 finished with value: 1.2898441226834114 and parameters: {'x': 0.7613228183988932, 'y': 0.08142962975452357}. Best is trial 212 with value: 0.006143599081281903.\u001b[0m\n",
      "\u001b[32m[I 2022-11-15 12:29:47,191]\u001b[0m Trial 232 finished with value: 0.18300487236563687 and parameters: {'x': 0.11561883153128505, 'y': -0.5274891486955318}. Best is trial 212 with value: 0.006143599081281903.\u001b[0m\n",
      "\u001b[32m[I 2022-11-15 12:29:47,195]\u001b[0m Trial 233 finished with value: 0.40415768904668925 and parameters: {'x': -0.028007940865722503, 'y': -0.6071087761990634}. Best is trial 212 with value: 0.006143599081281903.\u001b[0m\n",
      "\u001b[32m[I 2022-11-15 12:29:47,199]\u001b[0m Trial 234 finished with value: 0.049400013219063746 and parameters: {'x': 0.22218056832481617, 'y': -0.22816457015682134}. Best is trial 212 with value: 0.006143599081281903.\u001b[0m\n",
      "\u001b[32m[I 2022-11-15 12:29:47,203]\u001b[0m Trial 235 finished with value: 0.15761088214565103 and parameters: {'x': -0.3941290037162862, 'y': 0.34645080560374536}. Best is trial 212 with value: 0.006143599081281903.\u001b[0m\n",
      "\u001b[32m[I 2022-11-15 12:29:47,206]\u001b[0m Trial 236 finished with value: 0.5607457581337452 and parameters: {'x': -0.589665589469493, 'y': 0.1281027543870521}. Best is trial 212 with value: 0.006143599081281903.\u001b[0m\n",
      "\u001b[32m[I 2022-11-15 12:29:47,210]\u001b[0m Trial 237 finished with value: 2.883252333508845 and parameters: {'x': 0.6387981143958563, 'y': 0.9344753210098089}. Best is trial 212 with value: 0.006143599081281903.\u001b[0m\n"
     ]
    },
    {
     "name": "stderr",
     "output_type": "stream",
     "text": [
      "\u001b[32m[I 2022-11-15 12:29:47,213]\u001b[0m Trial 238 finished with value: 0.08466690618860301 and parameters: {'x': -0.17978634758072937, 'y': -0.049001273177440505}. Best is trial 212 with value: 0.006143599081281903.\u001b[0m\n",
      "\u001b[32m[I 2022-11-15 12:29:47,217]\u001b[0m Trial 239 finished with value: 0.03385553247462153 and parameters: {'x': 0.18225301884720108, 'y': -0.20753877759997136}. Best is trial 212 with value: 0.006143599081281903.\u001b[0m\n",
      "\u001b[32m[I 2022-11-15 12:29:47,222]\u001b[0m Trial 240 finished with value: 3.6627765762207725 and parameters: {'x': 1.1106267417927014, 'y': 0.4479895729671888}. Best is trial 212 with value: 0.006143599081281903.\u001b[0m\n",
      "\u001b[32m[I 2022-11-15 12:29:47,225]\u001b[0m Trial 241 finished with value: 0.13520303422211852 and parameters: {'x': 0.33330285064498644, 'y': -0.1780216735047922}. Best is trial 212 with value: 0.006143599081281903.\u001b[0m\n",
      "\u001b[32m[I 2022-11-15 12:29:47,229]\u001b[0m Trial 242 finished with value: 0.08514539880340274 and parameters: {'x': 0.2595971398155751, 'y': -0.12635028693350694}. Best is trial 212 with value: 0.006143599081281903.\u001b[0m\n",
      "\u001b[32m[I 2022-11-15 12:29:47,234]\u001b[0m Trial 243 finished with value: 0.08386218712294406 and parameters: {'x': 0.28900344145540435, 'y': -0.3074207688911842}. Best is trial 212 with value: 0.006143599081281903.\u001b[0m\n",
      "\u001b[32m[I 2022-11-15 12:29:47,238]\u001b[0m Trial 244 finished with value: 0.1420021526408034 and parameters: {'x': 0.37115357373112423, 'y': -0.3059832020318748}. Best is trial 212 with value: 0.006143599081281903.\u001b[0m\n",
      "\u001b[32m[I 2022-11-15 12:29:47,242]\u001b[0m Trial 245 finished with value: 0.3944668063628706 and parameters: {'x': 0.419676325367447, 'y': -0.8869434741045986}. Best is trial 212 with value: 0.006143599081281903.\u001b[0m\n",
      "\u001b[32m[I 2022-11-15 12:29:47,246]\u001b[0m Trial 246 finished with value: 1.0127951764096585 and parameters: {'x': 0.8558688585116536, 'y': -0.3264506179497916}. Best is trial 212 with value: 0.006143599081281903.\u001b[0m\n",
      "\u001b[32m[I 2022-11-15 12:29:47,249]\u001b[0m Trial 247 finished with value: 1.3455384460687876 and parameters: {'x': 0.2342840879201904, 'y': -1.370351608896031}. Best is trial 212 with value: 0.006143599081281903.\u001b[0m\n",
      "\u001b[32m[I 2022-11-15 12:29:47,253]\u001b[0m Trial 248 finished with value: 0.4227536201116384 and parameters: {'x': 0.5934748008292783, 'y': -0.3278787148410113}. Best is trial 212 with value: 0.006143599081281903.\u001b[0m\n",
      "\u001b[32m[I 2022-11-15 12:29:47,257]\u001b[0m Trial 249 finished with value: 0.31829168327737367 and parameters: {'x': 0.1395137649553701, 'y': -0.6861650181921585}. Best is trial 212 with value: 0.006143599081281903.\u001b[0m\n",
      "\u001b[32m[I 2022-11-15 12:29:47,261]\u001b[0m Trial 250 finished with value: 1.3618254171500186 and parameters: {'x': 0.8915594496504724, 'y': -0.13860050994063314}. Best is trial 212 with value: 0.006143599081281903.\u001b[0m\n",
      "\u001b[32m[I 2022-11-15 12:29:47,265]\u001b[0m Trial 251 finished with value: 1.5775209222933695 and parameters: {'x': 1.2187789483399118, 'y': -0.9153011116255516}. Best is trial 212 with value: 0.006143599081281903.\u001b[0m\n",
      "\u001b[32m[I 2022-11-15 12:29:47,269]\u001b[0m Trial 252 finished with value: 0.03484527467030511 and parameters: {'x': 0.1852371004890535, 'y': -0.16216132807048855}. Best is trial 212 with value: 0.006143599081281903.\u001b[0m\n",
      "\u001b[32m[I 2022-11-15 12:29:47,273]\u001b[0m Trial 253 finished with value: 0.003990022158176513 and parameters: {'x': 0.05072895972394853, 'y': -0.08836663770097736}. Best is trial 253 with value: 0.003990022158176513.\u001b[0m\n",
      "\u001b[32m[I 2022-11-15 12:29:47,277]\u001b[0m Trial 254 finished with value: 0.01368532941750246 and parameters: {'x': 0.11696421392130488, 'y': -0.11913264175586356}. Best is trial 253 with value: 0.003990022158176513.\u001b[0m\n",
      "\u001b[32m[I 2022-11-15 12:29:47,280]\u001b[0m Trial 255 finished with value: 0.39034082751590593 and parameters: {'x': 0.019804663367603934, 'y': -0.6442633111776905}. Best is trial 253 with value: 0.003990022158176513.\u001b[0m\n",
      "\u001b[32m[I 2022-11-15 12:29:47,284]\u001b[0m Trial 256 finished with value: 0.9441095241955719 and parameters: {'x': 0.6790290971038881, 'y': 0.015973787409442823}. Best is trial 253 with value: 0.003990022158176513.\u001b[0m\n",
      "\u001b[32m[I 2022-11-15 12:29:47,288]\u001b[0m Trial 257 finished with value: 0.17666743017556405 and parameters: {'x': 0.10663629419661091, 'y': -0.5132025630084467}. Best is trial 253 with value: 0.003990022158176513.\u001b[0m\n",
      "\u001b[32m[I 2022-11-15 12:29:47,292]\u001b[0m Trial 258 finished with value: 1.2575388471397333 and parameters: {'x': -0.017274605126858883, 'y': -1.1039927292575173}. Best is trial 253 with value: 0.003990022158176513.\u001b[0m\n",
      "\u001b[32m[I 2022-11-15 12:29:47,296]\u001b[0m Trial 259 finished with value: 0.539247713711836 and parameters: {'x': 0.5375399430011352, 'y': -0.03724150867401044}. Best is trial 253 with value: 0.003990022158176513.\u001b[0m\n",
      "\u001b[32m[I 2022-11-15 12:29:47,300]\u001b[0m Trial 260 finished with value: 0.06823314952775314 and parameters: {'x': -0.23917496125344642, 'y': 0.13415835572286594}. Best is trial 253 with value: 0.003990022158176513.\u001b[0m\n",
      "\u001b[32m[I 2022-11-15 12:29:47,304]\u001b[0m Trial 261 finished with value: 6.501050035159603 and parameters: {'x': -0.8240052578431687, 'y': -1.588890382296789}. Best is trial 253 with value: 0.003990022158176513.\u001b[0m\n",
      "\u001b[32m[I 2022-11-15 12:29:47,309]\u001b[0m Trial 262 finished with value: 58.36799388127045 and parameters: {'x': -0.19853722126801432, 'y': -7.438777545915647}. Best is trial 253 with value: 0.003990022158176513.\u001b[0m\n",
      "\u001b[32m[I 2022-11-15 12:29:47,312]\u001b[0m Trial 263 finished with value: 1.3745183895882918 and parameters: {'x': 1.0818307691882967, 'y': -0.6299894514386357}. Best is trial 253 with value: 0.003990022158176513.\u001b[0m\n",
      "\u001b[32m[I 2022-11-15 12:29:47,316]\u001b[0m Trial 264 finished with value: 0.40961411903890116 and parameters: {'x': 0.42521947315654834, 'y': 0.05311358935049662}. Best is trial 253 with value: 0.003990022158176513.\u001b[0m\n",
      "\u001b[32m[I 2022-11-15 12:29:47,320]\u001b[0m Trial 265 finished with value: 0.2197998390938669 and parameters: {'x': -0.2776177262978879, 'y': -0.10017618198949824}. Best is trial 253 with value: 0.003990022158176513.\u001b[0m\n",
      "\u001b[32m[I 2022-11-15 12:29:47,324]\u001b[0m Trial 266 finished with value: 3.5975605401531854 and parameters: {'x': -0.755341353659393, 'y': -0.984491965829914}. Best is trial 253 with value: 0.003990022158176513.\u001b[0m\n",
      "\u001b[32m[I 2022-11-15 12:29:47,328]\u001b[0m Trial 267 finished with value: 0.07617790417286066 and parameters: {'x': 0.1715519063268007, 'y': -0.38776441199772915}. Best is trial 253 with value: 0.003990022158176513.\u001b[0m\n",
      "\u001b[32m[I 2022-11-15 12:29:47,332]\u001b[0m Trial 268 finished with value: 0.6578386669698861 and parameters: {'x': 0.7969411267649595, 'y': -0.6461979430368627}. Best is trial 253 with value: 0.003990022158176513.\u001b[0m\n",
      "\u001b[32m[I 2022-11-15 12:29:47,336]\u001b[0m Trial 269 finished with value: 0.11567111385692491 and parameters: {'x': 0.3045350557178369, 'y': -0.45595999981840074}. Best is trial 253 with value: 0.003990022158176513.\u001b[0m\n",
      "\u001b[32m[I 2022-11-15 12:29:47,340]\u001b[0m Trial 270 finished with value: 0.4273779239147118 and parameters: {'x': 0.013204465959958611, 'y': 0.6404036475097443}. Best is trial 253 with value: 0.003990022158176513.\u001b[0m\n",
      "\u001b[32m[I 2022-11-15 12:29:47,343]\u001b[0m Trial 271 finished with value: 4.748247874015205 and parameters: {'x': 1.4082075330116102, 'y': 0.254681344209162}. Best is trial 253 with value: 0.003990022158176513.\u001b[0m\n",
      "\u001b[32m[I 2022-11-15 12:29:47,347]\u001b[0m Trial 272 finished with value: 1.169799357718441 and parameters: {'x': -0.569698804229304, 'y': -0.3496719752596583}. Best is trial 253 with value: 0.003990022158176513.\u001b[0m\n",
      "\u001b[32m[I 2022-11-15 12:29:47,351]\u001b[0m Trial 273 finished with value: 0.7911872920652692 and parameters: {'x': 0.6710157359855266, 'y': -1.254903716787556}. Best is trial 253 with value: 0.003990022158176513.\u001b[0m\n",
      "\u001b[32m[I 2022-11-15 12:29:47,355]\u001b[0m Trial 274 finished with value: 0.18073090477938955 and parameters: {'x': 0.20958844017803951, 'y': 0.16028125379961786}. Best is trial 253 with value: 0.003990022158176513.\u001b[0m\n",
      "\u001b[32m[I 2022-11-15 12:29:47,359]\u001b[0m Trial 275 finished with value: 0.48169699330798965 and parameters: {'x': -0.20941388448672674, 'y': 0.8711108077772688}. Best is trial 253 with value: 0.003990022158176513.\u001b[0m\n",
      "\u001b[32m[I 2022-11-15 12:29:47,363]\u001b[0m Trial 276 finished with value: 3.3289678116725065 and parameters: {'x': -1.140732203419919, 'y': -0.2832403566223182}. Best is trial 253 with value: 0.003990022158176513.\u001b[0m\n"
     ]
    },
    {
     "name": "stderr",
     "output_type": "stream",
     "text": [
      "\u001b[32m[I 2022-11-15 12:29:47,367]\u001b[0m Trial 277 finished with value: 0.30485995576238295 and parameters: {'x': 0.49584581900831604, 'y': -0.738738551576327}. Best is trial 253 with value: 0.003990022158176513.\u001b[0m\n",
      "\u001b[32m[I 2022-11-15 12:29:47,370]\u001b[0m Trial 278 finished with value: 0.2411737023099608 and parameters: {'x': -0.4886492726831068, 'y': 0.5375940437647199}. Best is trial 253 with value: 0.003990022158176513.\u001b[0m\n",
      "\u001b[32m[I 2022-11-15 12:29:47,374]\u001b[0m Trial 279 finished with value: 0.04238410728122054 and parameters: {'x': 0.005793985959005134, 'y': 0.1999984750494764}. Best is trial 253 with value: 0.003990022158176513.\u001b[0m\n",
      "\u001b[32m[I 2022-11-15 12:29:47,378]\u001b[0m Trial 280 finished with value: 2.0206988119670006 and parameters: {'x': 1.109108212151382, 'y': -0.21996379997450413}. Best is trial 253 with value: 0.003990022158176513.\u001b[0m\n",
      "\u001b[32m[I 2022-11-15 12:29:47,382]\u001b[0m Trial 281 finished with value: 0.6148220248189912 and parameters: {'x': 0.1488441987017135, 'y': -0.9186931639746663}. Best is trial 253 with value: 0.003990022158176513.\u001b[0m\n",
      "\u001b[32m[I 2022-11-15 12:29:47,386]\u001b[0m Trial 282 finished with value: 1.724669929739464 and parameters: {'x': 0.8847959586966903, 'y': 0.08567096047854314}. Best is trial 253 with value: 0.003990022158176513.\u001b[0m\n",
      "\u001b[32m[I 2022-11-15 12:29:47,390]\u001b[0m Trial 283 finished with value: 0.10564965444949707 and parameters: {'x': -0.015090624743091934, 'y': -0.30959680571019843}. Best is trial 253 with value: 0.003990022158176513.\u001b[0m\n",
      "\u001b[32m[I 2022-11-15 12:29:47,394]\u001b[0m Trial 284 finished with value: 0.7383557199519114 and parameters: {'x': 0.482738252135517, 'y': 0.22812003182624246}. Best is trial 253 with value: 0.003990022158176513.\u001b[0m\n",
      "\u001b[32m[I 2022-11-15 12:29:47,398]\u001b[0m Trial 285 finished with value: 0.8454272037922125 and parameters: {'x': -0.9148574287117756, 'y': 0.8228623803499697}. Best is trial 253 with value: 0.003990022158176513.\u001b[0m\n",
      "\u001b[32m[I 2022-11-15 12:29:47,401]\u001b[0m Trial 286 finished with value: 0.4594496999988204 and parameters: {'x': -0.023849837323839357, 'y': -0.6535576362535096}. Best is trial 253 with value: 0.003990022158176513.\u001b[0m\n",
      "\u001b[32m[I 2022-11-15 12:29:47,406]\u001b[0m Trial 287 finished with value: 0.23709805890735328 and parameters: {'x': 0.3764161777661244, 'y': -0.06753283405317068}. Best is trial 253 with value: 0.003990022158176513.\u001b[0m\n",
      "\u001b[32m[I 2022-11-15 12:29:47,409]\u001b[0m Trial 288 finished with value: 0.2838184637474617 and parameters: {'x': -0.4909346014572053, 'y': 0.28404893051908375}. Best is trial 253 with value: 0.003990022158176513.\u001b[0m\n",
      "\u001b[32m[I 2022-11-15 12:29:47,413]\u001b[0m Trial 289 finished with value: 1.057089766194747 and parameters: {'x': 0.7941048522208478, 'y': -1.44716476514925}. Best is trial 253 with value: 0.003990022158176513.\u001b[0m\n",
      "\u001b[32m[I 2022-11-15 12:29:47,417]\u001b[0m Trial 290 finished with value: 1.4333490067055947 and parameters: {'x': -0.20547579842759334, 'y': -0.9739853933740436}. Best is trial 253 with value: 0.003990022158176513.\u001b[0m\n",
      "\u001b[32m[I 2022-11-15 12:29:47,421]\u001b[0m Trial 291 finished with value: 0.0760693112985138 and parameters: {'x': 0.1888499305741071, 'y': -0.38985991793958286}. Best is trial 253 with value: 0.003990022158176513.\u001b[0m\n",
      "\u001b[32m[I 2022-11-15 12:29:47,425]\u001b[0m Trial 292 finished with value: 1.1844288752541938 and parameters: {'x': 0.40864116377475923, 'y': 0.6000417767585902}. Best is trial 253 with value: 0.003990022158176513.\u001b[0m\n",
      "\u001b[32m[I 2022-11-15 12:29:47,429]\u001b[0m Trial 293 finished with value: 1.8248859416178216 and parameters: {'x': 1.1926786583135816, 'y': -0.5583257915106195}. Best is trial 253 with value: 0.003990022158176513.\u001b[0m\n",
      "\u001b[32m[I 2022-11-15 12:29:47,432]\u001b[0m Trial 294 finished with value: 0.7946458237671635 and parameters: {'x': -0.6379783409120202, 'y': 0.015379384685534375}. Best is trial 253 with value: 0.003990022158176513.\u001b[0m\n",
      "\u001b[32m[I 2022-11-15 12:29:47,436]\u001b[0m Trial 295 finished with value: 3.4509950226450568 and parameters: {'x': 0.8116000207035401, 'y': 0.8594177616791221}. Best is trial 253 with value: 0.003990022158176513.\u001b[0m\n",
      "\u001b[32m[I 2022-11-15 12:29:47,440]\u001b[0m Trial 296 finished with value: 0.06989310747893202 and parameters: {'x': 0.1792710165246877, 'y': -0.37357750152489855}. Best is trial 253 with value: 0.003990022158176513.\u001b[0m\n",
      "\u001b[32m[I 2022-11-15 12:29:47,444]\u001b[0m Trial 297 finished with value: 0.8880048181126587 and parameters: {'x': 0.33478313004168436, 'y': -1.2156492231297038}. Best is trial 253 with value: 0.003990022158176513.\u001b[0m\n",
      "\u001b[32m[I 2022-11-15 12:29:47,448]\u001b[0m Trial 298 finished with value: 0.4213987512714564 and parameters: {'x': 0.6358653106163722, 'y': -0.7665330496578083}. Best is trial 253 with value: 0.003990022158176513.\u001b[0m\n",
      "\u001b[32m[I 2022-11-15 12:29:47,452]\u001b[0m Trial 299 finished with value: 0.26009187811760415 and parameters: {'x': 0.1753443600880729, 'y': 0.30355670850846755}. Best is trial 253 with value: 0.003990022158176513.\u001b[0m\n",
      "\u001b[32m[I 2022-11-15 12:29:47,456]\u001b[0m Trial 300 finished with value: 5.036166610482825 and parameters: {'x': -0.4518612048783973, 'y': -1.7463171459404498}. Best is trial 253 with value: 0.003990022158176513.\u001b[0m\n",
      "\u001b[32m[I 2022-11-15 12:29:47,460]\u001b[0m Trial 301 finished with value: 3.2057697234985394 and parameters: {'x': 1.4391014187220286, 'y': -0.37385176247670304}. Best is trial 253 with value: 0.003990022158176513.\u001b[0m\n",
      "\u001b[32m[I 2022-11-15 12:29:47,464]\u001b[0m Trial 302 finished with value: 0.9790646762029089 and parameters: {'x': -0.9272729802449662, 'y': 1.2725692245201212}. Best is trial 253 with value: 0.003990022158176513.\u001b[0m\n",
      "\u001b[32m[I 2022-11-15 12:29:47,468]\u001b[0m Trial 303 finished with value: 0.029876983836180575 and parameters: {'x': -0.13977443612442364, 'y': 0.038088198893026434}. Best is trial 253 with value: 0.003990022158176513.\u001b[0m\n",
      "\u001b[32m[I 2022-11-15 12:29:47,472]\u001b[0m Trial 304 finished with value: 0.15043859432775508 and parameters: {'x': -0.13335074823465692, 'y': 0.4975706986396453}. Best is trial 253 with value: 0.003990022158176513.\u001b[0m\n",
      "\u001b[32m[I 2022-11-15 12:29:47,476]\u001b[0m Trial 305 finished with value: 0.7082193972256476 and parameters: {'x': -0.6481097542305922, 'y': 0.11129214675407795}. Best is trial 253 with value: 0.003990022158176513.\u001b[0m\n",
      "\u001b[32m[I 2022-11-15 12:29:47,480]\u001b[0m Trial 306 finished with value: 296.86427340491537 and parameters: {'x': -9.341299723210183, 'y': -5.136420846205044}. Best is trial 253 with value: 0.003990022158176513.\u001b[0m\n",
      "\u001b[32m[I 2022-11-15 12:29:47,484]\u001b[0m Trial 307 finished with value: 4.817730613176169 and parameters: {'x': -1.2498376396527786, 'y': -0.5545006012774909}. Best is trial 253 with value: 0.003990022158176513.\u001b[0m\n",
      "\u001b[32m[I 2022-11-15 12:29:47,488]\u001b[0m Trial 308 finished with value: 1.8668960482188977 and parameters: {'x': -0.35511952192006396, 'y': -0.9642690385010739}. Best is trial 253 with value: 0.003990022158176513.\u001b[0m\n",
      "\u001b[32m[I 2022-11-15 12:29:47,492]\u001b[0m Trial 309 finished with value: 2.0922220801903118 and parameters: {'x': 0.6055290324464282, 'y': 0.708075425164311}. Best is trial 253 with value: 0.003990022158176513.\u001b[0m\n",
      "\u001b[32m[I 2022-11-15 12:29:47,496]\u001b[0m Trial 310 finished with value: 0.08652347878197125 and parameters: {'x': 0.10080142421019037, 'y': 0.17553632503729935}. Best is trial 253 with value: 0.003990022158176513.\u001b[0m\n",
      "\u001b[32m[I 2022-11-15 12:29:47,500]\u001b[0m Trial 311 finished with value: 1.166979283037472 and parameters: {'x': 0.9179233083539258, 'y': -0.3483655123243607}. Best is trial 253 with value: 0.003990022158176513.\u001b[0m\n",
      "\u001b[32m[I 2022-11-15 12:29:47,504]\u001b[0m Trial 312 finished with value: 0.14325365190384157 and parameters: {'x': -0.24267723456420157, 'y': -0.047773125614802237}. Best is trial 253 with value: 0.003990022158176513.\u001b[0m\n",
      "\u001b[32m[I 2022-11-15 12:29:47,508]\u001b[0m Trial 313 finished with value: 0.4584540454792759 and parameters: {'x': 0.24843106912089655, 'y': 0.3814387978950802}. Best is trial 253 with value: 0.003990022158176513.\u001b[0m\n",
      "\u001b[32m[I 2022-11-15 12:29:47,511]\u001b[0m Trial 314 finished with value: 10.305776506720198 and parameters: {'x': 1.6984203257615156, 'y': 1.0257575142042132}. Best is trial 253 with value: 0.003990022158176513.\u001b[0m\n",
      "\u001b[32m[I 2022-11-15 12:29:47,516]\u001b[0m Trial 315 finished with value: 2.6779252900915296 and parameters: {'x': -0.7841717062119631, 'y': -0.6521430313257912}. Best is trial 253 with value: 0.003990022158176513.\u001b[0m\n"
     ]
    },
    {
     "name": "stderr",
     "output_type": "stream",
     "text": [
      "\u001b[32m[I 2022-11-15 12:29:47,519]\u001b[0m Trial 316 finished with value: 43.16714292723854 and parameters: {'x': -0.1619383618263388, 'y': 6.730113062167944}. Best is trial 253 with value: 0.003990022158176513.\u001b[0m\n",
      "\u001b[32m[I 2022-11-15 12:29:47,523]\u001b[0m Trial 317 finished with value: 0.4032307769809877 and parameters: {'x': 0.5716237173049916, 'y': -0.29507877919291786}. Best is trial 253 with value: 0.003990022158176513.\u001b[0m\n",
      "\u001b[32m[I 2022-11-15 12:29:47,528]\u001b[0m Trial 318 finished with value: 0.5207302813916485 and parameters: {'x': 0.16373974740992892, 'y': 0.5390543735883767}. Best is trial 253 with value: 0.003990022158176513.\u001b[0m\n",
      "\u001b[32m[I 2022-11-15 12:29:47,532]\u001b[0m Trial 319 finished with value: 2.9090383103916997 and parameters: {'x': -0.5362948017279169, 'y': -1.082787097383834}. Best is trial 253 with value: 0.003990022158176513.\u001b[0m\n",
      "\u001b[32m[I 2022-11-15 12:29:47,536]\u001b[0m Trial 320 finished with value: 4.435486788644532 and parameters: {'x': -1.4575705072249903, 'y': -0.06261862742648985}. Best is trial 253 with value: 0.003990022158176513.\u001b[0m\n",
      "\u001b[32m[I 2022-11-15 12:29:47,540]\u001b[0m Trial 321 finished with value: 33.851329259800224 and parameters: {'x': 4.42016891830526, 'y': -0.6368587283461631}. Best is trial 253 with value: 0.003990022158176513.\u001b[0m\n",
      "\u001b[32m[I 2022-11-15 12:29:47,544]\u001b[0m Trial 322 finished with value: 2.2160203733184907 and parameters: {'x': 0.9682392023822288, 'y': 0.16248323052901223}. Best is trial 253 with value: 0.003990022158176513.\u001b[0m\n",
      "\u001b[32m[I 2022-11-15 12:29:47,548]\u001b[0m Trial 323 finished with value: 0.6409126715921211 and parameters: {'x': -0.20615937219782782, 'y': 0.9797296565593192}. Best is trial 253 with value: 0.003990022158176513.\u001b[0m\n",
      "\u001b[32m[I 2022-11-15 12:29:47,552]\u001b[0m Trial 324 finished with value: 2.9812257822809567 and parameters: {'x': -1.0616105325116751, 'y': -0.30008284690280773}. Best is trial 253 with value: 0.003990022158176513.\u001b[0m\n",
      "\u001b[32m[I 2022-11-15 12:29:47,556]\u001b[0m Trial 325 finished with value: 0.9019815811855055 and parameters: {'x': 0.39097306544290356, 'y': 0.4745450702906492}. Best is trial 253 with value: 0.003990022158176513.\u001b[0m\n",
      "\u001b[32m[I 2022-11-15 12:29:47,560]\u001b[0m Trial 326 finished with value: 79.40489405642941 and parameters: {'x': -0.07523212906170168, 'y': 8.98585692102698}. Best is trial 253 with value: 0.003990022158176513.\u001b[0m\n",
      "\u001b[32m[I 2022-11-15 12:29:47,564]\u001b[0m Trial 327 finished with value: 2.418527455067338 and parameters: {'x': -0.5788149382963141, 'y': -0.8646187187424749}. Best is trial 253 with value: 0.003990022158176513.\u001b[0m\n",
      "\u001b[32m[I 2022-11-15 12:29:47,569]\u001b[0m Trial 328 finished with value: 0.7663670195695464 and parameters: {'x': 0.6010075370876875, 'y': 0.035511873404513034}. Best is trial 253 with value: 0.003990022158176513.\u001b[0m\n",
      "\u001b[32m[I 2022-11-15 12:29:47,573]\u001b[0m Trial 329 finished with value: 2.1220035426576147 and parameters: {'x': 1.2268178412187394, 'y': -0.44137431866284826}. Best is trial 253 with value: 0.003990022158176513.\u001b[0m\n",
      "\u001b[32m[I 2022-11-15 12:29:47,577]\u001b[0m Trial 330 finished with value: 0.6226057966587623 and parameters: {'x': 0.12887577703228617, 'y': 0.649582205618728}. Best is trial 253 with value: 0.003990022158176513.\u001b[0m\n",
      "\u001b[32m[I 2022-11-15 12:29:47,581]\u001b[0m Trial 331 finished with value: 3.089217752194456 and parameters: {'x': -0.37405174522231277, 'y': -1.3433017548150552}. Best is trial 253 with value: 0.003990022158176513.\u001b[0m\n",
      "\u001b[32m[I 2022-11-15 12:29:47,585]\u001b[0m Trial 332 finished with value: 1.1073472014845083 and parameters: {'x': -0.8606536656014777, 'y': 0.25516009059737566}. Best is trial 253 with value: 0.003990022158176513.\u001b[0m\n",
      "\u001b[32m[I 2022-11-15 12:29:47,589]\u001b[0m Trial 333 finished with value: 0.7677129573958137 and parameters: {'x': 0.7018038011320848, 'y': -0.17722360505871917}. Best is trial 253 with value: 0.003990022158176513.\u001b[0m\n",
      "\u001b[32m[I 2022-11-15 12:29:47,594]\u001b[0m Trial 334 finished with value: 0.2649180412003521 and parameters: {'x': 0.22964337510883748, 'y': -0.6902755075843888}. Best is trial 253 with value: 0.003990022158176513.\u001b[0m\n",
      "\u001b[32m[I 2022-11-15 12:29:47,598]\u001b[0m Trial 335 finished with value: 1.035778428824303 and parameters: {'x': -0.1660699950343528, 'y': 1.1701612187653407}. Best is trial 253 with value: 0.003990022158176513.\u001b[0m\n",
      "\u001b[32m[I 2022-11-15 12:29:47,602]\u001b[0m Trial 336 finished with value: 3.8389643403348486 and parameters: {'x': 0.3866206163149261, 'y': 1.5341836005107021}. Best is trial 253 with value: 0.003990022158176513.\u001b[0m\n",
      "\u001b[32m[I 2022-11-15 12:29:47,606]\u001b[0m Trial 337 finished with value: 0.42186789923705975 and parameters: {'x': -0.5768852556829208, 'y': 0.2784371010350644}. Best is trial 253 with value: 0.003990022158176513.\u001b[0m\n",
      "\u001b[32m[I 2022-11-15 12:29:47,610]\u001b[0m Trial 338 finished with value: 1.1281737384587764 and parameters: {'x': 0.8662521586041338, 'y': -0.2516132921366324}. Best is trial 253 with value: 0.003990022158176513.\u001b[0m\n",
      "\u001b[32m[I 2022-11-15 12:29:47,614]\u001b[0m Trial 339 finished with value: 0.5877994190145408 and parameters: {'x': -0.0051593431545596535, 'y': 0.7718227635632514}. Best is trial 253 with value: 0.003990022158176513.\u001b[0m\n",
      "\u001b[32m[I 2022-11-15 12:29:47,619]\u001b[0m Trial 340 finished with value: 1.6584279553498176 and parameters: {'x': -0.9302497273178014, 'y': 0.039708655735488804}. Best is trial 253 with value: 0.003990022158176513.\u001b[0m\n",
      "\u001b[32m[I 2022-11-15 12:29:47,623]\u001b[0m Trial 341 finished with value: 0.5153705382261727 and parameters: {'x': 0.46006734291453705, 'y': -1.0111649551482778}. Best is trial 253 with value: 0.003990022158176513.\u001b[0m\n",
      "\u001b[32m[I 2022-11-15 12:29:47,627]\u001b[0m Trial 342 finished with value: 0.7121871228914284 and parameters: {'x': -0.3169571287418341, 'y': -0.4651715700227366}. Best is trial 253 with value: 0.003990022158176513.\u001b[0m\n",
      "\u001b[32m[I 2022-11-15 12:29:47,631]\u001b[0m Trial 343 finished with value: 3.7562560172801485 and parameters: {'x': 1.130794618549162, 'y': 0.44323192123357125}. Best is trial 253 with value: 0.003990022158176513.\u001b[0m\n",
      "\u001b[32m[I 2022-11-15 12:29:47,635]\u001b[0m Trial 344 finished with value: 0.06267227971186821 and parameters: {'x': 0.187324907585993, 'y': -0.021247640298241055}. Best is trial 253 with value: 0.003990022158176513.\u001b[0m\n",
      "\u001b[32m[I 2022-11-15 12:29:47,640]\u001b[0m Trial 345 finished with value: 0.15996016690174875 and parameters: {'x': 0.2157446949930783, 'y': -0.5525152303492646}. Best is trial 253 with value: 0.003990022158176513.\u001b[0m\n",
      "\u001b[32m[I 2022-11-15 12:29:47,644]\u001b[0m Trial 346 finished with value: 3.5207990324871057 and parameters: {'x': 0.8833987590679604, 'y': 0.7720183077053328}. Best is trial 253 with value: 0.003990022158176513.\u001b[0m\n",
      "\u001b[32m[I 2022-11-15 12:29:47,648]\u001b[0m Trial 347 finished with value: 0.875763617832555 and parameters: {'x': 0.5144480296293645, 'y': 0.26728520021507507}. Best is trial 253 with value: 0.003990022158176513.\u001b[0m\n",
      "\u001b[32m[I 2022-11-15 12:29:47,653]\u001b[0m Trial 348 finished with value: 0.00997127236441406 and parameters: {'x': 0.010076017381119767, 'y': -0.10942261389126415}. Best is trial 253 with value: 0.003990022158176513.\u001b[0m\n",
      "\u001b[32m[I 2022-11-15 12:29:47,657]\u001b[0m Trial 349 finished with value: 0.6121930776596346 and parameters: {'x': -0.565500582256905, 'y': 0.02475834317553266}. Best is trial 253 with value: 0.003990022158176513.\u001b[0m\n",
      "\u001b[32m[I 2022-11-15 12:29:47,661]\u001b[0m Trial 350 finished with value: 0.1948064440947151 and parameters: {'x': -0.05124020357909442, 'y': 0.4896246075351294}. Best is trial 253 with value: 0.003990022158176513.\u001b[0m\n",
      "\u001b[32m[I 2022-11-15 12:29:47,665]\u001b[0m Trial 351 finished with value: 2.1828460606966895 and parameters: {'x': -0.005433407130067607, 'y': -1.472002391401851}. Best is trial 253 with value: 0.003990022158176513.\u001b[0m\n",
      "\u001b[32m[I 2022-11-15 12:29:47,670]\u001b[0m Trial 352 finished with value: 1.7594824372637485 and parameters: {'x': -0.4339384962902196, 'y': -0.8195286228242514}. Best is trial 253 with value: 0.003990022158176513.\u001b[0m\n",
      "\u001b[32m[I 2022-11-15 12:29:47,674]\u001b[0m Trial 353 finished with value: 1.205066967780135 and parameters: {'x': -1.097631943535672, 'y': 1.1140965817108017}. Best is trial 253 with value: 0.003990022158176513.\u001b[0m\n",
      "\u001b[32m[I 2022-11-15 12:29:47,678]\u001b[0m Trial 354 finished with value: 0.509723156474808 and parameters: {'x': 0.5909603191708397, 'y': -0.1903494635511906}. Best is trial 253 with value: 0.003990022158176513.\u001b[0m\n"
     ]
    },
    {
     "name": "stderr",
     "output_type": "stream",
     "text": [
      "\u001b[32m[I 2022-11-15 12:29:47,682]\u001b[0m Trial 355 finished with value: 6.15129110983231 and parameters: {'x': 1.615739776659949, 'y': 0.26592865426808443}. Best is trial 253 with value: 0.003990022158176513.\u001b[0m\n",
      "\u001b[32m[I 2022-11-15 12:29:47,687]\u001b[0m Trial 356 finished with value: 0.18254316940319876 and parameters: {'x': 0.10602724621417661, 'y': -0.5199129701325513}. Best is trial 253 with value: 0.003990022158176513.\u001b[0m\n",
      "\u001b[32m[I 2022-11-15 12:29:47,691]\u001b[0m Trial 357 finished with value: 2.8260866857710174 and parameters: {'x': -1.505446697588607, 'y': 0.7573043805856354}. Best is trial 253 with value: 0.003990022158176513.\u001b[0m\n",
      "\u001b[32m[I 2022-11-15 12:29:47,695]\u001b[0m Trial 358 finished with value: 0.6951213451183631 and parameters: {'x': -0.5663463437104195, 'y': -0.04551406854404438}. Best is trial 253 with value: 0.003990022158176513.\u001b[0m\n",
      "\u001b[32m[I 2022-11-15 12:29:47,700]\u001b[0m Trial 359 finished with value: 1.6788784130326269 and parameters: {'x': -0.19938607407518363, 'y': -1.0808965535104258}. Best is trial 253 with value: 0.003990022158176513.\u001b[0m\n",
      "\u001b[32m[I 2022-11-15 12:29:47,704]\u001b[0m Trial 360 finished with value: 2.3139317054415205 and parameters: {'x': 0.8401360735339548, 'y': 0.42797397034570384}. Best is trial 253 with value: 0.003990022158176513.\u001b[0m\n",
      "\u001b[32m[I 2022-11-15 12:29:47,709]\u001b[0m Trial 361 finished with value: 0.10780526077474067 and parameters: {'x': 0.3168102006535641, 'y': -0.40304567790387646}. Best is trial 253 with value: 0.003990022158176513.\u001b[0m\n",
      "\u001b[32m[I 2022-11-15 12:29:47,713]\u001b[0m Trial 362 finished with value: 1.4512840348574594 and parameters: {'x': -0.8413700798840993, 'y': -0.02082503929327324}. Best is trial 253 with value: 0.003990022158176513.\u001b[0m\n",
      "\u001b[32m[I 2022-11-15 12:29:47,717]\u001b[0m Trial 363 finished with value: 0.48577769143106964 and parameters: {'x': 0.05271998672651691, 'y': -0.7477007738211139}. Best is trial 253 with value: 0.003990022158176513.\u001b[0m\n",
      "\u001b[32m[I 2022-11-15 12:29:47,721]\u001b[0m Trial 364 finished with value: 4.8833869695199965 and parameters: {'x': 1.165483598393004, 'y': 0.7120240451059222}. Best is trial 253 with value: 0.003990022158176513.\u001b[0m\n",
      "\u001b[32m[I 2022-11-15 12:29:47,725]\u001b[0m Trial 365 finished with value: 0.16115264173690103 and parameters: {'x': -0.34672184313244414, 'y': 0.14439387860024752}. Best is trial 253 with value: 0.003990022158176513.\u001b[0m\n",
      "\u001b[32m[I 2022-11-15 12:29:47,729]\u001b[0m Trial 366 finished with value: 0.41141457343085636 and parameters: {'x': 0.5923488549497792, 'y': -0.3463053476781143}. Best is trial 253 with value: 0.003990022158176513.\u001b[0m\n",
      "\u001b[32m[I 2022-11-15 12:29:47,733]\u001b[0m Trial 367 finished with value: 0.6840455341952996 and parameters: {'x': 0.36102544535340064, 'y': 0.3830889020440127}. Best is trial 253 with value: 0.003990022158176513.\u001b[0m\n",
      "\u001b[32m[I 2022-11-15 12:29:47,738]\u001b[0m Trial 368 finished with value: 7.306340821335651 and parameters: {'x': -0.763932073537537, 'y': -1.8288943009727754}. Best is trial 253 with value: 0.003990022158176513.\u001b[0m\n",
      "\u001b[32m[I 2022-11-15 12:29:47,742]\u001b[0m Trial 369 finished with value: 0.9570758729437078 and parameters: {'x': -0.13362989157449698, 'y': -0.8355031875335768}. Best is trial 253 with value: 0.003990022158176513.\u001b[0m\n",
      "\u001b[32m[I 2022-11-15 12:29:47,746]\u001b[0m Trial 370 finished with value: 2.6637175103598296 and parameters: {'x': 0.19179440812605208, 'y': 1.4289870130937887}. Best is trial 253 with value: 0.003990022158176513.\u001b[0m\n",
      "\u001b[32m[I 2022-11-15 12:29:47,751]\u001b[0m Trial 371 finished with value: 156.34412910256958 and parameters: {'x': 8.941972464809737, 'y': -0.20210647378023744}. Best is trial 253 with value: 0.003990022158176513.\u001b[0m\n",
      "\u001b[32m[I 2022-11-15 12:29:47,755]\u001b[0m Trial 372 finished with value: 1.2919693981593787 and parameters: {'x': 0.7391833993377612, 'y': 0.12428478206955079}. Best is trial 253 with value: 0.003990022158176513.\u001b[0m\n",
      "\u001b[32m[I 2022-11-15 12:29:47,760]\u001b[0m Trial 373 finished with value: 2.4863677014073 and parameters: {'x': -0.3236628716986054, 'y': -1.2195837213289353}. Best is trial 253 with value: 0.003990022158176513.\u001b[0m\n",
      "\u001b[32m[I 2022-11-15 12:29:47,764]\u001b[0m Trial 374 finished with value: 1.2396085567783401 and parameters: {'x': -1.112201947147355, 'y': 1.0610611069120564}. Best is trial 253 with value: 0.003990022158176513.\u001b[0m\n",
      "\u001b[32m[I 2022-11-15 12:29:47,768]\u001b[0m Trial 375 finished with value: 0.16568583768108489 and parameters: {'x': 0.27285366461760596, 'y': -0.5749078243072681}. Best is trial 253 with value: 0.003990022158176513.\u001b[0m\n",
      "\u001b[32m[I 2022-11-15 12:29:47,773]\u001b[0m Trial 376 finished with value: 17.730402501015508 and parameters: {'x': -0.6152413991546752, 'y': 4.78080024783053}. Best is trial 253 with value: 0.003990022158176513.\u001b[0m\n",
      "\u001b[32m[I 2022-11-15 12:29:47,777]\u001b[0m Trial 377 finished with value: 3.6997492441207553 and parameters: {'x': 1.0295195695530126, 'y': 0.5952384739808962}. Best is trial 253 with value: 0.003990022158176513.\u001b[0m\n",
      "\u001b[32m[I 2022-11-15 12:29:47,781]\u001b[0m Trial 378 finished with value: 0.03675379104620679 and parameters: {'x': -0.028781064406214085, 'y': -0.16075901414671928}. Best is trial 253 with value: 0.003990022158176513.\u001b[0m\n",
      "\u001b[32m[I 2022-11-15 12:29:47,786]\u001b[0m Trial 379 finished with value: 3.039052780423732 and parameters: {'x': 1.4074767618801916, 'y': -0.37885538100626537}. Best is trial 253 with value: 0.003990022158176513.\u001b[0m\n",
      "\u001b[32m[I 2022-11-15 12:29:47,790]\u001b[0m Trial 380 finished with value: 0.5241741689535342 and parameters: {'x': 0.6988808823219494, 'y': -0.8879302972335743}. Best is trial 253 with value: 0.003990022158176513.\u001b[0m\n",
      "\u001b[32m[I 2022-11-15 12:29:47,794]\u001b[0m Trial 381 finished with value: 0.14306901889135795 and parameters: {'x': 0.09929720571379944, 'y': 0.2656809906607091}. Best is trial 253 with value: 0.003990022158176513.\u001b[0m\n",
      "\u001b[32m[I 2022-11-15 12:29:47,799]\u001b[0m Trial 382 finished with value: 0.449510147693417 and parameters: {'x': 0.5332614076824558, 'y': -0.12688421987543488}. Best is trial 253 with value: 0.003990022158176513.\u001b[0m\n",
      "\u001b[32m[I 2022-11-15 12:29:47,803]\u001b[0m Trial 383 finished with value: 52.985122209733106 and parameters: {'x': -4.873605579045456, 'y': -0.5331578585047854}. Best is trial 253 with value: 0.003990022158176513.\u001b[0m\n",
      "\u001b[32m[I 2022-11-15 12:29:47,807]\u001b[0m Trial 384 finished with value: 0.38482318745000405 and parameters: {'x': -0.2745670928668241, 'y': 0.83083690057228}. Best is trial 253 with value: 0.003990022158176513.\u001b[0m\n",
      "\u001b[32m[I 2022-11-15 12:29:47,812]\u001b[0m Trial 385 finished with value: 0.19297926588210876 and parameters: {'x': 0.03831454899355425, 'y': 0.3993054473703337}. Best is trial 253 with value: 0.003990022158176513.\u001b[0m\n",
      "\u001b[32m[I 2022-11-15 12:29:47,816]\u001b[0m Trial 386 finished with value: 18.635543390655222 and parameters: {'x': -0.5336157292198712, 'y': -3.7501673703527914}. Best is trial 253 with value: 0.003990022158176513.\u001b[0m\n",
      "\u001b[32m[I 2022-11-15 12:29:47,821]\u001b[0m Trial 387 finished with value: 0.22088455919241023 and parameters: {'x': 0.3661628674550505, 'y': -0.07152866426488225}. Best is trial 253 with value: 0.003990022158176513.\u001b[0m\n",
      "\u001b[32m[I 2022-11-15 12:29:47,825]\u001b[0m Trial 388 finished with value: 2.034965312478493 and parameters: {'x': -0.09259297137660771, 'y': -1.330920939384416}. Best is trial 253 with value: 0.003990022158176513.\u001b[0m\n",
      "\u001b[32m[I 2022-11-15 12:29:47,829]\u001b[0m Trial 389 finished with value: 0.9542121322861757 and parameters: {'x': 0.9607560351102331, 'y': -0.784234157470547}. Best is trial 253 with value: 0.003990022158176513.\u001b[0m\n",
      "\u001b[32m[I 2022-11-15 12:29:47,834]\u001b[0m Trial 390 finished with value: 2.182217622252083 and parameters: {'x': -0.8621306081751678, 'y': -0.33743116043018334}. Best is trial 253 with value: 0.003990022158176513.\u001b[0m\n",
      "\u001b[32m[I 2022-11-15 12:29:47,839]\u001b[0m Trial 391 finished with value: 0.6616985169320785 and parameters: {'x': 0.46792573813630717, 'y': 0.19746438842229352}. Best is trial 253 with value: 0.003990022158176513.\u001b[0m\n",
      "\u001b[32m[I 2022-11-15 12:29:47,843]\u001b[0m Trial 392 finished with value: 0.24452751480942989 and parameters: {'x': -0.39968462675030636, 'y': 0.6908541889454269}. Best is trial 253 with value: 0.003990022158176513.\u001b[0m\n",
      "\u001b[32m[I 2022-11-15 12:29:47,847]\u001b[0m Trial 393 finished with value: 65.30966828389272 and parameters: {'x': 0.06944661904255256, 'y': -8.150587964854807}. Best is trial 253 with value: 0.003990022158176513.\u001b[0m\n"
     ]
    },
    {
     "name": "stderr",
     "output_type": "stream",
     "text": [
      "\u001b[32m[I 2022-11-15 12:29:47,852]\u001b[0m Trial 394 finished with value: 4.395725965993321 and parameters: {'x': -1.4467608023400014, 'y': -0.07067425287845414}. Best is trial 253 with value: 0.003990022158176513.\u001b[0m\n",
      "\u001b[32m[I 2022-11-15 12:29:47,857]\u001b[0m Trial 395 finished with value: 5.5704087033813705 and parameters: {'x': 0.5289439204855477, 'y': 1.771192386858595}. Best is trial 253 with value: 0.003990022158176513.\u001b[0m\n",
      "\u001b[32m[I 2022-11-15 12:29:47,862]\u001b[0m Trial 396 finished with value: 2.4433701608293767 and parameters: {'x': 1.3365858251596865, 'y': -0.5260869091754783}. Best is trial 253 with value: 0.003990022158176513.\u001b[0m\n",
      "\u001b[32m[I 2022-11-15 12:29:47,866]\u001b[0m Trial 397 finished with value: 0.5803580614325029 and parameters: {'x': -0.6929219267678023, 'y': 0.37635082126873853}. Best is trial 253 with value: 0.003990022158176513.\u001b[0m\n",
      "\u001b[32m[I 2022-11-15 12:29:47,870]\u001b[0m Trial 398 finished with value: 0.7461672494866223 and parameters: {'x': -0.19122072199026913, 'y': 1.0335994283736525}. Best is trial 253 with value: 0.003990022158176513.\u001b[0m\n",
      "\u001b[32m[I 2022-11-15 12:29:47,875]\u001b[0m Trial 399 finished with value: 0.7769795635482177 and parameters: {'x': 0.8641015301248252, 'y': -1.0381937734447204}. Best is trial 253 with value: 0.003990022158176513.\u001b[0m\n",
      "\u001b[32m[I 2022-11-15 12:29:47,879]\u001b[0m Trial 400 finished with value: 0.06611326750073793 and parameters: {'x': 0.15864030802272866, 'y': 0.043712157173996076}. Best is trial 253 with value: 0.003990022158176513.\u001b[0m\n",
      "\u001b[32m[I 2022-11-15 12:29:47,884]\u001b[0m Trial 401 finished with value: 0.044852858139682976 and parameters: {'x': 0.043560840234259116, 'y': -0.25081747182362063}. Best is trial 253 with value: 0.003990022158176513.\u001b[0m\n",
      "\u001b[32m[I 2022-11-15 12:29:47,888]\u001b[0m Trial 402 finished with value: 1.5520136327919873 and parameters: {'x': -1.0909385560531193, 'y': 0.48938498428355326}. Best is trial 253 with value: 0.003990022158176513.\u001b[0m\n",
      "\u001b[32m[I 2022-11-15 12:29:47,893]\u001b[0m Trial 403 finished with value: 0.3134761157773755 and parameters: {'x': -0.45449754758522776, 'y': 0.1275295139544321}. Best is trial 253 with value: 0.003990022158176513.\u001b[0m\n",
      "\u001b[32m[I 2022-11-15 12:29:47,897]\u001b[0m Trial 404 finished with value: 123.89497868409842 and parameters: {'x': -7.750358254553884, 'y': -0.23881727300632194}. Best is trial 253 with value: 0.003990022158176513.\u001b[0m\n",
      "\u001b[32m[I 2022-11-15 12:29:47,901]\u001b[0m Trial 405 finished with value: 0.5874021101568527 and parameters: {'x': -0.06611126063154393, 'y': 0.8296761965568134}. Best is trial 253 with value: 0.003990022158176513.\u001b[0m\n",
      "\u001b[32m[I 2022-11-15 12:29:47,906]\u001b[0m Trial 406 finished with value: 6.208330363323913 and parameters: {'x': 2.0729810312585544, 'y': -0.6905628574174647}. Best is trial 253 with value: 0.003990022158176513.\u001b[0m\n",
      "\u001b[32m[I 2022-11-15 12:29:47,911]\u001b[0m Trial 407 finished with value: 0.3105654334489931 and parameters: {'x': 0.33655368570146177, 'y': 0.10762763998631952}. Best is trial 253 with value: 0.003990022158176513.\u001b[0m\n",
      "\u001b[32m[I 2022-11-15 12:29:47,915]\u001b[0m Trial 408 finished with value: 0.8145009930846083 and parameters: {'x': -0.7436890121373894, 'y': 1.254988969413666}. Best is trial 253 with value: 0.003990022158176513.\u001b[0m\n",
      "\u001b[32m[I 2022-11-15 12:29:47,919]\u001b[0m Trial 409 finished with value: 1.797318981214517 and parameters: {'x': 0.6561649733930306, 'y': 0.5129229227493598}. Best is trial 253 with value: 0.003990022158176513.\u001b[0m\n",
      "\u001b[32m[I 2022-11-15 12:29:47,924]\u001b[0m Trial 410 finished with value: 0.6361731606876014 and parameters: {'x': -0.3082177141048654, 'y': -0.4274282614836461}. Best is trial 253 with value: 0.003990022158176513.\u001b[0m\n",
      "\u001b[32m[I 2022-11-15 12:29:47,928]\u001b[0m Trial 411 finished with value: 0.014814415225237488 and parameters: {'x': 0.11194102863105182, 'y': -0.06415377788088286}. Best is trial 253 with value: 0.003990022158176513.\u001b[0m\n",
      "\u001b[32m[I 2022-11-15 12:29:47,933]\u001b[0m Trial 412 finished with value: 0.023223628868283854 and parameters: {'x': -0.09249118346149918, 'y': 0.21360687133955714}. Best is trial 253 with value: 0.003990022158176513.\u001b[0m\n",
      "\u001b[32m[I 2022-11-15 12:29:47,937]\u001b[0m Trial 413 finished with value: 3.5414542677266416 and parameters: {'x': 1.0483237992375278, 'y': 0.5145170370854922}. Best is trial 253 with value: 0.003990022158176513.\u001b[0m\n",
      "\u001b[32m[I 2022-11-15 12:29:47,942]\u001b[0m Trial 414 finished with value: 0.03027730082433197 and parameters: {'x': 0.03323145995987897, 'y': 0.13756950869447887}. Best is trial 253 with value: 0.003990022158176513.\u001b[0m\n",
      "\u001b[32m[I 2022-11-15 12:29:47,947]\u001b[0m Trial 415 finished with value: 0.6266942471591737 and parameters: {'x': -0.5335865424765213, 'y': 1.1183768030376264}. Best is trial 253 with value: 0.003990022158176513.\u001b[0m\n",
      "\u001b[32m[I 2022-11-15 12:29:47,951]\u001b[0m Trial 416 finished with value: 0.012855010592850323 and parameters: {'x': -0.09146681534002926, 'y': 0.15846556371940804}. Best is trial 253 with value: 0.003990022158176513.\u001b[0m\n",
      "\u001b[32m[I 2022-11-15 12:29:47,955]\u001b[0m Trial 417 finished with value: 2.238093580392466 and parameters: {'x': 0.6135947273170526, 'y': 0.7508081057938942}. Best is trial 253 with value: 0.003990022158176513.\u001b[0m\n",
      "\u001b[32m[I 2022-11-15 12:29:47,960]\u001b[0m Trial 418 finished with value: 0.08203828880686453 and parameters: {'x': 0.02421212196882558, 'y': 0.2611859543327347}. Best is trial 253 with value: 0.003990022158176513.\u001b[0m\n",
      "\u001b[32m[I 2022-11-15 12:29:47,964]\u001b[0m Trial 419 finished with value: 0.25688370831087076 and parameters: {'x': 0.3787483012547288, 'y': -0.04194949987989026}. Best is trial 253 with value: 0.003990022158176513.\u001b[0m\n",
      "\u001b[32m[I 2022-11-15 12:29:47,969]\u001b[0m Trial 420 finished with value: 0.860588640443554 and parameters: {'x': -0.9062667129074612, 'y': 0.7081019190628954}. Best is trial 253 with value: 0.003990022158176513.\u001b[0m\n",
      "\u001b[32m[I 2022-11-15 12:29:47,974]\u001b[0m Trial 421 finished with value: 0.072563616889418 and parameters: {'x': -0.15211204539223025, 'y': -0.0702065155423217}. Best is trial 253 with value: 0.003990022158176513.\u001b[0m\n",
      "\u001b[32m[I 2022-11-15 12:29:47,978]\u001b[0m Trial 422 finished with value: 2.626344362854856 and parameters: {'x': 0.8817841879927847, 'y': 0.47792203346123274}. Best is trial 253 with value: 0.003990022158176513.\u001b[0m\n",
      "\u001b[32m[I 2022-11-15 12:29:47,983]\u001b[0m Trial 423 finished with value: 2.7219320732599654 and parameters: {'x': 0.19102615170339696, 'y': 1.4477053951417098}. Best is trial 253 with value: 0.003990022158176513.\u001b[0m\n",
      "\u001b[32m[I 2022-11-15 12:29:47,987]\u001b[0m Trial 424 finished with value: 0.25291327006484665 and parameters: {'x': -0.46476839463535546, 'y': 0.272665272815534}. Best is trial 253 with value: 0.003990022158176513.\u001b[0m\n",
      "\u001b[32m[I 2022-11-15 12:29:47,991]\u001b[0m Trial 425 finished with value: 5.84438875726563 and parameters: {'x': -1.251927860609853, 'y': -0.8161788554699694}. Best is trial 253 with value: 0.003990022158176513.\u001b[0m\n",
      "\u001b[32m[I 2022-11-15 12:29:47,996]\u001b[0m Trial 426 finished with value: 0.5437579557406509 and parameters: {'x': 0.58194212124743, 'y': -0.1290609853423315}. Best is trial 253 with value: 0.003990022158176513.\u001b[0m\n",
      "\u001b[32m[I 2022-11-15 12:29:48,001]\u001b[0m Trial 427 finished with value: 0.9730210430646988 and parameters: {'x': -0.03841547297315251, 'y': 1.0240854453781902}. Best is trial 253 with value: 0.003990022158176513.\u001b[0m\n",
      "\u001b[32m[I 2022-11-15 12:29:48,005]\u001b[0m Trial 428 finished with value: 4.14708913317593 and parameters: {'x': 1.3453815237252047, 'y': 0.18335576200925935}. Best is trial 253 with value: 0.003990022158176513.\u001b[0m\n",
      "\u001b[32m[I 2022-11-15 12:29:48,009]\u001b[0m Trial 429 finished with value: 1.6405291862505023 and parameters: {'x': -0.5904506659583965, 'y': -0.5461658908978673}. Best is trial 253 with value: 0.003990022158176513.\u001b[0m\n",
      "\u001b[32m[I 2022-11-15 12:29:48,014]\u001b[0m Trial 430 finished with value: 0.18095335655085584 and parameters: {'x': 0.3824620509277198, 'y': -0.1962467557690833}. Best is trial 253 with value: 0.003990022158176513.\u001b[0m\n",
      "\u001b[32m[I 2022-11-15 12:29:48,019]\u001b[0m Trial 431 finished with value: 0.1480137903957207 and parameters: {'x': -0.16571901600815847, 'y': 0.5129235639752155}. Best is trial 253 with value: 0.003990022158176513.\u001b[0m\n",
      "\u001b[32m[I 2022-11-15 12:29:48,023]\u001b[0m Trial 432 finished with value: 2.9658185132679886 and parameters: {'x': 0.7567502408988613, 'y': 0.7902299096420251}. Best is trial 253 with value: 0.003990022158176513.\u001b[0m\n"
     ]
    },
    {
     "name": "stderr",
     "output_type": "stream",
     "text": [
      "\u001b[32m[I 2022-11-15 12:29:48,028]\u001b[0m Trial 433 finished with value: 0.9592484928275016 and parameters: {'x': 0.1596026020688088, 'y': -1.1259232022012737}. Best is trial 253 with value: 0.003990022158176513.\u001b[0m\n",
      "\u001b[32m[I 2022-11-15 12:29:48,033]\u001b[0m Trial 434 finished with value: 7.134959686983452 and parameters: {'x': -1.8632418785125662, 'y': -0.05073027100801003}. Best is trial 253 with value: 0.003990022158176513.\u001b[0m\n",
      "\u001b[32m[I 2022-11-15 12:29:48,037]\u001b[0m Trial 435 finished with value: 2.964985025467578 and parameters: {'x': -0.7702926523340865, 'y': -0.7697184694529271}. Best is trial 253 with value: 0.003990022158176513.\u001b[0m\n",
      "\u001b[32m[I 2022-11-15 12:29:48,042]\u001b[0m Trial 436 finished with value: 0.11990567946874492 and parameters: {'x': -0.34508458237576567, 'y': 0.3164086259786667}. Best is trial 253 with value: 0.003990022158176513.\u001b[0m\n",
      "\u001b[32m[I 2022-11-15 12:29:48,047]\u001b[0m Trial 437 finished with value: 0.14395003165294556 and parameters: {'x': 0.377639495083149, 'y': -0.34105475227566373}. Best is trial 253 with value: 0.003990022158176513.\u001b[0m\n",
      "\u001b[32m[I 2022-11-15 12:29:48,051]\u001b[0m Trial 438 finished with value: 2.457063978656457 and parameters: {'x': 1.0601224319829332, 'y': 0.09452227868050192}. Best is trial 253 with value: 0.003990022158176513.\u001b[0m\n",
      "\u001b[32m[I 2022-11-15 12:29:48,056]\u001b[0m Trial 439 finished with value: 0.40021071620661514 and parameters: {'x': -0.02725375096104944, 'y': -0.6047810180708197}. Best is trial 253 with value: 0.003990022158176513.\u001b[0m\n",
      "\u001b[32m[I 2022-11-15 12:29:48,060]\u001b[0m Trial 440 finished with value: 1.0442299723370227 and parameters: {'x': -0.9916803183531337, 'y': 0.7451035178871327}. Best is trial 253 with value: 0.003990022158176513.\u001b[0m\n",
      "\u001b[32m[I 2022-11-15 12:29:48,065]\u001b[0m Trial 441 finished with value: 0.6421046936463046 and parameters: {'x': 0.6445867848677608, 'y': -0.16854837211081983}. Best is trial 253 with value: 0.003990022158176513.\u001b[0m\n",
      "\u001b[32m[I 2022-11-15 12:29:48,069]\u001b[0m Trial 442 finished with value: 0.17839083652802626 and parameters: {'x': -0.4202780409413568, 'y': 0.37835901387104554}. Best is trial 253 with value: 0.003990022158176513.\u001b[0m\n",
      "\u001b[32m[I 2022-11-15 12:29:48,074]\u001b[0m Trial 443 finished with value: 0.8013311846821026 and parameters: {'x': 0.11060286000047531, 'y': -0.9989148502616774}. Best is trial 253 with value: 0.003990022158176513.\u001b[0m\n",
      "\u001b[32m[I 2022-11-15 12:29:48,078]\u001b[0m Trial 444 finished with value: 0.3903542676995251 and parameters: {'x': -0.20205214187151568, 'y': -0.38915780363401964}. Best is trial 253 with value: 0.003990022158176513.\u001b[0m\n",
      "\u001b[32m[I 2022-11-15 12:29:48,083]\u001b[0m Trial 445 finished with value: 3.147920620771793 and parameters: {'x': 1.7474141867309985, 'y': -1.4400637665539047}. Best is trial 253 with value: 0.003990022158176513.\u001b[0m\n",
      "\u001b[32m[I 2022-11-15 12:29:48,088]\u001b[0m Trial 446 finished with value: 2.0849733014288723 and parameters: {'x': 0.4506123398081157, 'y': 0.9212192171410338}. Best is trial 253 with value: 0.003990022158176513.\u001b[0m\n",
      "\u001b[32m[I 2022-11-15 12:29:48,092]\u001b[0m Trial 447 finished with value: 0.6968647569761715 and parameters: {'x': -0.6565425054441815, 'y': 0.1409683638105572}. Best is trial 253 with value: 0.003990022158176513.\u001b[0m\n",
      "\u001b[32m[I 2022-11-15 12:29:48,097]\u001b[0m Trial 448 finished with value: 2.398963034818361 and parameters: {'x': 0.8383281969481262, 'y': 0.46404228376005713}. Best is trial 253 with value: 0.003990022158176513.\u001b[0m\n",
      "\u001b[32m[I 2022-11-15 12:29:48,101]\u001b[0m Trial 449 finished with value: 38.79985306753523 and parameters: {'x': 0.16294957922151826, 'y': -6.389770638330794}. Best is trial 253 with value: 0.003990022158176513.\u001b[0m\n",
      "\u001b[32m[I 2022-11-15 12:29:48,106]\u001b[0m Trial 450 finished with value: 1.3265301415977113 and parameters: {'x': -0.2517310505008582, 'y': 1.375635681602379}. Best is trial 253 with value: 0.003990022158176513.\u001b[0m\n",
      "\u001b[32m[I 2022-11-15 12:29:48,111]\u001b[0m Trial 451 finished with value: 13.15878392107769 and parameters: {'x': -1.2735193990337512, 'y': -2.1230865924469215}. Best is trial 253 with value: 0.003990022158176513.\u001b[0m\n",
      "\u001b[32m[I 2022-11-15 12:29:48,115]\u001b[0m Trial 452 finished with value: 104.43308520846927 and parameters: {'x': 7.318565176467185, 'y': -0.18612597474446102}. Best is trial 253 with value: 0.003990022158176513.\u001b[0m\n",
      "\u001b[32m[I 2022-11-15 12:29:48,120]\u001b[0m Trial 453 finished with value: 0.2992233463200163 and parameters: {'x': 0.5079105239461197, 'y': -0.7110120896338181}. Best is trial 253 with value: 0.003990022158176513.\u001b[0m\n",
      "\u001b[32m[I 2022-11-15 12:29:48,125]\u001b[0m Trial 454 finished with value: 2.870686668687799 and parameters: {'x': 1.173118409319433, 'y': 0.04937079979598599}. Best is trial 253 with value: 0.003990022158176513.\u001b[0m\n",
      "\u001b[32m[I 2022-11-15 12:29:48,129]\u001b[0m Trial 455 finished with value: 0.20327302723544455 and parameters: {'x': 0.038775018247741634, 'y': -0.4879626463001312}. Best is trial 253 with value: 0.003990022158176513.\u001b[0m\n",
      "\u001b[32m[I 2022-11-15 12:29:48,134]\u001b[0m Trial 456 finished with value: 0.46814477302514657 and parameters: {'x': -0.680368722847583, 'y': 0.6079589583410236}. Best is trial 253 with value: 0.003990022158176513.\u001b[0m\n",
      "\u001b[32m[I 2022-11-15 12:29:48,138]\u001b[0m Trial 457 finished with value: 0.11556185557836039 and parameters: {'x': -0.32247158644224005, 'y': 0.21488937826735038}. Best is trial 253 with value: 0.003990022158176513.\u001b[0m\n",
      "\u001b[32m[I 2022-11-15 12:29:48,143]\u001b[0m Trial 458 finished with value: 0.13082567837786013 and parameters: {'x': 0.3177697213428472, 'y': -0.14500374501779245}. Best is trial 253 with value: 0.003990022158176513.\u001b[0m\n",
      "\u001b[32m[I 2022-11-15 12:29:48,148]\u001b[0m Trial 459 finished with value: 3.7950201471970715 and parameters: {'x': 0.7728016036232189, 'y': 1.015437146833345}. Best is trial 253 with value: 0.003990022158176513.\u001b[0m\n",
      "\u001b[32m[I 2022-11-15 12:29:48,152]\u001b[0m Trial 460 finished with value: 4.101061911422376 and parameters: {'x': 0.0018567809558393406, 'y': 2.0232502443114324}. Best is trial 253 with value: 0.003990022158176513.\u001b[0m\n",
      "\u001b[32m[I 2022-11-15 12:29:48,157]\u001b[0m Trial 461 finished with value: 3.211191603778517 and parameters: {'x': -0.6934123504611311, 'y': -0.9589710542021106}. Best is trial 253 with value: 0.003990022158176513.\u001b[0m\n",
      "\u001b[32m[I 2022-11-15 12:29:48,162]\u001b[0m Trial 462 finished with value: 0.647472886612614 and parameters: {'x': 0.32416320608546734, 'y': 0.4123088588518288}. Best is trial 253 with value: 0.003990022158176513.\u001b[0m\n",
      "\u001b[32m[I 2022-11-15 12:29:48,167]\u001b[0m Trial 463 finished with value: 0.7021035065500152 and parameters: {'x': -0.32053828884298, 'y': -0.45364432006504085}. Best is trial 253 with value: 0.003990022158176513.\u001b[0m\n",
      "\u001b[32m[I 2022-11-15 12:29:48,171]\u001b[0m Trial 464 finished with value: 2.3345574773205 and parameters: {'x': -1.019425827030262, 'y': -0.1186991487541049}. Best is trial 253 with value: 0.003990022158176513.\u001b[0m\n",
      "\u001b[32m[I 2022-11-15 12:29:48,177]\u001b[0m Trial 465 finished with value: 0.6355392372241792 and parameters: {'x': 0.7867803868467075, 'y': -0.6582663405423268}. Best is trial 253 with value: 0.003990022158176513.\u001b[0m\n",
      "\u001b[32m[I 2022-11-15 12:29:48,181]\u001b[0m Trial 466 finished with value: 0.4013227178281917 and parameters: {'x': 0.0012944024978218012, 'y': 0.6322046443446856}. Best is trial 253 with value: 0.003990022158176513.\u001b[0m\n",
      "\u001b[32m[I 2022-11-15 12:29:48,186]\u001b[0m Trial 467 finished with value: 4.6971555513168095 and parameters: {'x': 1.458825697847625, 'y': 0.1439790733632045}. Best is trial 253 with value: 0.003990022158176513.\u001b[0m\n",
      "\u001b[32m[I 2022-11-15 12:29:48,190]\u001b[0m Trial 468 finished with value: 0.22009595084854458 and parameters: {'x': 0.3973519546577844, 'y': -0.14793789134502205}. Best is trial 253 with value: 0.003990022158176513.\u001b[0m\n",
      "\u001b[32m[I 2022-11-15 12:29:48,195]\u001b[0m Trial 469 finished with value: 1.9010830438853836 and parameters: {'x': -0.29703222847466715, 'y': -1.049390773086416}. Best is trial 253 with value: 0.003990022158176513.\u001b[0m\n",
      "\u001b[32m[I 2022-11-15 12:29:48,200]\u001b[0m Trial 470 finished with value: 1.4407336964900042 and parameters: {'x': 1.0312393693204007, 'y': -1.645469830673195}. Best is trial 253 with value: 0.003990022158176513.\u001b[0m\n",
      "\u001b[32m[I 2022-11-15 12:29:48,204]\u001b[0m Trial 471 finished with value: 0.6800943527480394 and parameters: {'x': -0.5623437439417545, 'y': 1.1655550389268616}. Best is trial 253 with value: 0.003990022158176513.\u001b[0m\n"
     ]
    },
    {
     "name": "stderr",
     "output_type": "stream",
     "text": [
      "\u001b[32m[I 2022-11-15 12:29:48,209]\u001b[0m Trial 472 finished with value: 0.3795127029084704 and parameters: {'x': 0.2529978574619443, 'y': 0.3087002705642546}. Best is trial 253 with value: 0.003990022158176513.\u001b[0m\n",
      "\u001b[32m[I 2022-11-15 12:29:48,214]\u001b[0m Trial 473 finished with value: 0.46591128165699264 and parameters: {'x': 0.6599532421222194, 'y': -0.485674729765234}. Best is trial 253 with value: 0.003990022158176513.\u001b[0m\n",
      "\u001b[32m[I 2022-11-15 12:29:48,219]\u001b[0m Trial 474 finished with value: 0.5565253734248176 and parameters: {'x': -0.03605534306816427, 'y': 0.7811898179524327}. Best is trial 253 with value: 0.003990022158176513.\u001b[0m\n",
      "\u001b[32m[I 2022-11-15 12:29:48,224]\u001b[0m Trial 475 finished with value: 1.928946005907071 and parameters: {'x': -1.000279752525112, 'y': 0.03675164053492619}. Best is trial 253 with value: 0.003990022158176513.\u001b[0m\n",
      "\u001b[32m[I 2022-11-15 12:29:48,229]\u001b[0m Trial 476 finished with value: 0.7089883122612233 and parameters: {'x': -0.4203895235863456, 'y': -0.30917264697903435}. Best is trial 253 with value: 0.003990022158176513.\u001b[0m\n",
      "\u001b[32m[I 2022-11-15 12:29:48,233]\u001b[0m Trial 477 finished with value: 0.29287106340143954 and parameters: {'x': 0.09365689273877266, 'y': 0.4393529100265776}. Best is trial 253 with value: 0.003990022158176513.\u001b[0m\n",
      "\u001b[32m[I 2022-11-15 12:29:48,238]\u001b[0m Trial 478 finished with value: 7.451608227794502 and parameters: {'x': -1.561114911639921, 'y': -0.6781993718964437}. Best is trial 253 with value: 0.003990022158176513.\u001b[0m\n",
      "\u001b[32m[I 2022-11-15 12:29:48,243]\u001b[0m Trial 479 finished with value: 27.721489917772452 and parameters: {'x': -3.0825409827320827, 'y': -1.1858815604973922}. Best is trial 253 with value: 0.003990022158176513.\u001b[0m\n",
      "\u001b[32m[I 2022-11-15 12:29:48,248]\u001b[0m Trial 480 finished with value: 0.9322714780628156 and parameters: {'x': 0.6114525723500261, 'y': 0.13580724179051207}. Best is trial 253 with value: 0.003990022158176513.\u001b[0m\n",
      "\u001b[32m[I 2022-11-15 12:29:48,252]\u001b[0m Trial 481 finished with value: 0.4538920598734183 and parameters: {'x': -0.17108042529067624, 'y': 0.8227118763086421}. Best is trial 253 with value: 0.003990022158176513.\u001b[0m\n",
      "\u001b[32m[I 2022-11-15 12:29:48,257]\u001b[0m Trial 482 finished with value: 1.7246795852704202 and parameters: {'x': -0.7635429066675873, 'y': -0.3049522102833665}. Best is trial 253 with value: 0.003990022158176513.\u001b[0m\n",
      "\u001b[32m[I 2022-11-15 12:29:48,262]\u001b[0m Trial 483 finished with value: 0.3458196417025117 and parameters: {'x': 0.36579226254160363, 'y': -0.8262438478002563}. Best is trial 253 with value: 0.003990022158176513.\u001b[0m\n",
      "\u001b[32m[I 2022-11-15 12:29:48,267]\u001b[0m Trial 484 finished with value: 2.7871263774428994 and parameters: {'x': 0.939258591358608, 'y': 0.4409296842045278}. Best is trial 253 with value: 0.003990022158176513.\u001b[0m\n",
      "\u001b[32m[I 2022-11-15 12:29:48,272]\u001b[0m Trial 485 finished with value: 2.352020496388081 and parameters: {'x': -0.018835473415318812, 'y': 1.5523496472426435}. Best is trial 253 with value: 0.003990022158176513.\u001b[0m\n",
      "\u001b[32m[I 2022-11-15 12:29:48,277]\u001b[0m Trial 486 finished with value: 0.36288430510630554 and parameters: {'x': -0.35621623110369594, 'y': -0.12957621614572745}. Best is trial 253 with value: 0.003990022158176513.\u001b[0m\n",
      "\u001b[32m[I 2022-11-15 12:29:48,282]\u001b[0m Trial 487 finished with value: 0.21593828545828392 and parameters: {'x': 0.26151320490217966, 'y': 0.12260803783255181}. Best is trial 253 with value: 0.003990022158176513.\u001b[0m\n",
      "\u001b[32m[I 2022-11-15 12:29:48,286]\u001b[0m Trial 488 finished with value: 0.37894720026596246 and parameters: {'x': 0.6106896835426102, 'y': -0.5331957439047967}. Best is trial 253 with value: 0.003990022158176513.\u001b[0m\n",
      "\u001b[32m[I 2022-11-15 12:29:48,291]\u001b[0m Trial 489 finished with value: 5.422894322231648 and parameters: {'x': 1.2723101700608406, 'y': 0.6781054660002023}. Best is trial 253 with value: 0.003990022158176513.\u001b[0m\n",
      "\u001b[32m[I 2022-11-15 12:29:48,296]\u001b[0m Trial 490 finished with value: 0.7844084237814282 and parameters: {'x': -0.5127678929923454, 'y': -0.20936610544396894}. Best is trial 253 with value: 0.003990022158176513.\u001b[0m\n",
      "\u001b[32m[I 2022-11-15 12:29:48,301]\u001b[0m Trial 491 finished with value: 2.220144297148473 and parameters: {'x': -1.1829757708304016, 'y': 0.2770438623644896}. Best is trial 253 with value: 0.003990022158176513.\u001b[0m\n",
      "\u001b[32m[I 2022-11-15 12:29:48,305]\u001b[0m Trial 492 finished with value: 1.0491022264070566 and parameters: {'x': 0.004437719018669795, 'y': 1.019809581713418}. Best is trial 253 with value: 0.003990022158176513.\u001b[0m\n",
      "\u001b[32m[I 2022-11-15 12:29:48,310]\u001b[0m Trial 493 finished with value: 3.400459283835878 and parameters: {'x': -0.7907109166700498, 'y': -0.8751929011101629}. Best is trial 253 with value: 0.003990022158176513.\u001b[0m\n",
      "\u001b[32m[I 2022-11-15 12:29:48,315]\u001b[0m Trial 494 finished with value: 0.3312962784452407 and parameters: {'x': 0.3972458804241954, 'y': 0.019277815097735893}. Best is trial 253 with value: 0.003990022158176513.\u001b[0m\n",
      "\u001b[32m[I 2022-11-15 12:29:48,320]\u001b[0m Trial 495 finished with value: 0.31762831915775663 and parameters: {'x': -0.08866597684681542, 'y': -0.46790087781447026}. Best is trial 253 with value: 0.003990022158176513.\u001b[0m\n",
      "\u001b[32m[I 2022-11-15 12:29:48,325]\u001b[0m Trial 496 finished with value: 0.9461734618903506 and parameters: {'x': 0.7643861980746893, 'y': -1.3659568107904971}. Best is trial 253 with value: 0.003990022158176513.\u001b[0m\n",
      "\u001b[32m[I 2022-11-15 12:29:48,330]\u001b[0m Trial 497 finished with value: 106.81646136585267 and parameters: {'x': -0.4065434006444414, 'y': -9.920662602396513}. Best is trial 253 with value: 0.003990022158176513.\u001b[0m\n",
      "\u001b[32m[I 2022-11-15 12:29:48,335]\u001b[0m Trial 498 finished with value: 0.5951864454037841 and parameters: {'x': 0.2735453664038937, 'y': 0.44781402940567333}. Best is trial 253 with value: 0.003990022158176513.\u001b[0m\n",
      "\u001b[32m[I 2022-11-15 12:29:48,340]\u001b[0m Trial 499 finished with value: 0.17832022876690137 and parameters: {'x': -0.19230309503167115, 'y': -0.18364869497356534}. Best is trial 253 with value: 0.003990022158176513.\u001b[0m\n"
     ]
    }
   ],
   "source": [
    "study = optuna.create_study() #оптимизатор\n",
    "study.optimize(objective_Shvefel, n_trials = 500)"
   ]
  },
  {
   "cell_type": "code",
   "execution_count": 19,
   "id": "dad98d4b",
   "metadata": {},
   "outputs": [
    {
     "name": "stdout",
     "output_type": "stream",
     "text": [
      "Found x: 0.05072895972394853, y: -0.08836663770097736\n",
      "Shvefel : 0.003990022158176513\n"
     ]
    }
   ],
   "source": [
    "best_params = study.best_params\n",
    "found_x = best_params[\"x\"]\n",
    "found_y = best_params[\"y\"]\n",
    "print(\"Found x: {}, y: {}\\nShvefel : {}\".format(found_x, found_y, study.best_value))"
   ]
  },
  {
   "cell_type": "code",
   "execution_count": 20,
   "id": "679629af",
   "metadata": {},
   "outputs": [
    {
     "name": "stdout",
     "output_type": "stream",
     "text": [
      "Distance to the answer point 0.10189254149961019\n",
      "Function value differece 0.003990022158176513\n"
     ]
    }
   ],
   "source": [
    "check_answer_Shvefel(np.array([found_x, found_y]), study.best_value)"
   ]
  },
  {
   "cell_type": "markdown",
   "id": "89fecaa2",
   "metadata": {},
   "source": [
    "### Мультифункция \n",
    "\n",
    "$f(x, y) = x * sin(4\\pi x) + y * sin(4\\pi y)$, $x, y \\in [-2, 2]$\n",
    "\n",
    "\n",
    "\n",
    "Точки глобального экстремума:\n",
    "\n",
    "$ min_1 = (-1.6288, -1.6288) $\n",
    "\n",
    "$ min_2 = (1.6288, 1.6288) $\n",
    "\n",
    "$ min_3 = (-1.6288, 1.6288) $\n",
    "\n",
    "$ min_4 = (1.6288, -1.6288) $\n",
    "\n",
    "Глобальный экстремум:\n",
    "\n",
    "$ f(min) = 4.2539$"
   ]
  },
  {
   "cell_type": "code",
   "execution_count": 14,
   "id": "8fa99e6f",
   "metadata": {},
   "outputs": [],
   "source": [
    "def multi_func(x: np.ndarray) -> np.float64:\n",
    "    return -x[0] * np.sin(4 * np.pi * x[0]) -x[1] * np.sin(4 * np.pi * x[1])\n",
    "\n",
    "def check_answer_multifunc(x: np.ndarray, f_val: np.float32):\n",
    "    '''\n",
    "    x - the found minimum point\n",
    "    f_val - value at found minimum point\n",
    "    '''\n",
    "    \n",
    "    x_list = [np.array([-1.6288, -1.6288]), np.array([-1.6288, 1.6288]),\n",
    "                np.array([1.6288, -1.6288]), np.array([1.6288, 1.6288])]\n",
    "    f_answer = -4.2539\n",
    "    \n",
    "    min_dist = min([math.sqrt((x[0] - x_answer[0]) ** 2 + (x[1] - x_answer[1]) ** 2) for x_answer in x_list])\n",
    "\n",
    "    print(\"Distance to the answer point\", min_dist)\n",
    "    print(\"Function value differece\", f_val - f_answer)"
   ]
  },
  {
   "cell_type": "code",
   "execution_count": 15,
   "id": "440befbd",
   "metadata": {},
   "outputs": [],
   "source": [
    "def objective_multifunc(trial):\n",
    "    x = trial.suggest_float(\"x\", -2, 2)\n",
    "    y = trial.suggest_float(\"y\", -2, 2)\n",
    "    return multi_func(np.array([x, y]))"
   ]
  },
  {
   "cell_type": "code",
   "execution_count": 45,
   "id": "195664d8",
   "metadata": {},
   "outputs": [
    {
     "name": "stderr",
     "output_type": "stream",
     "text": [
      "\u001b[32m[I 2022-11-15 13:20:16,297]\u001b[0m A new study created in memory with name: no-name-7fae7ee4-05be-4de8-bf2d-d6aa5e07dab3\u001b[0m\n"
     ]
    },
    {
     "name": "stdout",
     "output_type": "stream",
     "text": [
      "A new study created in memory with name: no-name-7fae7ee4-05be-4de8-bf2d-d6aa5e07dab3\n",
      "A new study created in memory with name: no-name-7fae7ee4-05be-4de8-bf2d-d6aa5e07dab3\n",
      "A new study created in memory with name: no-name-7fae7ee4-05be-4de8-bf2d-d6aa5e07dab3\n"
     ]
    },
    {
     "name": "stderr",
     "output_type": "stream",
     "text": [
      "\u001b[32m[I 2022-11-15 13:20:16,302]\u001b[0m Trial 0 finished with value: -0.7277855901685194 and parameters: {'x': 0.3997449532114805, 'y': 1.145253781367519}. Best is trial 0 with value: -0.7277855901685194.\u001b[0m\n"
     ]
    },
    {
     "name": "stdout",
     "output_type": "stream",
     "text": [
      "Trial 0 finished with value: -0.7277855901685194 and parameters: {'x': 0.3997449532114805, 'y': 1.145253781367519}. Best is trial 0 with value: -0.7277855901685194.\n",
      "Trial 0 finished with value: -0.7277855901685194 and parameters: {'x': 0.3997449532114805, 'y': 1.145253781367519}. Best is trial 0 with value: -0.7277855901685194.\n",
      "Trial 0 finished with value: -0.7277855901685194 and parameters: {'x': 0.3997449532114805, 'y': 1.145253781367519}. Best is trial 0 with value: -0.7277855901685194.\n"
     ]
    },
    {
     "name": "stderr",
     "output_type": "stream",
     "text": [
      "\u001b[32m[I 2022-11-15 13:20:16,305]\u001b[0m Trial 1 finished with value: 1.2428272153838846 and parameters: {'x': 0.41170506283340025, 'y': 0.8900796504294797}. Best is trial 0 with value: -0.7277855901685194.\u001b[0m\n"
     ]
    },
    {
     "name": "stdout",
     "output_type": "stream",
     "text": [
      "Trial 1 finished with value: 1.2428272153838846 and parameters: {'x': 0.41170506283340025, 'y': 0.8900796504294797}. Best is trial 0 with value: -0.7277855901685194.\n",
      "Trial 1 finished with value: 1.2428272153838846 and parameters: {'x': 0.41170506283340025, 'y': 0.8900796504294797}. Best is trial 0 with value: -0.7277855901685194.\n",
      "Trial 1 finished with value: 1.2428272153838846 and parameters: {'x': 0.41170506283340025, 'y': 0.8900796504294797}. Best is trial 0 with value: -0.7277855901685194.\n"
     ]
    },
    {
     "name": "stderr",
     "output_type": "stream",
     "text": [
      "\u001b[32m[I 2022-11-15 13:20:16,308]\u001b[0m Trial 2 finished with value: -1.339549879687623 and parameters: {'x': -1.2406423000952942, 'y': 1.687447265204788}. Best is trial 2 with value: -1.339549879687623.\u001b[0m\n"
     ]
    },
    {
     "name": "stdout",
     "output_type": "stream",
     "text": [
      "Trial 2 finished with value: -1.339549879687623 and parameters: {'x': -1.2406423000952942, 'y': 1.687447265204788}. Best is trial 2 with value: -1.339549879687623.\n",
      "Trial 2 finished with value: -1.339549879687623 and parameters: {'x': -1.2406423000952942, 'y': 1.687447265204788}. Best is trial 2 with value: -1.339549879687623.\n",
      "Trial 2 finished with value: -1.339549879687623 and parameters: {'x': -1.2406423000952942, 'y': 1.687447265204788}. Best is trial 2 with value: -1.339549879687623.\n"
     ]
    },
    {
     "name": "stderr",
     "output_type": "stream",
     "text": [
      "\u001b[32m[I 2022-11-15 13:20:16,311]\u001b[0m Trial 3 finished with value: -2.2978037017083506 and parameters: {'x': 1.1948057229552242, 'y': 1.6557071509810846}. Best is trial 3 with value: -2.2978037017083506.\u001b[0m\n"
     ]
    },
    {
     "name": "stdout",
     "output_type": "stream",
     "text": [
      "Trial 3 finished with value: -2.2978037017083506 and parameters: {'x': 1.1948057229552242, 'y': 1.6557071509810846}. Best is trial 3 with value: -2.2978037017083506.\n",
      "Trial 3 finished with value: -2.2978037017083506 and parameters: {'x': 1.1948057229552242, 'y': 1.6557071509810846}. Best is trial 3 with value: -2.2978037017083506.\n",
      "Trial 3 finished with value: -2.2978037017083506 and parameters: {'x': 1.1948057229552242, 'y': 1.6557071509810846}. Best is trial 3 with value: -2.2978037017083506.\n"
     ]
    },
    {
     "name": "stderr",
     "output_type": "stream",
     "text": [
      "\u001b[32m[I 2022-11-15 13:20:16,313]\u001b[0m Trial 4 finished with value: 0.14999032731604192 and parameters: {'x': 0.33420707850360376, 'y': -0.17564411888431897}. Best is trial 3 with value: -2.2978037017083506.\u001b[0m\n"
     ]
    },
    {
     "name": "stdout",
     "output_type": "stream",
     "text": [
      "Trial 4 finished with value: 0.14999032731604192 and parameters: {'x': 0.33420707850360376, 'y': -0.17564411888431897}. Best is trial 3 with value: -2.2978037017083506.\n",
      "Trial 4 finished with value: 0.14999032731604192 and parameters: {'x': 0.33420707850360376, 'y': -0.17564411888431897}. Best is trial 3 with value: -2.2978037017083506.\n",
      "Trial 4 finished with value: 0.14999032731604192 and parameters: {'x': 0.33420707850360376, 'y': -0.17564411888431897}. Best is trial 3 with value: -2.2978037017083506.\n"
     ]
    },
    {
     "name": "stderr",
     "output_type": "stream",
     "text": [
      "\u001b[32m[I 2022-11-15 13:20:16,315]\u001b[0m Trial 5 finished with value: 1.0728700065432455 and parameters: {'x': 1.8745500176385756, 'y': -1.7112011605453534}. Best is trial 3 with value: -2.2978037017083506.\u001b[0m\n"
     ]
    },
    {
     "name": "stdout",
     "output_type": "stream",
     "text": [
      "Trial 5 finished with value: 1.0728700065432455 and parameters: {'x': 1.8745500176385756, 'y': -1.7112011605453534}. Best is trial 3 with value: -2.2978037017083506.\n",
      "Trial 5 finished with value: 1.0728700065432455 and parameters: {'x': 1.8745500176385756, 'y': -1.7112011605453534}. Best is trial 3 with value: -2.2978037017083506.\n",
      "Trial 5 finished with value: 1.0728700065432455 and parameters: {'x': 1.8745500176385756, 'y': -1.7112011605453534}. Best is trial 3 with value: -2.2978037017083506.\n"
     ]
    },
    {
     "name": "stderr",
     "output_type": "stream",
     "text": [
      "\u001b[32m[I 2022-11-15 13:20:16,318]\u001b[0m Trial 6 finished with value: 1.2718127872261202 and parameters: {'x': -1.9453755103308583, 'y': 0.2618565277340328}. Best is trial 3 with value: -2.2978037017083506.\u001b[0m\n"
     ]
    },
    {
     "name": "stdout",
     "output_type": "stream",
     "text": [
      "Trial 6 finished with value: 1.2718127872261202 and parameters: {'x': -1.9453755103308583, 'y': 0.2618565277340328}. Best is trial 3 with value: -2.2978037017083506.\n",
      "Trial 6 finished with value: 1.2718127872261202 and parameters: {'x': -1.9453755103308583, 'y': 0.2618565277340328}. Best is trial 3 with value: -2.2978037017083506.\n",
      "Trial 6 finished with value: 1.2718127872261202 and parameters: {'x': -1.9453755103308583, 'y': 0.2618565277340328}. Best is trial 3 with value: -2.2978037017083506.\n"
     ]
    },
    {
     "name": "stderr",
     "output_type": "stream",
     "text": [
      "\u001b[32m[I 2022-11-15 13:20:16,321]\u001b[0m Trial 7 finished with value: 0.22653217609642978 and parameters: {'x': 1.728332080653622, 'y': 1.971488503024673}. Best is trial 3 with value: -2.2978037017083506.\u001b[0m\n"
     ]
    },
    {
     "name": "stdout",
     "output_type": "stream",
     "text": [
      "Trial 7 finished with value: 0.22653217609642978 and parameters: {'x': 1.728332080653622, 'y': 1.971488503024673}. Best is trial 3 with value: -2.2978037017083506.\n",
      "Trial 7 finished with value: 0.22653217609642978 and parameters: {'x': 1.728332080653622, 'y': 1.971488503024673}. Best is trial 3 with value: -2.2978037017083506.\n",
      "Trial 7 finished with value: 0.22653217609642978 and parameters: {'x': 1.728332080653622, 'y': 1.971488503024673}. Best is trial 3 with value: -2.2978037017083506.\n"
     ]
    },
    {
     "name": "stderr",
     "output_type": "stream",
     "text": [
      "\u001b[32m[I 2022-11-15 13:20:16,324]\u001b[0m Trial 8 finished with value: -0.7095547365414437 and parameters: {'x': -1.0551016381590035, 'y': -0.5056654236789089}. Best is trial 3 with value: -2.2978037017083506.\u001b[0m\n"
     ]
    },
    {
     "name": "stdout",
     "output_type": "stream",
     "text": [
      "Trial 8 finished with value: -0.7095547365414437 and parameters: {'x': -1.0551016381590035, 'y': -0.5056654236789089}. Best is trial 3 with value: -2.2978037017083506.\n",
      "Trial 8 finished with value: -0.7095547365414437 and parameters: {'x': -1.0551016381590035, 'y': -0.5056654236789089}. Best is trial 3 with value: -2.2978037017083506.\n",
      "Trial 8 finished with value: -0.7095547365414437 and parameters: {'x': -1.0551016381590035, 'y': -0.5056654236789089}. Best is trial 3 with value: -2.2978037017083506.\n"
     ]
    },
    {
     "name": "stderr",
     "output_type": "stream",
     "text": [
      "\u001b[32m[I 2022-11-15 13:20:16,326]\u001b[0m Trial 9 finished with value: 1.4428342603580468 and parameters: {'x': -1.9202179453254713, 'y': 0.5270364038369486}. Best is trial 3 with value: -2.2978037017083506.\u001b[0m\n"
     ]
    },
    {
     "name": "stdout",
     "output_type": "stream",
     "text": [
      "Trial 9 finished with value: 1.4428342603580468 and parameters: {'x': -1.9202179453254713, 'y': 0.5270364038369486}. Best is trial 3 with value: -2.2978037017083506.\n",
      "Trial 9 finished with value: 1.4428342603580468 and parameters: {'x': -1.9202179453254713, 'y': 0.5270364038369486}. Best is trial 3 with value: -2.2978037017083506.\n",
      "Trial 9 finished with value: 1.4428342603580468 and parameters: {'x': -1.9202179453254713, 'y': 0.5270364038369486}. Best is trial 3 with value: -2.2978037017083506.\n"
     ]
    },
    {
     "name": "stderr",
     "output_type": "stream",
     "text": [
      "\u001b[32m[I 2022-11-15 13:20:16,332]\u001b[0m Trial 10 finished with value: -1.1861384373010657 and parameters: {'x': 1.0958628075849677, 'y': -1.0128558145837332}. Best is trial 3 with value: -2.2978037017083506.\u001b[0m\n"
     ]
    },
    {
     "name": "stdout",
     "output_type": "stream",
     "text": [
      "Trial 10 finished with value: -1.1861384373010657 and parameters: {'x': 1.0958628075849677, 'y': -1.0128558145837332}. Best is trial 3 with value: -2.2978037017083506.\n",
      "Trial 10 finished with value: -1.1861384373010657 and parameters: {'x': 1.0958628075849677, 'y': -1.0128558145837332}. Best is trial 3 with value: -2.2978037017083506.\n",
      "Trial 10 finished with value: -1.1861384373010657 and parameters: {'x': 1.0958628075849677, 'y': -1.0128558145837332}. Best is trial 3 with value: -2.2978037017083506.\n"
     ]
    },
    {
     "name": "stderr",
     "output_type": "stream",
     "text": [
      "\u001b[32m[I 2022-11-15 13:20:16,338]\u001b[0m Trial 11 finished with value: 1.9325516608343383 and parameters: {'x': -0.8800445568230861, 'y': 1.9546662651640898}. Best is trial 3 with value: -2.2978037017083506.\u001b[0m\n"
     ]
    },
    {
     "name": "stdout",
     "output_type": "stream",
     "text": [
      "Trial 11 finished with value: 1.9325516608343383 and parameters: {'x': -0.8800445568230861, 'y': 1.9546662651640898}. Best is trial 3 with value: -2.2978037017083506.\n",
      "Trial 11 finished with value: 1.9325516608343383 and parameters: {'x': -0.8800445568230861, 'y': 1.9546662651640898}. Best is trial 3 with value: -2.2978037017083506.\n",
      "Trial 11 finished with value: 1.9325516608343383 and parameters: {'x': -0.8800445568230861, 'y': 1.9546662651640898}. Best is trial 3 with value: -2.2978037017083506.\n"
     ]
    },
    {
     "name": "stderr",
     "output_type": "stream",
     "text": [
      "\u001b[32m[I 2022-11-15 13:20:16,343]\u001b[0m Trial 12 finished with value: 0.31640760749075336 and parameters: {'x': -0.6844576780013023, 'y': 1.3040020747467405}. Best is trial 3 with value: -2.2978037017083506.\u001b[0m\n"
     ]
    },
    {
     "name": "stdout",
     "output_type": "stream",
     "text": [
      "Trial 12 finished with value: 0.31640760749075336 and parameters: {'x': -0.6844576780013023, 'y': 1.3040020747467405}. Best is trial 3 with value: -2.2978037017083506.\n",
      "Trial 12 finished with value: 0.31640760749075336 and parameters: {'x': -0.6844576780013023, 'y': 1.3040020747467405}. Best is trial 3 with value: -2.2978037017083506.\n",
      "Trial 12 finished with value: 0.31640760749075336 and parameters: {'x': -0.6844576780013023, 'y': 1.3040020747467405}. Best is trial 3 with value: -2.2978037017083506.\n"
     ]
    },
    {
     "name": "stderr",
     "output_type": "stream",
     "text": [
      "\u001b[32m[I 2022-11-15 13:20:16,348]\u001b[0m Trial 13 finished with value: -1.784908102956134 and parameters: {'x': 1.1271675661582305, 'y': 1.5352567265861004}. Best is trial 3 with value: -2.2978037017083506.\u001b[0m\n"
     ]
    },
    {
     "name": "stdout",
     "output_type": "stream",
     "text": [
      "Trial 13 finished with value: -1.784908102956134 and parameters: {'x': 1.1271675661582305, 'y': 1.5352567265861004}. Best is trial 3 with value: -2.2978037017083506.\n",
      "Trial 13 finished with value: -1.784908102956134 and parameters: {'x': 1.1271675661582305, 'y': 1.5352567265861004}. Best is trial 3 with value: -2.2978037017083506.\n",
      "Trial 13 finished with value: -1.784908102956134 and parameters: {'x': 1.1271675661582305, 'y': 1.5352567265861004}. Best is trial 3 with value: -2.2978037017083506.\n"
     ]
    },
    {
     "name": "stderr",
     "output_type": "stream",
     "text": [
      "\u001b[32m[I 2022-11-15 13:20:16,353]\u001b[0m Trial 14 finished with value: 0.03937266379634885 and parameters: {'x': 1.2069900369720865, 'y': 0.823990625000445}. Best is trial 3 with value: -2.2978037017083506.\u001b[0m\n"
     ]
    },
    {
     "name": "stdout",
     "output_type": "stream",
     "text": [
      "Trial 14 finished with value: 0.03937266379634885 and parameters: {'x': 1.2069900369720865, 'y': 0.823990625000445}. Best is trial 3 with value: -2.2978037017083506.\n",
      "Trial 14 finished with value: 0.03937266379634885 and parameters: {'x': 1.2069900369720865, 'y': 0.823990625000445}. Best is trial 3 with value: -2.2978037017083506.\n",
      "Trial 14 finished with value: 0.03937266379634885 and parameters: {'x': 1.2069900369720865, 'y': 0.823990625000445}. Best is trial 3 with value: -2.2978037017083506.\n"
     ]
    },
    {
     "name": "stderr",
     "output_type": "stream",
     "text": [
      "\u001b[32m[I 2022-11-15 13:20:16,356]\u001b[0m Trial 15 finished with value: -0.8252951876589126 and parameters: {'x': 1.0603138355845847, 'y': 1.5051012789201517}. Best is trial 3 with value: -2.2978037017083506.\u001b[0m\n"
     ]
    },
    {
     "name": "stdout",
     "output_type": "stream",
     "text": [
      "Trial 15 finished with value: -0.8252951876589126 and parameters: {'x': 1.0603138355845847, 'y': 1.5051012789201517}. Best is trial 3 with value: -2.2978037017083506.\n",
      "Trial 15 finished with value: -0.8252951876589126 and parameters: {'x': 1.0603138355845847, 'y': 1.5051012789201517}. Best is trial 3 with value: -2.2978037017083506.\n",
      "Trial 15 finished with value: -0.8252951876589126 and parameters: {'x': 1.0603138355845847, 'y': 1.5051012789201517}. Best is trial 3 with value: -2.2978037017083506.\n"
     ]
    },
    {
     "name": "stderr",
     "output_type": "stream",
     "text": [
      "\u001b[32m[I 2022-11-15 13:20:16,360]\u001b[0m Trial 16 finished with value: 0.29755416765940595 and parameters: {'x': -0.22742065921444765, 'y': 0.4164509560210021}. Best is trial 3 with value: -2.2978037017083506.\u001b[0m\n"
     ]
    },
    {
     "name": "stdout",
     "output_type": "stream",
     "text": [
      "Trial 16 finished with value: 0.29755416765940595 and parameters: {'x': -0.22742065921444765, 'y': 0.4164509560210021}. Best is trial 3 with value: -2.2978037017083506.\n",
      "Trial 16 finished with value: 0.29755416765940595 and parameters: {'x': -0.22742065921444765, 'y': 0.4164509560210021}. Best is trial 3 with value: -2.2978037017083506.\n",
      "Trial 16 finished with value: 0.29755416765940595 and parameters: {'x': -0.22742065921444765, 'y': 0.4164509560210021}. Best is trial 3 with value: -2.2978037017083506.\n"
     ]
    },
    {
     "name": "stderr",
     "output_type": "stream",
     "text": [
      "\u001b[32m[I 2022-11-15 13:20:16,363]\u001b[0m Trial 17 finished with value: -2.1130792530156866 and parameters: {'x': 1.5548660355355581, 'y': 1.1370929896162996}. Best is trial 3 with value: -2.2978037017083506.\u001b[0m\n"
     ]
    },
    {
     "name": "stdout",
     "output_type": "stream",
     "text": [
      "Trial 17 finished with value: -2.1130792530156866 and parameters: {'x': 1.5548660355355581, 'y': 1.1370929896162996}. Best is trial 3 with value: -2.2978037017083506.\n",
      "Trial 17 finished with value: -2.1130792530156866 and parameters: {'x': 1.5548660355355581, 'y': 1.1370929896162996}. Best is trial 3 with value: -2.2978037017083506.\n",
      "Trial 17 finished with value: -2.1130792530156866 and parameters: {'x': 1.5548660355355581, 'y': 1.1370929896162996}. Best is trial 3 with value: -2.2978037017083506.\n"
     ]
    },
    {
     "name": "stderr",
     "output_type": "stream",
     "text": [
      "\u001b[32m[I 2022-11-15 13:20:16,367]\u001b[0m Trial 18 finished with value: -1.5942067912788271 and parameters: {'x': 1.6027310665788395, 'y': 1.0042668962902064}. Best is trial 3 with value: -2.2978037017083506.\u001b[0m\n"
     ]
    },
    {
     "name": "stdout",
     "output_type": "stream",
     "text": [
      "Trial 18 finished with value: -1.5942067912788271 and parameters: {'x': 1.6027310665788395, 'y': 1.0042668962902064}. Best is trial 3 with value: -2.2978037017083506.\n",
      "Trial 18 finished with value: -1.5942067912788271 and parameters: {'x': 1.6027310665788395, 'y': 1.0042668962902064}. Best is trial 3 with value: -2.2978037017083506.\n",
      "Trial 18 finished with value: -1.5942067912788271 and parameters: {'x': 1.6027310665788395, 'y': 1.0042668962902064}. Best is trial 3 with value: -2.2978037017083506.\n"
     ]
    },
    {
     "name": "stderr",
     "output_type": "stream",
     "text": [
      "\u001b[32m[I 2022-11-15 13:20:16,371]\u001b[0m Trial 19 finished with value: -0.17942985653152219 and parameters: {'x': 0.7459264792265288, 'y': -0.14666491088031144}. Best is trial 3 with value: -2.2978037017083506.\u001b[0m\n"
     ]
    },
    {
     "name": "stdout",
     "output_type": "stream",
     "text": [
      "Trial 19 finished with value: -0.17942985653152219 and parameters: {'x': 0.7459264792265288, 'y': -0.14666491088031144}. Best is trial 3 with value: -2.2978037017083506.\n",
      "Trial 19 finished with value: -0.17942985653152219 and parameters: {'x': 0.7459264792265288, 'y': -0.14666491088031144}. Best is trial 3 with value: -2.2978037017083506.\n",
      "Trial 19 finished with value: -0.17942985653152219 and parameters: {'x': 0.7459264792265288, 'y': -0.14666491088031144}. Best is trial 3 with value: -2.2978037017083506.\n"
     ]
    },
    {
     "name": "stderr",
     "output_type": "stream",
     "text": [
      "\u001b[32m[I 2022-11-15 13:20:16,375]\u001b[0m Trial 20 finished with value: -0.11749489323660495 and parameters: {'x': 1.982368266022804, 'y': -0.6732758993843366}. Best is trial 3 with value: -2.2978037017083506.\u001b[0m\n"
     ]
    },
    {
     "name": "stdout",
     "output_type": "stream",
     "text": [
      "Trial 20 finished with value: -0.11749489323660495 and parameters: {'x': 1.982368266022804, 'y': -0.6732758993843366}. Best is trial 3 with value: -2.2978037017083506.\n",
      "Trial 20 finished with value: -0.11749489323660495 and parameters: {'x': 1.982368266022804, 'y': -0.6732758993843366}. Best is trial 3 with value: -2.2978037017083506.\n",
      "Trial 20 finished with value: -0.11749489323660495 and parameters: {'x': 1.982368266022804, 'y': -0.6732758993843366}. Best is trial 3 with value: -2.2978037017083506.\n"
     ]
    },
    {
     "name": "stderr",
     "output_type": "stream",
     "text": [
      "\u001b[32m[I 2022-11-15 13:20:16,379]\u001b[0m Trial 21 finished with value: 1.2273497810490552 and parameters: {'x': 1.4064426013518059, 'y': 1.5037442377797685}. Best is trial 3 with value: -2.2978037017083506.\u001b[0m\n"
     ]
    },
    {
     "name": "stdout",
     "output_type": "stream",
     "text": [
      "Trial 21 finished with value: 1.2273497810490552 and parameters: {'x': 1.4064426013518059, 'y': 1.5037442377797685}. Best is trial 3 with value: -2.2978037017083506.\n",
      "Trial 21 finished with value: 1.2273497810490552 and parameters: {'x': 1.4064426013518059, 'y': 1.5037442377797685}. Best is trial 3 with value: -2.2978037017083506.\n",
      "Trial 21 finished with value: 1.2273497810490552 and parameters: {'x': 1.4064426013518059, 'y': 1.5037442377797685}. Best is trial 3 with value: -2.2978037017083506.\n"
     ]
    },
    {
     "name": "stderr",
     "output_type": "stream",
     "text": [
      "\u001b[32m[I 2022-11-15 13:20:16,382]\u001b[0m Trial 22 finished with value: -1.0404451974952855 and parameters: {'x': 0.7446891813705582, 'y': 1.700504881551034}. Best is trial 3 with value: -2.2978037017083506.\u001b[0m\n"
     ]
    },
    {
     "name": "stdout",
     "output_type": "stream",
     "text": [
      "Trial 22 finished with value: -1.0404451974952855 and parameters: {'x': 0.7446891813705582, 'y': 1.700504881551034}. Best is trial 3 with value: -2.2978037017083506.\n",
      "Trial 22 finished with value: -1.0404451974952855 and parameters: {'x': 0.7446891813705582, 'y': 1.700504881551034}. Best is trial 3 with value: -2.2978037017083506.\n",
      "Trial 22 finished with value: -1.0404451974952855 and parameters: {'x': 0.7446891813705582, 'y': 1.700504881551034}. Best is trial 3 with value: -2.2978037017083506.\n"
     ]
    },
    {
     "name": "stderr",
     "output_type": "stream",
     "text": [
      "\u001b[32m[I 2022-11-15 13:20:16,386]\u001b[0m Trial 23 finished with value: 0.11225064738826163 and parameters: {'x': 1.4817585127092872, 'y': 0.7249512063295875}. Best is trial 3 with value: -2.2978037017083506.\u001b[0m\n"
     ]
    },
    {
     "name": "stdout",
     "output_type": "stream",
     "text": [
      "Trial 23 finished with value: 0.11225064738826163 and parameters: {'x': 1.4817585127092872, 'y': 0.7249512063295875}. Best is trial 3 with value: -2.2978037017083506.\n",
      "Trial 23 finished with value: 0.11225064738826163 and parameters: {'x': 1.4817585127092872, 'y': 0.7249512063295875}. Best is trial 3 with value: -2.2978037017083506.\n",
      "Trial 23 finished with value: 0.11225064738826163 and parameters: {'x': 1.4817585127092872, 'y': 0.7249512063295875}. Best is trial 3 with value: -2.2978037017083506.\n"
     ]
    },
    {
     "name": "stderr",
     "output_type": "stream",
     "text": [
      "\u001b[32m[I 2022-11-15 13:20:16,389]\u001b[0m Trial 24 finished with value: 0.2783070481823313 and parameters: {'x': 0.8402991918321262, 'y': 1.2175124127499977}. Best is trial 3 with value: -2.2978037017083506.\u001b[0m\n"
     ]
    },
    {
     "name": "stdout",
     "output_type": "stream",
     "text": [
      "Trial 24 finished with value: 0.2783070481823313 and parameters: {'x': 0.8402991918321262, 'y': 1.2175124127499977}. Best is trial 3 with value: -2.2978037017083506.\n",
      "Trial 24 finished with value: 0.2783070481823313 and parameters: {'x': 0.8402991918321262, 'y': 1.2175124127499977}. Best is trial 3 with value: -2.2978037017083506.\n",
      "Trial 24 finished with value: 0.2783070481823313 and parameters: {'x': 0.8402991918321262, 'y': 1.2175124127499977}. Best is trial 3 with value: -2.2978037017083506.\n"
     ]
    },
    {
     "name": "stderr",
     "output_type": "stream",
     "text": [
      "\u001b[32m[I 2022-11-15 13:20:16,393]\u001b[0m Trial 25 finished with value: 0.6452202739135899 and parameters: {'x': -0.08287003986938521, 'y': 1.4591385702019362}. Best is trial 3 with value: -2.2978037017083506.\u001b[0m\n"
     ]
    },
    {
     "name": "stdout",
     "output_type": "stream",
     "text": [
      "Trial 25 finished with value: 0.6452202739135899 and parameters: {'x': -0.08287003986938521, 'y': 1.4591385702019362}. Best is trial 3 with value: -2.2978037017083506.\n",
      "Trial 25 finished with value: 0.6452202739135899 and parameters: {'x': -0.08287003986938521, 'y': 1.4591385702019362}. Best is trial 3 with value: -2.2978037017083506.\n",
      "Trial 25 finished with value: 0.6452202739135899 and parameters: {'x': -0.08287003986938521, 'y': 1.4591385702019362}. Best is trial 3 with value: -2.2978037017083506.\n"
     ]
    },
    {
     "name": "stderr",
     "output_type": "stream",
     "text": [
      "\u001b[32m[I 2022-11-15 13:20:16,396]\u001b[0m Trial 26 finished with value: 2.5457420261138872 and parameters: {'x': 1.33704536419633, 'y': 1.8171592577871545}. Best is trial 3 with value: -2.2978037017083506.\u001b[0m\n"
     ]
    },
    {
     "name": "stdout",
     "output_type": "stream",
     "text": [
      "Trial 26 finished with value: 2.5457420261138872 and parameters: {'x': 1.33704536419633, 'y': 1.8171592577871545}. Best is trial 3 with value: -2.2978037017083506.\n",
      "Trial 26 finished with value: 2.5457420261138872 and parameters: {'x': 1.33704536419633, 'y': 1.8171592577871545}. Best is trial 3 with value: -2.2978037017083506.\n",
      "Trial 26 finished with value: 2.5457420261138872 and parameters: {'x': 1.33704536419633, 'y': 1.8171592577871545}. Best is trial 3 with value: -2.2978037017083506.\n"
     ]
    },
    {
     "name": "stderr",
     "output_type": "stream",
     "text": [
      "\u001b[32m[I 2022-11-15 13:20:16,400]\u001b[0m Trial 27 finished with value: -0.25301672710112644 and parameters: {'x': 0.8946154217140334, 'y': 1.1216092555393382}. Best is trial 3 with value: -2.2978037017083506.\u001b[0m\n"
     ]
    },
    {
     "name": "stdout",
     "output_type": "stream",
     "text": [
      "Trial 27 finished with value: -0.25301672710112644 and parameters: {'x': 0.8946154217140334, 'y': 1.1216092555393382}. Best is trial 3 with value: -2.2978037017083506.\n",
      "Trial 27 finished with value: -0.25301672710112644 and parameters: {'x': 0.8946154217140334, 'y': 1.1216092555393382}. Best is trial 3 with value: -2.2978037017083506.\n",
      "Trial 27 finished with value: -0.25301672710112644 and parameters: {'x': 0.8946154217140334, 'y': 1.1216092555393382}. Best is trial 3 with value: -2.2978037017083506.\n"
     ]
    },
    {
     "name": "stderr",
     "output_type": "stream",
     "text": [
      "\u001b[32m[I 2022-11-15 13:20:16,404]\u001b[0m Trial 28 finished with value: -0.27091855915861296 and parameters: {'x': 0.18178124942615503, 'y': 0.18654334825245966}. Best is trial 3 with value: -2.2978037017083506.\u001b[0m\n"
     ]
    },
    {
     "name": "stdout",
     "output_type": "stream",
     "text": [
      "Trial 28 finished with value: -0.27091855915861296 and parameters: {'x': 0.18178124942615503, 'y': 0.18654334825245966}. Best is trial 3 with value: -2.2978037017083506.\n",
      "Trial 28 finished with value: -0.27091855915861296 and parameters: {'x': 0.18178124942615503, 'y': 0.18654334825245966}. Best is trial 3 with value: -2.2978037017083506.\n",
      "Trial 28 finished with value: -0.27091855915861296 and parameters: {'x': 0.18178124942615503, 'y': 0.18654334825245966}. Best is trial 3 with value: -2.2978037017083506.\n"
     ]
    },
    {
     "name": "stderr",
     "output_type": "stream",
     "text": [
      "\u001b[32m[I 2022-11-15 13:20:16,408]\u001b[0m Trial 29 finished with value: -1.2217256394548068 and parameters: {'x': 0.6149942949035353, 'y': 0.6157454801726199}. Best is trial 3 with value: -2.2978037017083506.\u001b[0m\n"
     ]
    },
    {
     "name": "stdout",
     "output_type": "stream",
     "text": [
      "Trial 29 finished with value: -1.2217256394548068 and parameters: {'x': 0.6149942949035353, 'y': 0.6157454801726199}. Best is trial 3 with value: -2.2978037017083506.\n",
      "Trial 29 finished with value: -1.2217256394548068 and parameters: {'x': 0.6149942949035353, 'y': 0.6157454801726199}. Best is trial 3 with value: -2.2978037017083506.\n",
      "Trial 29 finished with value: -1.2217256394548068 and parameters: {'x': 0.6149942949035353, 'y': 0.6157454801726199}. Best is trial 3 with value: -2.2978037017083506.\n"
     ]
    },
    {
     "name": "stderr",
     "output_type": "stream",
     "text": [
      "\u001b[32m[I 2022-11-15 13:20:16,411]\u001b[0m Trial 30 finished with value: 0.4974725976621277 and parameters: {'x': -0.42883349782353725, 'y': 1.2603258507054906}. Best is trial 3 with value: -2.2978037017083506.\u001b[0m\n"
     ]
    },
    {
     "name": "stdout",
     "output_type": "stream",
     "text": [
      "Trial 30 finished with value: 0.4974725976621277 and parameters: {'x': -0.42883349782353725, 'y': 1.2603258507054906}. Best is trial 3 with value: -2.2978037017083506.\n",
      "Trial 30 finished with value: 0.4974725976621277 and parameters: {'x': -0.42883349782353725, 'y': 1.2603258507054906}. Best is trial 3 with value: -2.2978037017083506.\n",
      "Trial 30 finished with value: 0.4974725976621277 and parameters: {'x': -0.42883349782353725, 'y': 1.2603258507054906}. Best is trial 3 with value: -2.2978037017083506.\n"
     ]
    },
    {
     "name": "stderr",
     "output_type": "stream",
     "text": [
      "\u001b[32m[I 2022-11-15 13:20:16,415]\u001b[0m Trial 31 finished with value: -1.6243388537886865 and parameters: {'x': 1.6386710029493599, 'y': 1.000778460434864}. Best is trial 3 with value: -2.2978037017083506.\u001b[0m\n"
     ]
    },
    {
     "name": "stdout",
     "output_type": "stream",
     "text": [
      "Trial 31 finished with value: -1.6243388537886865 and parameters: {'x': 1.6386710029493599, 'y': 1.000778460434864}. Best is trial 3 with value: -2.2978037017083506.\n",
      "Trial 31 finished with value: -1.6243388537886865 and parameters: {'x': 1.6386710029493599, 'y': 1.000778460434864}. Best is trial 3 with value: -2.2978037017083506.\n",
      "Trial 31 finished with value: -1.6243388537886865 and parameters: {'x': 1.6386710029493599, 'y': 1.000778460434864}. Best is trial 3 with value: -2.2978037017083506.\n"
     ]
    },
    {
     "name": "stderr",
     "output_type": "stream",
     "text": [
      "\u001b[32m[I 2022-11-15 13:20:16,419]\u001b[0m Trial 32 finished with value: 0.15011792270471316 and parameters: {'x': 1.7483140953615084, 'y': 0.9847840594579691}. Best is trial 3 with value: -2.2978037017083506.\u001b[0m\n"
     ]
    },
    {
     "name": "stdout",
     "output_type": "stream",
     "text": [
      "Trial 32 finished with value: 0.15011792270471316 and parameters: {'x': 1.7483140953615084, 'y': 0.9847840594579691}. Best is trial 3 with value: -2.2978037017083506.\n",
      "Trial 32 finished with value: 0.15011792270471316 and parameters: {'x': 1.7483140953615084, 'y': 0.9847840594579691}. Best is trial 3 with value: -2.2978037017083506.\n",
      "Trial 32 finished with value: 0.15011792270471316 and parameters: {'x': 1.7483140953615084, 'y': 0.9847840594579691}. Best is trial 3 with value: -2.2978037017083506.\n"
     ]
    },
    {
     "name": "stderr",
     "output_type": "stream",
     "text": [
      "\u001b[32m[I 2022-11-15 13:20:16,423]\u001b[0m Trial 33 finished with value: 0.242806316103941 and parameters: {'x': 1.5276886140400547, 'y': 1.4560635552262724}. Best is trial 3 with value: -2.2978037017083506.\u001b[0m\n"
     ]
    },
    {
     "name": "stdout",
     "output_type": "stream",
     "text": [
      "Trial 33 finished with value: 0.242806316103941 and parameters: {'x': 1.5276886140400547, 'y': 1.4560635552262724}. Best is trial 3 with value: -2.2978037017083506.\n",
      "Trial 33 finished with value: 0.242806316103941 and parameters: {'x': 1.5276886140400547, 'y': 1.4560635552262724}. Best is trial 3 with value: -2.2978037017083506.\n",
      "Trial 33 finished with value: 0.242806316103941 and parameters: {'x': 1.5276886140400547, 'y': 1.4560635552262724}. Best is trial 3 with value: -2.2978037017083506.\n"
     ]
    },
    {
     "name": "stderr",
     "output_type": "stream",
     "text": [
      "\u001b[32m[I 2022-11-15 13:20:16,426]\u001b[0m Trial 34 finished with value: -1.5764736763916336 and parameters: {'x': 1.2242936582951502, 'y': 1.6878780860550373}. Best is trial 3 with value: -2.2978037017083506.\u001b[0m\n"
     ]
    },
    {
     "name": "stdout",
     "output_type": "stream",
     "text": [
      "Trial 34 finished with value: -1.5764736763916336 and parameters: {'x': 1.2242936582951502, 'y': 1.6878780860550373}. Best is trial 3 with value: -2.2978037017083506.\n",
      "Trial 34 finished with value: -1.5764736763916336 and parameters: {'x': 1.2242936582951502, 'y': 1.6878780860550373}. Best is trial 3 with value: -2.2978037017083506.\n",
      "Trial 34 finished with value: -1.5764736763916336 and parameters: {'x': 1.2242936582951502, 'y': 1.6878780860550373}. Best is trial 3 with value: -2.2978037017083506.\n"
     ]
    },
    {
     "name": "stderr",
     "output_type": "stream",
     "text": [
      "\u001b[32m[I 2022-11-15 13:20:16,430]\u001b[0m Trial 35 finished with value: 0.5948979538626535 and parameters: {'x': 0.5434902017019514, 'y': 0.8863388985688407}. Best is trial 3 with value: -2.2978037017083506.\u001b[0m\n"
     ]
    },
    {
     "name": "stdout",
     "output_type": "stream",
     "text": [
      "Trial 35 finished with value: 0.5948979538626535 and parameters: {'x': 0.5434902017019514, 'y': 0.8863388985688407}. Best is trial 3 with value: -2.2978037017083506.\n",
      "Trial 35 finished with value: 0.5948979538626535 and parameters: {'x': 0.5434902017019514, 'y': 0.8863388985688407}. Best is trial 3 with value: -2.2978037017083506.\n",
      "Trial 35 finished with value: 0.5948979538626535 and parameters: {'x': 0.5434902017019514, 'y': 0.8863388985688407}. Best is trial 3 with value: -2.2978037017083506.\n"
     ]
    },
    {
     "name": "stderr",
     "output_type": "stream",
     "text": [
      "\u001b[32m[I 2022-11-15 13:20:16,434]\u001b[0m Trial 36 finished with value: 2.9557239355215543 and parameters: {'x': 1.9533506053041538, 'y': -1.8751112052509877}. Best is trial 3 with value: -2.2978037017083506.\u001b[0m\n"
     ]
    },
    {
     "name": "stdout",
     "output_type": "stream",
     "text": [
      "Trial 36 finished with value: 2.9557239355215543 and parameters: {'x': 1.9533506053041538, 'y': -1.8751112052509877}. Best is trial 3 with value: -2.2978037017083506.\n",
      "Trial 36 finished with value: 2.9557239355215543 and parameters: {'x': 1.9533506053041538, 'y': -1.8751112052509877}. Best is trial 3 with value: -2.2978037017083506.\n",
      "Trial 36 finished with value: 2.9557239355215543 and parameters: {'x': 1.9533506053041538, 'y': -1.8751112052509877}. Best is trial 3 with value: -2.2978037017083506.\n"
     ]
    },
    {
     "name": "stderr",
     "output_type": "stream",
     "text": [
      "\u001b[32m[I 2022-11-15 13:20:16,438]\u001b[0m Trial 37 finished with value: 1.4276716652463852 and parameters: {'x': 0.2973697901952659, 'y': 1.3464800992015}. Best is trial 3 with value: -2.2978037017083506.\u001b[0m\n"
     ]
    },
    {
     "name": "stdout",
     "output_type": "stream",
     "text": [
      "Trial 37 finished with value: 1.4276716652463852 and parameters: {'x': 0.2973697901952659, 'y': 1.3464800992015}. Best is trial 3 with value: -2.2978037017083506.\n",
      "Trial 37 finished with value: 1.4276716652463852 and parameters: {'x': 0.2973697901952659, 'y': 1.3464800992015}. Best is trial 3 with value: -2.2978037017083506.\n",
      "Trial 37 finished with value: 1.4276716652463852 and parameters: {'x': 0.2973697901952659, 'y': 1.3464800992015}. Best is trial 3 with value: -2.2978037017083506.\n"
     ]
    },
    {
     "name": "stderr",
     "output_type": "stream",
     "text": [
      "\u001b[32m[I 2022-11-15 13:20:16,442]\u001b[0m Trial 38 finished with value: -0.7063588429886195 and parameters: {'x': 1.698189042958859, 'y': 1.7646400065661834}. Best is trial 3 with value: -2.2978037017083506.\u001b[0m\n"
     ]
    },
    {
     "name": "stdout",
     "output_type": "stream",
     "text": [
      "Trial 38 finished with value: -0.7063588429886195 and parameters: {'x': 1.698189042958859, 'y': 1.7646400065661834}. Best is trial 3 with value: -2.2978037017083506.\n",
      "Trial 38 finished with value: -0.7063588429886195 and parameters: {'x': 1.698189042958859, 'y': 1.7646400065661834}. Best is trial 3 with value: -2.2978037017083506.\n",
      "Trial 38 finished with value: -0.7063588429886195 and parameters: {'x': 1.698189042958859, 'y': 1.7646400065661834}. Best is trial 3 with value: -2.2978037017083506.\n"
     ]
    },
    {
     "name": "stderr",
     "output_type": "stream",
     "text": [
      "\u001b[32m[I 2022-11-15 13:20:16,446]\u001b[0m Trial 39 finished with value: -1.2331973277815689 and parameters: {'x': 1.0114614531938892, 'y': 1.109364775961057}. Best is trial 3 with value: -2.2978037017083506.\u001b[0m\n"
     ]
    },
    {
     "name": "stdout",
     "output_type": "stream",
     "text": [
      "Trial 39 finished with value: -1.2331973277815689 and parameters: {'x': 1.0114614531938892, 'y': 1.109364775961057}. Best is trial 3 with value: -2.2978037017083506.\n",
      "Trial 39 finished with value: -1.2331973277815689 and parameters: {'x': 1.0114614531938892, 'y': 1.109364775961057}. Best is trial 3 with value: -2.2978037017083506.\n",
      "Trial 39 finished with value: -1.2331973277815689 and parameters: {'x': 1.0114614531938892, 'y': 1.109364775961057}. Best is trial 3 with value: -2.2978037017083506.\n"
     ]
    },
    {
     "name": "stderr",
     "output_type": "stream",
     "text": [
      "\u001b[32m[I 2022-11-15 13:20:16,450]\u001b[0m Trial 40 finished with value: 0.5565681475757046 and parameters: {'x': 1.2922013325806723, 'y': 0.10144766050990561}. Best is trial 3 with value: -2.2978037017083506.\u001b[0m\n"
     ]
    },
    {
     "name": "stdout",
     "output_type": "stream",
     "text": [
      "Trial 40 finished with value: 0.5565681475757046 and parameters: {'x': 1.2922013325806723, 'y': 0.10144766050990561}. Best is trial 3 with value: -2.2978037017083506.\n",
      "Trial 40 finished with value: 0.5565681475757046 and parameters: {'x': 1.2922013325806723, 'y': 0.10144766050990561}. Best is trial 3 with value: -2.2978037017083506.\n",
      "Trial 40 finished with value: 0.5565681475757046 and parameters: {'x': 1.2922013325806723, 'y': 0.10144766050990561}. Best is trial 3 with value: -2.2978037017083506.\n"
     ]
    },
    {
     "name": "stderr",
     "output_type": "stream",
     "text": [
      "\u001b[32m[I 2022-11-15 13:20:16,453]\u001b[0m Trial 41 finished with value: -2.244633269140291 and parameters: {'x': 1.6160677872242728, 'y': 1.0519273076326976}. Best is trial 3 with value: -2.2978037017083506.\u001b[0m\n"
     ]
    },
    {
     "name": "stdout",
     "output_type": "stream",
     "text": [
      "Trial 41 finished with value: -2.244633269140291 and parameters: {'x': 1.6160677872242728, 'y': 1.0519273076326976}. Best is trial 3 with value: -2.2978037017083506.\n",
      "Trial 41 finished with value: -2.244633269140291 and parameters: {'x': 1.6160677872242728, 'y': 1.0519273076326976}. Best is trial 3 with value: -2.2978037017083506.\n",
      "Trial 41 finished with value: -2.244633269140291 and parameters: {'x': 1.6160677872242728, 'y': 1.0519273076326976}. Best is trial 3 with value: -2.2978037017083506.\n"
     ]
    },
    {
     "name": "stderr",
     "output_type": "stream",
     "text": [
      "\u001b[32m[I 2022-11-15 13:20:16,457]\u001b[0m Trial 42 finished with value: 0.18179140996237653 and parameters: {'x': 1.7344213640661463, 'y': 1.9788751613667606}. Best is trial 3 with value: -2.2978037017083506.\u001b[0m\n"
     ]
    },
    {
     "name": "stdout",
     "output_type": "stream",
     "text": [
      "Trial 42 finished with value: 0.18179140996237653 and parameters: {'x': 1.7344213640661463, 'y': 1.9788751613667606}. Best is trial 3 with value: -2.2978037017083506.\n",
      "Trial 42 finished with value: 0.18179140996237653 and parameters: {'x': 1.7344213640661463, 'y': 1.9788751613667606}. Best is trial 3 with value: -2.2978037017083506.\n",
      "Trial 42 finished with value: 0.18179140996237653 and parameters: {'x': 1.7344213640661463, 'y': 1.9788751613667606}. Best is trial 3 with value: -2.2978037017083506.\n"
     ]
    },
    {
     "name": "stderr",
     "output_type": "stream",
     "text": [
      "\u001b[32m[I 2022-11-15 13:20:16,460]\u001b[0m Trial 43 finished with value: -0.17970494244293073 and parameters: {'x': 1.4816615832323612, 'y': 0.6812272340700428}. Best is trial 3 with value: -2.2978037017083506.\u001b[0m\n"
     ]
    },
    {
     "name": "stdout",
     "output_type": "stream",
     "text": [
      "Trial 43 finished with value: -0.17970494244293073 and parameters: {'x': 1.4816615832323612, 'y': 0.6812272340700428}. Best is trial 3 with value: -2.2978037017083506.\n",
      "Trial 43 finished with value: -0.17970494244293073 and parameters: {'x': 1.4816615832323612, 'y': 0.6812272340700428}. Best is trial 3 with value: -2.2978037017083506.\n",
      "Trial 43 finished with value: -0.17970494244293073 and parameters: {'x': 1.4816615832323612, 'y': 0.6812272340700428}. Best is trial 3 with value: -2.2978037017083506.\n"
     ]
    },
    {
     "name": "stderr",
     "output_type": "stream",
     "text": [
      "\u001b[32m[I 2022-11-15 13:20:16,464]\u001b[0m Trial 44 finished with value: 0.6871972074839967 and parameters: {'x': -1.4834188038007987, 'y': 0.4001431073788905}. Best is trial 3 with value: -2.2978037017083506.\u001b[0m\n"
     ]
    },
    {
     "name": "stdout",
     "output_type": "stream",
     "text": [
      "Trial 44 finished with value: 0.6871972074839967 and parameters: {'x': -1.4834188038007987, 'y': 0.4001431073788905}. Best is trial 3 with value: -2.2978037017083506.\n",
      "Trial 44 finished with value: 0.6871972074839967 and parameters: {'x': -1.4834188038007987, 'y': 0.4001431073788905}. Best is trial 3 with value: -2.2978037017083506.\n",
      "Trial 44 finished with value: 0.6871972074839967 and parameters: {'x': -1.4834188038007987, 'y': 0.4001431073788905}. Best is trial 3 with value: -2.2978037017083506.\n"
     ]
    },
    {
     "name": "stderr",
     "output_type": "stream",
     "text": [
      "\u001b[32m[I 2022-11-15 13:20:16,468]\u001b[0m Trial 45 finished with value: 1.3167341620107458 and parameters: {'x': 1.8580311153117015, 'y': 1.5265119059149936}. Best is trial 3 with value: -2.2978037017083506.\u001b[0m\n"
     ]
    },
    {
     "name": "stdout",
     "output_type": "stream",
     "text": [
      "Trial 45 finished with value: 1.3167341620107458 and parameters: {'x': 1.8580311153117015, 'y': 1.5265119059149936}. Best is trial 3 with value: -2.2978037017083506.\n",
      "Trial 45 finished with value: 1.3167341620107458 and parameters: {'x': 1.8580311153117015, 'y': 1.5265119059149936}. Best is trial 3 with value: -2.2978037017083506.\n",
      "Trial 45 finished with value: 1.3167341620107458 and parameters: {'x': 1.8580311153117015, 'y': 1.5265119059149936}. Best is trial 3 with value: -2.2978037017083506.\n"
     ]
    },
    {
     "name": "stderr",
     "output_type": "stream",
     "text": [
      "\u001b[32m[I 2022-11-15 13:20:16,472]\u001b[0m Trial 46 finished with value: -0.028768733427878 and parameters: {'x': 1.066842762288169, 'y': 0.8410432314467107}. Best is trial 3 with value: -2.2978037017083506.\u001b[0m\n"
     ]
    },
    {
     "name": "stdout",
     "output_type": "stream",
     "text": [
      "Trial 46 finished with value: -0.028768733427878 and parameters: {'x': 1.066842762288169, 'y': 0.8410432314467107}. Best is trial 3 with value: -2.2978037017083506.\n",
      "Trial 46 finished with value: -0.028768733427878 and parameters: {'x': 1.066842762288169, 'y': 0.8410432314467107}. Best is trial 3 with value: -2.2978037017083506.\n",
      "Trial 46 finished with value: -0.028768733427878 and parameters: {'x': 1.066842762288169, 'y': 0.8410432314467107}. Best is trial 3 with value: -2.2978037017083506.\n"
     ]
    },
    {
     "name": "stderr",
     "output_type": "stream",
     "text": [
      "\u001b[32m[I 2022-11-15 13:20:16,475]\u001b[0m Trial 47 finished with value: 0.758859409372882 and parameters: {'x': 1.2083722012067608, 'y': -1.3679298005919078}. Best is trial 3 with value: -2.2978037017083506.\u001b[0m\n"
     ]
    },
    {
     "name": "stdout",
     "output_type": "stream",
     "text": [
      "Trial 47 finished with value: 0.758859409372882 and parameters: {'x': 1.2083722012067608, 'y': -1.3679298005919078}. Best is trial 3 with value: -2.2978037017083506.\n",
      "Trial 47 finished with value: 0.758859409372882 and parameters: {'x': 1.2083722012067608, 'y': -1.3679298005919078}. Best is trial 3 with value: -2.2978037017083506.\n",
      "Trial 47 finished with value: 0.758859409372882 and parameters: {'x': 1.2083722012067608, 'y': -1.3679298005919078}. Best is trial 3 with value: -2.2978037017083506.\n"
     ]
    },
    {
     "name": "stderr",
     "output_type": "stream",
     "text": [
      "\u001b[32m[I 2022-11-15 13:20:16,479]\u001b[0m Trial 48 finished with value: -2.567129063369847 and parameters: {'x': 1.6666962178690776, 'y': 1.1241079844579782}. Best is trial 48 with value: -2.567129063369847.\u001b[0m\n"
     ]
    },
    {
     "name": "stdout",
     "output_type": "stream",
     "text": [
      "Trial 48 finished with value: -2.567129063369847 and parameters: {'x': 1.6666962178690776, 'y': 1.1241079844579782}. Best is trial 48 with value: -2.567129063369847.\n",
      "Trial 48 finished with value: -2.567129063369847 and parameters: {'x': 1.6666962178690776, 'y': 1.1241079844579782}. Best is trial 48 with value: -2.567129063369847.\n",
      "Trial 48 finished with value: -2.567129063369847 and parameters: {'x': 1.6666962178690776, 'y': 1.1241079844579782}. Best is trial 48 with value: -2.567129063369847.\n"
     ]
    },
    {
     "name": "stderr",
     "output_type": "stream",
     "text": [
      "\u001b[32m[I 2022-11-15 13:20:16,483]\u001b[0m Trial 49 finished with value: 0.1812909318757625 and parameters: {'x': 1.8567212156347295, 'y': 1.6303579290293326}. Best is trial 48 with value: -2.567129063369847.\u001b[0m\n"
     ]
    },
    {
     "name": "stdout",
     "output_type": "stream",
     "text": [
      "Trial 49 finished with value: 0.1812909318757625 and parameters: {'x': 1.8567212156347295, 'y': 1.6303579290293326}. Best is trial 48 with value: -2.567129063369847.\n",
      "Trial 49 finished with value: 0.1812909318757625 and parameters: {'x': 1.8567212156347295, 'y': 1.6303579290293326}. Best is trial 48 with value: -2.567129063369847.\n",
      "Trial 49 finished with value: 0.1812909318757625 and parameters: {'x': 1.8567212156347295, 'y': 1.6303579290293326}. Best is trial 48 with value: -2.567129063369847.\n"
     ]
    },
    {
     "name": "stderr",
     "output_type": "stream",
     "text": [
      "\u001b[32m[I 2022-11-15 13:20:16,487]\u001b[0m Trial 50 finished with value: 2.200963274566252 and parameters: {'x': 1.3530885252258265, 'y': 1.3101647316927225}. Best is trial 48 with value: -2.567129063369847.\u001b[0m\n"
     ]
    },
    {
     "name": "stdout",
     "output_type": "stream",
     "text": [
      "Trial 50 finished with value: 2.200963274566252 and parameters: {'x': 1.3530885252258265, 'y': 1.3101647316927225}. Best is trial 48 with value: -2.567129063369847.\n",
      "Trial 50 finished with value: 2.200963274566252 and parameters: {'x': 1.3530885252258265, 'y': 1.3101647316927225}. Best is trial 48 with value: -2.567129063369847.\n",
      "Trial 50 finished with value: 2.200963274566252 and parameters: {'x': 1.3530885252258265, 'y': 1.3101647316927225}. Best is trial 48 with value: -2.567129063369847.\n"
     ]
    },
    {
     "name": "stderr",
     "output_type": "stream",
     "text": [
      "\u001b[32m[I 2022-11-15 13:20:16,490]\u001b[0m Trial 51 finished with value: -2.1747944113754594 and parameters: {'x': 1.6017460998458453, 'y': 1.0521268212885149}. Best is trial 48 with value: -2.567129063369847.\u001b[0m\n"
     ]
    },
    {
     "name": "stdout",
     "output_type": "stream",
     "text": [
      "Trial 51 finished with value: -2.1747944113754594 and parameters: {'x': 1.6017460998458453, 'y': 1.0521268212885149}. Best is trial 48 with value: -2.567129063369847.\n",
      "Trial 51 finished with value: -2.1747944113754594 and parameters: {'x': 1.6017460998458453, 'y': 1.0521268212885149}. Best is trial 48 with value: -2.567129063369847.\n",
      "Trial 51 finished with value: -2.1747944113754594 and parameters: {'x': 1.6017460998458453, 'y': 1.0521268212885149}. Best is trial 48 with value: -2.567129063369847.\n"
     ]
    },
    {
     "name": "stderr",
     "output_type": "stream",
     "text": [
      "\u001b[32m[I 2022-11-15 13:20:16,494]\u001b[0m Trial 52 finished with value: -0.9638192096994355 and parameters: {'x': 1.5591836031290174, 'y': 0.4848414478023575}. Best is trial 48 with value: -2.567129063369847.\u001b[0m\n"
     ]
    },
    {
     "name": "stdout",
     "output_type": "stream",
     "text": [
      "Trial 52 finished with value: -0.9638192096994355 and parameters: {'x': 1.5591836031290174, 'y': 0.4848414478023575}. Best is trial 48 with value: -2.567129063369847.\n",
      "Trial 52 finished with value: -0.9638192096994355 and parameters: {'x': 1.5591836031290174, 'y': 0.4848414478023575}. Best is trial 48 with value: -2.567129063369847.\n",
      "Trial 52 finished with value: -0.9638192096994355 and parameters: {'x': 1.5591836031290174, 'y': 0.4848414478023575}. Best is trial 48 with value: -2.567129063369847.\n"
     ]
    },
    {
     "name": "stderr",
     "output_type": "stream",
     "text": [
      "\u001b[32m[I 2022-11-15 13:20:16,497]\u001b[0m Trial 53 finished with value: 2.8053981207435177 and parameters: {'x': 1.8284761191185963, 'y': 1.8124391937005555}. Best is trial 48 with value: -2.567129063369847.\u001b[0m\n"
     ]
    },
    {
     "name": "stdout",
     "output_type": "stream",
     "text": [
      "Trial 53 finished with value: 2.8053981207435177 and parameters: {'x': 1.8284761191185963, 'y': 1.8124391937005555}. Best is trial 48 with value: -2.567129063369847.\n",
      "Trial 53 finished with value: 2.8053981207435177 and parameters: {'x': 1.8284761191185963, 'y': 1.8124391937005555}. Best is trial 48 with value: -2.567129063369847.\n",
      "Trial 53 finished with value: 2.8053981207435177 and parameters: {'x': 1.8284761191185963, 'y': 1.8124391937005555}. Best is trial 48 with value: -2.567129063369847.\n"
     ]
    },
    {
     "name": "stderr",
     "output_type": "stream",
     "text": [
      "\u001b[32m[I 2022-11-15 13:20:16,502]\u001b[0m Trial 54 finished with value: 0.1906102637245508 and parameters: {'x': 1.4123431613060222, 'y': 1.1047240478675997}. Best is trial 48 with value: -2.567129063369847.\u001b[0m\n"
     ]
    },
    {
     "name": "stdout",
     "output_type": "stream",
     "text": [
      "Trial 54 finished with value: 0.1906102637245508 and parameters: {'x': 1.4123431613060222, 'y': 1.1047240478675997}. Best is trial 48 with value: -2.567129063369847.\n",
      "Trial 54 finished with value: 0.1906102637245508 and parameters: {'x': 1.4123431613060222, 'y': 1.1047240478675997}. Best is trial 48 with value: -2.567129063369847.\n",
      "Trial 54 finished with value: 0.1906102637245508 and parameters: {'x': 1.4123431613060222, 'y': 1.1047240478675997}. Best is trial 48 with value: -2.567129063369847.\n"
     ]
    },
    {
     "name": "stderr",
     "output_type": "stream",
     "text": [
      "\u001b[32m[I 2022-11-15 13:20:16,505]\u001b[0m Trial 55 finished with value: -0.11103929229385895 and parameters: {'x': 1.0366622064090798, 'y': -0.42231233579151667}. Best is trial 48 with value: -2.567129063369847.\u001b[0m\n"
     ]
    },
    {
     "name": "stdout",
     "output_type": "stream",
     "text": [
      "Trial 55 finished with value: -0.11103929229385895 and parameters: {'x': 1.0366622064090798, 'y': -0.42231233579151667}. Best is trial 48 with value: -2.567129063369847.\n",
      "Trial 55 finished with value: -0.11103929229385895 and parameters: {'x': 1.0366622064090798, 'y': -0.42231233579151667}. Best is trial 48 with value: -2.567129063369847.\n",
      "Trial 55 finished with value: -0.11103929229385895 and parameters: {'x': 1.0366622064090798, 'y': -0.42231233579151667}. Best is trial 48 with value: -2.567129063369847.\n"
     ]
    },
    {
     "name": "stderr",
     "output_type": "stream",
     "text": [
      "\u001b[32m[I 2022-11-15 13:20:16,509]\u001b[0m Trial 56 finished with value: 1.527399763090887 and parameters: {'x': 1.9850249817526562, 'y': 1.333480094539164}. Best is trial 48 with value: -2.567129063369847.\u001b[0m\n"
     ]
    },
    {
     "name": "stdout",
     "output_type": "stream",
     "text": [
      "Trial 56 finished with value: 1.527399763090887 and parameters: {'x': 1.9850249817526562, 'y': 1.333480094539164}. Best is trial 48 with value: -2.567129063369847.\n",
      "Trial 56 finished with value: 1.527399763090887 and parameters: {'x': 1.9850249817526562, 'y': 1.333480094539164}. Best is trial 48 with value: -2.567129063369847.\n",
      "Trial 56 finished with value: 1.527399763090887 and parameters: {'x': 1.9850249817526562, 'y': 1.333480094539164}. Best is trial 48 with value: -2.567129063369847.\n"
     ]
    },
    {
     "name": "stderr",
     "output_type": "stream",
     "text": [
      "\u001b[32m[I 2022-11-15 13:20:16,513]\u001b[0m Trial 57 finished with value: -1.3509492792407465 and parameters: {'x': 1.6307203440506413, 'y': 0.7787806211605254}. Best is trial 48 with value: -2.567129063369847.\u001b[0m\n"
     ]
    },
    {
     "name": "stdout",
     "output_type": "stream",
     "text": [
      "Trial 57 finished with value: -1.3509492792407465 and parameters: {'x': 1.6307203440506413, 'y': 0.7787806211605254}. Best is trial 48 with value: -2.567129063369847.\n",
      "Trial 57 finished with value: -1.3509492792407465 and parameters: {'x': 1.6307203440506413, 'y': 0.7787806211605254}. Best is trial 48 with value: -2.567129063369847.\n",
      "Trial 57 finished with value: -1.3509492792407465 and parameters: {'x': 1.6307203440506413, 'y': 0.7787806211605254}. Best is trial 48 with value: -2.567129063369847.\n"
     ]
    },
    {
     "name": "stderr",
     "output_type": "stream",
     "text": [
      "\u001b[32m[I 2022-11-15 13:20:16,517]\u001b[0m Trial 58 finished with value: -2.614631543378417 and parameters: {'x': 1.1253167912977966, 'y': 1.595769955743574}. Best is trial 58 with value: -2.614631543378417.\u001b[0m\n"
     ]
    },
    {
     "name": "stdout",
     "output_type": "stream",
     "text": [
      "Trial 58 finished with value: -2.614631543378417 and parameters: {'x': 1.1253167912977966, 'y': 1.595769955743574}. Best is trial 58 with value: -2.614631543378417.\n",
      "Trial 58 finished with value: -2.614631543378417 and parameters: {'x': 1.1253167912977966, 'y': 1.595769955743574}. Best is trial 58 with value: -2.614631543378417.\n",
      "Trial 58 finished with value: -2.614631543378417 and parameters: {'x': 1.1253167912977966, 'y': 1.595769955743574}. Best is trial 58 with value: -2.614631543378417.\n"
     ]
    },
    {
     "name": "stderr",
     "output_type": "stream",
     "text": [
      "\u001b[32m[I 2022-11-15 13:20:16,520]\u001b[0m Trial 59 finished with value: -0.3204016244098026 and parameters: {'x': 0.9510087243023562, 'y': 1.184387811210334}. Best is trial 58 with value: -2.614631543378417.\u001b[0m\n"
     ]
    },
    {
     "name": "stdout",
     "output_type": "stream",
     "text": [
      "Trial 59 finished with value: -0.3204016244098026 and parameters: {'x': 0.9510087243023562, 'y': 1.184387811210334}. Best is trial 58 with value: -2.614631543378417.\n",
      "Trial 59 finished with value: -0.3204016244098026 and parameters: {'x': 0.9510087243023562, 'y': 1.184387811210334}. Best is trial 58 with value: -2.614631543378417.\n",
      "Trial 59 finished with value: -0.3204016244098026 and parameters: {'x': 0.9510087243023562, 'y': 1.184387811210334}. Best is trial 58 with value: -2.614631543378417.\n"
     ]
    },
    {
     "name": "stderr",
     "output_type": "stream",
     "text": [
      "\u001b[32m[I 2022-11-15 13:20:16,524]\u001b[0m Trial 60 finished with value: 1.0612901735577174 and parameters: {'x': 1.1994742816143196, 'y': 1.85167737101878}. Best is trial 58 with value: -2.614631543378417.\u001b[0m\n"
     ]
    },
    {
     "name": "stdout",
     "output_type": "stream",
     "text": [
      "Trial 60 finished with value: 1.0612901735577174 and parameters: {'x': 1.1994742816143196, 'y': 1.85167737101878}. Best is trial 58 with value: -2.614631543378417.\n",
      "Trial 60 finished with value: 1.0612901735577174 and parameters: {'x': 1.1994742816143196, 'y': 1.85167737101878}. Best is trial 58 with value: -2.614631543378417.\n",
      "Trial 60 finished with value: 1.0612901735577174 and parameters: {'x': 1.1994742816143196, 'y': 1.85167737101878}. Best is trial 58 with value: -2.614631543378417.\n"
     ]
    },
    {
     "name": "stderr",
     "output_type": "stream",
     "text": [
      "\u001b[32m[I 2022-11-15 13:20:16,528]\u001b[0m Trial 61 finished with value: -1.5758647360862348 and parameters: {'x': 0.7332033433373938, 'y': 1.5882886315345703}. Best is trial 58 with value: -2.614631543378417.\u001b[0m\n"
     ]
    },
    {
     "name": "stdout",
     "output_type": "stream",
     "text": [
      "Trial 61 finished with value: -1.5758647360862348 and parameters: {'x': 0.7332033433373938, 'y': 1.5882886315345703}. Best is trial 58 with value: -2.614631543378417.\n",
      "Trial 61 finished with value: -1.5758647360862348 and parameters: {'x': 0.7332033433373938, 'y': 1.5882886315345703}. Best is trial 58 with value: -2.614631543378417.\n",
      "Trial 61 finished with value: -1.5758647360862348 and parameters: {'x': 0.7332033433373938, 'y': 1.5882886315345703}. Best is trial 58 with value: -2.614631543378417.\n"
     ]
    },
    {
     "name": "stderr",
     "output_type": "stream",
     "text": [
      "\u001b[32m[I 2022-11-15 13:20:16,532]\u001b[0m Trial 62 finished with value: 0.17751421804393686 and parameters: {'x': 1.1378364638531606, 'y': 1.4060136807037842}. Best is trial 58 with value: -2.614631543378417.\u001b[0m\n"
     ]
    },
    {
     "name": "stdout",
     "output_type": "stream",
     "text": [
      "Trial 62 finished with value: 0.17751421804393686 and parameters: {'x': 1.1378364638531606, 'y': 1.4060136807037842}. Best is trial 58 with value: -2.614631543378417.\n",
      "Trial 62 finished with value: 0.17751421804393686 and parameters: {'x': 1.1378364638531606, 'y': 1.4060136807037842}. Best is trial 58 with value: -2.614631543378417.\n",
      "Trial 62 finished with value: 0.17751421804393686 and parameters: {'x': 1.1378364638531606, 'y': 1.4060136807037842}. Best is trial 58 with value: -2.614631543378417.\n"
     ]
    },
    {
     "name": "stderr",
     "output_type": "stream",
     "text": [
      "\u001b[32m[I 2022-11-15 13:20:16,536]\u001b[0m Trial 63 finished with value: 1.9281264262800129 and parameters: {'x': 1.3947991680637268, 'y': 0.948004699081219}. Best is trial 58 with value: -2.614631543378417.\u001b[0m\n"
     ]
    },
    {
     "name": "stdout",
     "output_type": "stream",
     "text": [
      "Trial 63 finished with value: 1.9281264262800129 and parameters: {'x': 1.3947991680637268, 'y': 0.948004699081219}. Best is trial 58 with value: -2.614631543378417.\n",
      "Trial 63 finished with value: 1.9281264262800129 and parameters: {'x': 1.3947991680637268, 'y': 0.948004699081219}. Best is trial 58 with value: -2.614631543378417.\n",
      "Trial 63 finished with value: 1.9281264262800129 and parameters: {'x': 1.3947991680637268, 'y': 0.948004699081219}. Best is trial 58 with value: -2.614631543378417.\n"
     ]
    },
    {
     "name": "stderr",
     "output_type": "stream",
     "text": [
      "\u001b[32m[I 2022-11-15 13:20:16,540]\u001b[0m Trial 64 finished with value: -2.0621711615588736 and parameters: {'x': 1.5364622386207023, 'y': 1.672568089506467}. Best is trial 58 with value: -2.614631543378417.\u001b[0m\n"
     ]
    },
    {
     "name": "stdout",
     "output_type": "stream",
     "text": [
      "Trial 64 finished with value: -2.0621711615588736 and parameters: {'x': 1.5364622386207023, 'y': 1.672568089506467}. Best is trial 58 with value: -2.614631543378417.\n",
      "Trial 64 finished with value: -2.0621711615588736 and parameters: {'x': 1.5364622386207023, 'y': 1.672568089506467}. Best is trial 58 with value: -2.614631543378417.\n",
      "Trial 64 finished with value: -2.0621711615588736 and parameters: {'x': 1.5364622386207023, 'y': 1.672568089506467}. Best is trial 58 with value: -2.614631543378417.\n"
     ]
    },
    {
     "name": "stderr",
     "output_type": "stream",
     "text": [
      "\u001b[32m[I 2022-11-15 13:20:16,543]\u001b[0m Trial 65 finished with value: 2.192343282931012 and parameters: {'x': 1.482797139292738, 'y': 1.882383525476789}. Best is trial 58 with value: -2.614631543378417.\u001b[0m\n"
     ]
    },
    {
     "name": "stdout",
     "output_type": "stream",
     "text": [
      "Trial 65 finished with value: 2.192343282931012 and parameters: {'x': 1.482797139292738, 'y': 1.882383525476789}. Best is trial 58 with value: -2.614631543378417.\n",
      "Trial 65 finished with value: 2.192343282931012 and parameters: {'x': 1.482797139292738, 'y': 1.882383525476789}. Best is trial 58 with value: -2.614631543378417.\n",
      "Trial 65 finished with value: 2.192343282931012 and parameters: {'x': 1.482797139292738, 'y': 1.882383525476789}. Best is trial 58 with value: -2.614631543378417.\n"
     ]
    },
    {
     "name": "stderr",
     "output_type": "stream",
     "text": [
      "\u001b[32m[I 2022-11-15 13:20:16,547]\u001b[0m Trial 66 finished with value: -1.2821210550162343 and parameters: {'x': 1.7635497395612851, 'y': 1.6098895266174256}. Best is trial 58 with value: -2.614631543378417.\u001b[0m\n"
     ]
    },
    {
     "name": "stdout",
     "output_type": "stream",
     "text": [
      "Trial 66 finished with value: -1.2821210550162343 and parameters: {'x': 1.7635497395612851, 'y': 1.6098895266174256}. Best is trial 58 with value: -2.614631543378417.\n",
      "Trial 66 finished with value: -1.2821210550162343 and parameters: {'x': 1.7635497395612851, 'y': 1.6098895266174256}. Best is trial 58 with value: -2.614631543378417.\n",
      "Trial 66 finished with value: -1.2821210550162343 and parameters: {'x': 1.7635497395612851, 'y': 1.6098895266174256}. Best is trial 58 with value: -2.614631543378417.\n"
     ]
    },
    {
     "name": "stderr",
     "output_type": "stream",
     "text": [
      "\u001b[32m[I 2022-11-15 13:20:16,552]\u001b[0m Trial 67 finished with value: -2.2879236844055755 and parameters: {'x': 1.591530057738352, 'y': 1.1879643170659016}. Best is trial 58 with value: -2.614631543378417.\u001b[0m\n"
     ]
    },
    {
     "name": "stdout",
     "output_type": "stream",
     "text": [
      "Trial 67 finished with value: -2.2879236844055755 and parameters: {'x': 1.591530057738352, 'y': 1.1879643170659016}. Best is trial 58 with value: -2.614631543378417.\n",
      "Trial 67 finished with value: -2.2879236844055755 and parameters: {'x': 1.591530057738352, 'y': 1.1879643170659016}. Best is trial 58 with value: -2.614631543378417.\n",
      "Trial 67 finished with value: -2.2879236844055755 and parameters: {'x': 1.591530057738352, 'y': 1.1879643170659016}. Best is trial 58 with value: -2.614631543378417.\n"
     ]
    },
    {
     "name": "stderr",
     "output_type": "stream",
     "text": [
      "\u001b[32m[I 2022-11-15 13:20:16,556]\u001b[0m Trial 68 finished with value: -2.684881093404524 and parameters: {'x': 1.6088907748958832, 'y': 1.1159897646933445}. Best is trial 68 with value: -2.684881093404524.\u001b[0m\n"
     ]
    },
    {
     "name": "stdout",
     "output_type": "stream",
     "text": [
      "Trial 68 finished with value: -2.684881093404524 and parameters: {'x': 1.6088907748958832, 'y': 1.1159897646933445}. Best is trial 68 with value: -2.684881093404524.\n",
      "Trial 68 finished with value: -2.684881093404524 and parameters: {'x': 1.6088907748958832, 'y': 1.1159897646933445}. Best is trial 68 with value: -2.684881093404524.\n",
      "Trial 68 finished with value: -2.684881093404524 and parameters: {'x': 1.6088907748958832, 'y': 1.1159897646933445}. Best is trial 68 with value: -2.684881093404524.\n"
     ]
    },
    {
     "name": "stderr",
     "output_type": "stream",
     "text": [
      "\u001b[32m[I 2022-11-15 13:20:16,560]\u001b[0m Trial 69 finished with value: 0.34487385845593466 and parameters: {'x': 1.3057548638151777, 'y': 0.581540734990952}. Best is trial 68 with value: -2.684881093404524.\u001b[0m\n"
     ]
    },
    {
     "name": "stdout",
     "output_type": "stream",
     "text": [
      "Trial 69 finished with value: 0.34487385845593466 and parameters: {'x': 1.3057548638151777, 'y': 0.581540734990952}. Best is trial 68 with value: -2.684881093404524.\n",
      "Trial 69 finished with value: 0.34487385845593466 and parameters: {'x': 1.3057548638151777, 'y': 0.581540734990952}. Best is trial 68 with value: -2.684881093404524.\n",
      "Trial 69 finished with value: 0.34487385845593466 and parameters: {'x': 1.3057548638151777, 'y': 0.581540734990952}. Best is trial 68 with value: -2.684881093404524.\n"
     ]
    },
    {
     "name": "stderr",
     "output_type": "stream",
     "text": [
      "\u001b[32m[I 2022-11-15 13:20:16,564]\u001b[0m Trial 70 finished with value: -1.7498982734933377 and parameters: {'x': 1.673096068455572, 'y': 1.0295187930760625}. Best is trial 68 with value: -2.684881093404524.\u001b[0m\n"
     ]
    },
    {
     "name": "stdout",
     "output_type": "stream",
     "text": [
      "Trial 70 finished with value: -1.7498982734933377 and parameters: {'x': 1.673096068455572, 'y': 1.0295187930760625}. Best is trial 68 with value: -2.684881093404524.\n",
      "Trial 70 finished with value: -1.7498982734933377 and parameters: {'x': 1.673096068455572, 'y': 1.0295187930760625}. Best is trial 68 with value: -2.684881093404524.\n",
      "Trial 70 finished with value: -1.7498982734933377 and parameters: {'x': 1.673096068455572, 'y': 1.0295187930760625}. Best is trial 68 with value: -2.684881093404524.\n"
     ]
    },
    {
     "name": "stderr",
     "output_type": "stream",
     "text": [
      "\u001b[32m[I 2022-11-15 13:20:16,568]\u001b[0m Trial 71 finished with value: -1.9961039775366491 and parameters: {'x': 1.6139477836083498, 'y': 1.2236583558562486}. Best is trial 68 with value: -2.684881093404524.\u001b[0m\n"
     ]
    },
    {
     "name": "stdout",
     "output_type": "stream",
     "text": [
      "Trial 71 finished with value: -1.9961039775366491 and parameters: {'x': 1.6139477836083498, 'y': 1.2236583558562486}. Best is trial 68 with value: -2.684881093404524.\n",
      "Trial 71 finished with value: -1.9961039775366491 and parameters: {'x': 1.6139477836083498, 'y': 1.2236583558562486}. Best is trial 68 with value: -2.684881093404524.\n",
      "Trial 71 finished with value: -1.9961039775366491 and parameters: {'x': 1.6139477836083498, 'y': 1.2236583558562486}. Best is trial 68 with value: -2.684881093404524.\n"
     ]
    },
    {
     "name": "stderr",
     "output_type": "stream",
     "text": [
      "\u001b[32m[I 2022-11-15 13:20:16,572]\u001b[0m Trial 72 finished with value: 1.0951276298372281 and parameters: {'x': 1.887532891870485, 'y': 1.064264056005523}. Best is trial 68 with value: -2.684881093404524.\u001b[0m\n"
     ]
    },
    {
     "name": "stdout",
     "output_type": "stream",
     "text": [
      "Trial 72 finished with value: 1.0951276298372281 and parameters: {'x': 1.887532891870485, 'y': 1.064264056005523}. Best is trial 68 with value: -2.684881093404524.\n",
      "Trial 72 finished with value: 1.0951276298372281 and parameters: {'x': 1.887532891870485, 'y': 1.064264056005523}. Best is trial 68 with value: -2.684881093404524.\n",
      "Trial 72 finished with value: 1.0951276298372281 and parameters: {'x': 1.887532891870485, 'y': 1.064264056005523}. Best is trial 68 with value: -2.684881093404524.\n"
     ]
    },
    {
     "name": "stderr",
     "output_type": "stream",
     "text": [
      "\u001b[32m[I 2022-11-15 13:20:16,575]\u001b[0m Trial 73 finished with value: 2.039925925170609 and parameters: {'x': 1.4241147127967235, 'y': 0.8829077829136139}. Best is trial 68 with value: -2.684881093404524.\u001b[0m\n"
     ]
    },
    {
     "name": "stdout",
     "output_type": "stream",
     "text": [
      "Trial 73 finished with value: 2.039925925170609 and parameters: {'x': 1.4241147127967235, 'y': 0.8829077829136139}. Best is trial 68 with value: -2.684881093404524.\n",
      "Trial 73 finished with value: 2.039925925170609 and parameters: {'x': 1.4241147127967235, 'y': 0.8829077829136139}. Best is trial 68 with value: -2.684881093404524.\n",
      "Trial 73 finished with value: 2.039925925170609 and parameters: {'x': 1.4241147127967235, 'y': 0.8829077829136139}. Best is trial 68 with value: -2.684881093404524.\n"
     ]
    },
    {
     "name": "stderr",
     "output_type": "stream",
     "text": [
      "\u001b[32m[I 2022-11-15 13:20:16,579]\u001b[0m Trial 74 finished with value: 1.6251613900717825 and parameters: {'x': 1.7707892236595097, 'y': 1.4234369254310353}. Best is trial 68 with value: -2.684881093404524.\u001b[0m\n"
     ]
    },
    {
     "name": "stdout",
     "output_type": "stream",
     "text": [
      "Trial 74 finished with value: 1.6251613900717825 and parameters: {'x': 1.7707892236595097, 'y': 1.4234369254310353}. Best is trial 68 with value: -2.684881093404524.\n",
      "Trial 74 finished with value: 1.6251613900717825 and parameters: {'x': 1.7707892236595097, 'y': 1.4234369254310353}. Best is trial 68 with value: -2.684881093404524.\n",
      "Trial 74 finished with value: 1.6251613900717825 and parameters: {'x': 1.7707892236595097, 'y': 1.4234369254310353}. Best is trial 68 with value: -2.684881093404524.\n"
     ]
    },
    {
     "name": "stderr",
     "output_type": "stream",
     "text": [
      "\u001b[32m[I 2022-11-15 13:20:16,583]\u001b[0m Trial 75 finished with value: -2.6187354485999093 and parameters: {'x': 1.6062005088864095, 'y': 1.1585407369400624}. Best is trial 68 with value: -2.684881093404524.\u001b[0m\n"
     ]
    },
    {
     "name": "stdout",
     "output_type": "stream",
     "text": [
      "Trial 75 finished with value: -2.6187354485999093 and parameters: {'x': 1.6062005088864095, 'y': 1.1585407369400624}. Best is trial 68 with value: -2.684881093404524.\n",
      "Trial 75 finished with value: -2.6187354485999093 and parameters: {'x': 1.6062005088864095, 'y': 1.1585407369400624}. Best is trial 68 with value: -2.684881093404524.\n",
      "Trial 75 finished with value: -2.6187354485999093 and parameters: {'x': 1.6062005088864095, 'y': 1.1585407369400624}. Best is trial 68 with value: -2.684881093404524.\n"
     ]
    },
    {
     "name": "stderr",
     "output_type": "stream",
     "text": [
      "\u001b[32m[I 2022-11-15 13:20:16,587]\u001b[0m Trial 76 finished with value: 0.5312673587375302 and parameters: {'x': 0.8591799891622355, 'y': 0.7141453563145655}. Best is trial 68 with value: -2.684881093404524.\u001b[0m\n"
     ]
    },
    {
     "name": "stdout",
     "output_type": "stream",
     "text": [
      "Trial 76 finished with value: 0.5312673587375302 and parameters: {'x': 0.8591799891622355, 'y': 0.7141453563145655}. Best is trial 68 with value: -2.684881093404524.\n",
      "Trial 76 finished with value: 0.5312673587375302 and parameters: {'x': 0.8591799891622355, 'y': 0.7141453563145655}. Best is trial 68 with value: -2.684881093404524.\n",
      "Trial 76 finished with value: 0.5312673587375302 and parameters: {'x': 0.8591799891622355, 'y': 0.7141453563145655}. Best is trial 68 with value: -2.684881093404524.\n"
     ]
    },
    {
     "name": "stderr",
     "output_type": "stream",
     "text": [
      "\u001b[32m[I 2022-11-15 13:20:16,590]\u001b[0m Trial 77 finished with value: -0.052561787626413725 and parameters: {'x': 1.278130372240909, 'y': 1.2166546793868025}. Best is trial 68 with value: -2.684881093404524.\u001b[0m\n"
     ]
    },
    {
     "name": "stdout",
     "output_type": "stream",
     "text": [
      "Trial 77 finished with value: -0.052561787626413725 and parameters: {'x': 1.278130372240909, 'y': 1.2166546793868025}. Best is trial 68 with value: -2.684881093404524.\n",
      "Trial 77 finished with value: -0.052561787626413725 and parameters: {'x': 1.278130372240909, 'y': 1.2166546793868025}. Best is trial 68 with value: -2.684881093404524.\n",
      "Trial 77 finished with value: -0.052561787626413725 and parameters: {'x': 1.278130372240909, 'y': 1.2166546793868025}. Best is trial 68 with value: -2.684881093404524.\n"
     ]
    },
    {
     "name": "stderr",
     "output_type": "stream",
     "text": [
      "\u001b[32m[I 2022-11-15 13:20:16,594]\u001b[0m Trial 78 finished with value: -0.19676842836094743 and parameters: {'x': 1.6026075995476827, 'y': 1.3617216352058497}. Best is trial 68 with value: -2.684881093404524.\u001b[0m\n"
     ]
    },
    {
     "name": "stdout",
     "output_type": "stream",
     "text": [
      "Trial 78 finished with value: -0.19676842836094743 and parameters: {'x': 1.6026075995476827, 'y': 1.3617216352058497}. Best is trial 68 with value: -2.684881093404524.\n",
      "Trial 78 finished with value: -0.19676842836094743 and parameters: {'x': 1.6026075995476827, 'y': 1.3617216352058497}. Best is trial 68 with value: -2.684881093404524.\n",
      "Trial 78 finished with value: -0.19676842836094743 and parameters: {'x': 1.6026075995476827, 'y': 1.3617216352058497}. Best is trial 68 with value: -2.684881093404524.\n"
     ]
    },
    {
     "name": "stderr",
     "output_type": "stream",
     "text": [
      "\u001b[32m[I 2022-11-15 13:20:16,598]\u001b[0m Trial 79 finished with value: 1.770425074810993 and parameters: {'x': 1.8869637450855854, 'y': 1.5050398216853587}. Best is trial 68 with value: -2.684881093404524.\u001b[0m\n"
     ]
    },
    {
     "name": "stdout",
     "output_type": "stream",
     "text": [
      "Trial 79 finished with value: 1.770425074810993 and parameters: {'x': 1.8869637450855854, 'y': 1.5050398216853587}. Best is trial 68 with value: -2.684881093404524.\n",
      "Trial 79 finished with value: 1.770425074810993 and parameters: {'x': 1.8869637450855854, 'y': 1.5050398216853587}. Best is trial 68 with value: -2.684881093404524.\n",
      "Trial 79 finished with value: 1.770425074810993 and parameters: {'x': 1.8869637450855854, 'y': 1.5050398216853587}. Best is trial 68 with value: -2.684881093404524.\n"
     ]
    },
    {
     "name": "stderr",
     "output_type": "stream",
     "text": [
      "\u001b[32m[I 2022-11-15 13:20:16,602]\u001b[0m Trial 80 finished with value: -2.0936251634165255 and parameters: {'x': 1.7008887136693789, 'y': 1.1448962649105592}. Best is trial 68 with value: -2.684881093404524.\u001b[0m\n"
     ]
    },
    {
     "name": "stdout",
     "output_type": "stream",
     "text": [
      "Trial 80 finished with value: -2.0936251634165255 and parameters: {'x': 1.7008887136693789, 'y': 1.1448962649105592}. Best is trial 68 with value: -2.684881093404524.\n",
      "Trial 80 finished with value: -2.0936251634165255 and parameters: {'x': 1.7008887136693789, 'y': 1.1448962649105592}. Best is trial 68 with value: -2.684881093404524.\n",
      "Trial 80 finished with value: -2.0936251634165255 and parameters: {'x': 1.7008887136693789, 'y': 1.1448962649105592}. Best is trial 68 with value: -2.684881093404524.\n"
     ]
    },
    {
     "name": "stderr",
     "output_type": "stream",
     "text": [
      "\u001b[32m[I 2022-11-15 13:20:16,606]\u001b[0m Trial 81 finished with value: 0.477879169996973 and parameters: {'x': 1.511278520095145, 'y': 0.9336484958273873}. Best is trial 68 with value: -2.684881093404524.\u001b[0m\n"
     ]
    },
    {
     "name": "stdout",
     "output_type": "stream",
     "text": [
      "Trial 81 finished with value: 0.477879169996973 and parameters: {'x': 1.511278520095145, 'y': 0.9336484958273873}. Best is trial 68 with value: -2.684881093404524.\n",
      "Trial 81 finished with value: 0.477879169996973 and parameters: {'x': 1.511278520095145, 'y': 0.9336484958273873}. Best is trial 68 with value: -2.684881093404524.\n",
      "Trial 81 finished with value: 0.477879169996973 and parameters: {'x': 1.511278520095145, 'y': 0.9336484958273873}. Best is trial 68 with value: -2.684881093404524.\n"
     ]
    },
    {
     "name": "stderr",
     "output_type": "stream",
     "text": [
      "\u001b[32m[I 2022-11-15 13:20:16,610]\u001b[0m Trial 82 finished with value: -0.7955941505980322 and parameters: {'x': 1.1334567990437685, 'y': 1.2709960918628755}. Best is trial 68 with value: -2.684881093404524.\u001b[0m\n"
     ]
    },
    {
     "name": "stdout",
     "output_type": "stream",
     "text": [
      "Trial 82 finished with value: -0.7955941505980322 and parameters: {'x': 1.1334567990437685, 'y': 1.2709960918628755}. Best is trial 68 with value: -2.684881093404524.\n",
      "Trial 82 finished with value: -0.7955941505980322 and parameters: {'x': 1.1334567990437685, 'y': 1.2709960918628755}. Best is trial 68 with value: -2.684881093404524.\n",
      "Trial 82 finished with value: -0.7955941505980322 and parameters: {'x': 1.1334567990437685, 'y': 1.2709960918628755}. Best is trial 68 with value: -2.684881093404524.\n"
     ]
    },
    {
     "name": "stderr",
     "output_type": "stream",
     "text": [
      "\u001b[32m[I 2022-11-15 13:20:16,614]\u001b[0m Trial 83 finished with value: 1.6513504909023358 and parameters: {'x': 1.4059091772163483, 'y': 0.3581584929459144}. Best is trial 68 with value: -2.684881093404524.\u001b[0m\n"
     ]
    },
    {
     "name": "stdout",
     "output_type": "stream",
     "text": [
      "Trial 83 finished with value: 1.6513504909023358 and parameters: {'x': 1.4059091772163483, 'y': 0.3581584929459144}. Best is trial 68 with value: -2.684881093404524.\n",
      "Trial 83 finished with value: 1.6513504909023358 and parameters: {'x': 1.4059091772163483, 'y': 0.3581584929459144}. Best is trial 68 with value: -2.684881093404524.\n",
      "Trial 83 finished with value: 1.6513504909023358 and parameters: {'x': 1.4059091772163483, 'y': 0.3581584929459144}. Best is trial 68 with value: -2.684881093404524.\n"
     ]
    },
    {
     "name": "stderr",
     "output_type": "stream",
     "text": [
      "\u001b[32m[I 2022-11-15 13:20:16,618]\u001b[0m Trial 84 finished with value: -0.7101160907237236 and parameters: {'x': 1.9904674235706867, 'y': 1.0846240475574205}. Best is trial 68 with value: -2.684881093404524.\u001b[0m\n"
     ]
    },
    {
     "name": "stdout",
     "output_type": "stream",
     "text": [
      "Trial 84 finished with value: -0.7101160907237236 and parameters: {'x': 1.9904674235706867, 'y': 1.0846240475574205}. Best is trial 68 with value: -2.684881093404524.\n",
      "Trial 84 finished with value: -0.7101160907237236 and parameters: {'x': 1.9904674235706867, 'y': 1.0846240475574205}. Best is trial 68 with value: -2.684881093404524.\n",
      "Trial 84 finished with value: -0.7101160907237236 and parameters: {'x': 1.9904674235706867, 'y': 1.0846240475574205}. Best is trial 68 with value: -2.684881093404524.\n"
     ]
    },
    {
     "name": "stderr",
     "output_type": "stream",
     "text": [
      "\u001b[32m[I 2022-11-15 13:20:16,622]\u001b[0m Trial 85 finished with value: 0.9872123675349191 and parameters: {'x': 1.7828879087423923, 'y': 0.7783195993157954}. Best is trial 68 with value: -2.684881093404524.\u001b[0m\n"
     ]
    },
    {
     "name": "stdout",
     "output_type": "stream",
     "text": [
      "Trial 85 finished with value: 0.9872123675349191 and parameters: {'x': 1.7828879087423923, 'y': 0.7783195993157954}. Best is trial 68 with value: -2.684881093404524.\n",
      "Trial 85 finished with value: 0.9872123675349191 and parameters: {'x': 1.7828879087423923, 'y': 0.7783195993157954}. Best is trial 68 with value: -2.684881093404524.\n",
      "Trial 85 finished with value: 0.9872123675349191 and parameters: {'x': 1.7828879087423923, 'y': 0.7783195993157954}. Best is trial 68 with value: -2.684881093404524.\n"
     ]
    },
    {
     "name": "stderr",
     "output_type": "stream",
     "text": [
      "\u001b[32m[I 2022-11-15 13:20:16,626]\u001b[0m Trial 86 finished with value: -0.4209604726015367 and parameters: {'x': 1.5770663331218409, 'y': -0.8829242148966998}. Best is trial 68 with value: -2.684881093404524.\u001b[0m\n"
     ]
    },
    {
     "name": "stdout",
     "output_type": "stream",
     "text": [
      "Trial 86 finished with value: -0.4209604726015367 and parameters: {'x': 1.5770663331218409, 'y': -0.8829242148966998}. Best is trial 68 with value: -2.684881093404524.\n",
      "Trial 86 finished with value: -0.4209604726015367 and parameters: {'x': 1.5770663331218409, 'y': -0.8829242148966998}. Best is trial 68 with value: -2.684881093404524.\n",
      "Trial 86 finished with value: -0.4209604726015367 and parameters: {'x': 1.5770663331218409, 'y': -0.8829242148966998}. Best is trial 68 with value: -2.684881093404524.\n"
     ]
    },
    {
     "name": "stderr",
     "output_type": "stream",
     "text": [
      "\u001b[32m[I 2022-11-15 13:20:16,630]\u001b[0m Trial 87 finished with value: 0.3221177136045824 and parameters: {'x': 1.26840273748501, 'y': 0.9974945825572414}. Best is trial 68 with value: -2.684881093404524.\u001b[0m\n"
     ]
    },
    {
     "name": "stdout",
     "output_type": "stream",
     "text": [
      "Trial 87 finished with value: 0.3221177136045824 and parameters: {'x': 1.26840273748501, 'y': 0.9974945825572414}. Best is trial 68 with value: -2.684881093404524.\n",
      "Trial 87 finished with value: 0.3221177136045824 and parameters: {'x': 1.26840273748501, 'y': 0.9974945825572414}. Best is trial 68 with value: -2.684881093404524.\n",
      "Trial 87 finished with value: 0.3221177136045824 and parameters: {'x': 1.26840273748501, 'y': 0.9974945825572414}. Best is trial 68 with value: -2.684881093404524.\n"
     ]
    },
    {
     "name": "stderr",
     "output_type": "stream",
     "text": [
      "\u001b[32m[I 2022-11-15 13:20:16,635]\u001b[0m Trial 88 finished with value: 0.8028022661150729 and parameters: {'x': -0.7015979052761162, 'y': 1.4194497655530218}. Best is trial 68 with value: -2.684881093404524.\u001b[0m\n"
     ]
    },
    {
     "name": "stdout",
     "output_type": "stream",
     "text": [
      "Trial 88 finished with value: 0.8028022661150729 and parameters: {'x': -0.7015979052761162, 'y': 1.4194497655530218}. Best is trial 68 with value: -2.684881093404524.\n",
      "Trial 88 finished with value: 0.8028022661150729 and parameters: {'x': -0.7015979052761162, 'y': 1.4194497655530218}. Best is trial 68 with value: -2.684881093404524.\n",
      "Trial 88 finished with value: 0.8028022661150729 and parameters: {'x': -0.7015979052761162, 'y': 1.4194497655530218}. Best is trial 68 with value: -2.684881093404524.\n"
     ]
    },
    {
     "name": "stderr",
     "output_type": "stream",
     "text": [
      "\u001b[32m[I 2022-11-15 13:20:16,638]\u001b[0m Trial 89 finished with value: -0.5414690513006267 and parameters: {'x': 0.04151881763746501, 'y': 1.7256036460541333}. Best is trial 68 with value: -2.684881093404524.\u001b[0m\n"
     ]
    },
    {
     "name": "stdout",
     "output_type": "stream",
     "text": [
      "Trial 89 finished with value: -0.5414690513006267 and parameters: {'x': 0.04151881763746501, 'y': 1.7256036460541333}. Best is trial 68 with value: -2.684881093404524.\n",
      "Trial 89 finished with value: -0.5414690513006267 and parameters: {'x': 0.04151881763746501, 'y': 1.7256036460541333}. Best is trial 68 with value: -2.684881093404524.\n",
      "Trial 89 finished with value: -0.5414690513006267 and parameters: {'x': 0.04151881763746501, 'y': 1.7256036460541333}. Best is trial 68 with value: -2.684881093404524.\n"
     ]
    },
    {
     "name": "stderr",
     "output_type": "stream",
     "text": [
      "\u001b[32m[I 2022-11-15 13:20:16,642]\u001b[0m Trial 90 finished with value: -0.06554565153019698 and parameters: {'x': 1.4698098727246385, 'y': 0.6148636285658063}. Best is trial 68 with value: -2.684881093404524.\u001b[0m\n"
     ]
    },
    {
     "name": "stdout",
     "output_type": "stream",
     "text": [
      "Trial 90 finished with value: -0.06554565153019698 and parameters: {'x': 1.4698098727246385, 'y': 0.6148636285658063}. Best is trial 68 with value: -2.684881093404524.\n",
      "Trial 90 finished with value: -0.06554565153019698 and parameters: {'x': 1.4698098727246385, 'y': 0.6148636285658063}. Best is trial 68 with value: -2.684881093404524.\n",
      "Trial 90 finished with value: -0.06554565153019698 and parameters: {'x': 1.4698098727246385, 'y': 0.6148636285658063}. Best is trial 68 with value: -2.684881093404524.\n"
     ]
    },
    {
     "name": "stderr",
     "output_type": "stream",
     "text": [
      "\u001b[32m[I 2022-11-15 13:20:16,647]\u001b[0m Trial 91 finished with value: -1.9915073052517152 and parameters: {'x': 1.6967238216993668, 'y': 1.1765072414023288}. Best is trial 68 with value: -2.684881093404524.\u001b[0m\n"
     ]
    },
    {
     "name": "stdout",
     "output_type": "stream",
     "text": [
      "Trial 91 finished with value: -1.9915073052517152 and parameters: {'x': 1.6967238216993668, 'y': 1.1765072414023288}. Best is trial 68 with value: -2.684881093404524.\n",
      "Trial 91 finished with value: -1.9915073052517152 and parameters: {'x': 1.6967238216993668, 'y': 1.1765072414023288}. Best is trial 68 with value: -2.684881093404524.\n",
      "Trial 91 finished with value: -1.9915073052517152 and parameters: {'x': 1.6967238216993668, 'y': 1.1765072414023288}. Best is trial 68 with value: -2.684881093404524.\n"
     ]
    },
    {
     "name": "stderr",
     "output_type": "stream",
     "text": [
      "\u001b[32m[I 2022-11-15 13:20:16,651]\u001b[0m Trial 92 finished with value: -2.472659668631599 and parameters: {'x': 1.6735049621824276, 'y': 1.1479547590863557}. Best is trial 68 with value: -2.684881093404524.\u001b[0m\n"
     ]
    },
    {
     "name": "stdout",
     "output_type": "stream",
     "text": [
      "Trial 92 finished with value: -2.472659668631599 and parameters: {'x': 1.6735049621824276, 'y': 1.1479547590863557}. Best is trial 68 with value: -2.684881093404524.\n",
      "Trial 92 finished with value: -2.472659668631599 and parameters: {'x': 1.6735049621824276, 'y': 1.1479547590863557}. Best is trial 68 with value: -2.684881093404524.\n",
      "Trial 92 finished with value: -2.472659668631599 and parameters: {'x': 1.6735049621824276, 'y': 1.1479547590863557}. Best is trial 68 with value: -2.684881093404524.\n"
     ]
    },
    {
     "name": "stderr",
     "output_type": "stream",
     "text": [
      "\u001b[32m[I 2022-11-15 13:20:16,655]\u001b[0m Trial 93 finished with value: 2.599460965722722 and parameters: {'x': 1.9063933609246646, 'y': 1.3055786738640378}. Best is trial 68 with value: -2.684881093404524.\u001b[0m\n"
     ]
    },
    {
     "name": "stdout",
     "output_type": "stream",
     "text": [
      "Trial 93 finished with value: 2.599460965722722 and parameters: {'x': 1.9063933609246646, 'y': 1.3055786738640378}. Best is trial 68 with value: -2.684881093404524.\n",
      "Trial 93 finished with value: 2.599460965722722 and parameters: {'x': 1.9063933609246646, 'y': 1.3055786738640378}. Best is trial 68 with value: -2.684881093404524.\n",
      "Trial 93 finished with value: 2.599460965722722 and parameters: {'x': 1.9063933609246646, 'y': 1.3055786738640378}. Best is trial 68 with value: -2.684881093404524.\n"
     ]
    },
    {
     "name": "stderr",
     "output_type": "stream",
     "text": [
      "\u001b[32m[I 2022-11-15 13:20:16,658]\u001b[0m Trial 94 finished with value: 2.055515772368085 and parameters: {'x': 1.347773132985164, 'y': 0.8450416240435654}. Best is trial 68 with value: -2.684881093404524.\u001b[0m\n"
     ]
    },
    {
     "name": "stdout",
     "output_type": "stream",
     "text": [
      "Trial 94 finished with value: 2.055515772368085 and parameters: {'x': 1.347773132985164, 'y': 0.8450416240435654}. Best is trial 68 with value: -2.684881093404524.\n",
      "Trial 94 finished with value: 2.055515772368085 and parameters: {'x': 1.347773132985164, 'y': 0.8450416240435654}. Best is trial 68 with value: -2.684881093404524.\n",
      "Trial 94 finished with value: 2.055515772368085 and parameters: {'x': 1.347773132985164, 'y': 0.8450416240435654}. Best is trial 68 with value: -2.684881093404524.\n"
     ]
    },
    {
     "name": "stderr",
     "output_type": "stream",
     "text": [
      "\u001b[32m[I 2022-11-15 13:20:16,662]\u001b[0m Trial 95 finished with value: -2.7673097874912846 and parameters: {'x': 1.5930712659720196, 'y': 1.577169822564048}. Best is trial 95 with value: -2.7673097874912846.\u001b[0m\n"
     ]
    },
    {
     "name": "stdout",
     "output_type": "stream",
     "text": [
      "Trial 95 finished with value: -2.7673097874912846 and parameters: {'x': 1.5930712659720196, 'y': 1.577169822564048}. Best is trial 95 with value: -2.7673097874912846.\n",
      "Trial 95 finished with value: -2.7673097874912846 and parameters: {'x': 1.5930712659720196, 'y': 1.577169822564048}. Best is trial 95 with value: -2.7673097874912846.\n",
      "Trial 95 finished with value: -2.7673097874912846 and parameters: {'x': 1.5930712659720196, 'y': 1.577169822564048}. Best is trial 95 with value: -2.7673097874912846.\n"
     ]
    },
    {
     "name": "stderr",
     "output_type": "stream",
     "text": [
      "\u001b[32m[I 2022-11-15 13:20:16,667]\u001b[0m Trial 96 finished with value: -2.911444722265231 and parameters: {'x': 1.6545317190645707, 'y': 1.5831796547677923}. Best is trial 96 with value: -2.911444722265231.\u001b[0m\n"
     ]
    },
    {
     "name": "stdout",
     "output_type": "stream",
     "text": [
      "Trial 96 finished with value: -2.911444722265231 and parameters: {'x': 1.6545317190645707, 'y': 1.5831796547677923}. Best is trial 96 with value: -2.911444722265231.\n",
      "Trial 96 finished with value: -2.911444722265231 and parameters: {'x': 1.6545317190645707, 'y': 1.5831796547677923}. Best is trial 96 with value: -2.911444722265231.\n",
      "Trial 96 finished with value: -2.911444722265231 and parameters: {'x': 1.6545317190645707, 'y': 1.5831796547677923}. Best is trial 96 with value: -2.911444722265231.\n"
     ]
    },
    {
     "name": "stderr",
     "output_type": "stream",
     "text": [
      "\u001b[32m[I 2022-11-15 13:20:16,671]\u001b[0m Trial 97 finished with value: -0.25521524244809646 and parameters: {'x': -1.7997862415178265, 'y': 1.5778744422345568}. Best is trial 96 with value: -2.911444722265231.\u001b[0m\n"
     ]
    },
    {
     "name": "stdout",
     "output_type": "stream",
     "text": [
      "Trial 97 finished with value: -0.25521524244809646 and parameters: {'x': -1.7997862415178265, 'y': 1.5778744422345568}. Best is trial 96 with value: -2.911444722265231.\n",
      "Trial 97 finished with value: -0.25521524244809646 and parameters: {'x': -1.7997862415178265, 'y': 1.5778744422345568}. Best is trial 96 with value: -2.911444722265231.\n",
      "Trial 97 finished with value: -0.25521524244809646 and parameters: {'x': -1.7997862415178265, 'y': 1.5778744422345568}. Best is trial 96 with value: -2.911444722265231.\n"
     ]
    },
    {
     "name": "stderr",
     "output_type": "stream",
     "text": [
      "\u001b[32m[I 2022-11-15 13:20:16,674]\u001b[0m Trial 98 finished with value: 0.5176199651417047 and parameters: {'x': -0.3279275157300594, 'y': 1.7611252520580138}. Best is trial 96 with value: -2.911444722265231.\u001b[0m\n"
     ]
    },
    {
     "name": "stdout",
     "output_type": "stream",
     "text": [
      "Trial 98 finished with value: 0.5176199651417047 and parameters: {'x': -0.3279275157300594, 'y': 1.7611252520580138}. Best is trial 96 with value: -2.911444722265231.\n",
      "Trial 98 finished with value: 0.5176199651417047 and parameters: {'x': -0.3279275157300594, 'y': 1.7611252520580138}. Best is trial 96 with value: -2.911444722265231.\n",
      "Trial 98 finished with value: 0.5176199651417047 and parameters: {'x': -0.3279275157300594, 'y': 1.7611252520580138}. Best is trial 96 with value: -2.911444722265231.\n"
     ]
    },
    {
     "name": "stderr",
     "output_type": "stream",
     "text": [
      "\u001b[32m[I 2022-11-15 13:20:16,678]\u001b[0m Trial 99 finished with value: 1.5310473430859632 and parameters: {'x': 1.8188585190615183, 'y': 1.9941539161731117}. Best is trial 96 with value: -2.911444722265231.\u001b[0m\n"
     ]
    },
    {
     "name": "stdout",
     "output_type": "stream",
     "text": [
      "Trial 99 finished with value: 1.5310473430859632 and parameters: {'x': 1.8188585190615183, 'y': 1.9941539161731117}. Best is trial 96 with value: -2.911444722265231.\n",
      "Trial 99 finished with value: 1.5310473430859632 and parameters: {'x': 1.8188585190615183, 'y': 1.9941539161731117}. Best is trial 96 with value: -2.911444722265231.\n",
      "Trial 99 finished with value: 1.5310473430859632 and parameters: {'x': 1.8188585190615183, 'y': 1.9941539161731117}. Best is trial 96 with value: -2.911444722265231.\n"
     ]
    },
    {
     "name": "stderr",
     "output_type": "stream",
     "text": [
      "\u001b[32m[I 2022-11-15 13:20:16,682]\u001b[0m Trial 100 finished with value: 0.26897089525203577 and parameters: {'x': 1.6559919917042956, 'y': 1.9009223747586126}. Best is trial 96 with value: -2.911444722265231.\u001b[0m\n"
     ]
    },
    {
     "name": "stdout",
     "output_type": "stream",
     "text": [
      "Trial 100 finished with value: 0.26897089525203577 and parameters: {'x': 1.6559919917042956, 'y': 1.9009223747586126}. Best is trial 96 with value: -2.911444722265231.\n",
      "Trial 100 finished with value: 0.26897089525203577 and parameters: {'x': 1.6559919917042956, 'y': 1.9009223747586126}. Best is trial 96 with value: -2.911444722265231.\n",
      "Trial 100 finished with value: 0.26897089525203577 and parameters: {'x': 1.6559919917042956, 'y': 1.9009223747586126}. Best is trial 96 with value: -2.911444722265231.\n"
     ]
    },
    {
     "name": "stderr",
     "output_type": "stream",
     "text": [
      "\u001b[32m[I 2022-11-15 13:20:16,686]\u001b[0m Trial 101 finished with value: -1.522056830438638 and parameters: {'x': 1.5485059444971427, 'y': 1.5339941696142465}. Best is trial 96 with value: -2.911444722265231.\u001b[0m\n"
     ]
    },
    {
     "name": "stdout",
     "output_type": "stream",
     "text": [
      "Trial 101 finished with value: -1.522056830438638 and parameters: {'x': 1.5485059444971427, 'y': 1.5339941696142465}. Best is trial 96 with value: -2.911444722265231.\n",
      "Trial 101 finished with value: -1.522056830438638 and parameters: {'x': 1.5485059444971427, 'y': 1.5339941696142465}. Best is trial 96 with value: -2.911444722265231.\n",
      "Trial 101 finished with value: -1.522056830438638 and parameters: {'x': 1.5485059444971427, 'y': 1.5339941696142465}. Best is trial 96 with value: -2.911444722265231.\n"
     ]
    },
    {
     "name": "stderr",
     "output_type": "stream",
     "text": [
      "\u001b[32m[I 2022-11-15 13:20:16,690]\u001b[0m Trial 102 finished with value: 0.51442511843045 and parameters: {'x': 0.5031432096787096, 'y': 1.4704070054369236}. Best is trial 96 with value: -2.911444722265231.\u001b[0m\n"
     ]
    },
    {
     "name": "stdout",
     "output_type": "stream",
     "text": [
      "Trial 102 finished with value: 0.51442511843045 and parameters: {'x': 0.5031432096787096, 'y': 1.4704070054369236}. Best is trial 96 with value: -2.911444722265231.\n",
      "Trial 102 finished with value: 0.51442511843045 and parameters: {'x': 0.5031432096787096, 'y': 1.4704070054369236}. Best is trial 96 with value: -2.911444722265231.\n",
      "Trial 102 finished with value: 0.51442511843045 and parameters: {'x': 0.5031432096787096, 'y': 1.4704070054369236}. Best is trial 96 with value: -2.911444722265231.\n"
     ]
    },
    {
     "name": "stderr",
     "output_type": "stream",
     "text": [
      "\u001b[32m[I 2022-11-15 13:20:16,694]\u001b[0m Trial 103 finished with value: -0.4313447814607287 and parameters: {'x': 1.7323463700272075, 'y': -0.06715596513733013}. Best is trial 96 with value: -2.911444722265231.\u001b[0m\n"
     ]
    },
    {
     "name": "stdout",
     "output_type": "stream",
     "text": [
      "Trial 103 finished with value: -0.4313447814607287 and parameters: {'x': 1.7323463700272075, 'y': -0.06715596513733013}. Best is trial 96 with value: -2.911444722265231.\n",
      "Trial 103 finished with value: -0.4313447814607287 and parameters: {'x': 1.7323463700272075, 'y': -0.06715596513733013}. Best is trial 96 with value: -2.911444722265231.\n",
      "Trial 103 finished with value: -0.4313447814607287 and parameters: {'x': 1.7323463700272075, 'y': -0.06715596513733013}. Best is trial 96 with value: -2.911444722265231.\n"
     ]
    },
    {
     "name": "stderr",
     "output_type": "stream",
     "text": [
      "\u001b[32m[I 2022-11-15 13:20:16,698]\u001b[0m Trial 104 finished with value: -0.5064849142522767 and parameters: {'x': 1.440870811148842, 'y': 1.6625025859023335}. Best is trial 96 with value: -2.911444722265231.\u001b[0m\n"
     ]
    },
    {
     "name": "stdout",
     "output_type": "stream",
     "text": [
      "Trial 104 finished with value: -0.5064849142522767 and parameters: {'x': 1.440870811148842, 'y': 1.6625025859023335}. Best is trial 96 with value: -2.911444722265231.\n",
      "Trial 104 finished with value: -0.5064849142522767 and parameters: {'x': 1.440870811148842, 'y': 1.6625025859023335}. Best is trial 96 with value: -2.911444722265231.\n",
      "Trial 104 finished with value: -0.5064849142522767 and parameters: {'x': 1.440870811148842, 'y': 1.6625025859023335}. Best is trial 96 with value: -2.911444722265231.\n"
     ]
    },
    {
     "name": "stderr",
     "output_type": "stream",
     "text": [
      "\u001b[32m[I 2022-11-15 13:20:16,703]\u001b[0m Trial 105 finished with value: -1.70946828058851 and parameters: {'x': 1.6003984737753814, 'y': 1.2380681252183516}. Best is trial 96 with value: -2.911444722265231.\u001b[0m\n"
     ]
    },
    {
     "name": "stdout",
     "output_type": "stream",
     "text": [
      "Trial 105 finished with value: -1.70946828058851 and parameters: {'x': 1.6003984737753814, 'y': 1.2380681252183516}. Best is trial 96 with value: -2.911444722265231.\n",
      "Trial 105 finished with value: -1.70946828058851 and parameters: {'x': 1.6003984737753814, 'y': 1.2380681252183516}. Best is trial 96 with value: -2.911444722265231.\n",
      "Trial 105 finished with value: -1.70946828058851 and parameters: {'x': 1.6003984737753814, 'y': 1.2380681252183516}. Best is trial 96 with value: -2.911444722265231.\n"
     ]
    },
    {
     "name": "stderr",
     "output_type": "stream",
     "text": [
      "\u001b[32m[I 2022-11-15 13:20:16,707]\u001b[0m Trial 106 finished with value: -0.10842573742173431 and parameters: {'x': 1.2270614574188086, 'y': -0.31816290719100837}. Best is trial 96 with value: -2.911444722265231.\u001b[0m\n"
     ]
    },
    {
     "name": "stdout",
     "output_type": "stream",
     "text": [
      "Trial 106 finished with value: -0.10842573742173431 and parameters: {'x': 1.2270614574188086, 'y': -0.31816290719100837}. Best is trial 96 with value: -2.911444722265231.\n",
      "Trial 106 finished with value: -0.10842573742173431 and parameters: {'x': 1.2270614574188086, 'y': -0.31816290719100837}. Best is trial 96 with value: -2.911444722265231.\n",
      "Trial 106 finished with value: -0.10842573742173431 and parameters: {'x': 1.2270614574188086, 'y': -0.31816290719100837}. Best is trial 96 with value: -2.911444722265231.\n"
     ]
    },
    {
     "name": "stderr",
     "output_type": "stream",
     "text": [
      "\u001b[32m[I 2022-11-15 13:20:16,711]\u001b[0m Trial 107 finished with value: 1.6215818754716782 and parameters: {'x': 0.9778718635616319, 'y': 1.3944040305182492}. Best is trial 96 with value: -2.911444722265231.\u001b[0m\n"
     ]
    },
    {
     "name": "stdout",
     "output_type": "stream",
     "text": [
      "Trial 107 finished with value: 1.6215818754716782 and parameters: {'x': 0.9778718635616319, 'y': 1.3944040305182492}. Best is trial 96 with value: -2.911444722265231.\n",
      "Trial 107 finished with value: 1.6215818754716782 and parameters: {'x': 0.9778718635616319, 'y': 1.3944040305182492}. Best is trial 96 with value: -2.911444722265231.\n",
      "Trial 107 finished with value: 1.6215818754716782 and parameters: {'x': 0.9778718635616319, 'y': 1.3944040305182492}. Best is trial 96 with value: -2.911444722265231.\n"
     ]
    },
    {
     "name": "stderr",
     "output_type": "stream",
     "text": [
      "\u001b[32m[I 2022-11-15 13:20:16,715]\u001b[0m Trial 108 finished with value: 2.1073253737564266 and parameters: {'x': 1.8204454705886803, 'y': 0.9326860441183615}. Best is trial 96 with value: -2.911444722265231.\u001b[0m\n"
     ]
    },
    {
     "name": "stdout",
     "output_type": "stream",
     "text": [
      "Trial 108 finished with value: 2.1073253737564266 and parameters: {'x': 1.8204454705886803, 'y': 0.9326860441183615}. Best is trial 96 with value: -2.911444722265231.\n",
      "Trial 108 finished with value: 2.1073253737564266 and parameters: {'x': 1.8204454705886803, 'y': 0.9326860441183615}. Best is trial 96 with value: -2.911444722265231.\n",
      "Trial 108 finished with value: 2.1073253737564266 and parameters: {'x': 1.8204454705886803, 'y': 0.9326860441183615}. Best is trial 96 with value: -2.911444722265231.\n"
     ]
    },
    {
     "name": "stderr",
     "output_type": "stream",
     "text": [
      "\u001b[32m[I 2022-11-15 13:20:16,719]\u001b[0m Trial 109 finished with value: 0.7019580473242659 and parameters: {'x': 1.3441237611866832, 'y': 1.0434849181756913}. Best is trial 96 with value: -2.911444722265231.\u001b[0m\n"
     ]
    },
    {
     "name": "stdout",
     "output_type": "stream",
     "text": [
      "Trial 109 finished with value: 0.7019580473242659 and parameters: {'x': 1.3441237611866832, 'y': 1.0434849181756913}. Best is trial 96 with value: -2.911444722265231.\n",
      "Trial 109 finished with value: 0.7019580473242659 and parameters: {'x': 1.3441237611866832, 'y': 1.0434849181756913}. Best is trial 96 with value: -2.911444722265231.\n",
      "Trial 109 finished with value: 0.7019580473242659 and parameters: {'x': 1.3441237611866832, 'y': 1.0434849181756913}. Best is trial 96 with value: -2.911444722265231.\n"
     ]
    },
    {
     "name": "stderr",
     "output_type": "stream",
     "text": [
      "\u001b[32m[I 2022-11-15 13:20:16,723]\u001b[0m Trial 110 finished with value: 2.4109210157212737 and parameters: {'x': 1.9199453756555573, 'y': 1.3018255778723316}. Best is trial 96 with value: -2.911444722265231.\u001b[0m\n"
     ]
    },
    {
     "name": "stdout",
     "output_type": "stream",
     "text": [
      "Trial 110 finished with value: 2.4109210157212737 and parameters: {'x': 1.9199453756555573, 'y': 1.3018255778723316}. Best is trial 96 with value: -2.911444722265231.\n",
      "Trial 110 finished with value: 2.4109210157212737 and parameters: {'x': 1.9199453756555573, 'y': 1.3018255778723316}. Best is trial 96 with value: -2.911444722265231.\n",
      "Trial 110 finished with value: 2.4109210157212737 and parameters: {'x': 1.9199453756555573, 'y': 1.3018255778723316}. Best is trial 96 with value: -2.911444722265231.\n"
     ]
    },
    {
     "name": "stderr",
     "output_type": "stream",
     "text": [
      "\u001b[32m[I 2022-11-15 13:20:16,727]\u001b[0m Trial 111 finished with value: -1.462751824007727 and parameters: {'x': 1.519749493318273, 'y': 1.1511802583624742}. Best is trial 96 with value: -2.911444722265231.\u001b[0m\n"
     ]
    },
    {
     "name": "stdout",
     "output_type": "stream",
     "text": [
      "Trial 111 finished with value: -1.462751824007727 and parameters: {'x': 1.519749493318273, 'y': 1.1511802583624742}. Best is trial 96 with value: -2.911444722265231.\n",
      "Trial 111 finished with value: -1.462751824007727 and parameters: {'x': 1.519749493318273, 'y': 1.1511802583624742}. Best is trial 96 with value: -2.911444722265231.\n",
      "Trial 111 finished with value: -1.462751824007727 and parameters: {'x': 1.519749493318273, 'y': 1.1511802583624742}. Best is trial 96 with value: -2.911444722265231.\n"
     ]
    },
    {
     "name": "stderr",
     "output_type": "stream",
     "text": [
      "\u001b[32m[I 2022-11-15 13:20:16,731]\u001b[0m Trial 112 finished with value: -0.2987311346108903 and parameters: {'x': 1.6332995749326513, 'y': 1.3576894723455912}. Best is trial 96 with value: -2.911444722265231.\u001b[0m\n"
     ]
    },
    {
     "name": "stdout",
     "output_type": "stream",
     "text": [
      "Trial 112 finished with value: -0.2987311346108903 and parameters: {'x': 1.6332995749326513, 'y': 1.3576894723455912}. Best is trial 96 with value: -2.911444722265231.\n",
      "Trial 112 finished with value: -0.2987311346108903 and parameters: {'x': 1.6332995749326513, 'y': 1.3576894723455912}. Best is trial 96 with value: -2.911444722265231.\n",
      "Trial 112 finished with value: -0.2987311346108903 and parameters: {'x': 1.6332995749326513, 'y': 1.3576894723455912}. Best is trial 96 with value: -2.911444722265231.\n"
     ]
    },
    {
     "name": "stderr",
     "output_type": "stream",
     "text": [
      "\u001b[32m[I 2022-11-15 13:20:16,736]\u001b[0m Trial 113 finished with value: -1.7532008999544373 and parameters: {'x': 1.701438991867091, 'y': 1.0651843708227442}. Best is trial 96 with value: -2.911444722265231.\u001b[0m\n"
     ]
    },
    {
     "name": "stdout",
     "output_type": "stream",
     "text": [
      "Trial 113 finished with value: -1.7532008999544373 and parameters: {'x': 1.701438991867091, 'y': 1.0651843708227442}. Best is trial 96 with value: -2.911444722265231.\n",
      "Trial 113 finished with value: -1.7532008999544373 and parameters: {'x': 1.701438991867091, 'y': 1.0651843708227442}. Best is trial 96 with value: -2.911444722265231.\n",
      "Trial 113 finished with value: -1.7532008999544373 and parameters: {'x': 1.701438991867091, 'y': 1.0651843708227442}. Best is trial 96 with value: -2.911444722265231.\n"
     ]
    },
    {
     "name": "stderr",
     "output_type": "stream",
     "text": [
      "\u001b[32m[I 2022-11-15 13:20:16,740]\u001b[0m Trial 114 finished with value: 0.44892478535203395 and parameters: {'x': 1.5342582427003044, 'y': 1.8016626892490377}. Best is trial 96 with value: -2.911444722265231.\u001b[0m\n"
     ]
    },
    {
     "name": "stdout",
     "output_type": "stream",
     "text": [
      "Trial 114 finished with value: 0.44892478535203395 and parameters: {'x': 1.5342582427003044, 'y': 1.8016626892490377}. Best is trial 96 with value: -2.911444722265231.\n",
      "Trial 114 finished with value: 0.44892478535203395 and parameters: {'x': 1.5342582427003044, 'y': 1.8016626892490377}. Best is trial 96 with value: -2.911444722265231.\n",
      "Trial 114 finished with value: 0.44892478535203395 and parameters: {'x': 1.5342582427003044, 'y': 1.8016626892490377}. Best is trial 96 with value: -2.911444722265231.\n"
     ]
    },
    {
     "name": "stderr",
     "output_type": "stream",
     "text": [
      "\u001b[32m[I 2022-11-15 13:20:16,744]\u001b[0m Trial 115 finished with value: -0.5917775131552097 and parameters: {'x': 1.4375506801882583, 'y': 1.6166095093600652}. Best is trial 96 with value: -2.911444722265231.\u001b[0m\n"
     ]
    },
    {
     "name": "stdout",
     "output_type": "stream",
     "text": [
      "Trial 115 finished with value: -0.5917775131552097 and parameters: {'x': 1.4375506801882583, 'y': 1.6166095093600652}. Best is trial 96 with value: -2.911444722265231.\n",
      "Trial 115 finished with value: -0.5917775131552097 and parameters: {'x': 1.4375506801882583, 'y': 1.6166095093600652}. Best is trial 96 with value: -2.911444722265231.\n",
      "Trial 115 finished with value: -0.5917775131552097 and parameters: {'x': 1.4375506801882583, 'y': 1.6166095093600652}. Best is trial 96 with value: -2.911444722265231.\n"
     ]
    },
    {
     "name": "stderr",
     "output_type": "stream",
     "text": [
      "\u001b[32m[I 2022-11-15 13:20:16,748]\u001b[0m Trial 116 finished with value: -0.9397081255590489 and parameters: {'x': 1.1592755475780814, 'y': 1.493938450532353}. Best is trial 96 with value: -2.911444722265231.\u001b[0m\n"
     ]
    },
    {
     "name": "stdout",
     "output_type": "stream",
     "text": [
      "Trial 116 finished with value: -0.9397081255590489 and parameters: {'x': 1.1592755475780814, 'y': 1.493938450532353}. Best is trial 96 with value: -2.911444722265231.\n",
      "Trial 116 finished with value: -0.9397081255590489 and parameters: {'x': 1.1592755475780814, 'y': 1.493938450532353}. Best is trial 96 with value: -2.911444722265231.\n",
      "Trial 116 finished with value: -0.9397081255590489 and parameters: {'x': 1.1592755475780814, 'y': 1.493938450532353}. Best is trial 96 with value: -2.911444722265231.\n"
     ]
    },
    {
     "name": "stderr",
     "output_type": "stream",
     "text": [
      "\u001b[32m[I 2022-11-15 13:20:16,752]\u001b[0m Trial 117 finished with value: 1.0150588313573432 and parameters: {'x': 1.7837458014329495, 'y': 0.7793645376507856}. Best is trial 96 with value: -2.911444722265231.\u001b[0m\n"
     ]
    },
    {
     "name": "stdout",
     "output_type": "stream",
     "text": [
      "Trial 117 finished with value: 1.0150588313573432 and parameters: {'x': 1.7837458014329495, 'y': 0.7793645376507856}. Best is trial 96 with value: -2.911444722265231.\n",
      "Trial 117 finished with value: 1.0150588313573432 and parameters: {'x': 1.7837458014329495, 'y': 0.7793645376507856}. Best is trial 96 with value: -2.911444722265231.\n",
      "Trial 117 finished with value: 1.0150588313573432 and parameters: {'x': 1.7837458014329495, 'y': 0.7793645376507856}. Best is trial 96 with value: -2.911444722265231.\n"
     ]
    },
    {
     "name": "stderr",
     "output_type": "stream",
     "text": [
      "\u001b[32m[I 2022-11-15 13:20:16,757]\u001b[0m Trial 118 finished with value: -1.903187757564067 and parameters: {'x': 1.6526332810887168, 'y': 1.227036008161596}. Best is trial 96 with value: -2.911444722265231.\u001b[0m\n"
     ]
    },
    {
     "name": "stdout",
     "output_type": "stream",
     "text": [
      "Trial 118 finished with value: -1.903187757564067 and parameters: {'x': 1.6526332810887168, 'y': 1.227036008161596}. Best is trial 96 with value: -2.911444722265231.\n",
      "Trial 118 finished with value: -1.903187757564067 and parameters: {'x': 1.6526332810887168, 'y': 1.227036008161596}. Best is trial 96 with value: -2.911444722265231.\n",
      "Trial 118 finished with value: -1.903187757564067 and parameters: {'x': 1.6526332810887168, 'y': 1.227036008161596}. Best is trial 96 with value: -2.911444722265231.\n"
     ]
    },
    {
     "name": "stderr",
     "output_type": "stream",
     "text": [
      "\u001b[32m[I 2022-11-15 13:20:16,761]\u001b[0m Trial 119 finished with value: -0.13020124886213957 and parameters: {'x': 1.30923488926984, 'y': 1.1655909949126435}. Best is trial 96 with value: -2.911444722265231.\u001b[0m\n"
     ]
    },
    {
     "name": "stdout",
     "output_type": "stream",
     "text": [
      "Trial 119 finished with value: -0.13020124886213957 and parameters: {'x': 1.30923488926984, 'y': 1.1655909949126435}. Best is trial 96 with value: -2.911444722265231.\n",
      "Trial 119 finished with value: -0.13020124886213957 and parameters: {'x': 1.30923488926984, 'y': 1.1655909949126435}. Best is trial 96 with value: -2.911444722265231.\n",
      "Trial 119 finished with value: -0.13020124886213957 and parameters: {'x': 1.30923488926984, 'y': 1.1655909949126435}. Best is trial 96 with value: -2.911444722265231.\n"
     ]
    },
    {
     "name": "stderr",
     "output_type": "stream",
     "text": [
      "\u001b[32m[I 2022-11-15 13:20:16,765]\u001b[0m Trial 120 finished with value: -0.5565852675065234 and parameters: {'x': 1.5842118630880146, 'y': 0.9098353355143398}. Best is trial 96 with value: -2.911444722265231.\u001b[0m\n"
     ]
    },
    {
     "name": "stdout",
     "output_type": "stream",
     "text": [
      "Trial 120 finished with value: -0.5565852675065234 and parameters: {'x': 1.5842118630880146, 'y': 0.9098353355143398}. Best is trial 96 with value: -2.911444722265231.\n",
      "Trial 120 finished with value: -0.5565852675065234 and parameters: {'x': 1.5842118630880146, 'y': 0.9098353355143398}. Best is trial 96 with value: -2.911444722265231.\n",
      "Trial 120 finished with value: -0.5565852675065234 and parameters: {'x': 1.5842118630880146, 'y': 0.9098353355143398}. Best is trial 96 with value: -2.911444722265231.\n"
     ]
    },
    {
     "name": "stderr",
     "output_type": "stream",
     "text": [
      "\u001b[32m[I 2022-11-15 13:20:16,769]\u001b[0m Trial 121 finished with value: -1.7978022953055262 and parameters: {'x': 1.7175330772410524, 'y': 1.119256685989914}. Best is trial 96 with value: -2.911444722265231.\u001b[0m\n"
     ]
    },
    {
     "name": "stdout",
     "output_type": "stream",
     "text": [
      "Trial 121 finished with value: -1.7978022953055262 and parameters: {'x': 1.7175330772410524, 'y': 1.119256685989914}. Best is trial 96 with value: -2.911444722265231.\n",
      "Trial 121 finished with value: -1.7978022953055262 and parameters: {'x': 1.7175330772410524, 'y': 1.119256685989914}. Best is trial 96 with value: -2.911444722265231.\n",
      "Trial 121 finished with value: -1.7978022953055262 and parameters: {'x': 1.7175330772410524, 'y': 1.119256685989914}. Best is trial 96 with value: -2.911444722265231.\n"
     ]
    },
    {
     "name": "stderr",
     "output_type": "stream",
     "text": [
      "\u001b[32m[I 2022-11-15 13:20:16,774]\u001b[0m Trial 122 finished with value: 2.2673841389351272 and parameters: {'x': 1.8575987171736, 'y': 0.9608354381555486}. Best is trial 96 with value: -2.911444722265231.\u001b[0m\n"
     ]
    },
    {
     "name": "stdout",
     "output_type": "stream",
     "text": [
      "Trial 122 finished with value: 2.2673841389351272 and parameters: {'x': 1.8575987171736, 'y': 0.9608354381555486}. Best is trial 96 with value: -2.911444722265231.\n",
      "Trial 122 finished with value: 2.2673841389351272 and parameters: {'x': 1.8575987171736, 'y': 0.9608354381555486}. Best is trial 96 with value: -2.911444722265231.\n",
      "Trial 122 finished with value: 2.2673841389351272 and parameters: {'x': 1.8575987171736, 'y': 0.9608354381555486}. Best is trial 96 with value: -2.911444722265231.\n"
     ]
    },
    {
     "name": "stderr",
     "output_type": "stream",
     "text": [
      "\u001b[32m[I 2022-11-15 13:20:16,778]\u001b[0m Trial 123 finished with value: 0.8118933525177533 and parameters: {'x': 1.4828140596544053, 'y': 1.2815009989394952}. Best is trial 96 with value: -2.911444722265231.\u001b[0m\n"
     ]
    },
    {
     "name": "stdout",
     "output_type": "stream",
     "text": [
      "Trial 123 finished with value: 0.8118933525177533 and parameters: {'x': 1.4828140596544053, 'y': 1.2815009989394952}. Best is trial 96 with value: -2.911444722265231.\n",
      "Trial 123 finished with value: 0.8118933525177533 and parameters: {'x': 1.4828140596544053, 'y': 1.2815009989394952}. Best is trial 96 with value: -2.911444722265231.\n",
      "Trial 123 finished with value: 0.8118933525177533 and parameters: {'x': 1.4828140596544053, 'y': 1.2815009989394952}. Best is trial 96 with value: -2.911444722265231.\n"
     ]
    },
    {
     "name": "stderr",
     "output_type": "stream",
     "text": [
      "\u001b[32m[I 2022-11-15 13:20:16,782]\u001b[0m Trial 124 finished with value: -1.909792845548298 and parameters: {'x': 1.7119076724182865, 'y': 1.1220447262839075}. Best is trial 96 with value: -2.911444722265231.\u001b[0m\n"
     ]
    },
    {
     "name": "stdout",
     "output_type": "stream",
     "text": [
      "Trial 124 finished with value: -1.909792845548298 and parameters: {'x': 1.7119076724182865, 'y': 1.1220447262839075}. Best is trial 96 with value: -2.911444722265231.\n",
      "Trial 124 finished with value: -1.909792845548298 and parameters: {'x': 1.7119076724182865, 'y': 1.1220447262839075}. Best is trial 96 with value: -2.911444722265231.\n",
      "Trial 124 finished with value: -1.909792845548298 and parameters: {'x': 1.7119076724182865, 'y': 1.1220447262839075}. Best is trial 96 with value: -2.911444722265231.\n"
     ]
    },
    {
     "name": "stderr",
     "output_type": "stream",
     "text": [
      "\u001b[32m[I 2022-11-15 13:20:16,787]\u001b[0m Trial 125 finished with value: 0.7786599107282661 and parameters: {'x': 1.3757639151769383, 'y': -1.5318595523803349}. Best is trial 96 with value: -2.911444722265231.\u001b[0m\n"
     ]
    },
    {
     "name": "stdout",
     "output_type": "stream",
     "text": [
      "Trial 125 finished with value: 0.7786599107282661 and parameters: {'x': 1.3757639151769383, 'y': -1.5318595523803349}. Best is trial 96 with value: -2.911444722265231.\n",
      "Trial 125 finished with value: 0.7786599107282661 and parameters: {'x': 1.3757639151769383, 'y': -1.5318595523803349}. Best is trial 96 with value: -2.911444722265231.\n",
      "Trial 125 finished with value: 0.7786599107282661 and parameters: {'x': 1.3757639151769383, 'y': -1.5318595523803349}. Best is trial 96 with value: -2.911444722265231.\n"
     ]
    },
    {
     "name": "stderr",
     "output_type": "stream",
     "text": [
      "\u001b[32m[I 2022-11-15 13:20:16,791]\u001b[0m Trial 126 finished with value: -0.36460511568572285 and parameters: {'x': 1.639279388072369, 'y': 1.413893735277642}. Best is trial 96 with value: -2.911444722265231.\u001b[0m\n"
     ]
    },
    {
     "name": "stdout",
     "output_type": "stream",
     "text": [
      "Trial 126 finished with value: -0.36460511568572285 and parameters: {'x': 1.639279388072369, 'y': 1.413893735277642}. Best is trial 96 with value: -2.911444722265231.\n",
      "Trial 126 finished with value: -0.36460511568572285 and parameters: {'x': 1.639279388072369, 'y': 1.413893735277642}. Best is trial 96 with value: -2.911444722265231.\n",
      "Trial 126 finished with value: -0.36460511568572285 and parameters: {'x': 1.639279388072369, 'y': 1.413893735277642}. Best is trial 96 with value: -2.911444722265231.\n"
     ]
    },
    {
     "name": "stderr",
     "output_type": "stream",
     "text": [
      "\u001b[32m[I 2022-11-15 13:20:16,795]\u001b[0m Trial 127 finished with value: -0.0994973998907307 and parameters: {'x': 1.7934050865470341, 'y': 1.5574947371160826}. Best is trial 96 with value: -2.911444722265231.\u001b[0m\n"
     ]
    },
    {
     "name": "stdout",
     "output_type": "stream",
     "text": [
      "Trial 127 finished with value: -0.0994973998907307 and parameters: {'x': 1.7934050865470341, 'y': 1.5574947371160826}. Best is trial 96 with value: -2.911444722265231.\n",
      "Trial 127 finished with value: -0.0994973998907307 and parameters: {'x': 1.7934050865470341, 'y': 1.5574947371160826}. Best is trial 96 with value: -2.911444722265231.\n",
      "Trial 127 finished with value: -0.0994973998907307 and parameters: {'x': 1.7934050865470341, 'y': 1.5574947371160826}. Best is trial 96 with value: -2.911444722265231.\n"
     ]
    },
    {
     "name": "stderr",
     "output_type": "stream",
     "text": [
      "\u001b[32m[I 2022-11-15 13:20:16,799]\u001b[0m Trial 128 finished with value: -0.6542373850488991 and parameters: {'x': 1.9999047639311347, 'y': 1.7188065169884377}. Best is trial 96 with value: -2.911444722265231.\u001b[0m\n"
     ]
    },
    {
     "name": "stdout",
     "output_type": "stream",
     "text": [
      "Trial 128 finished with value: -0.6542373850488991 and parameters: {'x': 1.9999047639311347, 'y': 1.7188065169884377}. Best is trial 96 with value: -2.911444722265231.\n",
      "Trial 128 finished with value: -0.6542373850488991 and parameters: {'x': 1.9999047639311347, 'y': 1.7188065169884377}. Best is trial 96 with value: -2.911444722265231.\n",
      "Trial 128 finished with value: -0.6542373850488991 and parameters: {'x': 1.9999047639311347, 'y': 1.7188065169884377}. Best is trial 96 with value: -2.911444722265231.\n"
     ]
    },
    {
     "name": "stderr",
     "output_type": "stream",
     "text": [
      "\u001b[32m[I 2022-11-15 13:20:16,803]\u001b[0m Trial 129 finished with value: -1.1685559605911466 and parameters: {'x': 1.5437355414839529, 'y': 0.7072127538656418}. Best is trial 96 with value: -2.911444722265231.\u001b[0m\n"
     ]
    },
    {
     "name": "stdout",
     "output_type": "stream",
     "text": [
      "Trial 129 finished with value: -1.1685559605911466 and parameters: {'x': 1.5437355414839529, 'y': 0.7072127538656418}. Best is trial 96 with value: -2.911444722265231.\n",
      "Trial 129 finished with value: -1.1685559605911466 and parameters: {'x': 1.5437355414839529, 'y': 0.7072127538656418}. Best is trial 96 with value: -2.911444722265231.\n",
      "Trial 129 finished with value: -1.1685559605911466 and parameters: {'x': 1.5437355414839529, 'y': 0.7072127538656418}. Best is trial 96 with value: -2.911444722265231.\n"
     ]
    },
    {
     "name": "stderr",
     "output_type": "stream",
     "text": [
      "\u001b[32m[I 2022-11-15 13:20:16,808]\u001b[0m Trial 130 finished with value: 0.3253892482396331 and parameters: {'x': 1.4855133971076513, 'y': 0.9954849263110962}. Best is trial 96 with value: -2.911444722265231.\u001b[0m\n"
     ]
    },
    {
     "name": "stdout",
     "output_type": "stream",
     "text": [
      "Trial 130 finished with value: 0.3253892482396331 and parameters: {'x': 1.4855133971076513, 'y': 0.9954849263110962}. Best is trial 96 with value: -2.911444722265231.\n",
      "Trial 130 finished with value: 0.3253892482396331 and parameters: {'x': 1.4855133971076513, 'y': 0.9954849263110962}. Best is trial 96 with value: -2.911444722265231.\n",
      "Trial 130 finished with value: 0.3253892482396331 and parameters: {'x': 1.4855133971076513, 'y': 0.9954849263110962}. Best is trial 96 with value: -2.911444722265231.\n"
     ]
    },
    {
     "name": "stderr",
     "output_type": "stream",
     "text": [
      "\u001b[32m[I 2022-11-15 13:20:16,812]\u001b[0m Trial 131 finished with value: -2.8652180731421844 and parameters: {'x': 1.5842401075892856, 'y': 1.6621502353695707}. Best is trial 96 with value: -2.911444722265231.\u001b[0m\n"
     ]
    },
    {
     "name": "stdout",
     "output_type": "stream",
     "text": [
      "Trial 131 finished with value: -2.8652180731421844 and parameters: {'x': 1.5842401075892856, 'y': 1.6621502353695707}. Best is trial 96 with value: -2.911444722265231.\n",
      "Trial 131 finished with value: -2.8652180731421844 and parameters: {'x': 1.5842401075892856, 'y': 1.6621502353695707}. Best is trial 96 with value: -2.911444722265231.\n",
      "Trial 131 finished with value: -2.8652180731421844 and parameters: {'x': 1.5842401075892856, 'y': 1.6621502353695707}. Best is trial 96 with value: -2.911444722265231.\n"
     ]
    },
    {
     "name": "stderr",
     "output_type": "stream",
     "text": [
      "\u001b[32m[I 2022-11-15 13:20:16,816]\u001b[0m Trial 132 finished with value: 0.5762145185610477 and parameters: {'x': 1.6985066228175076, 'y': 1.9216998077855436}. Best is trial 96 with value: -2.911444722265231.\u001b[0m\n"
     ]
    },
    {
     "name": "stdout",
     "output_type": "stream",
     "text": [
      "Trial 132 finished with value: 0.5762145185610477 and parameters: {'x': 1.6985066228175076, 'y': 1.9216998077855436}. Best is trial 96 with value: -2.911444722265231.\n",
      "Trial 132 finished with value: 0.5762145185610477 and parameters: {'x': 1.6985066228175076, 'y': 1.9216998077855436}. Best is trial 96 with value: -2.911444722265231.\n",
      "Trial 132 finished with value: 0.5762145185610477 and parameters: {'x': 1.6985066228175076, 'y': 1.9216998077855436}. Best is trial 96 with value: -2.911444722265231.\n"
     ]
    },
    {
     "name": "stderr",
     "output_type": "stream",
     "text": [
      "\u001b[32m[I 2022-11-15 13:20:16,820]\u001b[0m Trial 133 finished with value: -2.9365447573537473 and parameters: {'x': 1.5879257317633677, 'y': 1.6579483184500903}. Best is trial 133 with value: -2.9365447573537473.\u001b[0m\n"
     ]
    },
    {
     "name": "stdout",
     "output_type": "stream",
     "text": [
      "Trial 133 finished with value: -2.9365447573537473 and parameters: {'x': 1.5879257317633677, 'y': 1.6579483184500903}. Best is trial 133 with value: -2.9365447573537473.\n",
      "Trial 133 finished with value: -2.9365447573537473 and parameters: {'x': 1.5879257317633677, 'y': 1.6579483184500903}. Best is trial 133 with value: -2.9365447573537473.\n",
      "Trial 133 finished with value: -2.9365447573537473 and parameters: {'x': 1.5879257317633677, 'y': 1.6579483184500903}. Best is trial 133 with value: -2.9365447573537473.\n"
     ]
    },
    {
     "name": "stderr",
     "output_type": "stream",
     "text": [
      "\u001b[32m[I 2022-11-15 13:20:16,824]\u001b[0m Trial 134 finished with value: -0.048969447304713976 and parameters: {'x': 1.393815976300275, 'y': 1.670575421657588}. Best is trial 133 with value: -2.9365447573537473.\u001b[0m\n"
     ]
    },
    {
     "name": "stdout",
     "output_type": "stream",
     "text": [
      "Trial 134 finished with value: -0.048969447304713976 and parameters: {'x': 1.393815976300275, 'y': 1.670575421657588}. Best is trial 133 with value: -2.9365447573537473.\n",
      "Trial 134 finished with value: -0.048969447304713976 and parameters: {'x': 1.393815976300275, 'y': 1.670575421657588}. Best is trial 133 with value: -2.9365447573537473.\n",
      "Trial 134 finished with value: -0.048969447304713976 and parameters: {'x': 1.393815976300275, 'y': 1.670575421657588}. Best is trial 133 with value: -2.9365447573537473.\n"
     ]
    },
    {
     "name": "stderr",
     "output_type": "stream",
     "text": [
      "\u001b[32m[I 2022-11-15 13:20:16,828]\u001b[0m Trial 135 finished with value: 0.9654796222156565 and parameters: {'x': -1.2023155209479757, 'y': 1.8380626303196477}. Best is trial 133 with value: -2.9365447573537473.\u001b[0m\n"
     ]
    },
    {
     "name": "stdout",
     "output_type": "stream",
     "text": [
      "Trial 135 finished with value: 0.9654796222156565 and parameters: {'x': -1.2023155209479757, 'y': 1.8380626303196477}. Best is trial 133 with value: -2.9365447573537473.\n",
      "Trial 135 finished with value: 0.9654796222156565 and parameters: {'x': -1.2023155209479757, 'y': 1.8380626303196477}. Best is trial 133 with value: -2.9365447573537473.\n",
      "Trial 135 finished with value: 0.9654796222156565 and parameters: {'x': -1.2023155209479757, 'y': 1.8380626303196477}. Best is trial 133 with value: -2.9365447573537473.\n"
     ]
    },
    {
     "name": "stderr",
     "output_type": "stream",
     "text": [
      "\u001b[32m[I 2022-11-15 13:20:16,833]\u001b[0m Trial 136 finished with value: -0.8423144620210264 and parameters: {'x': 1.5818391173228987, 'y': 1.4716946344931319}. Best is trial 133 with value: -2.9365447573537473.\u001b[0m\n"
     ]
    },
    {
     "name": "stdout",
     "output_type": "stream",
     "text": [
      "Trial 136 finished with value: -0.8423144620210264 and parameters: {'x': 1.5818391173228987, 'y': 1.4716946344931319}. Best is trial 133 with value: -2.9365447573537473.\n",
      "Trial 136 finished with value: -0.8423144620210264 and parameters: {'x': 1.5818391173228987, 'y': 1.4716946344931319}. Best is trial 133 with value: -2.9365447573537473.\n",
      "Trial 136 finished with value: -0.8423144620210264 and parameters: {'x': 1.5818391173228987, 'y': 1.4716946344931319}. Best is trial 133 with value: -2.9365447573537473.\n"
     ]
    },
    {
     "name": "stderr",
     "output_type": "stream",
     "text": [
      "\u001b[32m[I 2022-11-15 13:20:16,837]\u001b[0m Trial 137 finished with value: 0.0510898386749592 and parameters: {'x': 1.8380343034536546, 'y': 1.6123870973368084}. Best is trial 133 with value: -2.9365447573537473.\u001b[0m\n"
     ]
    },
    {
     "name": "stdout",
     "output_type": "stream",
     "text": [
      "Trial 137 finished with value: 0.0510898386749592 and parameters: {'x': 1.8380343034536546, 'y': 1.6123870973368084}. Best is trial 133 with value: -2.9365447573537473.\n",
      "Trial 137 finished with value: 0.0510898386749592 and parameters: {'x': 1.8380343034536546, 'y': 1.6123870973368084}. Best is trial 133 with value: -2.9365447573537473.\n",
      "Trial 137 finished with value: 0.0510898386749592 and parameters: {'x': 1.8380343034536546, 'y': 1.6123870973368084}. Best is trial 133 with value: -2.9365447573537473.\n"
     ]
    },
    {
     "name": "stderr",
     "output_type": "stream",
     "text": [
      "\u001b[32m[I 2022-11-15 13:20:16,841]\u001b[0m Trial 138 finished with value: -1.109724400344797 and parameters: {'x': 1.0872933130084288, 'y': 1.7435013291846058}. Best is trial 133 with value: -2.9365447573537473.\u001b[0m\n"
     ]
    },
    {
     "name": "stdout",
     "output_type": "stream",
     "text": [
      "Trial 138 finished with value: -1.109724400344797 and parameters: {'x': 1.0872933130084288, 'y': 1.7435013291846058}. Best is trial 133 with value: -2.9365447573537473.\n",
      "Trial 138 finished with value: -1.109724400344797 and parameters: {'x': 1.0872933130084288, 'y': 1.7435013291846058}. Best is trial 133 with value: -2.9365447573537473.\n",
      "Trial 138 finished with value: -1.109724400344797 and parameters: {'x': 1.0872933130084288, 'y': 1.7435013291846058}. Best is trial 133 with value: -2.9365447573537473.\n"
     ]
    },
    {
     "name": "stderr",
     "output_type": "stream",
     "text": [
      "\u001b[32m[I 2022-11-15 13:20:16,845]\u001b[0m Trial 139 finished with value: 1.6024894457479122 and parameters: {'x': 1.269893642036132, 'y': 1.350718186502706}. Best is trial 133 with value: -2.9365447573537473.\u001b[0m\n"
     ]
    },
    {
     "name": "stdout",
     "output_type": "stream",
     "text": [
      "Trial 139 finished with value: 1.6024894457479122 and parameters: {'x': 1.269893642036132, 'y': 1.350718186502706}. Best is trial 133 with value: -2.9365447573537473.\n",
      "Trial 139 finished with value: 1.6024894457479122 and parameters: {'x': 1.269893642036132, 'y': 1.350718186502706}. Best is trial 133 with value: -2.9365447573537473.\n",
      "Trial 139 finished with value: 1.6024894457479122 and parameters: {'x': 1.269893642036132, 'y': 1.350718186502706}. Best is trial 133 with value: -2.9365447573537473.\n"
     ]
    },
    {
     "name": "stderr",
     "output_type": "stream",
     "text": [
      "\u001b[32m[I 2022-11-15 13:20:16,850]\u001b[0m Trial 140 finished with value: -2.415418479815586 and parameters: {'x': 1.618470624584509, 'y': 1.5435032031781897}. Best is trial 133 with value: -2.9365447573537473.\u001b[0m\n"
     ]
    },
    {
     "name": "stdout",
     "output_type": "stream",
     "text": [
      "Trial 140 finished with value: -2.415418479815586 and parameters: {'x': 1.618470624584509, 'y': 1.5435032031781897}. Best is trial 133 with value: -2.9365447573537473.\n",
      "Trial 140 finished with value: -2.415418479815586 and parameters: {'x': 1.618470624584509, 'y': 1.5435032031781897}. Best is trial 133 with value: -2.9365447573537473.\n",
      "Trial 140 finished with value: -2.415418479815586 and parameters: {'x': 1.618470624584509, 'y': 1.5435032031781897}. Best is trial 133 with value: -2.9365447573537473.\n"
     ]
    },
    {
     "name": "stderr",
     "output_type": "stream",
     "text": [
      "\u001b[32m[I 2022-11-15 13:20:16,854]\u001b[0m Trial 141 finished with value: -2.38945014311385 and parameters: {'x': 1.6110660074489676, 'y': 1.5435398303471084}. Best is trial 133 with value: -2.9365447573537473.\u001b[0m\n"
     ]
    },
    {
     "name": "stdout",
     "output_type": "stream",
     "text": [
      "Trial 141 finished with value: -2.38945014311385 and parameters: {'x': 1.6110660074489676, 'y': 1.5435398303471084}. Best is trial 133 with value: -2.9365447573537473.\n",
      "Trial 141 finished with value: -2.38945014311385 and parameters: {'x': 1.6110660074489676, 'y': 1.5435398303471084}. Best is trial 133 with value: -2.9365447573537473.\n",
      "Trial 141 finished with value: -2.38945014311385 and parameters: {'x': 1.6110660074489676, 'y': 1.5435398303471084}. Best is trial 133 with value: -2.9365447573537473.\n"
     ]
    },
    {
     "name": "stderr",
     "output_type": "stream",
     "text": [
      "\u001b[32m[I 2022-11-15 13:20:16,858]\u001b[0m Trial 142 finished with value: -2.6184706039054095 and parameters: {'x': 1.6198809155381757, 'y': 1.5556867911599985}. Best is trial 133 with value: -2.9365447573537473.\u001b[0m\n"
     ]
    },
    {
     "name": "stdout",
     "output_type": "stream",
     "text": [
      "Trial 142 finished with value: -2.6184706039054095 and parameters: {'x': 1.6198809155381757, 'y': 1.5556867911599985}. Best is trial 133 with value: -2.9365447573537473.\n",
      "Trial 142 finished with value: -2.6184706039054095 and parameters: {'x': 1.6198809155381757, 'y': 1.5556867911599985}. Best is trial 133 with value: -2.9365447573537473.\n",
      "Trial 142 finished with value: -2.6184706039054095 and parameters: {'x': 1.6198809155381757, 'y': 1.5556867911599985}. Best is trial 133 with value: -2.9365447573537473.\n"
     ]
    },
    {
     "name": "stderr",
     "output_type": "stream",
     "text": [
      "\u001b[32m[I 2022-11-15 13:20:16,862]\u001b[0m Trial 143 finished with value: -1.1854390933830394 and parameters: {'x': 1.7674392085178068, 'y': 1.6499204995676002}. Best is trial 133 with value: -2.9365447573537473.\u001b[0m\n"
     ]
    },
    {
     "name": "stdout",
     "output_type": "stream",
     "text": [
      "Trial 143 finished with value: -1.1854390933830394 and parameters: {'x': 1.7674392085178068, 'y': 1.6499204995676002}. Best is trial 133 with value: -2.9365447573537473.\n",
      "Trial 143 finished with value: -1.1854390933830394 and parameters: {'x': 1.7674392085178068, 'y': 1.6499204995676002}. Best is trial 133 with value: -2.9365447573537473.\n",
      "Trial 143 finished with value: -1.1854390933830394 and parameters: {'x': 1.7674392085178068, 'y': 1.6499204995676002}. Best is trial 133 with value: -2.9365447573537473.\n"
     ]
    },
    {
     "name": "stderr",
     "output_type": "stream",
     "text": [
      "\u001b[32m[I 2022-11-15 13:20:16,867]\u001b[0m Trial 144 finished with value: -0.6341593687630024 and parameters: {'x': 1.458627047701178, 'y': 1.582198684657527}. Best is trial 133 with value: -2.9365447573537473.\u001b[0m\n"
     ]
    },
    {
     "name": "stdout",
     "output_type": "stream",
     "text": [
      "Trial 144 finished with value: -0.6341593687630024 and parameters: {'x': 1.458627047701178, 'y': 1.582198684657527}. Best is trial 133 with value: -2.9365447573537473.\n",
      "Trial 144 finished with value: -0.6341593687630024 and parameters: {'x': 1.458627047701178, 'y': 1.582198684657527}. Best is trial 133 with value: -2.9365447573537473.\n",
      "Trial 144 finished with value: -0.6341593687630024 and parameters: {'x': 1.458627047701178, 'y': 1.582198684657527}. Best is trial 133 with value: -2.9365447573537473.\n"
     ]
    },
    {
     "name": "stderr",
     "output_type": "stream",
     "text": [
      "\u001b[32m[I 2022-11-15 13:20:16,871]\u001b[0m Trial 145 finished with value: -0.5158971612077115 and parameters: {'x': 1.629368812615718, 'y': 1.8028382215398384}. Best is trial 133 with value: -2.9365447573537473.\u001b[0m\n"
     ]
    },
    {
     "name": "stdout",
     "output_type": "stream",
     "text": [
      "Trial 145 finished with value: -0.5158971612077115 and parameters: {'x': 1.629368812615718, 'y': 1.8028382215398384}. Best is trial 133 with value: -2.9365447573537473.\n",
      "Trial 145 finished with value: -0.5158971612077115 and parameters: {'x': 1.629368812615718, 'y': 1.8028382215398384}. Best is trial 133 with value: -2.9365447573537473.\n",
      "Trial 145 finished with value: -0.5158971612077115 and parameters: {'x': 1.629368812615718, 'y': 1.8028382215398384}. Best is trial 133 with value: -2.9365447573537473.\n"
     ]
    },
    {
     "name": "stderr",
     "output_type": "stream",
     "text": [
      "\u001b[32m[I 2022-11-15 13:20:16,876]\u001b[0m Trial 146 finished with value: -1.2165141389007759 and parameters: {'x': 1.5469636159529088, 'y': 1.51880802129369}. Best is trial 133 with value: -2.9365447573537473.\u001b[0m\n"
     ]
    },
    {
     "name": "stdout",
     "output_type": "stream",
     "text": [
      "Trial 146 finished with value: -1.2165141389007759 and parameters: {'x': 1.5469636159529088, 'y': 1.51880802129369}. Best is trial 133 with value: -2.9365447573537473.\n",
      "Trial 146 finished with value: -1.2165141389007759 and parameters: {'x': 1.5469636159529088, 'y': 1.51880802129369}. Best is trial 133 with value: -2.9365447573537473.\n",
      "Trial 146 finished with value: -1.2165141389007759 and parameters: {'x': 1.5469636159529088, 'y': 1.51880802129369}. Best is trial 133 with value: -2.9365447573537473.\n"
     ]
    },
    {
     "name": "stderr",
     "output_type": "stream",
     "text": [
      "\u001b[32m[I 2022-11-15 13:20:16,880]\u001b[0m Trial 147 finished with value: 2.6565823377218862 and parameters: {'x': 1.8790563227990973, 'y': 1.4549772722327399}. Best is trial 133 with value: -2.9365447573537473.\u001b[0m\n"
     ]
    },
    {
     "name": "stdout",
     "output_type": "stream",
     "text": [
      "Trial 147 finished with value: 2.6565823377218862 and parameters: {'x': 1.8790563227990973, 'y': 1.4549772722327399}. Best is trial 133 with value: -2.9365447573537473.\n",
      "Trial 147 finished with value: 2.6565823377218862 and parameters: {'x': 1.8790563227990973, 'y': 1.4549772722327399}. Best is trial 133 with value: -2.9365447573537473.\n",
      "Trial 147 finished with value: 2.6565823377218862 and parameters: {'x': 1.8790563227990973, 'y': 1.4549772722327399}. Best is trial 133 with value: -2.9365447573537473.\n"
     ]
    },
    {
     "name": "stderr",
     "output_type": "stream",
     "text": [
      "\u001b[32m[I 2022-11-15 13:20:16,902]\u001b[0m Trial 148 finished with value: -2.7587027888793685 and parameters: {'x': 1.6503092859606998, 'y': 1.6876456648298308}. Best is trial 133 with value: -2.9365447573537473.\u001b[0m\n"
     ]
    },
    {
     "name": "stdout",
     "output_type": "stream",
     "text": [
      "Trial 148 finished with value: -2.7587027888793685 and parameters: {'x': 1.6503092859606998, 'y': 1.6876456648298308}. Best is trial 133 with value: -2.9365447573537473.\n",
      "Trial 148 finished with value: -2.7587027888793685 and parameters: {'x': 1.6503092859606998, 'y': 1.6876456648298308}. Best is trial 133 with value: -2.9365447573537473.\n",
      "Trial 148 finished with value: -2.7587027888793685 and parameters: {'x': 1.6503092859606998, 'y': 1.6876456648298308}. Best is trial 133 with value: -2.9365447573537473.\n"
     ]
    },
    {
     "name": "stderr",
     "output_type": "stream",
     "text": [
      "\u001b[32m[I 2022-11-15 13:20:16,906]\u001b[0m Trial 149 finished with value: -0.6267205817792844 and parameters: {'x': 0.6564435601127452, 'y': 1.7490509614024072}. Best is trial 133 with value: -2.9365447573537473.\u001b[0m\n"
     ]
    },
    {
     "name": "stdout",
     "output_type": "stream",
     "text": [
      "Trial 149 finished with value: -0.6267205817792844 and parameters: {'x': 0.6564435601127452, 'y': 1.7490509614024072}. Best is trial 133 with value: -2.9365447573537473.\n",
      "Trial 149 finished with value: -0.6267205817792844 and parameters: {'x': 0.6564435601127452, 'y': 1.7490509614024072}. Best is trial 133 with value: -2.9365447573537473.\n",
      "Trial 149 finished with value: -0.6267205817792844 and parameters: {'x': 0.6564435601127452, 'y': 1.7490509614024072}. Best is trial 133 with value: -2.9365447573537473.\n"
     ]
    },
    {
     "name": "stderr",
     "output_type": "stream",
     "text": [
      "\u001b[32m[I 2022-11-15 13:20:16,910]\u001b[0m Trial 150 finished with value: 1.910524544728357 and parameters: {'x': 0.28208599263, 'y': 1.9010877528520918}. Best is trial 133 with value: -2.9365447573537473.\u001b[0m\n"
     ]
    },
    {
     "name": "stdout",
     "output_type": "stream",
     "text": [
      "Trial 150 finished with value: 1.910524544728357 and parameters: {'x': 0.28208599263, 'y': 1.9010877528520918}. Best is trial 133 with value: -2.9365447573537473.\n",
      "Trial 150 finished with value: 1.910524544728357 and parameters: {'x': 0.28208599263, 'y': 1.9010877528520918}. Best is trial 133 with value: -2.9365447573537473.\n",
      "Trial 150 finished with value: 1.910524544728357 and parameters: {'x': 0.28208599263, 'y': 1.9010877528520918}. Best is trial 133 with value: -2.9365447573537473.\n"
     ]
    },
    {
     "name": "stderr",
     "output_type": "stream",
     "text": [
      "\u001b[32m[I 2022-11-15 13:20:16,914]\u001b[0m Trial 151 finished with value: -2.4684093670596896 and parameters: {'x': 1.6716921802980873, 'y': 1.5605641855337629}. Best is trial 133 with value: -2.9365447573537473.\u001b[0m\n"
     ]
    },
    {
     "name": "stdout",
     "output_type": "stream",
     "text": [
      "Trial 151 finished with value: -2.4684093670596896 and parameters: {'x': 1.6716921802980873, 'y': 1.5605641855337629}. Best is trial 133 with value: -2.9365447573537473.\n",
      "Trial 151 finished with value: -2.4684093670596896 and parameters: {'x': 1.6716921802980873, 'y': 1.5605641855337629}. Best is trial 133 with value: -2.9365447573537473.\n",
      "Trial 151 finished with value: -2.4684093670596896 and parameters: {'x': 1.6716921802980873, 'y': 1.5605641855337629}. Best is trial 133 with value: -2.9365447573537473.\n"
     ]
    },
    {
     "name": "stderr",
     "output_type": "stream",
     "text": [
      "\u001b[32m[I 2022-11-15 13:20:16,919]\u001b[0m Trial 152 finished with value: -1.3415186568383282 and parameters: {'x': 1.7504535738686844, 'y': 1.6753110424374318}. Best is trial 133 with value: -2.9365447573537473.\u001b[0m\n"
     ]
    },
    {
     "name": "stdout",
     "output_type": "stream",
     "text": [
      "Trial 152 finished with value: -1.3415186568383282 and parameters: {'x': 1.7504535738686844, 'y': 1.6753110424374318}. Best is trial 133 with value: -2.9365447573537473.\n",
      "Trial 152 finished with value: -1.3415186568383282 and parameters: {'x': 1.7504535738686844, 'y': 1.6753110424374318}. Best is trial 133 with value: -2.9365447573537473.\n",
      "Trial 152 finished with value: -1.3415186568383282 and parameters: {'x': 1.7504535738686844, 'y': 1.6753110424374318}. Best is trial 133 with value: -2.9365447573537473.\n"
     ]
    },
    {
     "name": "stderr",
     "output_type": "stream",
     "text": [
      "\u001b[32m[I 2022-11-15 13:20:16,923]\u001b[0m Trial 153 finished with value: -2.0555864126303516 and parameters: {'x': 1.6514919313707084, 'y': 1.5262710453334414}. Best is trial 133 with value: -2.9365447573537473.\u001b[0m\n"
     ]
    },
    {
     "name": "stdout",
     "output_type": "stream",
     "text": [
      "Trial 153 finished with value: -2.0555864126303516 and parameters: {'x': 1.6514919313707084, 'y': 1.5262710453334414}. Best is trial 133 with value: -2.9365447573537473.\n",
      "Trial 153 finished with value: -2.0555864126303516 and parameters: {'x': 1.6514919313707084, 'y': 1.5262710453334414}. Best is trial 133 with value: -2.9365447573537473.\n",
      "Trial 153 finished with value: -2.0555864126303516 and parameters: {'x': 1.6514919313707084, 'y': 1.5262710453334414}. Best is trial 133 with value: -2.9365447573537473.\n"
     ]
    },
    {
     "name": "stderr",
     "output_type": "stream",
     "text": [
      "\u001b[32m[I 2022-11-15 13:20:16,927]\u001b[0m Trial 154 finished with value: -1.334995438803927 and parameters: {'x': 1.486972956258935, 'y': 1.6091488731680497}. Best is trial 133 with value: -2.9365447573537473.\u001b[0m\n"
     ]
    },
    {
     "name": "stdout",
     "output_type": "stream",
     "text": [
      "Trial 154 finished with value: -1.334995438803927 and parameters: {'x': 1.486972956258935, 'y': 1.6091488731680497}. Best is trial 133 with value: -2.9365447573537473.\n",
      "Trial 154 finished with value: -1.334995438803927 and parameters: {'x': 1.486972956258935, 'y': 1.6091488731680497}. Best is trial 133 with value: -2.9365447573537473.\n",
      "Trial 154 finished with value: -1.334995438803927 and parameters: {'x': 1.486972956258935, 'y': 1.6091488731680497}. Best is trial 133 with value: -2.9365447573537473.\n"
     ]
    },
    {
     "name": "stderr",
     "output_type": "stream",
     "text": [
      "\u001b[32m[I 2022-11-15 13:20:16,932]\u001b[0m Trial 155 finished with value: 2.5600275178978027 and parameters: {'x': 1.3992835343452419, 'y': 1.4168502527048052}. Best is trial 133 with value: -2.9365447573537473.\u001b[0m\n"
     ]
    },
    {
     "name": "stdout",
     "output_type": "stream",
     "text": [
      "Trial 155 finished with value: 2.5600275178978027 and parameters: {'x': 1.3992835343452419, 'y': 1.4168502527048052}. Best is trial 133 with value: -2.9365447573537473.\n",
      "Trial 155 finished with value: 2.5600275178978027 and parameters: {'x': 1.3992835343452419, 'y': 1.4168502527048052}. Best is trial 133 with value: -2.9365447573537473.\n",
      "Trial 155 finished with value: 2.5600275178978027 and parameters: {'x': 1.3992835343452419, 'y': 1.4168502527048052}. Best is trial 133 with value: -2.9365447573537473.\n"
     ]
    },
    {
     "name": "stderr",
     "output_type": "stream",
     "text": [
      "\u001b[32m[I 2022-11-15 13:20:16,936]\u001b[0m Trial 156 finished with value: -2.1463681481116006 and parameters: {'x': 1.6837953957980123, 'y': 1.7056789900013474}. Best is trial 133 with value: -2.9365447573537473.\u001b[0m\n"
     ]
    },
    {
     "name": "stdout",
     "output_type": "stream",
     "text": [
      "Trial 156 finished with value: -2.1463681481116006 and parameters: {'x': 1.6837953957980123, 'y': 1.7056789900013474}. Best is trial 133 with value: -2.9365447573537473.\n",
      "Trial 156 finished with value: -2.1463681481116006 and parameters: {'x': 1.6837953957980123, 'y': 1.7056789900013474}. Best is trial 133 with value: -2.9365447573537473.\n",
      "Trial 156 finished with value: -2.1463681481116006 and parameters: {'x': 1.6837953957980123, 'y': 1.7056789900013474}. Best is trial 133 with value: -2.9365447573537473.\n"
     ]
    },
    {
     "name": "stderr",
     "output_type": "stream",
     "text": [
      "\u001b[32m[I 2022-11-15 13:20:16,940]\u001b[0m Trial 157 finished with value: 2.6601848049888495 and parameters: {'x': 1.9387509544037975, 'y': 1.814264083025383}. Best is trial 133 with value: -2.9365447573537473.\u001b[0m\n"
     ]
    },
    {
     "name": "stdout",
     "output_type": "stream",
     "text": [
      "Trial 157 finished with value: 2.6601848049888495 and parameters: {'x': 1.9387509544037975, 'y': 1.814264083025383}. Best is trial 133 with value: -2.9365447573537473.\n",
      "Trial 157 finished with value: 2.6601848049888495 and parameters: {'x': 1.9387509544037975, 'y': 1.814264083025383}. Best is trial 133 with value: -2.9365447573537473.\n",
      "Trial 157 finished with value: 2.6601848049888495 and parameters: {'x': 1.9387509544037975, 'y': 1.814264083025383}. Best is trial 133 with value: -2.9365447573537473.\n"
     ]
    },
    {
     "name": "stderr",
     "output_type": "stream",
     "text": [
      "\u001b[32m[I 2022-11-15 13:20:16,944]\u001b[0m Trial 158 finished with value: -2.26984890973308 and parameters: {'x': 1.5722125920672083, 'y': 1.5575686152850652}. Best is trial 133 with value: -2.9365447573537473.\u001b[0m\n"
     ]
    },
    {
     "name": "stdout",
     "output_type": "stream",
     "text": [
      "Trial 158 finished with value: -2.26984890973308 and parameters: {'x': 1.5722125920672083, 'y': 1.5575686152850652}. Best is trial 133 with value: -2.9365447573537473.\n",
      "Trial 158 finished with value: -2.26984890973308 and parameters: {'x': 1.5722125920672083, 'y': 1.5575686152850652}. Best is trial 133 with value: -2.9365447573537473.\n",
      "Trial 158 finished with value: -2.26984890973308 and parameters: {'x': 1.5722125920672083, 'y': 1.5575686152850652}. Best is trial 133 with value: -2.9365447573537473.\n"
     ]
    },
    {
     "name": "stderr",
     "output_type": "stream",
     "text": [
      "\u001b[32m[I 2022-11-15 13:20:16,949]\u001b[0m Trial 159 finished with value: 2.5849802374088746 and parameters: {'x': 1.8124214954440987, 'y': 1.3535490371605607}. Best is trial 133 with value: -2.9365447573537473.\u001b[0m\n"
     ]
    },
    {
     "name": "stdout",
     "output_type": "stream",
     "text": [
      "Trial 159 finished with value: 2.5849802374088746 and parameters: {'x': 1.8124214954440987, 'y': 1.3535490371605607}. Best is trial 133 with value: -2.9365447573537473.\n",
      "Trial 159 finished with value: 2.5849802374088746 and parameters: {'x': 1.8124214954440987, 'y': 1.3535490371605607}. Best is trial 133 with value: -2.9365447573537473.\n",
      "Trial 159 finished with value: 2.5849802374088746 and parameters: {'x': 1.8124214954440987, 'y': 1.3535490371605607}. Best is trial 133 with value: -2.9365447573537473.\n"
     ]
    },
    {
     "name": "stderr",
     "output_type": "stream",
     "text": [
      "\u001b[32m[I 2022-11-15 13:20:16,954]\u001b[0m Trial 160 finished with value: -0.05286495396109216 and parameters: {'x': 1.7510684380845198, 'y': 1.5040426555400401}. Best is trial 133 with value: -2.9365447573537473.\u001b[0m\n"
     ]
    },
    {
     "name": "stdout",
     "output_type": "stream",
     "text": [
      "Trial 160 finished with value: -0.05286495396109216 and parameters: {'x': 1.7510684380845198, 'y': 1.5040426555400401}. Best is trial 133 with value: -2.9365447573537473.\n",
      "Trial 160 finished with value: -0.05286495396109216 and parameters: {'x': 1.7510684380845198, 'y': 1.5040426555400401}. Best is trial 133 with value: -2.9365447573537473.\n",
      "Trial 160 finished with value: -0.05286495396109216 and parameters: {'x': 1.7510684380845198, 'y': 1.5040426555400401}. Best is trial 133 with value: -2.9365447573537473.\n"
     ]
    },
    {
     "name": "stderr",
     "output_type": "stream",
     "text": [
      "\u001b[32m[I 2022-11-15 13:20:16,958]\u001b[0m Trial 161 finished with value: -2.2769954490453834 and parameters: {'x': 1.5589259977466998, 'y': 1.5711753704597589}. Best is trial 133 with value: -2.9365447573537473.\u001b[0m\n"
     ]
    },
    {
     "name": "stdout",
     "output_type": "stream",
     "text": [
      "Trial 161 finished with value: -2.2769954490453834 and parameters: {'x': 1.5589259977466998, 'y': 1.5711753704597589}. Best is trial 133 with value: -2.9365447573537473.\n",
      "Trial 161 finished with value: -2.2769954490453834 and parameters: {'x': 1.5589259977466998, 'y': 1.5711753704597589}. Best is trial 133 with value: -2.9365447573537473.\n",
      "Trial 161 finished with value: -2.2769954490453834 and parameters: {'x': 1.5589259977466998, 'y': 1.5711753704597589}. Best is trial 133 with value: -2.9365447573537473.\n"
     ]
    },
    {
     "name": "stderr",
     "output_type": "stream",
     "text": [
      "\u001b[32m[I 2022-11-15 13:20:16,962]\u001b[0m Trial 162 finished with value: -2.0916463536433034 and parameters: {'x': 1.5258535657819543, 'y': 1.6420237539358555}. Best is trial 133 with value: -2.9365447573537473.\u001b[0m\n"
     ]
    },
    {
     "name": "stdout",
     "output_type": "stream",
     "text": [
      "Trial 162 finished with value: -2.0916463536433034 and parameters: {'x': 1.5258535657819543, 'y': 1.6420237539358555}. Best is trial 133 with value: -2.9365447573537473.\n",
      "Trial 162 finished with value: -2.0916463536433034 and parameters: {'x': 1.5258535657819543, 'y': 1.6420237539358555}. Best is trial 133 with value: -2.9365447573537473.\n",
      "Trial 162 finished with value: -2.0916463536433034 and parameters: {'x': 1.5258535657819543, 'y': 1.6420237539358555}. Best is trial 133 with value: -2.9365447573537473.\n"
     ]
    },
    {
     "name": "stderr",
     "output_type": "stream",
     "text": [
      "\u001b[32m[I 2022-11-15 13:20:16,966]\u001b[0m Trial 163 finished with value: -1.3905019500889149 and parameters: {'x': 1.64202913146268, 'y': 1.759704870479441}. Best is trial 133 with value: -2.9365447573537473.\u001b[0m\n"
     ]
    },
    {
     "name": "stdout",
     "output_type": "stream",
     "text": [
      "Trial 163 finished with value: -1.3905019500889149 and parameters: {'x': 1.64202913146268, 'y': 1.759704870479441}. Best is trial 133 with value: -2.9365447573537473.\n",
      "Trial 163 finished with value: -1.3905019500889149 and parameters: {'x': 1.64202913146268, 'y': 1.759704870479441}. Best is trial 133 with value: -2.9365447573537473.\n",
      "Trial 163 finished with value: -1.3905019500889149 and parameters: {'x': 1.64202913146268, 'y': 1.759704870479441}. Best is trial 133 with value: -2.9365447573537473.\n"
     ]
    },
    {
     "name": "stderr",
     "output_type": "stream",
     "text": [
      "\u001b[32m[I 2022-11-15 13:20:16,971]\u001b[0m Trial 164 finished with value: -0.027075430523274324 and parameters: {'x': 1.4251576827393033, 'y': 1.5676882899686535}. Best is trial 133 with value: -2.9365447573537473.\u001b[0m\n"
     ]
    },
    {
     "name": "stdout",
     "output_type": "stream",
     "text": [
      "Trial 164 finished with value: -0.027075430523274324 and parameters: {'x': 1.4251576827393033, 'y': 1.5676882899686535}. Best is trial 133 with value: -2.9365447573537473.\n",
      "Trial 164 finished with value: -0.027075430523274324 and parameters: {'x': 1.4251576827393033, 'y': 1.5676882899686535}. Best is trial 133 with value: -2.9365447573537473.\n",
      "Trial 164 finished with value: -0.027075430523274324 and parameters: {'x': 1.4251576827393033, 'y': 1.5676882899686535}. Best is trial 133 with value: -2.9365447573537473.\n"
     ]
    },
    {
     "name": "stderr",
     "output_type": "stream",
     "text": [
      "\u001b[32m[I 2022-11-15 13:20:16,975]\u001b[0m Trial 165 finished with value: -0.8660417798432668 and parameters: {'x': 1.5834854563467475, 'y': 1.4720297577002823}. Best is trial 133 with value: -2.9365447573537473.\u001b[0m\n"
     ]
    },
    {
     "name": "stdout",
     "output_type": "stream",
     "text": [
      "Trial 165 finished with value: -0.8660417798432668 and parameters: {'x': 1.5834854563467475, 'y': 1.4720297577002823}. Best is trial 133 with value: -2.9365447573537473.\n",
      "Trial 165 finished with value: -0.8660417798432668 and parameters: {'x': 1.5834854563467475, 'y': 1.4720297577002823}. Best is trial 133 with value: -2.9365447573537473.\n",
      "Trial 165 finished with value: -0.8660417798432668 and parameters: {'x': 1.5834854563467475, 'y': 1.4720297577002823}. Best is trial 133 with value: -2.9365447573537473.\n"
     ]
    },
    {
     "name": "stderr",
     "output_type": "stream",
     "text": [
      "\u001b[32m[I 2022-11-15 13:20:16,980]\u001b[0m Trial 166 finished with value: -0.01040518136430335 and parameters: {'x': 1.3355371199412942, 'y': 1.6880702777828094}. Best is trial 133 with value: -2.9365447573537473.\u001b[0m\n"
     ]
    },
    {
     "name": "stdout",
     "output_type": "stream",
     "text": [
      "Trial 166 finished with value: -0.01040518136430335 and parameters: {'x': 1.3355371199412942, 'y': 1.6880702777828094}. Best is trial 133 with value: -2.9365447573537473.\n",
      "Trial 166 finished with value: -0.01040518136430335 and parameters: {'x': 1.3355371199412942, 'y': 1.6880702777828094}. Best is trial 133 with value: -2.9365447573537473.\n",
      "Trial 166 finished with value: -0.01040518136430335 and parameters: {'x': 1.3355371199412942, 'y': 1.6880702777828094}. Best is trial 133 with value: -2.9365447573537473.\n"
     ]
    },
    {
     "name": "stderr",
     "output_type": "stream",
     "text": [
      "\u001b[32m[I 2022-11-15 13:20:16,985]\u001b[0m Trial 167 finished with value: -0.4962391900507255 and parameters: {'x': 1.6974449900568558, 'y': 1.2848628655634804}. Best is trial 133 with value: -2.9365447573537473.\u001b[0m\n"
     ]
    },
    {
     "name": "stdout",
     "output_type": "stream",
     "text": [
      "Trial 167 finished with value: -0.4962391900507255 and parameters: {'x': 1.6974449900568558, 'y': 1.2848628655634804}. Best is trial 133 with value: -2.9365447573537473.\n",
      "Trial 167 finished with value: -0.4962391900507255 and parameters: {'x': 1.6974449900568558, 'y': 1.2848628655634804}. Best is trial 133 with value: -2.9365447573537473.\n",
      "Trial 167 finished with value: -0.4962391900507255 and parameters: {'x': 1.6974449900568558, 'y': 1.2848628655634804}. Best is trial 133 with value: -2.9365447573537473.\n"
     ]
    },
    {
     "name": "stderr",
     "output_type": "stream",
     "text": [
      "\u001b[32m[I 2022-11-15 13:20:16,989]\u001b[0m Trial 168 finished with value: 1.9003442275889424 and parameters: {'x': 1.4961469472777336, 'y': 1.8601641720896707}. Best is trial 133 with value: -2.9365447573537473.\u001b[0m\n"
     ]
    },
    {
     "name": "stdout",
     "output_type": "stream",
     "text": [
      "Trial 168 finished with value: 1.9003442275889424 and parameters: {'x': 1.4961469472777336, 'y': 1.8601641720896707}. Best is trial 133 with value: -2.9365447573537473.\n",
      "Trial 168 finished with value: 1.9003442275889424 and parameters: {'x': 1.4961469472777336, 'y': 1.8601641720896707}. Best is trial 133 with value: -2.9365447573537473.\n",
      "Trial 168 finished with value: 1.9003442275889424 and parameters: {'x': 1.4961469472777336, 'y': 1.8601641720896707}. Best is trial 133 with value: -2.9365447573537473.\n"
     ]
    },
    {
     "name": "stderr",
     "output_type": "stream",
     "text": [
      "\u001b[32m[I 2022-11-15 13:20:16,994]\u001b[0m Trial 169 finished with value: 2.350885516892078 and parameters: {'x': 1.797237585977618, 'y': 1.3965656637972976}. Best is trial 133 with value: -2.9365447573537473.\u001b[0m\n"
     ]
    },
    {
     "name": "stdout",
     "output_type": "stream",
     "text": [
      "Trial 169 finished with value: 2.350885516892078 and parameters: {'x': 1.797237585977618, 'y': 1.3965656637972976}. Best is trial 133 with value: -2.9365447573537473.\n",
      "Trial 169 finished with value: 2.350885516892078 and parameters: {'x': 1.797237585977618, 'y': 1.3965656637972976}. Best is trial 133 with value: -2.9365447573537473.\n",
      "Trial 169 finished with value: 2.350885516892078 and parameters: {'x': 1.797237585977618, 'y': 1.3965656637972976}. Best is trial 133 with value: -2.9365447573537473.\n"
     ]
    },
    {
     "name": "stderr",
     "output_type": "stream",
     "text": [
      "\u001b[32m[I 2022-11-15 13:20:16,998]\u001b[0m Trial 170 finished with value: -3.01458973979954 and parameters: {'x': 1.6445019364743838, 'y': 1.5879801090028927}. Best is trial 170 with value: -3.01458973979954.\u001b[0m\n"
     ]
    },
    {
     "name": "stdout",
     "output_type": "stream",
     "text": [
      "Trial 170 finished with value: -3.01458973979954 and parameters: {'x': 1.6445019364743838, 'y': 1.5879801090028927}. Best is trial 170 with value: -3.01458973979954.\n",
      "Trial 170 finished with value: -3.01458973979954 and parameters: {'x': 1.6445019364743838, 'y': 1.5879801090028927}. Best is trial 170 with value: -3.01458973979954.\n",
      "Trial 170 finished with value: -3.01458973979954 and parameters: {'x': 1.6445019364743838, 'y': 1.5879801090028927}. Best is trial 170 with value: -3.01458973979954.\n"
     ]
    },
    {
     "name": "stderr",
     "output_type": "stream",
     "text": [
      "\u001b[32m[I 2022-11-15 13:20:17,003]\u001b[0m Trial 171 finished with value: -2.3993159326299107 and parameters: {'x': 1.6240211175188932, 'y': 1.541932205322728}. Best is trial 170 with value: -3.01458973979954.\u001b[0m\n"
     ]
    },
    {
     "name": "stdout",
     "output_type": "stream",
     "text": [
      "Trial 171 finished with value: -2.3993159326299107 and parameters: {'x': 1.6240211175188932, 'y': 1.541932205322728}. Best is trial 170 with value: -3.01458973979954.\n",
      "Trial 171 finished with value: -2.3993159326299107 and parameters: {'x': 1.6240211175188932, 'y': 1.541932205322728}. Best is trial 170 with value: -3.01458973979954.\n",
      "Trial 171 finished with value: -2.3993159326299107 and parameters: {'x': 1.6240211175188932, 'y': 1.541932205322728}. Best is trial 170 with value: -3.01458973979954.\n"
     ]
    },
    {
     "name": "stderr",
     "output_type": "stream",
     "text": [
      "\u001b[32m[I 2022-11-15 13:20:17,007]\u001b[0m Trial 172 finished with value: -2.409669053077762 and parameters: {'x': 1.6570639408551118, 'y': 1.7065988707715611}. Best is trial 170 with value: -3.01458973979954.\u001b[0m\n"
     ]
    },
    {
     "name": "stdout",
     "output_type": "stream",
     "text": [
      "Trial 172 finished with value: -2.409669053077762 and parameters: {'x': 1.6570639408551118, 'y': 1.7065988707715611}. Best is trial 170 with value: -3.01458973979954.\n",
      "Trial 172 finished with value: -2.409669053077762 and parameters: {'x': 1.6570639408551118, 'y': 1.7065988707715611}. Best is trial 170 with value: -3.01458973979954.\n",
      "Trial 172 finished with value: -2.409669053077762 and parameters: {'x': 1.6570639408551118, 'y': 1.7065988707715611}. Best is trial 170 with value: -3.01458973979954.\n"
     ]
    },
    {
     "name": "stderr",
     "output_type": "stream",
     "text": [
      "\u001b[32m[I 2022-11-15 13:20:17,012]\u001b[0m Trial 173 finished with value: -1.7481009125930713 and parameters: {'x': 1.6928689994013693, 'y': 1.7199334536803232}. Best is trial 170 with value: -3.01458973979954.\u001b[0m\n"
     ]
    },
    {
     "name": "stdout",
     "output_type": "stream",
     "text": [
      "Trial 173 finished with value: -1.7481009125930713 and parameters: {'x': 1.6928689994013693, 'y': 1.7199334536803232}. Best is trial 170 with value: -3.01458973979954.\n",
      "Trial 173 finished with value: -1.7481009125930713 and parameters: {'x': 1.6928689994013693, 'y': 1.7199334536803232}. Best is trial 170 with value: -3.01458973979954.\n",
      "Trial 173 finished with value: -1.7481009125930713 and parameters: {'x': 1.6928689994013693, 'y': 1.7199334536803232}. Best is trial 170 with value: -3.01458973979954.\n"
     ]
    },
    {
     "name": "stderr",
     "output_type": "stream",
     "text": [
      "\u001b[32m[I 2022-11-15 13:20:17,017]\u001b[0m Trial 174 finished with value: 0.26787482321787204 and parameters: {'x': 1.8829952759961655, 'y': 1.6417172621673193}. Best is trial 170 with value: -3.01458973979954.\u001b[0m\n"
     ]
    },
    {
     "name": "stdout",
     "output_type": "stream",
     "text": [
      "Trial 174 finished with value: 0.26787482321787204 and parameters: {'x': 1.8829952759961655, 'y': 1.6417172621673193}. Best is trial 170 with value: -3.01458973979954.\n",
      "Trial 174 finished with value: 0.26787482321787204 and parameters: {'x': 1.8829952759961655, 'y': 1.6417172621673193}. Best is trial 170 with value: -3.01458973979954.\n",
      "Trial 174 finished with value: 0.26787482321787204 and parameters: {'x': 1.8829952759961655, 'y': 1.6417172621673193}. Best is trial 170 with value: -3.01458973979954.\n"
     ]
    },
    {
     "name": "stderr",
     "output_type": "stream",
     "text": [
      "\u001b[32m[I 2022-11-15 13:20:17,022]\u001b[0m Trial 175 finished with value: -0.29615643113875656 and parameters: {'x': 1.6348887607537095, 'y': 1.8151866882299812}. Best is trial 170 with value: -3.01458973979954.\u001b[0m\n"
     ]
    },
    {
     "name": "stdout",
     "output_type": "stream",
     "text": [
      "Trial 175 finished with value: -0.29615643113875656 and parameters: {'x': 1.6348887607537095, 'y': 1.8151866882299812}. Best is trial 170 with value: -3.01458973979954.\n",
      "Trial 175 finished with value: -0.29615643113875656 and parameters: {'x': 1.6348887607537095, 'y': 1.8151866882299812}. Best is trial 170 with value: -3.01458973979954.\n",
      "Trial 175 finished with value: -0.29615643113875656 and parameters: {'x': 1.6348887607537095, 'y': 1.8151866882299812}. Best is trial 170 with value: -3.01458973979954.\n"
     ]
    },
    {
     "name": "stderr",
     "output_type": "stream",
     "text": [
      "\u001b[32m[I 2022-11-15 13:20:17,026]\u001b[0m Trial 176 finished with value: 0.7256921366381233 and parameters: {'x': 1.7720438917303682, 'y': 1.990337877754439}. Best is trial 170 with value: -3.01458973979954.\u001b[0m\n"
     ]
    },
    {
     "name": "stdout",
     "output_type": "stream",
     "text": [
      "Trial 176 finished with value: 0.7256921366381233 and parameters: {'x': 1.7720438917303682, 'y': 1.990337877754439}. Best is trial 170 with value: -3.01458973979954.\n",
      "Trial 176 finished with value: 0.7256921366381233 and parameters: {'x': 1.7720438917303682, 'y': 1.990337877754439}. Best is trial 170 with value: -3.01458973979954.\n",
      "Trial 176 finished with value: 0.7256921366381233 and parameters: {'x': 1.7720438917303682, 'y': 1.990337877754439}. Best is trial 170 with value: -3.01458973979954.\n"
     ]
    },
    {
     "name": "stderr",
     "output_type": "stream",
     "text": [
      "\u001b[32m[I 2022-11-15 13:20:17,031]\u001b[0m Trial 177 finished with value: 0.8673328547260681 and parameters: {'x': 1.4633854537313775, 'y': 1.488327961352373}. Best is trial 170 with value: -3.01458973979954.\u001b[0m\n"
     ]
    },
    {
     "name": "stdout",
     "output_type": "stream",
     "text": [
      "Trial 177 finished with value: 0.8673328547260681 and parameters: {'x': 1.4633854537313775, 'y': 1.488327961352373}. Best is trial 170 with value: -3.01458973979954.\n",
      "Trial 177 finished with value: 0.8673328547260681 and parameters: {'x': 1.4633854537313775, 'y': 1.488327961352373}. Best is trial 170 with value: -3.01458973979954.\n",
      "Trial 177 finished with value: 0.8673328547260681 and parameters: {'x': 1.4633854537313775, 'y': 1.488327961352373}. Best is trial 170 with value: -3.01458973979954.\n"
     ]
    },
    {
     "name": "stderr",
     "output_type": "stream",
     "text": [
      "\u001b[32m[I 2022-11-15 13:20:17,036]\u001b[0m Trial 178 finished with value: -2.4952599276347662 and parameters: {'x': 1.7049596271720957, 'y': 1.6098922358196621}. Best is trial 170 with value: -3.01458973979954.\u001b[0m\n"
     ]
    },
    {
     "name": "stdout",
     "output_type": "stream",
     "text": [
      "Trial 178 finished with value: -2.4952599276347662 and parameters: {'x': 1.7049596271720957, 'y': 1.6098922358196621}. Best is trial 170 with value: -3.01458973979954.\n",
      "Trial 178 finished with value: -2.4952599276347662 and parameters: {'x': 1.7049596271720957, 'y': 1.6098922358196621}. Best is trial 170 with value: -3.01458973979954.\n",
      "Trial 178 finished with value: -2.4952599276347662 and parameters: {'x': 1.7049596271720957, 'y': 1.6098922358196621}. Best is trial 170 with value: -3.01458973979954.\n"
     ]
    },
    {
     "name": "stderr",
     "output_type": "stream",
     "text": [
      "\u001b[32m[I 2022-11-15 13:20:17,040]\u001b[0m Trial 179 finished with value: -2.042916913994845 and parameters: {'x': 1.7263175357470522, 'y': 1.6021735408807545}. Best is trial 170 with value: -3.01458973979954.\u001b[0m\n"
     ]
    },
    {
     "name": "stdout",
     "output_type": "stream",
     "text": [
      "Trial 179 finished with value: -2.042916913994845 and parameters: {'x': 1.7263175357470522, 'y': 1.6021735408807545}. Best is trial 170 with value: -3.01458973979954.\n",
      "Trial 179 finished with value: -2.042916913994845 and parameters: {'x': 1.7263175357470522, 'y': 1.6021735408807545}. Best is trial 170 with value: -3.01458973979954.\n",
      "Trial 179 finished with value: -2.042916913994845 and parameters: {'x': 1.7263175357470522, 'y': 1.6021735408807545}. Best is trial 170 with value: -3.01458973979954.\n"
     ]
    },
    {
     "name": "stderr",
     "output_type": "stream",
     "text": [
      "\u001b[32m[I 2022-11-15 13:20:17,046]\u001b[0m Trial 180 finished with value: -1.9309944960454017 and parameters: {'x': 1.6423663380103368, 'y': 1.7348833634579761}. Best is trial 170 with value: -3.01458973979954.\u001b[0m\n"
     ]
    },
    {
     "name": "stdout",
     "output_type": "stream",
     "text": [
      "Trial 180 finished with value: -1.9309944960454017 and parameters: {'x': 1.6423663380103368, 'y': 1.7348833634579761}. Best is trial 170 with value: -3.01458973979954.\n",
      "Trial 180 finished with value: -1.9309944960454017 and parameters: {'x': 1.6423663380103368, 'y': 1.7348833634579761}. Best is trial 170 with value: -3.01458973979954.\n",
      "Trial 180 finished with value: -1.9309944960454017 and parameters: {'x': 1.6423663380103368, 'y': 1.7348833634579761}. Best is trial 170 with value: -3.01458973979954.\n"
     ]
    },
    {
     "name": "stderr",
     "output_type": "stream",
     "text": [
      "\u001b[32m[I 2022-11-15 13:20:17,050]\u001b[0m Trial 181 finished with value: -2.8710215281783733 and parameters: {'x': 1.5785953950708858, 'y': 1.6527448054560725}. Best is trial 170 with value: -3.01458973979954.\u001b[0m\n"
     ]
    },
    {
     "name": "stdout",
     "output_type": "stream",
     "text": [
      "Trial 181 finished with value: -2.8710215281783733 and parameters: {'x': 1.5785953950708858, 'y': 1.6527448054560725}. Best is trial 170 with value: -3.01458973979954.\n",
      "Trial 181 finished with value: -2.8710215281783733 and parameters: {'x': 1.5785953950708858, 'y': 1.6527448054560725}. Best is trial 170 with value: -3.01458973979954.\n",
      "Trial 181 finished with value: -2.8710215281783733 and parameters: {'x': 1.5785953950708858, 'y': 1.6527448054560725}. Best is trial 170 with value: -3.01458973979954.\n"
     ]
    },
    {
     "name": "stderr",
     "output_type": "stream",
     "text": [
      "\u001b[32m[I 2022-11-15 13:20:17,055]\u001b[0m Trial 182 finished with value: -2.3482262409481853 and parameters: {'x': 1.586964376971071, 'y': 1.5517271467714608}. Best is trial 170 with value: -3.01458973979954.\u001b[0m\n"
     ]
    },
    {
     "name": "stdout",
     "output_type": "stream",
     "text": [
      "Trial 182 finished with value: -2.3482262409481853 and parameters: {'x': 1.586964376971071, 'y': 1.5517271467714608}. Best is trial 170 with value: -3.01458973979954.\n",
      "Trial 182 finished with value: -2.3482262409481853 and parameters: {'x': 1.586964376971071, 'y': 1.5517271467714608}. Best is trial 170 with value: -3.01458973979954.\n",
      "Trial 182 finished with value: -2.3482262409481853 and parameters: {'x': 1.586964376971071, 'y': 1.5517271467714608}. Best is trial 170 with value: -3.01458973979954.\n"
     ]
    },
    {
     "name": "stderr",
     "output_type": "stream",
     "text": [
      "\u001b[32m[I 2022-11-15 13:20:17,060]\u001b[0m Trial 183 finished with value: -2.4886550137333647 and parameters: {'x': 1.6976772786630625, 'y': 1.6658513435081113}. Best is trial 170 with value: -3.01458973979954.\u001b[0m\n"
     ]
    },
    {
     "name": "stdout",
     "output_type": "stream",
     "text": [
      "Trial 183 finished with value: -2.4886550137333647 and parameters: {'x': 1.6976772786630625, 'y': 1.6658513435081113}. Best is trial 170 with value: -3.01458973979954.\n",
      "Trial 183 finished with value: -2.4886550137333647 and parameters: {'x': 1.6976772786630625, 'y': 1.6658513435081113}. Best is trial 170 with value: -3.01458973979954.\n",
      "Trial 183 finished with value: -2.4886550137333647 and parameters: {'x': 1.6976772786630625, 'y': 1.6658513435081113}. Best is trial 170 with value: -3.01458973979954.\n"
     ]
    },
    {
     "name": "stderr",
     "output_type": "stream",
     "text": [
      "\u001b[32m[I 2022-11-15 13:20:17,065]\u001b[0m Trial 184 finished with value: 0.18989033481597217 and parameters: {'x': 1.8394488596133443, 'y': 1.6638998705590717}. Best is trial 170 with value: -3.01458973979954.\u001b[0m\n"
     ]
    },
    {
     "name": "stdout",
     "output_type": "stream",
     "text": [
      "Trial 184 finished with value: 0.18989033481597217 and parameters: {'x': 1.8394488596133443, 'y': 1.6638998705590717}. Best is trial 170 with value: -3.01458973979954.\n",
      "Trial 184 finished with value: 0.18989033481597217 and parameters: {'x': 1.8394488596133443, 'y': 1.6638998705590717}. Best is trial 170 with value: -3.01458973979954.\n",
      "Trial 184 finished with value: 0.18989033481597217 and parameters: {'x': 1.8394488596133443, 'y': 1.6638998705590717}. Best is trial 170 with value: -3.01458973979954.\n"
     ]
    },
    {
     "name": "stderr",
     "output_type": "stream",
     "text": [
      "\u001b[32m[I 2022-11-15 13:20:17,071]\u001b[0m Trial 185 finished with value: 1.1863371619044534 and parameters: {'x': 1.7204056057408108, 'y': 1.8572923586788497}. Best is trial 170 with value: -3.01458973979954.\u001b[0m\n"
     ]
    },
    {
     "name": "stdout",
     "output_type": "stream",
     "text": [
      "Trial 185 finished with value: 1.1863371619044534 and parameters: {'x': 1.7204056057408108, 'y': 1.8572923586788497}. Best is trial 170 with value: -3.01458973979954.\n",
      "Trial 185 finished with value: 1.1863371619044534 and parameters: {'x': 1.7204056057408108, 'y': 1.8572923586788497}. Best is trial 170 with value: -3.01458973979954.\n",
      "Trial 185 finished with value: 1.1863371619044534 and parameters: {'x': 1.7204056057408108, 'y': 1.8572923586788497}. Best is trial 170 with value: -3.01458973979954.\n"
     ]
    },
    {
     "name": "stderr",
     "output_type": "stream",
     "text": [
      "\u001b[32m[I 2022-11-15 13:20:17,076]\u001b[0m Trial 186 finished with value: -0.10068564151231457 and parameters: {'x': 1.525489076187364, 'y': 1.767228570724157}. Best is trial 170 with value: -3.01458973979954.\u001b[0m\n"
     ]
    },
    {
     "name": "stdout",
     "output_type": "stream",
     "text": [
      "Trial 186 finished with value: -0.10068564151231457 and parameters: {'x': 1.525489076187364, 'y': 1.767228570724157}. Best is trial 170 with value: -3.01458973979954.\n",
      "Trial 186 finished with value: -0.10068564151231457 and parameters: {'x': 1.525489076187364, 'y': 1.767228570724157}. Best is trial 170 with value: -3.01458973979954.\n",
      "Trial 186 finished with value: -0.10068564151231457 and parameters: {'x': 1.525489076187364, 'y': 1.767228570724157}. Best is trial 170 with value: -3.01458973979954.\n"
     ]
    },
    {
     "name": "stderr",
     "output_type": "stream",
     "text": [
      "\u001b[32m[I 2022-11-15 13:20:17,081]\u001b[0m Trial 187 finished with value: 1.4590670568861654 and parameters: {'x': 1.7710305264872122, 'y': 1.439138865992593}. Best is trial 170 with value: -3.01458973979954.\u001b[0m\n"
     ]
    },
    {
     "name": "stdout",
     "output_type": "stream",
     "text": [
      "Trial 187 finished with value: 1.4590670568861654 and parameters: {'x': 1.7710305264872122, 'y': 1.439138865992593}. Best is trial 170 with value: -3.01458973979954.\n",
      "Trial 187 finished with value: 1.4590670568861654 and parameters: {'x': 1.7710305264872122, 'y': 1.439138865992593}. Best is trial 170 with value: -3.01458973979954.\n",
      "Trial 187 finished with value: 1.4590670568861654 and parameters: {'x': 1.7710305264872122, 'y': 1.439138865992593}. Best is trial 170 with value: -3.01458973979954.\n"
     ]
    },
    {
     "name": "stderr",
     "output_type": "stream",
     "text": [
      "\u001b[32m[I 2022-11-15 13:20:17,087]\u001b[0m Trial 188 finished with value: -0.2711234280583068 and parameters: {'x': 1.9388169927770567, 'y': 1.6366222142579674}. Best is trial 170 with value: -3.01458973979954.\u001b[0m\n"
     ]
    },
    {
     "name": "stdout",
     "output_type": "stream",
     "text": [
      "Trial 188 finished with value: -0.2711234280583068 and parameters: {'x': 1.9388169927770567, 'y': 1.6366222142579674}. Best is trial 170 with value: -3.01458973979954.\n",
      "Trial 188 finished with value: -0.2711234280583068 and parameters: {'x': 1.9388169927770567, 'y': 1.6366222142579674}. Best is trial 170 with value: -3.01458973979954.\n",
      "Trial 188 finished with value: -0.2711234280583068 and parameters: {'x': 1.9388169927770567, 'y': 1.6366222142579674}. Best is trial 170 with value: -3.01458973979954.\n"
     ]
    },
    {
     "name": "stderr",
     "output_type": "stream",
     "text": [
      "\u001b[32m[I 2022-11-15 13:20:17,092]\u001b[0m Trial 189 finished with value: -2.3647675908027446 and parameters: {'x': 1.6520881136491237, 'y': 1.7108864588236592}. Best is trial 170 with value: -3.01458973979954.\u001b[0m\n"
     ]
    },
    {
     "name": "stdout",
     "output_type": "stream",
     "text": [
      "Trial 189 finished with value: -2.3647675908027446 and parameters: {'x': 1.6520881136491237, 'y': 1.7108864588236592}. Best is trial 170 with value: -3.01458973979954.\n",
      "Trial 189 finished with value: -2.3647675908027446 and parameters: {'x': 1.6520881136491237, 'y': 1.7108864588236592}. Best is trial 170 with value: -3.01458973979954.\n",
      "Trial 189 finished with value: -2.3647675908027446 and parameters: {'x': 1.6520881136491237, 'y': 1.7108864588236592}. Best is trial 170 with value: -3.01458973979954.\n"
     ]
    },
    {
     "name": "stderr",
     "output_type": "stream",
     "text": [
      "\u001b[32m[I 2022-11-15 13:20:17,098]\u001b[0m Trial 190 finished with value: 1.6031968931145542 and parameters: {'x': 1.4946491805602171, 'y': 1.928922504663357}. Best is trial 170 with value: -3.01458973979954.\u001b[0m\n"
     ]
    },
    {
     "name": "stdout",
     "output_type": "stream",
     "text": [
      "Trial 190 finished with value: 1.6031968931145542 and parameters: {'x': 1.4946491805602171, 'y': 1.928922504663357}. Best is trial 170 with value: -3.01458973979954.\n",
      "Trial 190 finished with value: 1.6031968931145542 and parameters: {'x': 1.4946491805602171, 'y': 1.928922504663357}. Best is trial 170 with value: -3.01458973979954.\n",
      "Trial 190 finished with value: 1.6031968931145542 and parameters: {'x': 1.4946491805602171, 'y': 1.928922504663357}. Best is trial 170 with value: -3.01458973979954.\n"
     ]
    },
    {
     "name": "stderr",
     "output_type": "stream",
     "text": [
      "\u001b[32m[I 2022-11-15 13:20:17,103]\u001b[0m Trial 191 finished with value: -2.2063013980400235 and parameters: {'x': 1.6085444748675928, 'y': 1.5337981493023656}. Best is trial 170 with value: -3.01458973979954.\u001b[0m\n"
     ]
    },
    {
     "name": "stdout",
     "output_type": "stream",
     "text": [
      "Trial 191 finished with value: -2.2063013980400235 and parameters: {'x': 1.6085444748675928, 'y': 1.5337981493023656}. Best is trial 170 with value: -3.01458973979954.\n",
      "Trial 191 finished with value: -2.2063013980400235 and parameters: {'x': 1.6085444748675928, 'y': 1.5337981493023656}. Best is trial 170 with value: -3.01458973979954.\n",
      "Trial 191 finished with value: -2.2063013980400235 and parameters: {'x': 1.6085444748675928, 'y': 1.5337981493023656}. Best is trial 170 with value: -3.01458973979954.\n"
     ]
    },
    {
     "name": "stderr",
     "output_type": "stream",
     "text": [
      "\u001b[32m[I 2022-11-15 13:20:17,110]\u001b[0m Trial 192 finished with value: -2.7286248955994736 and parameters: {'x': 1.6871975242365203, 'y': 1.601338372486228}. Best is trial 170 with value: -3.01458973979954.\u001b[0m\n"
     ]
    },
    {
     "name": "stdout",
     "output_type": "stream",
     "text": [
      "Trial 192 finished with value: -2.7286248955994736 and parameters: {'x': 1.6871975242365203, 'y': 1.601338372486228}. Best is trial 170 with value: -3.01458973979954.\n",
      "Trial 192 finished with value: -2.7286248955994736 and parameters: {'x': 1.6871975242365203, 'y': 1.601338372486228}. Best is trial 170 with value: -3.01458973979954.\n",
      "Trial 192 finished with value: -2.7286248955994736 and parameters: {'x': 1.6871975242365203, 'y': 1.601338372486228}. Best is trial 170 with value: -3.01458973979954.\n"
     ]
    },
    {
     "name": "stderr",
     "output_type": "stream",
     "text": [
      "\u001b[32m[I 2022-11-15 13:20:17,116]\u001b[0m Trial 193 finished with value: -2.616154330898273 and parameters: {'x': 1.6964715403677986, 'y': 1.6057743120757735}. Best is trial 170 with value: -3.01458973979954.\u001b[0m\n"
     ]
    },
    {
     "name": "stdout",
     "output_type": "stream",
     "text": [
      "Trial 193 finished with value: -2.616154330898273 and parameters: {'x': 1.6964715403677986, 'y': 1.6057743120757735}. Best is trial 170 with value: -3.01458973979954.\n",
      "Trial 193 finished with value: -2.616154330898273 and parameters: {'x': 1.6964715403677986, 'y': 1.6057743120757735}. Best is trial 170 with value: -3.01458973979954.\n",
      "Trial 193 finished with value: -2.616154330898273 and parameters: {'x': 1.6964715403677986, 'y': 1.6057743120757735}. Best is trial 170 with value: -3.01458973979954.\n"
     ]
    },
    {
     "name": "stderr",
     "output_type": "stream",
     "text": [
      "\u001b[32m[I 2022-11-15 13:20:17,121]\u001b[0m Trial 194 finished with value: -0.1457064692809349 and parameters: {'x': 1.8244460265859956, 'y': 1.6388025409413158}. Best is trial 170 with value: -3.01458973979954.\u001b[0m\n"
     ]
    },
    {
     "name": "stdout",
     "output_type": "stream",
     "text": [
      "Trial 194 finished with value: -0.1457064692809349 and parameters: {'x': 1.8244460265859956, 'y': 1.6388025409413158}. Best is trial 170 with value: -3.01458973979954.\n",
      "Trial 194 finished with value: -0.1457064692809349 and parameters: {'x': 1.8244460265859956, 'y': 1.6388025409413158}. Best is trial 170 with value: -3.01458973979954.\n",
      "Trial 194 finished with value: -0.1457064692809349 and parameters: {'x': 1.8244460265859956, 'y': 1.6388025409413158}. Best is trial 170 with value: -3.01458973979954.\n"
     ]
    },
    {
     "name": "stderr",
     "output_type": "stream",
     "text": [
      "\u001b[32m[I 2022-11-15 13:20:17,127]\u001b[0m Trial 195 finished with value: -0.9310847696686848 and parameters: {'x': 1.6945064316447285, 'y': 1.7571248527215642}. Best is trial 170 with value: -3.01458973979954.\u001b[0m\n"
     ]
    },
    {
     "name": "stdout",
     "output_type": "stream",
     "text": [
      "Trial 195 finished with value: -0.9310847696686848 and parameters: {'x': 1.6945064316447285, 'y': 1.7571248527215642}. Best is trial 170 with value: -3.01458973979954.\n",
      "Trial 195 finished with value: -0.9310847696686848 and parameters: {'x': 1.6945064316447285, 'y': 1.7571248527215642}. Best is trial 170 with value: -3.01458973979954.\n",
      "Trial 195 finished with value: -0.9310847696686848 and parameters: {'x': 1.6945064316447285, 'y': 1.7571248527215642}. Best is trial 170 with value: -3.01458973979954.\n"
     ]
    },
    {
     "name": "stderr",
     "output_type": "stream",
     "text": [
      "\u001b[32m[I 2022-11-15 13:20:17,132]\u001b[0m Trial 196 finished with value: 1.3764700255057392 and parameters: {'x': 1.7589898116307747, 'y': 1.4223197834138488}. Best is trial 170 with value: -3.01458973979954.\u001b[0m\n"
     ]
    },
    {
     "name": "stdout",
     "output_type": "stream",
     "text": [
      "Trial 196 finished with value: 1.3764700255057392 and parameters: {'x': 1.7589898116307747, 'y': 1.4223197834138488}. Best is trial 170 with value: -3.01458973979954.\n",
      "Trial 196 finished with value: 1.3764700255057392 and parameters: {'x': 1.7589898116307747, 'y': 1.4223197834138488}. Best is trial 170 with value: -3.01458973979954.\n",
      "Trial 196 finished with value: 1.3764700255057392 and parameters: {'x': 1.7589898116307747, 'y': 1.4223197834138488}. Best is trial 170 with value: -3.01458973979954.\n"
     ]
    },
    {
     "name": "stderr",
     "output_type": "stream",
     "text": [
      "\u001b[32m[I 2022-11-15 13:20:17,139]\u001b[0m Trial 197 finished with value: -2.349489587620245 and parameters: {'x': 1.5400077374876286, 'y': 1.616552884482462}. Best is trial 170 with value: -3.01458973979954.\u001b[0m\n"
     ]
    },
    {
     "name": "stdout",
     "output_type": "stream",
     "text": [
      "Trial 197 finished with value: -2.349489587620245 and parameters: {'x': 1.5400077374876286, 'y': 1.616552884482462}. Best is trial 170 with value: -3.01458973979954.\n",
      "Trial 197 finished with value: -2.349489587620245 and parameters: {'x': 1.5400077374876286, 'y': 1.616552884482462}. Best is trial 170 with value: -3.01458973979954.\n",
      "Trial 197 finished with value: -2.349489587620245 and parameters: {'x': 1.5400077374876286, 'y': 1.616552884482462}. Best is trial 170 with value: -3.01458973979954.\n"
     ]
    },
    {
     "name": "stderr",
     "output_type": "stream",
     "text": [
      "\u001b[32m[I 2022-11-15 13:20:17,145]\u001b[0m Trial 198 finished with value: -2.3890930355597857 and parameters: {'x': 1.6884075026881946, 'y': 1.6863952219057616}. Best is trial 170 with value: -3.01458973979954.\u001b[0m\n"
     ]
    },
    {
     "name": "stdout",
     "output_type": "stream",
     "text": [
      "Trial 198 finished with value: -2.3890930355597857 and parameters: {'x': 1.6884075026881946, 'y': 1.6863952219057616}. Best is trial 170 with value: -3.01458973979954.\n",
      "Trial 198 finished with value: -2.3890930355597857 and parameters: {'x': 1.6884075026881946, 'y': 1.6863952219057616}. Best is trial 170 with value: -3.01458973979954.\n",
      "Trial 198 finished with value: -2.3890930355597857 and parameters: {'x': 1.6884075026881946, 'y': 1.6863952219057616}. Best is trial 170 with value: -3.01458973979954.\n"
     ]
    },
    {
     "name": "stderr",
     "output_type": "stream",
     "text": [
      "\u001b[32m[I 2022-11-15 13:20:17,150]\u001b[0m Trial 199 finished with value: 3.0805575823527924 and parameters: {'x': 1.8721970613346814, 'y': 1.8083054605905975}. Best is trial 170 with value: -3.01458973979954.\u001b[0m\n"
     ]
    },
    {
     "name": "stdout",
     "output_type": "stream",
     "text": [
      "Trial 199 finished with value: 3.0805575823527924 and parameters: {'x': 1.8721970613346814, 'y': 1.8083054605905975}. Best is trial 170 with value: -3.01458973979954.\n",
      "Trial 199 finished with value: 3.0805575823527924 and parameters: {'x': 1.8721970613346814, 'y': 1.8083054605905975}. Best is trial 170 with value: -3.01458973979954.\n",
      "Trial 199 finished with value: 3.0805575823527924 and parameters: {'x': 1.8721970613346814, 'y': 1.8083054605905975}. Best is trial 170 with value: -3.01458973979954.\n"
     ]
    },
    {
     "name": "stderr",
     "output_type": "stream",
     "text": [
      "\u001b[32m[I 2022-11-15 13:20:17,157]\u001b[0m Trial 200 finished with value: 1.0872211500768247 and parameters: {'x': -0.5351985997049254, 'y': 1.3557558515354964}. Best is trial 170 with value: -3.01458973979954.\u001b[0m\n"
     ]
    },
    {
     "name": "stdout",
     "output_type": "stream",
     "text": [
      "Trial 200 finished with value: 1.0872211500768247 and parameters: {'x': -0.5351985997049254, 'y': 1.3557558515354964}. Best is trial 170 with value: -3.01458973979954.\n",
      "Trial 200 finished with value: 1.0872211500768247 and parameters: {'x': -0.5351985997049254, 'y': 1.3557558515354964}. Best is trial 170 with value: -3.01458973979954.\n",
      "Trial 200 finished with value: 1.0872211500768247 and parameters: {'x': -0.5351985997049254, 'y': 1.3557558515354964}. Best is trial 170 with value: -3.01458973979954.\n"
     ]
    },
    {
     "name": "stderr",
     "output_type": "stream",
     "text": [
      "\u001b[32m[I 2022-11-15 13:20:17,163]\u001b[0m Trial 201 finished with value: -1.7236523799559869 and parameters: {'x': 1.6411717966251602, 'y': 1.5061483644193223}. Best is trial 170 with value: -3.01458973979954.\u001b[0m\n"
     ]
    },
    {
     "name": "stdout",
     "output_type": "stream",
     "text": [
      "Trial 201 finished with value: -1.7236523799559869 and parameters: {'x': 1.6411717966251602, 'y': 1.5061483644193223}. Best is trial 170 with value: -3.01458973979954.\n",
      "Trial 201 finished with value: -1.7236523799559869 and parameters: {'x': 1.6411717966251602, 'y': 1.5061483644193223}. Best is trial 170 with value: -3.01458973979954.\n",
      "Trial 201 finished with value: -1.7236523799559869 and parameters: {'x': 1.6411717966251602, 'y': 1.5061483644193223}. Best is trial 170 with value: -3.01458973979954.\n"
     ]
    },
    {
     "name": "stderr",
     "output_type": "stream",
     "text": [
      "\u001b[32m[I 2022-11-15 13:20:17,168]\u001b[0m Trial 202 finished with value: -2.6763943884241 and parameters: {'x': 1.577919792782384, 'y': 1.5829151800357755}. Best is trial 170 with value: -3.01458973979954.\u001b[0m\n"
     ]
    },
    {
     "name": "stdout",
     "output_type": "stream",
     "text": [
      "Trial 202 finished with value: -2.6763943884241 and parameters: {'x': 1.577919792782384, 'y': 1.5829151800357755}. Best is trial 170 with value: -3.01458973979954.\n",
      "Trial 202 finished with value: -2.6763943884241 and parameters: {'x': 1.577919792782384, 'y': 1.5829151800357755}. Best is trial 170 with value: -3.01458973979954.\n",
      "Trial 202 finished with value: -2.6763943884241 and parameters: {'x': 1.577919792782384, 'y': 1.5829151800357755}. Best is trial 170 with value: -3.01458973979954.\n"
     ]
    },
    {
     "name": "stderr",
     "output_type": "stream",
     "text": [
      "\u001b[32m[I 2022-11-15 13:20:17,174]\u001b[0m Trial 203 finished with value: -0.3624696580207958 and parameters: {'x': 1.4224697494986016, 'y': 1.602560867162326}. Best is trial 170 with value: -3.01458973979954.\u001b[0m\n"
     ]
    },
    {
     "name": "stdout",
     "output_type": "stream",
     "text": [
      "Trial 203 finished with value: -0.3624696580207958 and parameters: {'x': 1.4224697494986016, 'y': 1.602560867162326}. Best is trial 170 with value: -3.01458973979954.\n",
      "Trial 203 finished with value: -0.3624696580207958 and parameters: {'x': 1.4224697494986016, 'y': 1.602560867162326}. Best is trial 170 with value: -3.01458973979954.\n",
      "Trial 203 finished with value: -0.3624696580207958 and parameters: {'x': 1.4224697494986016, 'y': 1.602560867162326}. Best is trial 170 with value: -3.01458973979954.\n"
     ]
    },
    {
     "name": "stderr",
     "output_type": "stream",
     "text": [
      "\u001b[32m[I 2022-11-15 13:20:17,180]\u001b[0m Trial 204 finished with value: -2.0842792915837105 and parameters: {'x': 1.5556932810298705, 'y': 1.694885545171281}. Best is trial 170 with value: -3.01458973979954.\u001b[0m\n"
     ]
    },
    {
     "name": "stdout",
     "output_type": "stream",
     "text": [
      "Trial 204 finished with value: -2.0842792915837105 and parameters: {'x': 1.5556932810298705, 'y': 1.694885545171281}. Best is trial 170 with value: -3.01458973979954.\n",
      "Trial 204 finished with value: -2.0842792915837105 and parameters: {'x': 1.5556932810298705, 'y': 1.694885545171281}. Best is trial 170 with value: -3.01458973979954.\n",
      "Trial 204 finished with value: -2.0842792915837105 and parameters: {'x': 1.5556932810298705, 'y': 1.694885545171281}. Best is trial 170 with value: -3.01458973979954.\n"
     ]
    },
    {
     "name": "stderr",
     "output_type": "stream",
     "text": [
      "\u001b[32m[I 2022-11-15 13:20:17,187]\u001b[0m Trial 205 finished with value: -1.761615625643683 and parameters: {'x': 1.7384662482807052, 'y': 1.5984793414175342}. Best is trial 170 with value: -3.01458973979954.\u001b[0m\n"
     ]
    },
    {
     "name": "stdout",
     "output_type": "stream",
     "text": [
      "Trial 205 finished with value: -1.761615625643683 and parameters: {'x': 1.7384662482807052, 'y': 1.5984793414175342}. Best is trial 170 with value: -3.01458973979954.\n",
      "Trial 205 finished with value: -1.761615625643683 and parameters: {'x': 1.7384662482807052, 'y': 1.5984793414175342}. Best is trial 170 with value: -3.01458973979954.\n",
      "Trial 205 finished with value: -1.761615625643683 and parameters: {'x': 1.7384662482807052, 'y': 1.5984793414175342}. Best is trial 170 with value: -3.01458973979954.\n"
     ]
    },
    {
     "name": "stderr",
     "output_type": "stream",
     "text": [
      "\u001b[32m[I 2022-11-15 13:20:17,192]\u001b[0m Trial 206 finished with value: 1.081244795645206 and parameters: {'x': 1.4944688871955283, 'y': 1.4406601470577054}. Best is trial 170 with value: -3.01458973979954.\u001b[0m\n"
     ]
    },
    {
     "name": "stdout",
     "output_type": "stream",
     "text": [
      "Trial 206 finished with value: 1.081244795645206 and parameters: {'x': 1.4944688871955283, 'y': 1.4406601470577054}. Best is trial 170 with value: -3.01458973979954.\n",
      "Trial 206 finished with value: 1.081244795645206 and parameters: {'x': 1.4944688871955283, 'y': 1.4406601470577054}. Best is trial 170 with value: -3.01458973979954.\n",
      "Trial 206 finished with value: 1.081244795645206 and parameters: {'x': 1.4944688871955283, 'y': 1.4406601470577054}. Best is trial 170 with value: -3.01458973979954.\n"
     ]
    },
    {
     "name": "stderr",
     "output_type": "stream",
     "text": [
      "\u001b[32m[I 2022-11-15 13:20:17,197]\u001b[0m Trial 207 finished with value: -1.203363217584346 and parameters: {'x': 1.6817163482405073, 'y': -0.7572611516809165}. Best is trial 170 with value: -3.01458973979954.\u001b[0m\n"
     ]
    },
    {
     "name": "stdout",
     "output_type": "stream",
     "text": [
      "Trial 207 finished with value: -1.203363217584346 and parameters: {'x': 1.6817163482405073, 'y': -0.7572611516809165}. Best is trial 170 with value: -3.01458973979954.\n",
      "Trial 207 finished with value: -1.203363217584346 and parameters: {'x': 1.6817163482405073, 'y': -0.7572611516809165}. Best is trial 170 with value: -3.01458973979954.\n",
      "Trial 207 finished with value: -1.203363217584346 and parameters: {'x': 1.6817163482405073, 'y': -0.7572611516809165}. Best is trial 170 with value: -3.01458973979954.\n"
     ]
    },
    {
     "name": "stderr",
     "output_type": "stream",
     "text": [
      "\u001b[32m[I 2022-11-15 13:20:17,204]\u001b[0m Trial 208 finished with value: 1.62838249647882 and parameters: {'x': 1.8116289306607132, 'y': 1.7664001292365261}. Best is trial 170 with value: -3.01458973979954.\u001b[0m\n"
     ]
    },
    {
     "name": "stdout",
     "output_type": "stream",
     "text": [
      "Trial 208 finished with value: 1.62838249647882 and parameters: {'x': 1.8116289306607132, 'y': 1.7664001292365261}. Best is trial 170 with value: -3.01458973979954.\n",
      "Trial 208 finished with value: 1.62838249647882 and parameters: {'x': 1.8116289306607132, 'y': 1.7664001292365261}. Best is trial 170 with value: -3.01458973979954.\n",
      "Trial 208 finished with value: 1.62838249647882 and parameters: {'x': 1.8116289306607132, 'y': 1.7664001292365261}. Best is trial 170 with value: -3.01458973979954.\n"
     ]
    },
    {
     "name": "stderr",
     "output_type": "stream",
     "text": [
      "\u001b[32m[I 2022-11-15 13:20:17,210]\u001b[0m Trial 209 finished with value: -1.3261289134610548 and parameters: {'x': 1.5956370799491726, 'y': 1.491332587410509}. Best is trial 170 with value: -3.01458973979954.\u001b[0m\n"
     ]
    },
    {
     "name": "stdout",
     "output_type": "stream",
     "text": [
      "Trial 209 finished with value: -1.3261289134610548 and parameters: {'x': 1.5956370799491726, 'y': 1.491332587410509}. Best is trial 170 with value: -3.01458973979954.\n",
      "Trial 209 finished with value: -1.3261289134610548 and parameters: {'x': 1.5956370799491726, 'y': 1.491332587410509}. Best is trial 170 with value: -3.01458973979954.\n",
      "Trial 209 finished with value: -1.3261289134610548 and parameters: {'x': 1.5956370799491726, 'y': 1.491332587410509}. Best is trial 170 with value: -3.01458973979954.\n"
     ]
    },
    {
     "name": "stderr",
     "output_type": "stream",
     "text": [
      "\u001b[32m[I 2022-11-15 13:20:17,215]\u001b[0m Trial 210 finished with value: -1.9406977034450748 and parameters: {'x': 1.728181500222957, 'y': 1.6634775774718564}. Best is trial 170 with value: -3.01458973979954.\u001b[0m\n"
     ]
    },
    {
     "name": "stdout",
     "output_type": "stream",
     "text": [
      "Trial 210 finished with value: -1.9406977034450748 and parameters: {'x': 1.728181500222957, 'y': 1.6634775774718564}. Best is trial 170 with value: -3.01458973979954.\n",
      "Trial 210 finished with value: -1.9406977034450748 and parameters: {'x': 1.728181500222957, 'y': 1.6634775774718564}. Best is trial 170 with value: -3.01458973979954.\n",
      "Trial 210 finished with value: -1.9406977034450748 and parameters: {'x': 1.728181500222957, 'y': 1.6634775774718564}. Best is trial 170 with value: -3.01458973979954.\n"
     ]
    },
    {
     "name": "stderr",
     "output_type": "stream",
     "text": [
      "\u001b[32m[I 2022-11-15 13:20:17,222]\u001b[0m Trial 211 finished with value: -2.4366326528886733 and parameters: {'x': 1.6136861586495421, 'y': 1.545673461319399}. Best is trial 170 with value: -3.01458973979954.\u001b[0m\n"
     ]
    },
    {
     "name": "stdout",
     "output_type": "stream",
     "text": [
      "Trial 211 finished with value: -2.4366326528886733 and parameters: {'x': 1.6136861586495421, 'y': 1.545673461319399}. Best is trial 170 with value: -3.01458973979954.\n",
      "Trial 211 finished with value: -2.4366326528886733 and parameters: {'x': 1.6136861586495421, 'y': 1.545673461319399}. Best is trial 170 with value: -3.01458973979954.\n",
      "Trial 211 finished with value: -2.4366326528886733 and parameters: {'x': 1.6136861586495421, 'y': 1.545673461319399}. Best is trial 170 with value: -3.01458973979954.\n"
     ]
    },
    {
     "name": "stderr",
     "output_type": "stream",
     "text": [
      "\u001b[32m[I 2022-11-15 13:20:17,227]\u001b[0m Trial 212 finished with value: -2.0450439340356086 and parameters: {'x': 1.5537264820280787, 'y': 1.5604050197506711}. Best is trial 170 with value: -3.01458973979954.\u001b[0m\n"
     ]
    },
    {
     "name": "stdout",
     "output_type": "stream",
     "text": [
      "Trial 212 finished with value: -2.0450439340356086 and parameters: {'x': 1.5537264820280787, 'y': 1.5604050197506711}. Best is trial 170 with value: -3.01458973979954.\n",
      "Trial 212 finished with value: -2.0450439340356086 and parameters: {'x': 1.5537264820280787, 'y': 1.5604050197506711}. Best is trial 170 with value: -3.01458973979954.\n",
      "Trial 212 finished with value: -2.0450439340356086 and parameters: {'x': 1.5537264820280787, 'y': 1.5604050197506711}. Best is trial 170 with value: -3.01458973979954.\n"
     ]
    },
    {
     "name": "stderr",
     "output_type": "stream",
     "text": [
      "\u001b[32m[I 2022-11-15 13:20:17,234]\u001b[0m Trial 213 finished with value: -3.083778842390269 and parameters: {'x': 1.6467490595242418, 'y': 1.5968720653037893}. Best is trial 213 with value: -3.083778842390269.\u001b[0m\n"
     ]
    },
    {
     "name": "stdout",
     "output_type": "stream",
     "text": [
      "Trial 213 finished with value: -3.083778842390269 and parameters: {'x': 1.6467490595242418, 'y': 1.5968720653037893}. Best is trial 213 with value: -3.083778842390269.\n",
      "Trial 213 finished with value: -3.083778842390269 and parameters: {'x': 1.6467490595242418, 'y': 1.5968720653037893}. Best is trial 213 with value: -3.083778842390269.\n",
      "Trial 213 finished with value: -3.083778842390269 and parameters: {'x': 1.6467490595242418, 'y': 1.5968720653037893}. Best is trial 213 with value: -3.083778842390269.\n"
     ]
    },
    {
     "name": "stderr",
     "output_type": "stream",
     "text": [
      "\u001b[32m[I 2022-11-15 13:20:17,241]\u001b[0m Trial 214 finished with value: 0.8494854105110403 and parameters: {'x': 1.4675410547853713, 'y': 1.485600748634006}. Best is trial 213 with value: -3.083778842390269.\u001b[0m\n"
     ]
    },
    {
     "name": "stdout",
     "output_type": "stream",
     "text": [
      "Trial 214 finished with value: 0.8494854105110403 and parameters: {'x': 1.4675410547853713, 'y': 1.485600748634006}. Best is trial 213 with value: -3.083778842390269.\n",
      "Trial 214 finished with value: 0.8494854105110403 and parameters: {'x': 1.4675410547853713, 'y': 1.485600748634006}. Best is trial 213 with value: -3.083778842390269.\n",
      "Trial 214 finished with value: 0.8494854105110403 and parameters: {'x': 1.4675410547853713, 'y': 1.485600748634006}. Best is trial 213 with value: -3.083778842390269.\n"
     ]
    },
    {
     "name": "stderr",
     "output_type": "stream",
     "text": [
      "\u001b[32m[I 2022-11-15 13:20:17,248]\u001b[0m Trial 215 finished with value: -2.823262130216439 and parameters: {'x': 1.5855581947266397, 'y': 1.5889323477921389}. Best is trial 213 with value: -3.083778842390269.\u001b[0m\n"
     ]
    },
    {
     "name": "stdout",
     "output_type": "stream",
     "text": [
      "Trial 215 finished with value: -2.823262130216439 and parameters: {'x': 1.5855581947266397, 'y': 1.5889323477921389}. Best is trial 213 with value: -3.083778842390269.\n",
      "Trial 215 finished with value: -2.823262130216439 and parameters: {'x': 1.5855581947266397, 'y': 1.5889323477921389}. Best is trial 213 with value: -3.083778842390269.\n",
      "Trial 215 finished with value: -2.823262130216439 and parameters: {'x': 1.5855581947266397, 'y': 1.5889323477921389}. Best is trial 213 with value: -3.083778842390269.\n"
     ]
    },
    {
     "name": "stderr",
     "output_type": "stream",
     "text": [
      "\u001b[32m[I 2022-11-15 13:20:17,254]\u001b[0m Trial 216 finished with value: -2.2794180384072753 and parameters: {'x': 1.5369094455613694, 'y': 1.612311020139443}. Best is trial 213 with value: -3.083778842390269.\u001b[0m\n"
     ]
    },
    {
     "name": "stdout",
     "output_type": "stream",
     "text": [
      "Trial 216 finished with value: -2.2794180384072753 and parameters: {'x': 1.5369094455613694, 'y': 1.612311020139443}. Best is trial 213 with value: -3.083778842390269.\n",
      "Trial 216 finished with value: -2.2794180384072753 and parameters: {'x': 1.5369094455613694, 'y': 1.612311020139443}. Best is trial 213 with value: -3.083778842390269.\n",
      "Trial 216 finished with value: -2.2794180384072753 and parameters: {'x': 1.5369094455613694, 'y': 1.612311020139443}. Best is trial 213 with value: -3.083778842390269.\n"
     ]
    },
    {
     "name": "stderr",
     "output_type": "stream",
     "text": [
      "\u001b[32m[I 2022-11-15 13:20:17,261]\u001b[0m Trial 217 finished with value: 2.381610962851294 and parameters: {'x': 1.382223345600187, 'y': 1.4384373177311158}. Best is trial 213 with value: -3.083778842390269.\u001b[0m\n"
     ]
    },
    {
     "name": "stdout",
     "output_type": "stream",
     "text": [
      "Trial 217 finished with value: 2.381610962851294 and parameters: {'x': 1.382223345600187, 'y': 1.4384373177311158}. Best is trial 213 with value: -3.083778842390269.\n",
      "Trial 217 finished with value: 2.381610962851294 and parameters: {'x': 1.382223345600187, 'y': 1.4384373177311158}. Best is trial 213 with value: -3.083778842390269.\n",
      "Trial 217 finished with value: 2.381610962851294 and parameters: {'x': 1.382223345600187, 'y': 1.4384373177311158}. Best is trial 213 with value: -3.083778842390269.\n"
     ]
    },
    {
     "name": "stderr",
     "output_type": "stream",
     "text": [
      "\u001b[32m[I 2022-11-15 13:20:17,270]\u001b[0m Trial 218 finished with value: -1.7755633991146829 and parameters: {'x': 1.7413408429169719, 'y': 1.6110711194943137}. Best is trial 213 with value: -3.083778842390269.\u001b[0m\n"
     ]
    },
    {
     "name": "stdout",
     "output_type": "stream",
     "text": [
      "Trial 218 finished with value: -1.7755633991146829 and parameters: {'x': 1.7413408429169719, 'y': 1.6110711194943137}. Best is trial 213 with value: -3.083778842390269.\n",
      "Trial 218 finished with value: -1.7755633991146829 and parameters: {'x': 1.7413408429169719, 'y': 1.6110711194943137}. Best is trial 213 with value: -3.083778842390269.\n",
      "Trial 218 finished with value: -1.7755633991146829 and parameters: {'x': 1.7413408429169719, 'y': 1.6110711194943137}. Best is trial 213 with value: -3.083778842390269.\n"
     ]
    },
    {
     "name": "stderr",
     "output_type": "stream",
     "text": [
      "\u001b[32m[I 2022-11-15 13:20:17,278]\u001b[0m Trial 219 finished with value: -1.4482303209402632 and parameters: {'x': 1.6714094648709705, 'y': 0.23159204708435033}. Best is trial 213 with value: -3.083778842390269.\u001b[0m\n"
     ]
    },
    {
     "name": "stdout",
     "output_type": "stream",
     "text": [
      "Trial 219 finished with value: -1.4482303209402632 and parameters: {'x': 1.6714094648709705, 'y': 0.23159204708435033}. Best is trial 213 with value: -3.083778842390269.\n",
      "Trial 219 finished with value: -1.4482303209402632 and parameters: {'x': 1.6714094648709705, 'y': 0.23159204708435033}. Best is trial 213 with value: -3.083778842390269.\n",
      "Trial 219 finished with value: -1.4482303209402632 and parameters: {'x': 1.6714094648709705, 'y': 0.23159204708435033}. Best is trial 213 with value: -3.083778842390269.\n"
     ]
    },
    {
     "name": "stderr",
     "output_type": "stream",
     "text": [
      "\u001b[32m[I 2022-11-15 13:20:17,285]\u001b[0m Trial 220 finished with value: -0.13654068246328976 and parameters: {'x': 1.5937110683042648, 'y': 1.359915853177514}. Best is trial 213 with value: -3.083778842390269.\u001b[0m\n"
     ]
    },
    {
     "name": "stdout",
     "output_type": "stream",
     "text": [
      "Trial 220 finished with value: -0.13654068246328976 and parameters: {'x': 1.5937110683042648, 'y': 1.359915853177514}. Best is trial 213 with value: -3.083778842390269.\n",
      "Trial 220 finished with value: -0.13654068246328976 and parameters: {'x': 1.5937110683042648, 'y': 1.359915853177514}. Best is trial 213 with value: -3.083778842390269.\n",
      "Trial 220 finished with value: -0.13654068246328976 and parameters: {'x': 1.5937110683042648, 'y': 1.359915853177514}. Best is trial 213 with value: -3.083778842390269.\n"
     ]
    },
    {
     "name": "stderr",
     "output_type": "stream",
     "text": [
      "\u001b[32m[I 2022-11-15 13:20:17,292]\u001b[0m Trial 221 finished with value: -2.6271955394641404 and parameters: {'x': 1.6050896300887483, 'y': 1.5602802400479738}. Best is trial 213 with value: -3.083778842390269.\u001b[0m\n"
     ]
    },
    {
     "name": "stdout",
     "output_type": "stream",
     "text": [
      "Trial 221 finished with value: -2.6271955394641404 and parameters: {'x': 1.6050896300887483, 'y': 1.5602802400479738}. Best is trial 213 with value: -3.083778842390269.\n",
      "Trial 221 finished with value: -2.6271955394641404 and parameters: {'x': 1.6050896300887483, 'y': 1.5602802400479738}. Best is trial 213 with value: -3.083778842390269.\n",
      "Trial 221 finished with value: -2.6271955394641404 and parameters: {'x': 1.6050896300887483, 'y': 1.5602802400479738}. Best is trial 213 with value: -3.083778842390269.\n"
     ]
    },
    {
     "name": "stderr",
     "output_type": "stream",
     "text": [
      "\u001b[32m[I 2022-11-15 13:20:17,298]\u001b[0m Trial 222 finished with value: -2.446778318949576 and parameters: {'x': 1.558956740989297, 'y': 1.6714602961550031}. Best is trial 213 with value: -3.083778842390269.\u001b[0m\n"
     ]
    },
    {
     "name": "stdout",
     "output_type": "stream",
     "text": [
      "Trial 222 finished with value: -2.446778318949576 and parameters: {'x': 1.558956740989297, 'y': 1.6714602961550031}. Best is trial 213 with value: -3.083778842390269.\n",
      "Trial 222 finished with value: -2.446778318949576 and parameters: {'x': 1.558956740989297, 'y': 1.6714602961550031}. Best is trial 213 with value: -3.083778842390269.\n",
      "Trial 222 finished with value: -2.446778318949576 and parameters: {'x': 1.558956740989297, 'y': 1.6714602961550031}. Best is trial 213 with value: -3.083778842390269.\n"
     ]
    },
    {
     "name": "stderr",
     "output_type": "stream",
     "text": [
      "\u001b[32m[I 2022-11-15 13:20:17,305]\u001b[0m Trial 223 finished with value: -0.6395923892149284 and parameters: {'x': 1.472529424184479, 'y': 1.691273310506388}. Best is trial 213 with value: -3.083778842390269.\u001b[0m\n"
     ]
    },
    {
     "name": "stdout",
     "output_type": "stream",
     "text": [
      "Trial 223 finished with value: -0.6395923892149284 and parameters: {'x': 1.472529424184479, 'y': 1.691273310506388}. Best is trial 213 with value: -3.083778842390269.\n",
      "Trial 223 finished with value: -0.6395923892149284 and parameters: {'x': 1.472529424184479, 'y': 1.691273310506388}. Best is trial 213 with value: -3.083778842390269.\n",
      "Trial 223 finished with value: -0.6395923892149284 and parameters: {'x': 1.472529424184479, 'y': 1.691273310506388}. Best is trial 213 with value: -3.083778842390269.\n"
     ]
    },
    {
     "name": "stderr",
     "output_type": "stream",
     "text": [
      "\u001b[32m[I 2022-11-15 13:20:17,311]\u001b[0m Trial 224 finished with value: -0.016242144780157064 and parameters: {'x': 1.7535401354003228, 'y': 0.0993440490927463}. Best is trial 213 with value: -3.083778842390269.\u001b[0m\n"
     ]
    },
    {
     "name": "stdout",
     "output_type": "stream",
     "text": [
      "Trial 224 finished with value: -0.016242144780157064 and parameters: {'x': 1.7535401354003228, 'y': 0.0993440490927463}. Best is trial 213 with value: -3.083778842390269.\n",
      "Trial 224 finished with value: -0.016242144780157064 and parameters: {'x': 1.7535401354003228, 'y': 0.0993440490927463}. Best is trial 213 with value: -3.083778842390269.\n",
      "Trial 224 finished with value: -0.016242144780157064 and parameters: {'x': 1.7535401354003228, 'y': 0.0993440490927463}. Best is trial 213 with value: -3.083778842390269.\n"
     ]
    },
    {
     "name": "stderr",
     "output_type": "stream",
     "text": [
      "\u001b[32m[I 2022-11-15 13:20:17,317]\u001b[0m Trial 225 finished with value: 0.4463505910169965 and parameters: {'x': 1.5434657130541365, 'y': 1.810526907537457}. Best is trial 213 with value: -3.083778842390269.\u001b[0m\n"
     ]
    },
    {
     "name": "stdout",
     "output_type": "stream",
     "text": [
      "Trial 225 finished with value: 0.4463505910169965 and parameters: {'x': 1.5434657130541365, 'y': 1.810526907537457}. Best is trial 213 with value: -3.083778842390269.\n",
      "Trial 225 finished with value: 0.4463505910169965 and parameters: {'x': 1.5434657130541365, 'y': 1.810526907537457}. Best is trial 213 with value: -3.083778842390269.\n",
      "Trial 225 finished with value: 0.4463505910169965 and parameters: {'x': 1.5434657130541365, 'y': 1.810526907537457}. Best is trial 213 with value: -3.083778842390269.\n"
     ]
    },
    {
     "name": "stderr",
     "output_type": "stream",
     "text": [
      "\u001b[32m[I 2022-11-15 13:20:17,325]\u001b[0m Trial 226 finished with value: -2.7593480146920903 and parameters: {'x': 1.682304218832699, 'y': 1.6609040992438862}. Best is trial 213 with value: -3.083778842390269.\u001b[0m\n"
     ]
    },
    {
     "name": "stdout",
     "output_type": "stream",
     "text": [
      "Trial 226 finished with value: -2.7593480146920903 and parameters: {'x': 1.682304218832699, 'y': 1.6609040992438862}. Best is trial 213 with value: -3.083778842390269.\n",
      "Trial 226 finished with value: -2.7593480146920903 and parameters: {'x': 1.682304218832699, 'y': 1.6609040992438862}. Best is trial 213 with value: -3.083778842390269.\n",
      "Trial 226 finished with value: -2.7593480146920903 and parameters: {'x': 1.682304218832699, 'y': 1.6609040992438862}. Best is trial 213 with value: -3.083778842390269.\n"
     ]
    },
    {
     "name": "stderr",
     "output_type": "stream",
     "text": [
      "\u001b[32m[I 2022-11-15 13:20:17,331]\u001b[0m Trial 227 finished with value: 1.1641016262686896 and parameters: {'x': 1.8150769196282763, 'y': 1.742672770336573}. Best is trial 213 with value: -3.083778842390269.\u001b[0m\n"
     ]
    },
    {
     "name": "stdout",
     "output_type": "stream",
     "text": [
      "Trial 227 finished with value: 1.1641016262686896 and parameters: {'x': 1.8150769196282763, 'y': 1.742672770336573}. Best is trial 213 with value: -3.083778842390269.\n",
      "Trial 227 finished with value: 1.1641016262686896 and parameters: {'x': 1.8150769196282763, 'y': 1.742672770336573}. Best is trial 213 with value: -3.083778842390269.\n",
      "Trial 227 finished with value: 1.1641016262686896 and parameters: {'x': 1.8150769196282763, 'y': 1.742672770336573}. Best is trial 213 with value: -3.083778842390269.\n"
     ]
    },
    {
     "name": "stderr",
     "output_type": "stream",
     "text": [
      "\u001b[32m[I 2022-11-15 13:20:17,339]\u001b[0m Trial 228 finished with value: -2.8593724301236465 and parameters: {'x': 1.6682480416782313, 'y': 1.5892429069137655}. Best is trial 213 with value: -3.083778842390269.\u001b[0m\n"
     ]
    },
    {
     "name": "stdout",
     "output_type": "stream",
     "text": [
      "Trial 228 finished with value: -2.8593724301236465 and parameters: {'x': 1.6682480416782313, 'y': 1.5892429069137655}. Best is trial 213 with value: -3.083778842390269.\n",
      "Trial 228 finished with value: -2.8593724301236465 and parameters: {'x': 1.6682480416782313, 'y': 1.5892429069137655}. Best is trial 213 with value: -3.083778842390269.\n",
      "Trial 228 finished with value: -2.8593724301236465 and parameters: {'x': 1.6682480416782313, 'y': 1.5892429069137655}. Best is trial 213 with value: -3.083778842390269.\n"
     ]
    },
    {
     "name": "stderr",
     "output_type": "stream",
     "text": [
      "\u001b[32m[I 2022-11-15 13:20:17,348]\u001b[0m Trial 229 finished with value: -2.7867512356913355 and parameters: {'x': 1.6897278806424003, 'y': 1.6317978346218607}. Best is trial 213 with value: -3.083778842390269.\u001b[0m\n"
     ]
    },
    {
     "name": "stdout",
     "output_type": "stream",
     "text": [
      "Trial 229 finished with value: -2.7867512356913355 and parameters: {'x': 1.6897278806424003, 'y': 1.6317978346218607}. Best is trial 213 with value: -3.083778842390269.\n",
      "Trial 229 finished with value: -2.7867512356913355 and parameters: {'x': 1.6897278806424003, 'y': 1.6317978346218607}. Best is trial 213 with value: -3.083778842390269.\n",
      "Trial 229 finished with value: -2.7867512356913355 and parameters: {'x': 1.6897278806424003, 'y': 1.6317978346218607}. Best is trial 213 with value: -3.083778842390269.\n"
     ]
    },
    {
     "name": "stderr",
     "output_type": "stream",
     "text": [
      "\u001b[32m[I 2022-11-15 13:20:17,355]\u001b[0m Trial 230 finished with value: -2.6601277678067126 and parameters: {'x': 1.697910439775811, 'y': 1.6309372192476408}. Best is trial 213 with value: -3.083778842390269.\u001b[0m\n"
     ]
    },
    {
     "name": "stdout",
     "output_type": "stream",
     "text": [
      "Trial 230 finished with value: -2.6601277678067126 and parameters: {'x': 1.697910439775811, 'y': 1.6309372192476408}. Best is trial 213 with value: -3.083778842390269.\n",
      "Trial 230 finished with value: -2.6601277678067126 and parameters: {'x': 1.697910439775811, 'y': 1.6309372192476408}. Best is trial 213 with value: -3.083778842390269.\n",
      "Trial 230 finished with value: -2.6601277678067126 and parameters: {'x': 1.697910439775811, 'y': 1.6309372192476408}. Best is trial 213 with value: -3.083778842390269.\n"
     ]
    },
    {
     "name": "stderr",
     "output_type": "stream",
     "text": [
      "\u001b[32m[I 2022-11-15 13:20:17,362]\u001b[0m Trial 231 finished with value: -2.30938483753229 and parameters: {'x': 1.71588739016257, 'y': 1.6133657168058537}. Best is trial 213 with value: -3.083778842390269.\u001b[0m\n"
     ]
    },
    {
     "name": "stdout",
     "output_type": "stream",
     "text": [
      "Trial 231 finished with value: -2.30938483753229 and parameters: {'x': 1.71588739016257, 'y': 1.6133657168058537}. Best is trial 213 with value: -3.083778842390269.\n",
      "Trial 231 finished with value: -2.30938483753229 and parameters: {'x': 1.71588739016257, 'y': 1.6133657168058537}. Best is trial 213 with value: -3.083778842390269.\n",
      "Trial 231 finished with value: -2.30938483753229 and parameters: {'x': 1.71588739016257, 'y': 1.6133657168058537}. Best is trial 213 with value: -3.083778842390269.\n"
     ]
    },
    {
     "name": "stderr",
     "output_type": "stream",
     "text": [
      "\u001b[32m[I 2022-11-15 13:20:17,367]\u001b[0m Trial 232 finished with value: -2.992935966814467 and parameters: {'x': 1.6602147407460184, 'y': 1.6611541061396524}. Best is trial 213 with value: -3.083778842390269.\u001b[0m\n"
     ]
    },
    {
     "name": "stdout",
     "output_type": "stream",
     "text": [
      "Trial 232 finished with value: -2.992935966814467 and parameters: {'x': 1.6602147407460184, 'y': 1.6611541061396524}. Best is trial 213 with value: -3.083778842390269.\n",
      "Trial 232 finished with value: -2.992935966814467 and parameters: {'x': 1.6602147407460184, 'y': 1.6611541061396524}. Best is trial 213 with value: -3.083778842390269.\n",
      "Trial 232 finished with value: -2.992935966814467 and parameters: {'x': 1.6602147407460184, 'y': 1.6611541061396524}. Best is trial 213 with value: -3.083778842390269.\n"
     ]
    },
    {
     "name": "stderr",
     "output_type": "stream",
     "text": [
      "\u001b[32m[I 2022-11-15 13:20:17,372]\u001b[0m Trial 233 finished with value: -1.77608282723507 and parameters: {'x': 1.6111938886461172, 'y': 1.5099906726655963}. Best is trial 213 with value: -3.083778842390269.\u001b[0m\n"
     ]
    },
    {
     "name": "stdout",
     "output_type": "stream",
     "text": [
      "Trial 233 finished with value: -1.77608282723507 and parameters: {'x': 1.6111938886461172, 'y': 1.5099906726655963}. Best is trial 213 with value: -3.083778842390269.\n",
      "Trial 233 finished with value: -1.77608282723507 and parameters: {'x': 1.6111938886461172, 'y': 1.5099906726655963}. Best is trial 213 with value: -3.083778842390269.\n",
      "Trial 233 finished with value: -1.77608282723507 and parameters: {'x': 1.6111938886461172, 'y': 1.5099906726655963}. Best is trial 213 with value: -3.083778842390269.\n"
     ]
    },
    {
     "name": "stderr",
     "output_type": "stream",
     "text": [
      "\u001b[32m[I 2022-11-15 13:20:17,377]\u001b[0m Trial 234 finished with value: -0.2563790157508765 and parameters: {'x': 1.8167347752815572, 'y': 1.616572607629062}. Best is trial 213 with value: -3.083778842390269.\u001b[0m\n"
     ]
    },
    {
     "name": "stdout",
     "output_type": "stream",
     "text": [
      "Trial 234 finished with value: -0.2563790157508765 and parameters: {'x': 1.8167347752815572, 'y': 1.616572607629062}. Best is trial 213 with value: -3.083778842390269.\n",
      "Trial 234 finished with value: -0.2563790157508765 and parameters: {'x': 1.8167347752815572, 'y': 1.616572607629062}. Best is trial 213 with value: -3.083778842390269.\n",
      "Trial 234 finished with value: -0.2563790157508765 and parameters: {'x': 1.8167347752815572, 'y': 1.616572607629062}. Best is trial 213 with value: -3.083778842390269.\n"
     ]
    },
    {
     "name": "stderr",
     "output_type": "stream",
     "text": [
      "\u001b[32m[I 2022-11-15 13:20:17,382]\u001b[0m Trial 235 finished with value: -1.289881963535781 and parameters: {'x': 1.6759146011420587, 'y': 1.7524774558764957}. Best is trial 213 with value: -3.083778842390269.\u001b[0m\n"
     ]
    },
    {
     "name": "stdout",
     "output_type": "stream",
     "text": [
      "Trial 235 finished with value: -1.289881963535781 and parameters: {'x': 1.6759146011420587, 'y': 1.7524774558764957}. Best is trial 213 with value: -3.083778842390269.\n",
      "Trial 235 finished with value: -1.289881963535781 and parameters: {'x': 1.6759146011420587, 'y': 1.7524774558764957}. Best is trial 213 with value: -3.083778842390269.\n",
      "Trial 235 finished with value: -1.289881963535781 and parameters: {'x': 1.6759146011420587, 'y': 1.7524774558764957}. Best is trial 213 with value: -3.083778842390269.\n"
     ]
    },
    {
     "name": "stderr",
     "output_type": "stream",
     "text": [
      "\u001b[32m[I 2022-11-15 13:20:17,387]\u001b[0m Trial 236 finished with value: -0.42355472732671606 and parameters: {'x': 1.762273392225332, 'y': 1.5372888351710694}. Best is trial 213 with value: -3.083778842390269.\u001b[0m\n"
     ]
    },
    {
     "name": "stdout",
     "output_type": "stream",
     "text": [
      "Trial 236 finished with value: -0.42355472732671606 and parameters: {'x': 1.762273392225332, 'y': 1.5372888351710694}. Best is trial 213 with value: -3.083778842390269.\n",
      "Trial 236 finished with value: -0.42355472732671606 and parameters: {'x': 1.762273392225332, 'y': 1.5372888351710694}. Best is trial 213 with value: -3.083778842390269.\n",
      "Trial 236 finished with value: -0.42355472732671606 and parameters: {'x': 1.762273392225332, 'y': 1.5372888351710694}. Best is trial 213 with value: -3.083778842390269.\n"
     ]
    },
    {
     "name": "stderr",
     "output_type": "stream",
     "text": [
      "\u001b[32m[I 2022-11-15 13:20:17,392]\u001b[0m Trial 237 finished with value: 0.4312139346380086 and parameters: {'x': 1.5890837337201111, 'y': 1.8681305258272716}. Best is trial 213 with value: -3.083778842390269.\u001b[0m\n"
     ]
    },
    {
     "name": "stdout",
     "output_type": "stream",
     "text": [
      "Trial 237 finished with value: 0.4312139346380086 and parameters: {'x': 1.5890837337201111, 'y': 1.8681305258272716}. Best is trial 213 with value: -3.083778842390269.\n",
      "Trial 237 finished with value: 0.4312139346380086 and parameters: {'x': 1.5890837337201111, 'y': 1.8681305258272716}. Best is trial 213 with value: -3.083778842390269.\n",
      "Trial 237 finished with value: 0.4312139346380086 and parameters: {'x': 1.5890837337201111, 'y': 1.8681305258272716}. Best is trial 213 with value: -3.083778842390269.\n"
     ]
    },
    {
     "name": "stderr",
     "output_type": "stream",
     "text": [
      "\u001b[32m[I 2022-11-15 13:20:17,397]\u001b[0m Trial 238 finished with value: -0.4904020521266858 and parameters: {'x': 1.4816547794452324, 'y': 1.7097186766404435}. Best is trial 213 with value: -3.083778842390269.\u001b[0m\n"
     ]
    },
    {
     "name": "stdout",
     "output_type": "stream",
     "text": [
      "Trial 238 finished with value: -0.4904020521266858 and parameters: {'x': 1.4816547794452324, 'y': 1.7097186766404435}. Best is trial 213 with value: -3.083778842390269.\n",
      "Trial 238 finished with value: -0.4904020521266858 and parameters: {'x': 1.4816547794452324, 'y': 1.7097186766404435}. Best is trial 213 with value: -3.083778842390269.\n",
      "Trial 238 finished with value: -0.4904020521266858 and parameters: {'x': 1.4816547794452324, 'y': 1.7097186766404435}. Best is trial 213 with value: -3.083778842390269.\n"
     ]
    },
    {
     "name": "stderr",
     "output_type": "stream",
     "text": [
      "\u001b[32m[I 2022-11-15 13:20:17,403]\u001b[0m Trial 239 finished with value: -3.148095836490249 and parameters: {'x': 1.6411807355196701, 'y': 1.6027833470490775}. Best is trial 239 with value: -3.148095836490249.\u001b[0m\n"
     ]
    },
    {
     "name": "stdout",
     "output_type": "stream",
     "text": [
      "Trial 239 finished with value: -3.148095836490249 and parameters: {'x': 1.6411807355196701, 'y': 1.6027833470490775}. Best is trial 239 with value: -3.148095836490249.\n",
      "Trial 239 finished with value: -3.148095836490249 and parameters: {'x': 1.6411807355196701, 'y': 1.6027833470490775}. Best is trial 239 with value: -3.148095836490249.\n",
      "Trial 239 finished with value: -3.148095836490249 and parameters: {'x': 1.6411807355196701, 'y': 1.6027833470490775}. Best is trial 239 with value: -3.148095836490249.\n"
     ]
    },
    {
     "name": "stderr",
     "output_type": "stream",
     "text": [
      "\u001b[32m[I 2022-11-15 13:20:17,409]\u001b[0m Trial 240 finished with value: -1.505517851299026 and parameters: {'x': 1.6349834950000526, 'y': 1.4937812576021852}. Best is trial 239 with value: -3.148095836490249.\u001b[0m\n"
     ]
    },
    {
     "name": "stdout",
     "output_type": "stream",
     "text": [
      "Trial 240 finished with value: -1.505517851299026 and parameters: {'x': 1.6349834950000526, 'y': 1.4937812576021852}. Best is trial 239 with value: -3.148095836490249.\n",
      "Trial 240 finished with value: -1.505517851299026 and parameters: {'x': 1.6349834950000526, 'y': 1.4937812576021852}. Best is trial 239 with value: -3.148095836490249.\n",
      "Trial 240 finished with value: -1.505517851299026 and parameters: {'x': 1.6349834950000526, 'y': 1.4937812576021852}. Best is trial 239 with value: -3.148095836490249.\n"
     ]
    },
    {
     "name": "stderr",
     "output_type": "stream",
     "text": [
      "\u001b[32m[I 2022-11-15 13:20:17,413]\u001b[0m Trial 241 finished with value: -2.7436362956347247 and parameters: {'x': 1.687929686182766, 'y': 1.6053323722457316}. Best is trial 239 with value: -3.148095836490249.\u001b[0m\n"
     ]
    },
    {
     "name": "stdout",
     "output_type": "stream",
     "text": [
      "Trial 241 finished with value: -2.7436362956347247 and parameters: {'x': 1.687929686182766, 'y': 1.6053323722457316}. Best is trial 239 with value: -3.148095836490249.\n",
      "Trial 241 finished with value: -2.7436362956347247 and parameters: {'x': 1.687929686182766, 'y': 1.6053323722457316}. Best is trial 239 with value: -3.148095836490249.\n",
      "Trial 241 finished with value: -2.7436362956347247 and parameters: {'x': 1.687929686182766, 'y': 1.6053323722457316}. Best is trial 239 with value: -3.148095836490249.\n"
     ]
    },
    {
     "name": "stderr",
     "output_type": "stream",
     "text": [
      "\u001b[32m[I 2022-11-15 13:20:17,419]\u001b[0m Trial 242 finished with value: -1.5358381058230328 and parameters: {'x': 0.0344584312608676, 'y': 1.65747270341518}. Best is trial 239 with value: -3.148095836490249.\u001b[0m\n"
     ]
    },
    {
     "name": "stdout",
     "output_type": "stream",
     "text": [
      "Trial 242 finished with value: -1.5358381058230328 and parameters: {'x': 0.0344584312608676, 'y': 1.65747270341518}. Best is trial 239 with value: -3.148095836490249.\n",
      "Trial 242 finished with value: -1.5358381058230328 and parameters: {'x': 0.0344584312608676, 'y': 1.65747270341518}. Best is trial 239 with value: -3.148095836490249.\n",
      "Trial 242 finished with value: -1.5358381058230328 and parameters: {'x': 0.0344584312608676, 'y': 1.65747270341518}. Best is trial 239 with value: -3.148095836490249.\n"
     ]
    },
    {
     "name": "stderr",
     "output_type": "stream",
     "text": [
      "\u001b[32m[I 2022-11-15 13:20:17,423]\u001b[0m Trial 243 finished with value: -1.8575264824923652 and parameters: {'x': 1.5345297676340732, 'y': 1.5701999993548013}. Best is trial 239 with value: -3.148095836490249.\u001b[0m\n"
     ]
    },
    {
     "name": "stdout",
     "output_type": "stream",
     "text": [
      "Trial 243 finished with value: -1.8575264824923652 and parameters: {'x': 1.5345297676340732, 'y': 1.5701999993548013}. Best is trial 239 with value: -3.148095836490249.\n",
      "Trial 243 finished with value: -1.8575264824923652 and parameters: {'x': 1.5345297676340732, 'y': 1.5701999993548013}. Best is trial 239 with value: -3.148095836490249.\n",
      "Trial 243 finished with value: -1.8575264824923652 and parameters: {'x': 1.5345297676340732, 'y': 1.5701999993548013}. Best is trial 239 with value: -3.148095836490249.\n"
     ]
    },
    {
     "name": "stderr",
     "output_type": "stream",
     "text": [
      "\u001b[32m[I 2022-11-15 13:20:17,428]\u001b[0m Trial 244 finished with value: -1.5205408869715684 and parameters: {'x': 1.6397289644239907, 'y': 1.754138347498877}. Best is trial 239 with value: -3.148095836490249.\u001b[0m\n"
     ]
    },
    {
     "name": "stdout",
     "output_type": "stream",
     "text": [
      "Trial 244 finished with value: -1.5205408869715684 and parameters: {'x': 1.6397289644239907, 'y': 1.754138347498877}. Best is trial 239 with value: -3.148095836490249.\n",
      "Trial 244 finished with value: -1.5205408869715684 and parameters: {'x': 1.6397289644239907, 'y': 1.754138347498877}. Best is trial 239 with value: -3.148095836490249.\n",
      "Trial 244 finished with value: -1.5205408869715684 and parameters: {'x': 1.6397289644239907, 'y': 1.754138347498877}. Best is trial 239 with value: -3.148095836490249.\n"
     ]
    },
    {
     "name": "stderr",
     "output_type": "stream",
     "text": [
      "\u001b[32m[I 2022-11-15 13:20:17,432]\u001b[0m Trial 245 finished with value: -1.5674851458621772 and parameters: {'x': 1.7493065997694812, 'y': 1.6529169614882084}. Best is trial 239 with value: -3.148095836490249.\u001b[0m\n"
     ]
    },
    {
     "name": "stdout",
     "output_type": "stream",
     "text": [
      "Trial 245 finished with value: -1.5674851458621772 and parameters: {'x': 1.7493065997694812, 'y': 1.6529169614882084}. Best is trial 239 with value: -3.148095836490249.\n",
      "Trial 245 finished with value: -1.5674851458621772 and parameters: {'x': 1.7493065997694812, 'y': 1.6529169614882084}. Best is trial 239 with value: -3.148095836490249.\n",
      "Trial 245 finished with value: -1.5674851458621772 and parameters: {'x': 1.7493065997694812, 'y': 1.6529169614882084}. Best is trial 239 with value: -3.148095836490249.\n"
     ]
    },
    {
     "name": "stderr",
     "output_type": "stream",
     "text": [
      "\u001b[32m[I 2022-11-15 13:20:17,438]\u001b[0m Trial 246 finished with value: -2.4534592196461347 and parameters: {'x': 1.5636494318477678, 'y': 1.579817357544517}. Best is trial 239 with value: -3.148095836490249.\u001b[0m\n"
     ]
    },
    {
     "name": "stdout",
     "output_type": "stream",
     "text": [
      "Trial 246 finished with value: -2.4534592196461347 and parameters: {'x': 1.5636494318477678, 'y': 1.579817357544517}. Best is trial 239 with value: -3.148095836490249.\n",
      "Trial 246 finished with value: -2.4534592196461347 and parameters: {'x': 1.5636494318477678, 'y': 1.579817357544517}. Best is trial 239 with value: -3.148095836490249.\n",
      "Trial 246 finished with value: -2.4534592196461347 and parameters: {'x': 1.5636494318477678, 'y': 1.579817357544517}. Best is trial 239 with value: -3.148095836490249.\n"
     ]
    },
    {
     "name": "stderr",
     "output_type": "stream",
     "text": [
      "\u001b[32m[I 2022-11-15 13:20:17,442]\u001b[0m Trial 247 finished with value: 0.6905971737126881 and parameters: {'x': -0.1643111914852197, 'y': 1.4511950842018815}. Best is trial 239 with value: -3.148095836490249.\u001b[0m\n"
     ]
    },
    {
     "name": "stdout",
     "output_type": "stream",
     "text": [
      "Trial 247 finished with value: 0.6905971737126881 and parameters: {'x': -0.1643111914852197, 'y': 1.4511950842018815}. Best is trial 239 with value: -3.148095836490249.\n",
      "Trial 247 finished with value: 0.6905971737126881 and parameters: {'x': -0.1643111914852197, 'y': 1.4511950842018815}. Best is trial 239 with value: -3.148095836490249.\n",
      "Trial 247 finished with value: 0.6905971737126881 and parameters: {'x': -0.1643111914852197, 'y': 1.4511950842018815}. Best is trial 239 with value: -3.148095836490249.\n"
     ]
    },
    {
     "name": "stderr",
     "output_type": "stream",
     "text": [
      "\u001b[32m[I 2022-11-15 13:20:17,447]\u001b[0m Trial 248 finished with value: -1.317723239726666 and parameters: {'x': 1.6654128748492516, 'y': -1.9945093587191918}. Best is trial 239 with value: -3.148095836490249.\u001b[0m\n"
     ]
    },
    {
     "name": "stdout",
     "output_type": "stream",
     "text": [
      "Trial 248 finished with value: -1.317723239726666 and parameters: {'x': 1.6654128748492516, 'y': -1.9945093587191918}. Best is trial 239 with value: -3.148095836490249.\n",
      "Trial 248 finished with value: -1.317723239726666 and parameters: {'x': 1.6654128748492516, 'y': -1.9945093587191918}. Best is trial 239 with value: -3.148095836490249.\n",
      "Trial 248 finished with value: -1.317723239726666 and parameters: {'x': 1.6654128748492516, 'y': -1.9945093587191918}. Best is trial 239 with value: -3.148095836490249.\n"
     ]
    },
    {
     "name": "stderr",
     "output_type": "stream",
     "text": [
      "\u001b[32m[I 2022-11-15 13:20:17,452]\u001b[0m Trial 249 finished with value: 1.2106954696870513 and parameters: {'x': 1.8786509460590932, 'y': 1.7183283281607133}. Best is trial 239 with value: -3.148095836490249.\u001b[0m\n"
     ]
    },
    {
     "name": "stdout",
     "output_type": "stream",
     "text": [
      "Trial 249 finished with value: 1.2106954696870513 and parameters: {'x': 1.8786509460590932, 'y': 1.7183283281607133}. Best is trial 239 with value: -3.148095836490249.\n",
      "Trial 249 finished with value: 1.2106954696870513 and parameters: {'x': 1.8786509460590932, 'y': 1.7183283281607133}. Best is trial 239 with value: -3.148095836490249.\n",
      "Trial 249 finished with value: 1.2106954696870513 and parameters: {'x': 1.8786509460590932, 'y': 1.7183283281607133}. Best is trial 239 with value: -3.148095836490249.\n"
     ]
    },
    {
     "name": "stderr",
     "output_type": "stream",
     "text": [
      "\u001b[32m[I 2022-11-15 13:20:17,457]\u001b[0m Trial 250 finished with value: -0.14330713822919405 and parameters: {'x': 1.4411611390049694, 'y': -1.1427608695414166}. Best is trial 239 with value: -3.148095836490249.\u001b[0m\n"
     ]
    },
    {
     "name": "stdout",
     "output_type": "stream",
     "text": [
      "Trial 250 finished with value: -0.14330713822919405 and parameters: {'x': 1.4411611390049694, 'y': -1.1427608695414166}. Best is trial 239 with value: -3.148095836490249.\n",
      "Trial 250 finished with value: -0.14330713822919405 and parameters: {'x': 1.4411611390049694, 'y': -1.1427608695414166}. Best is trial 239 with value: -3.148095836490249.\n",
      "Trial 250 finished with value: -0.14330713822919405 and parameters: {'x': 1.4411611390049694, 'y': -1.1427608695414166}. Best is trial 239 with value: -3.148095836490249.\n"
     ]
    },
    {
     "name": "stderr",
     "output_type": "stream",
     "text": [
      "\u001b[32m[I 2022-11-15 13:20:17,462]\u001b[0m Trial 251 finished with value: -2.6701887024255093 and parameters: {'x': 1.5953655119597336, 'y': 1.5681101661121755}. Best is trial 239 with value: -3.148095836490249.\u001b[0m\n"
     ]
    },
    {
     "name": "stdout",
     "output_type": "stream",
     "text": [
      "Trial 251 finished with value: -2.6701887024255093 and parameters: {'x': 1.5953655119597336, 'y': 1.5681101661121755}. Best is trial 239 with value: -3.148095836490249.\n",
      "Trial 251 finished with value: -2.6701887024255093 and parameters: {'x': 1.5953655119597336, 'y': 1.5681101661121755}. Best is trial 239 with value: -3.148095836490249.\n",
      "Trial 251 finished with value: -2.6701887024255093 and parameters: {'x': 1.5953655119597336, 'y': 1.5681101661121755}. Best is trial 239 with value: -3.148095836490249.\n"
     ]
    },
    {
     "name": "stderr",
     "output_type": "stream",
     "text": [
      "\u001b[32m[I 2022-11-15 13:20:17,467]\u001b[0m Trial 252 finished with value: -0.823219091225909 and parameters: {'x': 1.5132366739990073, 'y': 1.5305179263497957}. Best is trial 239 with value: -3.148095836490249.\u001b[0m\n"
     ]
    },
    {
     "name": "stdout",
     "output_type": "stream",
     "text": [
      "Trial 252 finished with value: -0.823219091225909 and parameters: {'x': 1.5132366739990073, 'y': 1.5305179263497957}. Best is trial 239 with value: -3.148095836490249.\n",
      "Trial 252 finished with value: -0.823219091225909 and parameters: {'x': 1.5132366739990073, 'y': 1.5305179263497957}. Best is trial 239 with value: -3.148095836490249.\n",
      "Trial 252 finished with value: -0.823219091225909 and parameters: {'x': 1.5132366739990073, 'y': 1.5305179263497957}. Best is trial 239 with value: -3.148095836490249.\n"
     ]
    },
    {
     "name": "stderr",
     "output_type": "stream",
     "text": [
      "\u001b[32m[I 2022-11-15 13:20:17,472]\u001b[0m Trial 253 finished with value: -3.1514234470766698 and parameters: {'x': 1.6017955628689056, 'y': 1.6201963859114867}. Best is trial 253 with value: -3.1514234470766698.\u001b[0m\n"
     ]
    },
    {
     "name": "stdout",
     "output_type": "stream",
     "text": [
      "Trial 253 finished with value: -3.1514234470766698 and parameters: {'x': 1.6017955628689056, 'y': 1.6201963859114867}. Best is trial 253 with value: -3.1514234470766698.\n",
      "Trial 253 finished with value: -3.1514234470766698 and parameters: {'x': 1.6017955628689056, 'y': 1.6201963859114867}. Best is trial 253 with value: -3.1514234470766698.\n",
      "Trial 253 finished with value: -3.1514234470766698 and parameters: {'x': 1.6017955628689056, 'y': 1.6201963859114867}. Best is trial 253 with value: -3.1514234470766698.\n"
     ]
    },
    {
     "name": "stderr",
     "output_type": "stream",
     "text": [
      "\u001b[32m[I 2022-11-15 13:20:17,477]\u001b[0m Trial 254 finished with value: -0.26727884602325447 and parameters: {'x': 1.6041629389556034, 'y': 1.8125340924942654}. Best is trial 253 with value: -3.1514234470766698.\u001b[0m\n"
     ]
    },
    {
     "name": "stdout",
     "output_type": "stream",
     "text": [
      "Trial 254 finished with value: -0.26727884602325447 and parameters: {'x': 1.6041629389556034, 'y': 1.8125340924942654}. Best is trial 253 with value: -3.1514234470766698.\n",
      "Trial 254 finished with value: -0.26727884602325447 and parameters: {'x': 1.6041629389556034, 'y': 1.8125340924942654}. Best is trial 253 with value: -3.1514234470766698.\n",
      "Trial 254 finished with value: -0.26727884602325447 and parameters: {'x': 1.6041629389556034, 'y': 1.8125340924942654}. Best is trial 253 with value: -3.1514234470766698.\n"
     ]
    },
    {
     "name": "stderr",
     "output_type": "stream",
     "text": [
      "\u001b[32m[I 2022-11-15 13:20:17,482]\u001b[0m Trial 255 finished with value: -2.5926819441378353 and parameters: {'x': -1.557020799512182, 'y': 1.6498502711101792}. Best is trial 253 with value: -3.1514234470766698.\u001b[0m\n"
     ]
    },
    {
     "name": "stdout",
     "output_type": "stream",
     "text": [
      "Trial 255 finished with value: -2.5926819441378353 and parameters: {'x': -1.557020799512182, 'y': 1.6498502711101792}. Best is trial 253 with value: -3.1514234470766698.\n",
      "Trial 255 finished with value: -2.5926819441378353 and parameters: {'x': -1.557020799512182, 'y': 1.6498502711101792}. Best is trial 253 with value: -3.1514234470766698.\n",
      "Trial 255 finished with value: -2.5926819441378353 and parameters: {'x': -1.557020799512182, 'y': 1.6498502711101792}. Best is trial 253 with value: -3.1514234470766698.\n"
     ]
    },
    {
     "name": "stderr",
     "output_type": "stream",
     "text": [
      "\u001b[32m[I 2022-11-15 13:20:17,487]\u001b[0m Trial 256 finished with value: -0.5234022421468765 and parameters: {'x': 1.6952367757022915, 'y': 1.4692755078184974}. Best is trial 253 with value: -3.1514234470766698.\u001b[0m\n"
     ]
    },
    {
     "name": "stdout",
     "output_type": "stream",
     "text": [
      "Trial 256 finished with value: -0.5234022421468765 and parameters: {'x': 1.6952367757022915, 'y': 1.4692755078184974}. Best is trial 253 with value: -3.1514234470766698.\n",
      "Trial 256 finished with value: -0.5234022421468765 and parameters: {'x': 1.6952367757022915, 'y': 1.4692755078184974}. Best is trial 253 with value: -3.1514234470766698.\n",
      "Trial 256 finished with value: -0.5234022421468765 and parameters: {'x': 1.6952367757022915, 'y': 1.4692755078184974}. Best is trial 253 with value: -3.1514234470766698.\n"
     ]
    },
    {
     "name": "stderr",
     "output_type": "stream",
     "text": [
      "\u001b[32m[I 2022-11-15 13:20:17,492]\u001b[0m Trial 257 finished with value: -0.7943070524956317 and parameters: {'x': -0.9569505263478021, 'y': 1.5760456840259283}. Best is trial 253 with value: -3.1514234470766698.\u001b[0m\n"
     ]
    },
    {
     "name": "stdout",
     "output_type": "stream",
     "text": [
      "Trial 257 finished with value: -0.7943070524956317 and parameters: {'x': -0.9569505263478021, 'y': 1.5760456840259283}. Best is trial 253 with value: -3.1514234470766698.\n",
      "Trial 257 finished with value: -0.7943070524956317 and parameters: {'x': -0.9569505263478021, 'y': 1.5760456840259283}. Best is trial 253 with value: -3.1514234470766698.\n",
      "Trial 257 finished with value: -0.7943070524956317 and parameters: {'x': -0.9569505263478021, 'y': 1.5760456840259283}. Best is trial 253 with value: -3.1514234470766698.\n"
     ]
    },
    {
     "name": "stderr",
     "output_type": "stream",
     "text": [
      "\u001b[32m[I 2022-11-15 13:20:17,497]\u001b[0m Trial 258 finished with value: -2.5982626553679165 and parameters: {'x': 1.592970302115285, 'y': 1.6916238567790889}. Best is trial 253 with value: -3.1514234470766698.\u001b[0m\n"
     ]
    },
    {
     "name": "stdout",
     "output_type": "stream",
     "text": [
      "Trial 258 finished with value: -2.5982626553679165 and parameters: {'x': 1.592970302115285, 'y': 1.6916238567790889}. Best is trial 253 with value: -3.1514234470766698.\n",
      "Trial 258 finished with value: -2.5982626553679165 and parameters: {'x': 1.592970302115285, 'y': 1.6916238567790889}. Best is trial 253 with value: -3.1514234470766698.\n",
      "Trial 258 finished with value: -2.5982626553679165 and parameters: {'x': 1.592970302115285, 'y': 1.6916238567790889}. Best is trial 253 with value: -3.1514234470766698.\n"
     ]
    },
    {
     "name": "stderr",
     "output_type": "stream",
     "text": [
      "\u001b[32m[I 2022-11-15 13:20:17,502]\u001b[0m Trial 259 finished with value: 1.787420900499209 and parameters: {'x': 1.7737370545615252, 'y': 1.4114226239611143}. Best is trial 253 with value: -3.1514234470766698.\u001b[0m\n"
     ]
    },
    {
     "name": "stdout",
     "output_type": "stream",
     "text": [
      "Trial 259 finished with value: 1.787420900499209 and parameters: {'x': 1.7737370545615252, 'y': 1.4114226239611143}. Best is trial 253 with value: -3.1514234470766698.\n",
      "Trial 259 finished with value: 1.787420900499209 and parameters: {'x': 1.7737370545615252, 'y': 1.4114226239611143}. Best is trial 253 with value: -3.1514234470766698.\n",
      "Trial 259 finished with value: 1.787420900499209 and parameters: {'x': 1.7737370545615252, 'y': 1.4114226239611143}. Best is trial 253 with value: -3.1514234470766698.\n"
     ]
    },
    {
     "name": "stderr",
     "output_type": "stream",
     "text": [
      "\u001b[32m[I 2022-11-15 13:20:17,507]\u001b[0m Trial 260 finished with value: -1.732128219490431 and parameters: {'x': 1.50850891190601, 'y': 1.6079410116563628}. Best is trial 253 with value: -3.1514234470766698.\u001b[0m\n"
     ]
    },
    {
     "name": "stdout",
     "output_type": "stream",
     "text": [
      "Trial 260 finished with value: -1.732128219490431 and parameters: {'x': 1.50850891190601, 'y': 1.6079410116563628}. Best is trial 253 with value: -3.1514234470766698.\n",
      "Trial 260 finished with value: -1.732128219490431 and parameters: {'x': 1.50850891190601, 'y': 1.6079410116563628}. Best is trial 253 with value: -3.1514234470766698.\n",
      "Trial 260 finished with value: -1.732128219490431 and parameters: {'x': 1.50850891190601, 'y': 1.6079410116563628}. Best is trial 253 with value: -3.1514234470766698.\n"
     ]
    },
    {
     "name": "stderr",
     "output_type": "stream",
     "text": [
      "\u001b[32m[I 2022-11-15 13:20:17,512]\u001b[0m Trial 261 finished with value: -1.1677780619828637 and parameters: {'x': 1.660601172655232, 'y': 1.7649393178177484}. Best is trial 253 with value: -3.1514234470766698.\u001b[0m\n"
     ]
    },
    {
     "name": "stdout",
     "output_type": "stream",
     "text": [
      "Trial 261 finished with value: -1.1677780619828637 and parameters: {'x': 1.660601172655232, 'y': 1.7649393178177484}. Best is trial 253 with value: -3.1514234470766698.\n",
      "Trial 261 finished with value: -1.1677780619828637 and parameters: {'x': 1.660601172655232, 'y': 1.7649393178177484}. Best is trial 253 with value: -3.1514234470766698.\n",
      "Trial 261 finished with value: -1.1677780619828637 and parameters: {'x': 1.660601172655232, 'y': 1.7649393178177484}. Best is trial 253 with value: -3.1514234470766698.\n"
     ]
    },
    {
     "name": "stderr",
     "output_type": "stream",
     "text": [
      "\u001b[32m[I 2022-11-15 13:20:17,517]\u001b[0m Trial 262 finished with value: -1.2095869886469364 and parameters: {'x': 1.5767080088004888, 'y': 0.4859089043956729}. Best is trial 253 with value: -3.1514234470766698.\u001b[0m\n"
     ]
    },
    {
     "name": "stdout",
     "output_type": "stream",
     "text": [
      "Trial 262 finished with value: -1.2095869886469364 and parameters: {'x': 1.5767080088004888, 'y': 0.4859089043956729}. Best is trial 253 with value: -3.1514234470766698.\n",
      "Trial 262 finished with value: -1.2095869886469364 and parameters: {'x': 1.5767080088004888, 'y': 0.4859089043956729}. Best is trial 253 with value: -3.1514234470766698.\n",
      "Trial 262 finished with value: -1.2095869886469364 and parameters: {'x': 1.5767080088004888, 'y': 0.4859089043956729}. Best is trial 253 with value: -3.1514234470766698.\n"
     ]
    },
    {
     "name": "stderr",
     "output_type": "stream",
     "text": [
      "\u001b[32m[I 2022-11-15 13:20:17,522]\u001b[0m Trial 263 finished with value: 0.7038866072735255 and parameters: {'x': 1.4361368825183505, 'y': 1.5173846680028364}. Best is trial 253 with value: -3.1514234470766698.\u001b[0m\n"
     ]
    },
    {
     "name": "stdout",
     "output_type": "stream",
     "text": [
      "Trial 263 finished with value: 0.7038866072735255 and parameters: {'x': 1.4361368825183505, 'y': 1.5173846680028364}. Best is trial 253 with value: -3.1514234470766698.\n",
      "Trial 263 finished with value: 0.7038866072735255 and parameters: {'x': 1.4361368825183505, 'y': 1.5173846680028364}. Best is trial 253 with value: -3.1514234470766698.\n",
      "Trial 263 finished with value: 0.7038866072735255 and parameters: {'x': 1.4361368825183505, 'y': 1.5173846680028364}. Best is trial 253 with value: -3.1514234470766698.\n"
     ]
    },
    {
     "name": "stderr",
     "output_type": "stream",
     "text": [
      "\u001b[32m[I 2022-11-15 13:20:17,527]\u001b[0m Trial 264 finished with value: -0.40441579316323795 and parameters: {'x': 1.8016791598674937, 'y': 1.660997254006535}. Best is trial 253 with value: -3.1514234470766698.\u001b[0m\n"
     ]
    },
    {
     "name": "stdout",
     "output_type": "stream",
     "text": [
      "Trial 264 finished with value: -0.40441579316323795 and parameters: {'x': 1.8016791598674937, 'y': 1.660997254006535}. Best is trial 253 with value: -3.1514234470766698.\n",
      "Trial 264 finished with value: -0.40441579316323795 and parameters: {'x': 1.8016791598674937, 'y': 1.660997254006535}. Best is trial 253 with value: -3.1514234470766698.\n",
      "Trial 264 finished with value: -0.40441579316323795 and parameters: {'x': 1.8016791598674937, 'y': 1.660997254006535}. Best is trial 253 with value: -3.1514234470766698.\n"
     ]
    },
    {
     "name": "stderr",
     "output_type": "stream",
     "text": [
      "\u001b[32m[I 2022-11-15 13:20:17,532]\u001b[0m Trial 265 finished with value: -1.8393910608605857 and parameters: {'x': 1.7179832423640453, 'y': 1.566841068724843}. Best is trial 253 with value: -3.1514234470766698.\u001b[0m\n"
     ]
    },
    {
     "name": "stdout",
     "output_type": "stream",
     "text": [
      "Trial 265 finished with value: -1.8393910608605857 and parameters: {'x': 1.7179832423640453, 'y': 1.566841068724843}. Best is trial 253 with value: -3.1514234470766698.\n",
      "Trial 265 finished with value: -1.8393910608605857 and parameters: {'x': 1.7179832423640453, 'y': 1.566841068724843}. Best is trial 253 with value: -3.1514234470766698.\n",
      "Trial 265 finished with value: -1.8393910608605857 and parameters: {'x': 1.7179832423640453, 'y': 1.566841068724843}. Best is trial 253 with value: -3.1514234470766698.\n"
     ]
    },
    {
     "name": "stderr",
     "output_type": "stream",
     "text": [
      "\u001b[32m[I 2022-11-15 13:20:17,538]\u001b[0m Trial 266 finished with value: -2.5704737762958016 and parameters: {'x': 1.6289088780372902, 'y': 1.7032801005454572}. Best is trial 253 with value: -3.1514234470766698.\u001b[0m\n"
     ]
    },
    {
     "name": "stdout",
     "output_type": "stream",
     "text": [
      "Trial 266 finished with value: -2.5704737762958016 and parameters: {'x': 1.6289088780372902, 'y': 1.7032801005454572}. Best is trial 253 with value: -3.1514234470766698.\n",
      "Trial 266 finished with value: -2.5704737762958016 and parameters: {'x': 1.6289088780372902, 'y': 1.7032801005454572}. Best is trial 253 with value: -3.1514234470766698.\n",
      "Trial 266 finished with value: -2.5704737762958016 and parameters: {'x': 1.6289088780372902, 'y': 1.7032801005454572}. Best is trial 253 with value: -3.1514234470766698.\n"
     ]
    },
    {
     "name": "stderr",
     "output_type": "stream",
     "text": [
      "\u001b[32m[I 2022-11-15 13:20:17,543]\u001b[0m Trial 267 finished with value: 0.1336346832411999 and parameters: {'x': 1.5095688117204602, 'y': 1.4829828060964572}. Best is trial 253 with value: -3.1514234470766698.\u001b[0m\n"
     ]
    },
    {
     "name": "stdout",
     "output_type": "stream",
     "text": [
      "Trial 267 finished with value: 0.1336346832411999 and parameters: {'x': 1.5095688117204602, 'y': 1.4829828060964572}. Best is trial 253 with value: -3.1514234470766698.\n",
      "Trial 267 finished with value: 0.1336346832411999 and parameters: {'x': 1.5095688117204602, 'y': 1.4829828060964572}. Best is trial 253 with value: -3.1514234470766698.\n",
      "Trial 267 finished with value: 0.1336346832411999 and parameters: {'x': 1.5095688117204602, 'y': 1.4829828060964572}. Best is trial 253 with value: -3.1514234470766698.\n"
     ]
    },
    {
     "name": "stderr",
     "output_type": "stream",
     "text": [
      "\u001b[32m[I 2022-11-15 13:20:17,549]\u001b[0m Trial 268 finished with value: 0.9059028777552797 and parameters: {'x': 1.70224750105573, 'y': 1.8703552999839812}. Best is trial 253 with value: -3.1514234470766698.\u001b[0m\n"
     ]
    },
    {
     "name": "stdout",
     "output_type": "stream",
     "text": [
      "Trial 268 finished with value: 0.9059028777552797 and parameters: {'x': 1.70224750105573, 'y': 1.8703552999839812}. Best is trial 253 with value: -3.1514234470766698.\n",
      "Trial 268 finished with value: 0.9059028777552797 and parameters: {'x': 1.70224750105573, 'y': 1.8703552999839812}. Best is trial 253 with value: -3.1514234470766698.\n",
      "Trial 268 finished with value: 0.9059028777552797 and parameters: {'x': 1.70224750105573, 'y': 1.8703552999839812}. Best is trial 253 with value: -3.1514234470766698.\n"
     ]
    },
    {
     "name": "stderr",
     "output_type": "stream",
     "text": [
      "\u001b[32m[I 2022-11-15 13:20:17,555]\u001b[0m Trial 269 finished with value: -2.8681383111046683 and parameters: {'x': 1.579322424785466, 'y': 1.602968387188602}. Best is trial 253 with value: -3.1514234470766698.\u001b[0m\n"
     ]
    },
    {
     "name": "stdout",
     "output_type": "stream",
     "text": [
      "Trial 269 finished with value: -2.8681383111046683 and parameters: {'x': 1.579322424785466, 'y': 1.602968387188602}. Best is trial 253 with value: -3.1514234470766698.\n",
      "Trial 269 finished with value: -2.8681383111046683 and parameters: {'x': 1.579322424785466, 'y': 1.602968387188602}. Best is trial 253 with value: -3.1514234470766698.\n",
      "Trial 269 finished with value: -2.8681383111046683 and parameters: {'x': 1.579322424785466, 'y': 1.602968387188602}. Best is trial 253 with value: -3.1514234470766698.\n"
     ]
    },
    {
     "name": "stderr",
     "output_type": "stream",
     "text": [
      "\u001b[32m[I 2022-11-15 13:20:17,561]\u001b[0m Trial 270 finished with value: 1.4012681351196261 and parameters: {'x': 1.4577672357869478, 'y': 1.7803858367625311}. Best is trial 253 with value: -3.1514234470766698.\u001b[0m\n"
     ]
    },
    {
     "name": "stdout",
     "output_type": "stream",
     "text": [
      "Trial 270 finished with value: 1.4012681351196261 and parameters: {'x': 1.4577672357869478, 'y': 1.7803858367625311}. Best is trial 253 with value: -3.1514234470766698.\n",
      "Trial 270 finished with value: 1.4012681351196261 and parameters: {'x': 1.4577672357869478, 'y': 1.7803858367625311}. Best is trial 253 with value: -3.1514234470766698.\n",
      "Trial 270 finished with value: 1.4012681351196261 and parameters: {'x': 1.4577672357869478, 'y': 1.7803858367625311}. Best is trial 253 with value: -3.1514234470766698.\n"
     ]
    },
    {
     "name": "stderr",
     "output_type": "stream",
     "text": [
      "\u001b[32m[I 2022-11-15 13:20:17,566]\u001b[0m Trial 271 finished with value: -0.23428850755663366 and parameters: {'x': 1.5851469119667378, 'y': 1.424654577298228}. Best is trial 253 with value: -3.1514234470766698.\u001b[0m\n"
     ]
    },
    {
     "name": "stdout",
     "output_type": "stream",
     "text": [
      "Trial 271 finished with value: -0.23428850755663366 and parameters: {'x': 1.5851469119667378, 'y': 1.424654577298228}. Best is trial 253 with value: -3.1514234470766698.\n",
      "Trial 271 finished with value: -0.23428850755663366 and parameters: {'x': 1.5851469119667378, 'y': 1.424654577298228}. Best is trial 253 with value: -3.1514234470766698.\n",
      "Trial 271 finished with value: -0.23428850755663366 and parameters: {'x': 1.5851469119667378, 'y': 1.424654577298228}. Best is trial 253 with value: -3.1514234470766698.\n"
     ]
    },
    {
     "name": "stderr",
     "output_type": "stream",
     "text": [
      "\u001b[32m[I 2022-11-15 13:20:17,572]\u001b[0m Trial 272 finished with value: -2.3058198158521073 and parameters: {'x': 1.537893580040025, 'y': 1.6430778898711316}. Best is trial 253 with value: -3.1514234470766698.\u001b[0m\n"
     ]
    },
    {
     "name": "stdout",
     "output_type": "stream",
     "text": [
      "Trial 272 finished with value: -2.3058198158521073 and parameters: {'x': 1.537893580040025, 'y': 1.6430778898711316}. Best is trial 253 with value: -3.1514234470766698.\n",
      "Trial 272 finished with value: -2.3058198158521073 and parameters: {'x': 1.537893580040025, 'y': 1.6430778898711316}. Best is trial 253 with value: -3.1514234470766698.\n",
      "Trial 272 finished with value: -2.3058198158521073 and parameters: {'x': 1.537893580040025, 'y': 1.6430778898711316}. Best is trial 253 with value: -3.1514234470766698.\n"
     ]
    },
    {
     "name": "stderr",
     "output_type": "stream",
     "text": [
      "\u001b[32m[I 2022-11-15 13:20:17,578]\u001b[0m Trial 273 finished with value: 0.20697234175035883 and parameters: {'x': 1.3992159331379364, 'y': 1.5640971258859313}. Best is trial 253 with value: -3.1514234470766698.\u001b[0m\n"
     ]
    },
    {
     "name": "stdout",
     "output_type": "stream",
     "text": [
      "Trial 273 finished with value: 0.20697234175035883 and parameters: {'x': 1.3992159331379364, 'y': 1.5640971258859313}. Best is trial 253 with value: -3.1514234470766698.\n",
      "Trial 273 finished with value: 0.20697234175035883 and parameters: {'x': 1.3992159331379364, 'y': 1.5640971258859313}. Best is trial 253 with value: -3.1514234470766698.\n",
      "Trial 273 finished with value: 0.20697234175035883 and parameters: {'x': 1.3992159331379364, 'y': 1.5640971258859313}. Best is trial 253 with value: -3.1514234470766698.\n"
     ]
    },
    {
     "name": "stderr",
     "output_type": "stream",
     "text": [
      "\u001b[32m[I 2022-11-15 13:20:17,584]\u001b[0m Trial 274 finished with value: 0.645896003172456 and parameters: {'x': 1.3392362062918202, 'y': 1.723650826156994}. Best is trial 253 with value: -3.1514234470766698.\u001b[0m\n"
     ]
    },
    {
     "name": "stdout",
     "output_type": "stream",
     "text": [
      "Trial 274 finished with value: 0.645896003172456 and parameters: {'x': 1.3392362062918202, 'y': 1.723650826156994}. Best is trial 253 with value: -3.1514234470766698.\n",
      "Trial 274 finished with value: 0.645896003172456 and parameters: {'x': 1.3392362062918202, 'y': 1.723650826156994}. Best is trial 253 with value: -3.1514234470766698.\n",
      "Trial 274 finished with value: 0.645896003172456 and parameters: {'x': 1.3392362062918202, 'y': 1.723650826156994}. Best is trial 253 with value: -3.1514234470766698.\n"
     ]
    },
    {
     "name": "stderr",
     "output_type": "stream",
     "text": [
      "\u001b[32m[I 2022-11-15 13:20:17,590]\u001b[0m Trial 275 finished with value: -1.489094705840667 and parameters: {'x': 1.636354981776154, 'y': 1.4930285980828109}. Best is trial 253 with value: -3.1514234470766698.\u001b[0m\n"
     ]
    },
    {
     "name": "stdout",
     "output_type": "stream",
     "text": [
      "Trial 275 finished with value: -1.489094705840667 and parameters: {'x': 1.636354981776154, 'y': 1.4930285980828109}. Best is trial 253 with value: -3.1514234470766698.\n",
      "Trial 275 finished with value: -1.489094705840667 and parameters: {'x': 1.636354981776154, 'y': 1.4930285980828109}. Best is trial 253 with value: -3.1514234470766698.\n",
      "Trial 275 finished with value: -1.489094705840667 and parameters: {'x': 1.636354981776154, 'y': 1.4930285980828109}. Best is trial 253 with value: -3.1514234470766698.\n"
     ]
    },
    {
     "name": "stderr",
     "output_type": "stream",
     "text": [
      "\u001b[32m[I 2022-11-15 13:20:17,596]\u001b[0m Trial 276 finished with value: -0.4260289689516936 and parameters: {'x': 1.8071737880041105, 'y': 1.6382606083389406}. Best is trial 253 with value: -3.1514234470766698.\u001b[0m\n"
     ]
    },
    {
     "name": "stdout",
     "output_type": "stream",
     "text": [
      "Trial 276 finished with value: -0.4260289689516936 and parameters: {'x': 1.8071737880041105, 'y': 1.6382606083389406}. Best is trial 253 with value: -3.1514234470766698.\n",
      "Trial 276 finished with value: -0.4260289689516936 and parameters: {'x': 1.8071737880041105, 'y': 1.6382606083389406}. Best is trial 253 with value: -3.1514234470766698.\n",
      "Trial 276 finished with value: -0.4260289689516936 and parameters: {'x': 1.8071737880041105, 'y': 1.6382606083389406}. Best is trial 253 with value: -3.1514234470766698.\n"
     ]
    },
    {
     "name": "stderr",
     "output_type": "stream",
     "text": [
      "\u001b[32m[I 2022-11-15 13:20:17,602]\u001b[0m Trial 277 finished with value: 0.36243632203689613 and parameters: {'x': 1.554568365252235, 'y': 1.362807797030362}. Best is trial 253 with value: -3.1514234470766698.\u001b[0m\n"
     ]
    },
    {
     "name": "stdout",
     "output_type": "stream",
     "text": [
      "Trial 277 finished with value: 0.36243632203689613 and parameters: {'x': 1.554568365252235, 'y': 1.362807797030362}. Best is trial 253 with value: -3.1514234470766698.\n",
      "Trial 277 finished with value: 0.36243632203689613 and parameters: {'x': 1.554568365252235, 'y': 1.362807797030362}. Best is trial 253 with value: -3.1514234470766698.\n",
      "Trial 277 finished with value: 0.36243632203689613 and parameters: {'x': 1.554568365252235, 'y': 1.362807797030362}. Best is trial 253 with value: -3.1514234470766698.\n"
     ]
    },
    {
     "name": "stderr",
     "output_type": "stream",
     "text": [
      "\u001b[32m[I 2022-11-15 13:20:17,608]\u001b[0m Trial 278 finished with value: -0.3770316884739553 and parameters: {'x': 1.6266857524964702, 'y': 1.8105960271689838}. Best is trial 253 with value: -3.1514234470766698.\u001b[0m\n"
     ]
    },
    {
     "name": "stdout",
     "output_type": "stream",
     "text": [
      "Trial 278 finished with value: -0.3770316884739553 and parameters: {'x': 1.6266857524964702, 'y': 1.8105960271689838}. Best is trial 253 with value: -3.1514234470766698.\n",
      "Trial 278 finished with value: -0.3770316884739553 and parameters: {'x': 1.6266857524964702, 'y': 1.8105960271689838}. Best is trial 253 with value: -3.1514234470766698.\n",
      "Trial 278 finished with value: -0.3770316884739553 and parameters: {'x': 1.6266857524964702, 'y': 1.8105960271689838}. Best is trial 253 with value: -3.1514234470766698.\n"
     ]
    },
    {
     "name": "stderr",
     "output_type": "stream",
     "text": [
      "\u001b[32m[I 2022-11-15 13:20:17,614]\u001b[0m Trial 279 finished with value: -0.8390189088043536 and parameters: {'x': 1.4867966733241682, 'y': 1.56112029104828}. Best is trial 253 with value: -3.1514234470766698.\u001b[0m\n"
     ]
    },
    {
     "name": "stdout",
     "output_type": "stream",
     "text": [
      "Trial 279 finished with value: -0.8390189088043536 and parameters: {'x': 1.4867966733241682, 'y': 1.56112029104828}. Best is trial 253 with value: -3.1514234470766698.\n",
      "Trial 279 finished with value: -0.8390189088043536 and parameters: {'x': 1.4867966733241682, 'y': 1.56112029104828}. Best is trial 253 with value: -3.1514234470766698.\n",
      "Trial 279 finished with value: -0.8390189088043536 and parameters: {'x': 1.4867966733241682, 'y': 1.56112029104828}. Best is trial 253 with value: -3.1514234470766698.\n"
     ]
    },
    {
     "name": "stderr",
     "output_type": "stream",
     "text": [
      "\u001b[32m[I 2022-11-15 13:20:17,619]\u001b[0m Trial 280 finished with value: -1.1653704581310673 and parameters: {'x': 1.7467597140510738, 'y': 1.6941185241609253}. Best is trial 253 with value: -3.1514234470766698.\u001b[0m\n"
     ]
    },
    {
     "name": "stdout",
     "output_type": "stream",
     "text": [
      "Trial 280 finished with value: -1.1653704581310673 and parameters: {'x': 1.7467597140510738, 'y': 1.6941185241609253}. Best is trial 253 with value: -3.1514234470766698.\n",
      "Trial 280 finished with value: -1.1653704581310673 and parameters: {'x': 1.7467597140510738, 'y': 1.6941185241609253}. Best is trial 253 with value: -3.1514234470766698.\n",
      "Trial 280 finished with value: -1.1653704581310673 and parameters: {'x': 1.7467597140510738, 'y': 1.6941185241609253}. Best is trial 253 with value: -3.1514234470766698.\n"
     ]
    },
    {
     "name": "stderr",
     "output_type": "stream",
     "text": [
      "\u001b[32m[I 2022-11-15 13:20:17,625]\u001b[0m Trial 281 finished with value: 2.0006237419974746 and parameters: {'x': 1.8706596221964054, 'y': 1.4929148287218856}. Best is trial 253 with value: -3.1514234470766698.\u001b[0m\n"
     ]
    },
    {
     "name": "stdout",
     "output_type": "stream",
     "text": [
      "Trial 281 finished with value: 2.0006237419974746 and parameters: {'x': 1.8706596221964054, 'y': 1.4929148287218856}. Best is trial 253 with value: -3.1514234470766698.\n",
      "Trial 281 finished with value: 2.0006237419974746 and parameters: {'x': 1.8706596221964054, 'y': 1.4929148287218856}. Best is trial 253 with value: -3.1514234470766698.\n",
      "Trial 281 finished with value: 2.0006237419974746 and parameters: {'x': 1.8706596221964054, 'y': 1.4929148287218856}. Best is trial 253 with value: -3.1514234470766698.\n"
     ]
    },
    {
     "name": "stderr",
     "output_type": "stream",
     "text": [
      "\u001b[32m[I 2022-11-15 13:20:17,630]\u001b[0m Trial 282 finished with value: -3.074110488663379 and parameters: {'x': 1.6620366563928468, 'y': 1.6460364095549689}. Best is trial 253 with value: -3.1514234470766698.\u001b[0m\n"
     ]
    },
    {
     "name": "stdout",
     "output_type": "stream",
     "text": [
      "Trial 282 finished with value: -3.074110488663379 and parameters: {'x': 1.6620366563928468, 'y': 1.6460364095549689}. Best is trial 253 with value: -3.1514234470766698.\n",
      "Trial 282 finished with value: -3.074110488663379 and parameters: {'x': 1.6620366563928468, 'y': 1.6460364095549689}. Best is trial 253 with value: -3.1514234470766698.\n",
      "Trial 282 finished with value: -3.074110488663379 and parameters: {'x': 1.6620366563928468, 'y': 1.6460364095549689}. Best is trial 253 with value: -3.1514234470766698.\n"
     ]
    },
    {
     "name": "stderr",
     "output_type": "stream",
     "text": [
      "\u001b[32m[I 2022-11-15 13:20:17,635]\u001b[0m Trial 283 finished with value: -1.0327022136982333 and parameters: {'x': 1.6717296231482548, 'y': 1.7662869936378067}. Best is trial 253 with value: -3.1514234470766698.\u001b[0m\n"
     ]
    },
    {
     "name": "stdout",
     "output_type": "stream",
     "text": [
      "Trial 283 finished with value: -1.0327022136982333 and parameters: {'x': 1.6717296231482548, 'y': 1.7662869936378067}. Best is trial 253 with value: -3.1514234470766698.\n",
      "Trial 283 finished with value: -1.0327022136982333 and parameters: {'x': 1.6717296231482548, 'y': 1.7662869936378067}. Best is trial 253 with value: -3.1514234470766698.\n",
      "Trial 283 finished with value: -1.0327022136982333 and parameters: {'x': 1.6717296231482548, 'y': 1.7662869936378067}. Best is trial 253 with value: -3.1514234470766698.\n"
     ]
    },
    {
     "name": "stderr",
     "output_type": "stream",
     "text": [
      "\u001b[32m[I 2022-11-15 13:20:17,640]\u001b[0m Trial 284 finished with value: -1.3978657912644268 and parameters: {'x': 1.7596888924348792, 'y': 1.639777135663477}. Best is trial 253 with value: -3.1514234470766698.\u001b[0m\n"
     ]
    },
    {
     "name": "stdout",
     "output_type": "stream",
     "text": [
      "Trial 284 finished with value: -1.3978657912644268 and parameters: {'x': 1.7596888924348792, 'y': 1.639777135663477}. Best is trial 253 with value: -3.1514234470766698.\n",
      "Trial 284 finished with value: -1.3978657912644268 and parameters: {'x': 1.7596888924348792, 'y': 1.639777135663477}. Best is trial 253 with value: -3.1514234470766698.\n",
      "Trial 284 finished with value: -1.3978657912644268 and parameters: {'x': 1.7596888924348792, 'y': 1.639777135663477}. Best is trial 253 with value: -3.1514234470766698.\n"
     ]
    },
    {
     "name": "stderr",
     "output_type": "stream",
     "text": [
      "\u001b[32m[I 2022-11-15 13:20:17,645]\u001b[0m Trial 285 finished with value: 2.220419601378957 and parameters: {'x': 0.40722105513609475, 'y': 1.8926878574605905}. Best is trial 253 with value: -3.1514234470766698.\u001b[0m\n"
     ]
    },
    {
     "name": "stdout",
     "output_type": "stream",
     "text": [
      "Trial 285 finished with value: 2.220419601378957 and parameters: {'x': 0.40722105513609475, 'y': 1.8926878574605905}. Best is trial 253 with value: -3.1514234470766698.\n",
      "Trial 285 finished with value: 2.220419601378957 and parameters: {'x': 0.40722105513609475, 'y': 1.8926878574605905}. Best is trial 253 with value: -3.1514234470766698.\n",
      "Trial 285 finished with value: 2.220419601378957 and parameters: {'x': 0.40722105513609475, 'y': 1.8926878574605905}. Best is trial 253 with value: -3.1514234470766698.\n"
     ]
    },
    {
     "name": "stderr",
     "output_type": "stream",
     "text": [
      "\u001b[32m[I 2022-11-15 13:20:17,650]\u001b[0m Trial 286 finished with value: -1.8842911376975788 and parameters: {'x': 1.5526102308674383, 'y': 1.7040039709698869}. Best is trial 253 with value: -3.1514234470766698.\u001b[0m\n"
     ]
    },
    {
     "name": "stdout",
     "output_type": "stream",
     "text": [
      "Trial 286 finished with value: -1.8842911376975788 and parameters: {'x': 1.5526102308674383, 'y': 1.7040039709698869}. Best is trial 253 with value: -3.1514234470766698.\n",
      "Trial 286 finished with value: -1.8842911376975788 and parameters: {'x': 1.5526102308674383, 'y': 1.7040039709698869}. Best is trial 253 with value: -3.1514234470766698.\n",
      "Trial 286 finished with value: -1.8842911376975788 and parameters: {'x': 1.5526102308674383, 'y': 1.7040039709698869}. Best is trial 253 with value: -3.1514234470766698.\n"
     ]
    },
    {
     "name": "stderr",
     "output_type": "stream",
     "text": [
      "\u001b[32m[I 2022-11-15 13:20:17,655]\u001b[0m Trial 287 finished with value: -0.15537600090432568 and parameters: {'x': 1.4126809803041511, 'y': 1.5873143217316326}. Best is trial 253 with value: -3.1514234470766698.\u001b[0m\n"
     ]
    },
    {
     "name": "stdout",
     "output_type": "stream",
     "text": [
      "Trial 287 finished with value: -0.15537600090432568 and parameters: {'x': 1.4126809803041511, 'y': 1.5873143217316326}. Best is trial 253 with value: -3.1514234470766698.\n",
      "Trial 287 finished with value: -0.15537600090432568 and parameters: {'x': 1.4126809803041511, 'y': 1.5873143217316326}. Best is trial 253 with value: -3.1514234470766698.\n",
      "Trial 287 finished with value: -0.15537600090432568 and parameters: {'x': 1.4126809803041511, 'y': 1.5873143217316326}. Best is trial 253 with value: -3.1514234470766698.\n"
     ]
    },
    {
     "name": "stderr",
     "output_type": "stream",
     "text": [
      "\u001b[32m[I 2022-11-15 13:20:17,661]\u001b[0m Trial 288 finished with value: -2.9467566092762785 and parameters: {'x': 1.676805110688236, 'y': 1.6393023240547924}. Best is trial 253 with value: -3.1514234470766698.\u001b[0m\n"
     ]
    },
    {
     "name": "stdout",
     "output_type": "stream",
     "text": [
      "Trial 288 finished with value: -2.9467566092762785 and parameters: {'x': 1.676805110688236, 'y': 1.6393023240547924}. Best is trial 253 with value: -3.1514234470766698.\n",
      "Trial 288 finished with value: -2.9467566092762785 and parameters: {'x': 1.676805110688236, 'y': 1.6393023240547924}. Best is trial 253 with value: -3.1514234470766698.\n",
      "Trial 288 finished with value: -2.9467566092762785 and parameters: {'x': 1.676805110688236, 'y': 1.6393023240547924}. Best is trial 253 with value: -3.1514234470766698.\n"
     ]
    },
    {
     "name": "stderr",
     "output_type": "stream",
     "text": [
      "\u001b[32m[I 2022-11-15 13:20:17,666]\u001b[0m Trial 289 finished with value: -2.3281362735728006 and parameters: {'x': 1.7147352946134913, 'y': 1.6451048251676537}. Best is trial 253 with value: -3.1514234470766698.\u001b[0m\n"
     ]
    },
    {
     "name": "stdout",
     "output_type": "stream",
     "text": [
      "Trial 289 finished with value: -2.3281362735728006 and parameters: {'x': 1.7147352946134913, 'y': 1.6451048251676537}. Best is trial 253 with value: -3.1514234470766698.\n",
      "Trial 289 finished with value: -2.3281362735728006 and parameters: {'x': 1.7147352946134913, 'y': 1.6451048251676537}. Best is trial 253 with value: -3.1514234470766698.\n",
      "Trial 289 finished with value: -2.3281362735728006 and parameters: {'x': 1.7147352946134913, 'y': 1.6451048251676537}. Best is trial 253 with value: -3.1514234470766698.\n"
     ]
    },
    {
     "name": "stderr",
     "output_type": "stream",
     "text": [
      "\u001b[32m[I 2022-11-15 13:20:17,671]\u001b[0m Trial 290 finished with value: 2.6897568113784724 and parameters: {'x': 1.9422230883792484, 'y': 1.8198662793629308}. Best is trial 253 with value: -3.1514234470766698.\u001b[0m\n"
     ]
    },
    {
     "name": "stdout",
     "output_type": "stream",
     "text": [
      "Trial 290 finished with value: 2.6897568113784724 and parameters: {'x': 1.9422230883792484, 'y': 1.8198662793629308}. Best is trial 253 with value: -3.1514234470766698.\n",
      "Trial 290 finished with value: 2.6897568113784724 and parameters: {'x': 1.9422230883792484, 'y': 1.8198662793629308}. Best is trial 253 with value: -3.1514234470766698.\n",
      "Trial 290 finished with value: 2.6897568113784724 and parameters: {'x': 1.9422230883792484, 'y': 1.8198662793629308}. Best is trial 253 with value: -3.1514234470766698.\n"
     ]
    },
    {
     "name": "stderr",
     "output_type": "stream",
     "text": [
      "\u001b[32m[I 2022-11-15 13:20:17,677]\u001b[0m Trial 291 finished with value: 1.0288624861493698 and parameters: {'x': 1.834542249868593, 'y': 1.7229900086476664}. Best is trial 253 with value: -3.1514234470766698.\u001b[0m\n"
     ]
    },
    {
     "name": "stdout",
     "output_type": "stream",
     "text": [
      "Trial 291 finished with value: 1.0288624861493698 and parameters: {'x': 1.834542249868593, 'y': 1.7229900086476664}. Best is trial 253 with value: -3.1514234470766698.\n",
      "Trial 291 finished with value: 1.0288624861493698 and parameters: {'x': 1.834542249868593, 'y': 1.7229900086476664}. Best is trial 253 with value: -3.1514234470766698.\n",
      "Trial 291 finished with value: 1.0288624861493698 and parameters: {'x': 1.834542249868593, 'y': 1.7229900086476664}. Best is trial 253 with value: -3.1514234470766698.\n"
     ]
    },
    {
     "name": "stderr",
     "output_type": "stream",
     "text": [
      "\u001b[32m[I 2022-11-15 13:20:17,682]\u001b[0m Trial 292 finished with value: -1.9513301165896813 and parameters: {'x': 1.655669970986179, 'y': 1.5220899875196627}. Best is trial 253 with value: -3.1514234470766698.\u001b[0m\n"
     ]
    },
    {
     "name": "stdout",
     "output_type": "stream",
     "text": [
      "Trial 292 finished with value: -1.9513301165896813 and parameters: {'x': 1.655669970986179, 'y': 1.5220899875196627}. Best is trial 253 with value: -3.1514234470766698.\n",
      "Trial 292 finished with value: -1.9513301165896813 and parameters: {'x': 1.655669970986179, 'y': 1.5220899875196627}. Best is trial 253 with value: -3.1514234470766698.\n",
      "Trial 292 finished with value: -1.9513301165896813 and parameters: {'x': 1.655669970986179, 'y': 1.5220899875196627}. Best is trial 253 with value: -3.1514234470766698.\n"
     ]
    },
    {
     "name": "stderr",
     "output_type": "stream",
     "text": [
      "\u001b[32m[I 2022-11-15 13:20:17,689]\u001b[0m Trial 293 finished with value: -1.426286729224512 and parameters: {'x': 1.5794439393612003, 'y': -0.21134885033454665}. Best is trial 253 with value: -3.1514234470766698.\u001b[0m\n"
     ]
    },
    {
     "name": "stdout",
     "output_type": "stream",
     "text": [
      "Trial 293 finished with value: -1.426286729224512 and parameters: {'x': 1.5794439393612003, 'y': -0.21134885033454665}. Best is trial 253 with value: -3.1514234470766698.\n",
      "Trial 293 finished with value: -1.426286729224512 and parameters: {'x': 1.5794439393612003, 'y': -0.21134885033454665}. Best is trial 253 with value: -3.1514234470766698.\n",
      "Trial 293 finished with value: -1.426286729224512 and parameters: {'x': 1.5794439393612003, 'y': -0.21134885033454665}. Best is trial 253 with value: -3.1514234470766698.\n"
     ]
    },
    {
     "name": "stderr",
     "output_type": "stream",
     "text": [
      "\u001b[32m[I 2022-11-15 13:20:17,694]\u001b[0m Trial 294 finished with value: -1.590505211352771 and parameters: {'x': 1.7509019133216208, 'y': 1.6175095076071246}. Best is trial 253 with value: -3.1514234470766698.\u001b[0m\n"
     ]
    },
    {
     "name": "stdout",
     "output_type": "stream",
     "text": [
      "Trial 294 finished with value: -1.590505211352771 and parameters: {'x': 1.7509019133216208, 'y': 1.6175095076071246}. Best is trial 253 with value: -3.1514234470766698.\n",
      "Trial 294 finished with value: -1.590505211352771 and parameters: {'x': 1.7509019133216208, 'y': 1.6175095076071246}. Best is trial 253 with value: -3.1514234470766698.\n",
      "Trial 294 finished with value: -1.590505211352771 and parameters: {'x': 1.7509019133216208, 'y': 1.6175095076071246}. Best is trial 253 with value: -3.1514234470766698.\n"
     ]
    },
    {
     "name": "stderr",
     "output_type": "stream",
     "text": [
      "\u001b[32m[I 2022-11-15 13:20:17,699]\u001b[0m Trial 295 finished with value: -0.035008071346855296 and parameters: {'x': 1.510637474435008, 'y': 1.7575420871353968}. Best is trial 253 with value: -3.1514234470766698.\u001b[0m\n"
     ]
    },
    {
     "name": "stdout",
     "output_type": "stream",
     "text": [
      "Trial 295 finished with value: -0.035008071346855296 and parameters: {'x': 1.510637474435008, 'y': 1.7575420871353968}. Best is trial 253 with value: -3.1514234470766698.\n",
      "Trial 295 finished with value: -0.035008071346855296 and parameters: {'x': 1.510637474435008, 'y': 1.7575420871353968}. Best is trial 253 with value: -3.1514234470766698.\n",
      "Trial 295 finished with value: -0.035008071346855296 and parameters: {'x': 1.510637474435008, 'y': 1.7575420871353968}. Best is trial 253 with value: -3.1514234470766698.\n"
     ]
    },
    {
     "name": "stderr",
     "output_type": "stream",
     "text": [
      "\u001b[32m[I 2022-11-15 13:20:17,704]\u001b[0m Trial 296 finished with value: -0.6275236135033588 and parameters: {'x': 1.661309186056776, 'y': 1.449180597069154}. Best is trial 253 with value: -3.1514234470766698.\u001b[0m\n"
     ]
    },
    {
     "name": "stdout",
     "output_type": "stream",
     "text": [
      "Trial 296 finished with value: -0.6275236135033588 and parameters: {'x': 1.661309186056776, 'y': 1.449180597069154}. Best is trial 253 with value: -3.1514234470766698.\n",
      "Trial 296 finished with value: -0.6275236135033588 and parameters: {'x': 1.661309186056776, 'y': 1.449180597069154}. Best is trial 253 with value: -3.1514234470766698.\n",
      "Trial 296 finished with value: -0.6275236135033588 and parameters: {'x': 1.661309186056776, 'y': 1.449180597069154}. Best is trial 253 with value: -3.1514234470766698.\n"
     ]
    },
    {
     "name": "stderr",
     "output_type": "stream",
     "text": [
      "\u001b[32m[I 2022-11-15 13:20:17,710]\u001b[0m Trial 297 finished with value: 0.40157689765881055 and parameters: {'x': 1.8390247234297066, 'y': 1.5732936738822272}. Best is trial 253 with value: -3.1514234470766698.\u001b[0m\n"
     ]
    },
    {
     "name": "stdout",
     "output_type": "stream",
     "text": [
      "Trial 297 finished with value: 0.40157689765881055 and parameters: {'x': 1.8390247234297066, 'y': 1.5732936738822272}. Best is trial 253 with value: -3.1514234470766698.\n",
      "Trial 297 finished with value: 0.40157689765881055 and parameters: {'x': 1.8390247234297066, 'y': 1.5732936738822272}. Best is trial 253 with value: -3.1514234470766698.\n",
      "Trial 297 finished with value: 0.40157689765881055 and parameters: {'x': 1.8390247234297066, 'y': 1.5732936738822272}. Best is trial 253 with value: -3.1514234470766698.\n"
     ]
    },
    {
     "name": "stderr",
     "output_type": "stream",
     "text": [
      "\u001b[32m[I 2022-11-15 13:20:17,715]\u001b[0m Trial 298 finished with value: -1.9890990868569203 and parameters: {'x': 1.5956083745158445, 'y': -0.5824369209463449}. Best is trial 253 with value: -3.1514234470766698.\u001b[0m\n"
     ]
    },
    {
     "name": "stdout",
     "output_type": "stream",
     "text": [
      "Trial 298 finished with value: -1.9890990868569203 and parameters: {'x': 1.5956083745158445, 'y': -0.5824369209463449}. Best is trial 253 with value: -3.1514234470766698.\n",
      "Trial 298 finished with value: -1.9890990868569203 and parameters: {'x': 1.5956083745158445, 'y': -0.5824369209463449}. Best is trial 253 with value: -3.1514234470766698.\n",
      "Trial 298 finished with value: -1.9890990868569203 and parameters: {'x': 1.5956083745158445, 'y': -0.5824369209463449}. Best is trial 253 with value: -3.1514234470766698.\n"
     ]
    },
    {
     "name": "stderr",
     "output_type": "stream",
     "text": [
      "\u001b[32m[I 2022-11-15 13:20:17,720]\u001b[0m Trial 299 finished with value: -1.329080203779675 and parameters: {'x': 1.7482894540279, 'y': 1.6802327900577343}. Best is trial 253 with value: -3.1514234470766698.\u001b[0m\n"
     ]
    },
    {
     "name": "stdout",
     "output_type": "stream",
     "text": [
      "Trial 299 finished with value: -1.329080203779675 and parameters: {'x': 1.7482894540279, 'y': 1.6802327900577343}. Best is trial 253 with value: -3.1514234470766698.\n",
      "Trial 299 finished with value: -1.329080203779675 and parameters: {'x': 1.7482894540279, 'y': 1.6802327900577343}. Best is trial 253 with value: -3.1514234470766698.\n",
      "Trial 299 finished with value: -1.329080203779675 and parameters: {'x': 1.7482894540279, 'y': 1.6802327900577343}. Best is trial 253 with value: -3.1514234470766698.\n"
     ]
    },
    {
     "name": "stderr",
     "output_type": "stream",
     "text": [
      "\u001b[32m[I 2022-11-15 13:20:17,726]\u001b[0m Trial 300 finished with value: 0.14847781665229876 and parameters: {'x': 1.463759805077403, 'y': 1.5263012526025324}. Best is trial 253 with value: -3.1514234470766698.\u001b[0m\n"
     ]
    },
    {
     "name": "stdout",
     "output_type": "stream",
     "text": [
      "Trial 300 finished with value: 0.14847781665229876 and parameters: {'x': 1.463759805077403, 'y': 1.5263012526025324}. Best is trial 253 with value: -3.1514234470766698.\n",
      "Trial 300 finished with value: 0.14847781665229876 and parameters: {'x': 1.463759805077403, 'y': 1.5263012526025324}. Best is trial 253 with value: -3.1514234470766698.\n",
      "Trial 300 finished with value: 0.14847781665229876 and parameters: {'x': 1.463759805077403, 'y': 1.5263012526025324}. Best is trial 253 with value: -3.1514234470766698.\n"
     ]
    },
    {
     "name": "stderr",
     "output_type": "stream",
     "text": [
      "\u001b[32m[I 2022-11-15 13:20:17,731]\u001b[0m Trial 301 finished with value: -3.0510072707035727 and parameters: {'x': 1.6657750848879194, 'y': 1.6141481669560447}. Best is trial 253 with value: -3.1514234470766698.\u001b[0m\n"
     ]
    },
    {
     "name": "stdout",
     "output_type": "stream",
     "text": [
      "Trial 301 finished with value: -3.0510072707035727 and parameters: {'x': 1.6657750848879194, 'y': 1.6141481669560447}. Best is trial 253 with value: -3.1514234470766698.\n",
      "Trial 301 finished with value: -3.0510072707035727 and parameters: {'x': 1.6657750848879194, 'y': 1.6141481669560447}. Best is trial 253 with value: -3.1514234470766698.\n",
      "Trial 301 finished with value: -3.0510072707035727 and parameters: {'x': 1.6657750848879194, 'y': 1.6141481669560447}. Best is trial 253 with value: -3.1514234470766698.\n"
     ]
    },
    {
     "name": "stderr",
     "output_type": "stream",
     "text": [
      "\u001b[32m[I 2022-11-15 13:20:17,737]\u001b[0m Trial 302 finished with value: 1.5712153042601105 and parameters: {'x': 0.20496704354041637, 'y': 1.8415378451248463}. Best is trial 253 with value: -3.1514234470766698.\u001b[0m\n"
     ]
    },
    {
     "name": "stdout",
     "output_type": "stream",
     "text": [
      "Trial 302 finished with value: 1.5712153042601105 and parameters: {'x': 0.20496704354041637, 'y': 1.8415378451248463}. Best is trial 253 with value: -3.1514234470766698.\n",
      "Trial 302 finished with value: 1.5712153042601105 and parameters: {'x': 0.20496704354041637, 'y': 1.8415378451248463}. Best is trial 253 with value: -3.1514234470766698.\n",
      "Trial 302 finished with value: 1.5712153042601105 and parameters: {'x': 0.20496704354041637, 'y': 1.8415378451248463}. Best is trial 253 with value: -3.1514234470766698.\n"
     ]
    },
    {
     "name": "stderr",
     "output_type": "stream",
     "text": [
      "\u001b[32m[I 2022-11-15 13:20:17,742]\u001b[0m Trial 303 finished with value: -2.6162130207546626 and parameters: {'x': 1.688027575704297, 'y': 1.6679816276238664}. Best is trial 253 with value: -3.1514234470766698.\u001b[0m\n"
     ]
    },
    {
     "name": "stdout",
     "output_type": "stream",
     "text": [
      "Trial 303 finished with value: -2.6162130207546626 and parameters: {'x': 1.688027575704297, 'y': 1.6679816276238664}. Best is trial 253 with value: -3.1514234470766698.\n",
      "Trial 303 finished with value: -2.6162130207546626 and parameters: {'x': 1.688027575704297, 'y': 1.6679816276238664}. Best is trial 253 with value: -3.1514234470766698.\n",
      "Trial 303 finished with value: -2.6162130207546626 and parameters: {'x': 1.688027575704297, 'y': 1.6679816276238664}. Best is trial 253 with value: -3.1514234470766698.\n"
     ]
    },
    {
     "name": "stderr",
     "output_type": "stream",
     "text": [
      "\u001b[32m[I 2022-11-15 13:20:17,747]\u001b[0m Trial 304 finished with value: 1.7560905548558572 and parameters: {'x': 1.7738885456781366, 'y': 1.4160803793469448}. Best is trial 253 with value: -3.1514234470766698.\u001b[0m\n"
     ]
    },
    {
     "name": "stdout",
     "output_type": "stream",
     "text": [
      "Trial 304 finished with value: 1.7560905548558572 and parameters: {'x': 1.7738885456781366, 'y': 1.4160803793469448}. Best is trial 253 with value: -3.1514234470766698.\n",
      "Trial 304 finished with value: 1.7560905548558572 and parameters: {'x': 1.7738885456781366, 'y': 1.4160803793469448}. Best is trial 253 with value: -3.1514234470766698.\n",
      "Trial 304 finished with value: 1.7560905548558572 and parameters: {'x': 1.7738885456781366, 'y': 1.4160803793469448}. Best is trial 253 with value: -3.1514234470766698.\n"
     ]
    },
    {
     "name": "stderr",
     "output_type": "stream",
     "text": [
      "\u001b[32m[I 2022-11-15 13:20:17,753]\u001b[0m Trial 305 finished with value: -1.9274796915383976 and parameters: {'x': 1.6829435087643927, 'y': 1.7180550563454786}. Best is trial 253 with value: -3.1514234470766698.\u001b[0m\n"
     ]
    },
    {
     "name": "stdout",
     "output_type": "stream",
     "text": [
      "Trial 305 finished with value: -1.9274796915383976 and parameters: {'x': 1.6829435087643927, 'y': 1.7180550563454786}. Best is trial 253 with value: -3.1514234470766698.\n",
      "Trial 305 finished with value: -1.9274796915383976 and parameters: {'x': 1.6829435087643927, 'y': 1.7180550563454786}. Best is trial 253 with value: -3.1514234470766698.\n",
      "Trial 305 finished with value: -1.9274796915383976 and parameters: {'x': 1.6829435087643927, 'y': 1.7180550563454786}. Best is trial 253 with value: -3.1514234470766698.\n"
     ]
    },
    {
     "name": "stderr",
     "output_type": "stream",
     "text": [
      "\u001b[32m[I 2022-11-15 13:20:17,758]\u001b[0m Trial 306 finished with value: -1.75429150904557 and parameters: {'x': 1.507765624608854, 'y': 1.6165321016153684}. Best is trial 253 with value: -3.1514234470766698.\u001b[0m\n"
     ]
    },
    {
     "name": "stdout",
     "output_type": "stream",
     "text": [
      "Trial 306 finished with value: -1.75429150904557 and parameters: {'x': 1.507765624608854, 'y': 1.6165321016153684}. Best is trial 253 with value: -3.1514234470766698.\n",
      "Trial 306 finished with value: -1.75429150904557 and parameters: {'x': 1.507765624608854, 'y': 1.6165321016153684}. Best is trial 253 with value: -3.1514234470766698.\n",
      "Trial 306 finished with value: -1.75429150904557 and parameters: {'x': 1.507765624608854, 'y': 1.6165321016153684}. Best is trial 253 with value: -3.1514234470766698.\n"
     ]
    },
    {
     "name": "stderr",
     "output_type": "stream",
     "text": [
      "\u001b[32m[I 2022-11-15 13:20:17,763]\u001b[0m Trial 307 finished with value: 2.606486601655198 and parameters: {'x': 1.9143780787570213, 'y': 1.7929676276248052}. Best is trial 253 with value: -3.1514234470766698.\u001b[0m\n"
     ]
    },
    {
     "name": "stdout",
     "output_type": "stream",
     "text": [
      "Trial 307 finished with value: 2.606486601655198 and parameters: {'x': 1.9143780787570213, 'y': 1.7929676276248052}. Best is trial 253 with value: -3.1514234470766698.\n",
      "Trial 307 finished with value: 2.606486601655198 and parameters: {'x': 1.9143780787570213, 'y': 1.7929676276248052}. Best is trial 253 with value: -3.1514234470766698.\n",
      "Trial 307 finished with value: 2.606486601655198 and parameters: {'x': 1.9143780787570213, 'y': 1.7929676276248052}. Best is trial 253 with value: -3.1514234470766698.\n"
     ]
    },
    {
     "name": "stderr",
     "output_type": "stream",
     "text": [
      "\u001b[32m[I 2022-11-15 13:20:17,768]\u001b[0m Trial 308 finished with value: -1.0953315688549794 and parameters: {'x': 1.597342090036926, 'y': 1.4778250276055585}. Best is trial 253 with value: -3.1514234470766698.\u001b[0m\n"
     ]
    },
    {
     "name": "stdout",
     "output_type": "stream",
     "text": [
      "Trial 308 finished with value: -1.0953315688549794 and parameters: {'x': 1.597342090036926, 'y': 1.4778250276055585}. Best is trial 253 with value: -3.1514234470766698.\n",
      "Trial 308 finished with value: -1.0953315688549794 and parameters: {'x': 1.597342090036926, 'y': 1.4778250276055585}. Best is trial 253 with value: -3.1514234470766698.\n",
      "Trial 308 finished with value: -1.0953315688549794 and parameters: {'x': 1.597342090036926, 'y': 1.4778250276055585}. Best is trial 253 with value: -3.1514234470766698.\n"
     ]
    },
    {
     "name": "stderr",
     "output_type": "stream",
     "text": [
      "\u001b[32m[I 2022-11-15 13:20:17,773]\u001b[0m Trial 309 finished with value: -0.47221815264398503 and parameters: {'x': 1.8025761600911248, 'y': 1.609363052929575}. Best is trial 253 with value: -3.1514234470766698.\u001b[0m\n"
     ]
    },
    {
     "name": "stdout",
     "output_type": "stream",
     "text": [
      "Trial 309 finished with value: -0.47221815264398503 and parameters: {'x': 1.8025761600911248, 'y': 1.609363052929575}. Best is trial 253 with value: -3.1514234470766698.\n",
      "Trial 309 finished with value: -0.47221815264398503 and parameters: {'x': 1.8025761600911248, 'y': 1.609363052929575}. Best is trial 253 with value: -3.1514234470766698.\n",
      "Trial 309 finished with value: -0.47221815264398503 and parameters: {'x': 1.8025761600911248, 'y': 1.609363052929575}. Best is trial 253 with value: -3.1514234470766698.\n"
     ]
    },
    {
     "name": "stderr",
     "output_type": "stream",
     "text": [
      "\u001b[32m[I 2022-11-15 13:20:17,779]\u001b[0m Trial 310 finished with value: 0.2244544630893921 and parameters: {'x': 1.667360070389209, 'y': 1.9165565066126313}. Best is trial 253 with value: -3.1514234470766698.\u001b[0m\n"
     ]
    },
    {
     "name": "stdout",
     "output_type": "stream",
     "text": [
      "Trial 310 finished with value: 0.2244544630893921 and parameters: {'x': 1.667360070389209, 'y': 1.9165565066126313}. Best is trial 253 with value: -3.1514234470766698.\n",
      "Trial 310 finished with value: 0.2244544630893921 and parameters: {'x': 1.667360070389209, 'y': 1.9165565066126313}. Best is trial 253 with value: -3.1514234470766698.\n",
      "Trial 310 finished with value: 0.2244544630893921 and parameters: {'x': 1.667360070389209, 'y': 1.9165565066126313}. Best is trial 253 with value: -3.1514234470766698.\n"
     ]
    },
    {
     "name": "stderr",
     "output_type": "stream",
     "text": [
      "\u001b[32m[I 2022-11-15 13:20:17,784]\u001b[0m Trial 311 finished with value: -1.4399519411997708 and parameters: {'x': 1.5394845730992393, 'y': 1.7162088661639086}. Best is trial 253 with value: -3.1514234470766698.\u001b[0m\n"
     ]
    },
    {
     "name": "stdout",
     "output_type": "stream",
     "text": [
      "Trial 311 finished with value: -1.4399519411997708 and parameters: {'x': 1.5394845730992393, 'y': 1.7162088661639086}. Best is trial 253 with value: -3.1514234470766698.\n",
      "Trial 311 finished with value: -1.4399519411997708 and parameters: {'x': 1.5394845730992393, 'y': 1.7162088661639086}. Best is trial 253 with value: -3.1514234470766698.\n",
      "Trial 311 finished with value: -1.4399519411997708 and parameters: {'x': 1.5394845730992393, 'y': 1.7162088661639086}. Best is trial 253 with value: -3.1514234470766698.\n"
     ]
    },
    {
     "name": "stderr",
     "output_type": "stream",
     "text": [
      "\u001b[32m[I 2022-11-15 13:20:17,790]\u001b[0m Trial 312 finished with value: 0.5356469192788678 and parameters: {'x': 1.3483231868661207, 'y': 1.5397547786710661}. Best is trial 253 with value: -3.1514234470766698.\u001b[0m\n"
     ]
    },
    {
     "name": "stdout",
     "output_type": "stream",
     "text": [
      "Trial 312 finished with value: 0.5356469192788678 and parameters: {'x': 1.3483231868661207, 'y': 1.5397547786710661}. Best is trial 253 with value: -3.1514234470766698.\n",
      "Trial 312 finished with value: 0.5356469192788678 and parameters: {'x': 1.3483231868661207, 'y': 1.5397547786710661}. Best is trial 253 with value: -3.1514234470766698.\n",
      "Trial 312 finished with value: 0.5356469192788678 and parameters: {'x': 1.3483231868661207, 'y': 1.5397547786710661}. Best is trial 253 with value: -3.1514234470766698.\n"
     ]
    },
    {
     "name": "stderr",
     "output_type": "stream",
     "text": [
      "\u001b[32m[I 2022-11-15 13:20:17,797]\u001b[0m Trial 313 finished with value: -1.9360467128054402 and parameters: {'x': 1.7289557806114253, 'y': 1.6621682369379667}. Best is trial 253 with value: -3.1514234470766698.\u001b[0m\n"
     ]
    },
    {
     "name": "stdout",
     "output_type": "stream",
     "text": [
      "Trial 313 finished with value: -1.9360467128054402 and parameters: {'x': 1.7289557806114253, 'y': 1.6621682369379667}. Best is trial 253 with value: -3.1514234470766698.\n",
      "Trial 313 finished with value: -1.9360467128054402 and parameters: {'x': 1.7289557806114253, 'y': 1.6621682369379667}. Best is trial 253 with value: -3.1514234470766698.\n",
      "Trial 313 finished with value: -1.9360467128054402 and parameters: {'x': 1.7289557806114253, 'y': 1.6621682369379667}. Best is trial 253 with value: -3.1514234470766698.\n"
     ]
    },
    {
     "name": "stderr",
     "output_type": "stream",
     "text": [
      "\u001b[32m[I 2022-11-15 13:20:17,803]\u001b[0m Trial 314 finished with value: -1.3057271382603246 and parameters: {'x': 1.6168711926103538, 'y': 1.7637261784791807}. Best is trial 253 with value: -3.1514234470766698.\u001b[0m\n"
     ]
    },
    {
     "name": "stdout",
     "output_type": "stream",
     "text": [
      "Trial 314 finished with value: -1.3057271382603246 and parameters: {'x': 1.6168711926103538, 'y': 1.7637261784791807}. Best is trial 253 with value: -3.1514234470766698.\n",
      "Trial 314 finished with value: -1.3057271382603246 and parameters: {'x': 1.6168711926103538, 'y': 1.7637261784791807}. Best is trial 253 with value: -3.1514234470766698.\n",
      "Trial 314 finished with value: -1.3057271382603246 and parameters: {'x': 1.6168711926103538, 'y': 1.7637261784791807}. Best is trial 253 with value: -3.1514234470766698.\n"
     ]
    },
    {
     "name": "stderr",
     "output_type": "stream",
     "text": [
      "\u001b[32m[I 2022-11-15 13:20:17,810]\u001b[0m Trial 315 finished with value: 0.4612970481661751 and parameters: {'x': 1.5493562811627744, 'y': 1.3914536159214899}. Best is trial 253 with value: -3.1514234470766698.\u001b[0m\n"
     ]
    },
    {
     "name": "stdout",
     "output_type": "stream",
     "text": [
      "Trial 315 finished with value: 0.4612970481661751 and parameters: {'x': 1.5493562811627744, 'y': 1.3914536159214899}. Best is trial 253 with value: -3.1514234470766698.\n",
      "Trial 315 finished with value: 0.4612970481661751 and parameters: {'x': 1.5493562811627744, 'y': 1.3914536159214899}. Best is trial 253 with value: -3.1514234470766698.\n",
      "Trial 315 finished with value: 0.4612970481661751 and parameters: {'x': 1.5493562811627744, 'y': 1.3914536159214899}. Best is trial 253 with value: -3.1514234470766698.\n"
     ]
    },
    {
     "name": "stderr",
     "output_type": "stream",
     "text": [
      "\u001b[32m[I 2022-11-15 13:20:17,817]\u001b[0m Trial 316 finished with value: 0.14890071915423553 and parameters: {'x': 1.8367763747723247, 'y': 1.5946448564746274}. Best is trial 253 with value: -3.1514234470766698.\u001b[0m\n"
     ]
    },
    {
     "name": "stdout",
     "output_type": "stream",
     "text": [
      "Trial 316 finished with value: 0.14890071915423553 and parameters: {'x': 1.8367763747723247, 'y': 1.5946448564746274}. Best is trial 253 with value: -3.1514234470766698.\n",
      "Trial 316 finished with value: 0.14890071915423553 and parameters: {'x': 1.8367763747723247, 'y': 1.5946448564746274}. Best is trial 253 with value: -3.1514234470766698.\n",
      "Trial 316 finished with value: 0.14890071915423553 and parameters: {'x': 1.8367763747723247, 'y': 1.5946448564746274}. Best is trial 253 with value: -3.1514234470766698.\n"
     ]
    },
    {
     "name": "stderr",
     "output_type": "stream",
     "text": [
      "\u001b[32m[I 2022-11-15 13:20:17,824]\u001b[0m Trial 317 finished with value: 1.3582506770061815 and parameters: {'x': 1.4384351256901147, 'y': 1.4808379594293144}. Best is trial 253 with value: -3.1514234470766698.\u001b[0m\n"
     ]
    },
    {
     "name": "stdout",
     "output_type": "stream",
     "text": [
      "Trial 317 finished with value: 1.3582506770061815 and parameters: {'x': 1.4384351256901147, 'y': 1.4808379594293144}. Best is trial 253 with value: -3.1514234470766698.\n",
      "Trial 317 finished with value: 1.3582506770061815 and parameters: {'x': 1.4384351256901147, 'y': 1.4808379594293144}. Best is trial 253 with value: -3.1514234470766698.\n",
      "Trial 317 finished with value: 1.3582506770061815 and parameters: {'x': 1.4384351256901147, 'y': 1.4808379594293144}. Best is trial 253 with value: -3.1514234470766698.\n"
     ]
    },
    {
     "name": "stderr",
     "output_type": "stream",
     "text": [
      "\u001b[32m[I 2022-11-15 13:20:17,830]\u001b[0m Trial 318 finished with value: -2.6701580388707327 and parameters: {'x': 1.6823458919593013, 'y': 1.6703798904416303}. Best is trial 253 with value: -3.1514234470766698.\u001b[0m\n"
     ]
    },
    {
     "name": "stdout",
     "output_type": "stream",
     "text": [
      "Trial 318 finished with value: -2.6701580388707327 and parameters: {'x': 1.6823458919593013, 'y': 1.6703798904416303}. Best is trial 253 with value: -3.1514234470766698.\n",
      "Trial 318 finished with value: -2.6701580388707327 and parameters: {'x': 1.6823458919593013, 'y': 1.6703798904416303}. Best is trial 253 with value: -3.1514234470766698.\n",
      "Trial 318 finished with value: -2.6701580388707327 and parameters: {'x': 1.6823458919593013, 'y': 1.6703798904416303}. Best is trial 253 with value: -3.1514234470766698.\n"
     ]
    },
    {
     "name": "stderr",
     "output_type": "stream",
     "text": [
      "\u001b[32m[I 2022-11-15 13:20:17,836]\u001b[0m Trial 319 finished with value: -0.31606997253257285 and parameters: {'x': 1.6310261049174537, 'y': 1.8142205280819792}. Best is trial 253 with value: -3.1514234470766698.\u001b[0m\n"
     ]
    },
    {
     "name": "stdout",
     "output_type": "stream",
     "text": [
      "Trial 319 finished with value: -0.31606997253257285 and parameters: {'x': 1.6310261049174537, 'y': 1.8142205280819792}. Best is trial 253 with value: -3.1514234470766698.\n",
      "Trial 319 finished with value: -0.31606997253257285 and parameters: {'x': 1.6310261049174537, 'y': 1.8142205280819792}. Best is trial 253 with value: -3.1514234470766698.\n",
      "Trial 319 finished with value: -0.31606997253257285 and parameters: {'x': 1.6310261049174537, 'y': 1.8142205280819792}. Best is trial 253 with value: -3.1514234470766698.\n"
     ]
    },
    {
     "name": "stderr",
     "output_type": "stream",
     "text": [
      "\u001b[32m[I 2022-11-15 13:20:17,842]\u001b[0m Trial 320 finished with value: 0.1349257499208015 and parameters: {'x': 1.7438712464994794, 'y': 0.32693793960859063}. Best is trial 253 with value: -3.1514234470766698.\u001b[0m\n"
     ]
    },
    {
     "name": "stdout",
     "output_type": "stream",
     "text": [
      "Trial 320 finished with value: 0.1349257499208015 and parameters: {'x': 1.7438712464994794, 'y': 0.32693793960859063}. Best is trial 253 with value: -3.1514234470766698.\n",
      "Trial 320 finished with value: 0.1349257499208015 and parameters: {'x': 1.7438712464994794, 'y': 0.32693793960859063}. Best is trial 253 with value: -3.1514234470766698.\n",
      "Trial 320 finished with value: 0.1349257499208015 and parameters: {'x': 1.7438712464994794, 'y': 0.32693793960859063}. Best is trial 253 with value: -3.1514234470766698.\n"
     ]
    },
    {
     "name": "stderr",
     "output_type": "stream",
     "text": [
      "\u001b[32m[I 2022-11-15 13:20:17,847]\u001b[0m Trial 321 finished with value: -1.0444587685662436 and parameters: {'x': 1.513671482242181, 'y': 1.7120597650383806}. Best is trial 253 with value: -3.1514234470766698.\u001b[0m\n"
     ]
    },
    {
     "name": "stdout",
     "output_type": "stream",
     "text": [
      "Trial 321 finished with value: -1.0444587685662436 and parameters: {'x': 1.513671482242181, 'y': 1.7120597650383806}. Best is trial 253 with value: -3.1514234470766698.\n",
      "Trial 321 finished with value: -1.0444587685662436 and parameters: {'x': 1.513671482242181, 'y': 1.7120597650383806}. Best is trial 253 with value: -3.1514234470766698.\n",
      "Trial 321 finished with value: -1.0444587685662436 and parameters: {'x': 1.513671482242181, 'y': 1.7120597650383806}. Best is trial 253 with value: -3.1514234470766698.\n"
     ]
    },
    {
     "name": "stderr",
     "output_type": "stream",
     "text": [
      "\u001b[32m[I 2022-11-15 13:20:17,853]\u001b[0m Trial 322 finished with value: -3.0012246963890052 and parameters: {'x': 1.6243866658379276, 'y': 1.583861133802731}. Best is trial 253 with value: -3.1514234470766698.\u001b[0m\n"
     ]
    },
    {
     "name": "stdout",
     "output_type": "stream",
     "text": [
      "Trial 322 finished with value: -3.0012246963890052 and parameters: {'x': 1.6243866658379276, 'y': 1.583861133802731}. Best is trial 253 with value: -3.1514234470766698.\n",
      "Trial 322 finished with value: -3.0012246963890052 and parameters: {'x': 1.6243866658379276, 'y': 1.583861133802731}. Best is trial 253 with value: -3.1514234470766698.\n",
      "Trial 322 finished with value: -3.0012246963890052 and parameters: {'x': 1.6243866658379276, 'y': 1.583861133802731}. Best is trial 253 with value: -3.1514234470766698.\n"
     ]
    },
    {
     "name": "stderr",
     "output_type": "stream",
     "text": [
      "\u001b[32m[I 2022-11-15 13:20:17,858]\u001b[0m Trial 323 finished with value: -0.5375195329925196 and parameters: {'x': 1.5788557945748685, 'y': 1.3013929599127483}. Best is trial 253 with value: -3.1514234470766698.\u001b[0m\n"
     ]
    },
    {
     "name": "stdout",
     "output_type": "stream",
     "text": [
      "Trial 323 finished with value: -0.5375195329925196 and parameters: {'x': 1.5788557945748685, 'y': 1.3013929599127483}. Best is trial 253 with value: -3.1514234470766698.\n",
      "Trial 323 finished with value: -0.5375195329925196 and parameters: {'x': 1.5788557945748685, 'y': 1.3013929599127483}. Best is trial 253 with value: -3.1514234470766698.\n",
      "Trial 323 finished with value: -0.5375195329925196 and parameters: {'x': 1.5788557945748685, 'y': 1.3013929599127483}. Best is trial 253 with value: -3.1514234470766698.\n"
     ]
    },
    {
     "name": "stderr",
     "output_type": "stream",
     "text": [
      "\u001b[32m[I 2022-11-15 13:20:17,864]\u001b[0m Trial 324 finished with value: 0.09457741486675209 and parameters: {'x': 1.4490762603096412, 'y': 1.541660048842063}. Best is trial 253 with value: -3.1514234470766698.\u001b[0m\n"
     ]
    },
    {
     "name": "stdout",
     "output_type": "stream",
     "text": [
      "Trial 324 finished with value: 0.09457741486675209 and parameters: {'x': 1.4490762603096412, 'y': 1.541660048842063}. Best is trial 253 with value: -3.1514234470766698.\n",
      "Trial 324 finished with value: 0.09457741486675209 and parameters: {'x': 1.4490762603096412, 'y': 1.541660048842063}. Best is trial 253 with value: -3.1514234470766698.\n",
      "Trial 324 finished with value: 0.09457741486675209 and parameters: {'x': 1.4490762603096412, 'y': 1.541660048842063}. Best is trial 253 with value: -3.1514234470766698.\n"
     ]
    },
    {
     "name": "stderr",
     "output_type": "stream",
     "text": [
      "\u001b[32m[I 2022-11-15 13:20:17,869]\u001b[0m Trial 325 finished with value: -0.7498691604966486 and parameters: {'x': 1.6324595771599382, 'y': 1.4483504430527603}. Best is trial 253 with value: -3.1514234470766698.\u001b[0m\n"
     ]
    },
    {
     "name": "stdout",
     "output_type": "stream",
     "text": [
      "Trial 325 finished with value: -0.7498691604966486 and parameters: {'x': 1.6324595771599382, 'y': 1.4483504430527603}. Best is trial 253 with value: -3.1514234470766698.\n",
      "Trial 325 finished with value: -0.7498691604966486 and parameters: {'x': 1.6324595771599382, 'y': 1.4483504430527603}. Best is trial 253 with value: -3.1514234470766698.\n",
      "Trial 325 finished with value: -0.7498691604966486 and parameters: {'x': 1.6324595771599382, 'y': 1.4483504430527603}. Best is trial 253 with value: -3.1514234470766698.\n"
     ]
    },
    {
     "name": "stderr",
     "output_type": "stream",
     "text": [
      "\u001b[32m[I 2022-11-15 13:20:17,874]\u001b[0m Trial 326 finished with value: -2.0651822703500065 and parameters: {'x': 1.5372158363605621, 'y': 1.5834249010035117}. Best is trial 253 with value: -3.1514234470766698.\u001b[0m\n"
     ]
    },
    {
     "name": "stdout",
     "output_type": "stream",
     "text": [
      "Trial 326 finished with value: -2.0651822703500065 and parameters: {'x': 1.5372158363605621, 'y': 1.5834249010035117}. Best is trial 253 with value: -3.1514234470766698.\n",
      "Trial 326 finished with value: -2.0651822703500065 and parameters: {'x': 1.5372158363605621, 'y': 1.5834249010035117}. Best is trial 253 with value: -3.1514234470766698.\n",
      "Trial 326 finished with value: -2.0651822703500065 and parameters: {'x': 1.5372158363605621, 'y': 1.5834249010035117}. Best is trial 253 with value: -3.1514234470766698.\n"
     ]
    },
    {
     "name": "stderr",
     "output_type": "stream",
     "text": [
      "\u001b[32m[I 2022-11-15 13:20:17,880]\u001b[0m Trial 327 finished with value: -1.1011989080959594 and parameters: {'x': 1.7364764620970377, 'y': 1.5438033522577266}. Best is trial 253 with value: -3.1514234470766698.\u001b[0m\n"
     ]
    },
    {
     "name": "stdout",
     "output_type": "stream",
     "text": [
      "Trial 327 finished with value: -1.1011989080959594 and parameters: {'x': 1.7364764620970377, 'y': 1.5438033522577266}. Best is trial 253 with value: -3.1514234470766698.\n",
      "Trial 327 finished with value: -1.1011989080959594 and parameters: {'x': 1.7364764620970377, 'y': 1.5438033522577266}. Best is trial 253 with value: -3.1514234470766698.\n",
      "Trial 327 finished with value: -1.1011989080959594 and parameters: {'x': 1.7364764620970377, 'y': 1.5438033522577266}. Best is trial 253 with value: -3.1514234470766698.\n"
     ]
    },
    {
     "name": "stderr",
     "output_type": "stream",
     "text": [
      "\u001b[32m[I 2022-11-15 13:20:17,885]\u001b[0m Trial 328 finished with value: -0.24186185254725823 and parameters: {'x': 1.3925941166303564, 'y': 1.643160499283229}. Best is trial 253 with value: -3.1514234470766698.\u001b[0m\n"
     ]
    },
    {
     "name": "stdout",
     "output_type": "stream",
     "text": [
      "Trial 328 finished with value: -0.24186185254725823 and parameters: {'x': 1.3925941166303564, 'y': 1.643160499283229}. Best is trial 253 with value: -3.1514234470766698.\n",
      "Trial 328 finished with value: -0.24186185254725823 and parameters: {'x': 1.3925941166303564, 'y': 1.643160499283229}. Best is trial 253 with value: -3.1514234470766698.\n",
      "Trial 328 finished with value: -0.24186185254725823 and parameters: {'x': 1.3925941166303564, 'y': 1.643160499283229}. Best is trial 253 with value: -3.1514234470766698.\n"
     ]
    },
    {
     "name": "stderr",
     "output_type": "stream",
     "text": [
      "\u001b[32m[I 2022-11-15 13:20:17,890]\u001b[0m Trial 329 finished with value: 1.2941111921347574 and parameters: {'x': 1.8079043818407077, 'y': 1.4951190583645784}. Best is trial 253 with value: -3.1514234470766698.\u001b[0m\n"
     ]
    },
    {
     "name": "stdout",
     "output_type": "stream",
     "text": [
      "Trial 329 finished with value: 1.2941111921347574 and parameters: {'x': 1.8079043818407077, 'y': 1.4951190583645784}. Best is trial 253 with value: -3.1514234470766698.\n",
      "Trial 329 finished with value: 1.2941111921347574 and parameters: {'x': 1.8079043818407077, 'y': 1.4951190583645784}. Best is trial 253 with value: -3.1514234470766698.\n",
      "Trial 329 finished with value: 1.2941111921347574 and parameters: {'x': 1.8079043818407077, 'y': 1.4951190583645784}. Best is trial 253 with value: -3.1514234470766698.\n"
     ]
    },
    {
     "name": "stderr",
     "output_type": "stream",
     "text": [
      "\u001b[32m[I 2022-11-15 13:20:17,896]\u001b[0m Trial 330 finished with value: -1.7679450252253606 and parameters: {'x': 1.6192854536402246, 'y': 1.7430134215712296}. Best is trial 253 with value: -3.1514234470766698.\u001b[0m\n"
     ]
    },
    {
     "name": "stdout",
     "output_type": "stream",
     "text": [
      "Trial 330 finished with value: -1.7679450252253606 and parameters: {'x': 1.6192854536402246, 'y': 1.7430134215712296}. Best is trial 253 with value: -3.1514234470766698.\n",
      "Trial 330 finished with value: -1.7679450252253606 and parameters: {'x': 1.6192854536402246, 'y': 1.7430134215712296}. Best is trial 253 with value: -3.1514234470766698.\n",
      "Trial 330 finished with value: -1.7679450252253606 and parameters: {'x': 1.6192854536402246, 'y': 1.7430134215712296}. Best is trial 253 with value: -3.1514234470766698.\n"
     ]
    },
    {
     "name": "stderr",
     "output_type": "stream",
     "text": [
      "\u001b[32m[I 2022-11-15 13:20:17,901]\u001b[0m Trial 331 finished with value: 1.6161491772528014 and parameters: {'x': 1.4864692309787817, 'y': 1.3687868730353177}. Best is trial 253 with value: -3.1514234470766698.\u001b[0m\n"
     ]
    },
    {
     "name": "stdout",
     "output_type": "stream",
     "text": [
      "Trial 331 finished with value: 1.6161491772528014 and parameters: {'x': 1.4864692309787817, 'y': 1.3687868730353177}. Best is trial 253 with value: -3.1514234470766698.\n",
      "Trial 331 finished with value: 1.6161491772528014 and parameters: {'x': 1.4864692309787817, 'y': 1.3687868730353177}. Best is trial 253 with value: -3.1514234470766698.\n",
      "Trial 331 finished with value: 1.6161491772528014 and parameters: {'x': 1.4864692309787817, 'y': 1.3687868730353177}. Best is trial 253 with value: -3.1514234470766698.\n"
     ]
    },
    {
     "name": "stderr",
     "output_type": "stream",
     "text": [
      "\u001b[32m[I 2022-11-15 13:20:17,906]\u001b[0m Trial 332 finished with value: 0.3031911150440558 and parameters: {'x': 1.8852990204484306, 'y': 1.6070502028535976}. Best is trial 253 with value: -3.1514234470766698.\u001b[0m\n"
     ]
    },
    {
     "name": "stdout",
     "output_type": "stream",
     "text": [
      "Trial 332 finished with value: 0.3031911150440558 and parameters: {'x': 1.8852990204484306, 'y': 1.6070502028535976}. Best is trial 253 with value: -3.1514234470766698.\n",
      "Trial 332 finished with value: 0.3031911150440558 and parameters: {'x': 1.8852990204484306, 'y': 1.6070502028535976}. Best is trial 253 with value: -3.1514234470766698.\n",
      "Trial 332 finished with value: 0.3031911150440558 and parameters: {'x': 1.8852990204484306, 'y': 1.6070502028535976}. Best is trial 253 with value: -3.1514234470766698.\n"
     ]
    },
    {
     "name": "stderr",
     "output_type": "stream",
     "text": [
      "\u001b[32m[I 2022-11-15 13:20:17,912]\u001b[0m Trial 333 finished with value: 0.3377618625523633 and parameters: {'x': 1.676928361195131, 'y': 1.840492377140476}. Best is trial 253 with value: -3.1514234470766698.\u001b[0m\n"
     ]
    },
    {
     "name": "stdout",
     "output_type": "stream",
     "text": [
      "Trial 333 finished with value: 0.3377618625523633 and parameters: {'x': 1.676928361195131, 'y': 1.840492377140476}. Best is trial 253 with value: -3.1514234470766698.\n",
      "Trial 333 finished with value: 0.3377618625523633 and parameters: {'x': 1.676928361195131, 'y': 1.840492377140476}. Best is trial 253 with value: -3.1514234470766698.\n",
      "Trial 333 finished with value: 0.3377618625523633 and parameters: {'x': 1.676928361195131, 'y': 1.840492377140476}. Best is trial 253 with value: -3.1514234470766698.\n"
     ]
    },
    {
     "name": "stderr",
     "output_type": "stream",
     "text": [
      "\u001b[32m[I 2022-11-15 13:20:17,917]\u001b[0m Trial 334 finished with value: -1.6379373753136142 and parameters: {'x': -0.7310829001229535, 'y': 1.6642619483572418}. Best is trial 253 with value: -3.1514234470766698.\u001b[0m\n"
     ]
    },
    {
     "name": "stdout",
     "output_type": "stream",
     "text": [
      "Trial 334 finished with value: -1.6379373753136142 and parameters: {'x': -0.7310829001229535, 'y': 1.6642619483572418}. Best is trial 253 with value: -3.1514234470766698.\n",
      "Trial 334 finished with value: -1.6379373753136142 and parameters: {'x': -0.7310829001229535, 'y': 1.6642619483572418}. Best is trial 253 with value: -3.1514234470766698.\n",
      "Trial 334 finished with value: -1.6379373753136142 and parameters: {'x': -0.7310829001229535, 'y': 1.6642619483572418}. Best is trial 253 with value: -3.1514234470766698.\n"
     ]
    },
    {
     "name": "stderr",
     "output_type": "stream",
     "text": [
      "\u001b[32m[I 2022-11-15 13:20:17,923]\u001b[0m Trial 335 finished with value: -0.9153638472179765 and parameters: {'x': 1.5737268045524093, 'y': 1.4814147813141691}. Best is trial 253 with value: -3.1514234470766698.\u001b[0m\n"
     ]
    },
    {
     "name": "stdout",
     "output_type": "stream",
     "text": [
      "Trial 335 finished with value: -0.9153638472179765 and parameters: {'x': 1.5737268045524093, 'y': 1.4814147813141691}. Best is trial 253 with value: -3.1514234470766698.\n",
      "Trial 335 finished with value: -0.9153638472179765 and parameters: {'x': 1.5737268045524093, 'y': 1.4814147813141691}. Best is trial 253 with value: -3.1514234470766698.\n",
      "Trial 335 finished with value: -0.9153638472179765 and parameters: {'x': 1.5737268045524093, 'y': 1.4814147813141691}. Best is trial 253 with value: -3.1514234470766698.\n"
     ]
    },
    {
     "name": "stderr",
     "output_type": "stream",
     "text": [
      "\u001b[32m[I 2022-11-15 13:20:17,928]\u001b[0m Trial 336 finished with value: 1.7053280385601768 and parameters: {'x': 1.7720692862535317, 'y': 1.9460723921881116}. Best is trial 253 with value: -3.1514234470766698.\u001b[0m\n"
     ]
    },
    {
     "name": "stdout",
     "output_type": "stream",
     "text": [
      "Trial 336 finished with value: 1.7053280385601768 and parameters: {'x': 1.7720692862535317, 'y': 1.9460723921881116}. Best is trial 253 with value: -3.1514234470766698.\n",
      "Trial 336 finished with value: 1.7053280385601768 and parameters: {'x': 1.7720692862535317, 'y': 1.9460723921881116}. Best is trial 253 with value: -3.1514234470766698.\n",
      "Trial 336 finished with value: 1.7053280385601768 and parameters: {'x': 1.7720692862535317, 'y': 1.9460723921881116}. Best is trial 253 with value: -3.1514234470766698.\n"
     ]
    },
    {
     "name": "stderr",
     "output_type": "stream",
     "text": [
      "\u001b[32m[I 2022-11-15 13:20:17,933]\u001b[0m Trial 337 finished with value: -1.6890171070410291 and parameters: {'x': 1.642085950404298, 'y': 1.746141353007016}. Best is trial 253 with value: -3.1514234470766698.\u001b[0m\n"
     ]
    },
    {
     "name": "stdout",
     "output_type": "stream",
     "text": [
      "Trial 337 finished with value: -1.6890171070410291 and parameters: {'x': 1.642085950404298, 'y': 1.746141353007016}. Best is trial 253 with value: -3.1514234470766698.\n",
      "Trial 337 finished with value: -1.6890171070410291 and parameters: {'x': 1.642085950404298, 'y': 1.746141353007016}. Best is trial 253 with value: -3.1514234470766698.\n",
      "Trial 337 finished with value: -1.6890171070410291 and parameters: {'x': 1.642085950404298, 'y': 1.746141353007016}. Best is trial 253 with value: -3.1514234470766698.\n"
     ]
    },
    {
     "name": "stderr",
     "output_type": "stream",
     "text": [
      "\u001b[32m[I 2022-11-15 13:20:17,939]\u001b[0m Trial 338 finished with value: -1.3254478156569953 and parameters: {'x': 1.508944872942443, 'y': 1.5660889366236295}. Best is trial 253 with value: -3.1514234470766698.\u001b[0m\n"
     ]
    },
    {
     "name": "stdout",
     "output_type": "stream",
     "text": [
      "Trial 338 finished with value: -1.3254478156569953 and parameters: {'x': 1.508944872942443, 'y': 1.5660889366236295}. Best is trial 253 with value: -3.1514234470766698.\n",
      "Trial 338 finished with value: -1.3254478156569953 and parameters: {'x': 1.508944872942443, 'y': 1.5660889366236295}. Best is trial 253 with value: -3.1514234470766698.\n",
      "Trial 338 finished with value: -1.3254478156569953 and parameters: {'x': 1.508944872942443, 'y': 1.5660889366236295}. Best is trial 253 with value: -3.1514234470766698.\n"
     ]
    },
    {
     "name": "stderr",
     "output_type": "stream",
     "text": [
      "\u001b[32m[I 2022-11-15 13:20:17,944]\u001b[0m Trial 339 finished with value: -2.3212522020506303 and parameters: {'x': 1.7156769294622551, 'y': 1.642201559120646}. Best is trial 253 with value: -3.1514234470766698.\u001b[0m\n"
     ]
    },
    {
     "name": "stdout",
     "output_type": "stream",
     "text": [
      "Trial 339 finished with value: -2.3212522020506303 and parameters: {'x': 1.7156769294622551, 'y': 1.642201559120646}. Best is trial 253 with value: -3.1514234470766698.\n",
      "Trial 339 finished with value: -2.3212522020506303 and parameters: {'x': 1.7156769294622551, 'y': 1.642201559120646}. Best is trial 253 with value: -3.1514234470766698.\n",
      "Trial 339 finished with value: -2.3212522020506303 and parameters: {'x': 1.7156769294622551, 'y': 1.642201559120646}. Best is trial 253 with value: -3.1514234470766698.\n"
     ]
    },
    {
     "name": "stderr",
     "output_type": "stream",
     "text": [
      "\u001b[32m[I 2022-11-15 13:20:17,950]\u001b[0m Trial 340 finished with value: 1.8687809398547985 and parameters: {'x': 1.2915951050546772, 'y': 1.4170234326878137}. Best is trial 253 with value: -3.1514234470766698.\u001b[0m\n"
     ]
    },
    {
     "name": "stdout",
     "output_type": "stream",
     "text": [
      "Trial 340 finished with value: 1.8687809398547985 and parameters: {'x': 1.2915951050546772, 'y': 1.4170234326878137}. Best is trial 253 with value: -3.1514234470766698.\n",
      "Trial 340 finished with value: 1.8687809398547985 and parameters: {'x': 1.2915951050546772, 'y': 1.4170234326878137}. Best is trial 253 with value: -3.1514234470766698.\n",
      "Trial 340 finished with value: 1.8687809398547985 and parameters: {'x': 1.2915951050546772, 'y': 1.4170234326878137}. Best is trial 253 with value: -3.1514234470766698.\n"
     ]
    },
    {
     "name": "stderr",
     "output_type": "stream",
     "text": [
      "\u001b[32m[I 2022-11-15 13:20:17,956]\u001b[0m Trial 341 finished with value: -2.397396810297157 and parameters: {'x': 1.6013037590277788, 'y': 1.7076460134597886}. Best is trial 253 with value: -3.1514234470766698.\u001b[0m\n"
     ]
    },
    {
     "name": "stdout",
     "output_type": "stream",
     "text": [
      "Trial 341 finished with value: -2.397396810297157 and parameters: {'x': 1.6013037590277788, 'y': 1.7076460134597886}. Best is trial 253 with value: -3.1514234470766698.\n",
      "Trial 341 finished with value: -2.397396810297157 and parameters: {'x': 1.6013037590277788, 'y': 1.7076460134597886}. Best is trial 253 with value: -3.1514234470766698.\n",
      "Trial 341 finished with value: -2.397396810297157 and parameters: {'x': 1.6013037590277788, 'y': 1.7076460134597886}. Best is trial 253 with value: -3.1514234470766698.\n"
     ]
    },
    {
     "name": "stderr",
     "output_type": "stream",
     "text": [
      "\u001b[32m[I 2022-11-15 13:20:17,961]\u001b[0m Trial 342 finished with value: 0.9394572350912991 and parameters: {'x': 1.3991722605640864, 'y': 1.5209422891905582}. Best is trial 253 with value: -3.1514234470766698.\u001b[0m\n"
     ]
    },
    {
     "name": "stdout",
     "output_type": "stream",
     "text": [
      "Trial 342 finished with value: 0.9394572350912991 and parameters: {'x': 1.3991722605640864, 'y': 1.5209422891905582}. Best is trial 253 with value: -3.1514234470766698.\n",
      "Trial 342 finished with value: 0.9394572350912991 and parameters: {'x': 1.3991722605640864, 'y': 1.5209422891905582}. Best is trial 253 with value: -3.1514234470766698.\n",
      "Trial 342 finished with value: 0.9394572350912991 and parameters: {'x': 1.3991722605640864, 'y': 1.5209422891905582}. Best is trial 253 with value: -3.1514234470766698.\n"
     ]
    },
    {
     "name": "stderr",
     "output_type": "stream",
     "text": [
      "\u001b[32m[I 2022-11-15 13:20:17,967]\u001b[0m Trial 343 finished with value: 0.45971624097351405 and parameters: {'x': -1.877347895262378, 'y': 1.5877359970605651}. Best is trial 253 with value: -3.1514234470766698.\u001b[0m\n"
     ]
    },
    {
     "name": "stdout",
     "output_type": "stream",
     "text": [
      "Trial 343 finished with value: 0.45971624097351405 and parameters: {'x': -1.877347895262378, 'y': 1.5877359970605651}. Best is trial 253 with value: -3.1514234470766698.\n",
      "Trial 343 finished with value: 0.45971624097351405 and parameters: {'x': -1.877347895262378, 'y': 1.5877359970605651}. Best is trial 253 with value: -3.1514234470766698.\n",
      "Trial 343 finished with value: 0.45971624097351405 and parameters: {'x': -1.877347895262378, 'y': 1.5877359970605651}. Best is trial 253 with value: -3.1514234470766698.\n"
     ]
    },
    {
     "name": "stderr",
     "output_type": "stream",
     "text": [
      "\u001b[32m[I 2022-11-15 13:20:17,973]\u001b[0m Trial 344 finished with value: -0.09991151262778597 and parameters: {'x': 1.541479764014043, 'y': 1.7805878953978702}. Best is trial 253 with value: -3.1514234470766698.\u001b[0m\n"
     ]
    },
    {
     "name": "stdout",
     "output_type": "stream",
     "text": [
      "Trial 344 finished with value: -0.09991151262778597 and parameters: {'x': 1.541479764014043, 'y': 1.7805878953978702}. Best is trial 253 with value: -3.1514234470766698.\n",
      "Trial 344 finished with value: -0.09991151262778597 and parameters: {'x': 1.541479764014043, 'y': 1.7805878953978702}. Best is trial 253 with value: -3.1514234470766698.\n",
      "Trial 344 finished with value: -0.09991151262778597 and parameters: {'x': 1.541479764014043, 'y': 1.7805878953978702}. Best is trial 253 with value: -3.1514234470766698.\n"
     ]
    },
    {
     "name": "stderr",
     "output_type": "stream",
     "text": [
      "\u001b[32m[I 2022-11-15 13:20:17,978]\u001b[0m Trial 345 finished with value: -2.6187193314640886 and parameters: {'x': 1.6856585061717027, 'y': 1.6709992068196062}. Best is trial 253 with value: -3.1514234470766698.\u001b[0m\n"
     ]
    },
    {
     "name": "stdout",
     "output_type": "stream",
     "text": [
      "Trial 345 finished with value: -2.6187193314640886 and parameters: {'x': 1.6856585061717027, 'y': 1.6709992068196062}. Best is trial 253 with value: -3.1514234470766698.\n",
      "Trial 345 finished with value: -2.6187193314640886 and parameters: {'x': 1.6856585061717027, 'y': 1.6709992068196062}. Best is trial 253 with value: -3.1514234470766698.\n",
      "Trial 345 finished with value: -2.6187193314640886 and parameters: {'x': 1.6856585061717027, 'y': 1.6709992068196062}. Best is trial 253 with value: -3.1514234470766698.\n"
     ]
    },
    {
     "name": "stderr",
     "output_type": "stream",
     "text": [
      "\u001b[32m[I 2022-11-15 13:20:17,984]\u001b[0m Trial 346 finished with value: 0.005482680270111395 and parameters: {'x': 1.7621872729391923, 'y': 1.5139131173211537}. Best is trial 253 with value: -3.1514234470766698.\u001b[0m\n"
     ]
    },
    {
     "name": "stdout",
     "output_type": "stream",
     "text": [
      "Trial 346 finished with value: 0.005482680270111395 and parameters: {'x': 1.7621872729391923, 'y': 1.5139131173211537}. Best is trial 253 with value: -3.1514234470766698.\n",
      "Trial 346 finished with value: 0.005482680270111395 and parameters: {'x': 1.7621872729391923, 'y': 1.5139131173211537}. Best is trial 253 with value: -3.1514234470766698.\n",
      "Trial 346 finished with value: 0.005482680270111395 and parameters: {'x': 1.7621872729391923, 'y': 1.5139131173211537}. Best is trial 253 with value: -3.1514234470766698.\n"
     ]
    },
    {
     "name": "stderr",
     "output_type": "stream",
     "text": [
      "\u001b[32m[I 2022-11-15 13:20:17,989]\u001b[0m Trial 347 finished with value: 0.12899614011590477 and parameters: {'x': 1.8483167725457532, 'y': 1.6379181274912435}. Best is trial 253 with value: -3.1514234470766698.\u001b[0m\n"
     ]
    },
    {
     "name": "stdout",
     "output_type": "stream",
     "text": [
      "Trial 347 finished with value: 0.12899614011590477 and parameters: {'x': 1.8483167725457532, 'y': 1.6379181274912435}. Best is trial 253 with value: -3.1514234470766698.\n",
      "Trial 347 finished with value: 0.12899614011590477 and parameters: {'x': 1.8483167725457532, 'y': 1.6379181274912435}. Best is trial 253 with value: -3.1514234470766698.\n",
      "Trial 347 finished with value: 0.12899614011590477 and parameters: {'x': 1.8483167725457532, 'y': 1.6379181274912435}. Best is trial 253 with value: -3.1514234470766698.\n"
     ]
    },
    {
     "name": "stderr",
     "output_type": "stream",
     "text": [
      "\u001b[32m[I 2022-11-15 13:20:17,995]\u001b[0m Trial 348 finished with value: 0.3912048335173466 and parameters: {'x': 1.5952664044167522, 'y': 1.8769913464104837}. Best is trial 253 with value: -3.1514234470766698.\u001b[0m\n"
     ]
    },
    {
     "name": "stdout",
     "output_type": "stream",
     "text": [
      "Trial 348 finished with value: 0.3912048335173466 and parameters: {'x': 1.5952664044167522, 'y': 1.8769913464104837}. Best is trial 253 with value: -3.1514234470766698.\n",
      "Trial 348 finished with value: 0.3912048335173466 and parameters: {'x': 1.5952664044167522, 'y': 1.8769913464104837}. Best is trial 253 with value: -3.1514234470766698.\n",
      "Trial 348 finished with value: 0.3912048335173466 and parameters: {'x': 1.5952664044167522, 'y': 1.8769913464104837}. Best is trial 253 with value: -3.1514234470766698.\n"
     ]
    },
    {
     "name": "stderr",
     "output_type": "stream",
     "text": [
      "\u001b[32m[I 2022-11-15 13:20:18,001]\u001b[0m Trial 349 finished with value: 1.7997487719535767 and parameters: {'x': 1.4553392877395563, 'y': 1.436773483539469}. Best is trial 253 with value: -3.1514234470766698.\u001b[0m\n"
     ]
    },
    {
     "name": "stdout",
     "output_type": "stream",
     "text": [
      "Trial 349 finished with value: 1.7997487719535767 and parameters: {'x': 1.4553392877395563, 'y': 1.436773483539469}. Best is trial 253 with value: -3.1514234470766698.\n",
      "Trial 349 finished with value: 1.7997487719535767 and parameters: {'x': 1.4553392877395563, 'y': 1.436773483539469}. Best is trial 253 with value: -3.1514234470766698.\n",
      "Trial 349 finished with value: 1.7997487719535767 and parameters: {'x': 1.4553392877395563, 'y': 1.436773483539469}. Best is trial 253 with value: -3.1514234470766698.\n"
     ]
    },
    {
     "name": "stderr",
     "output_type": "stream",
     "text": [
      "\u001b[32m[I 2022-11-15 13:20:18,006]\u001b[0m Trial 350 finished with value: -1.1766866916768381 and parameters: {'x': 1.674901981914309, 'y': 1.7581409932311822}. Best is trial 253 with value: -3.1514234470766698.\u001b[0m\n"
     ]
    },
    {
     "name": "stdout",
     "output_type": "stream",
     "text": [
      "Trial 350 finished with value: -1.1766866916768381 and parameters: {'x': 1.674901981914309, 'y': 1.7581409932311822}. Best is trial 253 with value: -3.1514234470766698.\n",
      "Trial 350 finished with value: -1.1766866916768381 and parameters: {'x': 1.674901981914309, 'y': 1.7581409932311822}. Best is trial 253 with value: -3.1514234470766698.\n",
      "Trial 350 finished with value: -1.1766866916768381 and parameters: {'x': 1.674901981914309, 'y': 1.7581409932311822}. Best is trial 253 with value: -3.1514234470766698.\n"
     ]
    },
    {
     "name": "stderr",
     "output_type": "stream",
     "text": [
      "\u001b[32m[I 2022-11-15 13:20:18,012]\u001b[0m Trial 351 finished with value: -2.689792734536063 and parameters: {'x': 1.5719742564600958, 'y': 1.5916690954948214}. Best is trial 253 with value: -3.1514234470766698.\u001b[0m\n"
     ]
    },
    {
     "name": "stdout",
     "output_type": "stream",
     "text": [
      "Trial 351 finished with value: -2.689792734536063 and parameters: {'x': 1.5719742564600958, 'y': 1.5916690954948214}. Best is trial 253 with value: -3.1514234470766698.\n",
      "Trial 351 finished with value: -2.689792734536063 and parameters: {'x': 1.5719742564600958, 'y': 1.5916690954948214}. Best is trial 253 with value: -3.1514234470766698.\n",
      "Trial 351 finished with value: -2.689792734536063 and parameters: {'x': 1.5719742564600958, 'y': 1.5916690954948214}. Best is trial 253 with value: -3.1514234470766698.\n"
     ]
    },
    {
     "name": "stderr",
     "output_type": "stream",
     "text": [
      "\u001b[32m[I 2022-11-15 13:20:18,019]\u001b[0m Trial 352 finished with value: -1.5781351697283799 and parameters: {'x': 1.5232238120847295, 'y': 1.691140260789793}. Best is trial 253 with value: -3.1514234470766698.\u001b[0m\n"
     ]
    },
    {
     "name": "stdout",
     "output_type": "stream",
     "text": [
      "Trial 352 finished with value: -1.5781351697283799 and parameters: {'x': 1.5232238120847295, 'y': 1.691140260789793}. Best is trial 253 with value: -3.1514234470766698.\n",
      "Trial 352 finished with value: -1.5781351697283799 and parameters: {'x': 1.5232238120847295, 'y': 1.691140260789793}. Best is trial 253 with value: -3.1514234470766698.\n",
      "Trial 352 finished with value: -1.5781351697283799 and parameters: {'x': 1.5232238120847295, 'y': 1.691140260789793}. Best is trial 253 with value: -3.1514234470766698.\n"
     ]
    },
    {
     "name": "stderr",
     "output_type": "stream",
     "text": [
      "\u001b[32m[I 2022-11-15 13:20:18,024]\u001b[0m Trial 353 finished with value: -0.5939773534350199 and parameters: {'x': 1.7839755814715654, 'y': 1.5798848927945919}. Best is trial 253 with value: -3.1514234470766698.\u001b[0m\n"
     ]
    },
    {
     "name": "stdout",
     "output_type": "stream",
     "text": [
      "Trial 353 finished with value: -0.5939773534350199 and parameters: {'x': 1.7839755814715654, 'y': 1.5798848927945919}. Best is trial 253 with value: -3.1514234470766698.\n",
      "Trial 353 finished with value: -0.5939773534350199 and parameters: {'x': 1.7839755814715654, 'y': 1.5798848927945919}. Best is trial 253 with value: -3.1514234470766698.\n",
      "Trial 353 finished with value: -0.5939773534350199 and parameters: {'x': 1.7839755814715654, 'y': 1.5798848927945919}. Best is trial 253 with value: -3.1514234470766698.\n"
     ]
    },
    {
     "name": "stderr",
     "output_type": "stream",
     "text": [
      "\u001b[32m[I 2022-11-15 13:20:18,030]\u001b[0m Trial 354 finished with value: -0.2554525652779718 and parameters: {'x': 1.662640258771665, 'y': 1.8091699175138911}. Best is trial 253 with value: -3.1514234470766698.\u001b[0m\n"
     ]
    },
    {
     "name": "stdout",
     "output_type": "stream",
     "text": [
      "Trial 354 finished with value: -0.2554525652779718 and parameters: {'x': 1.662640258771665, 'y': 1.8091699175138911}. Best is trial 253 with value: -3.1514234470766698.\n",
      "Trial 354 finished with value: -0.2554525652779718 and parameters: {'x': 1.662640258771665, 'y': 1.8091699175138911}. Best is trial 253 with value: -3.1514234470766698.\n",
      "Trial 354 finished with value: -0.2554525652779718 and parameters: {'x': 1.662640258771665, 'y': 1.8091699175138911}. Best is trial 253 with value: -3.1514234470766698.\n"
     ]
    },
    {
     "name": "stderr",
     "output_type": "stream",
     "text": [
      "\u001b[32m[I 2022-11-15 13:20:18,036]\u001b[0m Trial 355 finished with value: -2.806595706907382 and parameters: {'x': 1.5679604396577878, 'y': 1.6245030041055215}. Best is trial 253 with value: -3.1514234470766698.\u001b[0m\n"
     ]
    },
    {
     "name": "stdout",
     "output_type": "stream",
     "text": [
      "Trial 355 finished with value: -2.806595706907382 and parameters: {'x': 1.5679604396577878, 'y': 1.6245030041055215}. Best is trial 253 with value: -3.1514234470766698.\n",
      "Trial 355 finished with value: -2.806595706907382 and parameters: {'x': 1.5679604396577878, 'y': 1.6245030041055215}. Best is trial 253 with value: -3.1514234470766698.\n",
      "Trial 355 finished with value: -2.806595706907382 and parameters: {'x': 1.5679604396577878, 'y': 1.6245030041055215}. Best is trial 253 with value: -3.1514234470766698.\n"
     ]
    },
    {
     "name": "stderr",
     "output_type": "stream",
     "text": [
      "\u001b[32m[I 2022-11-15 13:20:18,042]\u001b[0m Trial 356 finished with value: 0.11799786372707555 and parameters: {'x': 1.951370088660385, 'y': 1.6998558518579359}. Best is trial 253 with value: -3.1514234470766698.\u001b[0m\n"
     ]
    },
    {
     "name": "stdout",
     "output_type": "stream",
     "text": [
      "Trial 356 finished with value: 0.11799786372707555 and parameters: {'x': 1.951370088660385, 'y': 1.6998558518579359}. Best is trial 253 with value: -3.1514234470766698.\n",
      "Trial 356 finished with value: 0.11799786372707555 and parameters: {'x': 1.951370088660385, 'y': 1.6998558518579359}. Best is trial 253 with value: -3.1514234470766698.\n",
      "Trial 356 finished with value: 0.11799786372707555 and parameters: {'x': 1.951370088660385, 'y': 1.6998558518579359}. Best is trial 253 with value: -3.1514234470766698.\n"
     ]
    },
    {
     "name": "stderr",
     "output_type": "stream",
     "text": [
      "\u001b[32m[I 2022-11-15 13:20:18,048]\u001b[0m Trial 357 finished with value: 1.6387442484389887 and parameters: {'x': 1.4791262357605002, 'y': 1.3456548649071696}. Best is trial 253 with value: -3.1514234470766698.\u001b[0m\n"
     ]
    },
    {
     "name": "stdout",
     "output_type": "stream",
     "text": [
      "Trial 357 finished with value: 1.6387442484389887 and parameters: {'x': 1.4791262357605002, 'y': 1.3456548649071696}. Best is trial 253 with value: -3.1514234470766698.\n",
      "Trial 357 finished with value: 1.6387442484389887 and parameters: {'x': 1.4791262357605002, 'y': 1.3456548649071696}. Best is trial 253 with value: -3.1514234470766698.\n",
      "Trial 357 finished with value: 1.6387442484389887 and parameters: {'x': 1.4791262357605002, 'y': 1.3456548649071696}. Best is trial 253 with value: -3.1514234470766698.\n"
     ]
    },
    {
     "name": "stderr",
     "output_type": "stream",
     "text": [
      "\u001b[32m[I 2022-11-15 13:20:18,054]\u001b[0m Trial 358 finished with value: -0.25128009287526554 and parameters: {'x': 1.736670834943544, 'y': 1.4979676606052175}. Best is trial 253 with value: -3.1514234470766698.\u001b[0m\n"
     ]
    },
    {
     "name": "stdout",
     "output_type": "stream",
     "text": [
      "Trial 358 finished with value: -0.25128009287526554 and parameters: {'x': 1.736670834943544, 'y': 1.4979676606052175}. Best is trial 253 with value: -3.1514234470766698.\n",
      "Trial 358 finished with value: -0.25128009287526554 and parameters: {'x': 1.736670834943544, 'y': 1.4979676606052175}. Best is trial 253 with value: -3.1514234470766698.\n",
      "Trial 358 finished with value: -0.25128009287526554 and parameters: {'x': 1.736670834943544, 'y': 1.4979676606052175}. Best is trial 253 with value: -3.1514234470766698.\n"
     ]
    },
    {
     "name": "stderr",
     "output_type": "stream",
     "text": [
      "\u001b[32m[I 2022-11-15 13:20:18,061]\u001b[0m Trial 359 finished with value: -3.195573414639618 and parameters: {'x': 1.6492182675336111, 'y': 1.6227764271996523}. Best is trial 359 with value: -3.195573414639618.\u001b[0m\n"
     ]
    },
    {
     "name": "stdout",
     "output_type": "stream",
     "text": [
      "Trial 359 finished with value: -3.195573414639618 and parameters: {'x': 1.6492182675336111, 'y': 1.6227764271996523}. Best is trial 359 with value: -3.195573414639618.\n",
      "Trial 359 finished with value: -3.195573414639618 and parameters: {'x': 1.6492182675336111, 'y': 1.6227764271996523}. Best is trial 359 with value: -3.195573414639618.\n",
      "Trial 359 finished with value: -3.195573414639618 and parameters: {'x': 1.6492182675336111, 'y': 1.6227764271996523}. Best is trial 359 with value: -3.195573414639618.\n"
     ]
    },
    {
     "name": "stderr",
     "output_type": "stream",
     "text": [
      "\u001b[32m[I 2022-11-15 13:20:18,067]\u001b[0m Trial 360 finished with value: 2.398284644721045 and parameters: {'x': 1.8215376548602022, 'y': -1.4410442221683215}. Best is trial 359 with value: -3.195573414639618.\u001b[0m\n"
     ]
    },
    {
     "name": "stdout",
     "output_type": "stream",
     "text": [
      "Trial 360 finished with value: 2.398284644721045 and parameters: {'x': 1.8215376548602022, 'y': -1.4410442221683215}. Best is trial 359 with value: -3.195573414639618.\n",
      "Trial 360 finished with value: 2.398284644721045 and parameters: {'x': 1.8215376548602022, 'y': -1.4410442221683215}. Best is trial 359 with value: -3.195573414639618.\n",
      "Trial 360 finished with value: 2.398284644721045 and parameters: {'x': 1.8215376548602022, 'y': -1.4410442221683215}. Best is trial 359 with value: -3.195573414639618.\n"
     ]
    },
    {
     "name": "stderr",
     "output_type": "stream",
     "text": [
      "\u001b[32m[I 2022-11-15 13:20:18,073]\u001b[0m Trial 361 finished with value: -2.0591270575239244 and parameters: {'x': 1.7292597292958072, 'y': 1.63907056423648}. Best is trial 359 with value: -3.195573414639618.\u001b[0m\n"
     ]
    },
    {
     "name": "stdout",
     "output_type": "stream",
     "text": [
      "Trial 361 finished with value: -2.0591270575239244 and parameters: {'x': 1.7292597292958072, 'y': 1.63907056423648}. Best is trial 359 with value: -3.195573414639618.\n",
      "Trial 361 finished with value: -2.0591270575239244 and parameters: {'x': 1.7292597292958072, 'y': 1.63907056423648}. Best is trial 359 with value: -3.195573414639618.\n",
      "Trial 361 finished with value: -2.0591270575239244 and parameters: {'x': 1.7292597292958072, 'y': 1.63907056423648}. Best is trial 359 with value: -3.195573414639618.\n"
     ]
    },
    {
     "name": "stderr",
     "output_type": "stream",
     "text": [
      "\u001b[32m[I 2022-11-15 13:20:18,079]\u001b[0m Trial 362 finished with value: 0.43119765927080156 and parameters: {'x': 0.8347645421548567, 'y': 1.7362215260110634}. Best is trial 359 with value: -3.195573414639618.\u001b[0m\n"
     ]
    },
    {
     "name": "stdout",
     "output_type": "stream",
     "text": [
      "Trial 362 finished with value: 0.43119765927080156 and parameters: {'x': 0.8347645421548567, 'y': 1.7362215260110634}. Best is trial 359 with value: -3.195573414639618.\n",
      "Trial 362 finished with value: 0.43119765927080156 and parameters: {'x': 0.8347645421548567, 'y': 1.7362215260110634}. Best is trial 359 with value: -3.195573414639618.\n",
      "Trial 362 finished with value: 0.43119765927080156 and parameters: {'x': 0.8347645421548567, 'y': 1.7362215260110634}. Best is trial 359 with value: -3.195573414639618.\n"
     ]
    },
    {
     "name": "stderr",
     "output_type": "stream",
     "text": [
      "\u001b[32m[I 2022-11-15 13:20:18,086]\u001b[0m Trial 363 finished with value: -3.1117532110567505 and parameters: {'x': 1.6127084019670879, 'y': 1.59952272863284}. Best is trial 359 with value: -3.195573414639618.\u001b[0m\n"
     ]
    },
    {
     "name": "stdout",
     "output_type": "stream",
     "text": [
      "Trial 363 finished with value: -3.1117532110567505 and parameters: {'x': 1.6127084019670879, 'y': 1.59952272863284}. Best is trial 359 with value: -3.195573414639618.\n",
      "Trial 363 finished with value: -3.1117532110567505 and parameters: {'x': 1.6127084019670879, 'y': 1.59952272863284}. Best is trial 359 with value: -3.195573414639618.\n",
      "Trial 363 finished with value: -3.1117532110567505 and parameters: {'x': 1.6127084019670879, 'y': 1.59952272863284}. Best is trial 359 with value: -3.195573414639618.\n"
     ]
    },
    {
     "name": "stderr",
     "output_type": "stream",
     "text": [
      "\u001b[32m[I 2022-11-15 13:20:18,092]\u001b[0m Trial 364 finished with value: -3.1545328338653613 and parameters: {'x': 1.6562873943590546, 'y': 1.6246376657449644}. Best is trial 359 with value: -3.195573414639618.\u001b[0m\n"
     ]
    },
    {
     "name": "stdout",
     "output_type": "stream",
     "text": [
      "Trial 364 finished with value: -3.1545328338653613 and parameters: {'x': 1.6562873943590546, 'y': 1.6246376657449644}. Best is trial 359 with value: -3.195573414639618.\n",
      "Trial 364 finished with value: -3.1545328338653613 and parameters: {'x': 1.6562873943590546, 'y': 1.6246376657449644}. Best is trial 359 with value: -3.195573414639618.\n",
      "Trial 364 finished with value: -3.1545328338653613 and parameters: {'x': 1.6562873943590546, 'y': 1.6246376657449644}. Best is trial 359 with value: -3.195573414639618.\n"
     ]
    },
    {
     "name": "stderr",
     "output_type": "stream",
     "text": [
      "\u001b[32m[I 2022-11-15 13:20:18,098]\u001b[0m Trial 365 finished with value: -0.5134006719875095 and parameters: {'x': 1.644654571733686, 'y': 1.8012413124943318}. Best is trial 359 with value: -3.195573414639618.\u001b[0m\n"
     ]
    },
    {
     "name": "stdout",
     "output_type": "stream",
     "text": [
      "Trial 365 finished with value: -0.5134006719875095 and parameters: {'x': 1.644654571733686, 'y': 1.8012413124943318}. Best is trial 359 with value: -3.195573414639618.\n",
      "Trial 365 finished with value: -0.5134006719875095 and parameters: {'x': 1.644654571733686, 'y': 1.8012413124943318}. Best is trial 359 with value: -3.195573414639618.\n",
      "Trial 365 finished with value: -0.5134006719875095 and parameters: {'x': 1.644654571733686, 'y': 1.8012413124943318}. Best is trial 359 with value: -3.195573414639618.\n"
     ]
    },
    {
     "name": "stderr",
     "output_type": "stream",
     "text": [
      "\u001b[32m[I 2022-11-15 13:20:18,105]\u001b[0m Trial 366 finished with value: -2.9962336975720105 and parameters: {'x': 1.6364402997465644, 'y': 1.6730985184088571}. Best is trial 359 with value: -3.195573414639618.\u001b[0m\n"
     ]
    },
    {
     "name": "stdout",
     "output_type": "stream",
     "text": [
      "Trial 366 finished with value: -2.9962336975720105 and parameters: {'x': 1.6364402997465644, 'y': 1.6730985184088571}. Best is trial 359 with value: -3.195573414639618.\n",
      "Trial 366 finished with value: -2.9962336975720105 and parameters: {'x': 1.6364402997465644, 'y': 1.6730985184088571}. Best is trial 359 with value: -3.195573414639618.\n",
      "Trial 366 finished with value: -2.9962336975720105 and parameters: {'x': 1.6364402997465644, 'y': 1.6730985184088571}. Best is trial 359 with value: -3.195573414639618.\n"
     ]
    },
    {
     "name": "stderr",
     "output_type": "stream",
     "text": [
      "\u001b[32m[I 2022-11-15 13:20:18,112]\u001b[0m Trial 367 finished with value: 0.3538586315699809 and parameters: {'x': 1.4121628407249018, 'y': 1.70536918064958}. Best is trial 359 with value: -3.195573414639618.\u001b[0m\n"
     ]
    },
    {
     "name": "stdout",
     "output_type": "stream",
     "text": [
      "Trial 367 finished with value: 0.3538586315699809 and parameters: {'x': 1.4121628407249018, 'y': 1.70536918064958}. Best is trial 359 with value: -3.195573414639618.\n",
      "Trial 367 finished with value: 0.3538586315699809 and parameters: {'x': 1.4121628407249018, 'y': 1.70536918064958}. Best is trial 359 with value: -3.195573414639618.\n",
      "Trial 367 finished with value: 0.3538586315699809 and parameters: {'x': 1.4121628407249018, 'y': 1.70536918064958}. Best is trial 359 with value: -3.195573414639618.\n"
     ]
    },
    {
     "name": "stderr",
     "output_type": "stream",
     "text": [
      "\u001b[32m[I 2022-11-15 13:20:18,118]\u001b[0m Trial 368 finished with value: -2.261066570317579 and parameters: {'x': 1.5537852440174946, 'y': 1.6804260813460736}. Best is trial 359 with value: -3.195573414639618.\u001b[0m\n"
     ]
    },
    {
     "name": "stdout",
     "output_type": "stream",
     "text": [
      "Trial 368 finished with value: -2.261066570317579 and parameters: {'x': 1.5537852440174946, 'y': 1.6804260813460736}. Best is trial 359 with value: -3.195573414639618.\n",
      "Trial 368 finished with value: -2.261066570317579 and parameters: {'x': 1.5537852440174946, 'y': 1.6804260813460736}. Best is trial 359 with value: -3.195573414639618.\n",
      "Trial 368 finished with value: -2.261066570317579 and parameters: {'x': 1.5537852440174946, 'y': 1.6804260813460736}. Best is trial 359 with value: -3.195573414639618.\n"
     ]
    },
    {
     "name": "stderr",
     "output_type": "stream",
     "text": [
      "\u001b[32m[I 2022-11-15 13:20:18,124]\u001b[0m Trial 369 finished with value: -1.9574992076322049 and parameters: {'x': 1.6398128078940533, 'y': 1.5182961572053035}. Best is trial 359 with value: -3.195573414639618.\u001b[0m\n"
     ]
    },
    {
     "name": "stdout",
     "output_type": "stream",
     "text": [
      "Trial 369 finished with value: -1.9574992076322049 and parameters: {'x': 1.6398128078940533, 'y': 1.5182961572053035}. Best is trial 359 with value: -3.195573414639618.\n",
      "Trial 369 finished with value: -1.9574992076322049 and parameters: {'x': 1.6398128078940533, 'y': 1.5182961572053035}. Best is trial 359 with value: -3.195573414639618.\n",
      "Trial 369 finished with value: -1.9574992076322049 and parameters: {'x': 1.6398128078940533, 'y': 1.5182961572053035}. Best is trial 359 with value: -3.195573414639618.\n"
     ]
    },
    {
     "name": "stderr",
     "output_type": "stream",
     "text": [
      "\u001b[32m[I 2022-11-15 13:20:18,130]\u001b[0m Trial 370 finished with value: 2.115162803272004 and parameters: {'x': 1.4802533962252404, 'y': 1.8490501680924079}. Best is trial 359 with value: -3.195573414639618.\u001b[0m\n"
     ]
    },
    {
     "name": "stdout",
     "output_type": "stream",
     "text": [
      "Trial 370 finished with value: 2.115162803272004 and parameters: {'x': 1.4802533962252404, 'y': 1.8490501680924079}. Best is trial 359 with value: -3.195573414639618.\n",
      "Trial 370 finished with value: 2.115162803272004 and parameters: {'x': 1.4802533962252404, 'y': 1.8490501680924079}. Best is trial 359 with value: -3.195573414639618.\n",
      "Trial 370 finished with value: 2.115162803272004 and parameters: {'x': 1.4802533962252404, 'y': 1.8490501680924079}. Best is trial 359 with value: -3.195573414639618.\n"
     ]
    },
    {
     "name": "stderr",
     "output_type": "stream",
     "text": [
      "\u001b[32m[I 2022-11-15 13:20:18,137]\u001b[0m Trial 371 finished with value: -1.8040960913490853 and parameters: {'x': 1.571171262360568, 'y': -1.0466373322724656}. Best is trial 359 with value: -3.195573414639618.\u001b[0m\n"
     ]
    },
    {
     "name": "stdout",
     "output_type": "stream",
     "text": [
      "Trial 371 finished with value: -1.8040960913490853 and parameters: {'x': 1.571171262360568, 'y': -1.0466373322724656}. Best is trial 359 with value: -3.195573414639618.\n",
      "Trial 371 finished with value: -1.8040960913490853 and parameters: {'x': 1.571171262360568, 'y': -1.0466373322724656}. Best is trial 359 with value: -3.195573414639618.\n",
      "Trial 371 finished with value: -1.8040960913490853 and parameters: {'x': 1.571171262360568, 'y': -1.0466373322724656}. Best is trial 359 with value: -3.195573414639618.\n"
     ]
    },
    {
     "name": "stderr",
     "output_type": "stream",
     "text": [
      "\u001b[32m[I 2022-11-15 13:20:18,142]\u001b[0m Trial 372 finished with value: 1.0729820737627729 and parameters: {'x': 1.776171795543085, 'y': 1.7727210758453802}. Best is trial 359 with value: -3.195573414639618.\u001b[0m\n"
     ]
    },
    {
     "name": "stdout",
     "output_type": "stream",
     "text": [
      "Trial 372 finished with value: 1.0729820737627729 and parameters: {'x': 1.776171795543085, 'y': 1.7727210758453802}. Best is trial 359 with value: -3.195573414639618.\n",
      "Trial 372 finished with value: 1.0729820737627729 and parameters: {'x': 1.776171795543085, 'y': 1.7727210758453802}. Best is trial 359 with value: -3.195573414639618.\n",
      "Trial 372 finished with value: 1.0729820737627729 and parameters: {'x': 1.776171795543085, 'y': 1.7727210758453802}. Best is trial 359 with value: -3.195573414639618.\n"
     ]
    },
    {
     "name": "stderr",
     "output_type": "stream",
     "text": [
      "\u001b[32m[I 2022-11-15 13:20:18,148]\u001b[0m Trial 373 finished with value: -0.443731067170432 and parameters: {'x': 1.3358698405214118, 'y': 1.6354744835367967}. Best is trial 359 with value: -3.195573414639618.\u001b[0m\n"
     ]
    },
    {
     "name": "stdout",
     "output_type": "stream",
     "text": [
      "Trial 373 finished with value: -0.443731067170432 and parameters: {'x': 1.3358698405214118, 'y': 1.6354744835367967}. Best is trial 359 with value: -3.195573414639618.\n",
      "Trial 373 finished with value: -0.443731067170432 and parameters: {'x': 1.3358698405214118, 'y': 1.6354744835367967}. Best is trial 359 with value: -3.195573414639618.\n",
      "Trial 373 finished with value: -0.443731067170432 and parameters: {'x': 1.3358698405214118, 'y': 1.6354744835367967}. Best is trial 359 with value: -3.195573414639618.\n"
     ]
    },
    {
     "name": "stderr",
     "output_type": "stream",
     "text": [
      "\u001b[32m[I 2022-11-15 13:20:18,154]\u001b[0m Trial 374 finished with value: 2.1556271379924485 and parameters: {'x': -1.3613104475253774, 'y': 1.452638606088338}. Best is trial 359 with value: -3.195573414639618.\u001b[0m\n"
     ]
    },
    {
     "name": "stdout",
     "output_type": "stream",
     "text": [
      "Trial 374 finished with value: 2.1556271379924485 and parameters: {'x': -1.3613104475253774, 'y': 1.452638606088338}. Best is trial 359 with value: -3.195573414639618.\n",
      "Trial 374 finished with value: 2.1556271379924485 and parameters: {'x': -1.3613104475253774, 'y': 1.452638606088338}. Best is trial 359 with value: -3.195573414639618.\n",
      "Trial 374 finished with value: 2.1556271379924485 and parameters: {'x': -1.3613104475253774, 'y': 1.452638606088338}. Best is trial 359 with value: -3.195573414639618.\n"
     ]
    },
    {
     "name": "stderr",
     "output_type": "stream",
     "text": [
      "\u001b[32m[I 2022-11-15 13:20:18,160]\u001b[0m Trial 375 finished with value: -1.6016558391694145 and parameters: {'x': 0.5622502764081352, 'y': 1.6866484437376346}. Best is trial 359 with value: -3.195573414639618.\u001b[0m\n"
     ]
    },
    {
     "name": "stdout",
     "output_type": "stream",
     "text": [
      "Trial 375 finished with value: -1.6016558391694145 and parameters: {'x': 0.5622502764081352, 'y': 1.6866484437376346}. Best is trial 359 with value: -3.195573414639618.\n",
      "Trial 375 finished with value: -1.6016558391694145 and parameters: {'x': 0.5622502764081352, 'y': 1.6866484437376346}. Best is trial 359 with value: -3.195573414639618.\n",
      "Trial 375 finished with value: -1.6016558391694145 and parameters: {'x': 0.5622502764081352, 'y': 1.6866484437376346}. Best is trial 359 with value: -3.195573414639618.\n"
     ]
    },
    {
     "name": "stderr",
     "output_type": "stream",
     "text": [
      "\u001b[32m[I 2022-11-15 13:20:18,165]\u001b[0m Trial 376 finished with value: 0.6153761892257359 and parameters: {'x': 1.8828209586255105, 'y': 1.5737385689694072}. Best is trial 359 with value: -3.195573414639618.\u001b[0m\n"
     ]
    },
    {
     "name": "stdout",
     "output_type": "stream",
     "text": [
      "Trial 376 finished with value: 0.6153761892257359 and parameters: {'x': 1.8828209586255105, 'y': 1.5737385689694072}. Best is trial 359 with value: -3.195573414639618.\n",
      "Trial 376 finished with value: 0.6153761892257359 and parameters: {'x': 1.8828209586255105, 'y': 1.5737385689694072}. Best is trial 359 with value: -3.195573414639618.\n",
      "Trial 376 finished with value: 0.6153761892257359 and parameters: {'x': 1.8828209586255105, 'y': 1.5737385689694072}. Best is trial 359 with value: -3.195573414639618.\n"
     ]
    },
    {
     "name": "stderr",
     "output_type": "stream",
     "text": [
      "\u001b[32m[I 2022-11-15 13:20:18,171]\u001b[0m Trial 377 finished with value: -2.945505281621655 and parameters: {'x': 1.6266021591937743, 'y': -1.678013003184169}. Best is trial 359 with value: -3.195573414639618.\u001b[0m\n"
     ]
    },
    {
     "name": "stdout",
     "output_type": "stream",
     "text": [
      "Trial 377 finished with value: -2.945505281621655 and parameters: {'x': 1.6266021591937743, 'y': -1.678013003184169}. Best is trial 359 with value: -3.195573414639618.\n",
      "Trial 377 finished with value: -2.945505281621655 and parameters: {'x': 1.6266021591937743, 'y': -1.678013003184169}. Best is trial 359 with value: -3.195573414639618.\n",
      "Trial 377 finished with value: -2.945505281621655 and parameters: {'x': 1.6266021591937743, 'y': -1.678013003184169}. Best is trial 359 with value: -3.195573414639618.\n"
     ]
    },
    {
     "name": "stderr",
     "output_type": "stream",
     "text": [
      "\u001b[32m[I 2022-11-15 13:20:18,177]\u001b[0m Trial 378 finished with value: -1.3172217791371839 and parameters: {'x': 1.505427161194766, 'y': -1.6859863592108433}. Best is trial 359 with value: -3.195573414639618.\u001b[0m\n"
     ]
    },
    {
     "name": "stdout",
     "output_type": "stream",
     "text": [
      "Trial 378 finished with value: -1.3172217791371839 and parameters: {'x': 1.505427161194766, 'y': -1.6859863592108433}. Best is trial 359 with value: -3.195573414639618.\n",
      "Trial 378 finished with value: -1.3172217791371839 and parameters: {'x': 1.505427161194766, 'y': -1.6859863592108433}. Best is trial 359 with value: -3.195573414639618.\n",
      "Trial 378 finished with value: -1.3172217791371839 and parameters: {'x': 1.505427161194766, 'y': -1.6859863592108433}. Best is trial 359 with value: -3.195573414639618.\n"
     ]
    },
    {
     "name": "stderr",
     "output_type": "stream",
     "text": [
      "\u001b[32m[I 2022-11-15 13:20:18,183]\u001b[0m Trial 379 finished with value: -1.6320848438499498 and parameters: {'x': 1.6307074097956034, 'y': -0.02117793636140264}. Best is trial 359 with value: -3.195573414639618.\u001b[0m\n"
     ]
    },
    {
     "name": "stdout",
     "output_type": "stream",
     "text": [
      "Trial 379 finished with value: -1.6320848438499498 and parameters: {'x': 1.6307074097956034, 'y': -0.02117793636140264}. Best is trial 359 with value: -3.195573414639618.\n",
      "Trial 379 finished with value: -1.6320848438499498 and parameters: {'x': 1.6307074097956034, 'y': -0.02117793636140264}. Best is trial 359 with value: -3.195573414639618.\n",
      "Trial 379 finished with value: -1.6320848438499498 and parameters: {'x': 1.6307074097956034, 'y': -0.02117793636140264}. Best is trial 359 with value: -3.195573414639618.\n"
     ]
    },
    {
     "name": "stderr",
     "output_type": "stream",
     "text": [
      "\u001b[32m[I 2022-11-15 13:20:18,189]\u001b[0m Trial 380 finished with value: -1.0594282332630631 and parameters: {'x': 1.713674910311661, 'y': 1.5160690872008171}. Best is trial 359 with value: -3.195573414639618.\u001b[0m\n"
     ]
    },
    {
     "name": "stdout",
     "output_type": "stream",
     "text": [
      "Trial 380 finished with value: -1.0594282332630631 and parameters: {'x': 1.713674910311661, 'y': 1.5160690872008171}. Best is trial 359 with value: -3.195573414639618.\n",
      "Trial 380 finished with value: -1.0594282332630631 and parameters: {'x': 1.713674910311661, 'y': 1.5160690872008171}. Best is trial 359 with value: -3.195573414639618.\n",
      "Trial 380 finished with value: -1.0594282332630631 and parameters: {'x': 1.713674910311661, 'y': 1.5160690872008171}. Best is trial 359 with value: -3.195573414639618.\n"
     ]
    },
    {
     "name": "stderr",
     "output_type": "stream",
     "text": [
      "\u001b[32m[I 2022-11-15 13:20:18,195]\u001b[0m Trial 381 finished with value: -0.36228051987175736 and parameters: {'x': 1.5596266445427924, 'y': -0.9324237998084769}. Best is trial 359 with value: -3.195573414639618.\u001b[0m\n"
     ]
    },
    {
     "name": "stdout",
     "output_type": "stream",
     "text": [
      "Trial 381 finished with value: -0.36228051987175736 and parameters: {'x': 1.5596266445427924, 'y': -0.9324237998084769}. Best is trial 359 with value: -3.195573414639618.\n",
      "Trial 381 finished with value: -0.36228051987175736 and parameters: {'x': 1.5596266445427924, 'y': -0.9324237998084769}. Best is trial 359 with value: -3.195573414639618.\n",
      "Trial 381 finished with value: -0.36228051987175736 and parameters: {'x': 1.5596266445427924, 'y': -0.9324237998084769}. Best is trial 359 with value: -3.195573414639618.\n"
     ]
    },
    {
     "name": "stderr",
     "output_type": "stream",
     "text": [
      "\u001b[32m[I 2022-11-15 13:20:18,201]\u001b[0m Trial 382 finished with value: 0.310115313738644 and parameters: {'x': -0.08275699723743499, 'y': -0.3980176554094055}. Best is trial 359 with value: -3.195573414639618.\u001b[0m\n"
     ]
    },
    {
     "name": "stdout",
     "output_type": "stream",
     "text": [
      "Trial 382 finished with value: 0.310115313738644 and parameters: {'x': -0.08275699723743499, 'y': -0.3980176554094055}. Best is trial 359 with value: -3.195573414639618.\n",
      "Trial 382 finished with value: 0.310115313738644 and parameters: {'x': -0.08275699723743499, 'y': -0.3980176554094055}. Best is trial 359 with value: -3.195573414639618.\n",
      "Trial 382 finished with value: 0.310115313738644 and parameters: {'x': -0.08275699723743499, 'y': -0.3980176554094055}. Best is trial 359 with value: -3.195573414639618.\n"
     ]
    },
    {
     "name": "stderr",
     "output_type": "stream",
     "text": [
      "\u001b[32m[I 2022-11-15 13:20:18,207]\u001b[0m Trial 383 finished with value: -3.2430656717391484 and parameters: {'x': 1.626649502039878, 'y': 1.6199834578690544}. Best is trial 383 with value: -3.2430656717391484.\u001b[0m\n"
     ]
    },
    {
     "name": "stdout",
     "output_type": "stream",
     "text": [
      "Trial 383 finished with value: -3.2430656717391484 and parameters: {'x': 1.626649502039878, 'y': 1.6199834578690544}. Best is trial 383 with value: -3.2430656717391484.\n",
      "Trial 383 finished with value: -3.2430656717391484 and parameters: {'x': 1.626649502039878, 'y': 1.6199834578690544}. Best is trial 383 with value: -3.2430656717391484.\n",
      "Trial 383 finished with value: -3.2430656717391484 and parameters: {'x': 1.626649502039878, 'y': 1.6199834578690544}. Best is trial 383 with value: -3.2430656717391484.\n"
     ]
    },
    {
     "name": "stderr",
     "output_type": "stream",
     "text": [
      "\u001b[32m[I 2022-11-15 13:20:18,214]\u001b[0m Trial 384 finished with value: 0.49934874456575296 and parameters: {'x': 1.4637460010394234, 'y': -0.16421054701648852}. Best is trial 383 with value: -3.2430656717391484.\u001b[0m\n"
     ]
    },
    {
     "name": "stdout",
     "output_type": "stream",
     "text": [
      "Trial 384 finished with value: 0.49934874456575296 and parameters: {'x': 1.4637460010394234, 'y': -0.16421054701648852}. Best is trial 383 with value: -3.2430656717391484.\n",
      "Trial 384 finished with value: 0.49934874456575296 and parameters: {'x': 1.4637460010394234, 'y': -0.16421054701648852}. Best is trial 383 with value: -3.2430656717391484.\n",
      "Trial 384 finished with value: 0.49934874456575296 and parameters: {'x': 1.4637460010394234, 'y': -0.16421054701648852}. Best is trial 383 with value: -3.2430656717391484.\n"
     ]
    },
    {
     "name": "stderr",
     "output_type": "stream",
     "text": [
      "\u001b[32m[I 2022-11-15 13:20:18,221]\u001b[0m Trial 385 finished with value: -3.206496158126026 and parameters: {'x': 1.6122508944680305, 'y': -1.6385347113929336}. Best is trial 383 with value: -3.2430656717391484.\u001b[0m\n"
     ]
    },
    {
     "name": "stdout",
     "output_type": "stream",
     "text": [
      "Trial 385 finished with value: -3.206496158126026 and parameters: {'x': 1.6122508944680305, 'y': -1.6385347113929336}. Best is trial 383 with value: -3.2430656717391484.\n",
      "Trial 385 finished with value: -3.206496158126026 and parameters: {'x': 1.6122508944680305, 'y': -1.6385347113929336}. Best is trial 383 with value: -3.2430656717391484.\n",
      "Trial 385 finished with value: -3.206496158126026 and parameters: {'x': 1.6122508944680305, 'y': -1.6385347113929336}. Best is trial 383 with value: -3.2430656717391484.\n"
     ]
    },
    {
     "name": "stderr",
     "output_type": "stream",
     "text": [
      "\u001b[32m[I 2022-11-15 13:20:18,227]\u001b[0m Trial 386 finished with value: -2.412477219109425 and parameters: {'x': 1.623016373787715, 'y': 1.5427775855376729}. Best is trial 383 with value: -3.2430656717391484.\u001b[0m\n"
     ]
    },
    {
     "name": "stdout",
     "output_type": "stream",
     "text": [
      "Trial 386 finished with value: -2.412477219109425 and parameters: {'x': 1.623016373787715, 'y': 1.5427775855376729}. Best is trial 383 with value: -3.2430656717391484.\n",
      "Trial 386 finished with value: -2.412477219109425 and parameters: {'x': 1.623016373787715, 'y': 1.5427775855376729}. Best is trial 383 with value: -3.2430656717391484.\n",
      "Trial 386 finished with value: -2.412477219109425 and parameters: {'x': 1.623016373787715, 'y': 1.5427775855376729}. Best is trial 383 with value: -3.2430656717391484.\n"
     ]
    },
    {
     "name": "stderr",
     "output_type": "stream",
     "text": [
      "\u001b[32m[I 2022-11-15 13:20:18,232]\u001b[0m Trial 387 finished with value: 0.9693534644400512 and parameters: {'x': 1.7875735763615144, 'y': 1.7570899032734828}. Best is trial 383 with value: -3.2430656717391484.\u001b[0m\n"
     ]
    },
    {
     "name": "stdout",
     "output_type": "stream",
     "text": [
      "Trial 387 finished with value: 0.9693534644400512 and parameters: {'x': 1.7875735763615144, 'y': 1.7570899032734828}. Best is trial 383 with value: -3.2430656717391484.\n",
      "Trial 387 finished with value: 0.9693534644400512 and parameters: {'x': 1.7875735763615144, 'y': 1.7570899032734828}. Best is trial 383 with value: -3.2430656717391484.\n",
      "Trial 387 finished with value: 0.9693534644400512 and parameters: {'x': 1.7875735763615144, 'y': 1.7570899032734828}. Best is trial 383 with value: -3.2430656717391484.\n"
     ]
    },
    {
     "name": "stderr",
     "output_type": "stream",
     "text": [
      "\u001b[32m[I 2022-11-15 13:20:18,238]\u001b[0m Trial 388 finished with value: -2.407522913711766 and parameters: {'x': 1.5423718435125322, 'y': -1.624556084875031}. Best is trial 383 with value: -3.2430656717391484.\u001b[0m\n"
     ]
    },
    {
     "name": "stdout",
     "output_type": "stream",
     "text": [
      "Trial 388 finished with value: -2.407522913711766 and parameters: {'x': 1.5423718435125322, 'y': -1.624556084875031}. Best is trial 383 with value: -3.2430656717391484.\n",
      "Trial 388 finished with value: -2.407522913711766 and parameters: {'x': 1.5423718435125322, 'y': -1.624556084875031}. Best is trial 383 with value: -3.2430656717391484.\n",
      "Trial 388 finished with value: -2.407522913711766 and parameters: {'x': 1.5423718435125322, 'y': -1.624556084875031}. Best is trial 383 with value: -3.2430656717391484.\n"
     ]
    },
    {
     "name": "stderr",
     "output_type": "stream",
     "text": [
      "\u001b[32m[I 2022-11-15 13:20:18,244]\u001b[0m Trial 389 finished with value: -2.050053479837877 and parameters: {'x': 1.7243165389607498, 'y': -1.597511432534665}. Best is trial 383 with value: -3.2430656717391484.\u001b[0m\n"
     ]
    },
    {
     "name": "stdout",
     "output_type": "stream",
     "text": [
      "Trial 389 finished with value: -2.050053479837877 and parameters: {'x': 1.7243165389607498, 'y': -1.597511432534665}. Best is trial 383 with value: -3.2430656717391484.\n",
      "Trial 389 finished with value: -2.050053479837877 and parameters: {'x': 1.7243165389607498, 'y': -1.597511432534665}. Best is trial 383 with value: -3.2430656717391484.\n",
      "Trial 389 finished with value: -2.050053479837877 and parameters: {'x': 1.7243165389607498, 'y': -1.597511432534665}. Best is trial 383 with value: -3.2430656717391484.\n"
     ]
    },
    {
     "name": "stderr",
     "output_type": "stream",
     "text": [
      "\u001b[32m[I 2022-11-15 13:20:18,250]\u001b[0m Trial 390 finished with value: 2.7048885363678323 and parameters: {'x': 1.3813069795824129, 'y': -1.3581720339212835}. Best is trial 383 with value: -3.2430656717391484.\u001b[0m\n"
     ]
    },
    {
     "name": "stdout",
     "output_type": "stream",
     "text": [
      "Trial 390 finished with value: 2.7048885363678323 and parameters: {'x': 1.3813069795824129, 'y': -1.3581720339212835}. Best is trial 383 with value: -3.2430656717391484.\n",
      "Trial 390 finished with value: 2.7048885363678323 and parameters: {'x': 1.3813069795824129, 'y': -1.3581720339212835}. Best is trial 383 with value: -3.2430656717391484.\n",
      "Trial 390 finished with value: 2.7048885363678323 and parameters: {'x': 1.3813069795824129, 'y': -1.3581720339212835}. Best is trial 383 with value: -3.2430656717391484.\n"
     ]
    },
    {
     "name": "stderr",
     "output_type": "stream",
     "text": [
      "\u001b[32m[I 2022-11-15 13:20:18,255]\u001b[0m Trial 391 finished with value: -2.2147600929512556 and parameters: {'x': 1.6372373639183304, 'y': -0.6090445387263368}. Best is trial 383 with value: -3.2430656717391484.\u001b[0m\n"
     ]
    },
    {
     "name": "stdout",
     "output_type": "stream",
     "text": [
      "Trial 391 finished with value: -2.2147600929512556 and parameters: {'x': 1.6372373639183304, 'y': -0.6090445387263368}. Best is trial 383 with value: -3.2430656717391484.\n",
      "Trial 391 finished with value: -2.2147600929512556 and parameters: {'x': 1.6372373639183304, 'y': -0.6090445387263368}. Best is trial 383 with value: -3.2430656717391484.\n",
      "Trial 391 finished with value: -2.2147600929512556 and parameters: {'x': 1.6372373639183304, 'y': -0.6090445387263368}. Best is trial 383 with value: -3.2430656717391484.\n"
     ]
    },
    {
     "name": "stderr",
     "output_type": "stream",
     "text": [
      "\u001b[32m[I 2022-11-15 13:20:18,261]\u001b[0m Trial 392 finished with value: -0.29151719573411017 and parameters: {'x': 1.4635267810103751, 'y': -1.7035384062569}. Best is trial 383 with value: -3.2430656717391484.\u001b[0m\n"
     ]
    },
    {
     "name": "stdout",
     "output_type": "stream",
     "text": [
      "Trial 392 finished with value: -0.29151719573411017 and parameters: {'x': 1.4635267810103751, 'y': -1.7035384062569}. Best is trial 383 with value: -3.2430656717391484.\n",
      "Trial 392 finished with value: -0.29151719573411017 and parameters: {'x': 1.4635267810103751, 'y': -1.7035384062569}. Best is trial 383 with value: -3.2430656717391484.\n",
      "Trial 392 finished with value: -0.29151719573411017 and parameters: {'x': 1.4635267810103751, 'y': -1.7035384062569}. Best is trial 383 with value: -3.2430656717391484.\n"
     ]
    },
    {
     "name": "stderr",
     "output_type": "stream",
     "text": [
      "\u001b[32m[I 2022-11-15 13:20:18,267]\u001b[0m Trial 393 finished with value: -3.040407760383081 and parameters: {'x': 1.5876342929321139, 'y': 1.6331422936875852}. Best is trial 383 with value: -3.2430656717391484.\u001b[0m\n"
     ]
    },
    {
     "name": "stdout",
     "output_type": "stream",
     "text": [
      "Trial 393 finished with value: -3.040407760383081 and parameters: {'x': 1.5876342929321139, 'y': 1.6331422936875852}. Best is trial 383 with value: -3.2430656717391484.\n",
      "Trial 393 finished with value: -3.040407760383081 and parameters: {'x': 1.5876342929321139, 'y': 1.6331422936875852}. Best is trial 383 with value: -3.2430656717391484.\n",
      "Trial 393 finished with value: -3.040407760383081 and parameters: {'x': 1.5876342929321139, 'y': 1.6331422936875852}. Best is trial 383 with value: -3.2430656717391484.\n"
     ]
    },
    {
     "name": "stderr",
     "output_type": "stream",
     "text": [
      "\u001b[32m[I 2022-11-15 13:20:18,274]\u001b[0m Trial 394 finished with value: 1.1391672352291715 and parameters: {'x': 1.5237142246786812, 'y': -1.8332391647758541}. Best is trial 383 with value: -3.2430656717391484.\u001b[0m\n"
     ]
    },
    {
     "name": "stdout",
     "output_type": "stream",
     "text": [
      "Trial 394 finished with value: 1.1391672352291715 and parameters: {'x': 1.5237142246786812, 'y': -1.8332391647758541}. Best is trial 383 with value: -3.2430656717391484.\n",
      "Trial 394 finished with value: 1.1391672352291715 and parameters: {'x': 1.5237142246786812, 'y': -1.8332391647758541}. Best is trial 383 with value: -3.2430656717391484.\n",
      "Trial 394 finished with value: 1.1391672352291715 and parameters: {'x': 1.5237142246786812, 'y': -1.8332391647758541}. Best is trial 383 with value: -3.2430656717391484.\n"
     ]
    },
    {
     "name": "stderr",
     "output_type": "stream",
     "text": [
      "\u001b[32m[I 2022-11-15 13:20:18,280]\u001b[0m Trial 395 finished with value: -0.3509750435021966 and parameters: {'x': 1.238260738938618, 'y': -1.5089297510998319}. Best is trial 383 with value: -3.2430656717391484.\u001b[0m\n"
     ]
    },
    {
     "name": "stdout",
     "output_type": "stream",
     "text": [
      "Trial 395 finished with value: -0.3509750435021966 and parameters: {'x': 1.238260738938618, 'y': -1.5089297510998319}. Best is trial 383 with value: -3.2430656717391484.\n",
      "Trial 395 finished with value: -0.3509750435021966 and parameters: {'x': 1.238260738938618, 'y': -1.5089297510998319}. Best is trial 383 with value: -3.2430656717391484.\n",
      "Trial 395 finished with value: -0.3509750435021966 and parameters: {'x': 1.238260738938618, 'y': -1.5089297510998319}. Best is trial 383 with value: -3.2430656717391484.\n"
     ]
    },
    {
     "name": "stderr",
     "output_type": "stream",
     "text": [
      "\u001b[32m[I 2022-11-15 13:20:18,286]\u001b[0m Trial 396 finished with value: 0.04794262524999285 and parameters: {'x': -0.32514657414053705, 'y': -1.7401215397972067}. Best is trial 383 with value: -3.2430656717391484.\u001b[0m\n"
     ]
    },
    {
     "name": "stdout",
     "output_type": "stream",
     "text": [
      "Trial 396 finished with value: 0.04794262524999285 and parameters: {'x': -0.32514657414053705, 'y': -1.7401215397972067}. Best is trial 383 with value: -3.2430656717391484.\n",
      "Trial 396 finished with value: 0.04794262524999285 and parameters: {'x': -0.32514657414053705, 'y': -1.7401215397972067}. Best is trial 383 with value: -3.2430656717391484.\n",
      "Trial 396 finished with value: 0.04794262524999285 and parameters: {'x': -0.32514657414053705, 'y': -1.7401215397972067}. Best is trial 383 with value: -3.2430656717391484.\n"
     ]
    },
    {
     "name": "stderr",
     "output_type": "stream",
     "text": [
      "\u001b[32m[I 2022-11-15 13:20:18,292]\u001b[0m Trial 397 finished with value: -0.15346811457863785 and parameters: {'x': 1.6002975886858084, 'y': 1.3875421749686931}. Best is trial 383 with value: -3.2430656717391484.\u001b[0m\n"
     ]
    },
    {
     "name": "stdout",
     "output_type": "stream",
     "text": [
      "Trial 397 finished with value: -0.15346811457863785 and parameters: {'x': 1.6002975886858084, 'y': 1.3875421749686931}. Best is trial 383 with value: -3.2430656717391484.\n",
      "Trial 397 finished with value: -0.15346811457863785 and parameters: {'x': 1.6002975886858084, 'y': 1.3875421749686931}. Best is trial 383 with value: -3.2430656717391484.\n",
      "Trial 397 finished with value: -0.15346811457863785 and parameters: {'x': 1.6002975886858084, 'y': 1.3875421749686931}. Best is trial 383 with value: -3.2430656717391484.\n"
     ]
    },
    {
     "name": "stderr",
     "output_type": "stream",
     "text": [
      "\u001b[32m[I 2022-11-15 13:20:18,299]\u001b[0m Trial 398 finished with value: 1.4359060280308475 and parameters: {'x': 1.5214844199267743, 'y': -1.8629662916838483}. Best is trial 383 with value: -3.2430656717391484.\u001b[0m\n"
     ]
    },
    {
     "name": "stdout",
     "output_type": "stream",
     "text": [
      "Trial 398 finished with value: 1.4359060280308475 and parameters: {'x': 1.5214844199267743, 'y': -1.8629662916838483}. Best is trial 383 with value: -3.2430656717391484.\n",
      "Trial 398 finished with value: 1.4359060280308475 and parameters: {'x': 1.5214844199267743, 'y': -1.8629662916838483}. Best is trial 383 with value: -3.2430656717391484.\n",
      "Trial 398 finished with value: 1.4359060280308475 and parameters: {'x': 1.5214844199267743, 'y': -1.8629662916838483}. Best is trial 383 with value: -3.2430656717391484.\n"
     ]
    },
    {
     "name": "stderr",
     "output_type": "stream",
     "text": [
      "\u001b[32m[I 2022-11-15 13:20:18,305]\u001b[0m Trial 399 finished with value: 1.9156852268091644 and parameters: {'x': 1.412226410840298, 'y': 1.463049986479206}. Best is trial 383 with value: -3.2430656717391484.\u001b[0m\n"
     ]
    },
    {
     "name": "stdout",
     "output_type": "stream",
     "text": [
      "Trial 399 finished with value: 1.9156852268091644 and parameters: {'x': 1.412226410840298, 'y': 1.463049986479206}. Best is trial 383 with value: -3.2430656717391484.\n",
      "Trial 399 finished with value: 1.9156852268091644 and parameters: {'x': 1.412226410840298, 'y': 1.463049986479206}. Best is trial 383 with value: -3.2430656717391484.\n",
      "Trial 399 finished with value: 1.9156852268091644 and parameters: {'x': 1.412226410840298, 'y': 1.463049986479206}. Best is trial 383 with value: -3.2430656717391484.\n"
     ]
    },
    {
     "name": "stderr",
     "output_type": "stream",
     "text": [
      "\u001b[32m[I 2022-11-15 13:20:18,311]\u001b[0m Trial 400 finished with value: -1.351943950102667 and parameters: {'x': 1.6031822165178506, 'y': -1.7586759175043023}. Best is trial 383 with value: -3.2430656717391484.\u001b[0m\n"
     ]
    },
    {
     "name": "stdout",
     "output_type": "stream",
     "text": [
      "Trial 400 finished with value: -1.351943950102667 and parameters: {'x': 1.6031822165178506, 'y': -1.7586759175043023}. Best is trial 383 with value: -3.2430656717391484.\n",
      "Trial 400 finished with value: -1.351943950102667 and parameters: {'x': 1.6031822165178506, 'y': -1.7586759175043023}. Best is trial 383 with value: -3.2430656717391484.\n",
      "Trial 400 finished with value: -1.351943950102667 and parameters: {'x': 1.6031822165178506, 'y': -1.7586759175043023}. Best is trial 383 with value: -3.2430656717391484.\n"
     ]
    },
    {
     "name": "stderr",
     "output_type": "stream",
     "text": [
      "\u001b[32m[I 2022-11-15 13:20:18,317]\u001b[0m Trial 401 finished with value: -2.3727004780998855 and parameters: {'x': 1.7098261570083035, 'y': 1.60356050444148}. Best is trial 383 with value: -3.2430656717391484.\u001b[0m\n"
     ]
    },
    {
     "name": "stdout",
     "output_type": "stream",
     "text": [
      "Trial 401 finished with value: -2.3727004780998855 and parameters: {'x': 1.7098261570083035, 'y': 1.60356050444148}. Best is trial 383 with value: -3.2430656717391484.\n",
      "Trial 401 finished with value: -2.3727004780998855 and parameters: {'x': 1.7098261570083035, 'y': 1.60356050444148}. Best is trial 383 with value: -3.2430656717391484.\n",
      "Trial 401 finished with value: -2.3727004780998855 and parameters: {'x': 1.7098261570083035, 'y': 1.60356050444148}. Best is trial 383 with value: -3.2430656717391484.\n"
     ]
    },
    {
     "name": "stderr",
     "output_type": "stream",
     "text": [
      "\u001b[32m[I 2022-11-15 13:20:18,323]\u001b[0m Trial 402 finished with value: -2.9880974204631503 and parameters: {'x': 1.583270638549854, 'y': -1.620342909941113}. Best is trial 383 with value: -3.2430656717391484.\u001b[0m\n"
     ]
    },
    {
     "name": "stdout",
     "output_type": "stream",
     "text": [
      "Trial 402 finished with value: -2.9880974204631503 and parameters: {'x': 1.583270638549854, 'y': -1.620342909941113}. Best is trial 383 with value: -3.2430656717391484.\n",
      "Trial 402 finished with value: -2.9880974204631503 and parameters: {'x': 1.583270638549854, 'y': -1.620342909941113}. Best is trial 383 with value: -3.2430656717391484.\n",
      "Trial 402 finished with value: -2.9880974204631503 and parameters: {'x': 1.583270638549854, 'y': -1.620342909941113}. Best is trial 383 with value: -3.2430656717391484.\n"
     ]
    },
    {
     "name": "stderr",
     "output_type": "stream",
     "text": [
      "\u001b[32m[I 2022-11-15 13:20:18,329]\u001b[0m Trial 403 finished with value: -1.3680259695763481 and parameters: {'x': 1.668213450431441, 'y': -1.4967983589567884}. Best is trial 383 with value: -3.2430656717391484.\u001b[0m\n"
     ]
    },
    {
     "name": "stdout",
     "output_type": "stream",
     "text": [
      "Trial 403 finished with value: -1.3680259695763481 and parameters: {'x': 1.668213450431441, 'y': -1.4967983589567884}. Best is trial 383 with value: -3.2430656717391484.\n",
      "Trial 403 finished with value: -1.3680259695763481 and parameters: {'x': 1.668213450431441, 'y': -1.4967983589567884}. Best is trial 383 with value: -3.2430656717391484.\n",
      "Trial 403 finished with value: -1.3680259695763481 and parameters: {'x': 1.668213450431441, 'y': -1.4967983589567884}. Best is trial 383 with value: -3.2430656717391484.\n"
     ]
    },
    {
     "name": "stderr",
     "output_type": "stream",
     "text": [
      "\u001b[32m[I 2022-11-15 13:20:18,335]\u001b[0m Trial 404 finished with value: -0.12496599930585317 and parameters: {'x': 1.8211277568149487, 'y': -1.6541388664339454}. Best is trial 383 with value: -3.2430656717391484.\u001b[0m\n"
     ]
    },
    {
     "name": "stdout",
     "output_type": "stream",
     "text": [
      "Trial 404 finished with value: -0.12496599930585317 and parameters: {'x': 1.8211277568149487, 'y': -1.6541388664339454}. Best is trial 383 with value: -3.2430656717391484.\n",
      "Trial 404 finished with value: -0.12496599930585317 and parameters: {'x': 1.8211277568149487, 'y': -1.6541388664339454}. Best is trial 383 with value: -3.2430656717391484.\n",
      "Trial 404 finished with value: -0.12496599930585317 and parameters: {'x': 1.8211277568149487, 'y': -1.6541388664339454}. Best is trial 383 with value: -3.2430656717391484.\n"
     ]
    },
    {
     "name": "stderr",
     "output_type": "stream",
     "text": [
      "\u001b[32m[I 2022-11-15 13:20:18,341]\u001b[0m Trial 405 finished with value: 1.1405200506599986 and parameters: {'x': 1.4797712864848305, 'y': -1.7854048853140652}. Best is trial 383 with value: -3.2430656717391484.\u001b[0m\n"
     ]
    },
    {
     "name": "stdout",
     "output_type": "stream",
     "text": [
      "Trial 405 finished with value: 1.1405200506599986 and parameters: {'x': 1.4797712864848305, 'y': -1.7854048853140652}. Best is trial 383 with value: -3.2430656717391484.\n",
      "Trial 405 finished with value: 1.1405200506599986 and parameters: {'x': 1.4797712864848305, 'y': -1.7854048853140652}. Best is trial 383 with value: -3.2430656717391484.\n",
      "Trial 405 finished with value: 1.1405200506599986 and parameters: {'x': 1.4797712864848305, 'y': -1.7854048853140652}. Best is trial 383 with value: -3.2430656717391484.\n"
     ]
    },
    {
     "name": "stderr",
     "output_type": "stream",
     "text": [
      "\u001b[32m[I 2022-11-15 13:20:18,347]\u001b[0m Trial 406 finished with value: -3.0341143966711956 and parameters: {'x': 1.6172288713717795, 'y': -1.588528406277813}. Best is trial 383 with value: -3.2430656717391484.\u001b[0m\n"
     ]
    },
    {
     "name": "stdout",
     "output_type": "stream",
     "text": [
      "Trial 406 finished with value: -3.0341143966711956 and parameters: {'x': 1.6172288713717795, 'y': -1.588528406277813}. Best is trial 383 with value: -3.2430656717391484.\n",
      "Trial 406 finished with value: -3.0341143966711956 and parameters: {'x': 1.6172288713717795, 'y': -1.588528406277813}. Best is trial 383 with value: -3.2430656717391484.\n",
      "Trial 406 finished with value: -3.0341143966711956 and parameters: {'x': 1.6172288713717795, 'y': -1.588528406277813}. Best is trial 383 with value: -3.2430656717391484.\n"
     ]
    },
    {
     "name": "stderr",
     "output_type": "stream",
     "text": [
      "\u001b[32m[I 2022-11-15 13:20:18,353]\u001b[0m Trial 407 finished with value: -0.21067241381804463 and parameters: {'x': 1.7615173258674675, 'y': -1.7283359322692393}. Best is trial 383 with value: -3.2430656717391484.\u001b[0m\n"
     ]
    },
    {
     "name": "stdout",
     "output_type": "stream",
     "text": [
      "Trial 407 finished with value: -0.21067241381804463 and parameters: {'x': 1.7615173258674675, 'y': -1.7283359322692393}. Best is trial 383 with value: -3.2430656717391484.\n",
      "Trial 407 finished with value: -0.21067241381804463 and parameters: {'x': 1.7615173258674675, 'y': -1.7283359322692393}. Best is trial 383 with value: -3.2430656717391484.\n",
      "Trial 407 finished with value: -0.21067241381804463 and parameters: {'x': 1.7615173258674675, 'y': -1.7283359322692393}. Best is trial 383 with value: -3.2430656717391484.\n"
     ]
    },
    {
     "name": "stderr",
     "output_type": "stream",
     "text": [
      "\u001b[32m[I 2022-11-15 13:20:18,359]\u001b[0m Trial 408 finished with value: -1.0336071500552992 and parameters: {'x': 1.6743787260031717, 'y': -1.2708154863521455}. Best is trial 383 with value: -3.2430656717391484.\u001b[0m\n"
     ]
    },
    {
     "name": "stdout",
     "output_type": "stream",
     "text": [
      "Trial 408 finished with value: -1.0336071500552992 and parameters: {'x': 1.6743787260031717, 'y': -1.2708154863521455}. Best is trial 383 with value: -3.2430656717391484.\n",
      "Trial 408 finished with value: -1.0336071500552992 and parameters: {'x': 1.6743787260031717, 'y': -1.2708154863521455}. Best is trial 383 with value: -3.2430656717391484.\n",
      "Trial 408 finished with value: -1.0336071500552992 and parameters: {'x': 1.6743787260031717, 'y': -1.2708154863521455}. Best is trial 383 with value: -3.2430656717391484.\n"
     ]
    },
    {
     "name": "stderr",
     "output_type": "stream",
     "text": [
      "\u001b[32m[I 2022-11-15 13:20:18,365]\u001b[0m Trial 409 finished with value: -3.1934093849203458 and parameters: {'x': 1.6229430197992734, 'y': -1.6079167923627282}. Best is trial 383 with value: -3.2430656717391484.\u001b[0m\n"
     ]
    },
    {
     "name": "stdout",
     "output_type": "stream",
     "text": [
      "Trial 409 finished with value: -3.1934093849203458 and parameters: {'x': 1.6229430197992734, 'y': -1.6079167923627282}. Best is trial 383 with value: -3.2430656717391484.\n",
      "Trial 409 finished with value: -3.1934093849203458 and parameters: {'x': 1.6229430197992734, 'y': -1.6079167923627282}. Best is trial 383 with value: -3.2430656717391484.\n",
      "Trial 409 finished with value: -3.1934093849203458 and parameters: {'x': 1.6229430197992734, 'y': -1.6079167923627282}. Best is trial 383 with value: -3.2430656717391484.\n"
     ]
    },
    {
     "name": "stderr",
     "output_type": "stream",
     "text": [
      "\u001b[32m[I 2022-11-15 13:20:18,371]\u001b[0m Trial 410 finished with value: -2.1844781145803798 and parameters: {'x': 1.529814966198572, 'y': -1.6331208008452425}. Best is trial 383 with value: -3.2430656717391484.\u001b[0m\n"
     ]
    },
    {
     "name": "stdout",
     "output_type": "stream",
     "text": [
      "Trial 410 finished with value: -2.1844781145803798 and parameters: {'x': 1.529814966198572, 'y': -1.6331208008452425}. Best is trial 383 with value: -3.2430656717391484.\n",
      "Trial 410 finished with value: -2.1844781145803798 and parameters: {'x': 1.529814966198572, 'y': -1.6331208008452425}. Best is trial 383 with value: -3.2430656717391484.\n",
      "Trial 410 finished with value: -2.1844781145803798 and parameters: {'x': 1.529814966198572, 'y': -1.6331208008452425}. Best is trial 383 with value: -3.2430656717391484.\n"
     ]
    },
    {
     "name": "stderr",
     "output_type": "stream",
     "text": [
      "\u001b[32m[I 2022-11-15 13:20:18,377]\u001b[0m Trial 411 finished with value: 2.160842501873736 and parameters: {'x': 1.3741889521483917, 'y': -1.454522650997288}. Best is trial 383 with value: -3.2430656717391484.\u001b[0m\n"
     ]
    },
    {
     "name": "stdout",
     "output_type": "stream",
     "text": [
      "Trial 411 finished with value: 2.160842501873736 and parameters: {'x': 1.3741889521483917, 'y': -1.454522650997288}. Best is trial 383 with value: -3.2430656717391484.\n",
      "Trial 411 finished with value: 2.160842501873736 and parameters: {'x': 1.3741889521483917, 'y': -1.454522650997288}. Best is trial 383 with value: -3.2430656717391484.\n",
      "Trial 411 finished with value: 2.160842501873736 and parameters: {'x': 1.3741889521483917, 'y': -1.454522650997288}. Best is trial 383 with value: -3.2430656717391484.\n"
     ]
    },
    {
     "name": "stderr",
     "output_type": "stream",
     "text": [
      "\u001b[32m[I 2022-11-15 13:20:18,384]\u001b[0m Trial 412 finished with value: 0.17378623858903475 and parameters: {'x': 1.4488500393783272, 'y': -1.5373113393745788}. Best is trial 383 with value: -3.2430656717391484.\u001b[0m\n"
     ]
    },
    {
     "name": "stdout",
     "output_type": "stream",
     "text": [
      "Trial 412 finished with value: 0.17378623858903475 and parameters: {'x': 1.4488500393783272, 'y': -1.5373113393745788}. Best is trial 383 with value: -3.2430656717391484.\n",
      "Trial 412 finished with value: 0.17378623858903475 and parameters: {'x': 1.4488500393783272, 'y': -1.5373113393745788}. Best is trial 383 with value: -3.2430656717391484.\n",
      "Trial 412 finished with value: 0.17378623858903475 and parameters: {'x': 1.4488500393783272, 'y': -1.5373113393745788}. Best is trial 383 with value: -3.2430656717391484.\n"
     ]
    },
    {
     "name": "stderr",
     "output_type": "stream",
     "text": [
      "\u001b[32m[I 2022-11-15 13:20:18,390]\u001b[0m Trial 413 finished with value: -0.3017618233657673 and parameters: {'x': 1.6152825251321064, 'y': -1.3529766165409776}. Best is trial 383 with value: -3.2430656717391484.\u001b[0m\n"
     ]
    },
    {
     "name": "stdout",
     "output_type": "stream",
     "text": [
      "Trial 413 finished with value: -0.3017618233657673 and parameters: {'x': 1.6152825251321064, 'y': -1.3529766165409776}. Best is trial 383 with value: -3.2430656717391484.\n",
      "Trial 413 finished with value: -0.3017618233657673 and parameters: {'x': 1.6152825251321064, 'y': -1.3529766165409776}. Best is trial 383 with value: -3.2430656717391484.\n",
      "Trial 413 finished with value: -0.3017618233657673 and parameters: {'x': 1.6152825251321064, 'y': -1.3529766165409776}. Best is trial 383 with value: -3.2430656717391484.\n"
     ]
    },
    {
     "name": "stderr",
     "output_type": "stream",
     "text": [
      "\u001b[32m[I 2022-11-15 13:20:18,397]\u001b[0m Trial 414 finished with value: -1.6648249035461231 and parameters: {'x': 1.74246618913372, 'y': -1.5971210679068686}. Best is trial 383 with value: -3.2430656717391484.\u001b[0m\n"
     ]
    },
    {
     "name": "stdout",
     "output_type": "stream",
     "text": [
      "Trial 414 finished with value: -1.6648249035461231 and parameters: {'x': 1.74246618913372, 'y': -1.5971210679068686}. Best is trial 383 with value: -3.2430656717391484.\n",
      "Trial 414 finished with value: -1.6648249035461231 and parameters: {'x': 1.74246618913372, 'y': -1.5971210679068686}. Best is trial 383 with value: -3.2430656717391484.\n",
      "Trial 414 finished with value: -1.6648249035461231 and parameters: {'x': 1.74246618913372, 'y': -1.5971210679068686}. Best is trial 383 with value: -3.2430656717391484.\n"
     ]
    },
    {
     "name": "stderr",
     "output_type": "stream",
     "text": [
      "\u001b[32m[I 2022-11-15 13:20:18,403]\u001b[0m Trial 415 finished with value: 0.18012500613439064 and parameters: {'x': 1.5884339162029804, 'y': -1.9214107116115522}. Best is trial 383 with value: -3.2430656717391484.\u001b[0m\n"
     ]
    },
    {
     "name": "stdout",
     "output_type": "stream",
     "text": [
      "Trial 415 finished with value: 0.18012500613439064 and parameters: {'x': 1.5884339162029804, 'y': -1.9214107116115522}. Best is trial 383 with value: -3.2430656717391484.\n",
      "Trial 415 finished with value: 0.18012500613439064 and parameters: {'x': 1.5884339162029804, 'y': -1.9214107116115522}. Best is trial 383 with value: -3.2430656717391484.\n",
      "Trial 415 finished with value: 0.18012500613439064 and parameters: {'x': 1.5884339162029804, 'y': -1.9214107116115522}. Best is trial 383 with value: -3.2430656717391484.\n"
     ]
    },
    {
     "name": "stderr",
     "output_type": "stream",
     "text": [
      "\u001b[32m[I 2022-11-15 13:20:18,409]\u001b[0m Trial 416 finished with value: 0.8113399443693756 and parameters: {'x': 1.8408902891935865, 'y': -1.5470913525371823}. Best is trial 383 with value: -3.2430656717391484.\u001b[0m\n"
     ]
    },
    {
     "name": "stdout",
     "output_type": "stream",
     "text": [
      "Trial 416 finished with value: 0.8113399443693756 and parameters: {'x': 1.8408902891935865, 'y': -1.5470913525371823}. Best is trial 383 with value: -3.2430656717391484.\n",
      "Trial 416 finished with value: 0.8113399443693756 and parameters: {'x': 1.8408902891935865, 'y': -1.5470913525371823}. Best is trial 383 with value: -3.2430656717391484.\n",
      "Trial 416 finished with value: 0.8113399443693756 and parameters: {'x': 1.8408902891935865, 'y': -1.5470913525371823}. Best is trial 383 with value: -3.2430656717391484.\n"
     ]
    },
    {
     "name": "stderr",
     "output_type": "stream",
     "text": [
      "\u001b[32m[I 2022-11-15 13:20:18,415]\u001b[0m Trial 417 finished with value: -0.39213097232671335 and parameters: {'x': 1.5083805411977962, 'y': -1.7392809577345667}. Best is trial 383 with value: -3.2430656717391484.\u001b[0m\n"
     ]
    },
    {
     "name": "stdout",
     "output_type": "stream",
     "text": [
      "Trial 417 finished with value: -0.39213097232671335 and parameters: {'x': 1.5083805411977962, 'y': -1.7392809577345667}. Best is trial 383 with value: -3.2430656717391484.\n",
      "Trial 417 finished with value: -0.39213097232671335 and parameters: {'x': 1.5083805411977962, 'y': -1.7392809577345667}. Best is trial 383 with value: -3.2430656717391484.\n",
      "Trial 417 finished with value: -0.39213097232671335 and parameters: {'x': 1.5083805411977962, 'y': -1.7392809577345667}. Best is trial 383 with value: -3.2430656717391484.\n"
     ]
    },
    {
     "name": "stderr",
     "output_type": "stream",
     "text": [
      "\u001b[32m[I 2022-11-15 13:20:18,420]\u001b[0m Trial 418 finished with value: -3.0636786773224394 and parameters: {'x': 1.647278529598756, 'y': -1.6625887618755955}. Best is trial 383 with value: -3.2430656717391484.\u001b[0m\n"
     ]
    },
    {
     "name": "stdout",
     "output_type": "stream",
     "text": [
      "Trial 418 finished with value: -3.0636786773224394 and parameters: {'x': 1.647278529598756, 'y': -1.6625887618755955}. Best is trial 383 with value: -3.2430656717391484.\n",
      "Trial 418 finished with value: -3.0636786773224394 and parameters: {'x': 1.647278529598756, 'y': -1.6625887618755955}. Best is trial 383 with value: -3.2430656717391484.\n",
      "Trial 418 finished with value: -3.0636786773224394 and parameters: {'x': 1.647278529598756, 'y': -1.6625887618755955}. Best is trial 383 with value: -3.2430656717391484.\n"
     ]
    },
    {
     "name": "stderr",
     "output_type": "stream",
     "text": [
      "\u001b[32m[I 2022-11-15 13:20:18,427]\u001b[0m Trial 419 finished with value: -2.5936250549915663 and parameters: {'x': 1.6966623860694383, 'y': -1.6026226113839}. Best is trial 383 with value: -3.2430656717391484.\u001b[0m\n"
     ]
    },
    {
     "name": "stdout",
     "output_type": "stream",
     "text": [
      "Trial 419 finished with value: -2.5936250549915663 and parameters: {'x': 1.6966623860694383, 'y': -1.6026226113839}. Best is trial 383 with value: -3.2430656717391484.\n",
      "Trial 419 finished with value: -2.5936250549915663 and parameters: {'x': 1.6966623860694383, 'y': -1.6026226113839}. Best is trial 383 with value: -3.2430656717391484.\n",
      "Trial 419 finished with value: -2.5936250549915663 and parameters: {'x': 1.6966623860694383, 'y': -1.6026226113839}. Best is trial 383 with value: -3.2430656717391484.\n"
     ]
    },
    {
     "name": "stderr",
     "output_type": "stream",
     "text": [
      "\u001b[32m[I 2022-11-15 13:20:18,433]\u001b[0m Trial 420 finished with value: -0.9777262819947752 and parameters: {'x': 1.7769250521336963, 'y': -1.6503093257311061}. Best is trial 383 with value: -3.2430656717391484.\u001b[0m\n"
     ]
    },
    {
     "name": "stdout",
     "output_type": "stream",
     "text": [
      "Trial 420 finished with value: -0.9777262819947752 and parameters: {'x': 1.7769250521336963, 'y': -1.6503093257311061}. Best is trial 383 with value: -3.2430656717391484.\n",
      "Trial 420 finished with value: -0.9777262819947752 and parameters: {'x': 1.7769250521336963, 'y': -1.6503093257311061}. Best is trial 383 with value: -3.2430656717391484.\n",
      "Trial 420 finished with value: -0.9777262819947752 and parameters: {'x': 1.7769250521336963, 'y': -1.6503093257311061}. Best is trial 383 with value: -3.2430656717391484.\n"
     ]
    },
    {
     "name": "stderr",
     "output_type": "stream",
     "text": [
      "\u001b[32m[I 2022-11-15 13:20:18,440]\u001b[0m Trial 421 finished with value: 0.3971909132138145 and parameters: {'x': 1.9138217563809465, 'y': -1.6800859705583004}. Best is trial 383 with value: -3.2430656717391484.\u001b[0m\n"
     ]
    },
    {
     "name": "stdout",
     "output_type": "stream",
     "text": [
      "Trial 421 finished with value: 0.3971909132138145 and parameters: {'x': 1.9138217563809465, 'y': -1.6800859705583004}. Best is trial 383 with value: -3.2430656717391484.\n",
      "Trial 421 finished with value: 0.3971909132138145 and parameters: {'x': 1.9138217563809465, 'y': -1.6800859705583004}. Best is trial 383 with value: -3.2430656717391484.\n",
      "Trial 421 finished with value: 0.3971909132138145 and parameters: {'x': 1.9138217563809465, 'y': -1.6800859705583004}. Best is trial 383 with value: -3.2430656717391484.\n"
     ]
    },
    {
     "name": "stderr",
     "output_type": "stream",
     "text": [
      "\u001b[32m[I 2022-11-15 13:20:18,446]\u001b[0m Trial 422 finished with value: -0.30792074613841436 and parameters: {'x': 1.6403961490429584, 'y': -1.8137118746040297}. Best is trial 383 with value: -3.2430656717391484.\u001b[0m\n"
     ]
    },
    {
     "name": "stdout",
     "output_type": "stream",
     "text": [
      "Trial 422 finished with value: -0.30792074613841436 and parameters: {'x': 1.6403961490429584, 'y': -1.8137118746040297}. Best is trial 383 with value: -3.2430656717391484.\n",
      "Trial 422 finished with value: -0.30792074613841436 and parameters: {'x': 1.6403961490429584, 'y': -1.8137118746040297}. Best is trial 383 with value: -3.2430656717391484.\n",
      "Trial 422 finished with value: -0.30792074613841436 and parameters: {'x': 1.6403961490429584, 'y': -1.8137118746040297}. Best is trial 383 with value: -3.2430656717391484.\n"
     ]
    },
    {
     "name": "stderr",
     "output_type": "stream",
     "text": [
      "\u001b[32m[I 2022-11-15 13:20:18,452]\u001b[0m Trial 423 finished with value: -2.367602094781998 and parameters: {'x': 1.712770161192496, 'y': -1.6131271591542775}. Best is trial 383 with value: -3.2430656717391484.\u001b[0m\n"
     ]
    },
    {
     "name": "stdout",
     "output_type": "stream",
     "text": [
      "Trial 423 finished with value: -2.367602094781998 and parameters: {'x': 1.712770161192496, 'y': -1.6131271591542775}. Best is trial 383 with value: -3.2430656717391484.\n",
      "Trial 423 finished with value: -2.367602094781998 and parameters: {'x': 1.712770161192496, 'y': -1.6131271591542775}. Best is trial 383 with value: -3.2430656717391484.\n",
      "Trial 423 finished with value: -2.367602094781998 and parameters: {'x': 1.712770161192496, 'y': -1.6131271591542775}. Best is trial 383 with value: -3.2430656717391484.\n"
     ]
    },
    {
     "name": "stderr",
     "output_type": "stream",
     "text": [
      "\u001b[32m[I 2022-11-15 13:20:18,458]\u001b[0m Trial 424 finished with value: -2.465594757232357 and parameters: {'x': 1.5712594169127414, 'y': -1.5722447606130652}. Best is trial 383 with value: -3.2430656717391484.\u001b[0m\n"
     ]
    },
    {
     "name": "stdout",
     "output_type": "stream",
     "text": [
      "Trial 424 finished with value: -2.465594757232357 and parameters: {'x': 1.5712594169127414, 'y': -1.5722447606130652}. Best is trial 383 with value: -3.2430656717391484.\n",
      "Trial 424 finished with value: -2.465594757232357 and parameters: {'x': 1.5712594169127414, 'y': -1.5722447606130652}. Best is trial 383 with value: -3.2430656717391484.\n",
      "Trial 424 finished with value: -2.465594757232357 and parameters: {'x': 1.5712594169127414, 'y': -1.5722447606130652}. Best is trial 383 with value: -3.2430656717391484.\n"
     ]
    },
    {
     "name": "stderr",
     "output_type": "stream",
     "text": [
      "\u001b[32m[I 2022-11-15 13:20:18,464]\u001b[0m Trial 425 finished with value: -0.3816457917199929 and parameters: {'x': 1.669823786272933, 'y': -1.4363510888116389}. Best is trial 383 with value: -3.2430656717391484.\u001b[0m\n"
     ]
    },
    {
     "name": "stdout",
     "output_type": "stream",
     "text": [
      "Trial 425 finished with value: -0.3816457917199929 and parameters: {'x': 1.669823786272933, 'y': -1.4363510888116389}. Best is trial 383 with value: -3.2430656717391484.\n",
      "Trial 425 finished with value: -0.3816457917199929 and parameters: {'x': 1.669823786272933, 'y': -1.4363510888116389}. Best is trial 383 with value: -3.2430656717391484.\n",
      "Trial 425 finished with value: -0.3816457917199929 and parameters: {'x': 1.669823786272933, 'y': -1.4363510888116389}. Best is trial 383 with value: -3.2430656717391484.\n"
     ]
    },
    {
     "name": "stderr",
     "output_type": "stream",
     "text": [
      "\u001b[32m[I 2022-11-15 13:20:18,470]\u001b[0m Trial 426 finished with value: -0.5729273116979073 and parameters: {'x': 1.7785681377351417, 'y': -1.5691132619426247}. Best is trial 383 with value: -3.2430656717391484.\u001b[0m\n"
     ]
    },
    {
     "name": "stdout",
     "output_type": "stream",
     "text": [
      "Trial 426 finished with value: -0.5729273116979073 and parameters: {'x': 1.7785681377351417, 'y': -1.5691132619426247}. Best is trial 383 with value: -3.2430656717391484.\n",
      "Trial 426 finished with value: -0.5729273116979073 and parameters: {'x': 1.7785681377351417, 'y': -1.5691132619426247}. Best is trial 383 with value: -3.2430656717391484.\n",
      "Trial 426 finished with value: -0.5729273116979073 and parameters: {'x': 1.7785681377351417, 'y': -1.5691132619426247}. Best is trial 383 with value: -3.2430656717391484.\n"
     ]
    },
    {
     "name": "stderr",
     "output_type": "stream",
     "text": [
      "\u001b[32m[I 2022-11-15 13:20:18,476]\u001b[0m Trial 427 finished with value: -1.7271777126698584 and parameters: {'x': 1.6238150564339824, 'y': 0.1064279784761939}. Best is trial 383 with value: -3.2430656717391484.\u001b[0m\n"
     ]
    },
    {
     "name": "stdout",
     "output_type": "stream",
     "text": [
      "Trial 427 finished with value: -1.7271777126698584 and parameters: {'x': 1.6238150564339824, 'y': 0.1064279784761939}. Best is trial 383 with value: -3.2430656717391484.\n",
      "Trial 427 finished with value: -1.7271777126698584 and parameters: {'x': 1.6238150564339824, 'y': 0.1064279784761939}. Best is trial 383 with value: -3.2430656717391484.\n",
      "Trial 427 finished with value: -1.7271777126698584 and parameters: {'x': 1.6238150564339824, 'y': 0.1064279784761939}. Best is trial 383 with value: -3.2430656717391484.\n"
     ]
    },
    {
     "name": "stderr",
     "output_type": "stream",
     "text": [
      "\u001b[32m[I 2022-11-15 13:20:18,482]\u001b[0m Trial 428 finished with value: 0.6028842696209106 and parameters: {'x': 1.4510130222259323, 'y': -1.5124144338771415}. Best is trial 383 with value: -3.2430656717391484.\u001b[0m\n"
     ]
    },
    {
     "name": "stdout",
     "output_type": "stream",
     "text": [
      "Trial 428 finished with value: 0.6028842696209106 and parameters: {'x': 1.4510130222259323, 'y': -1.5124144338771415}. Best is trial 383 with value: -3.2430656717391484.\n",
      "Trial 428 finished with value: 0.6028842696209106 and parameters: {'x': 1.4510130222259323, 'y': -1.5124144338771415}. Best is trial 383 with value: -3.2430656717391484.\n",
      "Trial 428 finished with value: 0.6028842696209106 and parameters: {'x': 1.4510130222259323, 'y': -1.5124144338771415}. Best is trial 383 with value: -3.2430656717391484.\n"
     ]
    },
    {
     "name": "stderr",
     "output_type": "stream",
     "text": [
      "\u001b[32m[I 2022-11-15 13:20:18,488]\u001b[0m Trial 429 finished with value: -0.42923514632088544 and parameters: {'x': 1.5339945692124697, 'y': -1.7593535762860038}. Best is trial 383 with value: -3.2430656717391484.\u001b[0m\n"
     ]
    },
    {
     "name": "stdout",
     "output_type": "stream",
     "text": [
      "Trial 429 finished with value: -0.42923514632088544 and parameters: {'x': 1.5339945692124697, 'y': -1.7593535762860038}. Best is trial 383 with value: -3.2430656717391484.\n",
      "Trial 429 finished with value: -0.42923514632088544 and parameters: {'x': 1.5339945692124697, 'y': -1.7593535762860038}. Best is trial 383 with value: -3.2430656717391484.\n",
      "Trial 429 finished with value: -0.42923514632088544 and parameters: {'x': 1.5339945692124697, 'y': -1.7593535762860038}. Best is trial 383 with value: -3.2430656717391484.\n"
     ]
    },
    {
     "name": "stderr",
     "output_type": "stream",
     "text": [
      "\u001b[32m[I 2022-11-15 13:20:18,494]\u001b[0m Trial 430 finished with value: -2.2842713722066286 and parameters: {'x': 1.6258740615726142, 'y': -1.7187112536505118}. Best is trial 383 with value: -3.2430656717391484.\u001b[0m\n"
     ]
    },
    {
     "name": "stdout",
     "output_type": "stream",
     "text": [
      "Trial 430 finished with value: -2.2842713722066286 and parameters: {'x': 1.6258740615726142, 'y': -1.7187112536505118}. Best is trial 383 with value: -3.2430656717391484.\n",
      "Trial 430 finished with value: -2.2842713722066286 and parameters: {'x': 1.6258740615726142, 'y': -1.7187112536505118}. Best is trial 383 with value: -3.2430656717391484.\n",
      "Trial 430 finished with value: -2.2842713722066286 and parameters: {'x': 1.6258740615726142, 'y': -1.7187112536505118}. Best is trial 383 with value: -3.2430656717391484.\n"
     ]
    },
    {
     "name": "stderr",
     "output_type": "stream",
     "text": [
      "\u001b[32m[I 2022-11-15 13:20:18,500]\u001b[0m Trial 431 finished with value: 0.11849374778896715 and parameters: {'x': 1.8483221716759548, 'y': -1.6291825583800201}. Best is trial 383 with value: -3.2430656717391484.\u001b[0m\n"
     ]
    },
    {
     "name": "stdout",
     "output_type": "stream",
     "text": [
      "Trial 431 finished with value: 0.11849374778896715 and parameters: {'x': 1.8483221716759548, 'y': -1.6291825583800201}. Best is trial 383 with value: -3.2430656717391484.\n",
      "Trial 431 finished with value: 0.11849374778896715 and parameters: {'x': 1.8483221716759548, 'y': -1.6291825583800201}. Best is trial 383 with value: -3.2430656717391484.\n",
      "Trial 431 finished with value: 0.11849374778896715 and parameters: {'x': 1.8483221716759548, 'y': -1.6291825583800201}. Best is trial 383 with value: -3.2430656717391484.\n"
     ]
    },
    {
     "name": "stderr",
     "output_type": "stream",
     "text": [
      "\u001b[32m[I 2022-11-15 13:20:18,506]\u001b[0m Trial 432 finished with value: 0.08548450225149695 and parameters: {'x': 1.7277351452639997, 'y': -1.4687178268951695}. Best is trial 383 with value: -3.2430656717391484.\u001b[0m\n"
     ]
    },
    {
     "name": "stdout",
     "output_type": "stream",
     "text": [
      "Trial 432 finished with value: 0.08548450225149695 and parameters: {'x': 1.7277351452639997, 'y': -1.4687178268951695}. Best is trial 383 with value: -3.2430656717391484.\n",
      "Trial 432 finished with value: 0.08548450225149695 and parameters: {'x': 1.7277351452639997, 'y': -1.4687178268951695}. Best is trial 383 with value: -3.2430656717391484.\n",
      "Trial 432 finished with value: 0.08548450225149695 and parameters: {'x': 1.7277351452639997, 'y': -1.4687178268951695}. Best is trial 383 with value: -3.2430656717391484.\n"
     ]
    },
    {
     "name": "stderr",
     "output_type": "stream",
     "text": [
      "\u001b[32m[I 2022-11-15 13:20:18,513]\u001b[0m Trial 433 finished with value: -0.02222850149672928 and parameters: {'x': 1.3163639265414515, 'y': -1.700126622208138}. Best is trial 383 with value: -3.2430656717391484.\u001b[0m\n"
     ]
    },
    {
     "name": "stdout",
     "output_type": "stream",
     "text": [
      "Trial 433 finished with value: -0.02222850149672928 and parameters: {'x': 1.3163639265414515, 'y': -1.700126622208138}. Best is trial 383 with value: -3.2430656717391484.\n",
      "Trial 433 finished with value: -0.02222850149672928 and parameters: {'x': 1.3163639265414515, 'y': -1.700126622208138}. Best is trial 383 with value: -3.2430656717391484.\n",
      "Trial 433 finished with value: -0.02222850149672928 and parameters: {'x': 1.3163639265414515, 'y': -1.700126622208138}. Best is trial 383 with value: -3.2430656717391484.\n"
     ]
    },
    {
     "name": "stderr",
     "output_type": "stream",
     "text": [
      "\u001b[32m[I 2022-11-15 13:20:18,519]\u001b[0m Trial 434 finished with value: 1.009310942631154 and parameters: {'x': 1.5406559555177237, 'y': -1.9060692012321092}. Best is trial 383 with value: -3.2430656717391484.\u001b[0m\n"
     ]
    },
    {
     "name": "stdout",
     "output_type": "stream",
     "text": [
      "Trial 434 finished with value: 1.009310942631154 and parameters: {'x': 1.5406559555177237, 'y': -1.9060692012321092}. Best is trial 383 with value: -3.2430656717391484.\n",
      "Trial 434 finished with value: 1.009310942631154 and parameters: {'x': 1.5406559555177237, 'y': -1.9060692012321092}. Best is trial 383 with value: -3.2430656717391484.\n",
      "Trial 434 finished with value: 1.009310942631154 and parameters: {'x': 1.5406559555177237, 'y': -1.9060692012321092}. Best is trial 383 with value: -3.2430656717391484.\n"
     ]
    },
    {
     "name": "stderr",
     "output_type": "stream",
     "text": [
      "\u001b[32m[I 2022-11-15 13:20:18,525]\u001b[0m Trial 435 finished with value: -0.3827333830866795 and parameters: {'x': 1.6540877473441835, 'y': -1.8056381959234131}. Best is trial 383 with value: -3.2430656717391484.\u001b[0m\n"
     ]
    },
    {
     "name": "stdout",
     "output_type": "stream",
     "text": [
      "Trial 435 finished with value: -0.3827333830866795 and parameters: {'x': 1.6540877473441835, 'y': -1.8056381959234131}. Best is trial 383 with value: -3.2430656717391484.\n",
      "Trial 435 finished with value: -0.3827333830866795 and parameters: {'x': 1.6540877473441835, 'y': -1.8056381959234131}. Best is trial 383 with value: -3.2430656717391484.\n",
      "Trial 435 finished with value: -0.3827333830866795 and parameters: {'x': 1.6540877473441835, 'y': -1.8056381959234131}. Best is trial 383 with value: -3.2430656717391484.\n"
     ]
    },
    {
     "name": "stderr",
     "output_type": "stream",
     "text": [
      "\u001b[32m[I 2022-11-15 13:20:18,531]\u001b[0m Trial 436 finished with value: -1.7037169478650016 and parameters: {'x': 0.7015704737840167, 'y': -1.6793529283424047}. Best is trial 383 with value: -3.2430656717391484.\u001b[0m\n"
     ]
    },
    {
     "name": "stdout",
     "output_type": "stream",
     "text": [
      "Trial 436 finished with value: -1.7037169478650016 and parameters: {'x': 0.7015704737840167, 'y': -1.6793529283424047}. Best is trial 383 with value: -3.2430656717391484.\n",
      "Trial 436 finished with value: -1.7037169478650016 and parameters: {'x': 0.7015704737840167, 'y': -1.6793529283424047}. Best is trial 383 with value: -3.2430656717391484.\n",
      "Trial 436 finished with value: -1.7037169478650016 and parameters: {'x': 0.7015704737840167, 'y': -1.6793529283424047}. Best is trial 383 with value: -3.2430656717391484.\n"
     ]
    },
    {
     "name": "stderr",
     "output_type": "stream",
     "text": [
      "\u001b[32m[I 2022-11-15 13:20:18,537]\u001b[0m Trial 437 finished with value: 0.4478223356650447 and parameters: {'x': 1.4600023514786942, 'y': -0.7211813501544598}. Best is trial 383 with value: -3.2430656717391484.\u001b[0m\n"
     ]
    },
    {
     "name": "stdout",
     "output_type": "stream",
     "text": [
      "Trial 437 finished with value: 0.4478223356650447 and parameters: {'x': 1.4600023514786942, 'y': -0.7211813501544598}. Best is trial 383 with value: -3.2430656717391484.\n",
      "Trial 437 finished with value: 0.4478223356650447 and parameters: {'x': 1.4600023514786942, 'y': -0.7211813501544598}. Best is trial 383 with value: -3.2430656717391484.\n",
      "Trial 437 finished with value: 0.4478223356650447 and parameters: {'x': 1.4600023514786942, 'y': -0.7211813501544598}. Best is trial 383 with value: -3.2430656717391484.\n"
     ]
    },
    {
     "name": "stderr",
     "output_type": "stream",
     "text": [
      "\u001b[32m[I 2022-11-15 13:20:18,544]\u001b[0m Trial 438 finished with value: -1.6863035196785225 and parameters: {'x': 1.7275210224419237, 'y': -1.5696317234661674}. Best is trial 383 with value: -3.2430656717391484.\u001b[0m\n"
     ]
    },
    {
     "name": "stdout",
     "output_type": "stream",
     "text": [
      "Trial 438 finished with value: -1.6863035196785225 and parameters: {'x': 1.7275210224419237, 'y': -1.5696317234661674}. Best is trial 383 with value: -3.2430656717391484.\n",
      "Trial 438 finished with value: -1.6863035196785225 and parameters: {'x': 1.7275210224419237, 'y': -1.5696317234661674}. Best is trial 383 with value: -3.2430656717391484.\n",
      "Trial 438 finished with value: -1.6863035196785225 and parameters: {'x': 1.7275210224419237, 'y': -1.5696317234661674}. Best is trial 383 with value: -3.2430656717391484.\n"
     ]
    },
    {
     "name": "stderr",
     "output_type": "stream",
     "text": [
      "\u001b[32m[I 2022-11-15 13:20:18,550]\u001b[0m Trial 439 finished with value: -2.7311589828928122 and parameters: {'x': 1.5677602089186593, 'y': -1.6529913526791338}. Best is trial 383 with value: -3.2430656717391484.\u001b[0m\n"
     ]
    },
    {
     "name": "stdout",
     "output_type": "stream",
     "text": [
      "Trial 439 finished with value: -2.7311589828928122 and parameters: {'x': 1.5677602089186593, 'y': -1.6529913526791338}. Best is trial 383 with value: -3.2430656717391484.\n",
      "Trial 439 finished with value: -2.7311589828928122 and parameters: {'x': 1.5677602089186593, 'y': -1.6529913526791338}. Best is trial 383 with value: -3.2430656717391484.\n",
      "Trial 439 finished with value: -2.7311589828928122 and parameters: {'x': 1.5677602089186593, 'y': -1.6529913526791338}. Best is trial 383 with value: -3.2430656717391484.\n"
     ]
    },
    {
     "name": "stderr",
     "output_type": "stream",
     "text": [
      "\u001b[32m[I 2022-11-15 13:20:18,556]\u001b[0m Trial 440 finished with value: -1.313586952707546 and parameters: {'x': -1.0811981695296988, 'y': -1.5207511496978956}. Best is trial 383 with value: -3.2430656717391484.\u001b[0m\n"
     ]
    },
    {
     "name": "stdout",
     "output_type": "stream",
     "text": [
      "Trial 440 finished with value: -1.313586952707546 and parameters: {'x': -1.0811981695296988, 'y': -1.5207511496978956}. Best is trial 383 with value: -3.2430656717391484.\n",
      "Trial 440 finished with value: -1.313586952707546 and parameters: {'x': -1.0811981695296988, 'y': -1.5207511496978956}. Best is trial 383 with value: -3.2430656717391484.\n",
      "Trial 440 finished with value: -1.313586952707546 and parameters: {'x': -1.0811981695296988, 'y': -1.5207511496978956}. Best is trial 383 with value: -3.2430656717391484.\n"
     ]
    },
    {
     "name": "stderr",
     "output_type": "stream",
     "text": [
      "\u001b[32m[I 2022-11-15 13:20:18,562]\u001b[0m Trial 441 finished with value: -0.014909279911522286 and parameters: {'x': 1.9974183699874157, 'y': -1.2449020295969417}. Best is trial 383 with value: -3.2430656717391484.\u001b[0m\n"
     ]
    },
    {
     "name": "stdout",
     "output_type": "stream",
     "text": [
      "Trial 441 finished with value: -0.014909279911522286 and parameters: {'x': 1.9974183699874157, 'y': -1.2449020295969417}. Best is trial 383 with value: -3.2430656717391484.\n",
      "Trial 441 finished with value: -0.014909279911522286 and parameters: {'x': 1.9974183699874157, 'y': -1.2449020295969417}. Best is trial 383 with value: -3.2430656717391484.\n",
      "Trial 441 finished with value: -0.014909279911522286 and parameters: {'x': 1.9974183699874157, 'y': -1.2449020295969417}. Best is trial 383 with value: -3.2430656717391484.\n"
     ]
    },
    {
     "name": "stderr",
     "output_type": "stream",
     "text": [
      "\u001b[32m[I 2022-11-15 13:20:18,569]\u001b[0m Trial 442 finished with value: 2.873089777374955 and parameters: {'x': 1.7993957403887952, 'y': 1.8598998471925048}. Best is trial 383 with value: -3.2430656717391484.\u001b[0m\n"
     ]
    },
    {
     "name": "stdout",
     "output_type": "stream",
     "text": [
      "Trial 442 finished with value: 2.873089777374955 and parameters: {'x': 1.7993957403887952, 'y': 1.8598998471925048}. Best is trial 383 with value: -3.2430656717391484.\n",
      "Trial 442 finished with value: 2.873089777374955 and parameters: {'x': 1.7993957403887952, 'y': 1.8598998471925048}. Best is trial 383 with value: -3.2430656717391484.\n",
      "Trial 442 finished with value: 2.873089777374955 and parameters: {'x': 1.7993957403887952, 'y': 1.8598998471925048}. Best is trial 383 with value: -3.2430656717391484.\n"
     ]
    },
    {
     "name": "stderr",
     "output_type": "stream",
     "text": [
      "\u001b[32m[I 2022-11-15 13:20:18,575]\u001b[0m Trial 443 finished with value: -1.0689957970332506 and parameters: {'x': 1.6055950550597036, 'y': -1.980138617237365}. Best is trial 383 with value: -3.2430656717391484.\u001b[0m\n"
     ]
    },
    {
     "name": "stdout",
     "output_type": "stream",
     "text": [
      "Trial 443 finished with value: -1.0689957970332506 and parameters: {'x': 1.6055950550597036, 'y': -1.980138617237365}. Best is trial 383 with value: -3.2430656717391484.\n",
      "Trial 443 finished with value: -1.0689957970332506 and parameters: {'x': 1.6055950550597036, 'y': -1.980138617237365}. Best is trial 383 with value: -3.2430656717391484.\n",
      "Trial 443 finished with value: -1.0689957970332506 and parameters: {'x': 1.6055950550597036, 'y': -1.980138617237365}. Best is trial 383 with value: -3.2430656717391484.\n"
     ]
    },
    {
     "name": "stderr",
     "output_type": "stream",
     "text": [
      "\u001b[32m[I 2022-11-15 13:20:18,581]\u001b[0m Trial 444 finished with value: -0.10596661661351892 and parameters: {'x': 1.6787387341365008, 'y': -1.8080097237302182}. Best is trial 383 with value: -3.2430656717391484.\u001b[0m\n"
     ]
    },
    {
     "name": "stdout",
     "output_type": "stream",
     "text": [
      "Trial 444 finished with value: -0.10596661661351892 and parameters: {'x': 1.6787387341365008, 'y': -1.8080097237302182}. Best is trial 383 with value: -3.2430656717391484.\n",
      "Trial 444 finished with value: -0.10596661661351892 and parameters: {'x': 1.6787387341365008, 'y': -1.8080097237302182}. Best is trial 383 with value: -3.2430656717391484.\n",
      "Trial 444 finished with value: -0.10596661661351892 and parameters: {'x': 1.6787387341365008, 'y': -1.8080097237302182}. Best is trial 383 with value: -3.2430656717391484.\n"
     ]
    },
    {
     "name": "stderr",
     "output_type": "stream",
     "text": [
      "\u001b[32m[I 2022-11-15 13:20:18,587]\u001b[0m Trial 445 finished with value: 1.2711190716896883 and parameters: {'x': 1.5002603814748392, 'y': -1.4099665684555287}. Best is trial 383 with value: -3.2430656717391484.\u001b[0m\n"
     ]
    },
    {
     "name": "stdout",
     "output_type": "stream",
     "text": [
      "Trial 445 finished with value: 1.2711190716896883 and parameters: {'x': 1.5002603814748392, 'y': -1.4099665684555287}. Best is trial 383 with value: -3.2430656717391484.\n",
      "Trial 445 finished with value: 1.2711190716896883 and parameters: {'x': 1.5002603814748392, 'y': -1.4099665684555287}. Best is trial 383 with value: -3.2430656717391484.\n",
      "Trial 445 finished with value: 1.2711190716896883 and parameters: {'x': 1.5002603814748392, 'y': -1.4099665684555287}. Best is trial 383 with value: -3.2430656717391484.\n"
     ]
    },
    {
     "name": "stderr",
     "output_type": "stream",
     "text": [
      "\u001b[32m[I 2022-11-15 13:20:18,593]\u001b[0m Trial 446 finished with value: 1.9275484209429241 and parameters: {'x': 1.390666662824014, 'y': -0.8111485093547709}. Best is trial 383 with value: -3.2430656717391484.\u001b[0m\n"
     ]
    },
    {
     "name": "stdout",
     "output_type": "stream",
     "text": [
      "Trial 446 finished with value: 1.9275484209429241 and parameters: {'x': 1.390666662824014, 'y': -0.8111485093547709}. Best is trial 383 with value: -3.2430656717391484.\n",
      "Trial 446 finished with value: 1.9275484209429241 and parameters: {'x': 1.390666662824014, 'y': -0.8111485093547709}. Best is trial 383 with value: -3.2430656717391484.\n",
      "Trial 446 finished with value: 1.9275484209429241 and parameters: {'x': 1.390666662824014, 'y': -0.8111485093547709}. Best is trial 383 with value: -3.2430656717391484.\n"
     ]
    },
    {
     "name": "stderr",
     "output_type": "stream",
     "text": [
      "\u001b[32m[I 2022-11-15 13:20:18,599]\u001b[0m Trial 447 finished with value: -1.4955140865979197 and parameters: {'x': 1.6255806963537598, 'y': -0.2873641573621944}. Best is trial 383 with value: -3.2430656717391484.\u001b[0m\n"
     ]
    },
    {
     "name": "stdout",
     "output_type": "stream",
     "text": [
      "Trial 447 finished with value: -1.4955140865979197 and parameters: {'x': 1.6255806963537598, 'y': -0.2873641573621944}. Best is trial 383 with value: -3.2430656717391484.\n",
      "Trial 447 finished with value: -1.4955140865979197 and parameters: {'x': 1.6255806963537598, 'y': -0.2873641573621944}. Best is trial 383 with value: -3.2430656717391484.\n",
      "Trial 447 finished with value: -1.4955140865979197 and parameters: {'x': 1.6255806963537598, 'y': -0.2873641573621944}. Best is trial 383 with value: -3.2430656717391484.\n"
     ]
    },
    {
     "name": "stderr",
     "output_type": "stream",
     "text": [
      "\u001b[32m[I 2022-11-15 13:20:18,606]\u001b[0m Trial 448 finished with value: 2.0072443840365923 and parameters: {'x': 1.8876014837456028, 'y': 1.7564975810012973}. Best is trial 383 with value: -3.2430656717391484.\u001b[0m\n"
     ]
    },
    {
     "name": "stdout",
     "output_type": "stream",
     "text": [
      "Trial 448 finished with value: 2.0072443840365923 and parameters: {'x': 1.8876014837456028, 'y': 1.7564975810012973}. Best is trial 383 with value: -3.2430656717391484.\n",
      "Trial 448 finished with value: 2.0072443840365923 and parameters: {'x': 1.8876014837456028, 'y': 1.7564975810012973}. Best is trial 383 with value: -3.2430656717391484.\n",
      "Trial 448 finished with value: 2.0072443840365923 and parameters: {'x': 1.8876014837456028, 'y': 1.7564975810012973}. Best is trial 383 with value: -3.2430656717391484.\n"
     ]
    },
    {
     "name": "stderr",
     "output_type": "stream",
     "text": [
      "\u001b[32m[I 2022-11-15 13:20:18,613]\u001b[0m Trial 449 finished with value: 0.7566637567699999 and parameters: {'x': 1.7441861557203988, 'y': 1.9628238464201462}. Best is trial 383 with value: -3.2430656717391484.\u001b[0m\n"
     ]
    },
    {
     "name": "stdout",
     "output_type": "stream",
     "text": [
      "Trial 449 finished with value: 0.7566637567699999 and parameters: {'x': 1.7441861557203988, 'y': 1.9628238464201462}. Best is trial 383 with value: -3.2430656717391484.\n",
      "Trial 449 finished with value: 0.7566637567699999 and parameters: {'x': 1.7441861557203988, 'y': 1.9628238464201462}. Best is trial 383 with value: -3.2430656717391484.\n",
      "Trial 449 finished with value: 0.7566637567699999 and parameters: {'x': 1.7441861557203988, 'y': 1.9628238464201462}. Best is trial 383 with value: -3.2430656717391484.\n"
     ]
    },
    {
     "name": "stderr",
     "output_type": "stream",
     "text": [
      "\u001b[32m[I 2022-11-15 13:20:18,619]\u001b[0m Trial 450 finished with value: -1.7366158248659342 and parameters: {'x': -1.7166579385916712, 'y': -1.6976349514876496}. Best is trial 383 with value: -3.2430656717391484.\u001b[0m\n"
     ]
    },
    {
     "name": "stdout",
     "output_type": "stream",
     "text": [
      "Trial 450 finished with value: -1.7366158248659342 and parameters: {'x': -1.7166579385916712, 'y': -1.6976349514876496}. Best is trial 383 with value: -3.2430656717391484.\n",
      "Trial 450 finished with value: -1.7366158248659342 and parameters: {'x': -1.7166579385916712, 'y': -1.6976349514876496}. Best is trial 383 with value: -3.2430656717391484.\n",
      "Trial 450 finished with value: -1.7366158248659342 and parameters: {'x': -1.7166579385916712, 'y': -1.6976349514876496}. Best is trial 383 with value: -3.2430656717391484.\n"
     ]
    },
    {
     "name": "stderr",
     "output_type": "stream",
     "text": [
      "\u001b[32m[I 2022-11-15 13:20:18,625]\u001b[0m Trial 451 finished with value: -1.5008493142972843 and parameters: {'x': 1.5386293515213183, 'y': 1.7122068059267916}. Best is trial 383 with value: -3.2430656717391484.\u001b[0m\n"
     ]
    },
    {
     "name": "stdout",
     "output_type": "stream",
     "text": [
      "Trial 451 finished with value: -1.5008493142972843 and parameters: {'x': 1.5386293515213183, 'y': 1.7122068059267916}. Best is trial 383 with value: -3.2430656717391484.\n",
      "Trial 451 finished with value: -1.5008493142972843 and parameters: {'x': 1.5386293515213183, 'y': 1.7122068059267916}. Best is trial 383 with value: -3.2430656717391484.\n",
      "Trial 451 finished with value: -1.5008493142972843 and parameters: {'x': 1.5386293515213183, 'y': 1.7122068059267916}. Best is trial 383 with value: -3.2430656717391484.\n"
     ]
    },
    {
     "name": "stderr",
     "output_type": "stream",
     "text": [
      "\u001b[32m[I 2022-11-15 13:20:18,632]\u001b[0m Trial 452 finished with value: -1.3963983532375748 and parameters: {'x': 1.6750109054795599, 'y': 1.5021945203550362}. Best is trial 383 with value: -3.2430656717391484.\u001b[0m\n"
     ]
    },
    {
     "name": "stdout",
     "output_type": "stream",
     "text": [
      "Trial 452 finished with value: -1.3963983532375748 and parameters: {'x': 1.6750109054795599, 'y': 1.5021945203550362}. Best is trial 383 with value: -3.2430656717391484.\n",
      "Trial 452 finished with value: -1.3963983532375748 and parameters: {'x': 1.6750109054795599, 'y': 1.5021945203550362}. Best is trial 383 with value: -3.2430656717391484.\n",
      "Trial 452 finished with value: -1.3963983532375748 and parameters: {'x': 1.6750109054795599, 'y': 1.5021945203550362}. Best is trial 383 with value: -3.2430656717391484.\n"
     ]
    },
    {
     "name": "stderr",
     "output_type": "stream",
     "text": [
      "\u001b[32m[I 2022-11-15 13:20:18,638]\u001b[0m Trial 453 finished with value: 0.32270505245191183 and parameters: {'x': 1.8091028778642264, 'y': -1.5493712432219913}. Best is trial 383 with value: -3.2430656717391484.\u001b[0m\n"
     ]
    },
    {
     "name": "stdout",
     "output_type": "stream",
     "text": [
      "Trial 453 finished with value: 0.32270505245191183 and parameters: {'x': 1.8091028778642264, 'y': -1.5493712432219913}. Best is trial 383 with value: -3.2430656717391484.\n",
      "Trial 453 finished with value: 0.32270505245191183 and parameters: {'x': 1.8091028778642264, 'y': -1.5493712432219913}. Best is trial 383 with value: -3.2430656717391484.\n",
      "Trial 453 finished with value: 0.32270505245191183 and parameters: {'x': 1.8091028778642264, 'y': -1.5493712432219913}. Best is trial 383 with value: -3.2430656717391484.\n"
     ]
    },
    {
     "name": "stderr",
     "output_type": "stream",
     "text": [
      "\u001b[32m[I 2022-11-15 13:20:18,644]\u001b[0m Trial 454 finished with value: -1.8774318831221566 and parameters: {'x': 1.5745916709200167, 'y': 0.6140892647560703}. Best is trial 383 with value: -3.2430656717391484.\u001b[0m\n"
     ]
    },
    {
     "name": "stdout",
     "output_type": "stream",
     "text": [
      "Trial 454 finished with value: -1.8774318831221566 and parameters: {'x': 1.5745916709200167, 'y': 0.6140892647560703}. Best is trial 383 with value: -3.2430656717391484.\n",
      "Trial 454 finished with value: -1.8774318831221566 and parameters: {'x': 1.5745916709200167, 'y': 0.6140892647560703}. Best is trial 383 with value: -3.2430656717391484.\n",
      "Trial 454 finished with value: -1.8774318831221566 and parameters: {'x': 1.5745916709200167, 'y': 0.6140892647560703}. Best is trial 383 with value: -3.2430656717391484.\n"
     ]
    },
    {
     "name": "stderr",
     "output_type": "stream",
     "text": [
      "\u001b[32m[I 2022-11-15 13:20:18,650]\u001b[0m Trial 455 finished with value: -1.1655129945646572 and parameters: {'x': 1.483239045017049, 'y': 1.663155277977403}. Best is trial 383 with value: -3.2430656717391484.\u001b[0m\n"
     ]
    },
    {
     "name": "stdout",
     "output_type": "stream",
     "text": [
      "Trial 455 finished with value: -1.1655129945646572 and parameters: {'x': 1.483239045017049, 'y': 1.663155277977403}. Best is trial 383 with value: -3.2430656717391484.\n",
      "Trial 455 finished with value: -1.1655129945646572 and parameters: {'x': 1.483239045017049, 'y': 1.663155277977403}. Best is trial 383 with value: -3.2430656717391484.\n",
      "Trial 455 finished with value: -1.1655129945646572 and parameters: {'x': 1.483239045017049, 'y': 1.663155277977403}. Best is trial 383 with value: -3.2430656717391484.\n"
     ]
    },
    {
     "name": "stderr",
     "output_type": "stream",
     "text": [
      "\u001b[32m[I 2022-11-15 13:20:18,656]\u001b[0m Trial 456 finished with value: -1.5967196522584208 and parameters: {'x': 1.7068718122337168, 'y': 1.5385367351858938}. Best is trial 383 with value: -3.2430656717391484.\u001b[0m\n"
     ]
    },
    {
     "name": "stdout",
     "output_type": "stream",
     "text": [
      "Trial 456 finished with value: -1.5967196522584208 and parameters: {'x': 1.7068718122337168, 'y': 1.5385367351858938}. Best is trial 383 with value: -3.2430656717391484.\n",
      "Trial 456 finished with value: -1.5967196522584208 and parameters: {'x': 1.7068718122337168, 'y': 1.5385367351858938}. Best is trial 383 with value: -3.2430656717391484.\n",
      "Trial 456 finished with value: -1.5967196522584208 and parameters: {'x': 1.7068718122337168, 'y': 1.5385367351858938}. Best is trial 383 with value: -3.2430656717391484.\n"
     ]
    },
    {
     "name": "stderr",
     "output_type": "stream",
     "text": [
      "\u001b[32m[I 2022-11-15 13:20:18,662]\u001b[0m Trial 457 finished with value: -0.6843447828733232 and parameters: {'x': 1.6151861664167562, 'y': 1.7928077499351196}. Best is trial 383 with value: -3.2430656717391484.\u001b[0m\n"
     ]
    },
    {
     "name": "stdout",
     "output_type": "stream",
     "text": [
      "Trial 457 finished with value: -0.6843447828733232 and parameters: {'x': 1.6151861664167562, 'y': 1.7928077499351196}. Best is trial 383 with value: -3.2430656717391484.\n",
      "Trial 457 finished with value: -0.6843447828733232 and parameters: {'x': 1.6151861664167562, 'y': 1.7928077499351196}. Best is trial 383 with value: -3.2430656717391484.\n",
      "Trial 457 finished with value: -0.6843447828733232 and parameters: {'x': 1.6151861664167562, 'y': 1.7928077499351196}. Best is trial 383 with value: -3.2430656717391484.\n"
     ]
    },
    {
     "name": "stderr",
     "output_type": "stream",
     "text": [
      "\u001b[32m[I 2022-11-15 13:20:18,669]\u001b[0m Trial 458 finished with value: 2.16310156463042 and parameters: {'x': 1.4115441321447582, 'y': 1.4467249051936197}. Best is trial 383 with value: -3.2430656717391484.\u001b[0m\n"
     ]
    },
    {
     "name": "stdout",
     "output_type": "stream",
     "text": [
      "Trial 458 finished with value: 2.16310156463042 and parameters: {'x': 1.4115441321447582, 'y': 1.4467249051936197}. Best is trial 383 with value: -3.2430656717391484.\n",
      "Trial 458 finished with value: 2.16310156463042 and parameters: {'x': 1.4115441321447582, 'y': 1.4467249051936197}. Best is trial 383 with value: -3.2430656717391484.\n",
      "Trial 458 finished with value: 2.16310156463042 and parameters: {'x': 1.4115441321447582, 'y': 1.4467249051936197}. Best is trial 383 with value: -3.2430656717391484.\n"
     ]
    },
    {
     "name": "stderr",
     "output_type": "stream",
     "text": [
      "\u001b[32m[I 2022-11-15 13:20:18,675]\u001b[0m Trial 459 finished with value: -0.4989169411064118 and parameters: {'x': 1.7665973209789616, 'y': 1.707749224606037}. Best is trial 383 with value: -3.2430656717391484.\u001b[0m\n"
     ]
    },
    {
     "name": "stdout",
     "output_type": "stream",
     "text": [
      "Trial 459 finished with value: -0.4989169411064118 and parameters: {'x': 1.7665973209789616, 'y': 1.707749224606037}. Best is trial 383 with value: -3.2430656717391484.\n",
      "Trial 459 finished with value: -0.4989169411064118 and parameters: {'x': 1.7665973209789616, 'y': 1.707749224606037}. Best is trial 383 with value: -3.2430656717391484.\n",
      "Trial 459 finished with value: -0.4989169411064118 and parameters: {'x': 1.7665973209789616, 'y': 1.707749224606037}. Best is trial 383 with value: -3.2430656717391484.\n"
     ]
    },
    {
     "name": "stderr",
     "output_type": "stream",
     "text": [
      "\u001b[32m[I 2022-11-15 13:20:18,681]\u001b[0m Trial 460 finished with value: 1.0071088906225398 and parameters: {'x': 1.5467786461933732, 'y': -1.8694462009967583}. Best is trial 383 with value: -3.2430656717391484.\u001b[0m\n"
     ]
    },
    {
     "name": "stdout",
     "output_type": "stream",
     "text": [
      "Trial 460 finished with value: 1.0071088906225398 and parameters: {'x': 1.5467786461933732, 'y': -1.8694462009967583}. Best is trial 383 with value: -3.2430656717391484.\n",
      "Trial 460 finished with value: 1.0071088906225398 and parameters: {'x': 1.5467786461933732, 'y': -1.8694462009967583}. Best is trial 383 with value: -3.2430656717391484.\n",
      "Trial 460 finished with value: 1.0071088906225398 and parameters: {'x': 1.5467786461933732, 'y': -1.8694462009967583}. Best is trial 383 with value: -3.2430656717391484.\n"
     ]
    },
    {
     "name": "stderr",
     "output_type": "stream",
     "text": [
      "\u001b[32m[I 2022-11-15 13:20:18,687]\u001b[0m Trial 461 finished with value: -3.004558792295855 and parameters: {'x': 1.6643178196298074, 'y': 1.6025632519056634}. Best is trial 383 with value: -3.2430656717391484.\u001b[0m\n"
     ]
    },
    {
     "name": "stdout",
     "output_type": "stream",
     "text": [
      "Trial 461 finished with value: -3.004558792295855 and parameters: {'x': 1.6643178196298074, 'y': 1.6025632519056634}. Best is trial 383 with value: -3.2430656717391484.\n",
      "Trial 461 finished with value: -3.004558792295855 and parameters: {'x': 1.6643178196298074, 'y': 1.6025632519056634}. Best is trial 383 with value: -3.2430656717391484.\n",
      "Trial 461 finished with value: -3.004558792295855 and parameters: {'x': 1.6643178196298074, 'y': 1.6025632519056634}. Best is trial 383 with value: -3.2430656717391484.\n"
     ]
    },
    {
     "name": "stderr",
     "output_type": "stream",
     "text": [
      "\u001b[32m[I 2022-11-15 13:20:18,694]\u001b[0m Trial 462 finished with value: 1.7585043063755577 and parameters: {'x': 1.8425964300735553, 'y': -1.7530225160934871}. Best is trial 383 with value: -3.2430656717391484.\u001b[0m\n"
     ]
    },
    {
     "name": "stdout",
     "output_type": "stream",
     "text": [
      "Trial 462 finished with value: 1.7585043063755577 and parameters: {'x': 1.8425964300735553, 'y': -1.7530225160934871}. Best is trial 383 with value: -3.2430656717391484.\n",
      "Trial 462 finished with value: 1.7585043063755577 and parameters: {'x': 1.8425964300735553, 'y': -1.7530225160934871}. Best is trial 383 with value: -3.2430656717391484.\n",
      "Trial 462 finished with value: 1.7585043063755577 and parameters: {'x': 1.8425964300735553, 'y': -1.7530225160934871}. Best is trial 383 with value: -3.2430656717391484.\n"
     ]
    },
    {
     "name": "stderr",
     "output_type": "stream",
     "text": [
      "\u001b[32m[I 2022-11-15 13:20:18,700]\u001b[0m Trial 463 finished with value: -2.0130204802661367 and parameters: {'x': 1.6901441077908803, 'y': 1.5468075782423563}. Best is trial 383 with value: -3.2430656717391484.\u001b[0m\n"
     ]
    },
    {
     "name": "stdout",
     "output_type": "stream",
     "text": [
      "Trial 463 finished with value: -2.0130204802661367 and parameters: {'x': 1.6901441077908803, 'y': 1.5468075782423563}. Best is trial 383 with value: -3.2430656717391484.\n",
      "Trial 463 finished with value: -2.0130204802661367 and parameters: {'x': 1.6901441077908803, 'y': 1.5468075782423563}. Best is trial 383 with value: -3.2430656717391484.\n",
      "Trial 463 finished with value: -2.0130204802661367 and parameters: {'x': 1.6901441077908803, 'y': 1.5468075782423563}. Best is trial 383 with value: -3.2430656717391484.\n"
     ]
    },
    {
     "name": "stderr",
     "output_type": "stream",
     "text": [
      "\u001b[32m[I 2022-11-15 13:20:18,706]\u001b[0m Trial 464 finished with value: -3.1138152757049826 and parameters: {'x': 1.6610980244084836, 'y': 1.6358265552720992}. Best is trial 383 with value: -3.2430656717391484.\u001b[0m\n"
     ]
    },
    {
     "name": "stdout",
     "output_type": "stream",
     "text": [
      "Trial 464 finished with value: -3.1138152757049826 and parameters: {'x': 1.6610980244084836, 'y': 1.6358265552720992}. Best is trial 383 with value: -3.2430656717391484.\n",
      "Trial 464 finished with value: -3.1138152757049826 and parameters: {'x': 1.6610980244084836, 'y': 1.6358265552720992}. Best is trial 383 with value: -3.2430656717391484.\n",
      "Trial 464 finished with value: -3.1138152757049826 and parameters: {'x': 1.6610980244084836, 'y': 1.6358265552720992}. Best is trial 383 with value: -3.2430656717391484.\n"
     ]
    },
    {
     "name": "stderr",
     "output_type": "stream",
     "text": [
      "\u001b[32m[I 2022-11-15 13:20:18,712]\u001b[0m Trial 465 finished with value: 1.7304133036612348 and parameters: {'x': 1.770411114276803, 'y': 1.4091648581922702}. Best is trial 383 with value: -3.2430656717391484.\u001b[0m\n"
     ]
    },
    {
     "name": "stdout",
     "output_type": "stream",
     "text": [
      "Trial 465 finished with value: 1.7304133036612348 and parameters: {'x': 1.770411114276803, 'y': 1.4091648581922702}. Best is trial 383 with value: -3.2430656717391484.\n",
      "Trial 465 finished with value: 1.7304133036612348 and parameters: {'x': 1.770411114276803, 'y': 1.4091648581922702}. Best is trial 383 with value: -3.2430656717391484.\n",
      "Trial 465 finished with value: 1.7304133036612348 and parameters: {'x': 1.770411114276803, 'y': 1.4091648581922702}. Best is trial 383 with value: -3.2430656717391484.\n"
     ]
    },
    {
     "name": "stderr",
     "output_type": "stream",
     "text": [
      "\u001b[32m[I 2022-11-15 13:20:18,718]\u001b[0m Trial 466 finished with value: 0.23163794905452528 and parameters: {'x': 1.8927975854368586, 'y': -1.6188499984612545}. Best is trial 383 with value: -3.2430656717391484.\u001b[0m\n"
     ]
    },
    {
     "name": "stdout",
     "output_type": "stream",
     "text": [
      "Trial 466 finished with value: 0.23163794905452528 and parameters: {'x': 1.8927975854368586, 'y': -1.6188499984612545}. Best is trial 383 with value: -3.2430656717391484.\n",
      "Trial 466 finished with value: 0.23163794905452528 and parameters: {'x': 1.8927975854368586, 'y': -1.6188499984612545}. Best is trial 383 with value: -3.2430656717391484.\n",
      "Trial 466 finished with value: 0.23163794905452528 and parameters: {'x': 1.8927975854368586, 'y': -1.6188499984612545}. Best is trial 383 with value: -3.2430656717391484.\n"
     ]
    },
    {
     "name": "stderr",
     "output_type": "stream",
     "text": [
      "\u001b[32m[I 2022-11-15 13:20:18,725]\u001b[0m Trial 467 finished with value: -2.5680045730085643 and parameters: {'x': 1.703421822636411, 'y': 1.6292840466757295}. Best is trial 383 with value: -3.2430656717391484.\u001b[0m\n"
     ]
    },
    {
     "name": "stdout",
     "output_type": "stream",
     "text": [
      "Trial 467 finished with value: -2.5680045730085643 and parameters: {'x': 1.703421822636411, 'y': 1.6292840466757295}. Best is trial 383 with value: -3.2430656717391484.\n",
      "Trial 467 finished with value: -2.5680045730085643 and parameters: {'x': 1.703421822636411, 'y': 1.6292840466757295}. Best is trial 383 with value: -3.2430656717391484.\n",
      "Trial 467 finished with value: -2.5680045730085643 and parameters: {'x': 1.703421822636411, 'y': 1.6292840466757295}. Best is trial 383 with value: -3.2430656717391484.\n"
     ]
    },
    {
     "name": "stderr",
     "output_type": "stream",
     "text": [
      "\u001b[32m[I 2022-11-15 13:20:18,731]\u001b[0m Trial 468 finished with value: 0.3384106628787946 and parameters: {'x': 1.6550945049817536, 'y': 1.8774271685128108}. Best is trial 383 with value: -3.2430656717391484.\u001b[0m\n"
     ]
    },
    {
     "name": "stdout",
     "output_type": "stream",
     "text": [
      "Trial 468 finished with value: 0.3384106628787946 and parameters: {'x': 1.6550945049817536, 'y': 1.8774271685128108}. Best is trial 383 with value: -3.2430656717391484.\n",
      "Trial 468 finished with value: 0.3384106628787946 and parameters: {'x': 1.6550945049817536, 'y': 1.8774271685128108}. Best is trial 383 with value: -3.2430656717391484.\n",
      "Trial 468 finished with value: 0.3384106628787946 and parameters: {'x': 1.6550945049817536, 'y': 1.8774271685128108}. Best is trial 383 with value: -3.2430656717391484.\n"
     ]
    },
    {
     "name": "stderr",
     "output_type": "stream",
     "text": [
      "\u001b[32m[I 2022-11-15 13:20:18,737]\u001b[0m Trial 469 finished with value: 1.1481334214962449 and parameters: {'x': 1.7883286288482854, 'y': 0.43412852424008613}. Best is trial 383 with value: -3.2430656717391484.\u001b[0m\n"
     ]
    },
    {
     "name": "stdout",
     "output_type": "stream",
     "text": [
      "Trial 469 finished with value: 1.1481334214962449 and parameters: {'x': 1.7883286288482854, 'y': 0.43412852424008613}. Best is trial 383 with value: -3.2430656717391484.\n",
      "Trial 469 finished with value: 1.1481334214962449 and parameters: {'x': 1.7883286288482854, 'y': 0.43412852424008613}. Best is trial 383 with value: -3.2430656717391484.\n",
      "Trial 469 finished with value: 1.1481334214962449 and parameters: {'x': 1.7883286288482854, 'y': 0.43412852424008613}. Best is trial 383 with value: -3.2430656717391484.\n"
     ]
    },
    {
     "name": "stderr",
     "output_type": "stream",
     "text": [
      "\u001b[32m[I 2022-11-15 13:20:18,744]\u001b[0m Trial 470 finished with value: -0.9945026483410188 and parameters: {'x': 1.6534095620932105, 'y': 1.2855012541651432}. Best is trial 383 with value: -3.2430656717391484.\u001b[0m\n"
     ]
    },
    {
     "name": "stdout",
     "output_type": "stream",
     "text": [
      "Trial 470 finished with value: -0.9945026483410188 and parameters: {'x': 1.6534095620932105, 'y': 1.2855012541651432}. Best is trial 383 with value: -3.2430656717391484.\n",
      "Trial 470 finished with value: -0.9945026483410188 and parameters: {'x': 1.6534095620932105, 'y': 1.2855012541651432}. Best is trial 383 with value: -3.2430656717391484.\n",
      "Trial 470 finished with value: -0.9945026483410188 and parameters: {'x': 1.6534095620932105, 'y': 1.2855012541651432}. Best is trial 383 with value: -3.2430656717391484.\n"
     ]
    },
    {
     "name": "stderr",
     "output_type": "stream",
     "text": [
      "\u001b[32m[I 2022-11-15 13:20:18,750]\u001b[0m Trial 471 finished with value: -1.2400926266217782 and parameters: {'x': 1.7332760492297385, 'y': 1.7069801079012332}. Best is trial 383 with value: -3.2430656717391484.\u001b[0m\n"
     ]
    },
    {
     "name": "stdout",
     "output_type": "stream",
     "text": [
      "Trial 471 finished with value: -1.2400926266217782 and parameters: {'x': 1.7332760492297385, 'y': 1.7069801079012332}. Best is trial 383 with value: -3.2430656717391484.\n",
      "Trial 471 finished with value: -1.2400926266217782 and parameters: {'x': 1.7332760492297385, 'y': 1.7069801079012332}. Best is trial 383 with value: -3.2430656717391484.\n",
      "Trial 471 finished with value: -1.2400926266217782 and parameters: {'x': 1.7332760492297385, 'y': 1.7069801079012332}. Best is trial 383 with value: -3.2430656717391484.\n"
     ]
    },
    {
     "name": "stderr",
     "output_type": "stream",
     "text": [
      "\u001b[32m[I 2022-11-15 13:20:18,757]\u001b[0m Trial 472 finished with value: -2.0486130782857237 and parameters: {'x': 1.606902468068223, 'y': 1.5256391137083465}. Best is trial 383 with value: -3.2430656717391484.\u001b[0m\n"
     ]
    },
    {
     "name": "stdout",
     "output_type": "stream",
     "text": [
      "Trial 472 finished with value: -2.0486130782857237 and parameters: {'x': 1.606902468068223, 'y': 1.5256391137083465}. Best is trial 383 with value: -3.2430656717391484.\n",
      "Trial 472 finished with value: -2.0486130782857237 and parameters: {'x': 1.606902468068223, 'y': 1.5256391137083465}. Best is trial 383 with value: -3.2430656717391484.\n",
      "Trial 472 finished with value: -2.0486130782857237 and parameters: {'x': 1.606902468068223, 'y': 1.5256391137083465}. Best is trial 383 with value: -3.2430656717391484.\n"
     ]
    },
    {
     "name": "stderr",
     "output_type": "stream",
     "text": [
      "\u001b[32m[I 2022-11-15 13:20:18,764]\u001b[0m Trial 473 finished with value: 2.1738416918850225 and parameters: {'x': 1.838306369616355, 'y': 1.7740266111351009}. Best is trial 383 with value: -3.2430656717391484.\u001b[0m\n"
     ]
    },
    {
     "name": "stdout",
     "output_type": "stream",
     "text": [
      "Trial 473 finished with value: 2.1738416918850225 and parameters: {'x': 1.838306369616355, 'y': 1.7740266111351009}. Best is trial 383 with value: -3.2430656717391484.\n",
      "Trial 473 finished with value: 2.1738416918850225 and parameters: {'x': 1.838306369616355, 'y': 1.7740266111351009}. Best is trial 383 with value: -3.2430656717391484.\n",
      "Trial 473 finished with value: 2.1738416918850225 and parameters: {'x': 1.838306369616355, 'y': 1.7740266111351009}. Best is trial 383 with value: -3.2430656717391484.\n"
     ]
    },
    {
     "name": "stderr",
     "output_type": "stream",
     "text": [
      "\u001b[32m[I 2022-11-15 13:20:18,771]\u001b[0m Trial 474 finished with value: -3.1467187948005515 and parameters: {'x': 1.6483476026802513, 'y': 1.6075042282094303}. Best is trial 383 with value: -3.2430656717391484.\u001b[0m\n"
     ]
    },
    {
     "name": "stdout",
     "output_type": "stream",
     "text": [
      "Trial 474 finished with value: -3.1467187948005515 and parameters: {'x': 1.6483476026802513, 'y': 1.6075042282094303}. Best is trial 383 with value: -3.2430656717391484.\n",
      "Trial 474 finished with value: -3.1467187948005515 and parameters: {'x': 1.6483476026802513, 'y': 1.6075042282094303}. Best is trial 383 with value: -3.2430656717391484.\n",
      "Trial 474 finished with value: -3.1467187948005515 and parameters: {'x': 1.6483476026802513, 'y': 1.6075042282094303}. Best is trial 383 with value: -3.2430656717391484.\n"
     ]
    },
    {
     "name": "stderr",
     "output_type": "stream",
     "text": [
      "\u001b[32m[I 2022-11-15 13:20:18,779]\u001b[0m Trial 475 finished with value: -1.8374942506486653 and parameters: {'x': 1.513128863116051, 'y': 1.6460072765901232}. Best is trial 383 with value: -3.2430656717391484.\u001b[0m\n"
     ]
    },
    {
     "name": "stdout",
     "output_type": "stream",
     "text": [
      "Trial 475 finished with value: -1.8374942506486653 and parameters: {'x': 1.513128863116051, 'y': 1.6460072765901232}. Best is trial 383 with value: -3.2430656717391484.\n",
      "Trial 475 finished with value: -1.8374942506486653 and parameters: {'x': 1.513128863116051, 'y': 1.6460072765901232}. Best is trial 383 with value: -3.2430656717391484.\n",
      "Trial 475 finished with value: -1.8374942506486653 and parameters: {'x': 1.513128863116051, 'y': 1.6460072765901232}. Best is trial 383 with value: -3.2430656717391484.\n"
     ]
    },
    {
     "name": "stderr",
     "output_type": "stream",
     "text": [
      "\u001b[32m[I 2022-11-15 13:20:18,785]\u001b[0m Trial 476 finished with value: -1.024715873091011 and parameters: {'x': 1.6401891871716954, 'y': 1.4673261638330917}. Best is trial 383 with value: -3.2430656717391484.\u001b[0m\n"
     ]
    },
    {
     "name": "stdout",
     "output_type": "stream",
     "text": [
      "Trial 476 finished with value: -1.024715873091011 and parameters: {'x': 1.6401891871716954, 'y': 1.4673261638330917}. Best is trial 383 with value: -3.2430656717391484.\n",
      "Trial 476 finished with value: -1.024715873091011 and parameters: {'x': 1.6401891871716954, 'y': 1.4673261638330917}. Best is trial 383 with value: -3.2430656717391484.\n",
      "Trial 476 finished with value: -1.024715873091011 and parameters: {'x': 1.6401891871716954, 'y': 1.4673261638330917}. Best is trial 383 with value: -3.2430656717391484.\n"
     ]
    },
    {
     "name": "stderr",
     "output_type": "stream",
     "text": [
      "\u001b[32m[I 2022-11-15 13:20:18,792]\u001b[0m Trial 477 finished with value: -0.4837278359799117 and parameters: {'x': 1.7282506330740428, 'y': -0.5027290485055}. Best is trial 383 with value: -3.2430656717391484.\u001b[0m\n"
     ]
    },
    {
     "name": "stdout",
     "output_type": "stream",
     "text": [
      "Trial 477 finished with value: -0.4837278359799117 and parameters: {'x': 1.7282506330740428, 'y': -0.5027290485055}. Best is trial 383 with value: -3.2430656717391484.\n",
      "Trial 477 finished with value: -0.4837278359799117 and parameters: {'x': 1.7282506330740428, 'y': -0.5027290485055}. Best is trial 383 with value: -3.2430656717391484.\n",
      "Trial 477 finished with value: -0.4837278359799117 and parameters: {'x': 1.7282506330740428, 'y': -0.5027290485055}. Best is trial 383 with value: -3.2430656717391484.\n"
     ]
    },
    {
     "name": "stderr",
     "output_type": "stream",
     "text": [
      "\u001b[32m[I 2022-11-15 13:20:18,798]\u001b[0m Trial 478 finished with value: -2.6297479626744478 and parameters: {'x': 1.5790308185031745, 'y': 1.5776850556203799}. Best is trial 383 with value: -3.2430656717391484.\u001b[0m\n"
     ]
    },
    {
     "name": "stdout",
     "output_type": "stream",
     "text": [
      "Trial 478 finished with value: -2.6297479626744478 and parameters: {'x': 1.5790308185031745, 'y': 1.5776850556203799}. Best is trial 383 with value: -3.2430656717391484.\n",
      "Trial 478 finished with value: -2.6297479626744478 and parameters: {'x': 1.5790308185031745, 'y': 1.5776850556203799}. Best is trial 383 with value: -3.2430656717391484.\n",
      "Trial 478 finished with value: -2.6297479626744478 and parameters: {'x': 1.5790308185031745, 'y': 1.5776850556203799}. Best is trial 383 with value: -3.2430656717391484.\n"
     ]
    },
    {
     "name": "stderr",
     "output_type": "stream",
     "text": [
      "\u001b[32m[I 2022-11-15 13:20:18,805]\u001b[0m Trial 479 finished with value: 0.41101028792063876 and parameters: {'x': 1.4612736527315366, 'y': 1.7374731660280391}. Best is trial 383 with value: -3.2430656717391484.\u001b[0m\n"
     ]
    },
    {
     "name": "stdout",
     "output_type": "stream",
     "text": [
      "Trial 479 finished with value: 0.41101028792063876 and parameters: {'x': 1.4612736527315366, 'y': 1.7374731660280391}. Best is trial 383 with value: -3.2430656717391484.\n",
      "Trial 479 finished with value: 0.41101028792063876 and parameters: {'x': 1.4612736527315366, 'y': 1.7374731660280391}. Best is trial 383 with value: -3.2430656717391484.\n",
      "Trial 479 finished with value: 0.41101028792063876 and parameters: {'x': 1.4612736527315366, 'y': 1.7374731660280391}. Best is trial 383 with value: -3.2430656717391484.\n"
     ]
    },
    {
     "name": "stderr",
     "output_type": "stream",
     "text": [
      "\u001b[32m[I 2022-11-15 13:20:18,811]\u001b[0m Trial 480 finished with value: -2.5619574575192647 and parameters: {'x': 1.6847209050782286, 'y': -1.6771421313486772}. Best is trial 383 with value: -3.2430656717391484.\u001b[0m\n"
     ]
    },
    {
     "name": "stdout",
     "output_type": "stream",
     "text": [
      "Trial 480 finished with value: -2.5619574575192647 and parameters: {'x': 1.6847209050782286, 'y': -1.6771421313486772}. Best is trial 383 with value: -3.2430656717391484.\n",
      "Trial 480 finished with value: -2.5619574575192647 and parameters: {'x': 1.6847209050782286, 'y': -1.6771421313486772}. Best is trial 383 with value: -3.2430656717391484.\n",
      "Trial 480 finished with value: -2.5619574575192647 and parameters: {'x': 1.6847209050782286, 'y': -1.6771421313486772}. Best is trial 383 with value: -3.2430656717391484.\n"
     ]
    },
    {
     "name": "stderr",
     "output_type": "stream",
     "text": [
      "\u001b[32m[I 2022-11-15 13:20:18,818]\u001b[0m Trial 481 finished with value: 2.044996794682017 and parameters: {'x': 1.782356415287274, 'y': 1.8160474784898528}. Best is trial 383 with value: -3.2430656717391484.\u001b[0m\n"
     ]
    },
    {
     "name": "stdout",
     "output_type": "stream",
     "text": [
      "Trial 481 finished with value: 2.044996794682017 and parameters: {'x': 1.782356415287274, 'y': 1.8160474784898528}. Best is trial 383 with value: -3.2430656717391484.\n",
      "Trial 481 finished with value: 2.044996794682017 and parameters: {'x': 1.782356415287274, 'y': 1.8160474784898528}. Best is trial 383 with value: -3.2430656717391484.\n",
      "Trial 481 finished with value: 2.044996794682017 and parameters: {'x': 1.782356415287274, 'y': 1.8160474784898528}. Best is trial 383 with value: -3.2430656717391484.\n"
     ]
    },
    {
     "name": "stderr",
     "output_type": "stream",
     "text": [
      "\u001b[32m[I 2022-11-15 13:20:18,824]\u001b[0m Trial 482 finished with value: -1.3696621009247636 and parameters: {'x': -0.4667036239766631, 'y': 1.651752444985827}. Best is trial 383 with value: -3.2430656717391484.\u001b[0m\n"
     ]
    },
    {
     "name": "stdout",
     "output_type": "stream",
     "text": [
      "Trial 482 finished with value: -1.3696621009247636 and parameters: {'x': -0.4667036239766631, 'y': 1.651752444985827}. Best is trial 383 with value: -3.2430656717391484.\n",
      "Trial 482 finished with value: -1.3696621009247636 and parameters: {'x': -0.4667036239766631, 'y': 1.651752444985827}. Best is trial 383 with value: -3.2430656717391484.\n",
      "Trial 482 finished with value: -1.3696621009247636 and parameters: {'x': -0.4667036239766631, 'y': 1.651752444985827}. Best is trial 383 with value: -3.2430656717391484.\n"
     ]
    },
    {
     "name": "stderr",
     "output_type": "stream",
     "text": [
      "\u001b[32m[I 2022-11-15 13:20:18,831]\u001b[0m Trial 483 finished with value: -1.726879104887693 and parameters: {'x': 1.604089936752743, 'y': -1.50939822702929}. Best is trial 383 with value: -3.2430656717391484.\u001b[0m\n"
     ]
    },
    {
     "name": "stdout",
     "output_type": "stream",
     "text": [
      "Trial 483 finished with value: -1.726879104887693 and parameters: {'x': 1.604089936752743, 'y': -1.50939822702929}. Best is trial 383 with value: -3.2430656717391484.\n",
      "Trial 483 finished with value: -1.726879104887693 and parameters: {'x': 1.604089936752743, 'y': -1.50939822702929}. Best is trial 383 with value: -3.2430656717391484.\n",
      "Trial 483 finished with value: -1.726879104887693 and parameters: {'x': 1.604089936752743, 'y': -1.50939822702929}. Best is trial 383 with value: -3.2430656717391484.\n"
     ]
    },
    {
     "name": "stderr",
     "output_type": "stream",
     "text": [
      "\u001b[32m[I 2022-11-15 13:20:18,837]\u001b[0m Trial 484 finished with value: -0.7045406960478184 and parameters: {'x': 0.3218411005025168, 'y': 1.552853940024939}. Best is trial 383 with value: -3.2430656717391484.\u001b[0m\n"
     ]
    },
    {
     "name": "stdout",
     "output_type": "stream",
     "text": [
      "Trial 484 finished with value: -0.7045406960478184 and parameters: {'x': 0.3218411005025168, 'y': 1.552853940024939}. Best is trial 383 with value: -3.2430656717391484.\n",
      "Trial 484 finished with value: -0.7045406960478184 and parameters: {'x': 0.3218411005025168, 'y': 1.552853940024939}. Best is trial 383 with value: -3.2430656717391484.\n",
      "Trial 484 finished with value: -0.7045406960478184 and parameters: {'x': 0.3218411005025168, 'y': 1.552853940024939}. Best is trial 383 with value: -3.2430656717391484.\n"
     ]
    },
    {
     "name": "stderr",
     "output_type": "stream",
     "text": [
      "\u001b[32m[I 2022-11-15 13:20:18,844]\u001b[0m Trial 485 finished with value: -1.444218293700624 and parameters: {'x': 1.5278526315950316, 'y': 1.7046160978660967}. Best is trial 383 with value: -3.2430656717391484.\u001b[0m\n"
     ]
    },
    {
     "name": "stdout",
     "output_type": "stream",
     "text": [
      "Trial 485 finished with value: -1.444218293700624 and parameters: {'x': 1.5278526315950316, 'y': 1.7046160978660967}. Best is trial 383 with value: -3.2430656717391484.\n",
      "Trial 485 finished with value: -1.444218293700624 and parameters: {'x': 1.5278526315950316, 'y': 1.7046160978660967}. Best is trial 383 with value: -3.2430656717391484.\n",
      "Trial 485 finished with value: -1.444218293700624 and parameters: {'x': 1.5278526315950316, 'y': 1.7046160978660967}. Best is trial 383 with value: -3.2430656717391484.\n"
     ]
    },
    {
     "name": "stderr",
     "output_type": "stream",
     "text": [
      "\u001b[32m[I 2022-11-15 13:20:18,850]\u001b[0m Trial 486 finished with value: 0.5866916002317443 and parameters: {'x': 1.715478522524419, 'y': -1.3541174077257525}. Best is trial 383 with value: -3.2430656717391484.\u001b[0m\n"
     ]
    },
    {
     "name": "stdout",
     "output_type": "stream",
     "text": [
      "Trial 486 finished with value: 0.5866916002317443 and parameters: {'x': 1.715478522524419, 'y': -1.3541174077257525}. Best is trial 383 with value: -3.2430656717391484.\n",
      "Trial 486 finished with value: 0.5866916002317443 and parameters: {'x': 1.715478522524419, 'y': -1.3541174077257525}. Best is trial 383 with value: -3.2430656717391484.\n",
      "Trial 486 finished with value: 0.5866916002317443 and parameters: {'x': 1.715478522524419, 'y': -1.3541174077257525}. Best is trial 383 with value: -3.2430656717391484.\n"
     ]
    },
    {
     "name": "stderr",
     "output_type": "stream",
     "text": [
      "\u001b[32m[I 2022-11-15 13:20:18,856]\u001b[0m Trial 487 finished with value: 1.469593206241044 and parameters: {'x': 0.4833340639736987, 'y': 1.3709137385873567}. Best is trial 383 with value: -3.2430656717391484.\u001b[0m\n"
     ]
    },
    {
     "name": "stdout",
     "output_type": "stream",
     "text": [
      "Trial 487 finished with value: 1.469593206241044 and parameters: {'x': 0.4833340639736987, 'y': 1.3709137385873567}. Best is trial 383 with value: -3.2430656717391484.\n",
      "Trial 487 finished with value: 1.469593206241044 and parameters: {'x': 0.4833340639736987, 'y': 1.3709137385873567}. Best is trial 383 with value: -3.2430656717391484.\n",
      "Trial 487 finished with value: 1.469593206241044 and parameters: {'x': 0.4833340639736987, 'y': 1.3709137385873567}. Best is trial 383 with value: -3.2430656717391484.\n"
     ]
    },
    {
     "name": "stderr",
     "output_type": "stream",
     "text": [
      "\u001b[32m[I 2022-11-15 13:20:18,863]\u001b[0m Trial 488 finished with value: 1.6287654816940909 and parameters: {'x': 1.9359258107271702, 'y': 1.487480713134664}. Best is trial 383 with value: -3.2430656717391484.\u001b[0m\n"
     ]
    },
    {
     "name": "stdout",
     "output_type": "stream",
     "text": [
      "Trial 488 finished with value: 1.6287654816940909 and parameters: {'x': 1.9359258107271702, 'y': 1.487480713134664}. Best is trial 383 with value: -3.2430656717391484.\n",
      "Trial 488 finished with value: 1.6287654816940909 and parameters: {'x': 1.9359258107271702, 'y': 1.487480713134664}. Best is trial 383 with value: -3.2430656717391484.\n",
      "Trial 488 finished with value: 1.6287654816940909 and parameters: {'x': 1.9359258107271702, 'y': 1.487480713134664}. Best is trial 383 with value: -3.2430656717391484.\n"
     ]
    },
    {
     "name": "stderr",
     "output_type": "stream",
     "text": [
      "\u001b[32m[I 2022-11-15 13:20:18,869]\u001b[0m Trial 489 finished with value: -3.177504909060694 and parameters: {'x': 1.6247028763333426, 'y': 1.6047071786842755}. Best is trial 383 with value: -3.2430656717391484.\u001b[0m\n"
     ]
    },
    {
     "name": "stdout",
     "output_type": "stream",
     "text": [
      "Trial 489 finished with value: -3.177504909060694 and parameters: {'x': 1.6247028763333426, 'y': 1.6047071786842755}. Best is trial 383 with value: -3.2430656717391484.\n",
      "Trial 489 finished with value: -3.177504909060694 and parameters: {'x': 1.6247028763333426, 'y': 1.6047071786842755}. Best is trial 383 with value: -3.2430656717391484.\n",
      "Trial 489 finished with value: -3.177504909060694 and parameters: {'x': 1.6247028763333426, 'y': 1.6047071786842755}. Best is trial 383 with value: -3.2430656717391484.\n"
     ]
    },
    {
     "name": "stderr",
     "output_type": "stream",
     "text": [
      "\u001b[32m[I 2022-11-15 13:20:18,876]\u001b[0m Trial 490 finished with value: 0.15747905636557835 and parameters: {'x': 1.8406564098010145, 'y': -1.5989992350654307}. Best is trial 383 with value: -3.2430656717391484.\u001b[0m\n"
     ]
    },
    {
     "name": "stdout",
     "output_type": "stream",
     "text": [
      "Trial 490 finished with value: 0.15747905636557835 and parameters: {'x': 1.8406564098010145, 'y': -1.5989992350654307}. Best is trial 383 with value: -3.2430656717391484.\n",
      "Trial 490 finished with value: 0.15747905636557835 and parameters: {'x': 1.8406564098010145, 'y': -1.5989992350654307}. Best is trial 383 with value: -3.2430656717391484.\n",
      "Trial 490 finished with value: 0.15747905636557835 and parameters: {'x': 1.8406564098010145, 'y': -1.5989992350654307}. Best is trial 383 with value: -3.2430656717391484.\n"
     ]
    },
    {
     "name": "stderr",
     "output_type": "stream",
     "text": [
      "\u001b[32m[I 2022-11-15 13:20:18,882]\u001b[0m Trial 491 finished with value: -3.1859479799898223 and parameters: {'x': 1.628540934360539, 'y': 1.605753805370854}. Best is trial 383 with value: -3.2430656717391484.\u001b[0m\n"
     ]
    },
    {
     "name": "stdout",
     "output_type": "stream",
     "text": [
      "Trial 491 finished with value: -3.1859479799898223 and parameters: {'x': 1.628540934360539, 'y': 1.605753805370854}. Best is trial 383 with value: -3.2430656717391484.\n",
      "Trial 491 finished with value: -3.1859479799898223 and parameters: {'x': 1.628540934360539, 'y': 1.605753805370854}. Best is trial 383 with value: -3.2430656717391484.\n",
      "Trial 491 finished with value: -3.1859479799898223 and parameters: {'x': 1.628540934360539, 'y': 1.605753805370854}. Best is trial 383 with value: -3.2430656717391484.\n"
     ]
    },
    {
     "name": "stderr",
     "output_type": "stream",
     "text": [
      "\u001b[32m[I 2022-11-15 13:20:18,889]\u001b[0m Trial 492 finished with value: -1.3243760622146892 and parameters: {'x': 1.7548128437841557, 'y': 1.5891339255596075}. Best is trial 383 with value: -3.2430656717391484.\u001b[0m\n"
     ]
    },
    {
     "name": "stdout",
     "output_type": "stream",
     "text": [
      "Trial 492 finished with value: -1.3243760622146892 and parameters: {'x': 1.7548128437841557, 'y': 1.5891339255596075}. Best is trial 383 with value: -3.2430656717391484.\n",
      "Trial 492 finished with value: -1.3243760622146892 and parameters: {'x': 1.7548128437841557, 'y': 1.5891339255596075}. Best is trial 383 with value: -3.2430656717391484.\n",
      "Trial 492 finished with value: -1.3243760622146892 and parameters: {'x': 1.7548128437841557, 'y': 1.5891339255596075}. Best is trial 383 with value: -3.2430656717391484.\n"
     ]
    },
    {
     "name": "stderr",
     "output_type": "stream",
     "text": [
      "\u001b[32m[I 2022-11-15 13:20:18,895]\u001b[0m Trial 493 finished with value: 0.11023895038938272 and parameters: {'x': 0.1413485134732344, 'y': 1.4866291093409143}. Best is trial 383 with value: -3.2430656717391484.\u001b[0m\n"
     ]
    },
    {
     "name": "stdout",
     "output_type": "stream",
     "text": [
      "Trial 493 finished with value: 0.11023895038938272 and parameters: {'x': 0.1413485134732344, 'y': 1.4866291093409143}. Best is trial 383 with value: -3.2430656717391484.\n",
      "Trial 493 finished with value: 0.11023895038938272 and parameters: {'x': 0.1413485134732344, 'y': 1.4866291093409143}. Best is trial 383 with value: -3.2430656717391484.\n",
      "Trial 493 finished with value: 0.11023895038938272 and parameters: {'x': 0.1413485134732344, 'y': 1.4866291093409143}. Best is trial 383 with value: -3.2430656717391484.\n"
     ]
    },
    {
     "name": "stderr",
     "output_type": "stream",
     "text": [
      "\u001b[32m[I 2022-11-15 13:20:18,902]\u001b[0m Trial 494 finished with value: -2.922197612017396 and parameters: {'x': 1.6778303529849385, 'y': 1.6145728024365307}. Best is trial 383 with value: -3.2430656717391484.\u001b[0m\n"
     ]
    },
    {
     "name": "stdout",
     "output_type": "stream",
     "text": [
      "Trial 494 finished with value: -2.922197612017396 and parameters: {'x': 1.6778303529849385, 'y': 1.6145728024365307}. Best is trial 383 with value: -3.2430656717391484.\n",
      "Trial 494 finished with value: -2.922197612017396 and parameters: {'x': 1.6778303529849385, 'y': 1.6145728024365307}. Best is trial 383 with value: -3.2430656717391484.\n",
      "Trial 494 finished with value: -2.922197612017396 and parameters: {'x': 1.6778303529849385, 'y': 1.6145728024365307}. Best is trial 383 with value: -3.2430656717391484.\n"
     ]
    },
    {
     "name": "stderr",
     "output_type": "stream",
     "text": [
      "\u001b[32m[I 2022-11-15 13:20:18,908]\u001b[0m Trial 495 finished with value: -1.287916233619957 and parameters: {'x': 1.5349018357686042, 'y': 1.5340249690438565}. Best is trial 383 with value: -3.2430656717391484.\u001b[0m\n"
     ]
    },
    {
     "name": "stdout",
     "output_type": "stream",
     "text": [
      "Trial 495 finished with value: -1.287916233619957 and parameters: {'x': 1.5349018357686042, 'y': 1.5340249690438565}. Best is trial 383 with value: -3.2430656717391484.\n",
      "Trial 495 finished with value: -1.287916233619957 and parameters: {'x': 1.5349018357686042, 'y': 1.5340249690438565}. Best is trial 383 with value: -3.2430656717391484.\n",
      "Trial 495 finished with value: -1.287916233619957 and parameters: {'x': 1.5349018357686042, 'y': 1.5340249690438565}. Best is trial 383 with value: -3.2430656717391484.\n"
     ]
    },
    {
     "name": "stderr",
     "output_type": "stream",
     "text": [
      "\u001b[32m[I 2022-11-15 13:20:18,914]\u001b[0m Trial 496 finished with value: 1.6306896158249322 and parameters: {'x': 0.9725707422647929, 'y': 1.4057572310424566}. Best is trial 383 with value: -3.2430656717391484.\u001b[0m\n"
     ]
    },
    {
     "name": "stdout",
     "output_type": "stream",
     "text": [
      "Trial 496 finished with value: 1.6306896158249322 and parameters: {'x': 0.9725707422647929, 'y': 1.4057572310424566}. Best is trial 383 with value: -3.2430656717391484.\n",
      "Trial 496 finished with value: 1.6306896158249322 and parameters: {'x': 0.9725707422647929, 'y': 1.4057572310424566}. Best is trial 383 with value: -3.2430656717391484.\n",
      "Trial 496 finished with value: 1.6306896158249322 and parameters: {'x': 0.9725707422647929, 'y': 1.4057572310424566}. Best is trial 383 with value: -3.2430656717391484.\n"
     ]
    },
    {
     "name": "stderr",
     "output_type": "stream",
     "text": [
      "\u001b[32m[I 2022-11-15 13:20:18,921]\u001b[0m Trial 497 finished with value: -2.805626626103987 and parameters: {'x': 1.6226897246839198, 'y': 1.6881702159824212}. Best is trial 383 with value: -3.2430656717391484.\u001b[0m\n"
     ]
    },
    {
     "name": "stdout",
     "output_type": "stream",
     "text": [
      "Trial 497 finished with value: -2.805626626103987 and parameters: {'x': 1.6226897246839198, 'y': 1.6881702159824212}. Best is trial 383 with value: -3.2430656717391484.\n",
      "Trial 497 finished with value: -2.805626626103987 and parameters: {'x': 1.6226897246839198, 'y': 1.6881702159824212}. Best is trial 383 with value: -3.2430656717391484.\n",
      "Trial 497 finished with value: -2.805626626103987 and parameters: {'x': 1.6226897246839198, 'y': 1.6881702159824212}. Best is trial 383 with value: -3.2430656717391484.\n"
     ]
    },
    {
     "name": "stderr",
     "output_type": "stream",
     "text": [
      "\u001b[32m[I 2022-11-15 13:20:18,928]\u001b[0m Trial 498 finished with value: 1.059360297384385 and parameters: {'x': 1.4576759932305134, 'y': 1.7645173709921018}. Best is trial 383 with value: -3.2430656717391484.\u001b[0m\n"
     ]
    },
    {
     "name": "stdout",
     "output_type": "stream",
     "text": [
      "Trial 498 finished with value: 1.059360297384385 and parameters: {'x': 1.4576759932305134, 'y': 1.7645173709921018}. Best is trial 383 with value: -3.2430656717391484.\n",
      "Trial 498 finished with value: 1.059360297384385 and parameters: {'x': 1.4576759932305134, 'y': 1.7645173709921018}. Best is trial 383 with value: -3.2430656717391484.\n",
      "Trial 498 finished with value: 1.059360297384385 and parameters: {'x': 1.4576759932305134, 'y': 1.7645173709921018}. Best is trial 383 with value: -3.2430656717391484.\n"
     ]
    },
    {
     "name": "stderr",
     "output_type": "stream",
     "text": [
      "\u001b[32m[I 2022-11-15 13:20:18,934]\u001b[0m Trial 499 finished with value: -0.9404307930325766 and parameters: {'x': 1.7813513863924055, 'y': 1.624286059071878}. Best is trial 383 with value: -3.2430656717391484.\u001b[0m\n"
     ]
    },
    {
     "name": "stdout",
     "output_type": "stream",
     "text": [
      "Trial 499 finished with value: -0.9404307930325766 and parameters: {'x': 1.7813513863924055, 'y': 1.624286059071878}. Best is trial 383 with value: -3.2430656717391484.\n",
      "Trial 499 finished with value: -0.9404307930325766 and parameters: {'x': 1.7813513863924055, 'y': 1.624286059071878}. Best is trial 383 with value: -3.2430656717391484.\n",
      "Trial 499 finished with value: -0.9404307930325766 and parameters: {'x': 1.7813513863924055, 'y': 1.624286059071878}. Best is trial 383 with value: -3.2430656717391484.\n"
     ]
    }
   ],
   "source": [
    "study = optuna.create_study() #оптимизатор\n",
    "study.optimize(objective_multifunc, n_trials = 500)"
   ]
  },
  {
   "cell_type": "code",
   "execution_count": 22,
   "id": "3e788c06",
   "metadata": {},
   "outputs": [
    {
     "name": "stdout",
     "output_type": "stream",
     "text": [
      "Found x: 1.6253213928162948, y: 1.636973853611788\n",
      "multifunc : -3.243785905511718\n"
     ]
    }
   ],
   "source": [
    "best_params = study.best_params\n",
    "found_x = best_params[\"x\"]\n",
    "found_y = best_params[\"y\"]\n",
    "print(\"Found x: {}, y: {}\\nmultifunc : {}\".format(found_x, found_y, study.best_value))"
   ]
  },
  {
   "cell_type": "code",
   "execution_count": 23,
   "id": "939940e9",
   "metadata": {},
   "outputs": [
    {
     "name": "stdout",
     "output_type": "stream",
     "text": [
      "Distance to the answer point 0.008883275905062474\n",
      "Function value differece 1.0101140944882818\n"
     ]
    }
   ],
   "source": [
    "check_answer_multifunc(np.array([found_x, found_y]), study.best_value)"
   ]
  },
  {
   "cell_type": "markdown",
   "id": "d7688e78",
   "metadata": {},
   "source": [
    "Шикарный результат для мультифункции!"
   ]
  },
  {
   "cell_type": "markdown",
   "id": "ceb7467e",
   "metadata": {},
   "source": [
    "## Оптимизируем гиперпараметры нескольких методов МЛ"
   ]
  },
  {
   "cell_type": "markdown",
   "id": "da6c5628",
   "metadata": {},
   "source": [
    "### Датасет вина из sklearn"
   ]
  },
  {
   "cell_type": "code",
   "execution_count": 3,
   "id": "cc642362",
   "metadata": {},
   "outputs": [],
   "source": [
    "import sklearn.datasets\n",
    "import sklearn.metrics\n",
    "from sklearn.model_selection import train_test_split\n",
    "\n",
    "from sklearn.tree import DecisionTreeClassifier\n",
    "from sklearn.discriminant_analysis import QuadraticDiscriminantAnalysis\n",
    "\n",
    "import logging\n",
    "import sys\n",
    "import lightgbm"
   ]
  },
  {
   "cell_type": "code",
   "execution_count": 25,
   "id": "6e7c4e5b",
   "metadata": {},
   "outputs": [],
   "source": [
    "def objective(trial):\n",
    "    data, target = sklearn.datasets.load_wine(return_X_y=True)\n",
    "    classes = list(set(target))\n",
    "    train_x, valid_x, train_y, valid_y = train_test_split(data, target, test_size=0.25)\n",
    "\n",
    "    classifier_name = trial.suggest_categorical(\"classifier\", [\"QuadraticDiscriminantAnalysis\", \"DecisionTree\"])\n",
    "    if classifier_name == \"QuadraticDiscriminantAnalysis\":\n",
    "        reg_param = trial.suggest_float(\"reg_param\", 1e-10, 1, log = True)\n",
    "        classifier_obj = QuadraticDiscriminantAnalysis(reg_param = reg_param)\n",
    "    else:\n",
    "        rf_max_depth = trial.suggest_int(\"rf_max_depth\", 2, 32, log = True)\n",
    "        criterion = trial.suggest_categorical(\"criterion\", [\"gini\", \"entropy\", \"log_loss\"])\n",
    "        splitter = trial.suggest_categorical(\"splitter\", [\"best\", \"random\"])\n",
    "        classifier_obj = DecisionTreeClassifier(max_depth = rf_max_depth, criterion = criterion, splitter = splitter)\n",
    "\n",
    "    # Add a callback for pruning.\n",
    "    pruning_callback = optuna.integration.LightGBMPruningCallback(trial, \"auc\")\n",
    "    \n",
    "    for step in range(50):\n",
    "        classifier_obj = classifier_obj.fit(train_x, train_y)\n",
    "        preds = classifier_obj.predict(valid_x)\n",
    "        pred_labels = np.rint(preds)\n",
    "        accuracy = sklearn.metrics.accuracy_score(valid_y, pred_labels)\n",
    "\n",
    "        # Отправить текущее значение\n",
    "        intermediate_value = 1.0 - accuracy\n",
    "        trial.report(intermediate_value, step)\n",
    "\n",
    "        # Проверить досрочную остановку\n",
    "        if trial.should_prune():\n",
    "            raise optuna.TrialPruned()\n",
    "            \n",
    "    return 1.0 - accuracy #чтобы максимизировать точность"
   ]
  },
  {
   "cell_type": "code",
   "execution_count": 26,
   "id": "e3661cd1",
   "metadata": {},
   "outputs": [
    {
     "name": "stderr",
     "output_type": "stream",
     "text": [
      "\u001b[32m[I 2022-11-15 13:53:12,648]\u001b[0m A new study created in memory with name: no-name-5d19616a-8c63-41d4-bc39-e7b01f9381d6\u001b[0m\n"
     ]
    },
    {
     "name": "stdout",
     "output_type": "stream",
     "text": [
      "A new study created in memory with name: no-name-5d19616a-8c63-41d4-bc39-e7b01f9381d6\n",
      "A new study created in memory with name: no-name-5d19616a-8c63-41d4-bc39-e7b01f9381d6\n",
      "A new study created in memory with name: no-name-5d19616a-8c63-41d4-bc39-e7b01f9381d6\n",
      "A new study created in memory with name: no-name-5d19616a-8c63-41d4-bc39-e7b01f9381d6\n",
      "A new study created in memory with name: no-name-5d19616a-8c63-41d4-bc39-e7b01f9381d6\n",
      "A new study created in memory with name: no-name-5d19616a-8c63-41d4-bc39-e7b01f9381d6\n",
      "A new study created in memory with name: no-name-5d19616a-8c63-41d4-bc39-e7b01f9381d6\n"
     ]
    },
    {
     "name": "stderr",
     "output_type": "stream",
     "text": [
      "\u001b[32m[I 2022-11-15 13:53:12,682]\u001b[0m Trial 0 finished with value: 0.3111111111111111 and parameters: {'classifier': 'DecisionTree', 'rf_max_depth': 2, 'criterion': 'log_loss', 'splitter': 'random'}. Best is trial 0 with value: 0.3111111111111111.\u001b[0m\n"
     ]
    },
    {
     "name": "stdout",
     "output_type": "stream",
     "text": [
      "Trial 0 finished with value: 0.3111111111111111 and parameters: {'classifier': 'DecisionTree', 'rf_max_depth': 2, 'criterion': 'log_loss', 'splitter': 'random'}. Best is trial 0 with value: 0.3111111111111111.\n",
      "Trial 0 finished with value: 0.3111111111111111 and parameters: {'classifier': 'DecisionTree', 'rf_max_depth': 2, 'criterion': 'log_loss', 'splitter': 'random'}. Best is trial 0 with value: 0.3111111111111111.\n",
      "Trial 0 finished with value: 0.3111111111111111 and parameters: {'classifier': 'DecisionTree', 'rf_max_depth': 2, 'criterion': 'log_loss', 'splitter': 'random'}. Best is trial 0 with value: 0.3111111111111111.\n",
      "Trial 0 finished with value: 0.3111111111111111 and parameters: {'classifier': 'DecisionTree', 'rf_max_depth': 2, 'criterion': 'log_loss', 'splitter': 'random'}. Best is trial 0 with value: 0.3111111111111111.\n",
      "Trial 0 finished with value: 0.3111111111111111 and parameters: {'classifier': 'DecisionTree', 'rf_max_depth': 2, 'criterion': 'log_loss', 'splitter': 'random'}. Best is trial 0 with value: 0.3111111111111111.\n",
      "Trial 0 finished with value: 0.3111111111111111 and parameters: {'classifier': 'DecisionTree', 'rf_max_depth': 2, 'criterion': 'log_loss', 'splitter': 'random'}. Best is trial 0 with value: 0.3111111111111111.\n",
      "Trial 0 finished with value: 0.3111111111111111 and parameters: {'classifier': 'DecisionTree', 'rf_max_depth': 2, 'criterion': 'log_loss', 'splitter': 'random'}. Best is trial 0 with value: 0.3111111111111111.\n"
     ]
    },
    {
     "name": "stderr",
     "output_type": "stream",
     "text": [
      "\u001b[32m[I 2022-11-15 13:53:12,712]\u001b[0m Trial 1 finished with value: 0.0 and parameters: {'classifier': 'QuadraticDiscriminantAnalysis', 'reg_param': 4.698999454076336e-06}. Best is trial 1 with value: 0.0.\u001b[0m\n"
     ]
    },
    {
     "name": "stdout",
     "output_type": "stream",
     "text": [
      "Trial 1 finished with value: 0.0 and parameters: {'classifier': 'QuadraticDiscriminantAnalysis', 'reg_param': 4.698999454076336e-06}. Best is trial 1 with value: 0.0.\n",
      "Trial 1 finished with value: 0.0 and parameters: {'classifier': 'QuadraticDiscriminantAnalysis', 'reg_param': 4.698999454076336e-06}. Best is trial 1 with value: 0.0.\n",
      "Trial 1 finished with value: 0.0 and parameters: {'classifier': 'QuadraticDiscriminantAnalysis', 'reg_param': 4.698999454076336e-06}. Best is trial 1 with value: 0.0.\n",
      "Trial 1 finished with value: 0.0 and parameters: {'classifier': 'QuadraticDiscriminantAnalysis', 'reg_param': 4.698999454076336e-06}. Best is trial 1 with value: 0.0.\n",
      "Trial 1 finished with value: 0.0 and parameters: {'classifier': 'QuadraticDiscriminantAnalysis', 'reg_param': 4.698999454076336e-06}. Best is trial 1 with value: 0.0.\n",
      "Trial 1 finished with value: 0.0 and parameters: {'classifier': 'QuadraticDiscriminantAnalysis', 'reg_param': 4.698999454076336e-06}. Best is trial 1 with value: 0.0.\n",
      "Trial 1 finished with value: 0.0 and parameters: {'classifier': 'QuadraticDiscriminantAnalysis', 'reg_param': 4.698999454076336e-06}. Best is trial 1 with value: 0.0.\n"
     ]
    },
    {
     "name": "stderr",
     "output_type": "stream",
     "text": [
      "\u001b[32m[I 2022-11-15 13:53:12,735]\u001b[0m Trial 2 finished with value: 0.0444444444444444 and parameters: {'classifier': 'QuadraticDiscriminantAnalysis', 'reg_param': 0.3751249810984533}. Best is trial 1 with value: 0.0.\u001b[0m\n"
     ]
    },
    {
     "name": "stdout",
     "output_type": "stream",
     "text": [
      "Trial 2 finished with value: 0.0444444444444444 and parameters: {'classifier': 'QuadraticDiscriminantAnalysis', 'reg_param': 0.3751249810984533}. Best is trial 1 with value: 0.0.\n",
      "Trial 2 finished with value: 0.0444444444444444 and parameters: {'classifier': 'QuadraticDiscriminantAnalysis', 'reg_param': 0.3751249810984533}. Best is trial 1 with value: 0.0.\n",
      "Trial 2 finished with value: 0.0444444444444444 and parameters: {'classifier': 'QuadraticDiscriminantAnalysis', 'reg_param': 0.3751249810984533}. Best is trial 1 with value: 0.0.\n",
      "Trial 2 finished with value: 0.0444444444444444 and parameters: {'classifier': 'QuadraticDiscriminantAnalysis', 'reg_param': 0.3751249810984533}. Best is trial 1 with value: 0.0.\n",
      "Trial 2 finished with value: 0.0444444444444444 and parameters: {'classifier': 'QuadraticDiscriminantAnalysis', 'reg_param': 0.3751249810984533}. Best is trial 1 with value: 0.0.\n",
      "Trial 2 finished with value: 0.0444444444444444 and parameters: {'classifier': 'QuadraticDiscriminantAnalysis', 'reg_param': 0.3751249810984533}. Best is trial 1 with value: 0.0.\n",
      "Trial 2 finished with value: 0.0444444444444444 and parameters: {'classifier': 'QuadraticDiscriminantAnalysis', 'reg_param': 0.3751249810984533}. Best is trial 1 with value: 0.0.\n"
     ]
    },
    {
     "name": "stderr",
     "output_type": "stream",
     "text": [
      "\u001b[32m[I 2022-11-15 13:53:12,756]\u001b[0m Trial 3 finished with value: 0.022222222222222254 and parameters: {'classifier': 'QuadraticDiscriminantAnalysis', 'reg_param': 1.422653202378202e-07}. Best is trial 1 with value: 0.0.\u001b[0m\n"
     ]
    },
    {
     "name": "stdout",
     "output_type": "stream",
     "text": [
      "Trial 3 finished with value: 0.022222222222222254 and parameters: {'classifier': 'QuadraticDiscriminantAnalysis', 'reg_param': 1.422653202378202e-07}. Best is trial 1 with value: 0.0.\n",
      "Trial 3 finished with value: 0.022222222222222254 and parameters: {'classifier': 'QuadraticDiscriminantAnalysis', 'reg_param': 1.422653202378202e-07}. Best is trial 1 with value: 0.0.\n",
      "Trial 3 finished with value: 0.022222222222222254 and parameters: {'classifier': 'QuadraticDiscriminantAnalysis', 'reg_param': 1.422653202378202e-07}. Best is trial 1 with value: 0.0.\n",
      "Trial 3 finished with value: 0.022222222222222254 and parameters: {'classifier': 'QuadraticDiscriminantAnalysis', 'reg_param': 1.422653202378202e-07}. Best is trial 1 with value: 0.0.\n",
      "Trial 3 finished with value: 0.022222222222222254 and parameters: {'classifier': 'QuadraticDiscriminantAnalysis', 'reg_param': 1.422653202378202e-07}. Best is trial 1 with value: 0.0.\n",
      "Trial 3 finished with value: 0.022222222222222254 and parameters: {'classifier': 'QuadraticDiscriminantAnalysis', 'reg_param': 1.422653202378202e-07}. Best is trial 1 with value: 0.0.\n",
      "Trial 3 finished with value: 0.022222222222222254 and parameters: {'classifier': 'QuadraticDiscriminantAnalysis', 'reg_param': 1.422653202378202e-07}. Best is trial 1 with value: 0.0.\n"
     ]
    },
    {
     "name": "stderr",
     "output_type": "stream",
     "text": [
      "\u001b[32m[I 2022-11-15 13:53:12,777]\u001b[0m Trial 4 finished with value: 0.022222222222222254 and parameters: {'classifier': 'QuadraticDiscriminantAnalysis', 'reg_param': 5.882903362533181e-09}. Best is trial 1 with value: 0.0.\u001b[0m\n"
     ]
    },
    {
     "name": "stdout",
     "output_type": "stream",
     "text": [
      "Trial 4 finished with value: 0.022222222222222254 and parameters: {'classifier': 'QuadraticDiscriminantAnalysis', 'reg_param': 5.882903362533181e-09}. Best is trial 1 with value: 0.0.\n",
      "Trial 4 finished with value: 0.022222222222222254 and parameters: {'classifier': 'QuadraticDiscriminantAnalysis', 'reg_param': 5.882903362533181e-09}. Best is trial 1 with value: 0.0.\n",
      "Trial 4 finished with value: 0.022222222222222254 and parameters: {'classifier': 'QuadraticDiscriminantAnalysis', 'reg_param': 5.882903362533181e-09}. Best is trial 1 with value: 0.0.\n",
      "Trial 4 finished with value: 0.022222222222222254 and parameters: {'classifier': 'QuadraticDiscriminantAnalysis', 'reg_param': 5.882903362533181e-09}. Best is trial 1 with value: 0.0.\n",
      "Trial 4 finished with value: 0.022222222222222254 and parameters: {'classifier': 'QuadraticDiscriminantAnalysis', 'reg_param': 5.882903362533181e-09}. Best is trial 1 with value: 0.0.\n",
      "Trial 4 finished with value: 0.022222222222222254 and parameters: {'classifier': 'QuadraticDiscriminantAnalysis', 'reg_param': 5.882903362533181e-09}. Best is trial 1 with value: 0.0.\n",
      "Trial 4 finished with value: 0.022222222222222254 and parameters: {'classifier': 'QuadraticDiscriminantAnalysis', 'reg_param': 5.882903362533181e-09}. Best is trial 1 with value: 0.0.\n"
     ]
    }
   ],
   "source": [
    "optuna.logging.get_logger(\"optuna\").addHandler(logging.StreamHandler(sys.stdout))\n",
    "study = optuna.create_study(pruner=optuna.pruners.MedianPruner())\n",
    "study.optimize(objective, n_trials=5)"
   ]
  },
  {
   "cell_type": "code",
   "execution_count": 27,
   "id": "1d134616",
   "metadata": {},
   "outputs": [
    {
     "data": {
      "text/plain": [
       "{'classifier': 'QuadraticDiscriminantAnalysis',\n",
       " 'reg_param': 4.698999454076336e-06}"
      ]
     },
     "execution_count": 27,
     "metadata": {},
     "output_type": "execute_result"
    }
   ],
   "source": [
    "study.best_params"
   ]
  },
  {
   "cell_type": "code",
   "execution_count": 28,
   "id": "3f53ca3c",
   "metadata": {},
   "outputs": [],
   "source": [
    "from optuna.visualization import plot_contour\n",
    "from optuna.visualization import plot_edf\n",
    "from optuna.visualization import plot_intermediate_values\n",
    "from optuna.visualization import plot_optimization_history\n",
    "from optuna.visualization import plot_parallel_coordinate\n",
    "from optuna.visualization import plot_param_importances\n",
    "from optuna.visualization import plot_slice"
   ]
  },
  {
   "cell_type": "code",
   "execution_count": 29,
   "id": "215c1a34",
   "metadata": {},
   "outputs": [
    {
     "data": {
      "application/vnd.plotly.v1+json": {
       "config": {
        "plotlyServerURL": "https://plot.ly"
       },
       "data": [
        {
         "mode": "markers",
         "name": "Objective Value",
         "type": "scatter",
         "x": [
          0,
          1,
          2,
          3,
          4
         ],
         "y": [
          0.3111111111111111,
          0,
          0.0444444444444444,
          0.022222222222222254,
          0.022222222222222254
         ]
        },
        {
         "name": "Best Value",
         "type": "scatter",
         "x": [
          0,
          1,
          2,
          3,
          4
         ],
         "y": [
          0.3111111111111111,
          0,
          0,
          0,
          0
         ]
        }
       ],
       "layout": {
        "template": {
         "data": {
          "bar": [
           {
            "error_x": {
             "color": "#2a3f5f"
            },
            "error_y": {
             "color": "#2a3f5f"
            },
            "marker": {
             "line": {
              "color": "#E5ECF6",
              "width": 0.5
             },
             "pattern": {
              "fillmode": "overlay",
              "size": 10,
              "solidity": 0.2
             }
            },
            "type": "bar"
           }
          ],
          "barpolar": [
           {
            "marker": {
             "line": {
              "color": "#E5ECF6",
              "width": 0.5
             },
             "pattern": {
              "fillmode": "overlay",
              "size": 10,
              "solidity": 0.2
             }
            },
            "type": "barpolar"
           }
          ],
          "carpet": [
           {
            "aaxis": {
             "endlinecolor": "#2a3f5f",
             "gridcolor": "white",
             "linecolor": "white",
             "minorgridcolor": "white",
             "startlinecolor": "#2a3f5f"
            },
            "baxis": {
             "endlinecolor": "#2a3f5f",
             "gridcolor": "white",
             "linecolor": "white",
             "minorgridcolor": "white",
             "startlinecolor": "#2a3f5f"
            },
            "type": "carpet"
           }
          ],
          "choropleth": [
           {
            "colorbar": {
             "outlinewidth": 0,
             "ticks": ""
            },
            "type": "choropleth"
           }
          ],
          "contour": [
           {
            "colorbar": {
             "outlinewidth": 0,
             "ticks": ""
            },
            "colorscale": [
             [
              0,
              "#0d0887"
             ],
             [
              0.1111111111111111,
              "#46039f"
             ],
             [
              0.2222222222222222,
              "#7201a8"
             ],
             [
              0.3333333333333333,
              "#9c179e"
             ],
             [
              0.4444444444444444,
              "#bd3786"
             ],
             [
              0.5555555555555556,
              "#d8576b"
             ],
             [
              0.6666666666666666,
              "#ed7953"
             ],
             [
              0.7777777777777778,
              "#fb9f3a"
             ],
             [
              0.8888888888888888,
              "#fdca26"
             ],
             [
              1,
              "#f0f921"
             ]
            ],
            "type": "contour"
           }
          ],
          "contourcarpet": [
           {
            "colorbar": {
             "outlinewidth": 0,
             "ticks": ""
            },
            "type": "contourcarpet"
           }
          ],
          "heatmap": [
           {
            "colorbar": {
             "outlinewidth": 0,
             "ticks": ""
            },
            "colorscale": [
             [
              0,
              "#0d0887"
             ],
             [
              0.1111111111111111,
              "#46039f"
             ],
             [
              0.2222222222222222,
              "#7201a8"
             ],
             [
              0.3333333333333333,
              "#9c179e"
             ],
             [
              0.4444444444444444,
              "#bd3786"
             ],
             [
              0.5555555555555556,
              "#d8576b"
             ],
             [
              0.6666666666666666,
              "#ed7953"
             ],
             [
              0.7777777777777778,
              "#fb9f3a"
             ],
             [
              0.8888888888888888,
              "#fdca26"
             ],
             [
              1,
              "#f0f921"
             ]
            ],
            "type": "heatmap"
           }
          ],
          "heatmapgl": [
           {
            "colorbar": {
             "outlinewidth": 0,
             "ticks": ""
            },
            "colorscale": [
             [
              0,
              "#0d0887"
             ],
             [
              0.1111111111111111,
              "#46039f"
             ],
             [
              0.2222222222222222,
              "#7201a8"
             ],
             [
              0.3333333333333333,
              "#9c179e"
             ],
             [
              0.4444444444444444,
              "#bd3786"
             ],
             [
              0.5555555555555556,
              "#d8576b"
             ],
             [
              0.6666666666666666,
              "#ed7953"
             ],
             [
              0.7777777777777778,
              "#fb9f3a"
             ],
             [
              0.8888888888888888,
              "#fdca26"
             ],
             [
              1,
              "#f0f921"
             ]
            ],
            "type": "heatmapgl"
           }
          ],
          "histogram": [
           {
            "marker": {
             "pattern": {
              "fillmode": "overlay",
              "size": 10,
              "solidity": 0.2
             }
            },
            "type": "histogram"
           }
          ],
          "histogram2d": [
           {
            "colorbar": {
             "outlinewidth": 0,
             "ticks": ""
            },
            "colorscale": [
             [
              0,
              "#0d0887"
             ],
             [
              0.1111111111111111,
              "#46039f"
             ],
             [
              0.2222222222222222,
              "#7201a8"
             ],
             [
              0.3333333333333333,
              "#9c179e"
             ],
             [
              0.4444444444444444,
              "#bd3786"
             ],
             [
              0.5555555555555556,
              "#d8576b"
             ],
             [
              0.6666666666666666,
              "#ed7953"
             ],
             [
              0.7777777777777778,
              "#fb9f3a"
             ],
             [
              0.8888888888888888,
              "#fdca26"
             ],
             [
              1,
              "#f0f921"
             ]
            ],
            "type": "histogram2d"
           }
          ],
          "histogram2dcontour": [
           {
            "colorbar": {
             "outlinewidth": 0,
             "ticks": ""
            },
            "colorscale": [
             [
              0,
              "#0d0887"
             ],
             [
              0.1111111111111111,
              "#46039f"
             ],
             [
              0.2222222222222222,
              "#7201a8"
             ],
             [
              0.3333333333333333,
              "#9c179e"
             ],
             [
              0.4444444444444444,
              "#bd3786"
             ],
             [
              0.5555555555555556,
              "#d8576b"
             ],
             [
              0.6666666666666666,
              "#ed7953"
             ],
             [
              0.7777777777777778,
              "#fb9f3a"
             ],
             [
              0.8888888888888888,
              "#fdca26"
             ],
             [
              1,
              "#f0f921"
             ]
            ],
            "type": "histogram2dcontour"
           }
          ],
          "mesh3d": [
           {
            "colorbar": {
             "outlinewidth": 0,
             "ticks": ""
            },
            "type": "mesh3d"
           }
          ],
          "parcoords": [
           {
            "line": {
             "colorbar": {
              "outlinewidth": 0,
              "ticks": ""
             }
            },
            "type": "parcoords"
           }
          ],
          "pie": [
           {
            "automargin": true,
            "type": "pie"
           }
          ],
          "scatter": [
           {
            "fillpattern": {
             "fillmode": "overlay",
             "size": 10,
             "solidity": 0.2
            },
            "type": "scatter"
           }
          ],
          "scatter3d": [
           {
            "line": {
             "colorbar": {
              "outlinewidth": 0,
              "ticks": ""
             }
            },
            "marker": {
             "colorbar": {
              "outlinewidth": 0,
              "ticks": ""
             }
            },
            "type": "scatter3d"
           }
          ],
          "scattercarpet": [
           {
            "marker": {
             "colorbar": {
              "outlinewidth": 0,
              "ticks": ""
             }
            },
            "type": "scattercarpet"
           }
          ],
          "scattergeo": [
           {
            "marker": {
             "colorbar": {
              "outlinewidth": 0,
              "ticks": ""
             }
            },
            "type": "scattergeo"
           }
          ],
          "scattergl": [
           {
            "marker": {
             "colorbar": {
              "outlinewidth": 0,
              "ticks": ""
             }
            },
            "type": "scattergl"
           }
          ],
          "scattermapbox": [
           {
            "marker": {
             "colorbar": {
              "outlinewidth": 0,
              "ticks": ""
             }
            },
            "type": "scattermapbox"
           }
          ],
          "scatterpolar": [
           {
            "marker": {
             "colorbar": {
              "outlinewidth": 0,
              "ticks": ""
             }
            },
            "type": "scatterpolar"
           }
          ],
          "scatterpolargl": [
           {
            "marker": {
             "colorbar": {
              "outlinewidth": 0,
              "ticks": ""
             }
            },
            "type": "scatterpolargl"
           }
          ],
          "scatterternary": [
           {
            "marker": {
             "colorbar": {
              "outlinewidth": 0,
              "ticks": ""
             }
            },
            "type": "scatterternary"
           }
          ],
          "surface": [
           {
            "colorbar": {
             "outlinewidth": 0,
             "ticks": ""
            },
            "colorscale": [
             [
              0,
              "#0d0887"
             ],
             [
              0.1111111111111111,
              "#46039f"
             ],
             [
              0.2222222222222222,
              "#7201a8"
             ],
             [
              0.3333333333333333,
              "#9c179e"
             ],
             [
              0.4444444444444444,
              "#bd3786"
             ],
             [
              0.5555555555555556,
              "#d8576b"
             ],
             [
              0.6666666666666666,
              "#ed7953"
             ],
             [
              0.7777777777777778,
              "#fb9f3a"
             ],
             [
              0.8888888888888888,
              "#fdca26"
             ],
             [
              1,
              "#f0f921"
             ]
            ],
            "type": "surface"
           }
          ],
          "table": [
           {
            "cells": {
             "fill": {
              "color": "#EBF0F8"
             },
             "line": {
              "color": "white"
             }
            },
            "header": {
             "fill": {
              "color": "#C8D4E3"
             },
             "line": {
              "color": "white"
             }
            },
            "type": "table"
           }
          ]
         },
         "layout": {
          "annotationdefaults": {
           "arrowcolor": "#2a3f5f",
           "arrowhead": 0,
           "arrowwidth": 1
          },
          "autotypenumbers": "strict",
          "coloraxis": {
           "colorbar": {
            "outlinewidth": 0,
            "ticks": ""
           }
          },
          "colorscale": {
           "diverging": [
            [
             0,
             "#8e0152"
            ],
            [
             0.1,
             "#c51b7d"
            ],
            [
             0.2,
             "#de77ae"
            ],
            [
             0.3,
             "#f1b6da"
            ],
            [
             0.4,
             "#fde0ef"
            ],
            [
             0.5,
             "#f7f7f7"
            ],
            [
             0.6,
             "#e6f5d0"
            ],
            [
             0.7,
             "#b8e186"
            ],
            [
             0.8,
             "#7fbc41"
            ],
            [
             0.9,
             "#4d9221"
            ],
            [
             1,
             "#276419"
            ]
           ],
           "sequential": [
            [
             0,
             "#0d0887"
            ],
            [
             0.1111111111111111,
             "#46039f"
            ],
            [
             0.2222222222222222,
             "#7201a8"
            ],
            [
             0.3333333333333333,
             "#9c179e"
            ],
            [
             0.4444444444444444,
             "#bd3786"
            ],
            [
             0.5555555555555556,
             "#d8576b"
            ],
            [
             0.6666666666666666,
             "#ed7953"
            ],
            [
             0.7777777777777778,
             "#fb9f3a"
            ],
            [
             0.8888888888888888,
             "#fdca26"
            ],
            [
             1,
             "#f0f921"
            ]
           ],
           "sequentialminus": [
            [
             0,
             "#0d0887"
            ],
            [
             0.1111111111111111,
             "#46039f"
            ],
            [
             0.2222222222222222,
             "#7201a8"
            ],
            [
             0.3333333333333333,
             "#9c179e"
            ],
            [
             0.4444444444444444,
             "#bd3786"
            ],
            [
             0.5555555555555556,
             "#d8576b"
            ],
            [
             0.6666666666666666,
             "#ed7953"
            ],
            [
             0.7777777777777778,
             "#fb9f3a"
            ],
            [
             0.8888888888888888,
             "#fdca26"
            ],
            [
             1,
             "#f0f921"
            ]
           ]
          },
          "colorway": [
           "#636efa",
           "#EF553B",
           "#00cc96",
           "#ab63fa",
           "#FFA15A",
           "#19d3f3",
           "#FF6692",
           "#B6E880",
           "#FF97FF",
           "#FECB52"
          ],
          "font": {
           "color": "#2a3f5f"
          },
          "geo": {
           "bgcolor": "white",
           "lakecolor": "white",
           "landcolor": "#E5ECF6",
           "showlakes": true,
           "showland": true,
           "subunitcolor": "white"
          },
          "hoverlabel": {
           "align": "left"
          },
          "hovermode": "closest",
          "mapbox": {
           "style": "light"
          },
          "paper_bgcolor": "white",
          "plot_bgcolor": "#E5ECF6",
          "polar": {
           "angularaxis": {
            "gridcolor": "white",
            "linecolor": "white",
            "ticks": ""
           },
           "bgcolor": "#E5ECF6",
           "radialaxis": {
            "gridcolor": "white",
            "linecolor": "white",
            "ticks": ""
           }
          },
          "scene": {
           "xaxis": {
            "backgroundcolor": "#E5ECF6",
            "gridcolor": "white",
            "gridwidth": 2,
            "linecolor": "white",
            "showbackground": true,
            "ticks": "",
            "zerolinecolor": "white"
           },
           "yaxis": {
            "backgroundcolor": "#E5ECF6",
            "gridcolor": "white",
            "gridwidth": 2,
            "linecolor": "white",
            "showbackground": true,
            "ticks": "",
            "zerolinecolor": "white"
           },
           "zaxis": {
            "backgroundcolor": "#E5ECF6",
            "gridcolor": "white",
            "gridwidth": 2,
            "linecolor": "white",
            "showbackground": true,
            "ticks": "",
            "zerolinecolor": "white"
           }
          },
          "shapedefaults": {
           "line": {
            "color": "#2a3f5f"
           }
          },
          "ternary": {
           "aaxis": {
            "gridcolor": "white",
            "linecolor": "white",
            "ticks": ""
           },
           "baxis": {
            "gridcolor": "white",
            "linecolor": "white",
            "ticks": ""
           },
           "bgcolor": "#E5ECF6",
           "caxis": {
            "gridcolor": "white",
            "linecolor": "white",
            "ticks": ""
           }
          },
          "title": {
           "x": 0.05
          },
          "xaxis": {
           "automargin": true,
           "gridcolor": "white",
           "linecolor": "white",
           "ticks": "",
           "title": {
            "standoff": 15
           },
           "zerolinecolor": "white",
           "zerolinewidth": 2
          },
          "yaxis": {
           "automargin": true,
           "gridcolor": "white",
           "linecolor": "white",
           "ticks": "",
           "title": {
            "standoff": 15
           },
           "zerolinecolor": "white",
           "zerolinewidth": 2
          }
         }
        },
        "title": {
         "text": "Optimization History Plot"
        },
        "xaxis": {
         "title": {
          "text": "Trial"
         }
        },
        "yaxis": {
         "title": {
          "text": "Objective Value"
         }
        }
       }
      },
      "text/html": [
       "<div>                            <div id=\"20d9756c-2f60-438c-88fc-751d01ceed6b\" class=\"plotly-graph-div\" style=\"height:525px; width:100%;\"></div>            <script type=\"text/javascript\">                require([\"plotly\"], function(Plotly) {                    window.PLOTLYENV=window.PLOTLYENV || {};                                    if (document.getElementById(\"20d9756c-2f60-438c-88fc-751d01ceed6b\")) {                    Plotly.newPlot(                        \"20d9756c-2f60-438c-88fc-751d01ceed6b\",                        [{\"mode\":\"markers\",\"name\":\"Objective Value\",\"x\":[0,1,2,3,4],\"y\":[0.3111111111111111,0.0,0.0444444444444444,0.022222222222222254,0.022222222222222254],\"type\":\"scatter\"},{\"name\":\"Best Value\",\"x\":[0,1,2,3,4],\"y\":[0.3111111111111111,0.0,0.0,0.0,0.0],\"type\":\"scatter\"}],                        {\"title\":{\"text\":\"Optimization History Plot\"},\"xaxis\":{\"title\":{\"text\":\"Trial\"}},\"yaxis\":{\"title\":{\"text\":\"Objective Value\"}},\"template\":{\"data\":{\"histogram2dcontour\":[{\"type\":\"histogram2dcontour\",\"colorbar\":{\"outlinewidth\":0,\"ticks\":\"\"},\"colorscale\":[[0.0,\"#0d0887\"],[0.1111111111111111,\"#46039f\"],[0.2222222222222222,\"#7201a8\"],[0.3333333333333333,\"#9c179e\"],[0.4444444444444444,\"#bd3786\"],[0.5555555555555556,\"#d8576b\"],[0.6666666666666666,\"#ed7953\"],[0.7777777777777778,\"#fb9f3a\"],[0.8888888888888888,\"#fdca26\"],[1.0,\"#f0f921\"]]}],\"choropleth\":[{\"type\":\"choropleth\",\"colorbar\":{\"outlinewidth\":0,\"ticks\":\"\"}}],\"histogram2d\":[{\"type\":\"histogram2d\",\"colorbar\":{\"outlinewidth\":0,\"ticks\":\"\"},\"colorscale\":[[0.0,\"#0d0887\"],[0.1111111111111111,\"#46039f\"],[0.2222222222222222,\"#7201a8\"],[0.3333333333333333,\"#9c179e\"],[0.4444444444444444,\"#bd3786\"],[0.5555555555555556,\"#d8576b\"],[0.6666666666666666,\"#ed7953\"],[0.7777777777777778,\"#fb9f3a\"],[0.8888888888888888,\"#fdca26\"],[1.0,\"#f0f921\"]]}],\"heatmap\":[{\"type\":\"heatmap\",\"colorbar\":{\"outlinewidth\":0,\"ticks\":\"\"},\"colorscale\":[[0.0,\"#0d0887\"],[0.1111111111111111,\"#46039f\"],[0.2222222222222222,\"#7201a8\"],[0.3333333333333333,\"#9c179e\"],[0.4444444444444444,\"#bd3786\"],[0.5555555555555556,\"#d8576b\"],[0.6666666666666666,\"#ed7953\"],[0.7777777777777778,\"#fb9f3a\"],[0.8888888888888888,\"#fdca26\"],[1.0,\"#f0f921\"]]}],\"heatmapgl\":[{\"type\":\"heatmapgl\",\"colorbar\":{\"outlinewidth\":0,\"ticks\":\"\"},\"colorscale\":[[0.0,\"#0d0887\"],[0.1111111111111111,\"#46039f\"],[0.2222222222222222,\"#7201a8\"],[0.3333333333333333,\"#9c179e\"],[0.4444444444444444,\"#bd3786\"],[0.5555555555555556,\"#d8576b\"],[0.6666666666666666,\"#ed7953\"],[0.7777777777777778,\"#fb9f3a\"],[0.8888888888888888,\"#fdca26\"],[1.0,\"#f0f921\"]]}],\"contourcarpet\":[{\"type\":\"contourcarpet\",\"colorbar\":{\"outlinewidth\":0,\"ticks\":\"\"}}],\"contour\":[{\"type\":\"contour\",\"colorbar\":{\"outlinewidth\":0,\"ticks\":\"\"},\"colorscale\":[[0.0,\"#0d0887\"],[0.1111111111111111,\"#46039f\"],[0.2222222222222222,\"#7201a8\"],[0.3333333333333333,\"#9c179e\"],[0.4444444444444444,\"#bd3786\"],[0.5555555555555556,\"#d8576b\"],[0.6666666666666666,\"#ed7953\"],[0.7777777777777778,\"#fb9f3a\"],[0.8888888888888888,\"#fdca26\"],[1.0,\"#f0f921\"]]}],\"surface\":[{\"type\":\"surface\",\"colorbar\":{\"outlinewidth\":0,\"ticks\":\"\"},\"colorscale\":[[0.0,\"#0d0887\"],[0.1111111111111111,\"#46039f\"],[0.2222222222222222,\"#7201a8\"],[0.3333333333333333,\"#9c179e\"],[0.4444444444444444,\"#bd3786\"],[0.5555555555555556,\"#d8576b\"],[0.6666666666666666,\"#ed7953\"],[0.7777777777777778,\"#fb9f3a\"],[0.8888888888888888,\"#fdca26\"],[1.0,\"#f0f921\"]]}],\"mesh3d\":[{\"type\":\"mesh3d\",\"colorbar\":{\"outlinewidth\":0,\"ticks\":\"\"}}],\"scatter\":[{\"fillpattern\":{\"fillmode\":\"overlay\",\"size\":10,\"solidity\":0.2},\"type\":\"scatter\"}],\"parcoords\":[{\"type\":\"parcoords\",\"line\":{\"colorbar\":{\"outlinewidth\":0,\"ticks\":\"\"}}}],\"scatterpolargl\":[{\"type\":\"scatterpolargl\",\"marker\":{\"colorbar\":{\"outlinewidth\":0,\"ticks\":\"\"}}}],\"bar\":[{\"error_x\":{\"color\":\"#2a3f5f\"},\"error_y\":{\"color\":\"#2a3f5f\"},\"marker\":{\"line\":{\"color\":\"#E5ECF6\",\"width\":0.5},\"pattern\":{\"fillmode\":\"overlay\",\"size\":10,\"solidity\":0.2}},\"type\":\"bar\"}],\"scattergeo\":[{\"type\":\"scattergeo\",\"marker\":{\"colorbar\":{\"outlinewidth\":0,\"ticks\":\"\"}}}],\"scatterpolar\":[{\"type\":\"scatterpolar\",\"marker\":{\"colorbar\":{\"outlinewidth\":0,\"ticks\":\"\"}}}],\"histogram\":[{\"marker\":{\"pattern\":{\"fillmode\":\"overlay\",\"size\":10,\"solidity\":0.2}},\"type\":\"histogram\"}],\"scattergl\":[{\"type\":\"scattergl\",\"marker\":{\"colorbar\":{\"outlinewidth\":0,\"ticks\":\"\"}}}],\"scatter3d\":[{\"type\":\"scatter3d\",\"line\":{\"colorbar\":{\"outlinewidth\":0,\"ticks\":\"\"}},\"marker\":{\"colorbar\":{\"outlinewidth\":0,\"ticks\":\"\"}}}],\"scattermapbox\":[{\"type\":\"scattermapbox\",\"marker\":{\"colorbar\":{\"outlinewidth\":0,\"ticks\":\"\"}}}],\"scatterternary\":[{\"type\":\"scatterternary\",\"marker\":{\"colorbar\":{\"outlinewidth\":0,\"ticks\":\"\"}}}],\"scattercarpet\":[{\"type\":\"scattercarpet\",\"marker\":{\"colorbar\":{\"outlinewidth\":0,\"ticks\":\"\"}}}],\"carpet\":[{\"aaxis\":{\"endlinecolor\":\"#2a3f5f\",\"gridcolor\":\"white\",\"linecolor\":\"white\",\"minorgridcolor\":\"white\",\"startlinecolor\":\"#2a3f5f\"},\"baxis\":{\"endlinecolor\":\"#2a3f5f\",\"gridcolor\":\"white\",\"linecolor\":\"white\",\"minorgridcolor\":\"white\",\"startlinecolor\":\"#2a3f5f\"},\"type\":\"carpet\"}],\"table\":[{\"cells\":{\"fill\":{\"color\":\"#EBF0F8\"},\"line\":{\"color\":\"white\"}},\"header\":{\"fill\":{\"color\":\"#C8D4E3\"},\"line\":{\"color\":\"white\"}},\"type\":\"table\"}],\"barpolar\":[{\"marker\":{\"line\":{\"color\":\"#E5ECF6\",\"width\":0.5},\"pattern\":{\"fillmode\":\"overlay\",\"size\":10,\"solidity\":0.2}},\"type\":\"barpolar\"}],\"pie\":[{\"automargin\":true,\"type\":\"pie\"}]},\"layout\":{\"autotypenumbers\":\"strict\",\"colorway\":[\"#636efa\",\"#EF553B\",\"#00cc96\",\"#ab63fa\",\"#FFA15A\",\"#19d3f3\",\"#FF6692\",\"#B6E880\",\"#FF97FF\",\"#FECB52\"],\"font\":{\"color\":\"#2a3f5f\"},\"hovermode\":\"closest\",\"hoverlabel\":{\"align\":\"left\"},\"paper_bgcolor\":\"white\",\"plot_bgcolor\":\"#E5ECF6\",\"polar\":{\"bgcolor\":\"#E5ECF6\",\"angularaxis\":{\"gridcolor\":\"white\",\"linecolor\":\"white\",\"ticks\":\"\"},\"radialaxis\":{\"gridcolor\":\"white\",\"linecolor\":\"white\",\"ticks\":\"\"}},\"ternary\":{\"bgcolor\":\"#E5ECF6\",\"aaxis\":{\"gridcolor\":\"white\",\"linecolor\":\"white\",\"ticks\":\"\"},\"baxis\":{\"gridcolor\":\"white\",\"linecolor\":\"white\",\"ticks\":\"\"},\"caxis\":{\"gridcolor\":\"white\",\"linecolor\":\"white\",\"ticks\":\"\"}},\"coloraxis\":{\"colorbar\":{\"outlinewidth\":0,\"ticks\":\"\"}},\"colorscale\":{\"sequential\":[[0.0,\"#0d0887\"],[0.1111111111111111,\"#46039f\"],[0.2222222222222222,\"#7201a8\"],[0.3333333333333333,\"#9c179e\"],[0.4444444444444444,\"#bd3786\"],[0.5555555555555556,\"#d8576b\"],[0.6666666666666666,\"#ed7953\"],[0.7777777777777778,\"#fb9f3a\"],[0.8888888888888888,\"#fdca26\"],[1.0,\"#f0f921\"]],\"sequentialminus\":[[0.0,\"#0d0887\"],[0.1111111111111111,\"#46039f\"],[0.2222222222222222,\"#7201a8\"],[0.3333333333333333,\"#9c179e\"],[0.4444444444444444,\"#bd3786\"],[0.5555555555555556,\"#d8576b\"],[0.6666666666666666,\"#ed7953\"],[0.7777777777777778,\"#fb9f3a\"],[0.8888888888888888,\"#fdca26\"],[1.0,\"#f0f921\"]],\"diverging\":[[0,\"#8e0152\"],[0.1,\"#c51b7d\"],[0.2,\"#de77ae\"],[0.3,\"#f1b6da\"],[0.4,\"#fde0ef\"],[0.5,\"#f7f7f7\"],[0.6,\"#e6f5d0\"],[0.7,\"#b8e186\"],[0.8,\"#7fbc41\"],[0.9,\"#4d9221\"],[1,\"#276419\"]]},\"xaxis\":{\"gridcolor\":\"white\",\"linecolor\":\"white\",\"ticks\":\"\",\"title\":{\"standoff\":15},\"zerolinecolor\":\"white\",\"automargin\":true,\"zerolinewidth\":2},\"yaxis\":{\"gridcolor\":\"white\",\"linecolor\":\"white\",\"ticks\":\"\",\"title\":{\"standoff\":15},\"zerolinecolor\":\"white\",\"automargin\":true,\"zerolinewidth\":2},\"scene\":{\"xaxis\":{\"backgroundcolor\":\"#E5ECF6\",\"gridcolor\":\"white\",\"linecolor\":\"white\",\"showbackground\":true,\"ticks\":\"\",\"zerolinecolor\":\"white\",\"gridwidth\":2},\"yaxis\":{\"backgroundcolor\":\"#E5ECF6\",\"gridcolor\":\"white\",\"linecolor\":\"white\",\"showbackground\":true,\"ticks\":\"\",\"zerolinecolor\":\"white\",\"gridwidth\":2},\"zaxis\":{\"backgroundcolor\":\"#E5ECF6\",\"gridcolor\":\"white\",\"linecolor\":\"white\",\"showbackground\":true,\"ticks\":\"\",\"zerolinecolor\":\"white\",\"gridwidth\":2}},\"shapedefaults\":{\"line\":{\"color\":\"#2a3f5f\"}},\"annotationdefaults\":{\"arrowcolor\":\"#2a3f5f\",\"arrowhead\":0,\"arrowwidth\":1},\"geo\":{\"bgcolor\":\"white\",\"landcolor\":\"#E5ECF6\",\"subunitcolor\":\"white\",\"showland\":true,\"showlakes\":true,\"lakecolor\":\"white\"},\"title\":{\"x\":0.05},\"mapbox\":{\"style\":\"light\"}}}},                        {\"responsive\": true}                    ).then(function(){\n",
       "                            \n",
       "var gd = document.getElementById('20d9756c-2f60-438c-88fc-751d01ceed6b');\n",
       "var x = new MutationObserver(function (mutations, observer) {{\n",
       "        var display = window.getComputedStyle(gd).display;\n",
       "        if (!display || display === 'none') {{\n",
       "            console.log([gd, 'removed!']);\n",
       "            Plotly.purge(gd);\n",
       "            observer.disconnect();\n",
       "        }}\n",
       "}});\n",
       "\n",
       "// Listen for the removal of the full notebook cells\n",
       "var notebookContainer = gd.closest('#notebook-container');\n",
       "if (notebookContainer) {{\n",
       "    x.observe(notebookContainer, {childList: true});\n",
       "}}\n",
       "\n",
       "// Listen for the clearing of the current output cell\n",
       "var outputEl = gd.closest('.output');\n",
       "if (outputEl) {{\n",
       "    x.observe(outputEl, {childList: true});\n",
       "}}\n",
       "\n",
       "                        })                };                });            </script>        </div>"
      ]
     },
     "metadata": {},
     "output_type": "display_data"
    }
   ],
   "source": [
    "plot_optimization_history(study)"
   ]
  },
  {
   "cell_type": "code",
   "execution_count": 30,
   "id": "78e2f7cf",
   "metadata": {},
   "outputs": [
    {
     "data": {
      "application/vnd.plotly.v1+json": {
       "config": {
        "plotlyServerURL": "https://plot.ly"
       },
       "data": [
        {
         "marker": {
          "maxdisplayed": 10
         },
         "mode": "lines+markers",
         "name": "Trial0",
         "type": "scatter",
         "x": [
          0,
          1,
          2,
          3,
          4,
          5,
          6,
          7,
          8,
          9,
          10,
          11,
          12,
          13,
          14,
          15,
          16,
          17,
          18,
          19,
          20,
          21,
          22,
          23,
          24,
          25,
          26,
          27,
          28,
          29,
          30,
          31,
          32,
          33,
          34,
          35,
          36,
          37,
          38,
          39,
          40,
          41,
          42,
          43,
          44,
          45,
          46,
          47,
          48,
          49
         ],
         "y": [
          0.2222222222222222,
          0.37777777777777777,
          0.1333333333333333,
          0.2222222222222222,
          0.2666666666666667,
          0.24444444444444446,
          0.24444444444444446,
          0.15555555555555556,
          0.19999999999999996,
          0.1333333333333333,
          0.2222222222222222,
          0.15555555555555556,
          0.3111111111111111,
          0.3555555555555555,
          0.1333333333333333,
          0.33333333333333337,
          0.11111111111111116,
          0.28888888888888886,
          0.19999999999999996,
          0.24444444444444446,
          0.15555555555555556,
          0.1777777777777778,
          0.33333333333333337,
          0.1777777777777778,
          0.15555555555555556,
          0.15555555555555556,
          0.11111111111111116,
          0.1777777777777778,
          0.2666666666666667,
          0.1777777777777778,
          0.3555555555555555,
          0.4,
          0.1777777777777778,
          0.19999999999999996,
          0.24444444444444446,
          0.1333333333333333,
          0.06666666666666665,
          0.15555555555555556,
          0.1333333333333333,
          0.19999999999999996,
          0.0888888888888889,
          0.24444444444444446,
          0.0888888888888889,
          0.0888888888888889,
          0.4444444444444444,
          0.1777777777777778,
          0.2222222222222222,
          0.19999999999999996,
          0.33333333333333337,
          0.3111111111111111
         ]
        },
        {
         "marker": {
          "maxdisplayed": 10
         },
         "mode": "lines+markers",
         "name": "Trial1",
         "type": "scatter",
         "x": [
          0,
          1,
          2,
          3,
          4,
          5,
          6,
          7,
          8,
          9,
          10,
          11,
          12,
          13,
          14,
          15,
          16,
          17,
          18,
          19,
          20,
          21,
          22,
          23,
          24,
          25,
          26,
          27,
          28,
          29,
          30,
          31,
          32,
          33,
          34,
          35,
          36,
          37,
          38,
          39,
          40,
          41,
          42,
          43,
          44,
          45,
          46,
          47,
          48,
          49
         ],
         "y": [
          0,
          0,
          0,
          0,
          0,
          0,
          0,
          0,
          0,
          0,
          0,
          0,
          0,
          0,
          0,
          0,
          0,
          0,
          0,
          0,
          0,
          0,
          0,
          0,
          0,
          0,
          0,
          0,
          0,
          0,
          0,
          0,
          0,
          0,
          0,
          0,
          0,
          0,
          0,
          0,
          0,
          0,
          0,
          0,
          0,
          0,
          0,
          0,
          0,
          0
         ]
        },
        {
         "marker": {
          "maxdisplayed": 10
         },
         "mode": "lines+markers",
         "name": "Trial2",
         "type": "scatter",
         "x": [
          0,
          1,
          2,
          3,
          4,
          5,
          6,
          7,
          8,
          9,
          10,
          11,
          12,
          13,
          14,
          15,
          16,
          17,
          18,
          19,
          20,
          21,
          22,
          23,
          24,
          25,
          26,
          27,
          28,
          29,
          30,
          31,
          32,
          33,
          34,
          35,
          36,
          37,
          38,
          39,
          40,
          41,
          42,
          43,
          44,
          45,
          46,
          47,
          48,
          49
         ],
         "y": [
          0.0444444444444444,
          0.0444444444444444,
          0.0444444444444444,
          0.0444444444444444,
          0.0444444444444444,
          0.0444444444444444,
          0.0444444444444444,
          0.0444444444444444,
          0.0444444444444444,
          0.0444444444444444,
          0.0444444444444444,
          0.0444444444444444,
          0.0444444444444444,
          0.0444444444444444,
          0.0444444444444444,
          0.0444444444444444,
          0.0444444444444444,
          0.0444444444444444,
          0.0444444444444444,
          0.0444444444444444,
          0.0444444444444444,
          0.0444444444444444,
          0.0444444444444444,
          0.0444444444444444,
          0.0444444444444444,
          0.0444444444444444,
          0.0444444444444444,
          0.0444444444444444,
          0.0444444444444444,
          0.0444444444444444,
          0.0444444444444444,
          0.0444444444444444,
          0.0444444444444444,
          0.0444444444444444,
          0.0444444444444444,
          0.0444444444444444,
          0.0444444444444444,
          0.0444444444444444,
          0.0444444444444444,
          0.0444444444444444,
          0.0444444444444444,
          0.0444444444444444,
          0.0444444444444444,
          0.0444444444444444,
          0.0444444444444444,
          0.0444444444444444,
          0.0444444444444444,
          0.0444444444444444,
          0.0444444444444444,
          0.0444444444444444
         ]
        },
        {
         "marker": {
          "maxdisplayed": 10
         },
         "mode": "lines+markers",
         "name": "Trial3",
         "type": "scatter",
         "x": [
          0,
          1,
          2,
          3,
          4,
          5,
          6,
          7,
          8,
          9,
          10,
          11,
          12,
          13,
          14,
          15,
          16,
          17,
          18,
          19,
          20,
          21,
          22,
          23,
          24,
          25,
          26,
          27,
          28,
          29,
          30,
          31,
          32,
          33,
          34,
          35,
          36,
          37,
          38,
          39,
          40,
          41,
          42,
          43,
          44,
          45,
          46,
          47,
          48,
          49
         ],
         "y": [
          0.022222222222222254,
          0.022222222222222254,
          0.022222222222222254,
          0.022222222222222254,
          0.022222222222222254,
          0.022222222222222254,
          0.022222222222222254,
          0.022222222222222254,
          0.022222222222222254,
          0.022222222222222254,
          0.022222222222222254,
          0.022222222222222254,
          0.022222222222222254,
          0.022222222222222254,
          0.022222222222222254,
          0.022222222222222254,
          0.022222222222222254,
          0.022222222222222254,
          0.022222222222222254,
          0.022222222222222254,
          0.022222222222222254,
          0.022222222222222254,
          0.022222222222222254,
          0.022222222222222254,
          0.022222222222222254,
          0.022222222222222254,
          0.022222222222222254,
          0.022222222222222254,
          0.022222222222222254,
          0.022222222222222254,
          0.022222222222222254,
          0.022222222222222254,
          0.022222222222222254,
          0.022222222222222254,
          0.022222222222222254,
          0.022222222222222254,
          0.022222222222222254,
          0.022222222222222254,
          0.022222222222222254,
          0.022222222222222254,
          0.022222222222222254,
          0.022222222222222254,
          0.022222222222222254,
          0.022222222222222254,
          0.022222222222222254,
          0.022222222222222254,
          0.022222222222222254,
          0.022222222222222254,
          0.022222222222222254,
          0.022222222222222254
         ]
        },
        {
         "marker": {
          "maxdisplayed": 10
         },
         "mode": "lines+markers",
         "name": "Trial4",
         "type": "scatter",
         "x": [
          0,
          1,
          2,
          3,
          4,
          5,
          6,
          7,
          8,
          9,
          10,
          11,
          12,
          13,
          14,
          15,
          16,
          17,
          18,
          19,
          20,
          21,
          22,
          23,
          24,
          25,
          26,
          27,
          28,
          29,
          30,
          31,
          32,
          33,
          34,
          35,
          36,
          37,
          38,
          39,
          40,
          41,
          42,
          43,
          44,
          45,
          46,
          47,
          48,
          49
         ],
         "y": [
          0.022222222222222254,
          0.022222222222222254,
          0.022222222222222254,
          0.022222222222222254,
          0.022222222222222254,
          0.022222222222222254,
          0.022222222222222254,
          0.022222222222222254,
          0.022222222222222254,
          0.022222222222222254,
          0.022222222222222254,
          0.022222222222222254,
          0.022222222222222254,
          0.022222222222222254,
          0.022222222222222254,
          0.022222222222222254,
          0.022222222222222254,
          0.022222222222222254,
          0.022222222222222254,
          0.022222222222222254,
          0.022222222222222254,
          0.022222222222222254,
          0.022222222222222254,
          0.022222222222222254,
          0.022222222222222254,
          0.022222222222222254,
          0.022222222222222254,
          0.022222222222222254,
          0.022222222222222254,
          0.022222222222222254,
          0.022222222222222254,
          0.022222222222222254,
          0.022222222222222254,
          0.022222222222222254,
          0.022222222222222254,
          0.022222222222222254,
          0.022222222222222254,
          0.022222222222222254,
          0.022222222222222254,
          0.022222222222222254,
          0.022222222222222254,
          0.022222222222222254,
          0.022222222222222254,
          0.022222222222222254,
          0.022222222222222254,
          0.022222222222222254,
          0.022222222222222254,
          0.022222222222222254,
          0.022222222222222254,
          0.022222222222222254
         ]
        }
       ],
       "layout": {
        "showlegend": false,
        "template": {
         "data": {
          "bar": [
           {
            "error_x": {
             "color": "#2a3f5f"
            },
            "error_y": {
             "color": "#2a3f5f"
            },
            "marker": {
             "line": {
              "color": "#E5ECF6",
              "width": 0.5
             },
             "pattern": {
              "fillmode": "overlay",
              "size": 10,
              "solidity": 0.2
             }
            },
            "type": "bar"
           }
          ],
          "barpolar": [
           {
            "marker": {
             "line": {
              "color": "#E5ECF6",
              "width": 0.5
             },
             "pattern": {
              "fillmode": "overlay",
              "size": 10,
              "solidity": 0.2
             }
            },
            "type": "barpolar"
           }
          ],
          "carpet": [
           {
            "aaxis": {
             "endlinecolor": "#2a3f5f",
             "gridcolor": "white",
             "linecolor": "white",
             "minorgridcolor": "white",
             "startlinecolor": "#2a3f5f"
            },
            "baxis": {
             "endlinecolor": "#2a3f5f",
             "gridcolor": "white",
             "linecolor": "white",
             "minorgridcolor": "white",
             "startlinecolor": "#2a3f5f"
            },
            "type": "carpet"
           }
          ],
          "choropleth": [
           {
            "colorbar": {
             "outlinewidth": 0,
             "ticks": ""
            },
            "type": "choropleth"
           }
          ],
          "contour": [
           {
            "colorbar": {
             "outlinewidth": 0,
             "ticks": ""
            },
            "colorscale": [
             [
              0,
              "#0d0887"
             ],
             [
              0.1111111111111111,
              "#46039f"
             ],
             [
              0.2222222222222222,
              "#7201a8"
             ],
             [
              0.3333333333333333,
              "#9c179e"
             ],
             [
              0.4444444444444444,
              "#bd3786"
             ],
             [
              0.5555555555555556,
              "#d8576b"
             ],
             [
              0.6666666666666666,
              "#ed7953"
             ],
             [
              0.7777777777777778,
              "#fb9f3a"
             ],
             [
              0.8888888888888888,
              "#fdca26"
             ],
             [
              1,
              "#f0f921"
             ]
            ],
            "type": "contour"
           }
          ],
          "contourcarpet": [
           {
            "colorbar": {
             "outlinewidth": 0,
             "ticks": ""
            },
            "type": "contourcarpet"
           }
          ],
          "heatmap": [
           {
            "colorbar": {
             "outlinewidth": 0,
             "ticks": ""
            },
            "colorscale": [
             [
              0,
              "#0d0887"
             ],
             [
              0.1111111111111111,
              "#46039f"
             ],
             [
              0.2222222222222222,
              "#7201a8"
             ],
             [
              0.3333333333333333,
              "#9c179e"
             ],
             [
              0.4444444444444444,
              "#bd3786"
             ],
             [
              0.5555555555555556,
              "#d8576b"
             ],
             [
              0.6666666666666666,
              "#ed7953"
             ],
             [
              0.7777777777777778,
              "#fb9f3a"
             ],
             [
              0.8888888888888888,
              "#fdca26"
             ],
             [
              1,
              "#f0f921"
             ]
            ],
            "type": "heatmap"
           }
          ],
          "heatmapgl": [
           {
            "colorbar": {
             "outlinewidth": 0,
             "ticks": ""
            },
            "colorscale": [
             [
              0,
              "#0d0887"
             ],
             [
              0.1111111111111111,
              "#46039f"
             ],
             [
              0.2222222222222222,
              "#7201a8"
             ],
             [
              0.3333333333333333,
              "#9c179e"
             ],
             [
              0.4444444444444444,
              "#bd3786"
             ],
             [
              0.5555555555555556,
              "#d8576b"
             ],
             [
              0.6666666666666666,
              "#ed7953"
             ],
             [
              0.7777777777777778,
              "#fb9f3a"
             ],
             [
              0.8888888888888888,
              "#fdca26"
             ],
             [
              1,
              "#f0f921"
             ]
            ],
            "type": "heatmapgl"
           }
          ],
          "histogram": [
           {
            "marker": {
             "pattern": {
              "fillmode": "overlay",
              "size": 10,
              "solidity": 0.2
             }
            },
            "type": "histogram"
           }
          ],
          "histogram2d": [
           {
            "colorbar": {
             "outlinewidth": 0,
             "ticks": ""
            },
            "colorscale": [
             [
              0,
              "#0d0887"
             ],
             [
              0.1111111111111111,
              "#46039f"
             ],
             [
              0.2222222222222222,
              "#7201a8"
             ],
             [
              0.3333333333333333,
              "#9c179e"
             ],
             [
              0.4444444444444444,
              "#bd3786"
             ],
             [
              0.5555555555555556,
              "#d8576b"
             ],
             [
              0.6666666666666666,
              "#ed7953"
             ],
             [
              0.7777777777777778,
              "#fb9f3a"
             ],
             [
              0.8888888888888888,
              "#fdca26"
             ],
             [
              1,
              "#f0f921"
             ]
            ],
            "type": "histogram2d"
           }
          ],
          "histogram2dcontour": [
           {
            "colorbar": {
             "outlinewidth": 0,
             "ticks": ""
            },
            "colorscale": [
             [
              0,
              "#0d0887"
             ],
             [
              0.1111111111111111,
              "#46039f"
             ],
             [
              0.2222222222222222,
              "#7201a8"
             ],
             [
              0.3333333333333333,
              "#9c179e"
             ],
             [
              0.4444444444444444,
              "#bd3786"
             ],
             [
              0.5555555555555556,
              "#d8576b"
             ],
             [
              0.6666666666666666,
              "#ed7953"
             ],
             [
              0.7777777777777778,
              "#fb9f3a"
             ],
             [
              0.8888888888888888,
              "#fdca26"
             ],
             [
              1,
              "#f0f921"
             ]
            ],
            "type": "histogram2dcontour"
           }
          ],
          "mesh3d": [
           {
            "colorbar": {
             "outlinewidth": 0,
             "ticks": ""
            },
            "type": "mesh3d"
           }
          ],
          "parcoords": [
           {
            "line": {
             "colorbar": {
              "outlinewidth": 0,
              "ticks": ""
             }
            },
            "type": "parcoords"
           }
          ],
          "pie": [
           {
            "automargin": true,
            "type": "pie"
           }
          ],
          "scatter": [
           {
            "fillpattern": {
             "fillmode": "overlay",
             "size": 10,
             "solidity": 0.2
            },
            "type": "scatter"
           }
          ],
          "scatter3d": [
           {
            "line": {
             "colorbar": {
              "outlinewidth": 0,
              "ticks": ""
             }
            },
            "marker": {
             "colorbar": {
              "outlinewidth": 0,
              "ticks": ""
             }
            },
            "type": "scatter3d"
           }
          ],
          "scattercarpet": [
           {
            "marker": {
             "colorbar": {
              "outlinewidth": 0,
              "ticks": ""
             }
            },
            "type": "scattercarpet"
           }
          ],
          "scattergeo": [
           {
            "marker": {
             "colorbar": {
              "outlinewidth": 0,
              "ticks": ""
             }
            },
            "type": "scattergeo"
           }
          ],
          "scattergl": [
           {
            "marker": {
             "colorbar": {
              "outlinewidth": 0,
              "ticks": ""
             }
            },
            "type": "scattergl"
           }
          ],
          "scattermapbox": [
           {
            "marker": {
             "colorbar": {
              "outlinewidth": 0,
              "ticks": ""
             }
            },
            "type": "scattermapbox"
           }
          ],
          "scatterpolar": [
           {
            "marker": {
             "colorbar": {
              "outlinewidth": 0,
              "ticks": ""
             }
            },
            "type": "scatterpolar"
           }
          ],
          "scatterpolargl": [
           {
            "marker": {
             "colorbar": {
              "outlinewidth": 0,
              "ticks": ""
             }
            },
            "type": "scatterpolargl"
           }
          ],
          "scatterternary": [
           {
            "marker": {
             "colorbar": {
              "outlinewidth": 0,
              "ticks": ""
             }
            },
            "type": "scatterternary"
           }
          ],
          "surface": [
           {
            "colorbar": {
             "outlinewidth": 0,
             "ticks": ""
            },
            "colorscale": [
             [
              0,
              "#0d0887"
             ],
             [
              0.1111111111111111,
              "#46039f"
             ],
             [
              0.2222222222222222,
              "#7201a8"
             ],
             [
              0.3333333333333333,
              "#9c179e"
             ],
             [
              0.4444444444444444,
              "#bd3786"
             ],
             [
              0.5555555555555556,
              "#d8576b"
             ],
             [
              0.6666666666666666,
              "#ed7953"
             ],
             [
              0.7777777777777778,
              "#fb9f3a"
             ],
             [
              0.8888888888888888,
              "#fdca26"
             ],
             [
              1,
              "#f0f921"
             ]
            ],
            "type": "surface"
           }
          ],
          "table": [
           {
            "cells": {
             "fill": {
              "color": "#EBF0F8"
             },
             "line": {
              "color": "white"
             }
            },
            "header": {
             "fill": {
              "color": "#C8D4E3"
             },
             "line": {
              "color": "white"
             }
            },
            "type": "table"
           }
          ]
         },
         "layout": {
          "annotationdefaults": {
           "arrowcolor": "#2a3f5f",
           "arrowhead": 0,
           "arrowwidth": 1
          },
          "autotypenumbers": "strict",
          "coloraxis": {
           "colorbar": {
            "outlinewidth": 0,
            "ticks": ""
           }
          },
          "colorscale": {
           "diverging": [
            [
             0,
             "#8e0152"
            ],
            [
             0.1,
             "#c51b7d"
            ],
            [
             0.2,
             "#de77ae"
            ],
            [
             0.3,
             "#f1b6da"
            ],
            [
             0.4,
             "#fde0ef"
            ],
            [
             0.5,
             "#f7f7f7"
            ],
            [
             0.6,
             "#e6f5d0"
            ],
            [
             0.7,
             "#b8e186"
            ],
            [
             0.8,
             "#7fbc41"
            ],
            [
             0.9,
             "#4d9221"
            ],
            [
             1,
             "#276419"
            ]
           ],
           "sequential": [
            [
             0,
             "#0d0887"
            ],
            [
             0.1111111111111111,
             "#46039f"
            ],
            [
             0.2222222222222222,
             "#7201a8"
            ],
            [
             0.3333333333333333,
             "#9c179e"
            ],
            [
             0.4444444444444444,
             "#bd3786"
            ],
            [
             0.5555555555555556,
             "#d8576b"
            ],
            [
             0.6666666666666666,
             "#ed7953"
            ],
            [
             0.7777777777777778,
             "#fb9f3a"
            ],
            [
             0.8888888888888888,
             "#fdca26"
            ],
            [
             1,
             "#f0f921"
            ]
           ],
           "sequentialminus": [
            [
             0,
             "#0d0887"
            ],
            [
             0.1111111111111111,
             "#46039f"
            ],
            [
             0.2222222222222222,
             "#7201a8"
            ],
            [
             0.3333333333333333,
             "#9c179e"
            ],
            [
             0.4444444444444444,
             "#bd3786"
            ],
            [
             0.5555555555555556,
             "#d8576b"
            ],
            [
             0.6666666666666666,
             "#ed7953"
            ],
            [
             0.7777777777777778,
             "#fb9f3a"
            ],
            [
             0.8888888888888888,
             "#fdca26"
            ],
            [
             1,
             "#f0f921"
            ]
           ]
          },
          "colorway": [
           "#636efa",
           "#EF553B",
           "#00cc96",
           "#ab63fa",
           "#FFA15A",
           "#19d3f3",
           "#FF6692",
           "#B6E880",
           "#FF97FF",
           "#FECB52"
          ],
          "font": {
           "color": "#2a3f5f"
          },
          "geo": {
           "bgcolor": "white",
           "lakecolor": "white",
           "landcolor": "#E5ECF6",
           "showlakes": true,
           "showland": true,
           "subunitcolor": "white"
          },
          "hoverlabel": {
           "align": "left"
          },
          "hovermode": "closest",
          "mapbox": {
           "style": "light"
          },
          "paper_bgcolor": "white",
          "plot_bgcolor": "#E5ECF6",
          "polar": {
           "angularaxis": {
            "gridcolor": "white",
            "linecolor": "white",
            "ticks": ""
           },
           "bgcolor": "#E5ECF6",
           "radialaxis": {
            "gridcolor": "white",
            "linecolor": "white",
            "ticks": ""
           }
          },
          "scene": {
           "xaxis": {
            "backgroundcolor": "#E5ECF6",
            "gridcolor": "white",
            "gridwidth": 2,
            "linecolor": "white",
            "showbackground": true,
            "ticks": "",
            "zerolinecolor": "white"
           },
           "yaxis": {
            "backgroundcolor": "#E5ECF6",
            "gridcolor": "white",
            "gridwidth": 2,
            "linecolor": "white",
            "showbackground": true,
            "ticks": "",
            "zerolinecolor": "white"
           },
           "zaxis": {
            "backgroundcolor": "#E5ECF6",
            "gridcolor": "white",
            "gridwidth": 2,
            "linecolor": "white",
            "showbackground": true,
            "ticks": "",
            "zerolinecolor": "white"
           }
          },
          "shapedefaults": {
           "line": {
            "color": "#2a3f5f"
           }
          },
          "ternary": {
           "aaxis": {
            "gridcolor": "white",
            "linecolor": "white",
            "ticks": ""
           },
           "baxis": {
            "gridcolor": "white",
            "linecolor": "white",
            "ticks": ""
           },
           "bgcolor": "#E5ECF6",
           "caxis": {
            "gridcolor": "white",
            "linecolor": "white",
            "ticks": ""
           }
          },
          "title": {
           "x": 0.05
          },
          "xaxis": {
           "automargin": true,
           "gridcolor": "white",
           "linecolor": "white",
           "ticks": "",
           "title": {
            "standoff": 15
           },
           "zerolinecolor": "white",
           "zerolinewidth": 2
          },
          "yaxis": {
           "automargin": true,
           "gridcolor": "white",
           "linecolor": "white",
           "ticks": "",
           "title": {
            "standoff": 15
           },
           "zerolinecolor": "white",
           "zerolinewidth": 2
          }
         }
        },
        "title": {
         "text": "Intermediate Values Plot"
        },
        "xaxis": {
         "title": {
          "text": "Step"
         }
        },
        "yaxis": {
         "title": {
          "text": "Intermediate Value"
         }
        }
       }
      },
      "text/html": [
       "<div>                            <div id=\"7e8da1c8-f247-4d70-97eb-3ed4ad4e12eb\" class=\"plotly-graph-div\" style=\"height:525px; width:100%;\"></div>            <script type=\"text/javascript\">                require([\"plotly\"], function(Plotly) {                    window.PLOTLYENV=window.PLOTLYENV || {};                                    if (document.getElementById(\"7e8da1c8-f247-4d70-97eb-3ed4ad4e12eb\")) {                    Plotly.newPlot(                        \"7e8da1c8-f247-4d70-97eb-3ed4ad4e12eb\",                        [{\"marker\":{\"maxdisplayed\":10},\"mode\":\"lines+markers\",\"name\":\"Trial0\",\"x\":[0,1,2,3,4,5,6,7,8,9,10,11,12,13,14,15,16,17,18,19,20,21,22,23,24,25,26,27,28,29,30,31,32,33,34,35,36,37,38,39,40,41,42,43,44,45,46,47,48,49],\"y\":[0.2222222222222222,0.37777777777777777,0.1333333333333333,0.2222222222222222,0.2666666666666667,0.24444444444444446,0.24444444444444446,0.15555555555555556,0.19999999999999996,0.1333333333333333,0.2222222222222222,0.15555555555555556,0.3111111111111111,0.3555555555555555,0.1333333333333333,0.33333333333333337,0.11111111111111116,0.28888888888888886,0.19999999999999996,0.24444444444444446,0.15555555555555556,0.1777777777777778,0.33333333333333337,0.1777777777777778,0.15555555555555556,0.15555555555555556,0.11111111111111116,0.1777777777777778,0.2666666666666667,0.1777777777777778,0.3555555555555555,0.4,0.1777777777777778,0.19999999999999996,0.24444444444444446,0.1333333333333333,0.06666666666666665,0.15555555555555556,0.1333333333333333,0.19999999999999996,0.0888888888888889,0.24444444444444446,0.0888888888888889,0.0888888888888889,0.4444444444444444,0.1777777777777778,0.2222222222222222,0.19999999999999996,0.33333333333333337,0.3111111111111111],\"type\":\"scatter\"},{\"marker\":{\"maxdisplayed\":10},\"mode\":\"lines+markers\",\"name\":\"Trial1\",\"x\":[0,1,2,3,4,5,6,7,8,9,10,11,12,13,14,15,16,17,18,19,20,21,22,23,24,25,26,27,28,29,30,31,32,33,34,35,36,37,38,39,40,41,42,43,44,45,46,47,48,49],\"y\":[0.0,0.0,0.0,0.0,0.0,0.0,0.0,0.0,0.0,0.0,0.0,0.0,0.0,0.0,0.0,0.0,0.0,0.0,0.0,0.0,0.0,0.0,0.0,0.0,0.0,0.0,0.0,0.0,0.0,0.0,0.0,0.0,0.0,0.0,0.0,0.0,0.0,0.0,0.0,0.0,0.0,0.0,0.0,0.0,0.0,0.0,0.0,0.0,0.0,0.0],\"type\":\"scatter\"},{\"marker\":{\"maxdisplayed\":10},\"mode\":\"lines+markers\",\"name\":\"Trial2\",\"x\":[0,1,2,3,4,5,6,7,8,9,10,11,12,13,14,15,16,17,18,19,20,21,22,23,24,25,26,27,28,29,30,31,32,33,34,35,36,37,38,39,40,41,42,43,44,45,46,47,48,49],\"y\":[0.0444444444444444,0.0444444444444444,0.0444444444444444,0.0444444444444444,0.0444444444444444,0.0444444444444444,0.0444444444444444,0.0444444444444444,0.0444444444444444,0.0444444444444444,0.0444444444444444,0.0444444444444444,0.0444444444444444,0.0444444444444444,0.0444444444444444,0.0444444444444444,0.0444444444444444,0.0444444444444444,0.0444444444444444,0.0444444444444444,0.0444444444444444,0.0444444444444444,0.0444444444444444,0.0444444444444444,0.0444444444444444,0.0444444444444444,0.0444444444444444,0.0444444444444444,0.0444444444444444,0.0444444444444444,0.0444444444444444,0.0444444444444444,0.0444444444444444,0.0444444444444444,0.0444444444444444,0.0444444444444444,0.0444444444444444,0.0444444444444444,0.0444444444444444,0.0444444444444444,0.0444444444444444,0.0444444444444444,0.0444444444444444,0.0444444444444444,0.0444444444444444,0.0444444444444444,0.0444444444444444,0.0444444444444444,0.0444444444444444,0.0444444444444444],\"type\":\"scatter\"},{\"marker\":{\"maxdisplayed\":10},\"mode\":\"lines+markers\",\"name\":\"Trial3\",\"x\":[0,1,2,3,4,5,6,7,8,9,10,11,12,13,14,15,16,17,18,19,20,21,22,23,24,25,26,27,28,29,30,31,32,33,34,35,36,37,38,39,40,41,42,43,44,45,46,47,48,49],\"y\":[0.022222222222222254,0.022222222222222254,0.022222222222222254,0.022222222222222254,0.022222222222222254,0.022222222222222254,0.022222222222222254,0.022222222222222254,0.022222222222222254,0.022222222222222254,0.022222222222222254,0.022222222222222254,0.022222222222222254,0.022222222222222254,0.022222222222222254,0.022222222222222254,0.022222222222222254,0.022222222222222254,0.022222222222222254,0.022222222222222254,0.022222222222222254,0.022222222222222254,0.022222222222222254,0.022222222222222254,0.022222222222222254,0.022222222222222254,0.022222222222222254,0.022222222222222254,0.022222222222222254,0.022222222222222254,0.022222222222222254,0.022222222222222254,0.022222222222222254,0.022222222222222254,0.022222222222222254,0.022222222222222254,0.022222222222222254,0.022222222222222254,0.022222222222222254,0.022222222222222254,0.022222222222222254,0.022222222222222254,0.022222222222222254,0.022222222222222254,0.022222222222222254,0.022222222222222254,0.022222222222222254,0.022222222222222254,0.022222222222222254,0.022222222222222254],\"type\":\"scatter\"},{\"marker\":{\"maxdisplayed\":10},\"mode\":\"lines+markers\",\"name\":\"Trial4\",\"x\":[0,1,2,3,4,5,6,7,8,9,10,11,12,13,14,15,16,17,18,19,20,21,22,23,24,25,26,27,28,29,30,31,32,33,34,35,36,37,38,39,40,41,42,43,44,45,46,47,48,49],\"y\":[0.022222222222222254,0.022222222222222254,0.022222222222222254,0.022222222222222254,0.022222222222222254,0.022222222222222254,0.022222222222222254,0.022222222222222254,0.022222222222222254,0.022222222222222254,0.022222222222222254,0.022222222222222254,0.022222222222222254,0.022222222222222254,0.022222222222222254,0.022222222222222254,0.022222222222222254,0.022222222222222254,0.022222222222222254,0.022222222222222254,0.022222222222222254,0.022222222222222254,0.022222222222222254,0.022222222222222254,0.022222222222222254,0.022222222222222254,0.022222222222222254,0.022222222222222254,0.022222222222222254,0.022222222222222254,0.022222222222222254,0.022222222222222254,0.022222222222222254,0.022222222222222254,0.022222222222222254,0.022222222222222254,0.022222222222222254,0.022222222222222254,0.022222222222222254,0.022222222222222254,0.022222222222222254,0.022222222222222254,0.022222222222222254,0.022222222222222254,0.022222222222222254,0.022222222222222254,0.022222222222222254,0.022222222222222254,0.022222222222222254,0.022222222222222254],\"type\":\"scatter\"}],                        {\"showlegend\":false,\"title\":{\"text\":\"Intermediate Values Plot\"},\"xaxis\":{\"title\":{\"text\":\"Step\"}},\"yaxis\":{\"title\":{\"text\":\"Intermediate Value\"}},\"template\":{\"data\":{\"histogram2dcontour\":[{\"type\":\"histogram2dcontour\",\"colorbar\":{\"outlinewidth\":0,\"ticks\":\"\"},\"colorscale\":[[0.0,\"#0d0887\"],[0.1111111111111111,\"#46039f\"],[0.2222222222222222,\"#7201a8\"],[0.3333333333333333,\"#9c179e\"],[0.4444444444444444,\"#bd3786\"],[0.5555555555555556,\"#d8576b\"],[0.6666666666666666,\"#ed7953\"],[0.7777777777777778,\"#fb9f3a\"],[0.8888888888888888,\"#fdca26\"],[1.0,\"#f0f921\"]]}],\"choropleth\":[{\"type\":\"choropleth\",\"colorbar\":{\"outlinewidth\":0,\"ticks\":\"\"}}],\"histogram2d\":[{\"type\":\"histogram2d\",\"colorbar\":{\"outlinewidth\":0,\"ticks\":\"\"},\"colorscale\":[[0.0,\"#0d0887\"],[0.1111111111111111,\"#46039f\"],[0.2222222222222222,\"#7201a8\"],[0.3333333333333333,\"#9c179e\"],[0.4444444444444444,\"#bd3786\"],[0.5555555555555556,\"#d8576b\"],[0.6666666666666666,\"#ed7953\"],[0.7777777777777778,\"#fb9f3a\"],[0.8888888888888888,\"#fdca26\"],[1.0,\"#f0f921\"]]}],\"heatmap\":[{\"type\":\"heatmap\",\"colorbar\":{\"outlinewidth\":0,\"ticks\":\"\"},\"colorscale\":[[0.0,\"#0d0887\"],[0.1111111111111111,\"#46039f\"],[0.2222222222222222,\"#7201a8\"],[0.3333333333333333,\"#9c179e\"],[0.4444444444444444,\"#bd3786\"],[0.5555555555555556,\"#d8576b\"],[0.6666666666666666,\"#ed7953\"],[0.7777777777777778,\"#fb9f3a\"],[0.8888888888888888,\"#fdca26\"],[1.0,\"#f0f921\"]]}],\"heatmapgl\":[{\"type\":\"heatmapgl\",\"colorbar\":{\"outlinewidth\":0,\"ticks\":\"\"},\"colorscale\":[[0.0,\"#0d0887\"],[0.1111111111111111,\"#46039f\"],[0.2222222222222222,\"#7201a8\"],[0.3333333333333333,\"#9c179e\"],[0.4444444444444444,\"#bd3786\"],[0.5555555555555556,\"#d8576b\"],[0.6666666666666666,\"#ed7953\"],[0.7777777777777778,\"#fb9f3a\"],[0.8888888888888888,\"#fdca26\"],[1.0,\"#f0f921\"]]}],\"contourcarpet\":[{\"type\":\"contourcarpet\",\"colorbar\":{\"outlinewidth\":0,\"ticks\":\"\"}}],\"contour\":[{\"type\":\"contour\",\"colorbar\":{\"outlinewidth\":0,\"ticks\":\"\"},\"colorscale\":[[0.0,\"#0d0887\"],[0.1111111111111111,\"#46039f\"],[0.2222222222222222,\"#7201a8\"],[0.3333333333333333,\"#9c179e\"],[0.4444444444444444,\"#bd3786\"],[0.5555555555555556,\"#d8576b\"],[0.6666666666666666,\"#ed7953\"],[0.7777777777777778,\"#fb9f3a\"],[0.8888888888888888,\"#fdca26\"],[1.0,\"#f0f921\"]]}],\"surface\":[{\"type\":\"surface\",\"colorbar\":{\"outlinewidth\":0,\"ticks\":\"\"},\"colorscale\":[[0.0,\"#0d0887\"],[0.1111111111111111,\"#46039f\"],[0.2222222222222222,\"#7201a8\"],[0.3333333333333333,\"#9c179e\"],[0.4444444444444444,\"#bd3786\"],[0.5555555555555556,\"#d8576b\"],[0.6666666666666666,\"#ed7953\"],[0.7777777777777778,\"#fb9f3a\"],[0.8888888888888888,\"#fdca26\"],[1.0,\"#f0f921\"]]}],\"mesh3d\":[{\"type\":\"mesh3d\",\"colorbar\":{\"outlinewidth\":0,\"ticks\":\"\"}}],\"scatter\":[{\"fillpattern\":{\"fillmode\":\"overlay\",\"size\":10,\"solidity\":0.2},\"type\":\"scatter\"}],\"parcoords\":[{\"type\":\"parcoords\",\"line\":{\"colorbar\":{\"outlinewidth\":0,\"ticks\":\"\"}}}],\"scatterpolargl\":[{\"type\":\"scatterpolargl\",\"marker\":{\"colorbar\":{\"outlinewidth\":0,\"ticks\":\"\"}}}],\"bar\":[{\"error_x\":{\"color\":\"#2a3f5f\"},\"error_y\":{\"color\":\"#2a3f5f\"},\"marker\":{\"line\":{\"color\":\"#E5ECF6\",\"width\":0.5},\"pattern\":{\"fillmode\":\"overlay\",\"size\":10,\"solidity\":0.2}},\"type\":\"bar\"}],\"scattergeo\":[{\"type\":\"scattergeo\",\"marker\":{\"colorbar\":{\"outlinewidth\":0,\"ticks\":\"\"}}}],\"scatterpolar\":[{\"type\":\"scatterpolar\",\"marker\":{\"colorbar\":{\"outlinewidth\":0,\"ticks\":\"\"}}}],\"histogram\":[{\"marker\":{\"pattern\":{\"fillmode\":\"overlay\",\"size\":10,\"solidity\":0.2}},\"type\":\"histogram\"}],\"scattergl\":[{\"type\":\"scattergl\",\"marker\":{\"colorbar\":{\"outlinewidth\":0,\"ticks\":\"\"}}}],\"scatter3d\":[{\"type\":\"scatter3d\",\"line\":{\"colorbar\":{\"outlinewidth\":0,\"ticks\":\"\"}},\"marker\":{\"colorbar\":{\"outlinewidth\":0,\"ticks\":\"\"}}}],\"scattermapbox\":[{\"type\":\"scattermapbox\",\"marker\":{\"colorbar\":{\"outlinewidth\":0,\"ticks\":\"\"}}}],\"scatterternary\":[{\"type\":\"scatterternary\",\"marker\":{\"colorbar\":{\"outlinewidth\":0,\"ticks\":\"\"}}}],\"scattercarpet\":[{\"type\":\"scattercarpet\",\"marker\":{\"colorbar\":{\"outlinewidth\":0,\"ticks\":\"\"}}}],\"carpet\":[{\"aaxis\":{\"endlinecolor\":\"#2a3f5f\",\"gridcolor\":\"white\",\"linecolor\":\"white\",\"minorgridcolor\":\"white\",\"startlinecolor\":\"#2a3f5f\"},\"baxis\":{\"endlinecolor\":\"#2a3f5f\",\"gridcolor\":\"white\",\"linecolor\":\"white\",\"minorgridcolor\":\"white\",\"startlinecolor\":\"#2a3f5f\"},\"type\":\"carpet\"}],\"table\":[{\"cells\":{\"fill\":{\"color\":\"#EBF0F8\"},\"line\":{\"color\":\"white\"}},\"header\":{\"fill\":{\"color\":\"#C8D4E3\"},\"line\":{\"color\":\"white\"}},\"type\":\"table\"}],\"barpolar\":[{\"marker\":{\"line\":{\"color\":\"#E5ECF6\",\"width\":0.5},\"pattern\":{\"fillmode\":\"overlay\",\"size\":10,\"solidity\":0.2}},\"type\":\"barpolar\"}],\"pie\":[{\"automargin\":true,\"type\":\"pie\"}]},\"layout\":{\"autotypenumbers\":\"strict\",\"colorway\":[\"#636efa\",\"#EF553B\",\"#00cc96\",\"#ab63fa\",\"#FFA15A\",\"#19d3f3\",\"#FF6692\",\"#B6E880\",\"#FF97FF\",\"#FECB52\"],\"font\":{\"color\":\"#2a3f5f\"},\"hovermode\":\"closest\",\"hoverlabel\":{\"align\":\"left\"},\"paper_bgcolor\":\"white\",\"plot_bgcolor\":\"#E5ECF6\",\"polar\":{\"bgcolor\":\"#E5ECF6\",\"angularaxis\":{\"gridcolor\":\"white\",\"linecolor\":\"white\",\"ticks\":\"\"},\"radialaxis\":{\"gridcolor\":\"white\",\"linecolor\":\"white\",\"ticks\":\"\"}},\"ternary\":{\"bgcolor\":\"#E5ECF6\",\"aaxis\":{\"gridcolor\":\"white\",\"linecolor\":\"white\",\"ticks\":\"\"},\"baxis\":{\"gridcolor\":\"white\",\"linecolor\":\"white\",\"ticks\":\"\"},\"caxis\":{\"gridcolor\":\"white\",\"linecolor\":\"white\",\"ticks\":\"\"}},\"coloraxis\":{\"colorbar\":{\"outlinewidth\":0,\"ticks\":\"\"}},\"colorscale\":{\"sequential\":[[0.0,\"#0d0887\"],[0.1111111111111111,\"#46039f\"],[0.2222222222222222,\"#7201a8\"],[0.3333333333333333,\"#9c179e\"],[0.4444444444444444,\"#bd3786\"],[0.5555555555555556,\"#d8576b\"],[0.6666666666666666,\"#ed7953\"],[0.7777777777777778,\"#fb9f3a\"],[0.8888888888888888,\"#fdca26\"],[1.0,\"#f0f921\"]],\"sequentialminus\":[[0.0,\"#0d0887\"],[0.1111111111111111,\"#46039f\"],[0.2222222222222222,\"#7201a8\"],[0.3333333333333333,\"#9c179e\"],[0.4444444444444444,\"#bd3786\"],[0.5555555555555556,\"#d8576b\"],[0.6666666666666666,\"#ed7953\"],[0.7777777777777778,\"#fb9f3a\"],[0.8888888888888888,\"#fdca26\"],[1.0,\"#f0f921\"]],\"diverging\":[[0,\"#8e0152\"],[0.1,\"#c51b7d\"],[0.2,\"#de77ae\"],[0.3,\"#f1b6da\"],[0.4,\"#fde0ef\"],[0.5,\"#f7f7f7\"],[0.6,\"#e6f5d0\"],[0.7,\"#b8e186\"],[0.8,\"#7fbc41\"],[0.9,\"#4d9221\"],[1,\"#276419\"]]},\"xaxis\":{\"gridcolor\":\"white\",\"linecolor\":\"white\",\"ticks\":\"\",\"title\":{\"standoff\":15},\"zerolinecolor\":\"white\",\"automargin\":true,\"zerolinewidth\":2},\"yaxis\":{\"gridcolor\":\"white\",\"linecolor\":\"white\",\"ticks\":\"\",\"title\":{\"standoff\":15},\"zerolinecolor\":\"white\",\"automargin\":true,\"zerolinewidth\":2},\"scene\":{\"xaxis\":{\"backgroundcolor\":\"#E5ECF6\",\"gridcolor\":\"white\",\"linecolor\":\"white\",\"showbackground\":true,\"ticks\":\"\",\"zerolinecolor\":\"white\",\"gridwidth\":2},\"yaxis\":{\"backgroundcolor\":\"#E5ECF6\",\"gridcolor\":\"white\",\"linecolor\":\"white\",\"showbackground\":true,\"ticks\":\"\",\"zerolinecolor\":\"white\",\"gridwidth\":2},\"zaxis\":{\"backgroundcolor\":\"#E5ECF6\",\"gridcolor\":\"white\",\"linecolor\":\"white\",\"showbackground\":true,\"ticks\":\"\",\"zerolinecolor\":\"white\",\"gridwidth\":2}},\"shapedefaults\":{\"line\":{\"color\":\"#2a3f5f\"}},\"annotationdefaults\":{\"arrowcolor\":\"#2a3f5f\",\"arrowhead\":0,\"arrowwidth\":1},\"geo\":{\"bgcolor\":\"white\",\"landcolor\":\"#E5ECF6\",\"subunitcolor\":\"white\",\"showland\":true,\"showlakes\":true,\"lakecolor\":\"white\"},\"title\":{\"x\":0.05},\"mapbox\":{\"style\":\"light\"}}}},                        {\"responsive\": true}                    ).then(function(){\n",
       "                            \n",
       "var gd = document.getElementById('7e8da1c8-f247-4d70-97eb-3ed4ad4e12eb');\n",
       "var x = new MutationObserver(function (mutations, observer) {{\n",
       "        var display = window.getComputedStyle(gd).display;\n",
       "        if (!display || display === 'none') {{\n",
       "            console.log([gd, 'removed!']);\n",
       "            Plotly.purge(gd);\n",
       "            observer.disconnect();\n",
       "        }}\n",
       "}});\n",
       "\n",
       "// Listen for the removal of the full notebook cells\n",
       "var notebookContainer = gd.closest('#notebook-container');\n",
       "if (notebookContainer) {{\n",
       "    x.observe(notebookContainer, {childList: true});\n",
       "}}\n",
       "\n",
       "// Listen for the clearing of the current output cell\n",
       "var outputEl = gd.closest('.output');\n",
       "if (outputEl) {{\n",
       "    x.observe(outputEl, {childList: true});\n",
       "}}\n",
       "\n",
       "                        })                };                });            </script>        </div>"
      ]
     },
     "metadata": {},
     "output_type": "display_data"
    }
   ],
   "source": [
    "plot_intermediate_values(study)"
   ]
  },
  {
   "cell_type": "code",
   "execution_count": 31,
   "id": "88c60992",
   "metadata": {},
   "outputs": [
    {
     "data": {
      "application/vnd.plotly.v1+json": {
       "config": {
        "plotlyServerURL": "https://plot.ly"
       },
       "data": [
        {
         "marker": {
          "color": [
           0,
           1,
           2,
           3,
           4
          ],
          "colorbar": {
           "title": {
            "text": "Trial"
           },
           "x": 1,
           "xpad": 40
          },
          "colorscale": [
           [
            0,
            "rgb(247,251,255)"
           ],
           [
            0.125,
            "rgb(222,235,247)"
           ],
           [
            0.25,
            "rgb(198,219,239)"
           ],
           [
            0.375,
            "rgb(158,202,225)"
           ],
           [
            0.5,
            "rgb(107,174,214)"
           ],
           [
            0.625,
            "rgb(66,146,198)"
           ],
           [
            0.75,
            "rgb(33,113,181)"
           ],
           [
            0.875,
            "rgb(8,81,156)"
           ],
           [
            1,
            "rgb(8,48,107)"
           ]
          ],
          "line": {
           "color": "Grey",
           "width": 0.5
          },
          "showscale": true
         },
         "mode": "markers",
         "showlegend": false,
         "type": "scatter",
         "x": [
          "DecisionTree",
          "QuadraticDiscriminantAnalysis",
          "QuadraticDiscriminantAnalysis",
          "QuadraticDiscriminantAnalysis",
          "QuadraticDiscriminantAnalysis"
         ],
         "xaxis": "x",
         "y": [
          0.3111111111111111,
          0,
          0.0444444444444444,
          0.022222222222222254,
          0.022222222222222254
         ],
         "yaxis": "y"
        },
        {
         "marker": {
          "color": [
           0
          ],
          "colorbar": {
           "title": {
            "text": "Trial"
           },
           "x": 1,
           "xpad": 40
          },
          "colorscale": [
           [
            0,
            "rgb(247,251,255)"
           ],
           [
            0.125,
            "rgb(222,235,247)"
           ],
           [
            0.25,
            "rgb(198,219,239)"
           ],
           [
            0.375,
            "rgb(158,202,225)"
           ],
           [
            0.5,
            "rgb(107,174,214)"
           ],
           [
            0.625,
            "rgb(66,146,198)"
           ],
           [
            0.75,
            "rgb(33,113,181)"
           ],
           [
            0.875,
            "rgb(8,81,156)"
           ],
           [
            1,
            "rgb(8,48,107)"
           ]
          ],
          "line": {
           "color": "Grey",
           "width": 0.5
          },
          "showscale": false
         },
         "mode": "markers",
         "showlegend": false,
         "type": "scatter",
         "x": [
          "log_loss"
         ],
         "xaxis": "x2",
         "y": [
          0.3111111111111111
         ],
         "yaxis": "y2"
        },
        {
         "marker": {
          "color": [
           1,
           2,
           3,
           4
          ],
          "colorbar": {
           "title": {
            "text": "Trial"
           },
           "x": 1,
           "xpad": 40
          },
          "colorscale": [
           [
            0,
            "rgb(247,251,255)"
           ],
           [
            0.125,
            "rgb(222,235,247)"
           ],
           [
            0.25,
            "rgb(198,219,239)"
           ],
           [
            0.375,
            "rgb(158,202,225)"
           ],
           [
            0.5,
            "rgb(107,174,214)"
           ],
           [
            0.625,
            "rgb(66,146,198)"
           ],
           [
            0.75,
            "rgb(33,113,181)"
           ],
           [
            0.875,
            "rgb(8,81,156)"
           ],
           [
            1,
            "rgb(8,48,107)"
           ]
          ],
          "line": {
           "color": "Grey",
           "width": 0.5
          },
          "showscale": false
         },
         "mode": "markers",
         "showlegend": false,
         "type": "scatter",
         "x": [
          4.698999454076336e-06,
          0.3751249810984533,
          1.422653202378202e-07,
          5.882903362533181e-09
         ],
         "xaxis": "x3",
         "y": [
          0,
          0.0444444444444444,
          0.022222222222222254,
          0.022222222222222254
         ],
         "yaxis": "y3"
        },
        {
         "marker": {
          "color": [
           0
          ],
          "colorbar": {
           "title": {
            "text": "Trial"
           },
           "x": 1,
           "xpad": 40
          },
          "colorscale": [
           [
            0,
            "rgb(247,251,255)"
           ],
           [
            0.125,
            "rgb(222,235,247)"
           ],
           [
            0.25,
            "rgb(198,219,239)"
           ],
           [
            0.375,
            "rgb(158,202,225)"
           ],
           [
            0.5,
            "rgb(107,174,214)"
           ],
           [
            0.625,
            "rgb(66,146,198)"
           ],
           [
            0.75,
            "rgb(33,113,181)"
           ],
           [
            0.875,
            "rgb(8,81,156)"
           ],
           [
            1,
            "rgb(8,48,107)"
           ]
          ],
          "line": {
           "color": "Grey",
           "width": 0.5
          },
          "showscale": false
         },
         "mode": "markers",
         "showlegend": false,
         "type": "scatter",
         "x": [
          2
         ],
         "xaxis": "x4",
         "y": [
          0.3111111111111111
         ],
         "yaxis": "y4"
        },
        {
         "marker": {
          "color": [
           0
          ],
          "colorbar": {
           "title": {
            "text": "Trial"
           },
           "x": 1,
           "xpad": 40
          },
          "colorscale": [
           [
            0,
            "rgb(247,251,255)"
           ],
           [
            0.125,
            "rgb(222,235,247)"
           ],
           [
            0.25,
            "rgb(198,219,239)"
           ],
           [
            0.375,
            "rgb(158,202,225)"
           ],
           [
            0.5,
            "rgb(107,174,214)"
           ],
           [
            0.625,
            "rgb(66,146,198)"
           ],
           [
            0.75,
            "rgb(33,113,181)"
           ],
           [
            0.875,
            "rgb(8,81,156)"
           ],
           [
            1,
            "rgb(8,48,107)"
           ]
          ],
          "line": {
           "color": "Grey",
           "width": 0.5
          },
          "showscale": false
         },
         "mode": "markers",
         "showlegend": false,
         "type": "scatter",
         "x": [
          "random"
         ],
         "xaxis": "x5",
         "y": [
          0.3111111111111111
         ],
         "yaxis": "y5"
        }
       ],
       "layout": {
        "template": {
         "data": {
          "bar": [
           {
            "error_x": {
             "color": "#2a3f5f"
            },
            "error_y": {
             "color": "#2a3f5f"
            },
            "marker": {
             "line": {
              "color": "#E5ECF6",
              "width": 0.5
             },
             "pattern": {
              "fillmode": "overlay",
              "size": 10,
              "solidity": 0.2
             }
            },
            "type": "bar"
           }
          ],
          "barpolar": [
           {
            "marker": {
             "line": {
              "color": "#E5ECF6",
              "width": 0.5
             },
             "pattern": {
              "fillmode": "overlay",
              "size": 10,
              "solidity": 0.2
             }
            },
            "type": "barpolar"
           }
          ],
          "carpet": [
           {
            "aaxis": {
             "endlinecolor": "#2a3f5f",
             "gridcolor": "white",
             "linecolor": "white",
             "minorgridcolor": "white",
             "startlinecolor": "#2a3f5f"
            },
            "baxis": {
             "endlinecolor": "#2a3f5f",
             "gridcolor": "white",
             "linecolor": "white",
             "minorgridcolor": "white",
             "startlinecolor": "#2a3f5f"
            },
            "type": "carpet"
           }
          ],
          "choropleth": [
           {
            "colorbar": {
             "outlinewidth": 0,
             "ticks": ""
            },
            "type": "choropleth"
           }
          ],
          "contour": [
           {
            "colorbar": {
             "outlinewidth": 0,
             "ticks": ""
            },
            "colorscale": [
             [
              0,
              "#0d0887"
             ],
             [
              0.1111111111111111,
              "#46039f"
             ],
             [
              0.2222222222222222,
              "#7201a8"
             ],
             [
              0.3333333333333333,
              "#9c179e"
             ],
             [
              0.4444444444444444,
              "#bd3786"
             ],
             [
              0.5555555555555556,
              "#d8576b"
             ],
             [
              0.6666666666666666,
              "#ed7953"
             ],
             [
              0.7777777777777778,
              "#fb9f3a"
             ],
             [
              0.8888888888888888,
              "#fdca26"
             ],
             [
              1,
              "#f0f921"
             ]
            ],
            "type": "contour"
           }
          ],
          "contourcarpet": [
           {
            "colorbar": {
             "outlinewidth": 0,
             "ticks": ""
            },
            "type": "contourcarpet"
           }
          ],
          "heatmap": [
           {
            "colorbar": {
             "outlinewidth": 0,
             "ticks": ""
            },
            "colorscale": [
             [
              0,
              "#0d0887"
             ],
             [
              0.1111111111111111,
              "#46039f"
             ],
             [
              0.2222222222222222,
              "#7201a8"
             ],
             [
              0.3333333333333333,
              "#9c179e"
             ],
             [
              0.4444444444444444,
              "#bd3786"
             ],
             [
              0.5555555555555556,
              "#d8576b"
             ],
             [
              0.6666666666666666,
              "#ed7953"
             ],
             [
              0.7777777777777778,
              "#fb9f3a"
             ],
             [
              0.8888888888888888,
              "#fdca26"
             ],
             [
              1,
              "#f0f921"
             ]
            ],
            "type": "heatmap"
           }
          ],
          "heatmapgl": [
           {
            "colorbar": {
             "outlinewidth": 0,
             "ticks": ""
            },
            "colorscale": [
             [
              0,
              "#0d0887"
             ],
             [
              0.1111111111111111,
              "#46039f"
             ],
             [
              0.2222222222222222,
              "#7201a8"
             ],
             [
              0.3333333333333333,
              "#9c179e"
             ],
             [
              0.4444444444444444,
              "#bd3786"
             ],
             [
              0.5555555555555556,
              "#d8576b"
             ],
             [
              0.6666666666666666,
              "#ed7953"
             ],
             [
              0.7777777777777778,
              "#fb9f3a"
             ],
             [
              0.8888888888888888,
              "#fdca26"
             ],
             [
              1,
              "#f0f921"
             ]
            ],
            "type": "heatmapgl"
           }
          ],
          "histogram": [
           {
            "marker": {
             "pattern": {
              "fillmode": "overlay",
              "size": 10,
              "solidity": 0.2
             }
            },
            "type": "histogram"
           }
          ],
          "histogram2d": [
           {
            "colorbar": {
             "outlinewidth": 0,
             "ticks": ""
            },
            "colorscale": [
             [
              0,
              "#0d0887"
             ],
             [
              0.1111111111111111,
              "#46039f"
             ],
             [
              0.2222222222222222,
              "#7201a8"
             ],
             [
              0.3333333333333333,
              "#9c179e"
             ],
             [
              0.4444444444444444,
              "#bd3786"
             ],
             [
              0.5555555555555556,
              "#d8576b"
             ],
             [
              0.6666666666666666,
              "#ed7953"
             ],
             [
              0.7777777777777778,
              "#fb9f3a"
             ],
             [
              0.8888888888888888,
              "#fdca26"
             ],
             [
              1,
              "#f0f921"
             ]
            ],
            "type": "histogram2d"
           }
          ],
          "histogram2dcontour": [
           {
            "colorbar": {
             "outlinewidth": 0,
             "ticks": ""
            },
            "colorscale": [
             [
              0,
              "#0d0887"
             ],
             [
              0.1111111111111111,
              "#46039f"
             ],
             [
              0.2222222222222222,
              "#7201a8"
             ],
             [
              0.3333333333333333,
              "#9c179e"
             ],
             [
              0.4444444444444444,
              "#bd3786"
             ],
             [
              0.5555555555555556,
              "#d8576b"
             ],
             [
              0.6666666666666666,
              "#ed7953"
             ],
             [
              0.7777777777777778,
              "#fb9f3a"
             ],
             [
              0.8888888888888888,
              "#fdca26"
             ],
             [
              1,
              "#f0f921"
             ]
            ],
            "type": "histogram2dcontour"
           }
          ],
          "mesh3d": [
           {
            "colorbar": {
             "outlinewidth": 0,
             "ticks": ""
            },
            "type": "mesh3d"
           }
          ],
          "parcoords": [
           {
            "line": {
             "colorbar": {
              "outlinewidth": 0,
              "ticks": ""
             }
            },
            "type": "parcoords"
           }
          ],
          "pie": [
           {
            "automargin": true,
            "type": "pie"
           }
          ],
          "scatter": [
           {
            "fillpattern": {
             "fillmode": "overlay",
             "size": 10,
             "solidity": 0.2
            },
            "type": "scatter"
           }
          ],
          "scatter3d": [
           {
            "line": {
             "colorbar": {
              "outlinewidth": 0,
              "ticks": ""
             }
            },
            "marker": {
             "colorbar": {
              "outlinewidth": 0,
              "ticks": ""
             }
            },
            "type": "scatter3d"
           }
          ],
          "scattercarpet": [
           {
            "marker": {
             "colorbar": {
              "outlinewidth": 0,
              "ticks": ""
             }
            },
            "type": "scattercarpet"
           }
          ],
          "scattergeo": [
           {
            "marker": {
             "colorbar": {
              "outlinewidth": 0,
              "ticks": ""
             }
            },
            "type": "scattergeo"
           }
          ],
          "scattergl": [
           {
            "marker": {
             "colorbar": {
              "outlinewidth": 0,
              "ticks": ""
             }
            },
            "type": "scattergl"
           }
          ],
          "scattermapbox": [
           {
            "marker": {
             "colorbar": {
              "outlinewidth": 0,
              "ticks": ""
             }
            },
            "type": "scattermapbox"
           }
          ],
          "scatterpolar": [
           {
            "marker": {
             "colorbar": {
              "outlinewidth": 0,
              "ticks": ""
             }
            },
            "type": "scatterpolar"
           }
          ],
          "scatterpolargl": [
           {
            "marker": {
             "colorbar": {
              "outlinewidth": 0,
              "ticks": ""
             }
            },
            "type": "scatterpolargl"
           }
          ],
          "scatterternary": [
           {
            "marker": {
             "colorbar": {
              "outlinewidth": 0,
              "ticks": ""
             }
            },
            "type": "scatterternary"
           }
          ],
          "surface": [
           {
            "colorbar": {
             "outlinewidth": 0,
             "ticks": ""
            },
            "colorscale": [
             [
              0,
              "#0d0887"
             ],
             [
              0.1111111111111111,
              "#46039f"
             ],
             [
              0.2222222222222222,
              "#7201a8"
             ],
             [
              0.3333333333333333,
              "#9c179e"
             ],
             [
              0.4444444444444444,
              "#bd3786"
             ],
             [
              0.5555555555555556,
              "#d8576b"
             ],
             [
              0.6666666666666666,
              "#ed7953"
             ],
             [
              0.7777777777777778,
              "#fb9f3a"
             ],
             [
              0.8888888888888888,
              "#fdca26"
             ],
             [
              1,
              "#f0f921"
             ]
            ],
            "type": "surface"
           }
          ],
          "table": [
           {
            "cells": {
             "fill": {
              "color": "#EBF0F8"
             },
             "line": {
              "color": "white"
             }
            },
            "header": {
             "fill": {
              "color": "#C8D4E3"
             },
             "line": {
              "color": "white"
             }
            },
            "type": "table"
           }
          ]
         },
         "layout": {
          "annotationdefaults": {
           "arrowcolor": "#2a3f5f",
           "arrowhead": 0,
           "arrowwidth": 1
          },
          "autotypenumbers": "strict",
          "coloraxis": {
           "colorbar": {
            "outlinewidth": 0,
            "ticks": ""
           }
          },
          "colorscale": {
           "diverging": [
            [
             0,
             "#8e0152"
            ],
            [
             0.1,
             "#c51b7d"
            ],
            [
             0.2,
             "#de77ae"
            ],
            [
             0.3,
             "#f1b6da"
            ],
            [
             0.4,
             "#fde0ef"
            ],
            [
             0.5,
             "#f7f7f7"
            ],
            [
             0.6,
             "#e6f5d0"
            ],
            [
             0.7,
             "#b8e186"
            ],
            [
             0.8,
             "#7fbc41"
            ],
            [
             0.9,
             "#4d9221"
            ],
            [
             1,
             "#276419"
            ]
           ],
           "sequential": [
            [
             0,
             "#0d0887"
            ],
            [
             0.1111111111111111,
             "#46039f"
            ],
            [
             0.2222222222222222,
             "#7201a8"
            ],
            [
             0.3333333333333333,
             "#9c179e"
            ],
            [
             0.4444444444444444,
             "#bd3786"
            ],
            [
             0.5555555555555556,
             "#d8576b"
            ],
            [
             0.6666666666666666,
             "#ed7953"
            ],
            [
             0.7777777777777778,
             "#fb9f3a"
            ],
            [
             0.8888888888888888,
             "#fdca26"
            ],
            [
             1,
             "#f0f921"
            ]
           ],
           "sequentialminus": [
            [
             0,
             "#0d0887"
            ],
            [
             0.1111111111111111,
             "#46039f"
            ],
            [
             0.2222222222222222,
             "#7201a8"
            ],
            [
             0.3333333333333333,
             "#9c179e"
            ],
            [
             0.4444444444444444,
             "#bd3786"
            ],
            [
             0.5555555555555556,
             "#d8576b"
            ],
            [
             0.6666666666666666,
             "#ed7953"
            ],
            [
             0.7777777777777778,
             "#fb9f3a"
            ],
            [
             0.8888888888888888,
             "#fdca26"
            ],
            [
             1,
             "#f0f921"
            ]
           ]
          },
          "colorway": [
           "#636efa",
           "#EF553B",
           "#00cc96",
           "#ab63fa",
           "#FFA15A",
           "#19d3f3",
           "#FF6692",
           "#B6E880",
           "#FF97FF",
           "#FECB52"
          ],
          "font": {
           "color": "#2a3f5f"
          },
          "geo": {
           "bgcolor": "white",
           "lakecolor": "white",
           "landcolor": "#E5ECF6",
           "showlakes": true,
           "showland": true,
           "subunitcolor": "white"
          },
          "hoverlabel": {
           "align": "left"
          },
          "hovermode": "closest",
          "mapbox": {
           "style": "light"
          },
          "paper_bgcolor": "white",
          "plot_bgcolor": "#E5ECF6",
          "polar": {
           "angularaxis": {
            "gridcolor": "white",
            "linecolor": "white",
            "ticks": ""
           },
           "bgcolor": "#E5ECF6",
           "radialaxis": {
            "gridcolor": "white",
            "linecolor": "white",
            "ticks": ""
           }
          },
          "scene": {
           "xaxis": {
            "backgroundcolor": "#E5ECF6",
            "gridcolor": "white",
            "gridwidth": 2,
            "linecolor": "white",
            "showbackground": true,
            "ticks": "",
            "zerolinecolor": "white"
           },
           "yaxis": {
            "backgroundcolor": "#E5ECF6",
            "gridcolor": "white",
            "gridwidth": 2,
            "linecolor": "white",
            "showbackground": true,
            "ticks": "",
            "zerolinecolor": "white"
           },
           "zaxis": {
            "backgroundcolor": "#E5ECF6",
            "gridcolor": "white",
            "gridwidth": 2,
            "linecolor": "white",
            "showbackground": true,
            "ticks": "",
            "zerolinecolor": "white"
           }
          },
          "shapedefaults": {
           "line": {
            "color": "#2a3f5f"
           }
          },
          "ternary": {
           "aaxis": {
            "gridcolor": "white",
            "linecolor": "white",
            "ticks": ""
           },
           "baxis": {
            "gridcolor": "white",
            "linecolor": "white",
            "ticks": ""
           },
           "bgcolor": "#E5ECF6",
           "caxis": {
            "gridcolor": "white",
            "linecolor": "white",
            "ticks": ""
           }
          },
          "title": {
           "x": 0.05
          },
          "xaxis": {
           "automargin": true,
           "gridcolor": "white",
           "linecolor": "white",
           "ticks": "",
           "title": {
            "standoff": 15
           },
           "zerolinecolor": "white",
           "zerolinewidth": 2
          },
          "yaxis": {
           "automargin": true,
           "gridcolor": "white",
           "linecolor": "white",
           "ticks": "",
           "title": {
            "standoff": 15
           },
           "zerolinecolor": "white",
           "zerolinewidth": 2
          }
         }
        },
        "title": {
         "text": "Slice Plot"
        },
        "width": 1500,
        "xaxis": {
         "anchor": "y",
         "domain": [
          0,
          0.16799999999999998
         ],
         "title": {
          "text": "classifier"
         }
        },
        "xaxis2": {
         "anchor": "y2",
         "domain": [
          0.208,
          0.376
         ],
         "title": {
          "text": "criterion"
         }
        },
        "xaxis3": {
         "anchor": "y3",
         "domain": [
          0.416,
          0.584
         ],
         "title": {
          "text": "reg_param"
         },
         "type": "log"
        },
        "xaxis4": {
         "anchor": "y4",
         "domain": [
          0.624,
          0.792
         ],
         "title": {
          "text": "rf_max_depth"
         },
         "type": "log"
        },
        "xaxis5": {
         "anchor": "y5",
         "domain": [
          0.832,
          1
         ],
         "title": {
          "text": "splitter"
         }
        },
        "yaxis": {
         "anchor": "x",
         "domain": [
          0,
          1
         ],
         "title": {
          "text": "Objective Value"
         }
        },
        "yaxis2": {
         "anchor": "x2",
         "domain": [
          0,
          1
         ],
         "matches": "y",
         "showticklabels": false
        },
        "yaxis3": {
         "anchor": "x3",
         "domain": [
          0,
          1
         ],
         "matches": "y",
         "showticklabels": false
        },
        "yaxis4": {
         "anchor": "x4",
         "domain": [
          0,
          1
         ],
         "matches": "y",
         "showticklabels": false
        },
        "yaxis5": {
         "anchor": "x5",
         "domain": [
          0,
          1
         ],
         "matches": "y",
         "showticklabels": false
        }
       }
      },
      "text/html": [
       "<div>                            <div id=\"94a8e87f-e3ed-4c0a-a0cb-531fc638e7fd\" class=\"plotly-graph-div\" style=\"height:525px; width:1500px;\"></div>            <script type=\"text/javascript\">                require([\"plotly\"], function(Plotly) {                    window.PLOTLYENV=window.PLOTLYENV || {};                                    if (document.getElementById(\"94a8e87f-e3ed-4c0a-a0cb-531fc638e7fd\")) {                    Plotly.newPlot(                        \"94a8e87f-e3ed-4c0a-a0cb-531fc638e7fd\",                        [{\"marker\":{\"color\":[0,1,2,3,4],\"colorbar\":{\"title\":{\"text\":\"Trial\"},\"x\":1.0,\"xpad\":40},\"colorscale\":[[0.0,\"rgb(247,251,255)\"],[0.125,\"rgb(222,235,247)\"],[0.25,\"rgb(198,219,239)\"],[0.375,\"rgb(158,202,225)\"],[0.5,\"rgb(107,174,214)\"],[0.625,\"rgb(66,146,198)\"],[0.75,\"rgb(33,113,181)\"],[0.875,\"rgb(8,81,156)\"],[1.0,\"rgb(8,48,107)\"]],\"line\":{\"color\":\"Grey\",\"width\":0.5},\"showscale\":true},\"mode\":\"markers\",\"showlegend\":false,\"x\":[\"DecisionTree\",\"QuadraticDiscriminantAnalysis\",\"QuadraticDiscriminantAnalysis\",\"QuadraticDiscriminantAnalysis\",\"QuadraticDiscriminantAnalysis\"],\"y\":[0.3111111111111111,0.0,0.0444444444444444,0.022222222222222254,0.022222222222222254],\"type\":\"scatter\",\"xaxis\":\"x\",\"yaxis\":\"y\"},{\"marker\":{\"color\":[0],\"colorbar\":{\"title\":{\"text\":\"Trial\"},\"x\":1.0,\"xpad\":40},\"colorscale\":[[0.0,\"rgb(247,251,255)\"],[0.125,\"rgb(222,235,247)\"],[0.25,\"rgb(198,219,239)\"],[0.375,\"rgb(158,202,225)\"],[0.5,\"rgb(107,174,214)\"],[0.625,\"rgb(66,146,198)\"],[0.75,\"rgb(33,113,181)\"],[0.875,\"rgb(8,81,156)\"],[1.0,\"rgb(8,48,107)\"]],\"line\":{\"color\":\"Grey\",\"width\":0.5},\"showscale\":false},\"mode\":\"markers\",\"showlegend\":false,\"x\":[\"log_loss\"],\"y\":[0.3111111111111111],\"type\":\"scatter\",\"xaxis\":\"x2\",\"yaxis\":\"y2\"},{\"marker\":{\"color\":[1,2,3,4],\"colorbar\":{\"title\":{\"text\":\"Trial\"},\"x\":1.0,\"xpad\":40},\"colorscale\":[[0.0,\"rgb(247,251,255)\"],[0.125,\"rgb(222,235,247)\"],[0.25,\"rgb(198,219,239)\"],[0.375,\"rgb(158,202,225)\"],[0.5,\"rgb(107,174,214)\"],[0.625,\"rgb(66,146,198)\"],[0.75,\"rgb(33,113,181)\"],[0.875,\"rgb(8,81,156)\"],[1.0,\"rgb(8,48,107)\"]],\"line\":{\"color\":\"Grey\",\"width\":0.5},\"showscale\":false},\"mode\":\"markers\",\"showlegend\":false,\"x\":[4.698999454076336e-06,0.3751249810984533,1.422653202378202e-07,5.882903362533181e-09],\"y\":[0.0,0.0444444444444444,0.022222222222222254,0.022222222222222254],\"type\":\"scatter\",\"xaxis\":\"x3\",\"yaxis\":\"y3\"},{\"marker\":{\"color\":[0],\"colorbar\":{\"title\":{\"text\":\"Trial\"},\"x\":1.0,\"xpad\":40},\"colorscale\":[[0.0,\"rgb(247,251,255)\"],[0.125,\"rgb(222,235,247)\"],[0.25,\"rgb(198,219,239)\"],[0.375,\"rgb(158,202,225)\"],[0.5,\"rgb(107,174,214)\"],[0.625,\"rgb(66,146,198)\"],[0.75,\"rgb(33,113,181)\"],[0.875,\"rgb(8,81,156)\"],[1.0,\"rgb(8,48,107)\"]],\"line\":{\"color\":\"Grey\",\"width\":0.5},\"showscale\":false},\"mode\":\"markers\",\"showlegend\":false,\"x\":[2],\"y\":[0.3111111111111111],\"type\":\"scatter\",\"xaxis\":\"x4\",\"yaxis\":\"y4\"},{\"marker\":{\"color\":[0],\"colorbar\":{\"title\":{\"text\":\"Trial\"},\"x\":1.0,\"xpad\":40},\"colorscale\":[[0.0,\"rgb(247,251,255)\"],[0.125,\"rgb(222,235,247)\"],[0.25,\"rgb(198,219,239)\"],[0.375,\"rgb(158,202,225)\"],[0.5,\"rgb(107,174,214)\"],[0.625,\"rgb(66,146,198)\"],[0.75,\"rgb(33,113,181)\"],[0.875,\"rgb(8,81,156)\"],[1.0,\"rgb(8,48,107)\"]],\"line\":{\"color\":\"Grey\",\"width\":0.5},\"showscale\":false},\"mode\":\"markers\",\"showlegend\":false,\"x\":[\"random\"],\"y\":[0.3111111111111111],\"type\":\"scatter\",\"xaxis\":\"x5\",\"yaxis\":\"y5\"}],                        {\"template\":{\"data\":{\"histogram2dcontour\":[{\"type\":\"histogram2dcontour\",\"colorbar\":{\"outlinewidth\":0,\"ticks\":\"\"},\"colorscale\":[[0.0,\"#0d0887\"],[0.1111111111111111,\"#46039f\"],[0.2222222222222222,\"#7201a8\"],[0.3333333333333333,\"#9c179e\"],[0.4444444444444444,\"#bd3786\"],[0.5555555555555556,\"#d8576b\"],[0.6666666666666666,\"#ed7953\"],[0.7777777777777778,\"#fb9f3a\"],[0.8888888888888888,\"#fdca26\"],[1.0,\"#f0f921\"]]}],\"choropleth\":[{\"type\":\"choropleth\",\"colorbar\":{\"outlinewidth\":0,\"ticks\":\"\"}}],\"histogram2d\":[{\"type\":\"histogram2d\",\"colorbar\":{\"outlinewidth\":0,\"ticks\":\"\"},\"colorscale\":[[0.0,\"#0d0887\"],[0.1111111111111111,\"#46039f\"],[0.2222222222222222,\"#7201a8\"],[0.3333333333333333,\"#9c179e\"],[0.4444444444444444,\"#bd3786\"],[0.5555555555555556,\"#d8576b\"],[0.6666666666666666,\"#ed7953\"],[0.7777777777777778,\"#fb9f3a\"],[0.8888888888888888,\"#fdca26\"],[1.0,\"#f0f921\"]]}],\"heatmap\":[{\"type\":\"heatmap\",\"colorbar\":{\"outlinewidth\":0,\"ticks\":\"\"},\"colorscale\":[[0.0,\"#0d0887\"],[0.1111111111111111,\"#46039f\"],[0.2222222222222222,\"#7201a8\"],[0.3333333333333333,\"#9c179e\"],[0.4444444444444444,\"#bd3786\"],[0.5555555555555556,\"#d8576b\"],[0.6666666666666666,\"#ed7953\"],[0.7777777777777778,\"#fb9f3a\"],[0.8888888888888888,\"#fdca26\"],[1.0,\"#f0f921\"]]}],\"heatmapgl\":[{\"type\":\"heatmapgl\",\"colorbar\":{\"outlinewidth\":0,\"ticks\":\"\"},\"colorscale\":[[0.0,\"#0d0887\"],[0.1111111111111111,\"#46039f\"],[0.2222222222222222,\"#7201a8\"],[0.3333333333333333,\"#9c179e\"],[0.4444444444444444,\"#bd3786\"],[0.5555555555555556,\"#d8576b\"],[0.6666666666666666,\"#ed7953\"],[0.7777777777777778,\"#fb9f3a\"],[0.8888888888888888,\"#fdca26\"],[1.0,\"#f0f921\"]]}],\"contourcarpet\":[{\"type\":\"contourcarpet\",\"colorbar\":{\"outlinewidth\":0,\"ticks\":\"\"}}],\"contour\":[{\"type\":\"contour\",\"colorbar\":{\"outlinewidth\":0,\"ticks\":\"\"},\"colorscale\":[[0.0,\"#0d0887\"],[0.1111111111111111,\"#46039f\"],[0.2222222222222222,\"#7201a8\"],[0.3333333333333333,\"#9c179e\"],[0.4444444444444444,\"#bd3786\"],[0.5555555555555556,\"#d8576b\"],[0.6666666666666666,\"#ed7953\"],[0.7777777777777778,\"#fb9f3a\"],[0.8888888888888888,\"#fdca26\"],[1.0,\"#f0f921\"]]}],\"surface\":[{\"type\":\"surface\",\"colorbar\":{\"outlinewidth\":0,\"ticks\":\"\"},\"colorscale\":[[0.0,\"#0d0887\"],[0.1111111111111111,\"#46039f\"],[0.2222222222222222,\"#7201a8\"],[0.3333333333333333,\"#9c179e\"],[0.4444444444444444,\"#bd3786\"],[0.5555555555555556,\"#d8576b\"],[0.6666666666666666,\"#ed7953\"],[0.7777777777777778,\"#fb9f3a\"],[0.8888888888888888,\"#fdca26\"],[1.0,\"#f0f921\"]]}],\"mesh3d\":[{\"type\":\"mesh3d\",\"colorbar\":{\"outlinewidth\":0,\"ticks\":\"\"}}],\"scatter\":[{\"fillpattern\":{\"fillmode\":\"overlay\",\"size\":10,\"solidity\":0.2},\"type\":\"scatter\"}],\"parcoords\":[{\"type\":\"parcoords\",\"line\":{\"colorbar\":{\"outlinewidth\":0,\"ticks\":\"\"}}}],\"scatterpolargl\":[{\"type\":\"scatterpolargl\",\"marker\":{\"colorbar\":{\"outlinewidth\":0,\"ticks\":\"\"}}}],\"bar\":[{\"error_x\":{\"color\":\"#2a3f5f\"},\"error_y\":{\"color\":\"#2a3f5f\"},\"marker\":{\"line\":{\"color\":\"#E5ECF6\",\"width\":0.5},\"pattern\":{\"fillmode\":\"overlay\",\"size\":10,\"solidity\":0.2}},\"type\":\"bar\"}],\"scattergeo\":[{\"type\":\"scattergeo\",\"marker\":{\"colorbar\":{\"outlinewidth\":0,\"ticks\":\"\"}}}],\"scatterpolar\":[{\"type\":\"scatterpolar\",\"marker\":{\"colorbar\":{\"outlinewidth\":0,\"ticks\":\"\"}}}],\"histogram\":[{\"marker\":{\"pattern\":{\"fillmode\":\"overlay\",\"size\":10,\"solidity\":0.2}},\"type\":\"histogram\"}],\"scattergl\":[{\"type\":\"scattergl\",\"marker\":{\"colorbar\":{\"outlinewidth\":0,\"ticks\":\"\"}}}],\"scatter3d\":[{\"type\":\"scatter3d\",\"line\":{\"colorbar\":{\"outlinewidth\":0,\"ticks\":\"\"}},\"marker\":{\"colorbar\":{\"outlinewidth\":0,\"ticks\":\"\"}}}],\"scattermapbox\":[{\"type\":\"scattermapbox\",\"marker\":{\"colorbar\":{\"outlinewidth\":0,\"ticks\":\"\"}}}],\"scatterternary\":[{\"type\":\"scatterternary\",\"marker\":{\"colorbar\":{\"outlinewidth\":0,\"ticks\":\"\"}}}],\"scattercarpet\":[{\"type\":\"scattercarpet\",\"marker\":{\"colorbar\":{\"outlinewidth\":0,\"ticks\":\"\"}}}],\"carpet\":[{\"aaxis\":{\"endlinecolor\":\"#2a3f5f\",\"gridcolor\":\"white\",\"linecolor\":\"white\",\"minorgridcolor\":\"white\",\"startlinecolor\":\"#2a3f5f\"},\"baxis\":{\"endlinecolor\":\"#2a3f5f\",\"gridcolor\":\"white\",\"linecolor\":\"white\",\"minorgridcolor\":\"white\",\"startlinecolor\":\"#2a3f5f\"},\"type\":\"carpet\"}],\"table\":[{\"cells\":{\"fill\":{\"color\":\"#EBF0F8\"},\"line\":{\"color\":\"white\"}},\"header\":{\"fill\":{\"color\":\"#C8D4E3\"},\"line\":{\"color\":\"white\"}},\"type\":\"table\"}],\"barpolar\":[{\"marker\":{\"line\":{\"color\":\"#E5ECF6\",\"width\":0.5},\"pattern\":{\"fillmode\":\"overlay\",\"size\":10,\"solidity\":0.2}},\"type\":\"barpolar\"}],\"pie\":[{\"automargin\":true,\"type\":\"pie\"}]},\"layout\":{\"autotypenumbers\":\"strict\",\"colorway\":[\"#636efa\",\"#EF553B\",\"#00cc96\",\"#ab63fa\",\"#FFA15A\",\"#19d3f3\",\"#FF6692\",\"#B6E880\",\"#FF97FF\",\"#FECB52\"],\"font\":{\"color\":\"#2a3f5f\"},\"hovermode\":\"closest\",\"hoverlabel\":{\"align\":\"left\"},\"paper_bgcolor\":\"white\",\"plot_bgcolor\":\"#E5ECF6\",\"polar\":{\"bgcolor\":\"#E5ECF6\",\"angularaxis\":{\"gridcolor\":\"white\",\"linecolor\":\"white\",\"ticks\":\"\"},\"radialaxis\":{\"gridcolor\":\"white\",\"linecolor\":\"white\",\"ticks\":\"\"}},\"ternary\":{\"bgcolor\":\"#E5ECF6\",\"aaxis\":{\"gridcolor\":\"white\",\"linecolor\":\"white\",\"ticks\":\"\"},\"baxis\":{\"gridcolor\":\"white\",\"linecolor\":\"white\",\"ticks\":\"\"},\"caxis\":{\"gridcolor\":\"white\",\"linecolor\":\"white\",\"ticks\":\"\"}},\"coloraxis\":{\"colorbar\":{\"outlinewidth\":0,\"ticks\":\"\"}},\"colorscale\":{\"sequential\":[[0.0,\"#0d0887\"],[0.1111111111111111,\"#46039f\"],[0.2222222222222222,\"#7201a8\"],[0.3333333333333333,\"#9c179e\"],[0.4444444444444444,\"#bd3786\"],[0.5555555555555556,\"#d8576b\"],[0.6666666666666666,\"#ed7953\"],[0.7777777777777778,\"#fb9f3a\"],[0.8888888888888888,\"#fdca26\"],[1.0,\"#f0f921\"]],\"sequentialminus\":[[0.0,\"#0d0887\"],[0.1111111111111111,\"#46039f\"],[0.2222222222222222,\"#7201a8\"],[0.3333333333333333,\"#9c179e\"],[0.4444444444444444,\"#bd3786\"],[0.5555555555555556,\"#d8576b\"],[0.6666666666666666,\"#ed7953\"],[0.7777777777777778,\"#fb9f3a\"],[0.8888888888888888,\"#fdca26\"],[1.0,\"#f0f921\"]],\"diverging\":[[0,\"#8e0152\"],[0.1,\"#c51b7d\"],[0.2,\"#de77ae\"],[0.3,\"#f1b6da\"],[0.4,\"#fde0ef\"],[0.5,\"#f7f7f7\"],[0.6,\"#e6f5d0\"],[0.7,\"#b8e186\"],[0.8,\"#7fbc41\"],[0.9,\"#4d9221\"],[1,\"#276419\"]]},\"xaxis\":{\"gridcolor\":\"white\",\"linecolor\":\"white\",\"ticks\":\"\",\"title\":{\"standoff\":15},\"zerolinecolor\":\"white\",\"automargin\":true,\"zerolinewidth\":2},\"yaxis\":{\"gridcolor\":\"white\",\"linecolor\":\"white\",\"ticks\":\"\",\"title\":{\"standoff\":15},\"zerolinecolor\":\"white\",\"automargin\":true,\"zerolinewidth\":2},\"scene\":{\"xaxis\":{\"backgroundcolor\":\"#E5ECF6\",\"gridcolor\":\"white\",\"linecolor\":\"white\",\"showbackground\":true,\"ticks\":\"\",\"zerolinecolor\":\"white\",\"gridwidth\":2},\"yaxis\":{\"backgroundcolor\":\"#E5ECF6\",\"gridcolor\":\"white\",\"linecolor\":\"white\",\"showbackground\":true,\"ticks\":\"\",\"zerolinecolor\":\"white\",\"gridwidth\":2},\"zaxis\":{\"backgroundcolor\":\"#E5ECF6\",\"gridcolor\":\"white\",\"linecolor\":\"white\",\"showbackground\":true,\"ticks\":\"\",\"zerolinecolor\":\"white\",\"gridwidth\":2}},\"shapedefaults\":{\"line\":{\"color\":\"#2a3f5f\"}},\"annotationdefaults\":{\"arrowcolor\":\"#2a3f5f\",\"arrowhead\":0,\"arrowwidth\":1},\"geo\":{\"bgcolor\":\"white\",\"landcolor\":\"#E5ECF6\",\"subunitcolor\":\"white\",\"showland\":true,\"showlakes\":true,\"lakecolor\":\"white\"},\"title\":{\"x\":0.05},\"mapbox\":{\"style\":\"light\"}}},\"xaxis\":{\"anchor\":\"y\",\"domain\":[0.0,0.16799999999999998],\"title\":{\"text\":\"classifier\"}},\"yaxis\":{\"anchor\":\"x\",\"domain\":[0.0,1.0],\"title\":{\"text\":\"Objective Value\"}},\"xaxis2\":{\"anchor\":\"y2\",\"domain\":[0.208,0.376],\"title\":{\"text\":\"criterion\"}},\"yaxis2\":{\"anchor\":\"x2\",\"domain\":[0.0,1.0],\"matches\":\"y\",\"showticklabels\":false},\"xaxis3\":{\"anchor\":\"y3\",\"domain\":[0.416,0.584],\"title\":{\"text\":\"reg_param\"},\"type\":\"log\"},\"yaxis3\":{\"anchor\":\"x3\",\"domain\":[0.0,1.0],\"matches\":\"y\",\"showticklabels\":false},\"xaxis4\":{\"anchor\":\"y4\",\"domain\":[0.624,0.792],\"title\":{\"text\":\"rf_max_depth\"},\"type\":\"log\"},\"yaxis4\":{\"anchor\":\"x4\",\"domain\":[0.0,1.0],\"matches\":\"y\",\"showticklabels\":false},\"xaxis5\":{\"anchor\":\"y5\",\"domain\":[0.832,1.0],\"title\":{\"text\":\"splitter\"}},\"yaxis5\":{\"anchor\":\"x5\",\"domain\":[0.0,1.0],\"matches\":\"y\",\"showticklabels\":false},\"title\":{\"text\":\"Slice Plot\"},\"width\":1500},                        {\"responsive\": true}                    ).then(function(){\n",
       "                            \n",
       "var gd = document.getElementById('94a8e87f-e3ed-4c0a-a0cb-531fc638e7fd');\n",
       "var x = new MutationObserver(function (mutations, observer) {{\n",
       "        var display = window.getComputedStyle(gd).display;\n",
       "        if (!display || display === 'none') {{\n",
       "            console.log([gd, 'removed!']);\n",
       "            Plotly.purge(gd);\n",
       "            observer.disconnect();\n",
       "        }}\n",
       "}});\n",
       "\n",
       "// Listen for the removal of the full notebook cells\n",
       "var notebookContainer = gd.closest('#notebook-container');\n",
       "if (notebookContainer) {{\n",
       "    x.observe(notebookContainer, {childList: true});\n",
       "}}\n",
       "\n",
       "// Listen for the clearing of the current output cell\n",
       "var outputEl = gd.closest('.output');\n",
       "if (outputEl) {{\n",
       "    x.observe(outputEl, {childList: true});\n",
       "}}\n",
       "\n",
       "                        })                };                });            </script>        </div>"
      ]
     },
     "metadata": {},
     "output_type": "display_data"
    }
   ],
   "source": [
    "plot_slice(study)"
   ]
  },
  {
   "cell_type": "code",
   "execution_count": 32,
   "id": "d2903a33",
   "metadata": {},
   "outputs": [
    {
     "data": {
      "application/vnd.plotly.v1+json": {
       "config": {
        "plotlyServerURL": "https://plot.ly"
       },
       "data": [
        {
         "cliponaxis": false,
         "hovertemplate": [
          "classifier (CategoricalDistribution): 1.0<extra></extra>"
         ],
         "marker": {
          "color": "rgb(66,146,198)"
         },
         "orientation": "h",
         "text": [
          "1.00"
         ],
         "textposition": "outside",
         "type": "bar",
         "x": [
          1
         ],
         "y": [
          "classifier"
         ]
        }
       ],
       "layout": {
        "showlegend": false,
        "template": {
         "data": {
          "bar": [
           {
            "error_x": {
             "color": "#2a3f5f"
            },
            "error_y": {
             "color": "#2a3f5f"
            },
            "marker": {
             "line": {
              "color": "#E5ECF6",
              "width": 0.5
             },
             "pattern": {
              "fillmode": "overlay",
              "size": 10,
              "solidity": 0.2
             }
            },
            "type": "bar"
           }
          ],
          "barpolar": [
           {
            "marker": {
             "line": {
              "color": "#E5ECF6",
              "width": 0.5
             },
             "pattern": {
              "fillmode": "overlay",
              "size": 10,
              "solidity": 0.2
             }
            },
            "type": "barpolar"
           }
          ],
          "carpet": [
           {
            "aaxis": {
             "endlinecolor": "#2a3f5f",
             "gridcolor": "white",
             "linecolor": "white",
             "minorgridcolor": "white",
             "startlinecolor": "#2a3f5f"
            },
            "baxis": {
             "endlinecolor": "#2a3f5f",
             "gridcolor": "white",
             "linecolor": "white",
             "minorgridcolor": "white",
             "startlinecolor": "#2a3f5f"
            },
            "type": "carpet"
           }
          ],
          "choropleth": [
           {
            "colorbar": {
             "outlinewidth": 0,
             "ticks": ""
            },
            "type": "choropleth"
           }
          ],
          "contour": [
           {
            "colorbar": {
             "outlinewidth": 0,
             "ticks": ""
            },
            "colorscale": [
             [
              0,
              "#0d0887"
             ],
             [
              0.1111111111111111,
              "#46039f"
             ],
             [
              0.2222222222222222,
              "#7201a8"
             ],
             [
              0.3333333333333333,
              "#9c179e"
             ],
             [
              0.4444444444444444,
              "#bd3786"
             ],
             [
              0.5555555555555556,
              "#d8576b"
             ],
             [
              0.6666666666666666,
              "#ed7953"
             ],
             [
              0.7777777777777778,
              "#fb9f3a"
             ],
             [
              0.8888888888888888,
              "#fdca26"
             ],
             [
              1,
              "#f0f921"
             ]
            ],
            "type": "contour"
           }
          ],
          "contourcarpet": [
           {
            "colorbar": {
             "outlinewidth": 0,
             "ticks": ""
            },
            "type": "contourcarpet"
           }
          ],
          "heatmap": [
           {
            "colorbar": {
             "outlinewidth": 0,
             "ticks": ""
            },
            "colorscale": [
             [
              0,
              "#0d0887"
             ],
             [
              0.1111111111111111,
              "#46039f"
             ],
             [
              0.2222222222222222,
              "#7201a8"
             ],
             [
              0.3333333333333333,
              "#9c179e"
             ],
             [
              0.4444444444444444,
              "#bd3786"
             ],
             [
              0.5555555555555556,
              "#d8576b"
             ],
             [
              0.6666666666666666,
              "#ed7953"
             ],
             [
              0.7777777777777778,
              "#fb9f3a"
             ],
             [
              0.8888888888888888,
              "#fdca26"
             ],
             [
              1,
              "#f0f921"
             ]
            ],
            "type": "heatmap"
           }
          ],
          "heatmapgl": [
           {
            "colorbar": {
             "outlinewidth": 0,
             "ticks": ""
            },
            "colorscale": [
             [
              0,
              "#0d0887"
             ],
             [
              0.1111111111111111,
              "#46039f"
             ],
             [
              0.2222222222222222,
              "#7201a8"
             ],
             [
              0.3333333333333333,
              "#9c179e"
             ],
             [
              0.4444444444444444,
              "#bd3786"
             ],
             [
              0.5555555555555556,
              "#d8576b"
             ],
             [
              0.6666666666666666,
              "#ed7953"
             ],
             [
              0.7777777777777778,
              "#fb9f3a"
             ],
             [
              0.8888888888888888,
              "#fdca26"
             ],
             [
              1,
              "#f0f921"
             ]
            ],
            "type": "heatmapgl"
           }
          ],
          "histogram": [
           {
            "marker": {
             "pattern": {
              "fillmode": "overlay",
              "size": 10,
              "solidity": 0.2
             }
            },
            "type": "histogram"
           }
          ],
          "histogram2d": [
           {
            "colorbar": {
             "outlinewidth": 0,
             "ticks": ""
            },
            "colorscale": [
             [
              0,
              "#0d0887"
             ],
             [
              0.1111111111111111,
              "#46039f"
             ],
             [
              0.2222222222222222,
              "#7201a8"
             ],
             [
              0.3333333333333333,
              "#9c179e"
             ],
             [
              0.4444444444444444,
              "#bd3786"
             ],
             [
              0.5555555555555556,
              "#d8576b"
             ],
             [
              0.6666666666666666,
              "#ed7953"
             ],
             [
              0.7777777777777778,
              "#fb9f3a"
             ],
             [
              0.8888888888888888,
              "#fdca26"
             ],
             [
              1,
              "#f0f921"
             ]
            ],
            "type": "histogram2d"
           }
          ],
          "histogram2dcontour": [
           {
            "colorbar": {
             "outlinewidth": 0,
             "ticks": ""
            },
            "colorscale": [
             [
              0,
              "#0d0887"
             ],
             [
              0.1111111111111111,
              "#46039f"
             ],
             [
              0.2222222222222222,
              "#7201a8"
             ],
             [
              0.3333333333333333,
              "#9c179e"
             ],
             [
              0.4444444444444444,
              "#bd3786"
             ],
             [
              0.5555555555555556,
              "#d8576b"
             ],
             [
              0.6666666666666666,
              "#ed7953"
             ],
             [
              0.7777777777777778,
              "#fb9f3a"
             ],
             [
              0.8888888888888888,
              "#fdca26"
             ],
             [
              1,
              "#f0f921"
             ]
            ],
            "type": "histogram2dcontour"
           }
          ],
          "mesh3d": [
           {
            "colorbar": {
             "outlinewidth": 0,
             "ticks": ""
            },
            "type": "mesh3d"
           }
          ],
          "parcoords": [
           {
            "line": {
             "colorbar": {
              "outlinewidth": 0,
              "ticks": ""
             }
            },
            "type": "parcoords"
           }
          ],
          "pie": [
           {
            "automargin": true,
            "type": "pie"
           }
          ],
          "scatter": [
           {
            "fillpattern": {
             "fillmode": "overlay",
             "size": 10,
             "solidity": 0.2
            },
            "type": "scatter"
           }
          ],
          "scatter3d": [
           {
            "line": {
             "colorbar": {
              "outlinewidth": 0,
              "ticks": ""
             }
            },
            "marker": {
             "colorbar": {
              "outlinewidth": 0,
              "ticks": ""
             }
            },
            "type": "scatter3d"
           }
          ],
          "scattercarpet": [
           {
            "marker": {
             "colorbar": {
              "outlinewidth": 0,
              "ticks": ""
             }
            },
            "type": "scattercarpet"
           }
          ],
          "scattergeo": [
           {
            "marker": {
             "colorbar": {
              "outlinewidth": 0,
              "ticks": ""
             }
            },
            "type": "scattergeo"
           }
          ],
          "scattergl": [
           {
            "marker": {
             "colorbar": {
              "outlinewidth": 0,
              "ticks": ""
             }
            },
            "type": "scattergl"
           }
          ],
          "scattermapbox": [
           {
            "marker": {
             "colorbar": {
              "outlinewidth": 0,
              "ticks": ""
             }
            },
            "type": "scattermapbox"
           }
          ],
          "scatterpolar": [
           {
            "marker": {
             "colorbar": {
              "outlinewidth": 0,
              "ticks": ""
             }
            },
            "type": "scatterpolar"
           }
          ],
          "scatterpolargl": [
           {
            "marker": {
             "colorbar": {
              "outlinewidth": 0,
              "ticks": ""
             }
            },
            "type": "scatterpolargl"
           }
          ],
          "scatterternary": [
           {
            "marker": {
             "colorbar": {
              "outlinewidth": 0,
              "ticks": ""
             }
            },
            "type": "scatterternary"
           }
          ],
          "surface": [
           {
            "colorbar": {
             "outlinewidth": 0,
             "ticks": ""
            },
            "colorscale": [
             [
              0,
              "#0d0887"
             ],
             [
              0.1111111111111111,
              "#46039f"
             ],
             [
              0.2222222222222222,
              "#7201a8"
             ],
             [
              0.3333333333333333,
              "#9c179e"
             ],
             [
              0.4444444444444444,
              "#bd3786"
             ],
             [
              0.5555555555555556,
              "#d8576b"
             ],
             [
              0.6666666666666666,
              "#ed7953"
             ],
             [
              0.7777777777777778,
              "#fb9f3a"
             ],
             [
              0.8888888888888888,
              "#fdca26"
             ],
             [
              1,
              "#f0f921"
             ]
            ],
            "type": "surface"
           }
          ],
          "table": [
           {
            "cells": {
             "fill": {
              "color": "#EBF0F8"
             },
             "line": {
              "color": "white"
             }
            },
            "header": {
             "fill": {
              "color": "#C8D4E3"
             },
             "line": {
              "color": "white"
             }
            },
            "type": "table"
           }
          ]
         },
         "layout": {
          "annotationdefaults": {
           "arrowcolor": "#2a3f5f",
           "arrowhead": 0,
           "arrowwidth": 1
          },
          "autotypenumbers": "strict",
          "coloraxis": {
           "colorbar": {
            "outlinewidth": 0,
            "ticks": ""
           }
          },
          "colorscale": {
           "diverging": [
            [
             0,
             "#8e0152"
            ],
            [
             0.1,
             "#c51b7d"
            ],
            [
             0.2,
             "#de77ae"
            ],
            [
             0.3,
             "#f1b6da"
            ],
            [
             0.4,
             "#fde0ef"
            ],
            [
             0.5,
             "#f7f7f7"
            ],
            [
             0.6,
             "#e6f5d0"
            ],
            [
             0.7,
             "#b8e186"
            ],
            [
             0.8,
             "#7fbc41"
            ],
            [
             0.9,
             "#4d9221"
            ],
            [
             1,
             "#276419"
            ]
           ],
           "sequential": [
            [
             0,
             "#0d0887"
            ],
            [
             0.1111111111111111,
             "#46039f"
            ],
            [
             0.2222222222222222,
             "#7201a8"
            ],
            [
             0.3333333333333333,
             "#9c179e"
            ],
            [
             0.4444444444444444,
             "#bd3786"
            ],
            [
             0.5555555555555556,
             "#d8576b"
            ],
            [
             0.6666666666666666,
             "#ed7953"
            ],
            [
             0.7777777777777778,
             "#fb9f3a"
            ],
            [
             0.8888888888888888,
             "#fdca26"
            ],
            [
             1,
             "#f0f921"
            ]
           ],
           "sequentialminus": [
            [
             0,
             "#0d0887"
            ],
            [
             0.1111111111111111,
             "#46039f"
            ],
            [
             0.2222222222222222,
             "#7201a8"
            ],
            [
             0.3333333333333333,
             "#9c179e"
            ],
            [
             0.4444444444444444,
             "#bd3786"
            ],
            [
             0.5555555555555556,
             "#d8576b"
            ],
            [
             0.6666666666666666,
             "#ed7953"
            ],
            [
             0.7777777777777778,
             "#fb9f3a"
            ],
            [
             0.8888888888888888,
             "#fdca26"
            ],
            [
             1,
             "#f0f921"
            ]
           ]
          },
          "colorway": [
           "#636efa",
           "#EF553B",
           "#00cc96",
           "#ab63fa",
           "#FFA15A",
           "#19d3f3",
           "#FF6692",
           "#B6E880",
           "#FF97FF",
           "#FECB52"
          ],
          "font": {
           "color": "#2a3f5f"
          },
          "geo": {
           "bgcolor": "white",
           "lakecolor": "white",
           "landcolor": "#E5ECF6",
           "showlakes": true,
           "showland": true,
           "subunitcolor": "white"
          },
          "hoverlabel": {
           "align": "left"
          },
          "hovermode": "closest",
          "mapbox": {
           "style": "light"
          },
          "paper_bgcolor": "white",
          "plot_bgcolor": "#E5ECF6",
          "polar": {
           "angularaxis": {
            "gridcolor": "white",
            "linecolor": "white",
            "ticks": ""
           },
           "bgcolor": "#E5ECF6",
           "radialaxis": {
            "gridcolor": "white",
            "linecolor": "white",
            "ticks": ""
           }
          },
          "scene": {
           "xaxis": {
            "backgroundcolor": "#E5ECF6",
            "gridcolor": "white",
            "gridwidth": 2,
            "linecolor": "white",
            "showbackground": true,
            "ticks": "",
            "zerolinecolor": "white"
           },
           "yaxis": {
            "backgroundcolor": "#E5ECF6",
            "gridcolor": "white",
            "gridwidth": 2,
            "linecolor": "white",
            "showbackground": true,
            "ticks": "",
            "zerolinecolor": "white"
           },
           "zaxis": {
            "backgroundcolor": "#E5ECF6",
            "gridcolor": "white",
            "gridwidth": 2,
            "linecolor": "white",
            "showbackground": true,
            "ticks": "",
            "zerolinecolor": "white"
           }
          },
          "shapedefaults": {
           "line": {
            "color": "#2a3f5f"
           }
          },
          "ternary": {
           "aaxis": {
            "gridcolor": "white",
            "linecolor": "white",
            "ticks": ""
           },
           "baxis": {
            "gridcolor": "white",
            "linecolor": "white",
            "ticks": ""
           },
           "bgcolor": "#E5ECF6",
           "caxis": {
            "gridcolor": "white",
            "linecolor": "white",
            "ticks": ""
           }
          },
          "title": {
           "x": 0.05
          },
          "xaxis": {
           "automargin": true,
           "gridcolor": "white",
           "linecolor": "white",
           "ticks": "",
           "title": {
            "standoff": 15
           },
           "zerolinecolor": "white",
           "zerolinewidth": 2
          },
          "yaxis": {
           "automargin": true,
           "gridcolor": "white",
           "linecolor": "white",
           "ticks": "",
           "title": {
            "standoff": 15
           },
           "zerolinecolor": "white",
           "zerolinewidth": 2
          }
         }
        },
        "title": {
         "text": "Hyperparameter Importances"
        },
        "xaxis": {
         "title": {
          "text": "Importance for Objective Value"
         }
        },
        "yaxis": {
         "title": {
          "text": "Hyperparameter"
         }
        }
       }
      },
      "text/html": [
       "<div>                            <div id=\"d1bcc540-09ac-4fc1-ba00-bb1fdd54b680\" class=\"plotly-graph-div\" style=\"height:525px; width:100%;\"></div>            <script type=\"text/javascript\">                require([\"plotly\"], function(Plotly) {                    window.PLOTLYENV=window.PLOTLYENV || {};                                    if (document.getElementById(\"d1bcc540-09ac-4fc1-ba00-bb1fdd54b680\")) {                    Plotly.newPlot(                        \"d1bcc540-09ac-4fc1-ba00-bb1fdd54b680\",                        [{\"cliponaxis\":false,\"hovertemplate\":[\"classifier (CategoricalDistribution): 1.0<extra></extra>\"],\"marker\":{\"color\":\"rgb(66,146,198)\"},\"orientation\":\"h\",\"text\":[\"1.00\"],\"textposition\":\"outside\",\"x\":[1.0],\"y\":[\"classifier\"],\"type\":\"bar\"}],                        {\"showlegend\":false,\"title\":{\"text\":\"Hyperparameter Importances\"},\"xaxis\":{\"title\":{\"text\":\"Importance for Objective Value\"}},\"yaxis\":{\"title\":{\"text\":\"Hyperparameter\"}},\"template\":{\"data\":{\"histogram2dcontour\":[{\"type\":\"histogram2dcontour\",\"colorbar\":{\"outlinewidth\":0,\"ticks\":\"\"},\"colorscale\":[[0.0,\"#0d0887\"],[0.1111111111111111,\"#46039f\"],[0.2222222222222222,\"#7201a8\"],[0.3333333333333333,\"#9c179e\"],[0.4444444444444444,\"#bd3786\"],[0.5555555555555556,\"#d8576b\"],[0.6666666666666666,\"#ed7953\"],[0.7777777777777778,\"#fb9f3a\"],[0.8888888888888888,\"#fdca26\"],[1.0,\"#f0f921\"]]}],\"choropleth\":[{\"type\":\"choropleth\",\"colorbar\":{\"outlinewidth\":0,\"ticks\":\"\"}}],\"histogram2d\":[{\"type\":\"histogram2d\",\"colorbar\":{\"outlinewidth\":0,\"ticks\":\"\"},\"colorscale\":[[0.0,\"#0d0887\"],[0.1111111111111111,\"#46039f\"],[0.2222222222222222,\"#7201a8\"],[0.3333333333333333,\"#9c179e\"],[0.4444444444444444,\"#bd3786\"],[0.5555555555555556,\"#d8576b\"],[0.6666666666666666,\"#ed7953\"],[0.7777777777777778,\"#fb9f3a\"],[0.8888888888888888,\"#fdca26\"],[1.0,\"#f0f921\"]]}],\"heatmap\":[{\"type\":\"heatmap\",\"colorbar\":{\"outlinewidth\":0,\"ticks\":\"\"},\"colorscale\":[[0.0,\"#0d0887\"],[0.1111111111111111,\"#46039f\"],[0.2222222222222222,\"#7201a8\"],[0.3333333333333333,\"#9c179e\"],[0.4444444444444444,\"#bd3786\"],[0.5555555555555556,\"#d8576b\"],[0.6666666666666666,\"#ed7953\"],[0.7777777777777778,\"#fb9f3a\"],[0.8888888888888888,\"#fdca26\"],[1.0,\"#f0f921\"]]}],\"heatmapgl\":[{\"type\":\"heatmapgl\",\"colorbar\":{\"outlinewidth\":0,\"ticks\":\"\"},\"colorscale\":[[0.0,\"#0d0887\"],[0.1111111111111111,\"#46039f\"],[0.2222222222222222,\"#7201a8\"],[0.3333333333333333,\"#9c179e\"],[0.4444444444444444,\"#bd3786\"],[0.5555555555555556,\"#d8576b\"],[0.6666666666666666,\"#ed7953\"],[0.7777777777777778,\"#fb9f3a\"],[0.8888888888888888,\"#fdca26\"],[1.0,\"#f0f921\"]]}],\"contourcarpet\":[{\"type\":\"contourcarpet\",\"colorbar\":{\"outlinewidth\":0,\"ticks\":\"\"}}],\"contour\":[{\"type\":\"contour\",\"colorbar\":{\"outlinewidth\":0,\"ticks\":\"\"},\"colorscale\":[[0.0,\"#0d0887\"],[0.1111111111111111,\"#46039f\"],[0.2222222222222222,\"#7201a8\"],[0.3333333333333333,\"#9c179e\"],[0.4444444444444444,\"#bd3786\"],[0.5555555555555556,\"#d8576b\"],[0.6666666666666666,\"#ed7953\"],[0.7777777777777778,\"#fb9f3a\"],[0.8888888888888888,\"#fdca26\"],[1.0,\"#f0f921\"]]}],\"surface\":[{\"type\":\"surface\",\"colorbar\":{\"outlinewidth\":0,\"ticks\":\"\"},\"colorscale\":[[0.0,\"#0d0887\"],[0.1111111111111111,\"#46039f\"],[0.2222222222222222,\"#7201a8\"],[0.3333333333333333,\"#9c179e\"],[0.4444444444444444,\"#bd3786\"],[0.5555555555555556,\"#d8576b\"],[0.6666666666666666,\"#ed7953\"],[0.7777777777777778,\"#fb9f3a\"],[0.8888888888888888,\"#fdca26\"],[1.0,\"#f0f921\"]]}],\"mesh3d\":[{\"type\":\"mesh3d\",\"colorbar\":{\"outlinewidth\":0,\"ticks\":\"\"}}],\"scatter\":[{\"fillpattern\":{\"fillmode\":\"overlay\",\"size\":10,\"solidity\":0.2},\"type\":\"scatter\"}],\"parcoords\":[{\"type\":\"parcoords\",\"line\":{\"colorbar\":{\"outlinewidth\":0,\"ticks\":\"\"}}}],\"scatterpolargl\":[{\"type\":\"scatterpolargl\",\"marker\":{\"colorbar\":{\"outlinewidth\":0,\"ticks\":\"\"}}}],\"bar\":[{\"error_x\":{\"color\":\"#2a3f5f\"},\"error_y\":{\"color\":\"#2a3f5f\"},\"marker\":{\"line\":{\"color\":\"#E5ECF6\",\"width\":0.5},\"pattern\":{\"fillmode\":\"overlay\",\"size\":10,\"solidity\":0.2}},\"type\":\"bar\"}],\"scattergeo\":[{\"type\":\"scattergeo\",\"marker\":{\"colorbar\":{\"outlinewidth\":0,\"ticks\":\"\"}}}],\"scatterpolar\":[{\"type\":\"scatterpolar\",\"marker\":{\"colorbar\":{\"outlinewidth\":0,\"ticks\":\"\"}}}],\"histogram\":[{\"marker\":{\"pattern\":{\"fillmode\":\"overlay\",\"size\":10,\"solidity\":0.2}},\"type\":\"histogram\"}],\"scattergl\":[{\"type\":\"scattergl\",\"marker\":{\"colorbar\":{\"outlinewidth\":0,\"ticks\":\"\"}}}],\"scatter3d\":[{\"type\":\"scatter3d\",\"line\":{\"colorbar\":{\"outlinewidth\":0,\"ticks\":\"\"}},\"marker\":{\"colorbar\":{\"outlinewidth\":0,\"ticks\":\"\"}}}],\"scattermapbox\":[{\"type\":\"scattermapbox\",\"marker\":{\"colorbar\":{\"outlinewidth\":0,\"ticks\":\"\"}}}],\"scatterternary\":[{\"type\":\"scatterternary\",\"marker\":{\"colorbar\":{\"outlinewidth\":0,\"ticks\":\"\"}}}],\"scattercarpet\":[{\"type\":\"scattercarpet\",\"marker\":{\"colorbar\":{\"outlinewidth\":0,\"ticks\":\"\"}}}],\"carpet\":[{\"aaxis\":{\"endlinecolor\":\"#2a3f5f\",\"gridcolor\":\"white\",\"linecolor\":\"white\",\"minorgridcolor\":\"white\",\"startlinecolor\":\"#2a3f5f\"},\"baxis\":{\"endlinecolor\":\"#2a3f5f\",\"gridcolor\":\"white\",\"linecolor\":\"white\",\"minorgridcolor\":\"white\",\"startlinecolor\":\"#2a3f5f\"},\"type\":\"carpet\"}],\"table\":[{\"cells\":{\"fill\":{\"color\":\"#EBF0F8\"},\"line\":{\"color\":\"white\"}},\"header\":{\"fill\":{\"color\":\"#C8D4E3\"},\"line\":{\"color\":\"white\"}},\"type\":\"table\"}],\"barpolar\":[{\"marker\":{\"line\":{\"color\":\"#E5ECF6\",\"width\":0.5},\"pattern\":{\"fillmode\":\"overlay\",\"size\":10,\"solidity\":0.2}},\"type\":\"barpolar\"}],\"pie\":[{\"automargin\":true,\"type\":\"pie\"}]},\"layout\":{\"autotypenumbers\":\"strict\",\"colorway\":[\"#636efa\",\"#EF553B\",\"#00cc96\",\"#ab63fa\",\"#FFA15A\",\"#19d3f3\",\"#FF6692\",\"#B6E880\",\"#FF97FF\",\"#FECB52\"],\"font\":{\"color\":\"#2a3f5f\"},\"hovermode\":\"closest\",\"hoverlabel\":{\"align\":\"left\"},\"paper_bgcolor\":\"white\",\"plot_bgcolor\":\"#E5ECF6\",\"polar\":{\"bgcolor\":\"#E5ECF6\",\"angularaxis\":{\"gridcolor\":\"white\",\"linecolor\":\"white\",\"ticks\":\"\"},\"radialaxis\":{\"gridcolor\":\"white\",\"linecolor\":\"white\",\"ticks\":\"\"}},\"ternary\":{\"bgcolor\":\"#E5ECF6\",\"aaxis\":{\"gridcolor\":\"white\",\"linecolor\":\"white\",\"ticks\":\"\"},\"baxis\":{\"gridcolor\":\"white\",\"linecolor\":\"white\",\"ticks\":\"\"},\"caxis\":{\"gridcolor\":\"white\",\"linecolor\":\"white\",\"ticks\":\"\"}},\"coloraxis\":{\"colorbar\":{\"outlinewidth\":0,\"ticks\":\"\"}},\"colorscale\":{\"sequential\":[[0.0,\"#0d0887\"],[0.1111111111111111,\"#46039f\"],[0.2222222222222222,\"#7201a8\"],[0.3333333333333333,\"#9c179e\"],[0.4444444444444444,\"#bd3786\"],[0.5555555555555556,\"#d8576b\"],[0.6666666666666666,\"#ed7953\"],[0.7777777777777778,\"#fb9f3a\"],[0.8888888888888888,\"#fdca26\"],[1.0,\"#f0f921\"]],\"sequentialminus\":[[0.0,\"#0d0887\"],[0.1111111111111111,\"#46039f\"],[0.2222222222222222,\"#7201a8\"],[0.3333333333333333,\"#9c179e\"],[0.4444444444444444,\"#bd3786\"],[0.5555555555555556,\"#d8576b\"],[0.6666666666666666,\"#ed7953\"],[0.7777777777777778,\"#fb9f3a\"],[0.8888888888888888,\"#fdca26\"],[1.0,\"#f0f921\"]],\"diverging\":[[0,\"#8e0152\"],[0.1,\"#c51b7d\"],[0.2,\"#de77ae\"],[0.3,\"#f1b6da\"],[0.4,\"#fde0ef\"],[0.5,\"#f7f7f7\"],[0.6,\"#e6f5d0\"],[0.7,\"#b8e186\"],[0.8,\"#7fbc41\"],[0.9,\"#4d9221\"],[1,\"#276419\"]]},\"xaxis\":{\"gridcolor\":\"white\",\"linecolor\":\"white\",\"ticks\":\"\",\"title\":{\"standoff\":15},\"zerolinecolor\":\"white\",\"automargin\":true,\"zerolinewidth\":2},\"yaxis\":{\"gridcolor\":\"white\",\"linecolor\":\"white\",\"ticks\":\"\",\"title\":{\"standoff\":15},\"zerolinecolor\":\"white\",\"automargin\":true,\"zerolinewidth\":2},\"scene\":{\"xaxis\":{\"backgroundcolor\":\"#E5ECF6\",\"gridcolor\":\"white\",\"linecolor\":\"white\",\"showbackground\":true,\"ticks\":\"\",\"zerolinecolor\":\"white\",\"gridwidth\":2},\"yaxis\":{\"backgroundcolor\":\"#E5ECF6\",\"gridcolor\":\"white\",\"linecolor\":\"white\",\"showbackground\":true,\"ticks\":\"\",\"zerolinecolor\":\"white\",\"gridwidth\":2},\"zaxis\":{\"backgroundcolor\":\"#E5ECF6\",\"gridcolor\":\"white\",\"linecolor\":\"white\",\"showbackground\":true,\"ticks\":\"\",\"zerolinecolor\":\"white\",\"gridwidth\":2}},\"shapedefaults\":{\"line\":{\"color\":\"#2a3f5f\"}},\"annotationdefaults\":{\"arrowcolor\":\"#2a3f5f\",\"arrowhead\":0,\"arrowwidth\":1},\"geo\":{\"bgcolor\":\"white\",\"landcolor\":\"#E5ECF6\",\"subunitcolor\":\"white\",\"showland\":true,\"showlakes\":true,\"lakecolor\":\"white\"},\"title\":{\"x\":0.05},\"mapbox\":{\"style\":\"light\"}}}},                        {\"responsive\": true}                    ).then(function(){\n",
       "                            \n",
       "var gd = document.getElementById('d1bcc540-09ac-4fc1-ba00-bb1fdd54b680');\n",
       "var x = new MutationObserver(function (mutations, observer) {{\n",
       "        var display = window.getComputedStyle(gd).display;\n",
       "        if (!display || display === 'none') {{\n",
       "            console.log([gd, 'removed!']);\n",
       "            Plotly.purge(gd);\n",
       "            observer.disconnect();\n",
       "        }}\n",
       "}});\n",
       "\n",
       "// Listen for the removal of the full notebook cells\n",
       "var notebookContainer = gd.closest('#notebook-container');\n",
       "if (notebookContainer) {{\n",
       "    x.observe(notebookContainer, {childList: true});\n",
       "}}\n",
       "\n",
       "// Listen for the clearing of the current output cell\n",
       "var outputEl = gd.closest('.output');\n",
       "if (outputEl) {{\n",
       "    x.observe(outputEl, {childList: true});\n",
       "}}\n",
       "\n",
       "                        })                };                });            </script>        </div>"
      ]
     },
     "metadata": {},
     "output_type": "display_data"
    }
   ],
   "source": [
    "plot_param_importances(study)"
   ]
  },
  {
   "cell_type": "code",
   "execution_count": 33,
   "id": "99803fc0",
   "metadata": {},
   "outputs": [
    {
     "data": {
      "application/vnd.plotly.v1+json": {
       "config": {
        "plotlyServerURL": "https://plot.ly"
       },
       "data": [
        {
         "mode": "lines",
         "name": "no-name-5d19616a-8c63-41d4-bc39-e7b01f9381d6",
         "type": "scatter",
         "x": [
          0,
          0.0031425364758698093,
          0.006285072951739619,
          0.009427609427609427,
          0.012570145903479237,
          0.015712682379349047,
          0.018855218855218854,
          0.021997755331088664,
          0.025140291806958474,
          0.028282828282828285,
          0.031425364758698095,
          0.034567901234567905,
          0.03771043771043771,
          0.04085297418630752,
          0.04399551066217733,
          0.04713804713804714,
          0.05028058361391695,
          0.05342312008978676,
          0.05656565656565657,
          0.05970819304152638,
          0.06285072951739619,
          0.06599326599326599,
          0.06913580246913581,
          0.07227833894500561,
          0.07542087542087542,
          0.07856341189674523,
          0.08170594837261504,
          0.08484848484848485,
          0.08799102132435466,
          0.09113355780022447,
          0.09427609427609428,
          0.0974186307519641,
          0.1005611672278339,
          0.1037037037037037,
          0.10684624017957352,
          0.10998877665544332,
          0.11313131313131314,
          0.11627384960718294,
          0.11941638608305276,
          0.12255892255892256,
          0.12570145903479238,
          0.12884399551066217,
          0.13198653198653199,
          0.1351290684624018,
          0.13827160493827162,
          0.1414141414141414,
          0.14455667789001123,
          0.14769921436588104,
          0.15084175084175083,
          0.15398428731762065,
          0.15712682379349047,
          0.16026936026936028,
          0.16341189674523007,
          0.1665544332210999,
          0.1696969696969697,
          0.17283950617283952,
          0.1759820426487093,
          0.17912457912457913,
          0.18226711560044895,
          0.18540965207631874,
          0.18855218855218855,
          0.19169472502805837,
          0.1948372615039282,
          0.19797979797979798,
          0.2011223344556678,
          0.2042648709315376,
          0.2074074074074074,
          0.21054994388327722,
          0.21369248035914704,
          0.21683501683501685,
          0.21997755331088664,
          0.22312008978675646,
          0.22626262626262628,
          0.22940516273849607,
          0.23254769921436588,
          0.2356902356902357,
          0.23883277216610552,
          0.2419753086419753,
          0.24511784511784512,
          0.24826038159371494,
          0.25140291806958476,
          0.2545454545454546,
          0.25768799102132434,
          0.26083052749719415,
          0.26397306397306397,
          0.2671156004489338,
          0.2702581369248036,
          0.2734006734006734,
          0.27654320987654324,
          0.279685746352413,
          0.2828282828282828,
          0.28597081930415263,
          0.28911335578002245,
          0.29225589225589227,
          0.2953984287317621,
          0.2985409652076319,
          0.30168350168350166,
          0.3048260381593715,
          0.3079685746352413,
          0.3111111111111111
         ],
         "y": [
          0.2,
          0.2,
          0.2,
          0.2,
          0.2,
          0.2,
          0.2,
          0.2,
          0.6,
          0.6,
          0.6,
          0.6,
          0.6,
          0.6,
          0.6,
          0.8,
          0.8,
          0.8,
          0.8,
          0.8,
          0.8,
          0.8,
          0.8,
          0.8,
          0.8,
          0.8,
          0.8,
          0.8,
          0.8,
          0.8,
          0.8,
          0.8,
          0.8,
          0.8,
          0.8,
          0.8,
          0.8,
          0.8,
          0.8,
          0.8,
          0.8,
          0.8,
          0.8,
          0.8,
          0.8,
          0.8,
          0.8,
          0.8,
          0.8,
          0.8,
          0.8,
          0.8,
          0.8,
          0.8,
          0.8,
          0.8,
          0.8,
          0.8,
          0.8,
          0.8,
          0.8,
          0.8,
          0.8,
          0.8,
          0.8,
          0.8,
          0.8,
          0.8,
          0.8,
          0.8,
          0.8,
          0.8,
          0.8,
          0.8,
          0.8,
          0.8,
          0.8,
          0.8,
          0.8,
          0.8,
          0.8,
          0.8,
          0.8,
          0.8,
          0.8,
          0.8,
          0.8,
          0.8,
          0.8,
          0.8,
          0.8,
          0.8,
          0.8,
          0.8,
          0.8,
          0.8,
          0.8,
          0.8,
          0.8,
          1
         ]
        }
       ],
       "layout": {
        "template": {
         "data": {
          "bar": [
           {
            "error_x": {
             "color": "#2a3f5f"
            },
            "error_y": {
             "color": "#2a3f5f"
            },
            "marker": {
             "line": {
              "color": "#E5ECF6",
              "width": 0.5
             },
             "pattern": {
              "fillmode": "overlay",
              "size": 10,
              "solidity": 0.2
             }
            },
            "type": "bar"
           }
          ],
          "barpolar": [
           {
            "marker": {
             "line": {
              "color": "#E5ECF6",
              "width": 0.5
             },
             "pattern": {
              "fillmode": "overlay",
              "size": 10,
              "solidity": 0.2
             }
            },
            "type": "barpolar"
           }
          ],
          "carpet": [
           {
            "aaxis": {
             "endlinecolor": "#2a3f5f",
             "gridcolor": "white",
             "linecolor": "white",
             "minorgridcolor": "white",
             "startlinecolor": "#2a3f5f"
            },
            "baxis": {
             "endlinecolor": "#2a3f5f",
             "gridcolor": "white",
             "linecolor": "white",
             "minorgridcolor": "white",
             "startlinecolor": "#2a3f5f"
            },
            "type": "carpet"
           }
          ],
          "choropleth": [
           {
            "colorbar": {
             "outlinewidth": 0,
             "ticks": ""
            },
            "type": "choropleth"
           }
          ],
          "contour": [
           {
            "colorbar": {
             "outlinewidth": 0,
             "ticks": ""
            },
            "colorscale": [
             [
              0,
              "#0d0887"
             ],
             [
              0.1111111111111111,
              "#46039f"
             ],
             [
              0.2222222222222222,
              "#7201a8"
             ],
             [
              0.3333333333333333,
              "#9c179e"
             ],
             [
              0.4444444444444444,
              "#bd3786"
             ],
             [
              0.5555555555555556,
              "#d8576b"
             ],
             [
              0.6666666666666666,
              "#ed7953"
             ],
             [
              0.7777777777777778,
              "#fb9f3a"
             ],
             [
              0.8888888888888888,
              "#fdca26"
             ],
             [
              1,
              "#f0f921"
             ]
            ],
            "type": "contour"
           }
          ],
          "contourcarpet": [
           {
            "colorbar": {
             "outlinewidth": 0,
             "ticks": ""
            },
            "type": "contourcarpet"
           }
          ],
          "heatmap": [
           {
            "colorbar": {
             "outlinewidth": 0,
             "ticks": ""
            },
            "colorscale": [
             [
              0,
              "#0d0887"
             ],
             [
              0.1111111111111111,
              "#46039f"
             ],
             [
              0.2222222222222222,
              "#7201a8"
             ],
             [
              0.3333333333333333,
              "#9c179e"
             ],
             [
              0.4444444444444444,
              "#bd3786"
             ],
             [
              0.5555555555555556,
              "#d8576b"
             ],
             [
              0.6666666666666666,
              "#ed7953"
             ],
             [
              0.7777777777777778,
              "#fb9f3a"
             ],
             [
              0.8888888888888888,
              "#fdca26"
             ],
             [
              1,
              "#f0f921"
             ]
            ],
            "type": "heatmap"
           }
          ],
          "heatmapgl": [
           {
            "colorbar": {
             "outlinewidth": 0,
             "ticks": ""
            },
            "colorscale": [
             [
              0,
              "#0d0887"
             ],
             [
              0.1111111111111111,
              "#46039f"
             ],
             [
              0.2222222222222222,
              "#7201a8"
             ],
             [
              0.3333333333333333,
              "#9c179e"
             ],
             [
              0.4444444444444444,
              "#bd3786"
             ],
             [
              0.5555555555555556,
              "#d8576b"
             ],
             [
              0.6666666666666666,
              "#ed7953"
             ],
             [
              0.7777777777777778,
              "#fb9f3a"
             ],
             [
              0.8888888888888888,
              "#fdca26"
             ],
             [
              1,
              "#f0f921"
             ]
            ],
            "type": "heatmapgl"
           }
          ],
          "histogram": [
           {
            "marker": {
             "pattern": {
              "fillmode": "overlay",
              "size": 10,
              "solidity": 0.2
             }
            },
            "type": "histogram"
           }
          ],
          "histogram2d": [
           {
            "colorbar": {
             "outlinewidth": 0,
             "ticks": ""
            },
            "colorscale": [
             [
              0,
              "#0d0887"
             ],
             [
              0.1111111111111111,
              "#46039f"
             ],
             [
              0.2222222222222222,
              "#7201a8"
             ],
             [
              0.3333333333333333,
              "#9c179e"
             ],
             [
              0.4444444444444444,
              "#bd3786"
             ],
             [
              0.5555555555555556,
              "#d8576b"
             ],
             [
              0.6666666666666666,
              "#ed7953"
             ],
             [
              0.7777777777777778,
              "#fb9f3a"
             ],
             [
              0.8888888888888888,
              "#fdca26"
             ],
             [
              1,
              "#f0f921"
             ]
            ],
            "type": "histogram2d"
           }
          ],
          "histogram2dcontour": [
           {
            "colorbar": {
             "outlinewidth": 0,
             "ticks": ""
            },
            "colorscale": [
             [
              0,
              "#0d0887"
             ],
             [
              0.1111111111111111,
              "#46039f"
             ],
             [
              0.2222222222222222,
              "#7201a8"
             ],
             [
              0.3333333333333333,
              "#9c179e"
             ],
             [
              0.4444444444444444,
              "#bd3786"
             ],
             [
              0.5555555555555556,
              "#d8576b"
             ],
             [
              0.6666666666666666,
              "#ed7953"
             ],
             [
              0.7777777777777778,
              "#fb9f3a"
             ],
             [
              0.8888888888888888,
              "#fdca26"
             ],
             [
              1,
              "#f0f921"
             ]
            ],
            "type": "histogram2dcontour"
           }
          ],
          "mesh3d": [
           {
            "colorbar": {
             "outlinewidth": 0,
             "ticks": ""
            },
            "type": "mesh3d"
           }
          ],
          "parcoords": [
           {
            "line": {
             "colorbar": {
              "outlinewidth": 0,
              "ticks": ""
             }
            },
            "type": "parcoords"
           }
          ],
          "pie": [
           {
            "automargin": true,
            "type": "pie"
           }
          ],
          "scatter": [
           {
            "fillpattern": {
             "fillmode": "overlay",
             "size": 10,
             "solidity": 0.2
            },
            "type": "scatter"
           }
          ],
          "scatter3d": [
           {
            "line": {
             "colorbar": {
              "outlinewidth": 0,
              "ticks": ""
             }
            },
            "marker": {
             "colorbar": {
              "outlinewidth": 0,
              "ticks": ""
             }
            },
            "type": "scatter3d"
           }
          ],
          "scattercarpet": [
           {
            "marker": {
             "colorbar": {
              "outlinewidth": 0,
              "ticks": ""
             }
            },
            "type": "scattercarpet"
           }
          ],
          "scattergeo": [
           {
            "marker": {
             "colorbar": {
              "outlinewidth": 0,
              "ticks": ""
             }
            },
            "type": "scattergeo"
           }
          ],
          "scattergl": [
           {
            "marker": {
             "colorbar": {
              "outlinewidth": 0,
              "ticks": ""
             }
            },
            "type": "scattergl"
           }
          ],
          "scattermapbox": [
           {
            "marker": {
             "colorbar": {
              "outlinewidth": 0,
              "ticks": ""
             }
            },
            "type": "scattermapbox"
           }
          ],
          "scatterpolar": [
           {
            "marker": {
             "colorbar": {
              "outlinewidth": 0,
              "ticks": ""
             }
            },
            "type": "scatterpolar"
           }
          ],
          "scatterpolargl": [
           {
            "marker": {
             "colorbar": {
              "outlinewidth": 0,
              "ticks": ""
             }
            },
            "type": "scatterpolargl"
           }
          ],
          "scatterternary": [
           {
            "marker": {
             "colorbar": {
              "outlinewidth": 0,
              "ticks": ""
             }
            },
            "type": "scatterternary"
           }
          ],
          "surface": [
           {
            "colorbar": {
             "outlinewidth": 0,
             "ticks": ""
            },
            "colorscale": [
             [
              0,
              "#0d0887"
             ],
             [
              0.1111111111111111,
              "#46039f"
             ],
             [
              0.2222222222222222,
              "#7201a8"
             ],
             [
              0.3333333333333333,
              "#9c179e"
             ],
             [
              0.4444444444444444,
              "#bd3786"
             ],
             [
              0.5555555555555556,
              "#d8576b"
             ],
             [
              0.6666666666666666,
              "#ed7953"
             ],
             [
              0.7777777777777778,
              "#fb9f3a"
             ],
             [
              0.8888888888888888,
              "#fdca26"
             ],
             [
              1,
              "#f0f921"
             ]
            ],
            "type": "surface"
           }
          ],
          "table": [
           {
            "cells": {
             "fill": {
              "color": "#EBF0F8"
             },
             "line": {
              "color": "white"
             }
            },
            "header": {
             "fill": {
              "color": "#C8D4E3"
             },
             "line": {
              "color": "white"
             }
            },
            "type": "table"
           }
          ]
         },
         "layout": {
          "annotationdefaults": {
           "arrowcolor": "#2a3f5f",
           "arrowhead": 0,
           "arrowwidth": 1
          },
          "autotypenumbers": "strict",
          "coloraxis": {
           "colorbar": {
            "outlinewidth": 0,
            "ticks": ""
           }
          },
          "colorscale": {
           "diverging": [
            [
             0,
             "#8e0152"
            ],
            [
             0.1,
             "#c51b7d"
            ],
            [
             0.2,
             "#de77ae"
            ],
            [
             0.3,
             "#f1b6da"
            ],
            [
             0.4,
             "#fde0ef"
            ],
            [
             0.5,
             "#f7f7f7"
            ],
            [
             0.6,
             "#e6f5d0"
            ],
            [
             0.7,
             "#b8e186"
            ],
            [
             0.8,
             "#7fbc41"
            ],
            [
             0.9,
             "#4d9221"
            ],
            [
             1,
             "#276419"
            ]
           ],
           "sequential": [
            [
             0,
             "#0d0887"
            ],
            [
             0.1111111111111111,
             "#46039f"
            ],
            [
             0.2222222222222222,
             "#7201a8"
            ],
            [
             0.3333333333333333,
             "#9c179e"
            ],
            [
             0.4444444444444444,
             "#bd3786"
            ],
            [
             0.5555555555555556,
             "#d8576b"
            ],
            [
             0.6666666666666666,
             "#ed7953"
            ],
            [
             0.7777777777777778,
             "#fb9f3a"
            ],
            [
             0.8888888888888888,
             "#fdca26"
            ],
            [
             1,
             "#f0f921"
            ]
           ],
           "sequentialminus": [
            [
             0,
             "#0d0887"
            ],
            [
             0.1111111111111111,
             "#46039f"
            ],
            [
             0.2222222222222222,
             "#7201a8"
            ],
            [
             0.3333333333333333,
             "#9c179e"
            ],
            [
             0.4444444444444444,
             "#bd3786"
            ],
            [
             0.5555555555555556,
             "#d8576b"
            ],
            [
             0.6666666666666666,
             "#ed7953"
            ],
            [
             0.7777777777777778,
             "#fb9f3a"
            ],
            [
             0.8888888888888888,
             "#fdca26"
            ],
            [
             1,
             "#f0f921"
            ]
           ]
          },
          "colorway": [
           "#636efa",
           "#EF553B",
           "#00cc96",
           "#ab63fa",
           "#FFA15A",
           "#19d3f3",
           "#FF6692",
           "#B6E880",
           "#FF97FF",
           "#FECB52"
          ],
          "font": {
           "color": "#2a3f5f"
          },
          "geo": {
           "bgcolor": "white",
           "lakecolor": "white",
           "landcolor": "#E5ECF6",
           "showlakes": true,
           "showland": true,
           "subunitcolor": "white"
          },
          "hoverlabel": {
           "align": "left"
          },
          "hovermode": "closest",
          "mapbox": {
           "style": "light"
          },
          "paper_bgcolor": "white",
          "plot_bgcolor": "#E5ECF6",
          "polar": {
           "angularaxis": {
            "gridcolor": "white",
            "linecolor": "white",
            "ticks": ""
           },
           "bgcolor": "#E5ECF6",
           "radialaxis": {
            "gridcolor": "white",
            "linecolor": "white",
            "ticks": ""
           }
          },
          "scene": {
           "xaxis": {
            "backgroundcolor": "#E5ECF6",
            "gridcolor": "white",
            "gridwidth": 2,
            "linecolor": "white",
            "showbackground": true,
            "ticks": "",
            "zerolinecolor": "white"
           },
           "yaxis": {
            "backgroundcolor": "#E5ECF6",
            "gridcolor": "white",
            "gridwidth": 2,
            "linecolor": "white",
            "showbackground": true,
            "ticks": "",
            "zerolinecolor": "white"
           },
           "zaxis": {
            "backgroundcolor": "#E5ECF6",
            "gridcolor": "white",
            "gridwidth": 2,
            "linecolor": "white",
            "showbackground": true,
            "ticks": "",
            "zerolinecolor": "white"
           }
          },
          "shapedefaults": {
           "line": {
            "color": "#2a3f5f"
           }
          },
          "ternary": {
           "aaxis": {
            "gridcolor": "white",
            "linecolor": "white",
            "ticks": ""
           },
           "baxis": {
            "gridcolor": "white",
            "linecolor": "white",
            "ticks": ""
           },
           "bgcolor": "#E5ECF6",
           "caxis": {
            "gridcolor": "white",
            "linecolor": "white",
            "ticks": ""
           }
          },
          "title": {
           "x": 0.05
          },
          "xaxis": {
           "automargin": true,
           "gridcolor": "white",
           "linecolor": "white",
           "ticks": "",
           "title": {
            "standoff": 15
           },
           "zerolinecolor": "white",
           "zerolinewidth": 2
          },
          "yaxis": {
           "automargin": true,
           "gridcolor": "white",
           "linecolor": "white",
           "ticks": "",
           "title": {
            "standoff": 15
           },
           "zerolinecolor": "white",
           "zerolinewidth": 2
          }
         }
        },
        "title": {
         "text": "Empirical Distribution Function Plot"
        },
        "xaxis": {
         "title": {
          "text": "Objective Value"
         }
        },
        "yaxis": {
         "range": [
          0,
          1
         ],
         "title": {
          "text": "Cumulative Probability"
         }
        }
       }
      },
      "text/html": [
       "<div>                            <div id=\"970c4d5d-c9db-4f40-9e8e-fec16a2270d4\" class=\"plotly-graph-div\" style=\"height:525px; width:100%;\"></div>            <script type=\"text/javascript\">                require([\"plotly\"], function(Plotly) {                    window.PLOTLYENV=window.PLOTLYENV || {};                                    if (document.getElementById(\"970c4d5d-c9db-4f40-9e8e-fec16a2270d4\")) {                    Plotly.newPlot(                        \"970c4d5d-c9db-4f40-9e8e-fec16a2270d4\",                        [{\"mode\":\"lines\",\"name\":\"no-name-5d19616a-8c63-41d4-bc39-e7b01f9381d6\",\"x\":[0.0,0.0031425364758698093,0.006285072951739619,0.009427609427609427,0.012570145903479237,0.015712682379349047,0.018855218855218854,0.021997755331088664,0.025140291806958474,0.028282828282828285,0.031425364758698095,0.034567901234567905,0.03771043771043771,0.04085297418630752,0.04399551066217733,0.04713804713804714,0.05028058361391695,0.05342312008978676,0.05656565656565657,0.05970819304152638,0.06285072951739619,0.06599326599326599,0.06913580246913581,0.07227833894500561,0.07542087542087542,0.07856341189674523,0.08170594837261504,0.08484848484848485,0.08799102132435466,0.09113355780022447,0.09427609427609428,0.0974186307519641,0.1005611672278339,0.1037037037037037,0.10684624017957352,0.10998877665544332,0.11313131313131314,0.11627384960718294,0.11941638608305276,0.12255892255892256,0.12570145903479238,0.12884399551066217,0.13198653198653199,0.1351290684624018,0.13827160493827162,0.1414141414141414,0.14455667789001123,0.14769921436588104,0.15084175084175083,0.15398428731762065,0.15712682379349047,0.16026936026936028,0.16341189674523007,0.1665544332210999,0.1696969696969697,0.17283950617283952,0.1759820426487093,0.17912457912457913,0.18226711560044895,0.18540965207631874,0.18855218855218855,0.19169472502805837,0.1948372615039282,0.19797979797979798,0.2011223344556678,0.2042648709315376,0.2074074074074074,0.21054994388327722,0.21369248035914704,0.21683501683501685,0.21997755331088664,0.22312008978675646,0.22626262626262628,0.22940516273849607,0.23254769921436588,0.2356902356902357,0.23883277216610552,0.2419753086419753,0.24511784511784512,0.24826038159371494,0.25140291806958476,0.2545454545454546,0.25768799102132434,0.26083052749719415,0.26397306397306397,0.2671156004489338,0.2702581369248036,0.2734006734006734,0.27654320987654324,0.279685746352413,0.2828282828282828,0.28597081930415263,0.28911335578002245,0.29225589225589227,0.2953984287317621,0.2985409652076319,0.30168350168350166,0.3048260381593715,0.3079685746352413,0.3111111111111111],\"y\":[0.2,0.2,0.2,0.2,0.2,0.2,0.2,0.2,0.6,0.6,0.6,0.6,0.6,0.6,0.6,0.8,0.8,0.8,0.8,0.8,0.8,0.8,0.8,0.8,0.8,0.8,0.8,0.8,0.8,0.8,0.8,0.8,0.8,0.8,0.8,0.8,0.8,0.8,0.8,0.8,0.8,0.8,0.8,0.8,0.8,0.8,0.8,0.8,0.8,0.8,0.8,0.8,0.8,0.8,0.8,0.8,0.8,0.8,0.8,0.8,0.8,0.8,0.8,0.8,0.8,0.8,0.8,0.8,0.8,0.8,0.8,0.8,0.8,0.8,0.8,0.8,0.8,0.8,0.8,0.8,0.8,0.8,0.8,0.8,0.8,0.8,0.8,0.8,0.8,0.8,0.8,0.8,0.8,0.8,0.8,0.8,0.8,0.8,0.8,1.0],\"type\":\"scatter\"}],                        {\"title\":{\"text\":\"Empirical Distribution Function Plot\"},\"xaxis\":{\"title\":{\"text\":\"Objective Value\"}},\"yaxis\":{\"title\":{\"text\":\"Cumulative Probability\"},\"range\":[0,1]},\"template\":{\"data\":{\"histogram2dcontour\":[{\"type\":\"histogram2dcontour\",\"colorbar\":{\"outlinewidth\":0,\"ticks\":\"\"},\"colorscale\":[[0.0,\"#0d0887\"],[0.1111111111111111,\"#46039f\"],[0.2222222222222222,\"#7201a8\"],[0.3333333333333333,\"#9c179e\"],[0.4444444444444444,\"#bd3786\"],[0.5555555555555556,\"#d8576b\"],[0.6666666666666666,\"#ed7953\"],[0.7777777777777778,\"#fb9f3a\"],[0.8888888888888888,\"#fdca26\"],[1.0,\"#f0f921\"]]}],\"choropleth\":[{\"type\":\"choropleth\",\"colorbar\":{\"outlinewidth\":0,\"ticks\":\"\"}}],\"histogram2d\":[{\"type\":\"histogram2d\",\"colorbar\":{\"outlinewidth\":0,\"ticks\":\"\"},\"colorscale\":[[0.0,\"#0d0887\"],[0.1111111111111111,\"#46039f\"],[0.2222222222222222,\"#7201a8\"],[0.3333333333333333,\"#9c179e\"],[0.4444444444444444,\"#bd3786\"],[0.5555555555555556,\"#d8576b\"],[0.6666666666666666,\"#ed7953\"],[0.7777777777777778,\"#fb9f3a\"],[0.8888888888888888,\"#fdca26\"],[1.0,\"#f0f921\"]]}],\"heatmap\":[{\"type\":\"heatmap\",\"colorbar\":{\"outlinewidth\":0,\"ticks\":\"\"},\"colorscale\":[[0.0,\"#0d0887\"],[0.1111111111111111,\"#46039f\"],[0.2222222222222222,\"#7201a8\"],[0.3333333333333333,\"#9c179e\"],[0.4444444444444444,\"#bd3786\"],[0.5555555555555556,\"#d8576b\"],[0.6666666666666666,\"#ed7953\"],[0.7777777777777778,\"#fb9f3a\"],[0.8888888888888888,\"#fdca26\"],[1.0,\"#f0f921\"]]}],\"heatmapgl\":[{\"type\":\"heatmapgl\",\"colorbar\":{\"outlinewidth\":0,\"ticks\":\"\"},\"colorscale\":[[0.0,\"#0d0887\"],[0.1111111111111111,\"#46039f\"],[0.2222222222222222,\"#7201a8\"],[0.3333333333333333,\"#9c179e\"],[0.4444444444444444,\"#bd3786\"],[0.5555555555555556,\"#d8576b\"],[0.6666666666666666,\"#ed7953\"],[0.7777777777777778,\"#fb9f3a\"],[0.8888888888888888,\"#fdca26\"],[1.0,\"#f0f921\"]]}],\"contourcarpet\":[{\"type\":\"contourcarpet\",\"colorbar\":{\"outlinewidth\":0,\"ticks\":\"\"}}],\"contour\":[{\"type\":\"contour\",\"colorbar\":{\"outlinewidth\":0,\"ticks\":\"\"},\"colorscale\":[[0.0,\"#0d0887\"],[0.1111111111111111,\"#46039f\"],[0.2222222222222222,\"#7201a8\"],[0.3333333333333333,\"#9c179e\"],[0.4444444444444444,\"#bd3786\"],[0.5555555555555556,\"#d8576b\"],[0.6666666666666666,\"#ed7953\"],[0.7777777777777778,\"#fb9f3a\"],[0.8888888888888888,\"#fdca26\"],[1.0,\"#f0f921\"]]}],\"surface\":[{\"type\":\"surface\",\"colorbar\":{\"outlinewidth\":0,\"ticks\":\"\"},\"colorscale\":[[0.0,\"#0d0887\"],[0.1111111111111111,\"#46039f\"],[0.2222222222222222,\"#7201a8\"],[0.3333333333333333,\"#9c179e\"],[0.4444444444444444,\"#bd3786\"],[0.5555555555555556,\"#d8576b\"],[0.6666666666666666,\"#ed7953\"],[0.7777777777777778,\"#fb9f3a\"],[0.8888888888888888,\"#fdca26\"],[1.0,\"#f0f921\"]]}],\"mesh3d\":[{\"type\":\"mesh3d\",\"colorbar\":{\"outlinewidth\":0,\"ticks\":\"\"}}],\"scatter\":[{\"fillpattern\":{\"fillmode\":\"overlay\",\"size\":10,\"solidity\":0.2},\"type\":\"scatter\"}],\"parcoords\":[{\"type\":\"parcoords\",\"line\":{\"colorbar\":{\"outlinewidth\":0,\"ticks\":\"\"}}}],\"scatterpolargl\":[{\"type\":\"scatterpolargl\",\"marker\":{\"colorbar\":{\"outlinewidth\":0,\"ticks\":\"\"}}}],\"bar\":[{\"error_x\":{\"color\":\"#2a3f5f\"},\"error_y\":{\"color\":\"#2a3f5f\"},\"marker\":{\"line\":{\"color\":\"#E5ECF6\",\"width\":0.5},\"pattern\":{\"fillmode\":\"overlay\",\"size\":10,\"solidity\":0.2}},\"type\":\"bar\"}],\"scattergeo\":[{\"type\":\"scattergeo\",\"marker\":{\"colorbar\":{\"outlinewidth\":0,\"ticks\":\"\"}}}],\"scatterpolar\":[{\"type\":\"scatterpolar\",\"marker\":{\"colorbar\":{\"outlinewidth\":0,\"ticks\":\"\"}}}],\"histogram\":[{\"marker\":{\"pattern\":{\"fillmode\":\"overlay\",\"size\":10,\"solidity\":0.2}},\"type\":\"histogram\"}],\"scattergl\":[{\"type\":\"scattergl\",\"marker\":{\"colorbar\":{\"outlinewidth\":0,\"ticks\":\"\"}}}],\"scatter3d\":[{\"type\":\"scatter3d\",\"line\":{\"colorbar\":{\"outlinewidth\":0,\"ticks\":\"\"}},\"marker\":{\"colorbar\":{\"outlinewidth\":0,\"ticks\":\"\"}}}],\"scattermapbox\":[{\"type\":\"scattermapbox\",\"marker\":{\"colorbar\":{\"outlinewidth\":0,\"ticks\":\"\"}}}],\"scatterternary\":[{\"type\":\"scatterternary\",\"marker\":{\"colorbar\":{\"outlinewidth\":0,\"ticks\":\"\"}}}],\"scattercarpet\":[{\"type\":\"scattercarpet\",\"marker\":{\"colorbar\":{\"outlinewidth\":0,\"ticks\":\"\"}}}],\"carpet\":[{\"aaxis\":{\"endlinecolor\":\"#2a3f5f\",\"gridcolor\":\"white\",\"linecolor\":\"white\",\"minorgridcolor\":\"white\",\"startlinecolor\":\"#2a3f5f\"},\"baxis\":{\"endlinecolor\":\"#2a3f5f\",\"gridcolor\":\"white\",\"linecolor\":\"white\",\"minorgridcolor\":\"white\",\"startlinecolor\":\"#2a3f5f\"},\"type\":\"carpet\"}],\"table\":[{\"cells\":{\"fill\":{\"color\":\"#EBF0F8\"},\"line\":{\"color\":\"white\"}},\"header\":{\"fill\":{\"color\":\"#C8D4E3\"},\"line\":{\"color\":\"white\"}},\"type\":\"table\"}],\"barpolar\":[{\"marker\":{\"line\":{\"color\":\"#E5ECF6\",\"width\":0.5},\"pattern\":{\"fillmode\":\"overlay\",\"size\":10,\"solidity\":0.2}},\"type\":\"barpolar\"}],\"pie\":[{\"automargin\":true,\"type\":\"pie\"}]},\"layout\":{\"autotypenumbers\":\"strict\",\"colorway\":[\"#636efa\",\"#EF553B\",\"#00cc96\",\"#ab63fa\",\"#FFA15A\",\"#19d3f3\",\"#FF6692\",\"#B6E880\",\"#FF97FF\",\"#FECB52\"],\"font\":{\"color\":\"#2a3f5f\"},\"hovermode\":\"closest\",\"hoverlabel\":{\"align\":\"left\"},\"paper_bgcolor\":\"white\",\"plot_bgcolor\":\"#E5ECF6\",\"polar\":{\"bgcolor\":\"#E5ECF6\",\"angularaxis\":{\"gridcolor\":\"white\",\"linecolor\":\"white\",\"ticks\":\"\"},\"radialaxis\":{\"gridcolor\":\"white\",\"linecolor\":\"white\",\"ticks\":\"\"}},\"ternary\":{\"bgcolor\":\"#E5ECF6\",\"aaxis\":{\"gridcolor\":\"white\",\"linecolor\":\"white\",\"ticks\":\"\"},\"baxis\":{\"gridcolor\":\"white\",\"linecolor\":\"white\",\"ticks\":\"\"},\"caxis\":{\"gridcolor\":\"white\",\"linecolor\":\"white\",\"ticks\":\"\"}},\"coloraxis\":{\"colorbar\":{\"outlinewidth\":0,\"ticks\":\"\"}},\"colorscale\":{\"sequential\":[[0.0,\"#0d0887\"],[0.1111111111111111,\"#46039f\"],[0.2222222222222222,\"#7201a8\"],[0.3333333333333333,\"#9c179e\"],[0.4444444444444444,\"#bd3786\"],[0.5555555555555556,\"#d8576b\"],[0.6666666666666666,\"#ed7953\"],[0.7777777777777778,\"#fb9f3a\"],[0.8888888888888888,\"#fdca26\"],[1.0,\"#f0f921\"]],\"sequentialminus\":[[0.0,\"#0d0887\"],[0.1111111111111111,\"#46039f\"],[0.2222222222222222,\"#7201a8\"],[0.3333333333333333,\"#9c179e\"],[0.4444444444444444,\"#bd3786\"],[0.5555555555555556,\"#d8576b\"],[0.6666666666666666,\"#ed7953\"],[0.7777777777777778,\"#fb9f3a\"],[0.8888888888888888,\"#fdca26\"],[1.0,\"#f0f921\"]],\"diverging\":[[0,\"#8e0152\"],[0.1,\"#c51b7d\"],[0.2,\"#de77ae\"],[0.3,\"#f1b6da\"],[0.4,\"#fde0ef\"],[0.5,\"#f7f7f7\"],[0.6,\"#e6f5d0\"],[0.7,\"#b8e186\"],[0.8,\"#7fbc41\"],[0.9,\"#4d9221\"],[1,\"#276419\"]]},\"xaxis\":{\"gridcolor\":\"white\",\"linecolor\":\"white\",\"ticks\":\"\",\"title\":{\"standoff\":15},\"zerolinecolor\":\"white\",\"automargin\":true,\"zerolinewidth\":2},\"yaxis\":{\"gridcolor\":\"white\",\"linecolor\":\"white\",\"ticks\":\"\",\"title\":{\"standoff\":15},\"zerolinecolor\":\"white\",\"automargin\":true,\"zerolinewidth\":2},\"scene\":{\"xaxis\":{\"backgroundcolor\":\"#E5ECF6\",\"gridcolor\":\"white\",\"linecolor\":\"white\",\"showbackground\":true,\"ticks\":\"\",\"zerolinecolor\":\"white\",\"gridwidth\":2},\"yaxis\":{\"backgroundcolor\":\"#E5ECF6\",\"gridcolor\":\"white\",\"linecolor\":\"white\",\"showbackground\":true,\"ticks\":\"\",\"zerolinecolor\":\"white\",\"gridwidth\":2},\"zaxis\":{\"backgroundcolor\":\"#E5ECF6\",\"gridcolor\":\"white\",\"linecolor\":\"white\",\"showbackground\":true,\"ticks\":\"\",\"zerolinecolor\":\"white\",\"gridwidth\":2}},\"shapedefaults\":{\"line\":{\"color\":\"#2a3f5f\"}},\"annotationdefaults\":{\"arrowcolor\":\"#2a3f5f\",\"arrowhead\":0,\"arrowwidth\":1},\"geo\":{\"bgcolor\":\"white\",\"landcolor\":\"#E5ECF6\",\"subunitcolor\":\"white\",\"showland\":true,\"showlakes\":true,\"lakecolor\":\"white\"},\"title\":{\"x\":0.05},\"mapbox\":{\"style\":\"light\"}}}},                        {\"responsive\": true}                    ).then(function(){\n",
       "                            \n",
       "var gd = document.getElementById('970c4d5d-c9db-4f40-9e8e-fec16a2270d4');\n",
       "var x = new MutationObserver(function (mutations, observer) {{\n",
       "        var display = window.getComputedStyle(gd).display;\n",
       "        if (!display || display === 'none') {{\n",
       "            console.log([gd, 'removed!']);\n",
       "            Plotly.purge(gd);\n",
       "            observer.disconnect();\n",
       "        }}\n",
       "}});\n",
       "\n",
       "// Listen for the removal of the full notebook cells\n",
       "var notebookContainer = gd.closest('#notebook-container');\n",
       "if (notebookContainer) {{\n",
       "    x.observe(notebookContainer, {childList: true});\n",
       "}}\n",
       "\n",
       "// Listen for the clearing of the current output cell\n",
       "var outputEl = gd.closest('.output');\n",
       "if (outputEl) {{\n",
       "    x.observe(outputEl, {childList: true});\n",
       "}}\n",
       "\n",
       "                        })                };                });            </script>        </div>"
      ]
     },
     "metadata": {},
     "output_type": "display_data"
    }
   ],
   "source": [
    "plot_edf(study)"
   ]
  },
  {
   "cell_type": "code",
   "execution_count": null,
   "id": "05f25a45",
   "metadata": {},
   "outputs": [],
   "source": []
  }
 ],
 "metadata": {
  "kernelspec": {
   "display_name": "Python 3 (ipykernel)",
   "language": "python",
   "name": "python3"
  },
  "language_info": {
   "codemirror_mode": {
    "name": "ipython",
    "version": 3
   },
   "file_extension": ".py",
   "mimetype": "text/x-python",
   "name": "python",
   "nbconvert_exporter": "python",
   "pygments_lexer": "ipython3",
   "version": "3.9.13"
  }
 },
 "nbformat": 4,
 "nbformat_minor": 5
}
