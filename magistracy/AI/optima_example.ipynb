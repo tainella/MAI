{
 "cells": [
  {
   "cell_type": "code",
   "execution_count": 1,
   "id": "97f5cf3e",
   "metadata": {},
   "outputs": [],
   "source": [
    "import optuna"
   ]
  },
  {
   "cell_type": "markdown",
   "id": "00dc5832",
   "metadata": {},
   "source": [
    "Базовые операции"
   ]
  },
  {
   "cell_type": "code",
   "execution_count": 2,
   "id": "bd196687",
   "metadata": {},
   "outputs": [],
   "source": [
    "def objective(trial):\n",
    "    x = trial.suggest_float(\"x\", -10, 10) #можно оптимизировать категориальные параметры\n",
    "    return (x - 2) ** 2"
   ]
  },
  {
   "cell_type": "code",
   "execution_count": 3,
   "id": "fd15bc15",
   "metadata": {},
   "outputs": [
    {
     "name": "stderr",
     "output_type": "stream",
     "text": [
      "\u001b[32m[I 2022-10-29 13:19:43,445]\u001b[0m A new study created in memory with name: no-name-1b4ff422-98b2-4753-a017-7b192bc5c4f9\u001b[0m\n",
      "\u001b[32m[I 2022-10-29 13:19:43,449]\u001b[0m Trial 0 finished with value: 63.74837584849578 and parameters: {'x': -5.984258002375411}. Best is trial 0 with value: 63.74837584849578.\u001b[0m\n",
      "\u001b[32m[I 2022-10-29 13:19:43,451]\u001b[0m Trial 1 finished with value: 42.07354289442341 and parameters: {'x': 8.486412174262703}. Best is trial 1 with value: 42.07354289442341.\u001b[0m\n",
      "\u001b[32m[I 2022-10-29 13:19:43,452]\u001b[0m Trial 2 finished with value: 2.733906498638373 and parameters: {'x': 0.3465470981493386}. Best is trial 2 with value: 2.733906498638373.\u001b[0m\n",
      "\u001b[32m[I 2022-10-29 13:19:43,453]\u001b[0m Trial 3 finished with value: 8.491861991542066 and parameters: {'x': 4.914079956271287}. Best is trial 2 with value: 2.733906498638373.\u001b[0m\n",
      "\u001b[32m[I 2022-10-29 13:19:43,454]\u001b[0m Trial 4 finished with value: 10.688029858135863 and parameters: {'x': 5.269255245179835}. Best is trial 2 with value: 2.733906498638373.\u001b[0m\n",
      "\u001b[32m[I 2022-10-29 13:19:43,455]\u001b[0m Trial 5 finished with value: 37.76633048192602 and parameters: {'x': -4.145431675800002}. Best is trial 2 with value: 2.733906498638373.\u001b[0m\n",
      "\u001b[32m[I 2022-10-29 13:19:43,456]\u001b[0m Trial 6 finished with value: 77.29357971668759 and parameters: {'x': -6.791676729537295}. Best is trial 2 with value: 2.733906498638373.\u001b[0m\n",
      "\u001b[32m[I 2022-10-29 13:19:43,457]\u001b[0m Trial 7 finished with value: 5.360542922798182 and parameters: {'x': -0.31528463105471793}. Best is trial 2 with value: 2.733906498638373.\u001b[0m\n",
      "\u001b[32m[I 2022-10-29 13:19:43,458]\u001b[0m Trial 8 finished with value: 0.7506444722401633 and parameters: {'x': 1.1336025898929734}. Best is trial 8 with value: 0.7506444722401633.\u001b[0m\n",
      "\u001b[32m[I 2022-10-29 13:19:43,459]\u001b[0m Trial 9 finished with value: 27.569731263353937 and parameters: {'x': -3.25068864658284}. Best is trial 8 with value: 0.7506444722401633.\u001b[0m\n",
      "\u001b[32m[I 2022-10-29 13:20:00,257]\u001b[0m Trial 10 finished with value: 141.49530256846 and parameters: {'x': -9.895179803956728}. Best is trial 8 with value: 0.7506444722401633.\u001b[0m\n",
      "\u001b[32m[I 2022-10-29 13:20:00,263]\u001b[0m Trial 11 finished with value: 0.40200444932698415 and parameters: {'x': 1.365961791902898}. Best is trial 11 with value: 0.40200444932698415.\u001b[0m\n",
      "\u001b[32m[I 2022-10-29 13:20:00,269]\u001b[0m Trial 12 finished with value: 0.7912942854717244 and parameters: {'x': 1.1104527637771424}. Best is trial 11 with value: 0.40200444932698415.\u001b[0m\n",
      "\u001b[32m[I 2022-10-29 13:20:00,273]\u001b[0m Trial 13 finished with value: 0.7848672892541043 and parameters: {'x': 2.885927361161232}. Best is trial 11 with value: 0.40200444932698415.\u001b[0m\n",
      "\u001b[32m[I 2022-10-29 13:20:00,276]\u001b[0m Trial 14 finished with value: 61.80313543028031 and parameters: {'x': 9.861497022214046}. Best is trial 11 with value: 0.40200444932698415.\u001b[0m\n",
      "\u001b[32m[I 2022-10-29 13:20:00,280]\u001b[0m Trial 15 finished with value: 15.603769798640174 and parameters: {'x': -1.9501607307349123}. Best is trial 11 with value: 0.40200444932698415.\u001b[0m\n",
      "\u001b[32m[I 2022-10-29 13:20:00,283]\u001b[0m Trial 16 finished with value: 1.3701585930646303 and parameters: {'x': 3.170537736711051}. Best is trial 11 with value: 0.40200444932698415.\u001b[0m\n",
      "\u001b[32m[I 2022-10-29 13:20:00,286]\u001b[0m Trial 17 finished with value: 24.168730351390085 and parameters: {'x': 6.916170293164191}. Best is trial 11 with value: 0.40200444932698415.\u001b[0m\n",
      "\u001b[32m[I 2022-10-29 13:20:00,289]\u001b[0m Trial 18 finished with value: 0.8019940951865716 and parameters: {'x': 2.8955412303107946}. Best is trial 11 with value: 0.40200444932698415.\u001b[0m\n",
      "\u001b[32m[I 2022-10-29 13:20:00,292]\u001b[0m Trial 19 finished with value: 14.454649330749215 and parameters: {'x': -1.8019270548958741}. Best is trial 11 with value: 0.40200444932698415.\u001b[0m\n",
      "\u001b[32m[I 2022-10-29 13:20:00,295]\u001b[0m Trial 20 finished with value: 0.0035959301115684513 and parameters: {'x': 1.9400339253279952}. Best is trial 20 with value: 0.0035959301115684513.\u001b[0m\n",
      "\u001b[32m[I 2022-10-29 13:20:00,298]\u001b[0m Trial 21 finished with value: 0.8744302772787091 and parameters: {'x': 1.0648902324974308}. Best is trial 20 with value: 0.0035959301115684513.\u001b[0m\n",
      "\u001b[32m[I 2022-10-29 13:20:00,300]\u001b[0m Trial 22 finished with value: 10.840004815231323 and parameters: {'x': 5.292416257891964}. Best is trial 20 with value: 0.0035959301115684513.\u001b[0m\n",
      "\u001b[32m[I 2022-10-29 13:20:00,302]\u001b[0m Trial 23 finished with value: 7.691889555211574 and parameters: {'x': -0.7734255993647232}. Best is trial 20 with value: 0.0035959301115684513.\u001b[0m\n",
      "\u001b[32m[I 2022-10-29 13:20:00,304]\u001b[0m Trial 24 finished with value: 0.049643159630138545 and parameters: {'x': 2.22280744967379}. Best is trial 20 with value: 0.0035959301115684513.\u001b[0m\n",
      "\u001b[32m[I 2022-10-29 13:20:00,307]\u001b[0m Trial 25 finished with value: 2.2133921526609566 and parameters: {'x': 3.4877473416749756}. Best is trial 20 with value: 0.0035959301115684513.\u001b[0m\n",
      "\u001b[32m[I 2022-10-29 13:20:00,310]\u001b[0m Trial 26 finished with value: 23.936819735221473 and parameters: {'x': 6.8925269273884915}. Best is trial 20 with value: 0.0035959301115684513.\u001b[0m\n",
      "\u001b[32m[I 2022-10-29 13:20:00,312]\u001b[0m Trial 27 finished with value: 0.2463585292048022 and parameters: {'x': 2.4963451714329477}. Best is trial 20 with value: 0.0035959301115684513.\u001b[0m\n",
      "\u001b[32m[I 2022-10-29 13:20:00,314]\u001b[0m Trial 28 finished with value: 7.560145007958903 and parameters: {'x': 4.74957178628944}. Best is trial 20 with value: 0.0035959301115684513.\u001b[0m\n",
      "\u001b[32m[I 2022-10-29 13:20:00,316]\u001b[0m Trial 29 finished with value: 0.11275479039721427 and parameters: {'x': 2.335789800913033}. Best is trial 20 with value: 0.0035959301115684513.\u001b[0m\n",
      "\u001b[32m[I 2022-10-29 13:20:00,318]\u001b[0m Trial 30 finished with value: 22.729648767946113 and parameters: {'x': 6.7675621409632525}. Best is trial 20 with value: 0.0035959301115684513.\u001b[0m\n",
      "\u001b[32m[I 2022-10-29 13:20:00,320]\u001b[0m Trial 31 finished with value: 0.009183611477636907 and parameters: {'x': 2.0958311613079843}. Best is trial 20 with value: 0.0035959301115684513.\u001b[0m\n",
      "\u001b[32m[I 2022-10-29 13:20:00,322]\u001b[0m Trial 32 finished with value: 3.271569828875904 and parameters: {'x': 3.8087481385963895}. Best is trial 20 with value: 0.0035959301115684513.\u001b[0m\n",
      "\u001b[32m[I 2022-10-29 13:20:00,324]\u001b[0m Trial 33 finished with value: 0.02654747607620921 and parameters: {'x': 2.1629339623166675}. Best is trial 20 with value: 0.0035959301115684513.\u001b[0m\n",
      "\u001b[32m[I 2022-10-29 13:20:00,326]\u001b[0m Trial 34 finished with value: 8.980651718374286 and parameters: {'x': -0.9967735514006204}. Best is trial 20 with value: 0.0035959301115684513.\u001b[0m\n",
      "\u001b[32m[I 2022-10-29 13:20:00,328]\u001b[0m Trial 35 finished with value: 3.720320538171972 and parameters: {'x': 0.07118675394117746}. Best is trial 20 with value: 0.0035959301115684513.\u001b[0m\n",
      "\u001b[32m[I 2022-10-29 13:20:00,330]\u001b[0m Trial 36 finished with value: 5.938154524038683 and parameters: {'x': 4.436832888000054}. Best is trial 20 with value: 0.0035959301115684513.\u001b[0m\n",
      "\u001b[32m[I 2022-10-29 13:20:00,331]\u001b[0m Trial 37 finished with value: 15.51658440315898 and parameters: {'x': 5.9391095952205974}. Best is trial 20 with value: 0.0035959301115684513.\u001b[0m\n",
      "\u001b[32m[I 2022-10-29 13:20:00,333]\u001b[0m Trial 38 finished with value: 0.007000984244419562 and parameters: {'x': 1.9163281155678948}. Best is trial 20 with value: 0.0035959301115684513.\u001b[0m\n",
      "\u001b[32m[I 2022-10-29 13:20:00,335]\u001b[0m Trial 39 finished with value: 27.23759241130989 and parameters: {'x': -3.2189646876856606}. Best is trial 20 with value: 0.0035959301115684513.\u001b[0m\n",
      "\u001b[32m[I 2022-10-29 13:20:00,336]\u001b[0m Trial 40 finished with value: 40.29343931590504 and parameters: {'x': 8.347711344721422}. Best is trial 20 with value: 0.0035959301115684513.\u001b[0m\n",
      "\u001b[32m[I 2022-10-29 13:20:00,338]\u001b[0m Trial 41 finished with value: 0.049977104030237245 and parameters: {'x': 1.7764444050571822}. Best is trial 20 with value: 0.0035959301115684513.\u001b[0m\n",
      "\u001b[32m[I 2022-10-29 13:20:00,340]\u001b[0m Trial 42 finished with value: 3.08274657806759 and parameters: {'x': 0.24422479284289067}. Best is trial 20 with value: 0.0035959301115684513.\u001b[0m\n",
      "\u001b[32m[I 2022-10-29 13:20:00,342]\u001b[0m Trial 43 finished with value: 0.003673498042372348 and parameters: {'x': 2.0606093890612036}. Best is trial 20 with value: 0.0035959301115684513.\u001b[0m\n",
      "\u001b[32m[I 2022-10-29 13:20:00,343]\u001b[0m Trial 44 finished with value: 4.202519061014264 and parameters: {'x': 4.050004649022598}. Best is trial 20 with value: 0.0035959301115684513.\u001b[0m\n"
     ]
    },
    {
     "name": "stderr",
     "output_type": "stream",
     "text": [
      "\u001b[32m[I 2022-10-29 13:20:00,345]\u001b[0m Trial 45 finished with value: 1.4107085701223074 and parameters: {'x': 0.8122674669260308}. Best is trial 20 with value: 0.0035959301115684513.\u001b[0m\n",
      "\u001b[32m[I 2022-10-29 13:20:00,347]\u001b[0m Trial 46 finished with value: 0.059053679244380985 and parameters: {'x': 1.7569903721158748}. Best is trial 20 with value: 0.0035959301115684513.\u001b[0m\n",
      "\u001b[32m[I 2022-10-29 13:20:00,348]\u001b[0m Trial 47 finished with value: 76.70137414046918 and parameters: {'x': -6.757932069870671}. Best is trial 20 with value: 0.0035959301115684513.\u001b[0m\n",
      "\u001b[32m[I 2022-10-29 13:20:00,350]\u001b[0m Trial 48 finished with value: 13.74517848576873 and parameters: {'x': -1.7074490536983418}. Best is trial 20 with value: 0.0035959301115684513.\u001b[0m\n",
      "\u001b[32m[I 2022-10-29 13:20:00,351]\u001b[0m Trial 49 finished with value: 5.796817715304498 and parameters: {'x': -0.4076581392100702}. Best is trial 20 with value: 0.0035959301115684513.\u001b[0m\n",
      "\u001b[32m[I 2022-10-29 13:20:00,353]\u001b[0m Trial 50 finished with value: 12.776992696836112 and parameters: {'x': 5.574491949471437}. Best is trial 20 with value: 0.0035959301115684513.\u001b[0m\n",
      "\u001b[32m[I 2022-10-29 13:20:00,355]\u001b[0m Trial 51 finished with value: 0.005523934025683132 and parameters: {'x': 1.9256768271285252}. Best is trial 20 with value: 0.0035959301115684513.\u001b[0m\n",
      "\u001b[32m[I 2022-10-29 13:20:00,356]\u001b[0m Trial 52 finished with value: 2.11276006859495 and parameters: {'x': 0.5464663510620231}. Best is trial 20 with value: 0.0035959301115684513.\u001b[0m\n",
      "\u001b[32m[I 2022-10-29 13:20:00,358]\u001b[0m Trial 53 finished with value: 0.002180653134706855 and parameters: {'x': 1.9533025360998388}. Best is trial 53 with value: 0.002180653134706855.\u001b[0m\n",
      "\u001b[32m[I 2022-10-29 13:20:00,360]\u001b[0m Trial 54 finished with value: 1.5526659408503132 and parameters: {'x': 3.2460601674278466}. Best is trial 53 with value: 0.002180653134706855.\u001b[0m\n",
      "\u001b[32m[I 2022-10-29 13:20:00,362]\u001b[0m Trial 55 finished with value: 0.40773892849481663 and parameters: {'x': 1.3614556174432222}. Best is trial 53 with value: 0.002180653134706855.\u001b[0m\n",
      "\u001b[32m[I 2022-10-29 13:20:00,363]\u001b[0m Trial 56 finished with value: 143.36198707916392 and parameters: {'x': -9.973386616958626}. Best is trial 53 with value: 0.002180653134706855.\u001b[0m\n",
      "\u001b[32m[I 2022-10-29 13:20:00,365]\u001b[0m Trial 57 finished with value: 4.023282514803441 and parameters: {'x': 4.005812183332089}. Best is trial 53 with value: 0.002180653134706855.\u001b[0m\n",
      "\u001b[32m[I 2022-10-29 13:20:00,367]\u001b[0m Trial 58 finished with value: 1.275449650760561 and parameters: {'x': 3.1293580702153596}. Best is trial 53 with value: 0.002180653134706855.\u001b[0m\n",
      "\u001b[32m[I 2022-10-29 13:20:00,369]\u001b[0m Trial 59 finished with value: 27.17725433702932 and parameters: {'x': -3.213180827194595}. Best is trial 53 with value: 0.002180653134706855.\u001b[0m\n",
      "\u001b[32m[I 2022-10-29 13:20:00,370]\u001b[0m Trial 60 finished with value: 9.727848645898419 and parameters: {'x': -1.118949926802035}. Best is trial 53 with value: 0.002180653134706855.\u001b[0m\n",
      "\u001b[32m[I 2022-10-29 13:20:00,372]\u001b[0m Trial 61 finished with value: 0.006250261081506157 and parameters: {'x': 2.0790585927113945}. Best is trial 53 with value: 0.002180653134706855.\u001b[0m\n",
      "\u001b[32m[I 2022-10-29 13:20:00,374]\u001b[0m Trial 62 finished with value: 0.15075707000834776 and parameters: {'x': 1.6117255223320135}. Best is trial 53 with value: 0.002180653134706855.\u001b[0m\n",
      "\u001b[32m[I 2022-10-29 13:20:00,375]\u001b[0m Trial 63 finished with value: 0.5722250412366063 and parameters: {'x': 2.756455577834288}. Best is trial 53 with value: 0.002180653134706855.\u001b[0m\n",
      "\u001b[32m[I 2022-10-29 13:20:00,377]\u001b[0m Trial 64 finished with value: 1.6461927202578763 and parameters: {'x': 0.7169595796476729}. Best is trial 53 with value: 0.002180653134706855.\u001b[0m\n",
      "\u001b[32m[I 2022-10-29 13:20:00,379]\u001b[0m Trial 65 finished with value: 5.233532400028972 and parameters: {'x': -0.287691500187246}. Best is trial 53 with value: 0.002180653134706855.\u001b[0m\n",
      "\u001b[32m[I 2022-10-29 13:20:00,380]\u001b[0m Trial 66 finished with value: 6.662482308236483e-07 and parameters: {'x': 2.0008162403021315}. Best is trial 66 with value: 6.662482308236483e-07.\u001b[0m\n",
      "\u001b[32m[I 2022-10-29 13:20:00,382]\u001b[0m Trial 67 finished with value: 0.8332331871744179 and parameters: {'x': 1.0871839247830821}. Best is trial 66 with value: 6.662482308236483e-07.\u001b[0m\n",
      "\u001b[32m[I 2022-10-29 13:20:00,384]\u001b[0m Trial 68 finished with value: 2.264465299394045 and parameters: {'x': 3.5048140414662687}. Best is trial 66 with value: 6.662482308236483e-07.\u001b[0m\n",
      "\u001b[32m[I 2022-10-29 13:20:00,386]\u001b[0m Trial 69 finished with value: 7.231245970786939 and parameters: {'x': 4.689097612729396}. Best is trial 66 with value: 6.662482308236483e-07.\u001b[0m\n",
      "\u001b[32m[I 2022-10-29 13:20:00,387]\u001b[0m Trial 70 finished with value: 0.36783889520224755 and parameters: {'x': 2.606497234290683}. Best is trial 66 with value: 6.662482308236483e-07.\u001b[0m\n",
      "\u001b[32m[I 2022-10-29 13:20:00,389]\u001b[0m Trial 71 finished with value: 0.002567578278133121 and parameters: {'x': 2.050671276657818}. Best is trial 66 with value: 6.662482308236483e-07.\u001b[0m\n",
      "\u001b[32m[I 2022-10-29 13:20:00,391]\u001b[0m Trial 72 finished with value: 0.061219863361143774 and parameters: {'x': 1.7525735192806886}. Best is trial 66 with value: 6.662482308236483e-07.\u001b[0m\n",
      "\u001b[32m[I 2022-10-29 13:20:00,393]\u001b[0m Trial 73 finished with value: 2.7407184809839196 and parameters: {'x': 0.3444884533824841}. Best is trial 66 with value: 6.662482308236483e-07.\u001b[0m\n",
      "\u001b[32m[I 2022-10-29 13:20:00,395]\u001b[0m Trial 74 finished with value: 0.26653666774067547 and parameters: {'x': 2.5162718932313433}. Best is trial 66 with value: 6.662482308236483e-07.\u001b[0m\n",
      "\u001b[32m[I 2022-10-29 13:20:00,397]\u001b[0m Trial 75 finished with value: 2.8402730559327884 and parameters: {'x': 3.685310967131226}. Best is trial 66 with value: 6.662482308236483e-07.\u001b[0m\n",
      "\u001b[32m[I 2022-10-29 13:20:00,399]\u001b[0m Trial 76 finished with value: 0.49467308908590524 and parameters: {'x': 1.2966699998678393}. Best is trial 66 with value: 6.662482308236483e-07.\u001b[0m\n",
      "\u001b[32m[I 2022-10-29 13:20:00,400]\u001b[0m Trial 77 finished with value: 6.875762134843491e-05 and parameters: {'x': 2.008292021547755}. Best is trial 66 with value: 6.662482308236483e-07.\u001b[0m\n",
      "\u001b[32m[I 2022-10-29 13:20:00,402]\u001b[0m Trial 78 finished with value: 0.7921193298441342 and parameters: {'x': 2.890010859396746}. Best is trial 66 with value: 6.662482308236483e-07.\u001b[0m\n",
      "\u001b[32m[I 2022-10-29 13:20:00,404]\u001b[0m Trial 79 finished with value: 5.907391550052874 and parameters: {'x': 4.430512610552118}. Best is trial 66 with value: 6.662482308236483e-07.\u001b[0m\n",
      "\u001b[32m[I 2022-10-29 13:20:00,405]\u001b[0m Trial 80 finished with value: 110.8774838359839 and parameters: {'x': -8.529837787733669}. Best is trial 66 with value: 6.662482308236483e-07.\u001b[0m\n",
      "\u001b[32m[I 2022-10-29 13:20:00,407]\u001b[0m Trial 81 finished with value: 0.01786143730421557 and parameters: {'x': 2.1336466883398746}. Best is trial 66 with value: 6.662482308236483e-07.\u001b[0m\n",
      "\u001b[32m[I 2022-10-29 13:20:00,409]\u001b[0m Trial 82 finished with value: 0.0008273246637022498 and parameters: {'x': 2.0287632519667413}. Best is trial 66 with value: 6.662482308236483e-07.\u001b[0m\n",
      "\u001b[32m[I 2022-10-29 13:20:00,410]\u001b[0m Trial 83 finished with value: 1.388663331244844 and parameters: {'x': 0.8215843979118216}. Best is trial 66 with value: 6.662482308236483e-07.\u001b[0m\n",
      "\u001b[32m[I 2022-10-29 13:20:00,413]\u001b[0m Trial 84 finished with value: 4.389978434296478 and parameters: {'x': -0.09522753759501668}. Best is trial 66 with value: 6.662482308236483e-07.\u001b[0m\n",
      "\u001b[32m[I 2022-10-29 13:20:00,414]\u001b[0m Trial 85 finished with value: 0.3909647225035654 and parameters: {'x': 1.3747282810620927}. Best is trial 66 with value: 6.662482308236483e-07.\u001b[0m\n",
      "\u001b[32m[I 2022-10-29 13:20:00,416]\u001b[0m Trial 86 finished with value: 0.19041362675911402 and parameters: {'x': 2.436364098843058}. Best is trial 66 with value: 6.662482308236483e-07.\u001b[0m\n",
      "\u001b[32m[I 2022-10-29 13:20:00,418]\u001b[0m Trial 87 finished with value: 1.7612236372972125 and parameters: {'x': 3.327111011670543}. Best is trial 66 with value: 6.662482308236483e-07.\u001b[0m\n",
      "\u001b[32m[I 2022-10-29 13:20:00,420]\u001b[0m Trial 88 finished with value: 0.003094448591339485 and parameters: {'x': 2.0556277681678807}. Best is trial 66 with value: 6.662482308236483e-07.\u001b[0m\n",
      "\u001b[32m[I 2022-10-29 13:20:00,422]\u001b[0m Trial 89 finished with value: 4.425117942380626 and parameters: {'x': 4.103596430492462}. Best is trial 66 with value: 6.662482308236483e-07.\u001b[0m\n"
     ]
    },
    {
     "name": "stderr",
     "output_type": "stream",
     "text": [
      "\u001b[32m[I 2022-10-29 13:20:00,424]\u001b[0m Trial 90 finished with value: 7.938673718743399 and parameters: {'x': -0.8175652110897804}. Best is trial 66 with value: 6.662482308236483e-07.\u001b[0m\n",
      "\u001b[32m[I 2022-10-29 13:20:00,426]\u001b[0m Trial 91 finished with value: 0.018718819712945343 and parameters: {'x': 1.863183262307036}. Best is trial 66 with value: 6.662482308236483e-07.\u001b[0m\n",
      "\u001b[32m[I 2022-10-29 13:20:00,427]\u001b[0m Trial 92 finished with value: 0.7222438926332349 and parameters: {'x': 2.8498493352549232}. Best is trial 66 with value: 6.662482308236483e-07.\u001b[0m\n",
      "\u001b[32m[I 2022-10-29 13:20:00,429]\u001b[0m Trial 93 finished with value: 1.4512464868687656 and parameters: {'x': 0.7953230778051879}. Best is trial 66 with value: 6.662482308236483e-07.\u001b[0m\n",
      "\u001b[32m[I 2022-10-29 13:20:00,431]\u001b[0m Trial 94 finished with value: 0.056026136219856464 and parameters: {'x': 2.2366984077256467}. Best is trial 66 with value: 6.662482308236483e-07.\u001b[0m\n",
      "\u001b[32m[I 2022-10-29 13:20:00,432]\u001b[0m Trial 95 finished with value: 3.2572431080153437 and parameters: {'x': 0.19521660357389603}. Best is trial 66 with value: 6.662482308236483e-07.\u001b[0m\n",
      "\u001b[32m[I 2022-10-29 13:20:00,434]\u001b[0m Trial 96 finished with value: 0.6575717445339708 and parameters: {'x': 1.1890920246205672}. Best is trial 66 with value: 6.662482308236483e-07.\u001b[0m\n",
      "\u001b[32m[I 2022-10-29 13:20:00,435]\u001b[0m Trial 97 finished with value: 10.29067612549323 and parameters: {'x': 5.207908372365587}. Best is trial 66 with value: 6.662482308236483e-07.\u001b[0m\n",
      "\u001b[32m[I 2022-10-29 13:20:00,437]\u001b[0m Trial 98 finished with value: 0.1681393254687421 and parameters: {'x': 1.5899520449157902}. Best is trial 66 with value: 6.662482308236483e-07.\u001b[0m\n",
      "\u001b[32m[I 2022-10-29 13:20:00,440]\u001b[0m Trial 99 finished with value: 0.003189199010712726 and parameters: {'x': 2.056472993640436}. Best is trial 66 with value: 6.662482308236483e-07.\u001b[0m\n"
     ]
    }
   ],
   "source": [
    "study = optuna.create_study() #оптимизатор\n",
    "study.optimize(objective, n_trials = 100)"
   ]
  },
  {
   "cell_type": "code",
   "execution_count": 5,
   "id": "a9dbfcce",
   "metadata": {},
   "outputs": [
    {
     "name": "stdout",
     "output_type": "stream",
     "text": [
      "Found x: 2.0008162403021315, (x-2)^2 : 6.662482308236483e-07\n"
     ]
    }
   ],
   "source": [
    "best_params = study.best_params\n",
    "found_x = best_params[\"x\"]\n",
    "print(\"Found x: {}, (x-2)^2 : {}\".format(found_x, (found_x - 2) ** 2))"
   ]
  },
  {
   "cell_type": "code",
   "execution_count": 6,
   "id": "ed9668bc",
   "metadata": {},
   "outputs": [
    {
     "data": {
      "text/plain": [
       "{'x': 2.0008162403021315}"
      ]
     },
     "execution_count": 6,
     "metadata": {},
     "output_type": "execute_result"
    }
   ],
   "source": [
    "best_params"
   ]
  },
  {
   "cell_type": "code",
   "execution_count": 7,
   "id": "d8fea11b",
   "metadata": {},
   "outputs": [
    {
     "data": {
      "text/plain": [
       "6.662482308236483e-07"
      ]
     },
     "execution_count": 7,
     "metadata": {},
     "output_type": "execute_result"
    }
   ],
   "source": [
    "study.best_value #значение функции которую оптимизировали"
   ]
  },
  {
   "cell_type": "markdown",
   "id": "f56e6428",
   "metadata": {},
   "source": [
    "Использование в классическом машинном обучении"
   ]
  },
  {
   "cell_type": "markdown",
   "id": "cea7d590",
   "metadata": {},
   "source": [
    "https://optuna.readthedocs.io/en/stable/tutorial/10_key_features/002_configurations.html"
   ]
  },
  {
   "cell_type": "code",
   "execution_count": 8,
   "id": "09f949b3",
   "metadata": {},
   "outputs": [],
   "source": [
    "import sklearn.ensemble\n",
    "import sklearn.svm\n",
    "\n",
    "def objective(trial):\n",
    "    classifier_name = trial.suggest_categorical(\"classifier\", [\"SVC\", \"RandomForest\"])\n",
    "    if classifier_name == \"SVC\":\n",
    "        svc_c = trial.suggest_float(\"svc_c\", 1e-10, 1e10, log = True)\n",
    "        classifier_obj = sklearn.svm.SVC(C=svc_c)\n",
    "    else:\n",
    "        rf_max_depth = trial.suggest_int(\"rf_max_depth\", 2, 32, log=True)\n",
    "        classifier_obj = sklearn.ensemble.RandomForestClassifier(max_depth=rf_max_depth)"
   ]
  },
  {
   "cell_type": "markdown",
   "id": "651deab1",
   "metadata": {},
   "source": [
    "Метод trial.report среди итераций отправляет наверх управляющему промежуточные значения (aka логирование), использующееся для early stopping"
   ]
  },
  {
   "cell_type": "markdown",
   "id": "3a6c9edf",
   "metadata": {},
   "source": [
    "Самый важный график для отображения - importance"
   ]
  },
  {
   "cell_type": "markdown",
   "id": "44394f79",
   "metadata": {},
   "source": [
    "ДЗ: по примеру https://optuna.readthedocs.io/en/stable/tutorial/10_key_features/005_visualization.html#sphx-glr-tutorial-10-key-features-005-visualization-py\n",
    "    \n",
    "сделать другой датасет\n",
    "        "
   ]
  },
  {
   "cell_type": "code",
   "execution_count": null,
   "id": "2c2c7077",
   "metadata": {},
   "outputs": [],
   "source": []
  }
 ],
 "metadata": {
  "kernelspec": {
   "display_name": "Python 3 (ipykernel)",
   "language": "python",
   "name": "python3"
  },
  "language_info": {
   "codemirror_mode": {
    "name": "ipython",
    "version": 3
   },
   "file_extension": ".py",
   "mimetype": "text/x-python",
   "name": "python",
   "nbconvert_exporter": "python",
   "pygments_lexer": "ipython3",
   "version": "3.9.13"
  }
 },
 "nbformat": 4,
 "nbformat_minor": 5
}
